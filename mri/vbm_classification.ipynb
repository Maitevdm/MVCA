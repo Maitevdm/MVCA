{
 "cells": [
  {
   "cell_type": "code",
   "execution_count": 74,
   "metadata": {
    "collapsed": true
   },
   "outputs": [],
   "source": [
    "import os.path as op\n",
    "from sklearn.externals.joblib import load\n",
    "import pandas as pd\n",
    "import numpy as np\n",
    "\n",
    "from sklearn.model_selection import StratifiedKFold\n",
    "from sklearn.feature_selection import f_classif, SelectKBest\n",
    "from sklearn.pipeline import Pipeline\n",
    "from sklearn.model_selection import cross_val_score\n",
    "from sklearn.preprocessing import StandardScaler\n",
    "from sklearn.svm import SVC\n",
    "from sklearn.metrics import f1_score\n",
    "import matplotlib.pyplot as plt\n",
    "%matplotlib inline\n",
    "from copy import deepcopy"
   ]
  },
  {
   "cell_type": "code",
   "execution_count": 2,
   "metadata": {
    "collapsed": true
   },
   "outputs": [],
   "source": [
    "base_dir = '/media/lukas/goliath/MVCA/PIOP1'\n",
    "behav_file = op.join(base_dir, 'PIOP1_behav_2017_with_brainsize.tsv')"
   ]
  },
  {
   "cell_type": "code",
   "execution_count": 20,
   "metadata": {
    "collapsed": false
   },
   "outputs": [],
   "source": [
    "mvp = load(op.join(base_dir, 'mvp_vbm.jl'))\n",
    "mvp.add_y(behav_file, col_name='Gender', index_col=0, nan_strategy='remove')"
   ]
  },
  {
   "cell_type": "code",
   "execution_count": 4,
   "metadata": {
    "collapsed": false
   },
   "outputs": [],
   "source": [
    "from sklearn.base import BaseEstimator, TransformerMixin\n",
    "\n",
    "class ConfoundRegressor(BaseEstimator, TransformerMixin):\n",
    "    \"\"\" Fits a confound onto y and regresses it out X. \"\"\"\n",
    "\n",
    "    def __init__(self, confound, fit_idx, stack_intercept=True):\n",
    "        \"\"\" Initializes ArrayPermuter object. \"\"\"\n",
    "        \n",
    "        confound = np.array(confound)\n",
    "        \n",
    "        if confound.ndim == 1 or stack_intercept:\n",
    "            intercept = np.ones(confound.shape[0])\n",
    "            confound = np.column_stack((intercept, confound))\n",
    "            \n",
    "        self.confound = confound\n",
    "        self.fit_idx = fit_idx\n",
    "        self.weights_ = None\n",
    "        \n",
    "    def fit(self, X, y=None):\n",
    "        \n",
    "        confound = self.confound[self.fit_idx]\n",
    "        weights = np.zeros((X.shape[1], confound.shape[1]))\n",
    "        \n",
    "        for i in range(X.shape[1]):\n",
    "            b, _, _, _ = np.linalg.lstsq(confound, X[:, i])\n",
    "            weights[i, :] = b\n",
    "        \n",
    "        self.weights_ = weights\n",
    "        \n",
    "        return self\n",
    "\n",
    "    def transform(self, X):\n",
    "        \"\"\" Regresses out confound from X.\n",
    "        \n",
    "        Parameters\n",
    "        ----------\n",
    "        X : ndarray\n",
    "            Numeric (float) array of shape = [n_samples, n_features]\n",
    "        Returns\n",
    "        -------\n",
    "        X_new : ndarray\n",
    "            ndarray with confound-regressed features\n",
    "        \"\"\"\n",
    "        \n",
    "        if X.shape[0] == len(self.fit_idx):\n",
    "            confound = self.confound[self.fit_idx]\n",
    "        else:\n",
    "            tmp_idx = np.ones(self.confound.shape[0], dtype=bool)\n",
    "            tmp_idx[self.fit_idx] = False\n",
    "            confound = self.confound[tmp_idx]\n",
    "        \n",
    "        for i in range(X.shape[1]):\n",
    "            X[:, i] -= np.squeeze(confound.dot(self.weights_[i, :]))\n",
    "\n",
    "        return X"
   ]
  },
  {
   "cell_type": "code",
   "execution_count": 21,
   "metadata": {
    "collapsed": false
   },
   "outputs": [],
   "source": [
    "df = pd.read_csv(behav_file, index_col=0, sep='\\t')\n",
    "confound = df.loc[mvp.common_subjects]['brain_size']"
   ]
  },
  {
   "cell_type": "code",
   "execution_count": 102,
   "metadata": {
    "collapsed": true
   },
   "outputs": [],
   "source": [
    "n_folds = 20"
   ]
  },
  {
   "cell_type": "markdown",
   "metadata": {},
   "source": [
    "## Scenario 1: no confound regression"
   ]
  },
  {
   "cell_type": "code",
   "execution_count": 103,
   "metadata": {
    "collapsed": false
   },
   "outputs": [
    {
     "data": {
      "image/png": "[encoded data removed]",
      "text/plain": [
       "<matplotlib.figure.Figure at 0x7fb8aecf4828>"
      ]
     },
     "metadata": {},
     "output_type": "display_data"
    }
   ],
   "source": [
    "K_vals = [100, 1000, 5000, 10000, 50000, 100000, mvp.X.shape[1]]\n",
    "f1_scores_sce1 = []\n",
    "for K in K_vals:\n",
    "\n",
    "    pipeline = Pipeline([('ufs', SelectKBest(f_classif, k=K)),\n",
    "                     ('scaler', StandardScaler()),\n",
    "                     ('clf', SVC(kernel='linear'))])\n",
    "\n",
    "    f1 = cross_val_score(pipeline, mvp.X, mvp.y, cv=n_folds, scoring='f1_macro', n_jobs=8).mean()\n",
    "    f1_scores_sce1.append(f1)\n",
    "\n",
    "plt.plot(K_vals, f1_scores_sce1)\n",
    "plt.title('Scenario 1')\n",
    "plt.xlabel('K (num voxels)')\n",
    "plt.ylabel('Mean F1-score across folds')\n",
    "plt.show()"
   ]
  },
  {
   "cell_type": "markdown",
   "metadata": {},
   "source": [
    "## Scenario 2: confound regression on entire dataset"
   ]
  },
  {
   "cell_type": "code",
   "execution_count": 104,
   "metadata": {
    "collapsed": false
   },
   "outputs": [],
   "source": [
    "mvp_sce2 = deepcopy(mvp)\n",
    "con_reg = ConfoundRegressor(confound=confound, fit_idx=range(mvp.X.shape[0]))\n",
    "X_reg = con_reg.fit(mvp_sce2.X, mvp_sce2.y).transform(mvp_sce2.X)\n",
    "mvp_sce2.X = X_reg"
   ]
  },
  {
   "cell_type": "code",
   "execution_count": 105,
   "metadata": {
    "collapsed": false
   },
   "outputs": [
    {
     "data": {
      "image/png": "[encoded data removed]",
      "text/plain": [
       "<matplotlib.figure.Figure at 0x7fb90054aeb8>"
      ]
     },
     "metadata": {},
     "output_type": "display_data"
    }
   ],
   "source": [
    "f1_scores_sce2 = []\n",
    "for K in K_vals:\n",
    "    pipeline = Pipeline([('ufs', SelectKBest(f_classif, k=K)),\n",
    "                     ('scaler', StandardScaler()),\n",
    "                     ('clf', SVC(kernel='linear'))])\n",
    "    f1 = cross_val_score(pipeline, mvp_sce2.X, mvp_sce2.y, cv=n_folds, scoring='f1_macro', n_jobs=8).mean()\n",
    "    f1_scores_sce2.append(f1)\n",
    "\n",
    "plt.plot(K_vals, f1_scores_sce2)\n",
    "plt.title('Scenario 2')\n",
    "plt.xlabel('K (num voxels)')\n",
    "plt.ylabel('Mean F1-score across folds')\n",
    "plt.show()"
   ]
  },
  {
   "cell_type": "markdown",
   "metadata": {},
   "source": [
    "## Scenario 3: confound regression on train and cv to test"
   ]
  },
  {
   "cell_type": "code",
   "execution_count": 106,
   "metadata": {
    "collapsed": true
   },
   "outputs": [],
   "source": [
    "from tqdm import tqdm\n",
    "def _parallelize(X, y, K):\n",
    "    skf = StratifiedKFold(n_splits=n_folds)\n",
    "    f1s = []\n",
    "    for train, test in tqdm(skf.split(mvp.X, mvp.y)):\n",
    "        pipeline = Pipeline([('conreg', ConfoundRegressor(confound=confound,\n",
    "                                                          fit_idx=train)),\n",
    "                             ('ufs', SelectKBest(f_classif, k=K)),\n",
    "                             ('scaler', StandardScaler()),\n",
    "                             ('clf', SVC(kernel='linear'))])\n",
    "        pipeline.fit(mvp.X[train], mvp.y[train])\n",
    "        pred = pipeline.predict(mvp.X[test])\n",
    "        f1s.append(f1_score(mvp.y[test], pred))\n",
    "        \n",
    "    return np.mean(f1s)"
   ]
  },
  {
   "cell_type": "code",
   "execution_count": 107,
   "metadata": {
    "collapsed": false
   },
   "outputs": [
    {
     "name": "stderr",
     "output_type": "stream",
     "text": [
      "20it [13:35, 41.30s/it]\n",
      "20it [13:37, 39.88s/it]\n",
      "20it [13:45, 41.42s/it]\n",
      "20it [13:56, 39.97s/it]\n",
      "20it [14:25, 41.10s/it]\n",
      "20it [14:48, 42.12s/it]\n",
      "20it [18:56, 53.13s/it]\n"
     ]
    }
   ],
   "source": [
    "from joblib import Parallel, delayed\n",
    "\n",
    "f1_scores_sce3 = Parallel(n_jobs=10)(delayed(_parallelize)(mvp.X,\n",
    "                                                           mvp.y,\n",
    "                                                           k) for k in K_vals)    "
   ]
  },
  {
   "cell_type": "code",
   "execution_count": 108,
   "metadata": {
    "collapsed": false
   },
   "outputs": [
    {
     "data": {
      "image/png": "[encoded data removed]",
      "text/plain": [
       "<matplotlib.figure.Figure at 0x7fb8adf89668>"
      ]
     },
     "metadata": {},
     "output_type": "display_data"
    }
   ],
   "source": [
    "plt.plot(K_vals, f1_scores_sce3)\n",
    "plt.title('Scenario 3')\n",
    "plt.xlabel('K (num voxels)')\n",
    "plt.ylabel('Mean F1-score across folds')\n",
    "plt.show()"
   ]
  },
  {
   "cell_type": "markdown",
   "metadata": {},
   "source": [
    "## Scenario 4: confound regression on train and test separately"
   ]
  },
  {
   "cell_type": "code",
   "execution_count": 109,
   "metadata": {
    "collapsed": true
   },
   "outputs": [],
   "source": [
    "from tqdm import tqdm\n",
    "def _parallelize2(X, y, K):\n",
    "    skf = StratifiedKFold(n_splits=n_folds)\n",
    "    f1s = []\n",
    "    \n",
    "    pipeline = Pipeline([('ufs', SelectKBest(f_classif, k=K)),\n",
    "                         ('scaler', StandardScaler()),\n",
    "                         ('clf', SVC(kernel='linear'))])\n",
    "    f1s = []\n",
    "    for train, test in tqdm(skf.split(mvp.X, mvp.y)):\n",
    "        pipeline.fit(mvp.X[train], mvp.y[train])\n",
    "        pred = pipeline.predict(mvp.X[test])\n",
    "        f1s.append(f1_score(mvp.y[test], pred))\n",
    "        \n",
    "        cr_train = ConfoundRegressor(confound=confound, fit_idx=train)\n",
    "        train_X, train_y = mvp.X[train], mvp.y[train]\n",
    "        train_X = cr_train.fit(train_X, train_y).transform(train_X)\n",
    "        pipeline.fit(train_X, train_y)\n",
    "    \n",
    "        cr_test = ConfoundRegressor(confound=confound, fit_idx=test)\n",
    "        test_X, test_y = mvp.X[test], mvp.y[test]\n",
    "        test_X = cr_test.fit(test_X, test_y).transform(test_X)\n",
    "        pred = pipeline.predict(test_X)\n",
    "        f1s.append(f1_score(test_y, pred))\n",
    "\n",
    "    return np.mean(f1s)"
   ]
  },
  {
   "cell_type": "code",
   "execution_count": 110,
   "metadata": {
    "collapsed": false
   },
   "outputs": [
    {
     "name": "stderr",
     "output_type": "stream",
     "text": [
      "20it [24:20, 72.41s/it]]\n",
      "20it [24:20, 73.08s/it]\n",
      "20it [24:29, 73.21s/it]\n",
      "20it [24:32, 73.20s/it]\n",
      "20it [25:16, 72.89s/it]\n",
      "20it [26:35, 75.08s/it]]\n",
      "20it [35:06, 97.92s/it] \n"
     ]
    },
    {
     "data": {
      "image/png": "[encoded data removed]",
      "text/plain": [
       "<matplotlib.figure.Figure at 0x7fb8ab975ef0>"
      ]
     },
     "metadata": {},
     "output_type": "display_data"
    }
   ],
   "source": [
    "f1_scores_sce4 = Parallel(n_jobs=10)(delayed(_parallelize2)(mvp.X,\n",
    "                                                           mvp.y,\n",
    "                                                           k) for k in K_vals)   \n",
    "plt.plot(K_vals, f1_scores_sce4)\n",
    "plt.title('Scenario 4')\n",
    "plt.xlabel('K (num voxels)')\n",
    "plt.ylabel('Mean F1-score across folds')\n",
    "plt.show()"
   ]
  },
  {
   "cell_type": "markdown",
   "metadata": {},
   "source": [
    "## Scenario 5: inverse probability weighting"
   ]
  },
  {
   "cell_type": "code",
   "execution_count": 111,
   "metadata": {
    "collapsed": false
   },
   "outputs": [
    {
     "name": "stdout",
     "output_type": "stream",
     "text": [
      "K = 100\n",
      "0.674443611944\n",
      "K = 1000\n",
      "0.676012043512\n",
      "K = 5000\n",
      "0.74632034632\n",
      "K = 10000\n",
      "0.791861471861\n",
      "K = 50000\n",
      "0.866565656566\n",
      "K = 100000\n",
      "0.834873737374\n",
      "K = 412473\n",
      "0.809787157287\n",
      "0.771409146409\n"
     ]
    }
   ],
   "source": [
    "from sklearn.linear_model import LogisticRegression\n",
    "\n",
    "skf = StratifiedKFold(n_splits=n_folds)\n",
    "f1_scores = []\n",
    "    \n",
    "logreg = LogisticRegression()\n",
    "\n",
    "f1_scores_sce5 = []\n",
    "for K in K_vals:\n",
    "    print('K = %i' % K)\n",
    "    pipeline = Pipeline([('ufs', SelectKBest(f_classif, k=K)),\n",
    "                         ('scaler', StandardScaler()),\n",
    "                         ('clf', SVC(kernel='linear'))])\n",
    "    f1s = []\n",
    "    for train, test in skf.split(mvp.X, mvp.y):\n",
    "    \n",
    "        proba = logreg.fit(confound[train][:, np.newaxis],\n",
    "                           mvp.y[train][:, np.newaxis]).predict_proba(confound[train][:, np.newaxis])\n",
    "    \n",
    "        ipw = 1.0/proba[:, 1]\n",
    "        pipeline.fit(mvp.X[train], mvp.y[train], clf__sample_weight=ipw)\n",
    "        pred = pipeline.predict(mvp.X[test])\n",
    "        f1s.append(f1_score(mvp.y[test], pred))\n",
    "    print(np.mean(f1s))\n",
    "    f1_scores_sce5.append(np.mean(f1s))\n",
    "    \n",
    "print(np.mean(f1_scores_sce5))"
   ]
  }
 ],
 "metadata": {
  "kernelspec": {
   "display_name": "Python 3",
   "language": "python",
   "name": "python3"
  },
  "language_info": {
   "codemirror_mode": {
    "name": "ipython",
    "version": 3
   },
   "file_extension": ".py",
   "mimetype": "text/x-python",
   "name": "python",
   "nbconvert_exporter": "python",
   "pygments_lexer": "ipython3",
   "version": "3.6.0"
  }
 },
 "nbformat": 4,
 "nbformat_minor": 2
}
