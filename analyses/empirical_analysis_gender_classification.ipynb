{
 "cells": [
  {
   "cell_type": "markdown",
   "metadata": {},
   "source": [
    "# Notebook with empirical analyses on the influence of confounds in MVPA\n",
    "In this notebook, we evaluate different strategies to deal with confounds in MVPA on empirical data (see [this notebook](LINK) for analyses of simulated data). Here, we try to predict gender (male/female) from structural MRI data (VBM and TBSS data) in face of the confound 'brain size'. We chose 'brain size' as a confound, because one could argue that overall brain size is not an interesting predictive feature in MVPA analyses, as people usually try to investigate more *local* gender differences in brain structure. Note that we only focus on this use case because the data was available; we do not wish to draw any conclusions from the results of this study apart from the statistical issues.\n",
    "\n",
    "### First some imports\n",
    "Make sure you have the latest version of scikit-learn (0.19), pandas (>=0.20.0), and our own skbold package (0.3.3, or preferably from the [master branch on github](https://github.com/lukassnoek/skbold)) installed."
   ]
  },
  {
   "cell_type": "code",
   "execution_count": 1,
   "metadata": {},
   "outputs": [],
   "source": [
    "import os.path as op\n",
    "import pandas as pd\n",
    "import numpy as np\n",
    "from sklearn.model_selection import StratifiedKFold\n",
    "from sklearn.feature_selection import f_classif, SelectKBest\n",
    "from sklearn.pipeline import Pipeline\n",
    "from sklearn.model_selection import cross_val_score\n",
    "from sklearn.preprocessing import StandardScaler\n",
    "from sklearn.svm import SVC\n",
    "from sklearn.metrics import f1_score\n",
    "from sklearn.externals import joblib as jl\n",
    "import seaborn as sns\n",
    "import scipy.stats as stats\n",
    "from copy import deepcopy\n",
    "from tqdm import tqdm_notebook\n",
    "\n",
    "import matplotlib.pyplot as plt\n",
    "%matplotlib inline\n",
    "sns.set(style='whitegrid', context='poster')\n",
    "rc = {\"font.size\":25, \"axes.titlesize\":25, \"axes.labelsize\":25, \n",
    "      \"legend.fontsize\":15, \"xtick.labelsize\": 15,\n",
    "      \"ytick.labelsize\": 15, \"text.usetex\": True}"
   ]
  },
  {
   "cell_type": "markdown",
   "metadata": {},
   "source": [
    "### Loading in the data\n",
    "Below we load in the behavioral data (`PIOP1_behav_2017_with_brainsize.tsv`), which includes our factor-to-decode, \"Gender\", and our confound-of-interest (\"brain_size\"). The feature 'brain size' was calculated as the total amount of non-zero voxels of each subject's gray-matter segmented T1-weighted structural scan (as segmented by [FSL FAST](https://fsl.fmrib.ox.ac.uk/fsl/fslwiki/FAST); FSL v5.0).\n",
    "\n",
    "The voxel patterns are contained in the `Mvp` objects - a data-structure defined in the [skbold](skbold.readthedocs.io) package - in the attribute `X` (a $N$ [subjects] $\\times\\ K$ [voxels] numpy array). Two sets of voxel patterns are loaded: one with VBM data (processed with the standard [FSL-VBM pipeline](https://fsl.fmrib.ox.ac.uk/fsl/fslwiki/FSLVBM)) and one with skeletonized FA-data (processed with the standard [FSL-TBSS pipeline](https://fsl.fmrib.ox.ac.uk/fsl/fslwiki/TBSS) for a total of 217 subjects."
   ]
  },
  {
   "cell_type": "code",
   "execution_count": 3,
   "metadata": {},
   "outputs": [
    {
     "name": "stdout",
     "output_type": "stream",
     "text": [
      "Shape of VBM voxel patterns: (217, 412473)\n",
      "Shape of TBSS voxel patterns: (217, 128340)\n"
     ]
    }
   ],
   "source": [
    "base_dir = '/media/lukas/goliath/MVCA/data/mvp'\n",
    "behav_file = op.join(base_dir, 'PIOP1_behav_2017_MVCA_with_brainsize.tsv')\n",
    "\n",
    "# Load in VBM-mvp ...\n",
    "mvp_vbm = jl.load(op.join(base_dir, 'mvp_vbm.jl'))\n",
    "\n",
    "# ... and add \"Gender\" as \"y\" attribute\n",
    "mvp_vbm.add_y(behav_file, col_name='Gender', index_col=0, nan_strategy='remove')\n",
    "mvp_vbm.y = 1 - (mvp_vbm.y - 1)  # recode from [2, 1] to [0, 1] \n",
    "print(\"Shape of VBM voxel patterns: %s\" % (mvp_vbm.X.shape,))\n",
    "\n",
    "# Same for TBSS\n",
    "mvp_tbss = jl.load(op.join(base_dir, 'mvp_tbss.jl'))\n",
    "mvp_tbss.add_y(behav_file, col_name='Gender', index_col=0, nan_strategy='remove')\n",
    "mvp_tbss.y -= 1\n",
    "print(\"Shape of TBSS voxel patterns: %s\" % (mvp_tbss.X.shape,))"
   ]
  },
  {
   "cell_type": "markdown",
   "metadata": {},
   "source": [
    "Note that the TBSS Mvp contains way fewer voxels due to the fact that `skbold` already removed all 0 voxels (i.e. voxels outside the TBSS skeleton). \n",
    "\n",
    "Now, we load in the confound - brain size - from the same file with \"behavioral\" data:"
   ]
  },
  {
   "cell_type": "code",
   "execution_count": 4,
   "metadata": {},
   "outputs": [],
   "source": [
    "df = pd.read_csv(behav_file, index_col=0, sep='\\t')\n",
    "confound_vbm = df.loc[mvp_vbm.common_subjects]['brain_size']\n",
    "confound_tbss = df.loc[mvp_tbss.common_subjects]['brain_size']"
   ]
  },
  {
   "cell_type": "markdown",
   "metadata": {},
   "source": [
    "### Setting analysis parameters\n",
    "For the first couple of confound strategies (here we call them \"scenarios\"), we set some default parameters for our MVPA pipelines."
   ]
  },
  {
   "cell_type": "code",
   "execution_count": 5,
   "metadata": {},
   "outputs": [],
   "source": [
    "n_folds = 10  # used in stratified K-fold\n",
    "n_jobs = 8    # for parallel execution of pipelines through joblib\n",
    "\n",
    "# Make a dict of both Mvps\n",
    "mvp = dict(vbm=mvp_vbm, tbss=mvp_tbss)\n",
    "\n",
    "# ... same for confounds (although they're the same here)\n",
    "confound = dict(vbm=confound_vbm[:, np.newaxis],\n",
    "                tbss=confound_tbss[:, np.newaxis])\n",
    "\n",
    "# We're going to evaluate the scenarios for different amounts of voxels\n",
    "num_vox = np.round(np.logspace(2, 5, num=8)).astype(int)\n",
    "\n",
    "# We'll use F1-score as an evaluation metric because our classes\n",
    "# are be slightly imbalanced (i.e. more female than male subjects)\n",
    "metric = 'f1_macro'\n",
    "\n",
    "# The default pipeline we'll use: \n",
    "# - univariate feature selection (f-test)\n",
    "# - zero-mean / unit std scaling\n",
    "# - linear SVM\n",
    "pipeline = Pipeline([('ufs', SelectKBest(f_classif, k=None)),\n",
    "                     ('scaler', StandardScaler()),\n",
    "                     ('clf', SVC(kernel='linear'))])"
   ]
  },
  {
   "cell_type": "markdown",
   "metadata": {},
   "source": [
    "## Sanity check: does brain-size predict gender?\n",
    "Before anything else, we should evaluate whether brain-size is truly a confound. We do this in two ways. First, we can simply calculate the correlation between brain size and gender (or, more aptly, the 'pointbiserial correlation')."
   ]
  },
  {
   "cell_type": "code",
   "execution_count": 7,
   "metadata": {},
   "outputs": [
    {
     "name": "stdout",
     "output_type": "stream",
     "text": [
      "Correlation (p-value) between brain-size and gender: 0.645 (0.0000)\n"
     ]
    }
   ],
   "source": [
    "# Note that we use the VBM mvp object here, but given that the confound and gender-factor is \n",
    "# exactly the same for both VBM/TBSS (i.e., they contain the same subjects), we just pick VBM\n",
    "corr, pval = stats.pearsonr(confound['vbm'].squeeze(), mvp['vbm'].y)\n",
    "print(\"Correlation (p-value) between brain-size and gender: %.3f (%.4f)\" % (corr, pval))"
   ]
  },
  {
   "cell_type": "markdown",
   "metadata": {},
   "source": [
    "Next to calculating the simple correlation, we can also evualate dependence by using the [Same Analysis Approach](https://arxiv.org/abs/1703.06670) (SAA) suggested by Görgen and colleagues. SAA suggests to simply use your potential confound as a single feature in a classification analysis. Here, we can use brain size as a single predictor in a model trying to predict gender.\n",
    "\n",
    "Let's find out:"
   ]
  },
  {
   "cell_type": "code",
   "execution_count": 8,
   "metadata": {},
   "outputs": [
    {
     "data": {
      "image/png": "[encoded data removed]",
      "text/plain": [
       "<matplotlib.figure.Figure at 0x7f0317e27f98>"
      ]
     },
     "metadata": {},
     "output_type": "display_data"
    }
   ],
   "source": [
    "# We leave out univariate feature selection, but include the scaler\n",
    "pipeline_check = Pipeline([('scaler', StandardScaler()),\n",
    "                           ('clf', SVC(kernel='linear'))])\n",
    "\n",
    "# Confound and y are the same for VBM & TBSS\n",
    "this_mvp, this_confound = mvp['vbm'], confound['vbm']\n",
    "scores = cross_val_score(pipeline_check, this_confound, this_mvp.y,\n",
    "                         cv=n_folds, scoring=metric, n_jobs=n_jobs)\n",
    "results_check = {'scores': scores}\n",
    "df_check = pd.DataFrame(results_check)\n",
    "\n",
    "with sns.plotting_context(rc=rc):\n",
    "    fig = plt.gcf()\n",
    "    fig.set_size_inches((9.6, 4.01))\n",
    "    g = sns.boxplot(df_check['scores'], width=0.4, orient='h', palette=\"muted\")\n",
    "    g.set(xlim=(.4, 1), xlabel='F1-score')\n",
    "    plt.axvline(x=0.5, c='black', ls='dashed')\n",
    "    plt.show()"
   ]
  },
  {
   "cell_type": "markdown",
   "metadata": {},
   "source": [
    "Conclusion: yes, very accurately so (F1 > 0.8)! Thus, we can conclude that 'brain size' is a potential confound in our analyses!"
   ]
  },
  {
   "cell_type": "markdown",
   "metadata": {},
   "source": [
    "## Distribution of correlation between voxels and gender & voxels and brain-size\n",
    "Now, it might be informative to check the dependence between our voxels (in both the VBM and TBSS) and gender, just to get an intuition on how the distribution of correlations looks like. This kind of amounts to a mass-univariate analysis. But, importantly, we also quickly take a look at how this distribution changes when we account for brain-size (that is, we regress brain-size out of each feature/voxel). Later in this notebook, we elaborate more on this method!"
   ]
  },
  {
   "cell_type": "markdown",
   "metadata": {},
   "source": [
    "First, we'll regress out brain-size from each voxel (using simple OLS). In other words, the new data will contain the residuals from the model: $voxel = \\beta_{0} + \\beta_{1} brainsize + \\epsilon$"
   ]
  },
  {
   "cell_type": "code",
   "execution_count": 9,
   "metadata": {},
   "outputs": [
    {
     "data": {
      "application/vnd.jupyter.widget-view+json": {
       "model_id": "54a90c4769264064aadd44e0cbadf4d5"
      }
     },
     "metadata": {},
     "output_type": "display_data"
    },
    {
     "name": "stdout",
     "output_type": "stream",
     "text": [
      "\n"
     ]
    },
    {
     "data": {
      "application/vnd.jupyter.widget-view+json": {
       "model_id": "192bf25fd2b0476f95b0a52470c2c31b"
      }
     },
     "metadata": {},
     "output_type": "display_data"
    },
    {
     "name": "stdout",
     "output_type": "stream",
     "text": [
      "\n"
     ]
    }
   ],
   "source": [
    "mvp_no_brainsize = dict()\n",
    "        \n",
    "for modality in ['vbm', 'tbss']:\n",
    "    design = np.hstack((np.ones((mvp[modality].X.shape[0], 1)),\n",
    "                        confound[modality]))\n",
    "\n",
    "    tmp = deepcopy(mvp[modality])\n",
    "    \n",
    "    for vox in tqdm_notebook(range(mvp[modality].X.shape[1]), desc='regression (%s)' % modality):\n",
    "        beta = np.linalg.lstsq(design, mvp[modality].X[:, vox])[0]\n",
    "        tmp.X[:, vox] -= beta.dot(design.T) \n",
    "    mvp_no_brainsize[modality] = tmp"
   ]
  },
  {
   "cell_type": "markdown",
   "metadata": {},
   "source": [
    "Now, let's check the distribution of correlations between the voxels and gender, both before and after regressing out the confound."
   ]
  },
  {
   "cell_type": "code",
   "execution_count": 16,
   "metadata": {},
   "outputs": [
    {
     "data": {
      "application/vnd.jupyter.widget-view+json": {
       "model_id": "b8ab0004cdf94c65a267e0f670513317"
      }
     },
     "metadata": {},
     "output_type": "display_data"
    },
    {
     "name": "stdout",
     "output_type": "stream",
     "text": [
      "\n"
     ]
    },
    {
     "data": {
      "application/vnd.jupyter.widget-view+json": {
       "model_id": "795581786bf441fdb7173151f4a7ebf4"
      }
     },
     "metadata": {},
     "output_type": "display_data"
    },
    {
     "name": "stdout",
     "output_type": "stream",
     "text": [
      "\n"
     ]
    }
   ],
   "source": [
    "corrs_Xy = dict(corrs=[], type=[], modality=[])\n",
    "\n",
    "for modality in ['vbm', 'tbss']:\n",
    "\n",
    "    for vox in tqdm_notebook(range(mvp[modality].X.shape[1]), desc='Analyzing %s' % modality):\n",
    "        corrs_Xy['corrs'].append(stats.pearsonr(mvp[modality].X[:, vox], mvp[modality].y)[0])\n",
    "        corrs_Xy['type'].append('original')\n",
    "        corrs_Xy['modality'].append(modality.upper())\n",
    "        corrs_Xy['corrs'].append(stats.pearsonr(mvp_no_brainsize[modality].X[:, vox], mvp[modality].y)[0])\n",
    "        corrs_Xy['type'].append('corrected')\n",
    "        corrs_Xy['modality'].append(modality.upper())"
   ]
  },
  {
   "cell_type": "markdown",
   "metadata": {},
   "source": [
    "And let's plot it!"
   ]
  },
  {
   "cell_type": "code",
   "execution_count": 26,
   "metadata": {},
   "outputs": [
    {
     "data": {
      "image/png": "[encoded data removed]",
      "text/plain": [
       "<matplotlib.figure.Figure at 0x7f02fa38add8>"
      ]
     },
     "metadata": {},
     "output_type": "display_data"
    }
   ],
   "source": [
    "corrs_Xy_df = pd.DataFrame(corrs_Xy)\n",
    "\n",
    "with sns.plotting_context(rc=rc):\n",
    "    colorpalette = dict(original=\"darkorange\", corrected=\"darkviolet\")\n",
    "    g = sns.FacetGrid(corrs_Xy_df, col='modality', hue='type', legend_out=True, size=5, palette=colorpalette)\n",
    "    g = g.map(sns.distplot, \"corrs\")\n",
    "    g.add_legend(title='')\n",
    "    g.set(xlabel=r'$\\rho$(X, y)')\n",
    "    fig = plt.gcf()\n",
    "    fig.set_size_inches((9.6, 4.01))\n",
    "    plt.show()"
   ]
  },
  {
   "cell_type": "markdown",
   "metadata": {},
   "source": [
    "And let's calculate some descriptive statistics:"
   ]
  },
  {
   "cell_type": "code",
   "execution_count": 30,
   "metadata": {},
   "outputs": [
    {
     "data": {
      "text/html": [
       "<div>\n",
       "<style>\n",
       "    .dataframe thead tr:only-child th {\n",
       "        text-align: right;\n",
       "    }\n",
       "\n",
       "    .dataframe thead th {\n",
       "        text-align: left;\n",
       "    }\n",
       "\n",
       "    .dataframe tbody tr th {\n",
       "        vertical-align: top;\n",
       "    }\n",
       "</style>\n",
       "<table border=\"1\" class=\"dataframe\">\n",
       "  <thead>\n",
       "    <tr style=\"text-align: right;\">\n",
       "      <th></th>\n",
       "      <th>count</th>\n",
       "      <th>mean</th>\n",
       "      <th>std</th>\n",
       "      <th>min</th>\n",
       "      <th>25%</th>\n",
       "      <th>50%</th>\n",
       "      <th>75%</th>\n",
       "      <th>max</th>\n",
       "    </tr>\n",
       "    <tr>\n",
       "      <th>modality</th>\n",
       "      <th></th>\n",
       "      <th></th>\n",
       "      <th></th>\n",
       "      <th></th>\n",
       "      <th></th>\n",
       "      <th></th>\n",
       "      <th></th>\n",
       "      <th></th>\n",
       "    </tr>\n",
       "  </thead>\n",
       "  <tbody>\n",
       "    <tr>\n",
       "      <th>TBSS</th>\n",
       "      <td>256680.0</td>\n",
       "      <td>-0.004726</td>\n",
       "      <td>0.079582</td>\n",
       "      <td>-0.422222</td>\n",
       "      <td>-0.054353</td>\n",
       "      <td>-0.003623</td>\n",
       "      <td>0.046260</td>\n",
       "      <td>0.391171</td>\n",
       "    </tr>\n",
       "    <tr>\n",
       "      <th>VBM</th>\n",
       "      <td>824946.0</td>\n",
       "      <td>-0.000642</td>\n",
       "      <td>0.086781</td>\n",
       "      <td>-0.396356</td>\n",
       "      <td>-0.056680</td>\n",
       "      <td>-0.002260</td>\n",
       "      <td>0.054363</td>\n",
       "      <td>0.424509</td>\n",
       "    </tr>\n",
       "  </tbody>\n",
       "</table>\n",
       "</div>"
      ],
      "text/plain": [
       "             count      mean       std       min       25%       50%  \\\n",
       "modality                                                               \n",
       "TBSS      256680.0 -0.004726  0.079582 -0.422222 -0.054353 -0.003623   \n",
       "VBM       824946.0 -0.000642  0.086781 -0.396356 -0.056680 -0.002260   \n",
       "\n",
       "               75%       max  \n",
       "modality                      \n",
       "TBSS      0.046260  0.391171  \n",
       "VBM       0.054363  0.424509  "
      ]
     },
     "execution_count": 30,
     "metadata": {},
     "output_type": "execute_result"
    }
   ],
   "source": [
    "corrs_Xy_df.groupby('modality').corrs.describe()"
   ]
  },
  {
   "cell_type": "markdown",
   "metadata": {},
   "source": [
    "What we see in the plot above makes sense: after removing variance in X associated with brain-size, the correlation distribution (between voxels and gender) becomes more narrow (but, as explained in the [notebook with simulations](simulation_confound_strategies.ipynb), this is *too narrow*, which we'll discuss later)!\n",
    "\n",
    "Moreover, let's check out the dependence between the voxels and brainsize:"
   ]
  },
  {
   "cell_type": "code",
   "execution_count": 35,
   "metadata": {},
   "outputs": [
    {
     "data": {
      "application/vnd.jupyter.widget-view+json": {
       "model_id": "ac6afbbac15e42a788316c8e53a58c13"
      }
     },
     "metadata": {},
     "output_type": "display_data"
    },
    {
     "name": "stdout",
     "output_type": "stream",
     "text": [
      "\n"
     ]
    },
    {
     "data": {
      "application/vnd.jupyter.widget-view+json": {
       "model_id": "baf5131f47cd468b861adb4b14058b95"
      }
     },
     "metadata": {},
     "output_type": "display_data"
    },
    {
     "name": "stdout",
     "output_type": "stream",
     "text": [
      "\n"
     ]
    }
   ],
   "source": [
    "corrs_Xc = dict(corrs=[], modality=[])\n",
    "\n",
    "for modality in ['vbm', 'tbss']:\n",
    "    \n",
    "    for vox in tqdm_notebook(range(mvp[modality].X.shape[1]), desc='analyzing %s' % modality):\n",
    "        corrs_Xc['corrs'].append(stats.pearsonr(mvp[modality].X[:, vox], confound[modality].squeeze())[0])\n",
    "        corrs_Xc['modality'].append(modality.upper())"
   ]
  },
  {
   "cell_type": "markdown",
   "metadata": {},
   "source": [
    "Let's check out some descriptive statistics:"
   ]
  },
  {
   "cell_type": "code",
   "execution_count": 36,
   "metadata": {},
   "outputs": [
    {
     "data": {
      "text/html": [
       "<div>\n",
       "<style>\n",
       "    .dataframe thead tr:only-child th {\n",
       "        text-align: right;\n",
       "    }\n",
       "\n",
       "    .dataframe thead th {\n",
       "        text-align: left;\n",
       "    }\n",
       "\n",
       "    .dataframe tbody tr th {\n",
       "        vertical-align: top;\n",
       "    }\n",
       "</style>\n",
       "<table border=\"1\" class=\"dataframe\">\n",
       "  <thead>\n",
       "    <tr style=\"text-align: right;\">\n",
       "      <th></th>\n",
       "      <th>count</th>\n",
       "      <th>mean</th>\n",
       "      <th>std</th>\n",
       "      <th>min</th>\n",
       "      <th>25%</th>\n",
       "      <th>50%</th>\n",
       "      <th>75%</th>\n",
       "      <th>max</th>\n",
       "    </tr>\n",
       "    <tr>\n",
       "      <th>modality</th>\n",
       "      <th></th>\n",
       "      <th></th>\n",
       "      <th></th>\n",
       "      <th></th>\n",
       "      <th></th>\n",
       "      <th></th>\n",
       "      <th></th>\n",
       "      <th></th>\n",
       "    </tr>\n",
       "  </thead>\n",
       "  <tbody>\n",
       "    <tr>\n",
       "      <th>TBSS</th>\n",
       "      <td>128340.0</td>\n",
       "      <td>0.042163</td>\n",
       "      <td>0.095494</td>\n",
       "      <td>-0.332083</td>\n",
       "      <td>-0.022008</td>\n",
       "      <td>0.041546</td>\n",
       "      <td>0.105466</td>\n",
       "      <td>0.449613</td>\n",
       "    </tr>\n",
       "    <tr>\n",
       "      <th>VBM</th>\n",
       "      <td>412473.0</td>\n",
       "      <td>0.004289</td>\n",
       "      <td>0.120971</td>\n",
       "      <td>-0.469915</td>\n",
       "      <td>-0.070307</td>\n",
       "      <td>0.008343</td>\n",
       "      <td>0.083418</td>\n",
       "      <td>0.420398</td>\n",
       "    </tr>\n",
       "  </tbody>\n",
       "</table>\n",
       "</div>"
      ],
      "text/plain": [
       "             count      mean       std       min       25%       50%  \\\n",
       "modality                                                               \n",
       "TBSS      128340.0  0.042163  0.095494 -0.332083 -0.022008  0.041546   \n",
       "VBM       412473.0  0.004289  0.120971 -0.469915 -0.070307  0.008343   \n",
       "\n",
       "               75%       max  \n",
       "modality                      \n",
       "TBSS      0.105466  0.449613  \n",
       "VBM       0.083418  0.420398  "
      ]
     },
     "execution_count": 36,
     "metadata": {},
     "output_type": "execute_result"
    }
   ],
   "source": [
    "corrs_Xc_df = pd.DataFrame(corrs_Xc)\n",
    "corrs_Xc_df.groupby('modality').corrs.describe()"
   ]
  },
  {
   "cell_type": "markdown",
   "metadata": {},
   "source": [
    "And plot it:"
   ]
  },
  {
   "cell_type": "code",
   "execution_count": 39,
   "metadata": {},
   "outputs": [
    {
     "data": {
      "image/png": "[encoded data removed]",
      "text/plain": [
       "<matplotlib.figure.Figure at 0x7f02d7d6beb8>"
      ]
     },
     "metadata": {},
     "output_type": "display_data"
    }
   ],
   "source": [
    "with sns.plotting_context(rc=rc):\n",
    "    g = sns.FacetGrid(corrs_Xc_df, col='modality', hue='modality', legend_out=True, size=5, palette=\"muted\")\n",
    "    g = g.map(sns.distplot, \"corrs\")\n",
    "    g.add_legend(title='')\n",
    "    g.set(xlabel=r'$\\rho$(X, c)')\n",
    "    fig = plt.gcf()\n",
    "    fig.set_size_inches((9.6, 4.01))\n",
    "    plt.show()"
   ]
  },
  {
   "cell_type": "markdown",
   "metadata": {},
   "source": [
    "We see that brain-size is quite correlated with our brain data! In the next sections, we'll test out different methods to deal with these confounding influences in multivoxel pattern analyses. First, we'll check how our proposed method - confound regression - does."
   ]
  },
  {
   "cell_type": "markdown",
   "metadata": {},
   "source": [
    "## Scenario 1: no confound regression\n",
    "Now, for a baseline analysis, let's predict gender based on TBSS and VBM data for different amounts of voxels included in the analyses (as selected by `f_classif`):"
   ]
  },
  {
   "cell_type": "code",
   "execution_count": 40,
   "metadata": {},
   "outputs": [
    {
     "data": {
      "application/vnd.jupyter.widget-view+json": {
       "model_id": "f880bc9293a04f3bb39144d530d1d9c1"
      }
     },
     "metadata": {},
     "output_type": "display_data"
    },
    {
     "name": "stdout",
     "output_type": "stream",
     "text": [
      "\n"
     ]
    },
    {
     "data": {
      "application/vnd.jupyter.widget-view+json": {
       "model_id": "eb34ec42c0694448bc14525708bb58ec"
      }
     },
     "metadata": {},
     "output_type": "display_data"
    },
    {
     "name": "stdout",
     "output_type": "stream",
     "text": [
      "\n"
     ]
    }
   ],
   "source": [
    "results_sce1 = dict(n_vox=[], score=[], modality=[])\n",
    "\n",
    "for modality in ['vbm', 'tbss']:\n",
    "    this_mvp = mvp[modality]\n",
    "    for i, nV in enumerate(tqdm_notebook(np.append(num_vox, this_mvp.X.shape[1]),\n",
    "                                         desc='analyzing %s' % modality)):\n",
    "        \n",
    "        pipeline.set_params(ufs__k=nV)\n",
    "        scores = cross_val_score(pipeline, this_mvp.X, this_mvp.y,\n",
    "                                 cv=n_folds, scoring=metric, n_jobs=1)\n",
    "        results_sce1['n_vox'].extend([nV] * n_folds)\n",
    "        results_sce1['score'].extend(scores.tolist())\n",
    "        results_sce1['modality'].extend([modality] * n_folds)"
   ]
  },
  {
   "cell_type": "markdown",
   "metadata": {},
   "source": [
    "Let's plot the results (the dashed line is chance level performance):"
   ]
  },
  {
   "cell_type": "code",
   "execution_count": 43,
   "metadata": {},
   "outputs": [
    {
     "data": {
      "text/plain": [
       "<matplotlib.figure.Figure at 0x7f02fa38a080>"
      ]
     },
     "metadata": {},
     "output_type": "display_data"
    },
    {
     "data": {
      "image/png": "[encoded data removed]",
      "text/plain": [
       "<matplotlib.figure.Figure at 0x7f02d6f06ba8>"
      ]
     },
     "metadata": {},
     "output_type": "display_data"
    }
   ],
   "source": [
    "results_sce1_df = pd.DataFrame(results_sce1)\n",
    "results_sce1_df['method'] = ['none'] * len(results_sce1_df)\n",
    "with sns.plotting_context(rc=rc):\n",
    "    fig = plt.gcf()\n",
    "    fig.set_size_inches((9.6, 4.01))\n",
    "    g = sns.factorplot(x='n_vox', y='score', hue='modality', data=results_sce1_df, size=5, aspect=2, legend_out=False,\n",
    "                       palette=\"muted\", legend=False)\n",
    "    g.set(ylim=(0, 1), ylabel='F1-score', xlabel='N voxels')\n",
    "    plt.axhline(y=0.5, c='black', ls='dashed')\n",
    "    plt.legend(title='Modality', bbox_to_anchor=(1.02, 1), loc=2, borderaxespad=0.)\n",
    "    plt.show()"
   ]
  },
  {
   "cell_type": "markdown",
   "metadata": {},
   "source": [
    "As you can see, performance is far above chance, but it is unclear what drives our results ([which is in general a problem in MVPA](http://www.sciencedirect.com/science/article/pii/S1364661315001692) ...): some 'true signal' or signal confounded by brain size? \n",
    "\n",
    "Let's look at some other scenarios which try to deal with the brain-size confound and check to what extent it drives classification performance."
   ]
  },
  {
   "cell_type": "markdown",
   "metadata": {},
   "source": [
    "## Scenario 2: confound regression on entire dataset\n",
    "First, we'll evaluate the strategy that is sometimes adopted: regressing out the confound from the entire data-set (here: `X`) at once (like in [this article](http://www.sciencedirect.com/science/article/pii/S1053811913002887)), like we did when we compared the correlation distributions of the voxels and gender/brain-size between \"uncorrected\" and \"corrected\" data. \n",
    "\n",
    "In the rest of the notebook, we'll discuss and demonstrate different ways of regressing out a confound from the data (`X`), and to reduce the boilerplate code, we wrote a custom `scikit-learn`-style \"transformer\" class that does exactly this: take a confound upon initialization and subsequently fits a model using the confound to predict each feature in `X` during `fit(X)`, and subsequently regresses out the confound from each feature in `X` during `transform(X)` (in a scikit-learn style). \n",
    "\n",
    "For more info on the exact implementation of the `ConfoundRegressor` object, check the [skbold Github repo](https://github.com/lukassnoek/skbold/blob/master/skbold/preproc/confounds.py).\n",
    "\n",
    "Assuming that the latest version of `skbold` is installed on the system, let's import the `ConfoundRegressor` class."
   ]
  },
  {
   "cell_type": "code",
   "execution_count": 44,
   "metadata": {},
   "outputs": [],
   "source": [
    "from skbold.preproc.confounds import ConfoundRegressor"
   ]
  },
  {
   "cell_type": "markdown",
   "metadata": {},
   "source": [
    "Earlier we already regressed out brain-size from our data (`X`) and stored it in the dictionary `mvp_no_brainsize`. \n",
    "Let's now use this data (instead of the 'uncorrected' data) in a classification analysis:"
   ]
  },
  {
   "cell_type": "code",
   "execution_count": 46,
   "metadata": {},
   "outputs": [
    {
     "data": {
      "application/vnd.jupyter.widget-view+json": {
       "model_id": "c5d6382867c545bca20fd743302c6111"
      }
     },
     "metadata": {},
     "output_type": "display_data"
    },
    {
     "name": "stdout",
     "output_type": "stream",
     "text": [
      "\n"
     ]
    },
    {
     "data": {
      "application/vnd.jupyter.widget-view+json": {
       "model_id": "dfe80e42668b4aecb1d4e289babd0653"
      }
     },
     "metadata": {},
     "output_type": "display_data"
    },
    {
     "name": "stdout",
     "output_type": "stream",
     "text": [
      "\n"
     ]
    }
   ],
   "source": [
    "results_sce2 = dict(n_vox=[], score=[], modality=[])\n",
    "\n",
    "for modality in ['vbm', 'tbss']:\n",
    "    \n",
    "    this_mvp = mvp_no_brainsize[modality]\n",
    "    \n",
    "    for i, nV in enumerate(tqdm_notebook(np.append(num_vox, this_mvp.X.shape[1]),\n",
    "                                                   desc='analyzing %s' % modality)):\n",
    "        \n",
    "        pipeline.set_params(ufs__k=nV)\n",
    "        scores = cross_val_score(pipeline, this_mvp.X, this_mvp.y,\n",
    "                                 cv=n_folds, scoring=metric, n_jobs=-1)\n",
    "        results_sce2['n_vox'].extend([nV] * n_folds)\n",
    "        results_sce2['score'].extend(scores.tolist())\n",
    "        results_sce2['modality'].extend([modality] * n_folds)"
   ]
  },
  {
   "cell_type": "code",
   "execution_count": 47,
   "metadata": {},
   "outputs": [
    {
     "data": {
      "image/png": "[encoded data removed]",
      "text/plain": [
       "<matplotlib.figure.Figure at 0x7f02fb4d86a0>"
      ]
     },
     "metadata": {},
     "output_type": "display_data"
    }
   ],
   "source": [
    "results_sce2_df = pd.DataFrame(results_sce2)\n",
    "results_sce2_df['method'] = ['regress_no_cv'] * len(results_sce2_df)\n",
    "\n",
    "with sns.plotting_context(rc=rc):\n",
    "    ax = sns.factorplot(x='n_vox', y='score', hue='modality', data=results_sce2_df, size=5, aspect=2, legend_out=False,\n",
    "                        palette='muted', legend=False)\n",
    "    ax.set(ylim=(0, 1), ylabel='F1-score', xlabel='N voxels')\n",
    "    plt.axhline(y=0.5, c='black', ls='dashed')\n",
    "    fig = plt.gcf()\n",
    "    fig.set_size_inches((9.6, 4.01))\n",
    "    plt.legend(title='Modality', bbox_to_anchor=(1.02, 1), loc=2, borderaxespad=0.)\n",
    "    plt.show()"
   ]
  },
  {
   "cell_type": "markdown",
   "metadata": {},
   "source": [
    "**What is happening??** We see that classification performance quickly drops under chance level with an increasing number of voxels in our analyses... As we argue in our paper and show in our simulations (see [this](simulation_confound_strategies.ipynb) notebook), this is due to the fact that we've regressed out our confound on the *entire data-set (X)*, which causes the distribution of correlations between features (`X`) and the target (`y`) to become too narrow (i.e., narrower than expected by chance)."
   ]
  },
  {
   "cell_type": "code",
   "execution_count": 69,
   "metadata": {},
   "outputs": [
    {
     "data": {
      "application/vnd.jupyter.widget-view+json": {
       "model_id": "c43761fad88e4af68474f6565a809954"
      }
     },
     "metadata": {},
     "output_type": "display_data"
    },
    {
     "name": "stderr",
     "output_type": "stream",
     "text": [
      "/media/lukas/goliath/MVCA/analyses/utils.py:7: RuntimeWarning: divide by zero encountered in log\n",
      "  lnum = np.log(n-2) + gammaln(n-1) + np.log((1-rho**2)**(.5*(n-1))) + np.log((1-rs**2)**(.5*(n-4)))\n"
     ]
    },
    {
     "name": "stdout",
     "output_type": "stream",
     "text": [
      "Analytic: 0.060\n",
      "Observed: 0.018\n",
      "Analytic: 0.061\n",
      "Observed: 0.025\n",
      "Analytic: 0.064\n",
      "Observed: 0.155\n",
      "Analytic: 0.066\n",
      "Observed: 0.181\n",
      "Analytic: 0.067\n",
      "Observed: 0.199\n",
      "Analytic: 0.068\n",
      "Observed: 0.184\n",
      "Analytic: 0.068\n",
      "Observed: 0.157\n",
      "Analytic: 0.068\n",
      "Observed: 0.125\n",
      "Analytic: 0.068\n",
      "Observed: 0.072\n",
      "\n"
     ]
    },
    {
     "data": {
      "application/vnd.jupyter.widget-view+json": {
       "model_id": "3afeedc0a1ba4200bec65ee321790b38"
      }
     },
     "metadata": {},
     "output_type": "display_data"
    },
    {
     "name": "stdout",
     "output_type": "stream",
     "text": [
      "Analytic: 0.064\n",
      "Observed: 0.068\n",
      "Analytic: 0.065\n",
      "Observed: 0.093\n",
      "Analytic: 0.066\n",
      "Observed: 0.127\n",
      "Analytic: 0.067\n",
      "Observed: 0.135\n",
      "Analytic: 0.068\n",
      "Observed: 0.135\n",
      "Analytic: 0.068\n",
      "Observed: 0.121\n",
      "Analytic: 0.068\n",
      "Observed: 0.099\n",
      "Analytic: 0.068\n",
      "Observed: 0.070\n",
      "Analytic: 0.068\n",
      "Observed: 0.062\n",
      "\n"
     ]
    }
   ],
   "source": [
    "for modality in ['vbm', 'tbss']:\n",
    "    \n",
    "    this_mvp = mvp_no_brainsize[modality]\n",
    "    this_corrs_df = corrs_Xy_df[corrs_Xy_df.modality == modality.upper()]\n",
    "    for i, nV in enumerate(tqdm_notebook(np.append(num_vox, this_mvp.X.shape[1]),\n",
    "                                                   desc='analyzing %s' % modality)):\n",
    "        skb = SelectKBest(f_classif, k=nV)\n",
    "        skb.fit(this_mvp.X, this_mvp.y)\n",
    "        these_corrs = this_corrs_df[this_corrs_df.type == 'corrected'].corrs[skb.get_support()]\n",
    "        \n",
    "        ys = rpdf(these_corrs.mean(), mvp_no_brainsize[modality].y.size, rs)\n",
    "        cdf = ECDF(ys)\n",
    "        inverted_edf = interp1d(np.cumsum(ys[ys > 0]) / np.sum(ys[ys > 0]), rs[ys > 0], bounds_error=False)\n",
    "        samples = np.random.uniform(0, 1, 100000)\n",
    "        samples_transformed = inverted_edf(samples)\n",
    "        print('Analytic: %.3f' % samples_transformed.std())\n",
    "        print('Observed: %.3f' % these_corrs.std())"
   ]
  },
  {
   "cell_type": "markdown",
   "metadata": {},
   "source": [
    "The result is that we see an increase in \"sign flips\" of correlations between features and the target in the train- versus the test-set in a K-fold cross-validation scheme. (This point is related to what Görgen et al. mention in [their paper](https://arxiv.org/abs/1703.06670) about the \"Same analysis approach\".)\n",
    "\n",
    "So, naturally, let's check and see what happens when we fit the confound regression on the train-set only and subsequently use those models to regress the confound on the train- *and* test-set. Or in other words, let's cross-validate our confound-regression"
   ]
  },
  {
   "cell_type": "code",
   "execution_count": 88,
   "metadata": {},
   "outputs": [
    {
     "data": {
      "application/vnd.jupyter.widget-view+json": {
       "model_id": "8d32fc71fe7c435ab51b9ead4a031898"
      }
     },
     "metadata": {},
     "output_type": "display_data"
    },
    {
     "name": "stdout",
     "output_type": "stream",
     "text": [
      "0.77\n",
      "\n",
      "0.91\n",
      "0.83\n",
      "0.78\n",
      "0.95\n",
      "1.0\n",
      "0.86\n",
      "1.0\n",
      "0.58\n",
      "0.7\n",
      "0.611940298507\n",
      "0.94776119403\n",
      "0.705223880597\n",
      "0.847014925373\n",
      "0.90671641791\n",
      "0.958955223881\n",
      "0.828358208955\n",
      "0.951492537313\n",
      "0.757462686567\n",
      "0.824626865672\n",
      "0.533333333333\n",
      "0.9\n",
      "0.576388888889\n",
      "0.740277777778\n",
      "0.776388888889\n",
      "0.823611111111\n",
      "0.736111111111\n",
      "0.859722222222\n",
      "0.786111111111\n",
      "0.773611111111\n",
      "0.536509580528\n",
      "0.820300362506\n",
      "0.580528223718\n",
      "0.581563956499\n",
      "0.570170895909\n",
      "0.690833764889\n",
      "0.694458829622\n",
      "0.767477990678\n",
      "0.693940963231\n",
      "0.592439150699\n",
      "0.546051361267\n",
      "0.76443328828\n",
      "0.608418613632\n",
      "0.543348136706\n",
      "0.486194245993\n",
      "0.576559181309\n",
      "0.660166055223\n",
      "0.709210272253\n",
      "0.642788183047\n",
      "0.486580420931\n",
      "0.587909319899\n",
      "0.711263044261\n",
      "0.620726880173\n",
      "0.52954300108\n",
      "0.455559553796\n",
      "0.507304785894\n",
      "0.620007196833\n",
      "0.664123785534\n",
      "0.628139618568\n",
      "0.458942065491\n",
      "0.591774868548\n",
      "0.656025324606\n",
      "0.605429767142\n",
      "0.492193368387\n",
      "0.456969631935\n",
      "0.456781843545\n",
      "0.579944200021\n",
      "0.613746110098\n",
      "0.590272561434\n",
      "0.4533211718\n",
      "0.55813\n",
      "0.60618\n",
      "0.56454\n",
      "0.4673\n",
      "0.45856\n",
      "0.43812\n",
      "0.55809\n",
      "0.56218\n",
      "0.5612\n",
      "0.44833\n",
      "0.515740424222\n",
      "0.553565930376\n",
      "0.524705859535\n",
      "0.475640829824\n",
      "0.478921044529\n",
      "0.463327296575\n",
      "0.532609407161\n",
      "0.524894962822\n",
      "0.529736491843\n",
      "0.47811614336\n",
      "\n"
     ]
    },
    {
     "data": {
      "application/vnd.jupyter.widget-view+json": {
       "model_id": "56ac0ac49c4643788d4052eb3a86b2e3"
      }
     },
     "metadata": {},
     "output_type": "display_data"
    },
    {
     "name": "stdout",
     "output_type": "stream",
     "text": [
      "0.85\n",
      "0.68\n",
      "0.4\n",
      "0.4\n",
      "0.23\n",
      "0.8\n",
      "0.79\n",
      "0.88\n",
      "0.62\n",
      "0.18\n",
      "0.75\n",
      "0.567164179104\n",
      "0.511194029851\n",
      "0.5\n",
      "0.268656716418\n",
      "0.701492537313\n",
      "0.701492537313\n",
      "0.805970149254\n",
      "0.615671641791\n",
      "0.205223880597\n",
      "0.690277777778\n",
      "0.490277777778\n",
      "0.531944444444\n",
      "0.476388888889\n",
      "0.284722222222\n",
      "0.641666666667\n",
      "0.645833333333\n",
      "0.740277777778\n",
      "0.575\n",
      "0.226388888889\n",
      "0.631796996375\n",
      "0.430864836872\n",
      "0.503883997929\n",
      "0.426204039358\n",
      "0.313309166235\n",
      "0.573278094252\n",
      "0.598653547385\n",
      "0.687208700155\n",
      "0.5271879855\n",
      "0.276540652512\n",
      "0.586985904615\n",
      "0.397374010427\n",
      "0.488704383086\n",
      "0.401235759799\n",
      "0.321490635258\n",
      "0.523460127438\n",
      "0.553388685074\n",
      "0.635064684302\n",
      "0.505116817919\n",
      "0.324580034756\n",
      "0.54638359122\n",
      "0.39834472832\n",
      "0.483411299028\n",
      "0.396761424973\n",
      "0.336955739475\n",
      "0.483483267362\n",
      "0.52241813602\n",
      "0.582511694854\n",
      "0.489960417416\n",
      "0.368837711407\n",
      "0.518859319669\n",
      "0.410478592124\n",
      "0.473790106235\n",
      "0.414663590514\n",
      "0.364577744393\n",
      "0.468532031334\n",
      "0.518430089065\n",
      "0.54590084773\n",
      "0.480952891941\n",
      "0.401464749437\n",
      "0.50899\n",
      "0.44228\n",
      "0.47765\n",
      "0.44346\n",
      "0.41162\n",
      "0.46768\n",
      "0.5066\n",
      "0.52363\n",
      "0.48887\n",
      "0.44003\n",
      "0.506872370266\n",
      "0.453740065451\n",
      "0.481798348138\n",
      "0.454246532648\n",
      "0.42729468599\n",
      "0.472346891071\n",
      "0.504488078541\n",
      "0.518949664952\n",
      "0.490236870812\n",
      "0.450841514727\n",
      "\n"
     ]
    }
   ],
   "source": [
    "for modality in ['vbm', 'tbss']:\n",
    "    \n",
    "    this_mvp = mvp_no_brainsize[modality]\n",
    "    this_corrs_df = corrs_Xy_df[corrs_Xy_df.modality == modality.upper()]\n",
    "    for i, nV in enumerate(tqdm_notebook(np.append(num_vox, this_mvp.X.shape[1]),\n",
    "                                                   desc='analyzing %s' % modality)):\n",
    "        skb = SelectKBest(f_classif, k=nV)\n",
    "        skb.fit(this_mvp.X, this_mvp.y)\n",
    "        skf = StratifiedKFold(n_splits=10)\n",
    "        \n",
    "        for train_idx, test_idx in skf.split(this_mvp.X, this_mvp.y):\n",
    "            X_train, y_train = this_mvp.X[train_idx], this_mvp.y[train_idx]\n",
    "            X_test, y_test = this_mvp.X[test_idx], this_mvp.y[test_idx]\n",
    "            \n",
    "            skb.fit(X_train, y_train)\n",
    "            this_idx = skb.get_support()\n",
    "            these_train_vox = X_train[:, this_idx]\n",
    "            these_test_vox = X_test[:, this_idx]\n",
    "            \n",
    "            corrs_train = [pearsonr(these_train_vox[:, i], y_train)[0] for i in range(these_train_vox.shape[1])]\n",
    "            corrs_test = [pearsonr(these_test_vox[:, i], y_test)[0] for i in range(these_test_vox.shape[1])]\n",
    "            print((np.sign(corrs_test) == np.sign(corrs_train)).mean())"
   ]
  },
  {
   "cell_type": "markdown",
   "metadata": {},
   "source": [
    "## Scenario 3: confound regression on train and cv to test\n",
    "Because our confound regression is going to take (roughly) `K` times (i.e. the amount of folds) as long, and it is inefficient to regress out our confounds from each fold again for every different number of voxels, we have written a function to parallelize our fold-wise classification by putting the loop over `num_vox` inside that function.\n",
    "\n",
    "Note that the `ConfoundRegressor` is initialized with an additional parameter now: `cross_validate=True`, which makes sure that when we transform the test-set, it uses the weights from the fitting procedure on the train-set. (In the next scenario, we'll set `cross_validate` to `False` in order to check what happens when we fit it separately to the test-set.)"
   ]
  },
  {
   "cell_type": "code",
   "execution_count": 70,
   "metadata": {},
   "outputs": [],
   "source": [
    "def _parallelize_sce3(X, y, c, train_idx, test_idx,\n",
    "                      pipeline, num_vox, modality, n_folds, i):\n",
    "    \"\"\" Runs a specific fold in K-fold cross-validation for\n",
    "    a given set num_vox (array with number of voxels to select). \"\"\"\n",
    "    \n",
    "    print(\"Starting confound regression fold: %i\" % (i + 1))\n",
    "    conreg = ConfoundRegressor(confound=c, fit_idx=train_idx, cross_validate=True)\n",
    "    X_train_con = conreg.fit(X[train_idx], y).transform(X[train_idx])\n",
    "    X_test_con = conreg.transform(X[test_idx])\n",
    "    \n",
    "    results_tmp = {'score': np.zeros(len(num_vox) + 1),\n",
    "                   'n_vox': np.append(num_vox, X.shape[1]),\n",
    "                   'modality': [modality] * (len(num_vox) + 1),\n",
    "                   'n_folds': [n_folds] * (len(num_vox) + 1)}\n",
    "    \n",
    "    print(\"Starting processing fold: %i\" % (i + 1))\n",
    "    for j, nV in enumerate(np.append(num_vox, X.shape[1])):\n",
    "        pipeline.set_params(ufs__k=nV)\n",
    "        pipeline.fit(X_train_con, y[train_idx])\n",
    "        pred = pipeline.predict(X_test_con)\n",
    "        score = f1_score(y[test_idx], pred)\n",
    "        results_tmp['score'][j] = score\n",
    "    \n",
    "    return results_tmp"
   ]
  },
  {
   "cell_type": "markdown",
   "metadata": {},
   "source": [
    "It is kinda messy, but below we essentially just do the same thing as in the first two scenarios. This takes quite long, because essentially we're fitting ~400,000 * 10 linear models!"
   ]
  },
  {
   "cell_type": "code",
   "execution_count": 71,
   "metadata": {
    "scrolled": true
   },
   "outputs": [
    {
     "name": "stdout",
     "output_type": "stream",
     "text": [
      "Processing mod=vbm\n",
      "Starting confound regression fold: 1\n",
      "Starting confound regression fold: 2\n",
      "Starting confound regression fold: 3\n",
      "Starting confound regression fold: 4\n",
      "Starting confound regression fold: 5\n",
      "Starting confound regression fold: 6\n",
      "Starting confound regression fold: 7\n",
      "Starting confound regression fold: 8\n",
      "Starting processing fold: 3\n",
      "Starting processing fold: 6\n",
      "Starting processing fold: 4\n",
      "Starting processing fold: 1\n",
      "Starting processing fold: 2\n",
      "Starting processing fold: 5\n",
      "Starting processing fold: 7\n",
      "Starting processing fold: 8\n"
     ]
    },
    {
     "ename": "KeyboardInterrupt",
     "evalue": "",
     "output_type": "error",
     "traceback": [
      "\u001b[0;31m---------------------------------------------------------------------------\u001b[0m",
      "\u001b[0;31mKeyboardInterrupt\u001b[0m                         Traceback (most recent call last)",
      "\u001b[0;32m<ipython-input-71-5ddcec411a9e>\u001b[0m in \u001b[0;36m<module>\u001b[0;34m()\u001b[0m\n\u001b[1;32m      9\u001b[0m                                 (this_mvp.X, this_mvp.y, confound[modality], train_idx,\n\u001b[1;32m     10\u001b[0m                                  test_idx, pipeline, num_vox, modality, n_folds, i)\n\u001b[0;32m---> 11\u001b[0;31m                                  for i, (train_idx, test_idx) in enumerate(skf.split(this_mvp.X, this_mvp.y)))\n\u001b[0m\u001b[1;32m     12\u001b[0m     \u001b[0mresults_sce3\u001b[0m\u001b[0;34m.\u001b[0m\u001b[0mappend\u001b[0m\u001b[0;34m(\u001b[0m\u001b[0mres\u001b[0m\u001b[0;34m)\u001b[0m\u001b[0;34m\u001b[0m\u001b[0m\n",
      "\u001b[0;32m/home/lukas/anaconda3/lib/python3.6/site-packages/sklearn/externals/joblib/parallel.py\u001b[0m in \u001b[0;36m__call__\u001b[0;34m(self, iterable)\u001b[0m\n\u001b[1;32m    787\u001b[0m                 \u001b[0;31m# consumption.\u001b[0m\u001b[0;34m\u001b[0m\u001b[0;34m\u001b[0m\u001b[0m\n\u001b[1;32m    788\u001b[0m                 \u001b[0mself\u001b[0m\u001b[0;34m.\u001b[0m\u001b[0m_iterating\u001b[0m \u001b[0;34m=\u001b[0m \u001b[0;32mFalse\u001b[0m\u001b[0;34m\u001b[0m\u001b[0m\n\u001b[0;32m--> 789\u001b[0;31m             \u001b[0mself\u001b[0m\u001b[0;34m.\u001b[0m\u001b[0mretrieve\u001b[0m\u001b[0;34m(\u001b[0m\u001b[0;34m)\u001b[0m\u001b[0;34m\u001b[0m\u001b[0m\n\u001b[0m\u001b[1;32m    790\u001b[0m             \u001b[0;31m# Make sure that we get a last message telling us we are done\u001b[0m\u001b[0;34m\u001b[0m\u001b[0;34m\u001b[0m\u001b[0m\n\u001b[1;32m    791\u001b[0m             \u001b[0melapsed_time\u001b[0m \u001b[0;34m=\u001b[0m \u001b[0mtime\u001b[0m\u001b[0;34m.\u001b[0m\u001b[0mtime\u001b[0m\u001b[0;34m(\u001b[0m\u001b[0;34m)\u001b[0m \u001b[0;34m-\u001b[0m \u001b[0mself\u001b[0m\u001b[0;34m.\u001b[0m\u001b[0m_start_time\u001b[0m\u001b[0;34m\u001b[0m\u001b[0m\n",
      "\u001b[0;32m/home/lukas/anaconda3/lib/python3.6/site-packages/sklearn/externals/joblib/parallel.py\u001b[0m in \u001b[0;36mretrieve\u001b[0;34m(self)\u001b[0m\n\u001b[1;32m    697\u001b[0m             \u001b[0;32mtry\u001b[0m\u001b[0;34m:\u001b[0m\u001b[0;34m\u001b[0m\u001b[0m\n\u001b[1;32m    698\u001b[0m                 \u001b[0;32mif\u001b[0m \u001b[0mgetattr\u001b[0m\u001b[0;34m(\u001b[0m\u001b[0mself\u001b[0m\u001b[0;34m.\u001b[0m\u001b[0m_backend\u001b[0m\u001b[0;34m,\u001b[0m \u001b[0;34m'supports_timeout'\u001b[0m\u001b[0;34m,\u001b[0m \u001b[0;32mFalse\u001b[0m\u001b[0;34m)\u001b[0m\u001b[0;34m:\u001b[0m\u001b[0;34m\u001b[0m\u001b[0m\n\u001b[0;32m--> 699\u001b[0;31m                     \u001b[0mself\u001b[0m\u001b[0;34m.\u001b[0m\u001b[0m_output\u001b[0m\u001b[0;34m.\u001b[0m\u001b[0mextend\u001b[0m\u001b[0;34m(\u001b[0m\u001b[0mjob\u001b[0m\u001b[0;34m.\u001b[0m\u001b[0mget\u001b[0m\u001b[0;34m(\u001b[0m\u001b[0mtimeout\u001b[0m\u001b[0;34m=\u001b[0m\u001b[0mself\u001b[0m\u001b[0;34m.\u001b[0m\u001b[0mtimeout\u001b[0m\u001b[0;34m)\u001b[0m\u001b[0;34m)\u001b[0m\u001b[0;34m\u001b[0m\u001b[0m\n\u001b[0m\u001b[1;32m    700\u001b[0m                 \u001b[0;32melse\u001b[0m\u001b[0;34m:\u001b[0m\u001b[0;34m\u001b[0m\u001b[0m\n\u001b[1;32m    701\u001b[0m                     \u001b[0mself\u001b[0m\u001b[0;34m.\u001b[0m\u001b[0m_output\u001b[0m\u001b[0;34m.\u001b[0m\u001b[0mextend\u001b[0m\u001b[0;34m(\u001b[0m\u001b[0mjob\u001b[0m\u001b[0;34m.\u001b[0m\u001b[0mget\u001b[0m\u001b[0;34m(\u001b[0m\u001b[0;34m)\u001b[0m\u001b[0;34m)\u001b[0m\u001b[0;34m\u001b[0m\u001b[0m\n",
      "\u001b[0;32m/home/lukas/anaconda3/lib/python3.6/multiprocessing/pool.py\u001b[0m in \u001b[0;36mget\u001b[0;34m(self, timeout)\u001b[0m\n\u001b[1;32m    600\u001b[0m \u001b[0;34m\u001b[0m\u001b[0m\n\u001b[1;32m    601\u001b[0m     \u001b[0;32mdef\u001b[0m \u001b[0mget\u001b[0m\u001b[0;34m(\u001b[0m\u001b[0mself\u001b[0m\u001b[0;34m,\u001b[0m \u001b[0mtimeout\u001b[0m\u001b[0;34m=\u001b[0m\u001b[0;32mNone\u001b[0m\u001b[0;34m)\u001b[0m\u001b[0;34m:\u001b[0m\u001b[0;34m\u001b[0m\u001b[0m\n\u001b[0;32m--> 602\u001b[0;31m         \u001b[0mself\u001b[0m\u001b[0;34m.\u001b[0m\u001b[0mwait\u001b[0m\u001b[0;34m(\u001b[0m\u001b[0mtimeout\u001b[0m\u001b[0;34m)\u001b[0m\u001b[0;34m\u001b[0m\u001b[0m\n\u001b[0m\u001b[1;32m    603\u001b[0m         \u001b[0;32mif\u001b[0m \u001b[0;32mnot\u001b[0m \u001b[0mself\u001b[0m\u001b[0;34m.\u001b[0m\u001b[0mready\u001b[0m\u001b[0;34m(\u001b[0m\u001b[0;34m)\u001b[0m\u001b[0;34m:\u001b[0m\u001b[0;34m\u001b[0m\u001b[0m\n\u001b[1;32m    604\u001b[0m             \u001b[0;32mraise\u001b[0m \u001b[0mTimeoutError\u001b[0m\u001b[0;34m\u001b[0m\u001b[0m\n",
      "\u001b[0;32m/home/lukas/anaconda3/lib/python3.6/multiprocessing/pool.py\u001b[0m in \u001b[0;36mwait\u001b[0;34m(self, timeout)\u001b[0m\n\u001b[1;32m    597\u001b[0m \u001b[0;34m\u001b[0m\u001b[0m\n\u001b[1;32m    598\u001b[0m     \u001b[0;32mdef\u001b[0m \u001b[0mwait\u001b[0m\u001b[0;34m(\u001b[0m\u001b[0mself\u001b[0m\u001b[0;34m,\u001b[0m \u001b[0mtimeout\u001b[0m\u001b[0;34m=\u001b[0m\u001b[0;32mNone\u001b[0m\u001b[0;34m)\u001b[0m\u001b[0;34m:\u001b[0m\u001b[0;34m\u001b[0m\u001b[0m\n\u001b[0;32m--> 599\u001b[0;31m         \u001b[0mself\u001b[0m\u001b[0;34m.\u001b[0m\u001b[0m_event\u001b[0m\u001b[0;34m.\u001b[0m\u001b[0mwait\u001b[0m\u001b[0;34m(\u001b[0m\u001b[0mtimeout\u001b[0m\u001b[0;34m)\u001b[0m\u001b[0;34m\u001b[0m\u001b[0m\n\u001b[0m\u001b[1;32m    600\u001b[0m \u001b[0;34m\u001b[0m\u001b[0m\n\u001b[1;32m    601\u001b[0m     \u001b[0;32mdef\u001b[0m \u001b[0mget\u001b[0m\u001b[0;34m(\u001b[0m\u001b[0mself\u001b[0m\u001b[0;34m,\u001b[0m \u001b[0mtimeout\u001b[0m\u001b[0;34m=\u001b[0m\u001b[0;32mNone\u001b[0m\u001b[0;34m)\u001b[0m\u001b[0;34m:\u001b[0m\u001b[0;34m\u001b[0m\u001b[0m\n",
      "\u001b[0;32m/home/lukas/anaconda3/lib/python3.6/threading.py\u001b[0m in \u001b[0;36mwait\u001b[0;34m(self, timeout)\u001b[0m\n\u001b[1;32m    549\u001b[0m             \u001b[0msignaled\u001b[0m \u001b[0;34m=\u001b[0m \u001b[0mself\u001b[0m\u001b[0;34m.\u001b[0m\u001b[0m_flag\u001b[0m\u001b[0;34m\u001b[0m\u001b[0m\n\u001b[1;32m    550\u001b[0m             \u001b[0;32mif\u001b[0m \u001b[0;32mnot\u001b[0m \u001b[0msignaled\u001b[0m\u001b[0;34m:\u001b[0m\u001b[0;34m\u001b[0m\u001b[0m\n\u001b[0;32m--> 551\u001b[0;31m                 \u001b[0msignaled\u001b[0m \u001b[0;34m=\u001b[0m \u001b[0mself\u001b[0m\u001b[0;34m.\u001b[0m\u001b[0m_cond\u001b[0m\u001b[0;34m.\u001b[0m\u001b[0mwait\u001b[0m\u001b[0;34m(\u001b[0m\u001b[0mtimeout\u001b[0m\u001b[0;34m)\u001b[0m\u001b[0;34m\u001b[0m\u001b[0m\n\u001b[0m\u001b[1;32m    552\u001b[0m             \u001b[0;32mreturn\u001b[0m \u001b[0msignaled\u001b[0m\u001b[0;34m\u001b[0m\u001b[0m\n\u001b[1;32m    553\u001b[0m \u001b[0;34m\u001b[0m\u001b[0m\n",
      "\u001b[0;32m/home/lukas/anaconda3/lib/python3.6/threading.py\u001b[0m in \u001b[0;36mwait\u001b[0;34m(self, timeout)\u001b[0m\n\u001b[1;32m    293\u001b[0m         \u001b[0;32mtry\u001b[0m\u001b[0;34m:\u001b[0m    \u001b[0;31m# restore state no matter what (e.g., KeyboardInterrupt)\u001b[0m\u001b[0;34m\u001b[0m\u001b[0m\n\u001b[1;32m    294\u001b[0m             \u001b[0;32mif\u001b[0m \u001b[0mtimeout\u001b[0m \u001b[0;32mis\u001b[0m \u001b[0;32mNone\u001b[0m\u001b[0;34m:\u001b[0m\u001b[0;34m\u001b[0m\u001b[0m\n\u001b[0;32m--> 295\u001b[0;31m                 \u001b[0mwaiter\u001b[0m\u001b[0;34m.\u001b[0m\u001b[0macquire\u001b[0m\u001b[0;34m(\u001b[0m\u001b[0;34m)\u001b[0m\u001b[0;34m\u001b[0m\u001b[0m\n\u001b[0m\u001b[1;32m    296\u001b[0m                 \u001b[0mgotit\u001b[0m \u001b[0;34m=\u001b[0m \u001b[0;32mTrue\u001b[0m\u001b[0;34m\u001b[0m\u001b[0m\n\u001b[1;32m    297\u001b[0m             \u001b[0;32melse\u001b[0m\u001b[0;34m:\u001b[0m\u001b[0;34m\u001b[0m\u001b[0m\n",
      "\u001b[0;31mKeyboardInterrupt\u001b[0m: "
     ]
    }
   ],
   "source": [
    "results_sce3 = []\n",
    "\n",
    "for modality in ['vbm', 'tbss']:\n",
    "    print(\"Processing mod=%s\" % modality)\n",
    "    skf = StratifiedKFold(n_splits=n_folds)\n",
    "    this_mvp = mvp[modality]\n",
    "    \n",
    "    res = jl.Parallel(n_jobs=8)(jl.delayed(_parallelize_sce3)\n",
    "                                (this_mvp.X, this_mvp.y, confound[modality], train_idx,\n",
    "                                 test_idx, pipeline, num_vox, modality, n_folds, i)\n",
    "                                 for i, (train_idx, test_idx) in enumerate(skf.split(this_mvp.X, this_mvp.y)))\n",
    "    results_sce3.append(res)"
   ]
  },
  {
   "cell_type": "code",
   "execution_count": null,
   "metadata": {},
   "outputs": [],
   "source": [
    "results_sce3_df = pd.concat([pd.DataFrame(x) for mod_list in results_sce3 for x in mod_list])\n",
    "results_sce3_df['method'] = ['regress_cv'] * len(results_sce3_df)\n",
    "with sns.plotting_context(rc=rc):\n",
    "    g = sns.factorplot(x='n_vox', y='score', hue='modality', data=results_sce3_df, size=5, aspect=2,\n",
    "                       palette='muted', legend=False)\n",
    "    g.set(ylim=(0, 1), xlabel='N voxels', ylabel='F1-score')\n",
    "    plt.axhline(y=0.5, c='black', ls='dashed')\n",
    "    fig = plt.gcf()\n",
    "    fig.set_size_inches((10.5, 3.25))\n",
    "    plt.legend(title='Modality', bbox_to_anchor=(1.02, 1), loc=2, borderaxespad=0.)\n",
    "    plt.show()"
   ]
  },
  {
   "cell_type": "markdown",
   "metadata": {},
   "source": [
    "As we can see, classification performance stays above chance (for the entire range of number of voxels)! "
   ]
  },
  {
   "cell_type": "markdown",
   "metadata": {},
   "source": [
    "## Scecario 4: What about counterbalancing?\n",
    "Some argue, like Görgen et al in their SAA paper, that below chance classification can be prevented by making sure each *fold* is counterbalanced (i.e., correlation between target and confound is zero). \n",
    "\n",
    "Let's investigate this. We've written a scikit-learn style class, `CounterbalancedStratifiedSplit` (which is similar to scikit-learn's StratifiedKFold) that subsamples your data until the confound is counterbalanced between classes of y. "
   ]
  },
  {
   "cell_type": "code",
   "execution_count": null,
   "metadata": {},
   "outputs": [],
   "source": [
    "from counterbalance import CounterbalancedStratifiedSplit\n",
    "\n",
    "method_list = [func for func in dir(CounterbalancedStratifiedSplit)\n",
    "               if callable(getattr(CounterbalancedStratifiedSplit, func)) and not func.startswith(\"_\")]\n",
    "\n",
    "print(\"The CounterbalanceStratifiedSplit class has the following methods:\\n%s\" % (method_list,))"
   ]
  },
  {
   "cell_type": "markdown",
   "metadata": {},
   "source": [
    "Let's evaluate the counterbalance-method the same way as we did with the regression method:"
   ]
  },
  {
   "cell_type": "code",
   "execution_count": null,
   "metadata": {},
   "outputs": [],
   "source": [
    "results_sce4 = dict(n_vox=[], score=[], modality=[])\n",
    "\n",
    "for modality in ['vbm', 'tbss']:\n",
    "    \n",
    "    c = confound[modality]\n",
    "    this_mvp = mvp[modality]    \n",
    "\n",
    "    skf = CounterbalancedStratifiedSplit(this_mvp.X, this_mvp.y, c.squeeze(),\n",
    "                                         c_type='continuous', metric='corr', threshold=0.1,\n",
    "                                         verbose=False, n_splits=n_folds)\n",
    "    skf.check_counterbalance_and_subsample()\n",
    "    X, y, c = this_mvp.X[skf.subsample_idx], this_mvp.y[skf.subsample_idx], c[skf.subsample_idx]\n",
    "\n",
    "    for i, nV in enumerate(tqdm_notebook(np.append(num_vox, this_mvp.X.shape[1]),\n",
    "                                         desc='Evaluating %s' % modality)):\n",
    "        \n",
    "        pipeline.set_params(ufs__k=nV)        \n",
    "        scores = np.zeros(n_folds)\n",
    "        for i, (train_idx, test_idx) in enumerate(skf.split(X, y)):\n",
    "            X_train, y_train = X[train_idx], y[train_idx]\n",
    "            X_test, y_test = X[test_idx], y[test_idx]\n",
    "            pipeline.fit(X_train, y_train)\n",
    "            scores[i] = pipeline.score(X_test, y_test)\n",
    "            \n",
    "        results_sce4['n_vox'].extend([nV] * n_folds)\n",
    "        results_sce4['score'].extend(scores.tolist())\n",
    "        results_sce4['modality'].extend([modality] * n_folds)"
   ]
  },
  {
   "cell_type": "code",
   "execution_count": null,
   "metadata": {},
   "outputs": [],
   "source": [
    "results_sce4_df = pd.DataFrame(results_sce4)\n",
    "results_sce4_df['method'] = ['counterbalancing'] * len(results_sce4_df)\n",
    "with sns.plotting_context(rc=rc):\n",
    "    fig = plt.gcf()\n",
    "    fig.set_size_inches((9.6, 4.01))\n",
    "    g = sns.factorplot(x='n_vox', y='score', hue='modality', data=results_sce4_df, size=5, aspect=2,\n",
    "                       legend_out=False, palette=\"muted\", legend=False)\n",
    "    g.set(ylim=(0, 1), ylabel='F1-score', xlabel='N voxels')\n",
    "    plt.axhline(y=0.5, c='black', ls='dashed')\n",
    "    plt.legend(title='Modality', bbox_to_anchor=(1.02, 1), loc=2, borderaxespad=0.)\n",
    "    plt.show()"
   ]
  },
  {
   "cell_type": "markdown",
   "metadata": {},
   "source": [
    "How does it compare to the other methods?"
   ]
  },
  {
   "cell_type": "code",
   "execution_count": null,
   "metadata": {},
   "outputs": [],
   "source": [
    "results_three_methods = pd.concat((results_sce1_df, results_sce3_df, results_sce4_df))\n",
    "with sns.plotting_context(rc=rc):\n",
    "    fig = plt.gcf()\n",
    "    fig.set_size_inches((9.6, 4.01))\n",
    "    g = sns.factorplot(x='n_vox', y='score', hue='method', col='modality', \n",
    "                       data=results_three_methods, size=5, aspect=2,\n",
    "                       legend_out=False, palette=\"muted\", legend=False)\n",
    "    g.set(ylim=(0, 1), ylabel='F1-score', xlabel='N voxels')\n",
    "    g.map(plt.axhline, y=0.5, c='black', ls='--')\n",
    "    plt.axhline(y=0.5, c='black', ls='dashed')\n",
    "    plt.legend(title='Method', bbox_to_anchor=(1.02, 1), loc=2, borderaxespad=0.)\n",
    "    plt.show()"
   ]
  },
  {
   "cell_type": "markdown",
   "metadata": {},
   "source": [
    "That's weird ... Especially with the VBM-data, there seems to be a strong positive bias in the counterbalance-method. What is happening?\n",
    "\n",
    "Perhaps we can figure out something from the correlation structure before and after subsampling. To do so, we'll calculate the correlations between the voxels and gender both before and after subsampling. "
   ]
  },
  {
   "cell_type": "code",
   "execution_count": null,
   "metadata": {},
   "outputs": [],
   "source": [
    "results_corr_sce4 = dict(corrs=[], before_after=[], kind=[], modality=[])\n",
    "\n",
    "for modality in ['vbm', 'tbss']:\n",
    "\n",
    "    c = confound[modality]\n",
    "    this_mvp = mvp[modality]\n",
    "    \n",
    "    for ivox in tqdm_notebook(range(this_mvp.X.shape[1]), desc='Correlations before (%s)' % modality):\n",
    "        results_corr_sce4['modality'].extend([modality] * 2)\n",
    "        results_corr_sce4['before_after'].extend(['before'] * 2)\n",
    "        results_corr_sce4['corrs'].append(stats.pearsonr(this_mvp.X[:, ivox], this_mvp.y)[0])\n",
    "        results_corr_sce4['kind'].append('xy')\n",
    "        results_corr_sce4['corrs'].append(stats.pearsonr(this_mvp.X[:, ivox], c.squeeze())[0])\n",
    "        results_corr_sce4['kind'].append('xc')        \n",
    "\n",
    "    skf = CounterbalancedStratifiedSplit(this_mvp.X, this_mvp.y, c.squeeze(),\n",
    "                                         c_type='continuous', metric='corr', threshold=0.1,\n",
    "                                         verbose=False, n_splits=n_folds)\n",
    "    skf.check_counterbalance_and_subsample()\n",
    "    \n",
    "    X, y, c = this_mvp.X[skf.subsample_idx], this_mvp.y[skf.subsample_idx], c[skf.subsample_idx]\n",
    "    \n",
    "    for ivox in tqdm_notebook(range(this_mvp.X.shape[1]), desc='Correlations after (%s)' % modality):\n",
    "        results_corr_sce4['modality'].extend([modality] * 2)\n",
    "        results_corr_sce4['before_after'].extend(['after'] * 2)\n",
    "        results_corr_sce4['corrs'].append(stats.pearsonr(X[:, ivox], y)[0])\n",
    "        results_corr_sce4['kind'].append('xy')\n",
    "        results_corr_sce4['corrs'].append(stats.pearsonr(X[:, ivox], c.squeeze())[0])\n",
    "        results_corr_sce4['kind'].append('xc')        "
   ]
  },
  {
   "cell_type": "markdown",
   "metadata": {},
   "source": [
    "Now, let's plot the 'before' and 'after' correlation distributions (both $\\rho(xy)$ and $\\rho(xc)$) for both VBM and TBSS!"
   ]
  },
  {
   "cell_type": "code",
   "execution_count": null,
   "metadata": {},
   "outputs": [],
   "source": [
    "results_corr_sce4_df = pd.DataFrame(results_corr_sce4)\n",
    "g = sns.FacetGrid(results_corr_sce4_df, col='kind', row='modality', hue='before_after', size=6)\n",
    "g.map(plt.hist, 'corrs', alpha=0.5, bins=50)\n",
    "g.add_legend()"
   ]
  },
  {
   "cell_type": "markdown",
   "metadata": {},
   "source": [
    "This figure is quite telling. The plots on the left (of the distribution of correlations between X and y) show you that subsamping widens the correlation distribution, meaning that it (artificially) increases the dependence between the data (X) and the target (y) by decorrelating the target (y) and the confound (c). "
   ]
  },
  {
   "cell_type": "code",
   "execution_count": null,
   "metadata": {},
   "outputs": [],
   "source": [
    "def get_r2(iv, dv, stack_intercept=True):\n",
    "    \"\"\" Regress dv onto iv and return r-squared.\n",
    "    \n",
    "    Parameters\n",
    "    ----------\n",
    "    iv : numpy array\n",
    "        Array of shape N (samples) x K (features)\n",
    "    dv : numpy array\n",
    "        Array of shape N (samples) x 1\n",
    "    stack_intercept : bool\n",
    "        Whether to stack an intercept (vector with ones of length N).\n",
    "    \n",
    "    Returns\n",
    "    -------\n",
    "    r2 : float\n",
    "        R-squared model fit.\n",
    "    \"\"\"\n",
    "    \n",
    "    if iv.ndim == 1:\n",
    "        # Add axis if shape is (N,)\n",
    "        iv = iv[:, np.newaxis]\n",
    "    \n",
    "    if stack_intercept:\n",
    "        iv = np.hstack((np.ones((iv.shape[0], 1)), iv))\n",
    "    \n",
    "    beta = np.linalg.lstsq(iv, dv)[0]\n",
    "    dv_hat = iv.dot(beta).squeeze()\n",
    "    r2 = stats.pearsonr(dv_hat, dv)[0] ** 2\n",
    "    if np.isnan(r2):\n",
    "        r2 = 0\n",
    "    \n",
    "    return r2"
   ]
  },
  {
   "cell_type": "code",
   "execution_count": null,
   "metadata": {},
   "outputs": [],
   "source": [
    "results = dict(modality=[], signal_r2=[], confound_r2=[], x_r2=[], x_r2_regressed=[])\n",
    "\n",
    "for modality in ['vbm', 'tbss']:\n",
    "    \n",
    "    this_X, this_y = mvp[modality].X, mvp[modality].y\n",
    "    this_c = confound[modality]\n",
    "    results['modality'].extend([modality] * this_X.shape[1])\n",
    "    for ivox in tqdm_notebook(range(this_X.shape[1]), desc='Analyzing %s' % modality):\n",
    "        y_x_r2 = get_r2(this_X[:, ivox], this_y)\n",
    "        y_c_r2 = get_r2(this_c, this_y)\n",
    "        y_cx_r2 = get_r2(np.hstack((this_X[:, ivox, np.newaxis], this_c)), this_y)\n",
    "        signal_r2 = y_cx_r2 - y_c_r2\n",
    "        confound_r2 = (1 - y_cx_r2) - signal_r2 - (y_cx_r2 - y_x_r2)\n",
    "        rdes = np.hstack((np.ones((this_y.size, 1)), this_c))\n",
    "        regressed_x = this_X[:, ivox] - rdes.dot(np.linalg.lstsq(rdes, this_X[:, ivox])[0])\n",
    "        x_r2_regress = get_r2(regressed_x, this_y)\n",
    "        results['x_r2'].append(y_x_r2)\n",
    "        results['x_r2_regressed'].append(x_r2_regress)\n",
    "        results['confound_r2'].append(confound_r2)\n",
    "        results['signal_r2'].append(signal_r2)"
   ]
  },
  {
   "cell_type": "code",
   "execution_count": null,
   "metadata": {},
   "outputs": [],
   "source": [
    "results['modality'] = ['vbm'] * mvp['vbm'].X.shape[1] + ['tbss'] * mvp['tbss'].X.shape[1]\n",
    "results_df = pd.DataFrame(results)\n",
    "\n",
    "fig, axes = plt.subplots(4, 2, figsize=(15, 15), sharex=False)\n",
    "\n",
    "for i, dtype in enumerate(['x_r2', 'x_r2_regressed', 'signal_r2', 'confound_r2']):\n",
    "    \n",
    "    for ii, mod in enumerate(['vbm', 'tbss']):\n",
    "        \n",
    "        sns.distplot(results_df[results_df.modality == mod][dtype], ax=axes[i, ii])\n",
    "        axes[i, ii].set_title(mod.upper())\n",
    "\n",
    "fig.tight_layout()"
   ]
  },
  {
   "cell_type": "markdown",
   "metadata": {},
   "source": [
    "# SOME EXTRA TESTS OF CONFOUND REGRESSION"
   ]
  },
  {
   "cell_type": "markdown",
   "metadata": {},
   "source": [
    "## Scenario 6: confound regression on train and test separately\n",
    "However, one could also argue that, instead of cross-validating our confound-regression, we can also just fit a separate confound-regression on the *test-set*. Because, theoretically, this sets the influence of the confound in the test-set also exactly to zero (like in scenario 1), yet without the danger of opposite effects of the confound in train- and test. (Note, thought, that this danger is, again, likely when doing some kind of inner cross-validation within your analyses, such as when you perform a hyper-parameter gridsearch!)\n",
    "\n",
    "Just as in scenario 3, we have written a function to parallelize the fold-wise classification analysis. Note that the only difference with scenario 3 is the fact that the parameter `cross_validate` from the `ConfoundRegressor` is set to `False`. This means that the `ConfoundRegressor` will now fit the confound-regression process again when the `transform(X)` method is called on the test-set (`X[test_idx]`)."
   ]
  },
  {
   "cell_type": "code",
   "execution_count": null,
   "metadata": {},
   "outputs": [],
   "source": [
    "def _parallelize_sce5(X, y, c, train_idx, test_idx,\n",
    "                      pipeline, num_vox, modality, n_folds, i):\n",
    "    \n",
    "    print(\"Starting confound regression fold: %i\" % (i + 1))\n",
    "    conreg = ConfoundRegressor(confound=c, fit_idx=train_idx, cross_validate=False)\n",
    "    X_train_con = conreg.fit(X[train_idx], y).transform(X[train_idx])\n",
    "    X_test_con = conreg.transform(X[test_idx])\n",
    "    \n",
    "    results_tmp = {'score': np.zeros(len(num_vox) + 1),\n",
    "                   'n_vox': np.append(num_vox, X.shape[1]),\n",
    "                   'modality': [modality] * (len(num_vox) + 1),\n",
    "                   'n_folds': [n_folds] * (len(num_vox) + 1)}\n",
    "    print(\"Starting processing fold: %i\" % (i + 1))\n",
    "    \n",
    "    for j, nV in enumerate(np.append(num_vox, X.shape[1])):\n",
    "        pipeline.set_params(ufs__k=nV)\n",
    "        pipeline.fit(X_train_con, y[train_idx])\n",
    "        pred = pipeline.predict(X_test_con)\n",
    "        score = f1_score(y[test_idx], pred)\n",
    "        results_tmp['score'][j] = score\n",
    "    \n",
    "    return results_tmp"
   ]
  },
  {
   "cell_type": "markdown",
   "metadata": {},
   "source": [
    "Just like scenario 3, we run the analysis for scenario 4 (this takes forever, though, because we now have to fit :"
   ]
  },
  {
   "cell_type": "code",
   "execution_count": null,
   "metadata": {
    "scrolled": true
   },
   "outputs": [],
   "source": [
    "results_sce5 = []\n",
    "\n",
    "for modality in ['vbm', 'tbss']:\n",
    "    print(\"Processing mod=%s\" % modality)\n",
    "    skf = StratifiedKFold(n_splits=n_folds)\n",
    "    this_mvp = mvp[modality]\n",
    "    \n",
    "    res = jl.Parallel(n_jobs=5)(jl.delayed(_parallelize_sce5)\n",
    "                                (this_mvp.X, this_mvp.y, confound[modality], train_idx,\n",
    "                                 test_idx, pipeline, num_vox, modality, n_folds, i)\n",
    "                                 for i, (train_idx, test_idx) in enumerate(skf.split(this_mvp.X, this_mvp.y)))\n",
    "    results_sce5.append(res)"
   ]
  },
  {
   "cell_type": "code",
   "execution_count": null,
   "metadata": {},
   "outputs": [],
   "source": [
    "results_sce5_df = pd.concat([pd.DataFrame(x) for mod_list in results_sce5 for x in mod_list])\n",
    "sns.set(style=\"whitegrid\")\n",
    "ax = sns.factorplot(x='n_vox', y='score', hue='modality', data=results_sce5_df, size=5, aspect=2)\n",
    "ax.set(ylim=(0, 1))\n",
    "plt.axhline(y=0.5, c='black', ls='dashed')\n",
    "plt.show()"
   ]
  },
  {
   "cell_type": "markdown",
   "metadata": {},
   "source": [
    "As you can see, the plot for scenario 4 looks very similar to the one for scenario 3. For comparison, be plot them side-by-side below:"
   ]
  },
  {
   "cell_type": "code",
   "execution_count": null,
   "metadata": {},
   "outputs": [],
   "source": [
    "results_sce3_df['Scenario'] = ['3'] * len(results_sce3_df)\n",
    "results_sce5_df['Scenario'] = ['5'] * len(results_sce5_df)\n",
    "\n",
    "g = sns.FacetGrid(pd.concat((results_sce3_df, results_sce5_df)), col=\"modality\",\n",
    "                  hue='Scenario', ylim=(.4,.8), size=5, aspect=1.5)\n",
    "g.map(sns.pointplot, \"n_vox\", \"score\")"
   ]
  }
 ],
 "metadata": {
  "kernelspec": {
   "display_name": "Python 3",
   "language": "python",
   "name": "python3"
  },
  "language_info": {
   "codemirror_mode": {
    "name": "ipython",
    "version": 3
   },
   "file_extension": ".py",
   "mimetype": "text/x-python",
   "name": "python",
   "nbconvert_exporter": "python",
   "pygments_lexer": "ipython3",
   "version": "3.6.1"
  }
 },
 "nbformat": 4,
 "nbformat_minor": 2
}
