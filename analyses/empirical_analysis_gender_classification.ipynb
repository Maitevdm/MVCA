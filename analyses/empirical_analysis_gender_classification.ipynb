{
 "cells": [
  {
   "cell_type": "markdown",
   "metadata": {},
   "source": [
    "# Notebook with empirical analyses on the influence of confounds in MVPA\n",
    "In this notebook, we evaluate different strategies to deal with confounds in MVPA on empirical data (see [this notebook](LINK) for analyses of simulated data). Here, we try to predict gender (male/female) from structural MRI data (VBM and TBSS data) in face of the confound 'brain size'. We chose 'brain size' as a confound, because one could argue that overall brain size is not an interesting predictive feature in MVPA analyses, as people usually try to investigate more *local* gender differences in brain structure. Note that we only focus on this use case because the data was available; we do not wish to draw any conclusions from the results of this study apart from the statistical issues.\n",
    "\n",
    "### First some imports\n",
    "Make sure you have the latest version of scikit-learn (0.19), pandas (>=0.20.0), and our own skbold package (0.3.3, or preferably from the [master branch on github](https://github.com/lukassnoek/skbold)) installed."
   ]
  },
  {
   "cell_type": "code",
   "execution_count": 1,
   "metadata": {},
   "outputs": [],
   "source": [
    "import os.path as op\n",
    "import pandas as pd\n",
    "import numpy as np\n",
    "from sklearn.model_selection import StratifiedKFold\n",
    "from sklearn.feature_selection import f_classif, SelectKBest\n",
    "from sklearn.pipeline import Pipeline\n",
    "from sklearn.model_selection import cross_val_score\n",
    "from sklearn.preprocessing import StandardScaler\n",
    "from sklearn.svm import SVC\n",
    "from sklearn.metrics import f1_score\n",
    "from sklearn.externals import joblib as jl\n",
    "import seaborn as sns\n",
    "import scipy.stats as stats\n",
    "from copy import deepcopy\n",
    "from tqdm import tqdm_notebook\n",
    "\n",
    "import matplotlib.pyplot as plt\n",
    "%matplotlib inline\n",
    "sns.set(style='whitegrid', context='poster')\n",
    "rc = {\"font.size\":25, \"axes.titlesize\":25, \"axes.labelsize\":25, \n",
    "      \"legend.fontsize\":15, \"xtick.labelsize\": 15,\n",
    "      \"ytick.labelsize\": 15, \"text.usetex\": True}"
   ]
  },
  {
   "cell_type": "markdown",
   "metadata": {},
   "source": [
    "### Loading in the data\n",
    "Below we load in the behavioral data (`PIOP1_behav_2017_with_brainsize.tsv`), which includes our factor-to-decode, \"Gender\", and our confound-of-interest (\"brain_size\"). The feature 'brain size' was calculated as the total amount of non-zero voxels of each subject's gray-matter segmented T1-weighted structural scan (as segmented by [FSL FAST](https://fsl.fmrib.ox.ac.uk/fsl/fslwiki/FAST); FSL v5.0).\n",
    "\n",
    "The voxel patterns are contained in the `Mvp` objects - a data-structure defined in the [skbold](skbold.readthedocs.io) package - in the attribute `X` (a $N$ [subjects] $\\times\\ K$ [voxels] numpy array). Two sets of voxel patterns are loaded: one with VBM data (processed with the standard [FSL-VBM pipeline](https://fsl.fmrib.ox.ac.uk/fsl/fslwiki/FSLVBM)) and one with skeletonized FA-data (processed with the standard [FSL-TBSS pipeline](https://fsl.fmrib.ox.ac.uk/fsl/fslwiki/TBSS) for a total of 217 subjects."
   ]
  },
  {
   "cell_type": "code",
   "execution_count": 3,
   "metadata": {},
   "outputs": [
    {
     "name": "stdout",
     "output_type": "stream",
     "text": [
      "Shape of VBM voxel patterns: (217, 412473)\n",
      "Shape of TBSS voxel patterns: (217, 128340)\n"
     ]
    }
   ],
   "source": [
    "base_dir = '/media/lukas/goliath/MVCA/data/mvp'\n",
    "behav_file = op.join(base_dir, 'PIOP1_behav_2017_MVCA_with_brainsize.tsv')\n",
    "\n",
    "# Load in VBM-mvp ...\n",
    "mvp_vbm = jl.load(op.join(base_dir, 'mvp_vbm.jl'))\n",
    "\n",
    "# ... and add \"Gender\" as \"y\" attribute\n",
    "mvp_vbm.add_y(behav_file, col_name='Gender', index_col=0, nan_strategy='remove')\n",
    "mvp_vbm.y = 1 - (mvp_vbm.y - 1)  # recode from [2, 1] to [0, 1] \n",
    "print(\"Shape of VBM voxel patterns: %s\" % (mvp_vbm.X.shape,))\n",
    "\n",
    "# Same for TBSS\n",
    "mvp_tbss = jl.load(op.join(base_dir, 'mvp_tbss.jl'))\n",
    "mvp_tbss.add_y(behav_file, col_name='Gender', index_col=0, nan_strategy='remove')\n",
    "mvp_tbss.y -= 1\n",
    "print(\"Shape of TBSS voxel patterns: %s\" % (mvp_tbss.X.shape,))"
   ]
  },
  {
   "cell_type": "markdown",
   "metadata": {},
   "source": [
    "Note that the TBSS Mvp contains way fewer voxels due to the fact that `skbold` already removed all 0 voxels (i.e. voxels outside the TBSS skeleton). \n",
    "\n",
    "Now, we load in the confound - brain size - from the same file with \"behavioral\" data:"
   ]
  },
  {
   "cell_type": "code",
   "execution_count": 4,
   "metadata": {},
   "outputs": [],
   "source": [
    "df = pd.read_csv(behav_file, index_col=0, sep='\\t')\n",
    "confound_vbm = df.loc[mvp_vbm.common_subjects]['brain_size']\n",
    "confound_tbss = df.loc[mvp_tbss.common_subjects]['brain_size']"
   ]
  },
  {
   "cell_type": "markdown",
   "metadata": {},
   "source": [
    "### Setting analysis parameters\n",
    "For the first couple of confound strategies (here we call them \"scenarios\"), we set some default parameters for our MVPA pipelines."
   ]
  },
  {
   "cell_type": "code",
   "execution_count": 5,
   "metadata": {},
   "outputs": [],
   "source": [
    "n_folds = 10  # used in stratified K-fold\n",
    "n_jobs = 8    # for parallel execution of pipelines through joblib\n",
    "\n",
    "# Make a dict of both Mvps\n",
    "mvp = dict(vbm=mvp_vbm, tbss=mvp_tbss)\n",
    "\n",
    "# ... same for confounds (although they're the same here)\n",
    "confound = dict(vbm=confound_vbm[:, np.newaxis],\n",
    "                tbss=confound_tbss[:, np.newaxis])\n",
    "\n",
    "# We're going to evaluate the scenarios for different amounts of voxels\n",
    "num_vox = np.round(np.logspace(2, 5, num=8)).astype(int)\n",
    "\n",
    "# We'll use F1-score as an evaluation metric because our classes\n",
    "# are be slightly imbalanced (i.e. more female than male subjects)\n",
    "metric = 'f1_macro'\n",
    "\n",
    "# The default pipeline we'll use: \n",
    "# - univariate feature selection (f-test)\n",
    "# - zero-mean / unit std scaling\n",
    "# - linear SVM\n",
    "pipeline = Pipeline([('ufs', SelectKBest(f_classif, k=None)),\n",
    "                     ('scaler', StandardScaler()),\n",
    "                     ('clf', SVC(kernel='linear'))])"
   ]
  },
  {
   "cell_type": "markdown",
   "metadata": {},
   "source": [
    "## Sanity check: does brain-size predict gender?\n",
    "Before anything else, we should evaluate whether brain-size is truly a confound. We do this in two ways. First, we can simply calculate the correlation between brain size and gender (or, more aptly, the 'pointbiserial correlation')."
   ]
  },
  {
   "cell_type": "code",
   "execution_count": 7,
   "metadata": {},
   "outputs": [
    {
     "name": "stdout",
     "output_type": "stream",
     "text": [
      "Correlation (p-value) between brain-size and gender: 0.645 (0.0000)\n"
     ]
    }
   ],
   "source": [
    "# Note that we use the VBM mvp object here, but given that the confound and gender-factor is \n",
    "# exactly the same for both VBM/TBSS (i.e., they contain the same subjects), we just pick VBM\n",
    "corr, pval = stats.pearsonr(confound['vbm'].squeeze(), mvp['vbm'].y)\n",
    "print(\"Correlation (p-value) between brain-size and gender: %.3f (%.4f)\" % (corr, pval))"
   ]
  },
  {
   "cell_type": "markdown",
   "metadata": {},
   "source": [
    "Next to calculating the simple correlation, we can also evualate dependence by using the [Same Analysis Approach](https://arxiv.org/abs/1703.06670) (SAA) suggested by Görgen and colleagues. SAA suggests to simply use your potential confound as a single feature in a classification analysis. Here, we can use brain size as a single predictor in a model trying to predict gender.\n",
    "\n",
    "Let's find out:"
   ]
  },
  {
   "cell_type": "code",
   "execution_count": 8,
   "metadata": {},
   "outputs": [
    {
     "data": {
      "image/png": "[encoded data removed]",
      "text/plain": [
       "<matplotlib.figure.Figure at 0x7f0317e27f98>"
      ]
     },
     "metadata": {},
     "output_type": "display_data"
    }
   ],
   "source": [
    "# We leave out univariate feature selection, but include the scaler\n",
    "pipeline_check = Pipeline([('scaler', StandardScaler()),\n",
    "                           ('clf', SVC(kernel='linear'))])\n",
    "\n",
    "# Confound and y are the same for VBM & TBSS\n",
    "this_mvp, this_confound = mvp['vbm'], confound['vbm']\n",
    "scores = cross_val_score(pipeline_check, this_confound, this_mvp.y,\n",
    "                         cv=n_folds, scoring=metric, n_jobs=n_jobs)\n",
    "results_check = {'scores': scores}\n",
    "df_check = pd.DataFrame(results_check)\n",
    "\n",
    "with sns.plotting_context(rc=rc):\n",
    "    fig = plt.gcf()\n",
    "    fig.set_size_inches((9.6, 4.01))\n",
    "    g = sns.boxplot(df_check['scores'], width=0.4, orient='h', palette=\"muted\")\n",
    "    g.set(xlim=(.4, 1), xlabel='F1-score')\n",
    "    plt.axvline(x=0.5, c='black', ls='dashed')\n",
    "    plt.show()"
   ]
  },
  {
   "cell_type": "markdown",
   "metadata": {},
   "source": [
    "Conclusion: yes, very accurately so (F1 > 0.8)! Thus, we can conclude that 'brain size' is a potential confound in our analyses!"
   ]
  },
  {
   "cell_type": "markdown",
   "metadata": {},
   "source": [
    "## Distribution of correlation between voxels and gender & voxels and brain-size\n",
    "Now, it might be informative to check the dependence between our voxels (in both the VBM and TBSS) and gender, just to get an intuition on how the distribution of correlations looks like. This kind of amounts to a mass-univariate analysis. But, importantly, we also quickly take a look at how this distribution changes when we account for brain-size (that is, we regress brain-size out of each feature/voxel). Later in this notebook, we elaborate more on this method!"
   ]
  },
  {
   "cell_type": "markdown",
   "metadata": {},
   "source": [
    "First, we'll regress out brain-size from each voxel (using simple OLS). In other words, the new data will contain the residuals from the model: $voxel = \\beta_{0} + \\beta_{1} brainsize + \\epsilon$"
   ]
  },
  {
   "cell_type": "code",
   "execution_count": 9,
   "metadata": {},
   "outputs": [
    {
     "data": {
      "application/vnd.jupyter.widget-view+json": {
       "model_id": "54a90c4769264064aadd44e0cbadf4d5"
      }
     },
     "metadata": {},
     "output_type": "display_data"
    },
    {
     "name": "stdout",
     "output_type": "stream",
     "text": [
      "\n"
     ]
    },
    {
     "data": {
      "application/vnd.jupyter.widget-view+json": {
       "model_id": "192bf25fd2b0476f95b0a52470c2c31b"
      }
     },
     "metadata": {},
     "output_type": "display_data"
    },
    {
     "name": "stdout",
     "output_type": "stream",
     "text": [
      "\n"
     ]
    }
   ],
   "source": [
    "mvp_no_brainsize = dict()\n",
    "        \n",
    "for modality in ['vbm', 'tbss']:\n",
    "    design = np.hstack((np.ones((mvp[modality].X.shape[0], 1)),\n",
    "                        confound[modality]))\n",
    "\n",
    "    tmp = deepcopy(mvp[modality])\n",
    "    \n",
    "    for vox in tqdm_notebook(range(mvp[modality].X.shape[1]), desc='regression (%s)' % modality):\n",
    "        beta = np.linalg.lstsq(design, mvp[modality].X[:, vox])[0]\n",
    "        tmp.X[:, vox] -= beta.dot(design.T) \n",
    "    mvp_no_brainsize[modality] = tmp"
   ]
  },
  {
   "cell_type": "markdown",
   "metadata": {},
   "source": [
    "Now, let's check the distribution of correlations between the voxels and gender, both before and after regressing out the confound."
   ]
  },
  {
   "cell_type": "code",
   "execution_count": 16,
   "metadata": {},
   "outputs": [
    {
     "data": {
      "application/vnd.jupyter.widget-view+json": {
       "model_id": "b8ab0004cdf94c65a267e0f670513317"
      }
     },
     "metadata": {},
     "output_type": "display_data"
    },
    {
     "name": "stdout",
     "output_type": "stream",
     "text": [
      "\n"
     ]
    },
    {
     "data": {
      "application/vnd.jupyter.widget-view+json": {
       "model_id": "795581786bf441fdb7173151f4a7ebf4"
      }
     },
     "metadata": {},
     "output_type": "display_data"
    },
    {
     "name": "stdout",
     "output_type": "stream",
     "text": [
      "\n"
     ]
    }
   ],
   "source": [
    "corrs_X_y = dict(corrs=[], type=[], modality=[])\n",
    "\n",
    "for modality in ['vbm', 'tbss']:\n",
    "\n",
    "    for vox in tqdm_notebook(range(mvp[modality].X.shape[1]), desc='Analyzing %s' % modality):\n",
    "        corrs_X_y['corrs'].append(stats.pearsonr(mvp[modality].X[:, vox], mvp[modality].y)[0])\n",
    "        corrs_X_y['type'].append('original')\n",
    "        corrs_X_y['modality'].append(modality.upper())\n",
    "        corrs_X_y['corrs'].append(stats.pearsonr(mvp_no_brainsize[modality].X[:, vox], mvp[modality].y)[0])\n",
    "        corrs_X_y['type'].append('corrected')\n",
    "        corrs_X_y['modality'].append(modality.upper())"
   ]
  },
  {
   "cell_type": "markdown",
   "metadata": {},
   "source": [
    "And let's plot it!"
   ]
  },
  {
   "cell_type": "code",
   "execution_count": 17,
   "metadata": {},
   "outputs": [
    {
     "data": {
      "image/png": "[encoded data removed]",
      "text/plain": [
       "<matplotlib.figure.Figure at 0x7f02d7d6be48>"
      ]
     },
     "metadata": {},
     "output_type": "display_data"
    }
   ],
   "source": [
    "corr_df = pd.DataFrame(corrs_X_y)\n",
    "\n",
    "with sns.plotting_context(rc=rc):\n",
    "    colorpalette = dict(original=\"darkorange\", corrected=\"darkviolet\")\n",
    "    g = sns.FacetGrid(corr_df, col='modality', hue='type', legend_out=True, size=5, palette=colorpalette)\n",
    "    g = g.map(sns.distplot, \"corrs\")\n",
    "    g.add_legend(title='')\n",
    "    g.set(xlabel=r'$\\rho$(X, y)')\n",
    "    fig = plt.gcf()\n",
    "    fig.set_size_inches((9.6, 4.01))\n",
    "    plt.show()"
   ]
  },
  {
   "cell_type": "code",
   "execution_count": 21,
   "metadata": {},
   "outputs": [
    {
     "data": {
      "text/plain": [
       "0.062013422696800456"
      ]
     },
     "execution_count": 21,
     "metadata": {},
     "output_type": "execute_result"
    }
   ],
   "source": [
    "corr_df[(corr_df.modality == 'TBSS') & (corr_df.type == 'corrected')].corrs.values.std()"
   ]
  },
  {
   "cell_type": "markdown",
   "metadata": {},
   "source": [
    "What we see in the plot above makes sense: after removing variance in X associated with brain-size, the correlation distribution (between voxels and gender) becomes more narrow!"
   ]
  },
  {
   "cell_type": "markdown",
   "metadata": {},
   "source": [
    "Moreover, let's check out the dependence between the voxels and brainsize:"
   ]
  },
  {
   "cell_type": "code",
   "execution_count": null,
   "metadata": {},
   "outputs": [],
   "source": [
    "corrs_X_c = dict(corr=[], modality=[])\n",
    "\n",
    "for modality in ['vbm', 'tbss']:\n",
    "    \n",
    "    for vox in tqdm_notebook(range(mvp[modality].X.shape[1]), desc='analyzing %s' % modality):\n",
    "        corrs_X_c['corr'].append(stats.pearsonr(mvp[modality].X[:, vox], confound[modality].squeeze())[0])\n",
    "        corrs_X_c['modality'].append(modality.upper())"
   ]
  },
  {
   "cell_type": "markdown",
   "metadata": {},
   "source": [
    "Let's check out some descriptive statistics:"
   ]
  },
  {
   "cell_type": "code",
   "execution_count": null,
   "metadata": {},
   "outputs": [],
   "source": [
    "corr_df_X_c = pd.DataFrame(corrs_X_c)\n",
    "abs_df = corr_df_X_c.copy()\n",
    "abs_df['corr'] = abs_df['corr'].apply(np.abs)\n",
    "abs_df.groupby('modality').describe()"
   ]
  },
  {
   "cell_type": "markdown",
   "metadata": {},
   "source": [
    "And plot it:"
   ]
  },
  {
   "cell_type": "code",
   "execution_count": null,
   "metadata": {},
   "outputs": [],
   "source": [
    "with sns.plotting_context(rc=rc):\n",
    "    g = sns.FacetGrid(corr_df_X_c, col='modality', hue='modality', legend_out=True, size=5, palette=\"muted\")\n",
    "    g = g.map(sns.distplot, \"corr\")\n",
    "    g.add_legend(title='')\n",
    "    g.set(xlabel=r'$\\rho$(X, c)')\n",
    "    fig = plt.gcf()\n",
    "    fig.set_size_inches((9.6, 4.01))\n",
    "    plt.show()"
   ]
  },
  {
   "cell_type": "markdown",
   "metadata": {},
   "source": [
    "We see that brain-size is on average (in absolute units of correlation) quite correlated with our brain data! In the next sections, we'll test out different methods to deal with these confounding influences in multivoxel pattern analyses. First, we'll check how our proposed method - confound regression - does."
   ]
  },
  {
   "cell_type": "markdown",
   "metadata": {},
   "source": [
    "## Scenario 1: no confound regression\n",
    "Now, for a baseline analysis, let's predict gender based on TBSS and VBM data for different amounts of voxels included in the analyses (as selected by `f_classif`):"
   ]
  },
  {
   "cell_type": "code",
   "execution_count": null,
   "metadata": {},
   "outputs": [],
   "source": [
    "results_sce1 = dict(n_vox=[], score=[], modality=[])\n",
    "\n",
    "for modality in ['vbm', 'tbss']:\n",
    "    this_mvp = mvp[modality]\n",
    "    for i, nV in enumerate(tqdm_notebook(np.append(num_vox, this_mvp.X.shape[1]),\n",
    "                                         desc='analyzing %s' % modality)):\n",
    "        \n",
    "        pipeline.set_params(ufs__k=nV)\n",
    "        scores = cross_val_score(pipeline, this_mvp.X, this_mvp.y,\n",
    "                                 cv=n_folds, scoring=metric, n_jobs=1)\n",
    "        results_sce1['n_vox'].extend([nV] * n_folds)\n",
    "        results_sce1['score'].extend(scores.tolist())\n",
    "        results_sce1['modality'].extend([modality] * n_folds)"
   ]
  },
  {
   "cell_type": "markdown",
   "metadata": {},
   "source": [
    "Let's plot the results (the dashed line is chance level performance):"
   ]
  },
  {
   "cell_type": "code",
   "execution_count": null,
   "metadata": {},
   "outputs": [],
   "source": [
    "results_sce1_df = pd.DataFrame(results_sce1)\n",
    "results_sce1_df['method'] = ['none'] * len(results_sce1_df)\n",
    "with sns.plotting_context(rc=rc):\n",
    "    fig = plt.gcf()\n",
    "    fig.set_size_inches((9.6, 4.01))\n",
    "    g = sns.factorplot(x='n_vox', y='score', hue='modality', data=results_sce1_df, size=5, aspect=2, legend_out=False,\n",
    "                       palette=\"muted\", legend=False)\n",
    "    g.set(ylim=(0, 1), ylabel='F1-score', xlabel='N voxels')\n",
    "    plt.axhline(y=0.5, c='black', ls='dashed')\n",
    "    plt.legend(title='Modality', bbox_to_anchor=(1.02, 1), loc=2, borderaxespad=0.)\n",
    "    plt.show()"
   ]
  },
  {
   "cell_type": "markdown",
   "metadata": {},
   "source": [
    "As you can see, performance is far above chance, but it is unclear what drives our results ([which is in general a problem in MVPA](http://www.sciencedirect.com/science/article/pii/S1364661315001692) ...): some 'true signal' or signal confounded by brain size? \n",
    "\n",
    "Let's look at some other scenarios which try to deal with the brain-size confound and check to what extent it drives classification performance."
   ]
  },
  {
   "cell_type": "markdown",
   "metadata": {},
   "source": [
    "## Scenario 2: confound regression on entire dataset\n",
    "First, we'll evaluate the strategy that is sometimes adopted: regressing out the confound from the entire data-set (here: `X`) at once (like in [this article](http://www.sciencedirect.com/science/article/pii/S1053811913002887)), like we did when we compared the correlation distributions of the voxels and gender/brain-size between \"uncorrected\" and \"corrected\" data. \n",
    "\n",
    "In the rest of the notebook, we'll discuss and demonstrate different ways of regressing out a confound from the data (\"X\"), and to reduce the boilerplate code, we wrote a custom `scikit-learn`-style \"transformer\" class that does exactly this: take a confound upon initialization and subsequently fits a model using the confound to predict each feature in `X` during `fit(X)`, and subsequently regresses out the confound from each feature in `X` during `transform(X)` (in a scikit-learn style). \n",
    "\n",
    "For more info on the exact implementation of the `ConfoundRegressor` object, check the [skbold Github repo](https://github.com/lukassnoek/skbold/blob/master/skbold/preproc/confounds.py).\n",
    "\n",
    "Assuming that the latest version of `skbold` is installed on the system, let's import the `ConfoundRegressor` class."
   ]
  },
  {
   "cell_type": "code",
   "execution_count": null,
   "metadata": {},
   "outputs": [],
   "source": [
    "from skbold.preproc.confounds import ConfoundRegressor"
   ]
  },
  {
   "cell_type": "markdown",
   "metadata": {},
   "source": [
    "Let's copy the Mvp objects, regress out the confound, and store it in a new dict (`mvp_sce2`)."
   ]
  },
  {
   "cell_type": "code",
   "execution_count": null,
   "metadata": {},
   "outputs": [],
   "source": [
    "mvp_sce2 = dict()\n",
    "for modality in ['vbm', 'tbss']:\n",
    "    print(\"Processing mod=%s\" % modality)\n",
    "    tmp = deepcopy(mvp[modality])\n",
    "    con_reg = ConfoundRegressor(confound=confound[modality],\n",
    "                                fit_idx=np.arange(tmp.X.shape[0]))\n",
    "    tmp.X = con_reg.fit(tmp.X, tmp.y).transform(tmp.X)\n",
    "    mvp_sce2[modality] = tmp"
   ]
  },
  {
   "cell_type": "markdown",
   "metadata": {},
   "source": [
    "Now, we'll do exactly the same as in \"scenario 1\", but this time with the confound-regressed data:"
   ]
  },
  {
   "cell_type": "code",
   "execution_count": null,
   "metadata": {},
   "outputs": [],
   "source": [
    "results_sce2 = dict(n_vox=[], score=[], modality=[])\n",
    "\n",
    "for modality in ['vbm', 'tbss']:\n",
    "    \n",
    "    this_mvp = mvp_sce2[modality]\n",
    "    \n",
    "    for i, nV in enumerate(tqdm_notebook(np.append(num_vox, this_mvp.X.shape[1]),\n",
    "                                                   desc='analyzing %s' % modality)):\n",
    "        \n",
    "        pipeline.set_params(ufs__k=nV)\n",
    "        scores = cross_val_score(pipeline, this_mvp.X, this_mvp.y,\n",
    "                                 cv=n_folds, scoring=metric, n_jobs=1)\n",
    "        results_sce2['n_vox'].extend([nV] * n_folds)\n",
    "        results_sce2['score'].extend(scores.tolist())\n",
    "        results_sce2['modality'].extend([modality] * n_folds)"
   ]
  },
  {
   "cell_type": "code",
   "execution_count": null,
   "metadata": {},
   "outputs": [],
   "source": [
    "results_sce2_df = pd.DataFrame(results_sce2)\n",
    "results_sce2_df['method'] = ['regress_no_cv'] * len(results_sce2_df)\n",
    "\n",
    "with sns.plotting_context(rc=rc):\n",
    "    ax = sns.factorplot(x='n_vox', y='score', hue='modality', data=results_sce2_df, size=5, aspect=2, legend_out=False,\n",
    "                        palette='muted', legend=False)\n",
    "    ax.set(ylim=(0, 1), ylabel='F1-score', xlabel='N voxels')\n",
    "    plt.axhline(y=0.5, c='black', ls='dashed')\n",
    "    fig = plt.gcf()\n",
    "    fig.set_size_inches((9.6, 4.01))\n",
    "    plt.legend(title='Modality', bbox_to_anchor=(1.02, 1), loc=2, borderaxespad=0.)\n",
    "    plt.show()"
   ]
  },
  {
   "cell_type": "markdown",
   "metadata": {},
   "source": [
    "**What is happening??** We see that classification performance quickly drops under chance level with an increasing number of voxels in our analyses... As we've argue in our paper and show in our simulations (see [this]() notebook), this is due to the fact that we've regressed out our confound on the *entire data-set (X)*, but then proceed to do K-fold cross-validation, in which (due to sampling error) confounds might still have a (opposite!) effect in train and test. (This point is related to what Görgen et al. mention in [their paper](https://arxiv.org/abs/1703.06670) about the \"Same analysis approach\"\n",
    "\n",
    "So, naturally, let's check and see what happens when we fit the confound regression on the train-set only and subsequently use those models to regress the confound on the train- *and* test-set. Or in other words, let's cross-validate our confound-regression"
   ]
  },
  {
   "cell_type": "markdown",
   "metadata": {},
   "source": [
    "## Scenario 3: confound regression on train and cv to test\n",
    "Because our confound regression is going to take (roughly) `K` times (i.e. the amount of folds) as long, and it is inefficient to regress out our confounds from each fold again for every different number of voxels, we have written a function to parallelize our fold-wise classification by putting the loop over `num_vox` inside that function.\n",
    "\n",
    "Note that the `ConfoundRegressor` is initialized with an additional parameter now: `cross_validate=True`, which makes sure that when we transform the test-set, it uses the weights from the fitting procedure on the train-set. (In the next scenario, we'll set `cross_validate` to `False` in order to check what happens when we fit it separately to the test-set.)"
   ]
  },
  {
   "cell_type": "code",
   "execution_count": null,
   "metadata": {},
   "outputs": [],
   "source": [
    "def _parallelize_sce3(X, y, c, train_idx, test_idx,\n",
    "                      pipeline, num_vox, modality, n_folds, i):\n",
    "    \"\"\" Runs a specific fold in K-fold cross-validation for\n",
    "    a given set num_vox (array with number of voxels to select). \"\"\"\n",
    "    \n",
    "    print(\"Starting confound regression fold: %i\" % (i + 1))\n",
    "    conreg = ConfoundRegressor(confound=c, fit_idx=train_idx, cross_validate=True)\n",
    "    X_train_con = conreg.fit(X[train_idx], y).transform(X[train_idx])\n",
    "    X_test_con = conreg.transform(X[test_idx])\n",
    "    \n",
    "    results_tmp = {'score': np.zeros(len(num_vox) + 1),\n",
    "                   'n_vox': np.append(num_vox, X.shape[1]),\n",
    "                   'modality': [modality] * (len(num_vox) + 1),\n",
    "                   'n_folds': [n_folds] * (len(num_vox) + 1)}\n",
    "    \n",
    "    print(\"Starting processing fold: %i\" % (i + 1))\n",
    "    for j, nV in enumerate(np.append(num_vox, X.shape[1])):\n",
    "        pipeline.set_params(ufs__k=nV)\n",
    "        pipeline.fit(X_train_con, y[train_idx])\n",
    "        pred = pipeline.predict(X_test_con)\n",
    "        score = f1_score(y[test_idx], pred)\n",
    "        results_tmp['score'][j] = score\n",
    "    \n",
    "    return results_tmp"
   ]
  },
  {
   "cell_type": "markdown",
   "metadata": {},
   "source": [
    "It is kinda messy, but below we essentially just do the same thing as in the first two scenarios. This takes quite long, because essentially we're fitting ~400,000 * 10 linear models!"
   ]
  },
  {
   "cell_type": "code",
   "execution_count": null,
   "metadata": {
    "scrolled": true
   },
   "outputs": [],
   "source": [
    "results_sce3 = []\n",
    "\n",
    "for modality in ['vbm', 'tbss']:\n",
    "    print(\"Processing mod=%s\" % modality)\n",
    "    skf = StratifiedKFold(n_splits=n_folds)\n",
    "    this_mvp = mvp[modality]\n",
    "    \n",
    "    res = jl.Parallel(n_jobs=8)(jl.delayed(_parallelize_sce3)\n",
    "                                (this_mvp.X, this_mvp.y, confound[modality], train_idx,\n",
    "                                 test_idx, pipeline, num_vox, modality, n_folds, i)\n",
    "                                 for i, (train_idx, test_idx) in enumerate(skf.split(this_mvp.X, this_mvp.y)))\n",
    "    results_sce3.append(res)"
   ]
  },
  {
   "cell_type": "code",
   "execution_count": null,
   "metadata": {},
   "outputs": [],
   "source": [
    "results_sce3_df = pd.concat([pd.DataFrame(x) for mod_list in results_sce3 for x in mod_list])\n",
    "results_sce3_df['method'] = ['regress_cv'] * len(results_sce3_df)\n",
    "with sns.plotting_context(rc=rc):\n",
    "    g = sns.factorplot(x='n_vox', y='score', hue='modality', data=results_sce3_df, size=5, aspect=2,\n",
    "                       palette='muted', legend=False)\n",
    "    g.set(ylim=(0, 1), xlabel='N voxels', ylabel='F1-score')\n",
    "    plt.axhline(y=0.5, c='black', ls='dashed')\n",
    "    fig = plt.gcf()\n",
    "    fig.set_size_inches((10.5, 3.25))\n",
    "    plt.legend(title='Modality', bbox_to_anchor=(1.02, 1), loc=2, borderaxespad=0.)\n",
    "    plt.show()"
   ]
  },
  {
   "cell_type": "markdown",
   "metadata": {},
   "source": [
    "As we can see, classification performance stays above chance (for the entire range of number of voxels)! "
   ]
  },
  {
   "cell_type": "markdown",
   "metadata": {},
   "source": [
    "## Scecario 4: What about counterbalancing?\n",
    "Some argue, like Görgen et al in their SAA paper, that below chance classification can be prevented by making sure each *fold* is counterbalanced (i.e., correlation between target and confound is zero). \n",
    "\n",
    "Let's investigate this. We've written a scikit-learn style class, `CounterbalancedStratifiedSplit` (which is similar to scikit-learn's StratifiedKFold) that subsamples your data until the confound is counterbalanced between classes of y. "
   ]
  },
  {
   "cell_type": "code",
   "execution_count": null,
   "metadata": {},
   "outputs": [],
   "source": [
    "from counterbalance import CounterbalancedStratifiedSplit\n",
    "\n",
    "method_list = [func for func in dir(CounterbalancedStratifiedSplit)\n",
    "               if callable(getattr(CounterbalancedStratifiedSplit, func)) and not func.startswith(\"_\")]\n",
    "\n",
    "print(\"The CounterbalanceStratifiedSplit class has the following methods:\\n%s\" % (method_list,))"
   ]
  },
  {
   "cell_type": "markdown",
   "metadata": {},
   "source": [
    "Let's evaluate the counterbalance-method the same way as we did with the regression method:"
   ]
  },
  {
   "cell_type": "code",
   "execution_count": null,
   "metadata": {},
   "outputs": [],
   "source": [
    "results_sce4 = dict(n_vox=[], score=[], modality=[])\n",
    "\n",
    "for modality in ['vbm', 'tbss']:\n",
    "    \n",
    "    c = confound[modality]\n",
    "    this_mvp = mvp[modality]    \n",
    "\n",
    "    skf = CounterbalancedStratifiedSplit(this_mvp.X, this_mvp.y, c.squeeze(),\n",
    "                                         c_type='continuous', metric='corr', threshold=0.1,\n",
    "                                         verbose=False, n_splits=n_folds)\n",
    "    skf.check_counterbalance_and_subsample()\n",
    "    X, y, c = this_mvp.X[skf.subsample_idx], this_mvp.y[skf.subsample_idx], c[skf.subsample_idx]\n",
    "\n",
    "    for i, nV in enumerate(tqdm_notebook(np.append(num_vox, this_mvp.X.shape[1]),\n",
    "                                         desc='Evaluating %s' % modality)):\n",
    "        \n",
    "        pipeline.set_params(ufs__k=nV)        \n",
    "        scores = np.zeros(n_folds)\n",
    "        for i, (train_idx, test_idx) in enumerate(skf.split(X, y)):\n",
    "            X_train, y_train = X[train_idx], y[train_idx]\n",
    "            X_test, y_test = X[test_idx], y[test_idx]\n",
    "            pipeline.fit(X_train, y_train)\n",
    "            scores[i] = pipeline.score(X_test, y_test)\n",
    "            \n",
    "        results_sce4['n_vox'].extend([nV] * n_folds)\n",
    "        results_sce4['score'].extend(scores.tolist())\n",
    "        results_sce4['modality'].extend([modality] * n_folds)"
   ]
  },
  {
   "cell_type": "code",
   "execution_count": null,
   "metadata": {},
   "outputs": [],
   "source": [
    "results_sce4_df = pd.DataFrame(results_sce4)\n",
    "results_sce4_df['method'] = ['counterbalancing'] * len(results_sce4_df)\n",
    "with sns.plotting_context(rc=rc):\n",
    "    fig = plt.gcf()\n",
    "    fig.set_size_inches((9.6, 4.01))\n",
    "    g = sns.factorplot(x='n_vox', y='score', hue='modality', data=results_sce4_df, size=5, aspect=2,\n",
    "                       legend_out=False, palette=\"muted\", legend=False)\n",
    "    g.set(ylim=(0, 1), ylabel='F1-score', xlabel='N voxels')\n",
    "    plt.axhline(y=0.5, c='black', ls='dashed')\n",
    "    plt.legend(title='Modality', bbox_to_anchor=(1.02, 1), loc=2, borderaxespad=0.)\n",
    "    plt.show()"
   ]
  },
  {
   "cell_type": "markdown",
   "metadata": {},
   "source": [
    "How does it compare to the other methods?"
   ]
  },
  {
   "cell_type": "code",
   "execution_count": null,
   "metadata": {},
   "outputs": [],
   "source": [
    "results_three_methods = pd.concat((results_sce1_df, results_sce3_df, results_sce4_df))\n",
    "with sns.plotting_context(rc=rc):\n",
    "    fig = plt.gcf()\n",
    "    fig.set_size_inches((9.6, 4.01))\n",
    "    g = sns.factorplot(x='n_vox', y='score', hue='method', col='modality', \n",
    "                       data=results_three_methods, size=5, aspect=2,\n",
    "                       legend_out=False, palette=\"muted\", legend=False)\n",
    "    g.set(ylim=(0, 1), ylabel='F1-score', xlabel='N voxels')\n",
    "    g.map(plt.axhline, y=0.5, c='black', ls='--')\n",
    "    plt.axhline(y=0.5, c='black', ls='dashed')\n",
    "    plt.legend(title='Method', bbox_to_anchor=(1.02, 1), loc=2, borderaxespad=0.)\n",
    "    plt.show()"
   ]
  },
  {
   "cell_type": "markdown",
   "metadata": {},
   "source": [
    "That's weird ... Especially with the VBM-data, there seems to be a strong positive bias in the counterbalance-method. What is happening?\n",
    "\n",
    "Perhaps we can figure out something from the correlation structure before and after subsampling. To do so, we'll calculate the correlations between the voxels and gender both before and after subsampling. "
   ]
  },
  {
   "cell_type": "code",
   "execution_count": null,
   "metadata": {},
   "outputs": [],
   "source": [
    "results_corr_sce4 = dict(corrs=[], before_after=[], kind=[], modality=[])\n",
    "\n",
    "for modality in ['vbm', 'tbss']:\n",
    "\n",
    "    c = confound[modality]\n",
    "    this_mvp = mvp[modality]\n",
    "    \n",
    "    for ivox in tqdm_notebook(range(this_mvp.X.shape[1]), desc='Correlations before (%s)' % modality):\n",
    "        results_corr_sce4['modality'].extend([modality] * 2)\n",
    "        results_corr_sce4['before_after'].extend(['before'] * 2)\n",
    "        results_corr_sce4['corrs'].append(stats.pearsonr(this_mvp.X[:, ivox], this_mvp.y)[0])\n",
    "        results_corr_sce4['kind'].append('xy')\n",
    "        results_corr_sce4['corrs'].append(stats.pearsonr(this_mvp.X[:, ivox], c.squeeze())[0])\n",
    "        results_corr_sce4['kind'].append('xc')        \n",
    "\n",
    "    skf = CounterbalancedStratifiedSplit(this_mvp.X, this_mvp.y, c.squeeze(),\n",
    "                                         c_type='continuous', metric='corr', threshold=0.1,\n",
    "                                         verbose=False, n_splits=n_folds)\n",
    "    skf.check_counterbalance_and_subsample()\n",
    "    \n",
    "    X, y, c = this_mvp.X[skf.subsample_idx], this_mvp.y[skf.subsample_idx], c[skf.subsample_idx]\n",
    "    \n",
    "    for ivox in tqdm_notebook(range(this_mvp.X.shape[1]), desc='Correlations after (%s)' % modality):\n",
    "        results_corr_sce4['modality'].extend([modality] * 2)\n",
    "        results_corr_sce4['before_after'].extend(['after'] * 2)\n",
    "        results_corr_sce4['corrs'].append(stats.pearsonr(X[:, ivox], y)[0])\n",
    "        results_corr_sce4['kind'].append('xy')\n",
    "        results_corr_sce4['corrs'].append(stats.pearsonr(X[:, ivox], c.squeeze())[0])\n",
    "        results_corr_sce4['kind'].append('xc')        "
   ]
  },
  {
   "cell_type": "markdown",
   "metadata": {},
   "source": [
    "Now, let's plot the 'before' and 'after' correlation distributions (both $\\rho(xy)$ and $\\rho(xc)$) for both VBM and TBSS!"
   ]
  },
  {
   "cell_type": "code",
   "execution_count": null,
   "metadata": {},
   "outputs": [],
   "source": [
    "results_corr_sce4_df = pd.DataFrame(results_corr_sce4)\n",
    "g = sns.FacetGrid(results_corr_sce4_df, col='kind', row='modality', hue='before_after', size=6)\n",
    "g.map(plt.hist, 'corrs', alpha=0.5, bins=50)\n",
    "g.add_legend()"
   ]
  },
  {
   "cell_type": "markdown",
   "metadata": {},
   "source": [
    "This figure is quite telling. The plots on the left (of the distribution of correlations between X and y) show you that subsamping widens the correlation distribution, meaning that it (artificially) increases the dependence between the data (X) and the target (y) by decorrelating the target (y) and the confound (c). "
   ]
  },
  {
   "cell_type": "code",
   "execution_count": null,
   "metadata": {},
   "outputs": [],
   "source": [
    "def get_r2(iv, dv, stack_intercept=True):\n",
    "    \"\"\" Regress dv onto iv and return r-squared.\n",
    "    \n",
    "    Parameters\n",
    "    ----------\n",
    "    iv : numpy array\n",
    "        Array of shape N (samples) x K (features)\n",
    "    dv : numpy array\n",
    "        Array of shape N (samples) x 1\n",
    "    stack_intercept : bool\n",
    "        Whether to stack an intercept (vector with ones of length N).\n",
    "    \n",
    "    Returns\n",
    "    -------\n",
    "    r2 : float\n",
    "        R-squared model fit.\n",
    "    \"\"\"\n",
    "    \n",
    "    if iv.ndim == 1:\n",
    "        # Add axis if shape is (N,)\n",
    "        iv = iv[:, np.newaxis]\n",
    "    \n",
    "    if stack_intercept:\n",
    "        iv = np.hstack((np.ones((iv.shape[0], 1)), iv))\n",
    "    \n",
    "    beta = np.linalg.lstsq(iv, dv)[0]\n",
    "    dv_hat = iv.dot(beta).squeeze()\n",
    "    r2 = stats.pearsonr(dv_hat, dv)[0] ** 2\n",
    "    if np.isnan(r2):\n",
    "        r2 = 0\n",
    "    \n",
    "    return r2"
   ]
  },
  {
   "cell_type": "code",
   "execution_count": null,
   "metadata": {},
   "outputs": [],
   "source": [
    "results = dict(modality=[], signal_r2=[], confound_r2=[], x_r2=[], x_r2_regressed=[])\n",
    "\n",
    "for modality in ['vbm', 'tbss']:\n",
    "    \n",
    "    this_X, this_y = mvp[modality].X, mvp[modality].y\n",
    "    this_c = confound[modality]\n",
    "    results['modality'].extend([modality] * this_X.shape[1])\n",
    "    for ivox in tqdm_notebook(range(this_X.shape[1]), desc='Analyzing %s' % modality):\n",
    "        y_x_r2 = get_r2(this_X[:, ivox], this_y)\n",
    "        y_c_r2 = get_r2(this_c, this_y)\n",
    "        y_cx_r2 = get_r2(np.hstack((this_X[:, ivox, np.newaxis], this_c)), this_y)\n",
    "        signal_r2 = y_cx_r2 - y_c_r2\n",
    "        confound_r2 = (1 - y_cx_r2) - signal_r2 - (y_cx_r2 - y_x_r2)\n",
    "        rdes = np.hstack((np.ones((this_y.size, 1)), this_c))\n",
    "        regressed_x = this_X[:, ivox] - rdes.dot(np.linalg.lstsq(rdes, this_X[:, ivox])[0])\n",
    "        x_r2_regress = get_r2(regressed_x, this_y)\n",
    "        results['x_r2'].append(y_x_r2)\n",
    "        results['x_r2_regressed'].append(x_r2_regress)\n",
    "        results['confound_r2'].append(confound_r2)\n",
    "        results['signal_r2'].append(signal_r2)"
   ]
  },
  {
   "cell_type": "code",
   "execution_count": null,
   "metadata": {},
   "outputs": [],
   "source": [
    "results['modality'] = ['vbm'] * mvp['vbm'].X.shape[1] + ['tbss'] * mvp['tbss'].X.shape[1]\n",
    "results_df = pd.DataFrame(results)\n",
    "\n",
    "fig, axes = plt.subplots(4, 2, figsize=(15, 15), sharex=False)\n",
    "\n",
    "for i, dtype in enumerate(['x_r2', 'x_r2_regressed', 'signal_r2', 'confound_r2']):\n",
    "    \n",
    "    for ii, mod in enumerate(['vbm', 'tbss']):\n",
    "        \n",
    "        sns.distplot(results_df[results_df.modality == mod][dtype], ax=axes[i, ii])\n",
    "        axes[i, ii].set_title(mod.upper())\n",
    "\n",
    "fig.tight_layout()"
   ]
  },
  {
   "cell_type": "markdown",
   "metadata": {},
   "source": [
    "# SOME EXTRA TESTS OF CONFOUND REGRESSION"
   ]
  },
  {
   "cell_type": "markdown",
   "metadata": {},
   "source": [
    "## Scenario 6: confound regression on train and test separately\n",
    "However, one could also argue that, instead of cross-validating our confound-regression, we can also just fit a separate confound-regression on the *test-set*. Because, theoretically, this sets the influence of the confound in the test-set also exactly to zero (like in scenario 1), yet without the danger of opposite effects of the confound in train- and test. (Note, thought, that this danger is, again, likely when doing some kind of inner cross-validation within your analyses, such as when you perform a hyper-parameter gridsearch!)\n",
    "\n",
    "Just as in scenario 3, we have written a function to parallelize the fold-wise classification analysis. Note that the only difference with scenario 3 is the fact that the parameter `cross_validate` from the `ConfoundRegressor` is set to `False`. This means that the `ConfoundRegressor` will now fit the confound-regression process again when the `transform(X)` method is called on the test-set (`X[test_idx]`)."
   ]
  },
  {
   "cell_type": "code",
   "execution_count": null,
   "metadata": {},
   "outputs": [],
   "source": [
    "def _parallelize_sce5(X, y, c, train_idx, test_idx,\n",
    "                      pipeline, num_vox, modality, n_folds, i):\n",
    "    \n",
    "    print(\"Starting confound regression fold: %i\" % (i + 1))\n",
    "    conreg = ConfoundRegressor(confound=c, fit_idx=train_idx, cross_validate=False)\n",
    "    X_train_con = conreg.fit(X[train_idx], y).transform(X[train_idx])\n",
    "    X_test_con = conreg.transform(X[test_idx])\n",
    "    \n",
    "    results_tmp = {'score': np.zeros(len(num_vox) + 1),\n",
    "                   'n_vox': np.append(num_vox, X.shape[1]),\n",
    "                   'modality': [modality] * (len(num_vox) + 1),\n",
    "                   'n_folds': [n_folds] * (len(num_vox) + 1)}\n",
    "    print(\"Starting processing fold: %i\" % (i + 1))\n",
    "    \n",
    "    for j, nV in enumerate(np.append(num_vox, X.shape[1])):\n",
    "        pipeline.set_params(ufs__k=nV)\n",
    "        pipeline.fit(X_train_con, y[train_idx])\n",
    "        pred = pipeline.predict(X_test_con)\n",
    "        score = f1_score(y[test_idx], pred)\n",
    "        results_tmp['score'][j] = score\n",
    "    \n",
    "    return results_tmp"
   ]
  },
  {
   "cell_type": "markdown",
   "metadata": {},
   "source": [
    "Just like scenario 3, we run the analysis for scenario 4 (this takes forever, though, because we now have to fit :"
   ]
  },
  {
   "cell_type": "code",
   "execution_count": null,
   "metadata": {
    "scrolled": true
   },
   "outputs": [],
   "source": [
    "results_sce5 = []\n",
    "\n",
    "for modality in ['vbm', 'tbss']:\n",
    "    print(\"Processing mod=%s\" % modality)\n",
    "    skf = StratifiedKFold(n_splits=n_folds)\n",
    "    this_mvp = mvp[modality]\n",
    "    \n",
    "    res = jl.Parallel(n_jobs=5)(jl.delayed(_parallelize_sce5)\n",
    "                                (this_mvp.X, this_mvp.y, confound[modality], train_idx,\n",
    "                                 test_idx, pipeline, num_vox, modality, n_folds, i)\n",
    "                                 for i, (train_idx, test_idx) in enumerate(skf.split(this_mvp.X, this_mvp.y)))\n",
    "    results_sce5.append(res)"
   ]
  },
  {
   "cell_type": "code",
   "execution_count": null,
   "metadata": {},
   "outputs": [],
   "source": [
    "results_sce5_df = pd.concat([pd.DataFrame(x) for mod_list in results_sce5 for x in mod_list])\n",
    "sns.set(style=\"whitegrid\")\n",
    "ax = sns.factorplot(x='n_vox', y='score', hue='modality', data=results_sce5_df, size=5, aspect=2)\n",
    "ax.set(ylim=(0, 1))\n",
    "plt.axhline(y=0.5, c='black', ls='dashed')\n",
    "plt.show()"
   ]
  },
  {
   "cell_type": "markdown",
   "metadata": {},
   "source": [
    "As you can see, the plot for scenario 4 looks very similar to the one for scenario 3. For comparison, be plot them side-by-side below:"
   ]
  },
  {
   "cell_type": "code",
   "execution_count": null,
   "metadata": {},
   "outputs": [],
   "source": [
    "results_sce3_df['Scenario'] = ['3'] * len(results_sce3_df)\n",
    "results_sce5_df['Scenario'] = ['5'] * len(results_sce5_df)\n",
    "\n",
    "g = sns.FacetGrid(pd.concat((results_sce3_df, results_sce5_df)), col=\"modality\",\n",
    "                  hue='Scenario', ylim=(.4,.8), size=5, aspect=1.5)\n",
    "g.map(sns.pointplot, \"n_vox\", \"score\")"
   ]
  },
  {
   "cell_type": "markdown",
   "metadata": {},
   "source": [
    "## Scenario 5: only regress confound out of train\n",
    "Since the model is only fitted on the train-set, and thus the model cannot learn brain-size related information, one could argue that we don't need to do anything to the test-set..."
   ]
  },
  {
   "cell_type": "code",
   "execution_count": null,
   "metadata": {},
   "outputs": [],
   "source": [
    "def _parallelize_sce6(X, y, c, train_idx, test_idx,\n",
    "                      pipeline, num_vox, modality, n_folds, i):\n",
    "    \n",
    "    print(\"Starting confound regression fold: %i\" % (i + 1))\n",
    "    conreg = ConfoundRegressor(confound=c, fit_idx=train_idx, cross_validate=False)\n",
    "    X_train_con = conreg.fit(X[train_idx], y).transform(X[train_idx])\n",
    "    \n",
    "    results_tmp = {'score': np.zeros(len(num_vox) + 1),\n",
    "                   'n_vox': np.append(num_vox, X.shape[1]),\n",
    "                   'modality': [modality] * (len(num_vox) + 1),\n",
    "                   'n_folds': [n_folds] * (len(num_vox) + 1)}\n",
    "    \n",
    "    print(\"Starting processing fold: %i\" % (i + 1))\n",
    "    \n",
    "    for j, nV in enumerate(np.append(num_vox, X.shape[1])):\n",
    "        pipeline.set_params(ufs__k=nV)\n",
    "        pipeline.fit(X_train_con, y[train_idx])\n",
    "        pred = pipeline.predict(X[test_idx])\n",
    "        score = f1_score(y[test_idx], pred)\n",
    "        results_tmp['score'][j] = score\n",
    "    \n",
    "    return results_tmp"
   ]
  },
  {
   "cell_type": "code",
   "execution_count": null,
   "metadata": {},
   "outputs": [],
   "source": [
    "results_sce6 = []\n",
    "\n",
    "for modality in ['vbm', 'tbss']:\n",
    "    print(\"Processing mod=%s\" % modality)\n",
    "    skf = StratifiedKFold(n_splits=n_folds)\n",
    "    this_mvp = mvp[modality]\n",
    "    \n",
    "    res = jl.Parallel(n_jobs=6)(jl.delayed(_parallelize_sce6)\n",
    "                                (this_mvp.X, this_mvp.y, confound[modality], train_idx,\n",
    "                                 test_idx, pipeline, num_vox, modality, n_folds, i)\n",
    "                                 for i, (train_idx, test_idx) in enumerate(skf.split(this_mvp.X, this_mvp.y)))\n",
    "    results_sce6.append(res)"
   ]
  },
  {
   "cell_type": "code",
   "execution_count": null,
   "metadata": {},
   "outputs": [],
   "source": [
    "results_sce6_df = pd.concat([pd.DataFrame(x) for mod_list in results_sce6 for x in mod_list])\n",
    "results_sce6_df['Scenario'] = ['6'] * len(results_sce6_df)\n",
    "sce3_sce6_df = pd.concat((results_sce3_df, results_sce6_df))\n",
    "g = sns.FacetGrid(sce3_sce6_df, col=\"Scenario\", hue='modality', ylim=(.4,.8), size=5, aspect=1.5)\n",
    "g.map(sns.pointplot, \"n_vox\", \"score\")\n",
    "g.set(ylim=(-.1, 0.8))"
   ]
  }
 ],
 "metadata": {
  "kernelspec": {
   "display_name": "Python 3",
   "language": "python",
   "name": "python3"
  },
  "language_info": {
   "codemirror_mode": {
    "name": "ipython",
    "version": 3
   },
   "file_extension": ".py",
   "mimetype": "text/x-python",
   "name": "python",
   "nbconvert_exporter": "python",
   "pygments_lexer": "ipython3",
   "version": "3.6.1"
  }
 },
 "nbformat": 4,
 "nbformat_minor": 2
}
