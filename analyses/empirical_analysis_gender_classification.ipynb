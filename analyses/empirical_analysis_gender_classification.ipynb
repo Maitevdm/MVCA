{
 "cells": [
  {
   "cell_type": "markdown",
   "metadata": {},
   "source": [
    "# Notebook with empirical analyses on the influence of confounds in MVPA\n",
    "In this notebook, we evaluate different strategies to deal with confounds in MVPA on empirical data (see [this notebook](LINK) for analyses of simulated data). Here, we try to predict gender (male/female) from structural MRI data (VBM and TBSS data) in face of the confound 'brain size'. We chose 'brain size' as a confound, because one could argue that overall brain size is not an interesting predictive feature in MVPA analyses, as people usually try to investigate more *local* gender differences in brain structure. Note that we only focus on this use case because the data was available; we do not wish to draw any conclusions from the results of this study apart from the statistical issues.\n",
    "\n",
    "## Contents\n",
    "1. Preparation / set-up\n",
    "2. \n",
    "3. \n",
    "4. \n"
   ]
  },
  {
   "cell_type": "markdown",
   "metadata": {},
   "source": [
    "### 1.1. Downloading the data and packages\n",
    "From the 'root' directory of the cloned repository, run the command:\n",
    "\n",
    "```\n",
    "$ python download_data.py\n",
    "```\n",
    "\n",
    "which should download and unzip the data to `<rootdir>/data`. Alternatively, run the command below:"
   ]
  },
  {
   "cell_type": "code",
   "execution_count": null,
   "metadata": {},
   "outputs": [],
   "source": [
    "%run ../download_data.py"
   ]
  },
  {
   "cell_type": "markdown",
   "metadata": {},
   "source": [
    "Also, make sure the packages are up to date:"
   ]
  },
  {
   "cell_type": "code",
   "execution_count": null,
   "metadata": {},
   "outputs": [],
   "source": [
    "!pip install -r ../requirements.txt"
   ]
  },
  {
   "cell_type": "markdown",
   "metadata": {},
   "source": [
    "## 1. Preparation / set-up\n",
    "\n",
    "### 1.1. First some imports\n",
    "Make sure you have the latest version of scikit-learn (0.19), pandas (>=0.20.0), and our own skbold package (0.3.3, or preferably from the [master branch on github](https://github.com/lukassnoek/skbold)) installed."
   ]
  },
  {
   "cell_type": "code",
   "execution_count": 23,
   "metadata": {},
   "outputs": [],
   "source": [
    "import os\n",
    "import os.path as op\n",
    "import pandas as pd\n",
    "import numpy as np\n",
    "from sklearn.feature_selection import f_classif, SelectKBest\n",
    "from sklearn.pipeline import Pipeline\n",
    "from sklearn.model_selection import (cross_val_score, permutation_test_score, StratifiedKFold,\n",
    "                                     permutation_test_score, RepeatedStratifiedKFold)\n",
    "from sklearn.preprocessing import StandardScaler   \n",
    "from sklearn.svm import SVC\n",
    "from sklearn.metrics import f1_score\n",
    "from sklearn.externals import joblib as jl\n",
    "import seaborn as sns\n",
    "import scipy.stats as stats\n",
    "from copy import deepcopy\n",
    "from tqdm import tqdm_notebook\n",
    "from glob import glob\n",
    "\n",
    "import matplotlib.pyplot as plt\n",
    "%matplotlib inline\n",
    "\n",
    "sns.set(style='whitegrid', context='poster')\n",
    "rc = {\"font.size\":25, \"axes.titlesize\":25, \"axes.labelsize\":25, \n",
    "      \"legend.fontsize\":15, \"xtick.labelsize\": 15,\n",
    "      \"ytick.labelsize\": 15, \"text.usetex\": True}\n",
    "\n",
    "color_vbm = sns.color_palette(\"muted\")[0]#sns.color_palette(\"Set2\")[0]\n",
    "color_tbss = sns.color_palette(\"muted\")[1] #sns.color_palette(\"Set2\")[1]\n",
    "colors_modality = [color_vbm] + [color_tbss]\n",
    "\n",
    "color_baseline = sns.color_palette(\"Set2\", 10)[7]\n",
    "color_cb = sns.color_palette(\"Set2\")[2]\n",
    "color_wdcr = sns.color_palette(\"Set2\")[3]\n",
    "color_fwcr = sns.color_palette(\"Set2\")[4]"
   ]
  },
  {
   "cell_type": "markdown",
   "metadata": {},
   "source": [
    "### 1.3. Loading in the data\n",
    "Below we load in the behavioral data (`PIOP1_behav_2017_with_brainsize.tsv`), which includes our factor-to-decode, \"Gender\", and our confound-of-interest (\"brain_size\"). The feature 'brain size' was calculated as the total amount of non-zero voxels of each subject's gray-matter segmented T1-weighted structural scan (as segmented by [FSL FAST](https://fsl.fmrib.ox.ac.uk/fsl/fslwiki/FAST); FSL v5.0).\n",
    "\n",
    "The voxel patterns are contained in the `Mvp` objects - a data-structure defined in the [skbold](skbold.readthedocs.io) package - in the attribute `X` (a $N$ [subjects] $\\times\\ K$ [voxels] numpy array). Two sets of voxel patterns are loaded: one with VBM data (processed with the standard [FSL-VBM pipeline](https://fsl.fmrib.ox.ac.uk/fsl/fslwiki/FSLVBM)) and one with skeletonized FA-data (processed with the standard [FSL-TBSS pipeline](https://fsl.fmrib.ox.ac.uk/fsl/fslwiki/TBSS) for a total of 217 subjects."
   ]
  },
  {
   "cell_type": "code",
   "execution_count": 2,
   "metadata": {},
   "outputs": [
    {
     "name": "stdout",
     "output_type": "stream",
     "text": [
      "Shape of VBM voxel patterns: (217, 412473)\n",
      "Shape of TBSS voxel patterns: (217, 128340)\n"
     ]
    }
   ],
   "source": [
    "base_dir = op.dirname(os.getcwd())\n",
    "data_dir = op.join(base_dir, 'data', 'mvp')\n",
    "behav_file = op.join(data_dir, 'PIOP1_behav_2017_MVCA_with_brainsize.tsv')\n",
    "\n",
    "# Load in VBM-mvp ...\n",
    "mvp_vbm = jl.load(op.join(data_dir, 'mvp_vbm.jl'))\n",
    "\n",
    "# ... and add \"Gender\" as \"y\" attribute\n",
    "mvp_vbm.add_y(behav_file, col_name='Gender', index_col=0, nan_strategy='remove')\n",
    "mvp_vbm.y -= 1  # recode from [2, 1] to [0, 1] \n",
    "print(\"Shape of VBM voxel patterns: %s\" % (mvp_vbm.X.shape,))\n",
    "\n",
    "# Same for TBSS\n",
    "mvp_tbss = jl.load(op.join(data_dir, 'mvp_tbss.jl'))\n",
    "mvp_tbss.add_y(behav_file, col_name='Gender', index_col=0, nan_strategy='remove')\n",
    "mvp_tbss.y -= 1\n",
    "print(\"Shape of TBSS voxel patterns: %s\" % (mvp_tbss.X.shape,))"
   ]
  },
  {
   "cell_type": "markdown",
   "metadata": {},
   "source": [
    "Note that the TBSS Mvp contains way fewer voxels due to the fact that `skbold` already removed all 0 voxels (i.e. voxels outside the TBSS skeleton). \n",
    "\n",
    "Let's check out the target variable ($y$, i.e. gender) of the datasets:"
   ]
  },
  {
   "cell_type": "code",
   "execution_count": 3,
   "metadata": {},
   "outputs": [
    {
     "name": "stdout",
     "output_type": "stream",
     "text": [
      "TBSS, number of target = 1 (women): 122\n",
      "TBSS, number of target = 0 (men): 95\n",
      "VBM, number of target = 1 (women): 122\n",
      "VBM, number of target = 0 (men): 95\n"
     ]
    }
   ],
   "source": [
    "print(\"TBSS, number of target = 1 (women): %i\" % mvp_tbss.y.sum())\n",
    "print(\"TBSS, number of target = 0 (men): %i\" % (mvp_tbss.y == 0).sum())\n",
    "\n",
    "print(\"VBM, number of target = 1 (women): %i\" % mvp_vbm.y.sum())\n",
    "print(\"VBM, number of target = 0 (men): %i\" % (mvp_vbm.y == 0).sum())"
   ]
  },
  {
   "cell_type": "markdown",
   "metadata": {},
   "source": [
    "As you can see, there is quite a bit of imbalance in the target variable (gender). We'll 'correct' for this by using an 'imbalance-aware' performance metric ('F1-score', more about that later). \n",
    "\n",
    "Now, we load in the confound - brain size - from the same file with \"behavioral\" data:"
   ]
  },
  {
   "cell_type": "code",
   "execution_count": 4,
   "metadata": {},
   "outputs": [],
   "source": [
    "df = pd.read_csv(behav_file, index_col=0, sep='\\t')\n",
    "confound_vbm = df.loc[mvp_vbm.common_subjects]['brain_size_GM']\n",
    "confound_tbss = df.loc[mvp_tbss.common_subjects]['brain_size_WM']"
   ]
  },
  {
   "cell_type": "markdown",
   "metadata": {},
   "source": [
    "### 1.4. Setting analysis parameters\n",
    "For the first couple of confound strategies (here we call them \"scenarios\"), we set some default parameters for our MVPA pipelines."
   ]
  },
  {
   "cell_type": "code",
   "execution_count": 5,
   "metadata": {},
   "outputs": [],
   "source": [
    "n_folds = 10  # used in stratified K-fold\n",
    "n_jobs = 8    # for parallel execution of pipelines through joblib\n",
    "\n",
    "# Make a dict of both Mvps\n",
    "mvp = dict(VBM=mvp_vbm, TBSS=mvp_tbss)\n",
    "\n",
    "# ... same for confounds\n",
    "confound = dict(VBM=confound_vbm[:, np.newaxis],\n",
    "                TBSS=confound_tbss[:, np.newaxis])\n",
    "\n",
    "# We're going to evaluate the scenarios for different amounts of voxels\n",
    "num_vox = np.round(np.logspace(2, 5, num=8)).astype(int)\n",
    "\n",
    "# We'll use F1-score as an evaluation metric because our classes\n",
    "# are be slightly imbalanced (i.e. more female than male subjects)\n",
    "metric = 'f1_macro'\n",
    "\n",
    "# The default pipeline we'll use: \n",
    "# - univariate feature selection (f-test)\n",
    "# - zero-mean / unit std scaling\n",
    "# - linear SVM\n",
    "pipeline = Pipeline([('ufs', SelectKBest(f_classif, k=None)),\n",
    "                     ('scaler', StandardScaler()),\n",
    "                     ('clf', SVC(kernel='linear', class_weight=\"balanced\"))])"
   ]
  },
  {
   "cell_type": "markdown",
   "metadata": {},
   "source": [
    "## 2. Analyzing the dependency structure between the data (X), the target (y), and the confound (c)\n",
    "\n",
    "### 2.1. Does brain-size predict gender?\n",
    "Before anything else, we should evaluate whether brain-size is truly a confound. We do this in two ways. First, we can simply calculate the correlation between brain size and gender (or, more aptly, the 'pointbiserial correlation')."
   ]
  },
  {
   "cell_type": "code",
   "execution_count": 6,
   "metadata": {},
   "outputs": [
    {
     "name": "stdout",
     "output_type": "stream",
     "text": [
      "Correlation (p-value) between brain-size and gender for VBM: -0.645 (0.0000)\n",
      "Correlation (p-value) between brain-size and gender for TBSS: -0.588 (0.0000)\n"
     ]
    }
   ],
   "source": [
    "for modality in ['VBM', 'TBSS']:\n",
    "    corr, pval = stats.pearsonr(confound[modality].squeeze(), mvp[modality].y)\n",
    "    print(\"Correlation (p-value) between brain-size and gender \"\n",
    "          \"for %s: %.3f (%.4f)\" % (modality, corr, pval))"
   ]
  },
  {
   "cell_type": "markdown",
   "metadata": {},
   "source": [
    "Next to calculating the simple correlation, we can also evualate dependence by using the [Same Analysis Approach](https://arxiv.org/abs/1703.06670) (SAA) suggested by Görgen and colleagues. SAA suggests to simply use your potential confound as a single feature in a classification analysis. Here, we can use brain size as a single predictor in a model trying to predict gender.\n",
    "\n",
    "Let's find out:"
   ]
  },
  {
   "cell_type": "code",
   "execution_count": 24,
   "metadata": {},
   "outputs": [
    {
     "name": "stderr",
     "output_type": "stream",
     "text": [
      "/home/lukas/anaconda3/lib/python3.6/site-packages/seaborn/categorical.py:454: FutureWarning: remove_na is deprecated and is a private function. Do not use.\n",
      "  box_data = remove_na(group_data)\n"
     ]
    },
    {
     "data": {
      "image/png": "[encoded data removed]",
      "text/plain": [
       "<matplotlib.figure.Figure at 0x7fcc3f954fd0>"
      ]
     },
     "metadata": {},
     "output_type": "display_data"
    }
   ],
   "source": [
    "# We leave out univariate feature selection, but include the scaler\n",
    "pipeline_check = Pipeline([('scaler', StandardScaler()),\n",
    "                           ('clf', SVC(kernel='linear'))])\n",
    "\n",
    "# Loop over two modalities\n",
    "results_check = dict(scores=[], modality=[])\n",
    "for modality in ['VBM', 'TBSS']:\n",
    "    this_mvp, this_confound = mvp[modality], confound[modality]\n",
    "    scores = cross_val_score(pipeline_check, this_confound, this_mvp.y,\n",
    "                             cv=RepeatedStratifiedKFold(n_splits=10, n_repeats=10),\n",
    "                             scoring=metric, n_jobs=n_jobs)\n",
    "    results_check['scores'].extend(scores.tolist())\n",
    "    results_check['modality'].extend([modality.upper()] * scores.size)\n",
    "    \n",
    "df_check = pd.DataFrame(results_check)\n",
    "\n",
    "with sns.plotting_context(rc=rc):\n",
    "    g = sns.FacetGrid(df_check, col='modality', legend_out=True, size=8, aspect=2)\n",
    "    g = g.map(sns.boxplot, \"scores\")\n",
    "    g = g.map(sns.swarmplot, \"scores\", size=15, color='orange')\n",
    "    g.set(xlim=(.4, 1), xlabel='F1-score')\n",
    "    g.map(plt.axvline, x=0.5, c='black', ls='dashed')"
   ]
  },
  {
   "cell_type": "markdown",
   "metadata": {},
   "source": [
    "Let's also check whether it's significant using a permutation test (takes a minute or so):"
   ]
  },
  {
   "cell_type": "code",
   "execution_count": 26,
   "metadata": {},
   "outputs": [
    {
     "name": "stdout",
     "output_type": "stream",
     "text": [
      "The p-value for the observed score 0.809 for modality=VBM: 0.001\n",
      "The p-value for the observed score 0.779 for modality=TBSS: 0.001\n"
     ]
    }
   ],
   "source": [
    "import warnings\n",
    "from sklearn.exceptions import UndefinedMetricWarning\n",
    "warnings.filterwarnings(\"ignore\", category=UndefinedMetricWarning)\n",
    "\n",
    "for modality in ['VBM', 'TBSS']:\n",
    "    this_mvp, this_confound = mvp[modality], confound[modality]\n",
    "    perm_results = permutation_test_score(pipeline_check, this_confound,\n",
    "                                          this_mvp.y, cv=RepeatedStratifiedKFold(n_splits=10, n_repeats=10),\n",
    "                                          scoring=metric, n_jobs=10, n_permutations=1000)\n",
    "    \n",
    "    print(\"The p-value for the observed score %.3f for modality=%s: %.3f\" % (perm_results[0],\n",
    "                                                                             modality,\n",
    "                                                                             perm_results[2])) "
   ]
  },
  {
   "cell_type": "markdown",
   "metadata": {},
   "source": [
    "Conclusion: yes, very accurately and robustly so (p < 0.001)! Thus, we can conclude that 'brain size' is a potential confound in our analyses!"
   ]
  },
  {
   "cell_type": "markdown",
   "metadata": {},
   "source": [
    "### 2.2. Distribution of correlation between voxels and gender & voxels and brain-size\n",
    "Now, it might be informative to check the dependence between our voxels (in both the VBM and TBSS) and gender, just to get an intuition on how the distribution of correlations looks like. This kind of amounts to a mass-univariate analysis. But, importantly, we also quickly take a look at how this distribution changes when we account for brain-size (that is, we regress brain-size out of each feature/voxel). Later in this notebook, we elaborate more on this method!\n",
    "\n",
    "First, we'll regress out brain-size from each voxel (using simple OLS)\\*. In other words, each voxel (feature) of the new data will consist of the residuals of the model in which the voxel is explained by an intercept plus brainsize. In other words:\n",
    "\n",
    "\\begin{align}\n",
    "X_{resid} = X_{orig} - (\\hat{\\beta}_{0} + \\hat{\\beta}_{1} brainsize)\n",
    "\\end{align}\n",
    "\n",
    "---\n",
    "\\* Note, the cell below implements the same process of confound regression as we implemented in our `ConfoundRegressor` class, which is able to perform 'whole-dataset confound regression' (WDCR) and 'Fold-wise confound regression' (FwCR). In the cell below, we do confound regression on the entire dataset, which amounts to WDCR. Later in the notebook, we show the results for FwCR using the `ConfoundRegressor` class."
   ]
  },
  {
   "cell_type": "code",
   "execution_count": 27,
   "metadata": {},
   "outputs": [],
   "source": [
    "mvp_no_brainsize = dict()\n",
    "        \n",
    "for modality in ['VBM', 'TBSS']:\n",
    "    this_c = np.hstack((np.ones((mvp[modality].X.shape[0], 1)),\n",
    "                        confound[modality]))\n",
    "    this_X = mvp[modality].X\n",
    "    mvp_copy = deepcopy(mvp[modality])\n",
    "    mvp_copy.X -= this_c.dot(np.linalg.pinv(this_c.T.dot(this_c))).dot(this_c.T).dot(this_X)\n",
    "    mvp_no_brainsize[modality] = mvp_copy"
   ]
  },
  {
   "cell_type": "markdown",
   "metadata": {},
   "source": [
    "Now, let's check the distribution of correlations between the voxels and gender, both before and after regressing out the confound."
   ]
  },
  {
   "cell_type": "code",
   "execution_count": 28,
   "metadata": {},
   "outputs": [
    {
     "data": {
      "application/vnd.jupyter.widget-view+json": {
       "model_id": "adc1a70a14f541329db50d3160123863"
      }
     },
     "metadata": {},
     "output_type": "display_data"
    },
    {
     "name": "stdout",
     "output_type": "stream",
     "text": [
      "\n"
     ]
    },
    {
     "data": {
      "application/vnd.jupyter.widget-view+json": {
       "model_id": "a01ffd071f674d908e5efb20548e7bb4"
      }
     },
     "metadata": {},
     "output_type": "display_data"
    },
    {
     "name": "stdout",
     "output_type": "stream",
     "text": [
      "\n"
     ]
    }
   ],
   "source": [
    "corrs_Xy = dict(corrs=[], type=[], modality=[])\n",
    "\n",
    "for modality in ['VBM', 'TBSS']:\n",
    "\n",
    "    for vox in tqdm_notebook(range(mvp[modality].X.shape[1]), desc='Analyzing %s' % modality):\n",
    "        corrs_Xy['corrs'].append(stats.pearsonr(mvp[modality].X[:, vox], mvp[modality].y)[0])\n",
    "        corrs_Xy['type'].append('original')\n",
    "        corrs_Xy['modality'].append(modality.upper())\n",
    "        corrs_Xy['corrs'].append(stats.pearsonr(mvp_no_brainsize[modality].X[:, vox], mvp[modality].y)[0])\n",
    "        corrs_Xy['type'].append('corrected')\n",
    "        corrs_Xy['modality'].append(modality.upper())"
   ]
  },
  {
   "cell_type": "markdown",
   "metadata": {},
   "source": [
    "And let's plot it!"
   ]
  },
  {
   "cell_type": "code",
   "execution_count": 30,
   "metadata": {},
   "outputs": [
    {
     "data": {
      "image/png": "[encoded data removed]",
      "text/plain": [
       "<matplotlib.figure.Figure at 0x7fcbf09ce438>"
      ]
     },
     "metadata": {},
     "output_type": "display_data"
    }
   ],
   "source": [
    "corrs_Xy_df = pd.DataFrame(corrs_Xy)\n",
    "\n",
    "with sns.plotting_context(rc=rc):\n",
    "    colorpalette = dict(original=\"darkorange\", corrected=\"darkviolet\")\n",
    "    g = sns.FacetGrid(corrs_Xy_df, col='modality', hue='type', legend_out=True, size=10, palette=colorpalette)\n",
    "    g = g.map(sns.distplot, \"corrs\")\n",
    "    g.add_legend(title='')\n",
    "    g.set(xlabel=r'$\\rho$(X, y)')\n",
    "    fig = plt.gcf()\n",
    "    fig.set_size_inches((9.6, 4.01))\n",
    "    plt.show()"
   ]
  },
  {
   "cell_type": "markdown",
   "metadata": {},
   "source": [
    "And let's calculate some descriptive statistics:"
   ]
  },
  {
   "cell_type": "code",
   "execution_count": 32,
   "metadata": {},
   "outputs": [
    {
     "data": {
      "text/html": [
       "<div>\n",
       "<style scoped>\n",
       "    .dataframe tbody tr th:only-of-type {\n",
       "        vertical-align: middle;\n",
       "    }\n",
       "\n",
       "    .dataframe tbody tr th {\n",
       "        vertical-align: top;\n",
       "    }\n",
       "\n",
       "    .dataframe thead th {\n",
       "        text-align: right;\n",
       "    }\n",
       "</style>\n",
       "<table border=\"1\" class=\"dataframe\">\n",
       "  <thead>\n",
       "    <tr style=\"text-align: right;\">\n",
       "      <th></th>\n",
       "      <th>count</th>\n",
       "      <th>mean</th>\n",
       "      <th>std</th>\n",
       "      <th>min</th>\n",
       "      <th>25%</th>\n",
       "      <th>50%</th>\n",
       "      <th>75%</th>\n",
       "      <th>max</th>\n",
       "    </tr>\n",
       "    <tr>\n",
       "      <th>modality</th>\n",
       "      <th></th>\n",
       "      <th></th>\n",
       "      <th></th>\n",
       "      <th></th>\n",
       "      <th></th>\n",
       "      <th></th>\n",
       "      <th></th>\n",
       "      <th></th>\n",
       "    </tr>\n",
       "  </thead>\n",
       "  <tbody>\n",
       "    <tr>\n",
       "      <th>TBSS</th>\n",
       "      <td>256680.0</td>\n",
       "      <td>-0.003996</td>\n",
       "      <td>0.080979</td>\n",
       "      <td>-0.422222</td>\n",
       "      <td>-0.055014</td>\n",
       "      <td>-0.00310</td>\n",
       "      <td>0.048222</td>\n",
       "      <td>0.391171</td>\n",
       "    </tr>\n",
       "    <tr>\n",
       "      <th>VBM</th>\n",
       "      <td>824946.0</td>\n",
       "      <td>0.000642</td>\n",
       "      <td>0.086781</td>\n",
       "      <td>-0.424509</td>\n",
       "      <td>-0.054363</td>\n",
       "      <td>0.00226</td>\n",
       "      <td>0.056680</td>\n",
       "      <td>0.396356</td>\n",
       "    </tr>\n",
       "  </tbody>\n",
       "</table>\n",
       "</div>"
      ],
      "text/plain": [
       "             count      mean       std       min       25%      50%       75%  \\\n",
       "modality                                                                        \n",
       "TBSS      256680.0 -0.003996  0.080979 -0.422222 -0.055014 -0.00310  0.048222   \n",
       "VBM       824946.0  0.000642  0.086781 -0.424509 -0.054363  0.00226  0.056680   \n",
       "\n",
       "               max  \n",
       "modality            \n",
       "TBSS      0.391171  \n",
       "VBM       0.396356  "
      ]
     },
     "execution_count": 32,
     "metadata": {},
     "output_type": "execute_result"
    }
   ],
   "source": [
    "corrs_Xy_df.groupby('modality').corrs.describe()"
   ]
  },
  {
   "cell_type": "markdown",
   "metadata": {},
   "source": [
    "What we see in the plot above makes sense: after removing variance in X associated with brain-size, the correlation distribution (between voxels and gender) becomes more narrow (but, as explained in the [notebook with simulations](simulation_confound_strategies.ipynb), this is *too narrow*, which we'll discuss later)!\n",
    "\n",
    "Moreover, let's check out the dependence between the voxels and brainsize:"
   ]
  },
  {
   "cell_type": "code",
   "execution_count": 33,
   "metadata": {},
   "outputs": [
    {
     "data": {
      "application/vnd.jupyter.widget-view+json": {
       "model_id": "5397597e88be490e8b3b074ad7e0de18"
      }
     },
     "metadata": {},
     "output_type": "display_data"
    },
    {
     "name": "stdout",
     "output_type": "stream",
     "text": [
      "\n"
     ]
    },
    {
     "data": {
      "application/vnd.jupyter.widget-view+json": {
       "model_id": "ba41ccb3e1744c0d907dea5270edfcd9"
      }
     },
     "metadata": {},
     "output_type": "display_data"
    },
    {
     "name": "stdout",
     "output_type": "stream",
     "text": [
      "\n"
     ]
    }
   ],
   "source": [
    "corrs_Xc = dict(corrs=[], modality=[])\n",
    "\n",
    "for modality in ['VBM', 'TBSS']:\n",
    "    \n",
    "    for vox in tqdm_notebook(range(mvp[modality].X.shape[1]), desc='analyzing %s' % modality):\n",
    "        corrs_Xc['corrs'].append(stats.pearsonr(mvp[modality].X[:, vox], confound[modality].squeeze())[0])\n",
    "        corrs_Xc['modality'].append(modality.upper())"
   ]
  },
  {
   "cell_type": "markdown",
   "metadata": {},
   "source": [
    "Let's check out some descriptive statistics:"
   ]
  },
  {
   "cell_type": "code",
   "execution_count": 34,
   "metadata": {},
   "outputs": [
    {
     "data": {
      "text/html": [
       "<div>\n",
       "<style scoped>\n",
       "    .dataframe tbody tr th:only-of-type {\n",
       "        vertical-align: middle;\n",
       "    }\n",
       "\n",
       "    .dataframe tbody tr th {\n",
       "        vertical-align: top;\n",
       "    }\n",
       "\n",
       "    .dataframe thead th {\n",
       "        text-align: right;\n",
       "    }\n",
       "</style>\n",
       "<table border=\"1\" class=\"dataframe\">\n",
       "  <thead>\n",
       "    <tr style=\"text-align: right;\">\n",
       "      <th></th>\n",
       "      <th>count</th>\n",
       "      <th>mean</th>\n",
       "      <th>std</th>\n",
       "      <th>min</th>\n",
       "      <th>25%</th>\n",
       "      <th>50%</th>\n",
       "      <th>75%</th>\n",
       "      <th>max</th>\n",
       "    </tr>\n",
       "    <tr>\n",
       "      <th>modality</th>\n",
       "      <th></th>\n",
       "      <th></th>\n",
       "      <th></th>\n",
       "      <th></th>\n",
       "      <th></th>\n",
       "      <th></th>\n",
       "      <th></th>\n",
       "      <th></th>\n",
       "    </tr>\n",
       "  </thead>\n",
       "  <tbody>\n",
       "    <tr>\n",
       "      <th>TBSS</th>\n",
       "      <td>128340.0</td>\n",
       "      <td>0.048745</td>\n",
       "      <td>0.095095</td>\n",
       "      <td>-0.299753</td>\n",
       "      <td>-0.015289</td>\n",
       "      <td>0.049280</td>\n",
       "      <td>0.112348</td>\n",
       "      <td>0.419332</td>\n",
       "    </tr>\n",
       "    <tr>\n",
       "      <th>VBM</th>\n",
       "      <td>412473.0</td>\n",
       "      <td>0.004289</td>\n",
       "      <td>0.120971</td>\n",
       "      <td>-0.469915</td>\n",
       "      <td>-0.070307</td>\n",
       "      <td>0.008343</td>\n",
       "      <td>0.083418</td>\n",
       "      <td>0.420398</td>\n",
       "    </tr>\n",
       "  </tbody>\n",
       "</table>\n",
       "</div>"
      ],
      "text/plain": [
       "             count      mean       std       min       25%       50%  \\\n",
       "modality                                                               \n",
       "TBSS      128340.0  0.048745  0.095095 -0.299753 -0.015289  0.049280   \n",
       "VBM       412473.0  0.004289  0.120971 -0.469915 -0.070307  0.008343   \n",
       "\n",
       "               75%       max  \n",
       "modality                      \n",
       "TBSS      0.112348  0.419332  \n",
       "VBM       0.083418  0.420398  "
      ]
     },
     "execution_count": 34,
     "metadata": {},
     "output_type": "execute_result"
    }
   ],
   "source": [
    "corrs_Xc_df = pd.DataFrame(corrs_Xc)\n",
    "corrs_Xc_df.groupby('modality').corrs.describe()"
   ]
  },
  {
   "cell_type": "markdown",
   "metadata": {},
   "source": [
    "And plot it:"
   ]
  },
  {
   "cell_type": "code",
   "execution_count": 35,
   "metadata": {},
   "outputs": [
    {
     "data": {
      "image/png": "[encoded data removed]",
      "text/plain": [
       "<matplotlib.figure.Figure at 0x7fcbbfd712e8>"
      ]
     },
     "metadata": {},
     "output_type": "display_data"
    }
   ],
   "source": [
    "with sns.plotting_context(rc=rc):\n",
    "    g = sns.FacetGrid(corrs_Xc_df, col='modality', hue='modality', legend_out=True, size=5, palette=colors_modality)\n",
    "    g = g.map(sns.distplot, \"corrs\")\n",
    "    g.add_legend(title='')\n",
    "    g.set(xlabel=r'$\\rho$(X, c)')\n",
    "    fig = plt.gcf()\n",
    "    fig.set_size_inches((9.6, 4.01))\n",
    "    plt.show()"
   ]
  },
  {
   "cell_type": "markdown",
   "metadata": {},
   "source": [
    "We see that brain-size is quite correlated with our brain data! In the next sections, we'll test out different methods to deal with these confounding influences in multivoxel pattern analyses. First, we'll check how our proposed method - confound regression - does."
   ]
  },
  {
   "cell_type": "markdown",
   "metadata": {},
   "source": [
    "## Scenario 1: no confound regression\n",
    "Now, for a baseline analysis, let's predict gender based on TBSS and VBM data for different amounts of voxels included in the analyses (as selected by `f_classif`):"
   ]
  },
  {
   "cell_type": "code",
   "execution_count": 36,
   "metadata": {},
   "outputs": [
    {
     "data": {
      "application/vnd.jupyter.widget-view+json": {
       "model_id": "391b72c22fb94ba08884ac4a486e5a88"
      }
     },
     "metadata": {},
     "output_type": "display_data"
    },
    {
     "name": "stdout",
     "output_type": "stream",
     "text": [
      "\n"
     ]
    },
    {
     "data": {
      "application/vnd.jupyter.widget-view+json": {
       "model_id": "e5e23de50abb49ccb06c2e4ade15a955"
      }
     },
     "metadata": {},
     "output_type": "display_data"
    },
    {
     "name": "stdout",
     "output_type": "stream",
     "text": [
      "\n"
     ]
    }
   ],
   "source": [
    "results_sce1 = dict(n_vox=[], score=[], modality=[])\n",
    "\n",
    "for modality in ['VBM', 'TBSS']:\n",
    "    this_mvp = mvp[modality]\n",
    "    for i, nV in enumerate(tqdm_notebook(np.append(num_vox, this_mvp.X.shape[1]),\n",
    "                                         desc='analyzing %s' % modality)):\n",
    "        \n",
    "        pipeline.set_params(ufs__k=nV)\n",
    "        scores = cross_val_score(pipeline, this_mvp.X, this_mvp.y,\n",
    "                                 cv=n_folds, scoring=metric, n_jobs=-1)\n",
    "        results_sce1['n_vox'].extend([nV] * n_folds)\n",
    "        results_sce1['score'].extend(scores.tolist())\n",
    "        results_sce1['modality'].extend([modality] * n_folds)"
   ]
  },
  {
   "cell_type": "markdown",
   "metadata": {},
   "source": [
    "Only run the cell below if you want to (re)calculate the p-values using the permutation test (this takes quite long):"
   ]
  },
  {
   "cell_type": "code",
   "execution_count": null,
   "metadata": {},
   "outputs": [
    {
     "data": {
      "application/vnd.jupyter.widget-view+json": {
       "model_id": "adbf6f7368b44181b6ec996d51691764"
      }
     },
     "metadata": {},
     "output_type": "display_data"
    },
    {
     "name": "stdout",
     "output_type": "stream",
     "text": [
      "\n",
      "\n",
      "\n",
      "\n",
      "\n"
     ]
    }
   ],
   "source": [
    "save_dir = op.join(base_dir, 'data', 'perm_results', 'sce1')\n",
    "\n",
    "for modality in ['VBM', 'TBSS']:\n",
    "    this_mvp = mvp[modality]\n",
    "    for i, nV in enumerate(tqdm_notebook(np.append(num_vox, this_mvp.X.shape[1]),\n",
    "                                         desc='analyzing %s' % modality)):\n",
    "        pipeline.set_params(ufs__k=nV)\n",
    "        this_score, these_perms, this_pval = permutation_test_score(pipeline, this_mvp.X, this_mvp.y,\n",
    "                                                                    cv=n_folds, n_permutations=1000,\n",
    "                                                                    n_jobs=4, scoring=metric)\n",
    "        \n",
    "        this_save_dir = op.join(save_dir, modality, 'K_%i' % nV)\n",
    "        \n",
    "        if not op.isdir(this_save_dir):\n",
    "            os.makedirs(this_save_dir)\n",
    "            \n",
    "        np.savez(op.join(this_save_dir, 'perm_data.npz'), obs_score=this_score, perm_scores=these_perms,\n",
    "                 pval=this_pval)"
   ]
  },
  {
   "cell_type": "code",
   "execution_count": null,
   "metadata": {},
   "outputs": [],
   "source": [
    "all_perms = np.zeros((2, 9, 500))\n",
    "all_obs_scores = np.zeros((2, 9))\n",
    "all_pvals = np.zeros((2, 9))\n",
    "\n",
    "plt.figure(figsize=(15, 25))\n",
    "this_plot = 1\n",
    "for i, modality in enumerate(['VBM', 'TBSS']):\n",
    "    perm_dirs = sorted(glob(op.join(base_dir, 'data', 'perm_results',\n",
    "                                    'sce1', modality, 'K*', '*npz')),\n",
    "                       key=lambda x: int(op.basename(op.dirname(x)).split('_')[1]))\n",
    "\n",
    "    for ii, pdir in enumerate(perm_dirs):\n",
    "        perm_data = np.load(pdir)\n",
    "        all_perms[i, ii, :] = perm_data['perm_scores']\n",
    "        all_obs_scores[i, ii] = perm_data['obs_score']\n",
    "        all_pvals[i, ii] = perm_data['pval']\n",
    "        plt.subplot(9, 2, this_plot)\n",
    "        plt.title('%s, %s' % (modality, op.basename(op.dirname(pdir))))\n",
    "        plt.hist(all_perms[i, ii, :])\n",
    "        plt.axvline(all_obs_scores[i, ii], c='tab:orange', ls='--')\n",
    "        \n",
    "        this_plot += 1\n",
    "        \n",
    "plt.tight_layout()"
   ]
  },
  {
   "cell_type": "markdown",
   "metadata": {},
   "source": [
    "Let's plot the results (the dashed line is chance level performance):"
   ]
  },
  {
   "cell_type": "code",
   "execution_count": 119,
   "metadata": {},
   "outputs": [
    {
     "name": "stderr",
     "output_type": "stream",
     "text": [
      "/home/lukas/anaconda3/lib/python3.6/site-packages/seaborn/categorical.py:1468: FutureWarning: remove_na is deprecated and is a private function. Do not use.\n",
      "  stat_data = remove_na(group_data[hue_mask])\n"
     ]
    },
    {
     "data": {
      "image/png": "[encoded data removed]",
      "text/plain": [
       "<matplotlib.figure.Figure at 0x7fcbe291b278>"
      ]
     },
     "metadata": {},
     "output_type": "display_data"
    }
   ],
   "source": [
    "results_sce1_df = pd.DataFrame(results_sce1)\n",
    "results_sce1_df['method'] = ['None'] * len(results_sce1_df)\n",
    "\n",
    "custom_legend_labels = ['VBM', 'TBSS', 'Chance level performance', 'Brain size only performance']\n",
    "custom_legend_handles = [plt.Line2D((0, 1), (0, 0), color=colors_modality[0], marker='o', lw=3),\n",
    "                         plt.Line2D((0, 1), (0, 0), color=colors_modality[1], marker='o', lw=3),\n",
    "                         plt.Line2D((0, 1), (0, 0), color='k', ls='--', lw=2),\n",
    "                         plt.Line2D((0, 1), (0, 0), color='tab:orange', ls='--', lw=1)]\n",
    "\n",
    "with sns.plotting_context(rc=rc):\n",
    "    g = sns.factorplot(x='n_vox', y='score', col='modality', hue='modality', palette=colors_modality,\n",
    "                       data=results_sce1_df, size=5, aspect=2, legend_out=True, legend=True)\n",
    "    g = g.map(plt.axhline, y=0.5, c='black', ls='dashed', lw=2)\n",
    "    g.set(ylim=(0, 1), ylabel='F1-score', xlabel='K voxels')\n",
    "    g.axes[0][1].set_ylabel('')\n",
    "    g.axes[0][0].axhline(df_check[df_check.modality == 'VBM'].scores.mean(), lw=2, c='orange', ls=':')\n",
    "    g.axes[0][1].axhline(df_check[df_check.modality == 'TBSS'].scores.mean(), lw=2, c='orange', ls=':')\n",
    "    plt.legend(custom_legend_handles, custom_legend_labels, loc=3, borderaxespad=0.)\n",
    "    #plt.legend(title='Modality', bbox_to_anchor=(1.02, 1), loc=2, borderaxespad=0.)\n",
    "    g.despine(left=True)\n",
    "    plt.show()"
   ]
  },
  {
   "cell_type": "markdown",
   "metadata": {},
   "source": [
    "As you can see, performance is far above chance, but it is unclear what drives our results ([which is in general a problem in MVPA](http://www.sciencedirect.com/science/article/pii/S1364661315001692) ...): some 'true signal' or signal confounded by brain size? \n",
    "\n",
    "Let's look at some other scenarios which try to deal with the brain-size confound and check to what extent it drives classification performance."
   ]
  },
  {
   "cell_type": "markdown",
   "metadata": {},
   "source": [
    "## Scenario 2: confound regression on entire dataset (WDCR)\n",
    "First, we'll evaluate the strategy that is sometimes adopted: regressing out the confound from the entire data-set (here: `X`) at once (like in [this article](http://www.sciencedirect.com/science/article/pii/S1053811913002887)), like we did when we compared the correlation distributions of the voxels and gender/brain-size between \"uncorrected\" and \"corrected\" data. \n",
    "\n",
    "In the rest of the notebook, we'll discuss and demonstrate different ways of regressing out a confound from the data (`X`), and to reduce the boilerplate code, we wrote a custom `scikit-learn`-style \"transformer\" class that does exactly this: take a confound upon initialization and subsequently fits a model using the confound to predict each feature in `X` during `fit(X)`, and subsequently regresses out the confound from each feature in `X` during `transform(X)` (in a scikit-learn style). \n",
    "\n",
    "For more info on the exact implementation of the `ConfoundRegressor` object, check the [skbold Github repo](https://github.com/lukassnoek/skbold/blob/master/skbold/preproc/confounds.py).\n",
    "\n",
    "Assuming that the latest version of `skbold` is installed on the system, let's import the `ConfoundRegressor` class."
   ]
  },
  {
   "cell_type": "code",
   "execution_count": null,
   "metadata": {},
   "outputs": [],
   "source": [
    "from skbold.preproc.confounds import ConfoundRegressor"
   ]
  },
  {
   "cell_type": "markdown",
   "metadata": {},
   "source": [
    "To evaluate what happens when we regress out the confound from each voxel before cross-validating our MVPA pipeline, we'll use the `ConfoundRegressor` on the entire dataset. \n"
   ]
  },
  {
   "cell_type": "code",
   "execution_count": null,
   "metadata": {},
   "outputs": [],
   "source": [
    "results_sce2 = dict(n_vox=[], score=[], modality=[])\n",
    "\n",
    "for modality in ['VBM', 'TBSS']:\n",
    "    \n",
    "    this_mvp = mvp[modality]\n",
    "    this_confound = confound[modality]\n",
    "    cfr = ConfoundRegressor(this_confound, this_mvp.X, cross_validate=True)\n",
    "    this_mvp.X = cfr.fit_transform(this_mvp.X)\n",
    "    \n",
    "    for i, nV in enumerate(tqdm_notebook(np.append(num_vox, this_mvp.X.shape[1]),\n",
    "                                                   desc='analyzing %s' % modality)):\n",
    "        \n",
    "        pipeline.set_params(ufs__k=nV)\n",
    "        scores = cross_val_score(pipeline, this_mvp.X, this_mvp.y,\n",
    "                                 cv=n_folds, scoring=metric, n_jobs=-1)\n",
    "        results_sce2['n_vox'].extend([nV] * n_folds)\n",
    "        results_sce2['score'].extend(scores.tolist())\n",
    "        results_sce2['modality'].extend([modality] * n_folds)"
   ]
  },
  {
   "cell_type": "markdown",
   "metadata": {},
   "source": [
    "And calculate the p-values."
   ]
  },
  {
   "cell_type": "code",
   "execution_count": null,
   "metadata": {},
   "outputs": [],
   "source": [
    "save_dir = op.join(base_dir, 'data', 'perm_results', 'sce2')\n",
    "\n",
    "for modality in ['VBM', 'TBSS']:\n",
    "    this_mvp = mvp[modality]\n",
    "    this_confound = confound[modality]\n",
    "    cfr = ConfoundRegressor(this_confound, this_mvp.X, cross_validate=True)\n",
    "    this_mvp.X = cfr.fit_transform(this_mvp.X)\n",
    "        \n",
    "    for i, nV in enumerate(tqdm_notebook(np.append(num_vox, this_mvp.X.shape[1])[-2:],\n",
    "                                         desc='analyzing %s' % modality)):\n",
    "        \n",
    "        pipeline.set_params(ufs__k=nV)\n",
    "        this_score, these_perms, this_pval = permutation_test_score(pipeline, this_mvp.X, this_mvp.y,\n",
    "                                                                    cv=n_folds, n_permutations=500,\n",
    "                                                                    n_jobs=6, scoring=metric)\n",
    "        \n",
    "        this_save_dir = op.join(save_dir, modality, 'K_%i' % nV)\n",
    "        \n",
    "        if not op.isdir(this_save_dir):\n",
    "            os.makedirs(this_save_dir)\n",
    "            \n",
    "        np.savez(op.join(this_save_dir, 'perm_data.npz'), obs_score=this_score, perm_scores=these_perms,\n",
    "                 pval=this_pval)"
   ]
  },
  {
   "cell_type": "code",
   "execution_count": 128,
   "metadata": {},
   "outputs": [
    {
     "data": {
      "image/png": "[encoded data removed]",
      "text/plain": [
       "<matplotlib.figure.Figure at 0x7fcc0a52a668>"
      ]
     },
     "metadata": {},
     "output_type": "display_data"
    }
   ],
   "source": [
    "all_perms = np.zeros((2, 9, 500))\n",
    "all_obs_scores = np.zeros((2, 9))\n",
    "all_pvals = np.zeros((2, 9))\n",
    "\n",
    "plt.figure(figsize=(15, 25))\n",
    "this_plot = 1\n",
    "for i, modality in enumerate(['VBM', 'TBSS']):\n",
    "    perm_dirs = sorted(glob(op.join(base_dir, 'data', 'perm_results',\n",
    "                                    'sce2', modality, 'K*', '*npz')),\n",
    "                       key=lambda x: int(op.basename(op.dirname(x)).split('_')[1]))\n",
    "\n",
    "    for ii, pdir in enumerate(perm_dirs):\n",
    "        perm_data = np.load(pdir)\n",
    "        all_perms[i, ii, :] = perm_data['perm_scores']\n",
    "        all_obs_scores[i, ii] = perm_data['obs_score']\n",
    "        all_pvals[i, ii] = perm_data['pval']\n",
    "        plt.subplot(9, 2, this_plot)\n",
    "        plt.title('%s, %s' % (modality, op.basename(op.dirname(pdir))))\n",
    "        plt.hist(all_perms[i, ii, :])\n",
    "        plt.axvline(all_obs_scores[i, ii], c='tab:orange', ls='--')\n",
    "        \n",
    "        this_plot += 1\n",
    "        \n",
    "plt.tight_layout()"
   ]
  },
  {
   "cell_type": "code",
   "execution_count": null,
   "metadata": {},
   "outputs": [],
   "source": [
    "results_sce2_df = pd.DataFrame(results_sce2)\n",
    "results_sce2_df['method'] = ['WDCR'] * len(results_sce2_df)\n",
    "\n",
    "with sns.plotting_context(rc=rc):\n",
    "    ax = sns.factorplot(x='n_vox', y='score', hue='modality', data=results_sce2_df, size=5, aspect=2, legend_out=False,\n",
    "                        palette='muted', legend=False)\n",
    "    ax.set(ylim=(0, 1), ylabel='F1-score', xlabel='N voxels')\n",
    "    plt.axhline(y=0.5, c='black', ls='dashed')\n",
    "    fig = plt.gcf()\n",
    "    fig.set_size_inches((9.6, 4.01))\n",
    "    plt.legend(title='Modality', bbox_to_anchor=(1.02, 1), loc=2, borderaxespad=0.)\n",
    "    plt.show()"
   ]
  },
  {
   "cell_type": "code",
   "execution_count": null,
   "metadata": {},
   "outputs": [],
   "source": [
    "baseline_vs_wdcr = pd.concat((results_sce1_df, results_sce2_df))\n",
    "colorpalette = [color_baseline] + [color_wdcr]\n",
    "\n",
    "with sns.plotting_context(rc=rc):\n",
    "    fig = plt.gcf()\n",
    "    fig.set_size_inches((9.6, 4.01))\n",
    "    g = sns.factorplot(x='n_vox', y='score', hue='method', col='modality', \n",
    "                       data=baseline_vs_wdcr, size=5, aspect=2,\n",
    "                       legend_out=False, palette=colorpalette, legend=False)\n",
    "    g.map(plt.axhline, y=0.5, c='black', ls='--').add_legend(fontsize=25)\n",
    "    g.set(ylim=(0, 1), ylabel='F1-score', xlabel='N voxels')\n",
    "    g.fig.subplots_adjust(hspace=0, wspace=0.1)"
   ]
  },
  {
   "cell_type": "markdown",
   "metadata": {},
   "source": [
    "**What is happening??** We see that classification performance quickly drops under chance level with an increasing number of voxels in our analyses... As we've argue in our paper and show in our simulations (see [this](simulation_confound_strategies) notebook), this is due to the fact that we've regressed out our confound on the *entire data-set (X)*, but then proceed to do K-fold cross-validation, in which (due to sampling error) confounds might still have a (opposite!) effect in train and test. (This point is related to what Görgen et al. mention in [their paper](https://arxiv.org/abs/1703.06670) about the \"Same analysis approach\"\n",
    "\n",
    "So, naturally, let's check and see what happens when we fit the confound regression on the train-set only and subsequently use those models to regress the confound on the train- *and* test-set. Or in other words, let's cross-validate our confound-regression"
   ]
  },
  {
   "cell_type": "markdown",
   "metadata": {},
   "source": [
    "## Scenario 3: confound regression on train and cv to test\n",
    "Because our confound regression is going to take (roughly) `K` times (i.e. the amount of folds) as long, and it is inefficient to regress out our confounds from each fold again for every different number of voxels, we have written a function to parallelize our fold-wise classification by putting the loop over `num_vox` inside that function.\n",
    "\n",
    "Note that the `ConfoundRegressor` is initialized with an additional parameter now: `cross_validate=True`, which makes sure that when we transform the test-set, it uses the weights from the fitting procedure on the train-set. (In the next scenario, we'll set `cross_validate` to `False` in order to check what happens when we fit it separately to the test-set.)"
   ]
  },
  {
   "cell_type": "markdown",
   "metadata": {},
   "source": [
    "It is kinda messy, but below we essentially just do the same thing as in the first two scenarios. This takes quite long, because essentially we're fitting ~400,000 * 10 linear models for each modality!"
   ]
  },
  {
   "cell_type": "code",
   "execution_count": null,
   "metadata": {
    "scrolled": false
   },
   "outputs": [],
   "source": [
    "results_sce3 = dict(score=[], n_vox=[], modality=[])\n",
    "    \n",
    "for modality in ['VBM', 'TBSS']:\n",
    "    this_mvp = mvp[modality]\n",
    "    this_confound = confound[modality]\n",
    "    pipe = deepcopy(pipeline).steps\n",
    "    cr = ('cr', ConfoundRegressor(this_confound, this_mvp.X, cross_validate=True))\n",
    "    pipe.insert(0, cr)\n",
    "    pipe = Pipeline(pipe)\n",
    "    \n",
    "    for i, nV in enumerate(tqdm_notebook(np.append(num_vox, this_mvp.X.shape[1]),\n",
    "                                                   desc='analyzing %s' % modality)):\n",
    "     \n",
    "        pipe.set_params(ufs__k=nV)\n",
    "        tmp_scores = cross_val_score(pipe, this_mvp.X, this_mvp.y, cv=n_folds, n_jobs=-1)\n",
    "        results_sce3['score'].extend(tmp_scores)\n",
    "        results_sce3['n_vox'].extend([nV] * tmp_scores.size)\n",
    "        results_sce3['modality'].extend([modality] * tmp_scores.size)"
   ]
  },
  {
   "cell_type": "code",
   "execution_count": null,
   "metadata": {},
   "outputs": [],
   "source": [
    "results_sce3_df = pd.DataFrame(results_sce3)\n",
    "results_sce3_df['method'] = ['FwCR'] * len(results_sce3_df)\n",
    "with sns.plotting_context(rc=rc):\n",
    "    g = sns.factorplot(x='n_vox', y='score', hue='modality', data=results_sce3_df, size=5, aspect=2,\n",
    "                       palette='muted', legend=False)\n",
    "    g.set(ylim=(0, 1), xlabel='N voxels', ylabel='F1-score')\n",
    "    plt.axhline(y=0.5, c='black', ls='dashed')\n",
    "    fig = plt.gcf()\n",
    "    fig.set_size_inches((10.5, 3.25))\n",
    "    plt.legend(title='Modality', bbox_to_anchor=(1.02, 1), loc=2, borderaxespad=0.)\n",
    "    plt.show()"
   ]
  },
  {
   "cell_type": "markdown",
   "metadata": {},
   "source": [
    "As we can see, classification performance stays above chance (for the entire range of number of voxels)! "
   ]
  },
  {
   "cell_type": "code",
   "execution_count": null,
   "metadata": {},
   "outputs": [],
   "source": [
    "baseline_vs_fwcr = pd.concat((results_sce1_df, results_sce3_df))\n",
    "colorpalette = [color_baseline] + [color_fwcr]\n",
    "\n",
    "with sns.plotting_context(rc=rc):\n",
    "    fig = plt.gcf()\n",
    "    fig.set_size_inches((9.6, 4.01))\n",
    "    g = sns.factorplot(x='n_vox', y='score', hue='method', col='modality', \n",
    "                       data=baseline_vs_fwcr, size=5, aspect=2,\n",
    "                       legend_out=False, palette=colorpalette, legend=False)\n",
    "    g.map(plt.axhline, y=0.5, c='black', ls='--').add_legend(fontsize=25)\n",
    "    g.set(ylim=(0, 1), ylabel='F1-score', xlabel='N voxels')\n",
    "    g.fig.subplots_adjust(hspace=0, wspace=0.1)"
   ]
  },
  {
   "cell_type": "markdown",
   "metadata": {},
   "source": [
    "### Scenario 3B: Hyperparam opt"
   ]
  },
  {
   "cell_type": "code",
   "execution_count": null,
   "metadata": {},
   "outputs": [],
   "source": [
    "results_sce3b = dict(score=[], n_vox=[], modality=[])\n",
    "\n",
    "from sklearn.model_selection import GridSearchCV\n",
    "\n",
    "pipeline_hpo = Pipeline([('ufs', SelectKBest(f_classif, k=None)),\n",
    "                         ('scaler', StandardScaler()),\n",
    "                         ('clf', GridSearchCV(SVC(kernel='linear'),\n",
    "                                              param_grid={'C': [0.001, 0.01, 0.1, 1, 10, 100]}))\n",
    "                        ])\n",
    "\n",
    "for modality in ['VBM', 'TBSS']:\n",
    "    print(\"Processing mod=%s\" % modality)\n",
    "    skf = StratifiedKFold(n_splits=n_folds)\n",
    "    this_mvp = mvp[modality]\n",
    "    this_confound = confound[modality]\n",
    "    pipe = deepcopy(pipeline_hpo).steps\n",
    "    cr = ('cr', ConfoundRegressor(this_confound, this_mvp.X, cross_validate=True))\n",
    "    pipe.insert(0, cr)\n",
    "    pipe = Pipeline(pipe)\n",
    "    \n",
    "    for i, nV in enumerate(tqdm_notebook(np.append(num_vox, this_mvp.X.shape[1]),\n",
    "                                                   desc='analyzing %s' % modality)):\n",
    "     \n",
    "        pipe.set_params(ufs__k=nV)\n",
    "        tmp_scores = cross_val_score(pipe, this_mvp.X, this_mvp.y, cv=skf, n_jobs=-1)\n",
    "        results_sce3b['score'].extend(tmp_scores)\n",
    "        results_sce3b['n_vox'].extend([nV] * tmp_scores.size)\n",
    "        results_sce3b['modality'].extend([modality] * tmp_scores.size)"
   ]
  },
  {
   "cell_type": "code",
   "execution_count": null,
   "metadata": {},
   "outputs": [],
   "source": [
    "results_sce3b_df = pd.DataFrame(results_sce3b)\n",
    "results_sce3b_df['method'] = ['regress_cv_hpo'] * len(results_sce3b_df)\n",
    "with sns.plotting_context(rc=rc):\n",
    "    g = sns.factorplot(x='n_vox', y='score', hue='modality', data=results_sce3b_df, size=5, aspect=2,\n",
    "                       palette='muted', legend=False)\n",
    "    g.set(ylim=(0, 1), xlabel='N voxels', ylabel='F1-score')\n",
    "    plt.axhline(y=0.5, c='black', ls='dashed')\n",
    "    fig = plt.gcf()\n",
    "    fig.set_size_inches((10.5, 3.25))\n",
    "    plt.legend(title='Modality', bbox_to_anchor=(1.02, 1), loc=2, borderaxespad=0.)\n",
    "    plt.show()"
   ]
  },
  {
   "cell_type": "markdown",
   "metadata": {},
   "source": [
    "## Scecario 4: What about counterbalancing?\n",
    "Some argue, like Görgen et al in their SAA paper, that below chance classification can be prevented by making sure each *fold* is counterbalanced (i.e., correlation between target and confound is zero). \n",
    "\n",
    "Let's investigate this. We've written a scikit-learn style class, `CounterbalancedStratifiedSplit` (which is similar to scikit-learn's StratifiedKFold) that subsamples your data until the confound is counterbalanced between classes of y. "
   ]
  },
  {
   "cell_type": "code",
   "execution_count": null,
   "metadata": {},
   "outputs": [],
   "source": [
    "from counterbalance import CounterbalancedStratifiedSplit\n",
    "\n",
    "method_list = [func for func in dir(CounterbalancedStratifiedSplit)\n",
    "               if callable(getattr(CounterbalancedStratifiedSplit, func)) and not func.startswith(\"_\")]\n",
    "\n",
    "print(\"The CounterbalanceStratifiedSplit class has the following methods:\\n%s\" % (method_list,))"
   ]
  },
  {
   "cell_type": "markdown",
   "metadata": {},
   "source": [
    "Let's evaluate the counterbalance-method the same way as we did with the regression method:"
   ]
  },
  {
   "cell_type": "code",
   "execution_count": null,
   "metadata": {},
   "outputs": [],
   "source": [
    "results_sce4 = dict(n_vox=[], score=[], modality=[])\n",
    "\n",
    "for modality in ['VBM', 'TBSS']:\n",
    "    \n",
    "    c = confound[modality]\n",
    "    this_mvp = mvp[modality]    \n",
    "\n",
    "    skf = CounterbalancedStratifiedSplit(this_mvp.X, this_mvp.y, c.squeeze(),\n",
    "                                         c_type='continuous', metric='corr', threshold=0.1,\n",
    "                                         verbose=False, n_splits=n_folds)\n",
    "    skf.check_counterbalance_and_subsample()\n",
    "    X, y, c = this_mvp.X[skf.subsample_idx], this_mvp.y[skf.subsample_idx], c[skf.subsample_idx]\n",
    "\n",
    "    for i, nV in enumerate(tqdm_notebook(np.append(num_vox, this_mvp.X.shape[1]),\n",
    "                                         desc='Evaluating %s' % modality)):\n",
    "        \n",
    "        pipeline.set_params(ufs__k=nV)        \n",
    "        scores = np.zeros(n_folds)\n",
    "        for i, (train_idx, test_idx) in enumerate(skf.split(X, y)):\n",
    "            X_train, y_train = X[train_idx], y[train_idx]\n",
    "            X_test, y_test = X[test_idx], y[test_idx]\n",
    "            pipeline.fit(X_train, y_train)\n",
    "            scores[i] = pipeline.score(X_test, y_test)\n",
    "            \n",
    "        results_sce4['n_vox'].extend([nV] * n_folds)\n",
    "        results_sce4['score'].extend(scores.tolist())\n",
    "        results_sce4['modality'].extend([modality] * n_folds)"
   ]
  },
  {
   "cell_type": "code",
   "execution_count": null,
   "metadata": {},
   "outputs": [],
   "source": [
    "results_sce4_df = pd.DataFrame(results_sce4)\n",
    "results_sce4_df['method'] = ['counterbalancing'] * len(results_sce4_df)\n",
    "with sns.plotting_context(rc=rc):\n",
    "    fig = plt.gcf()\n",
    "    fig.set_size_inches((9.6, 4.01))\n",
    "    g = sns.factorplot(x='n_vox', y='score', hue='modality', data=results_sce4_df, size=5, aspect=2,\n",
    "                       legend_out=False, palette=\"muted\", legend=False)\n",
    "    g.set(ylim=(0, 1), ylabel='F1-score', xlabel='N voxels')\n",
    "    plt.axhline(y=0.5, c='black', ls='dashed')\n",
    "    plt.legend(title='Modality', bbox_to_anchor=(1.02, 1), loc=2, borderaxespad=0.)\n",
    "    plt.show()"
   ]
  },
  {
   "cell_type": "markdown",
   "metadata": {},
   "source": [
    "This is weird ... It doesn't seem to reduce the performance as expected; in fact, if anything, it seems to increase performance. Let's compare the baseline scores and the counterbalance scores directly in a single plot:"
   ]
  },
  {
   "cell_type": "code",
   "execution_count": null,
   "metadata": {},
   "outputs": [],
   "source": [
    "baseline_vs_counterbalance = pd.concat((results_sce1_df, results_sce4_df))\n",
    "baseline_vs_counterbalance['modality'] = baseline_vs_counterbalance['modality'].str.upper() \n",
    "colorpalette = [color_baseline] + [color_cb]\n",
    "\n",
    "with sns.plotting_context(rc=rc):\n",
    "    fig = plt.gcf()\n",
    "    fig.set_size_inches((9.6, 4.01))\n",
    "    g = sns.factorplot(x='n_vox', y='score', hue='method', col='modality', \n",
    "                       data=baseline_vs_counterbalance, size=5, aspect=2,\n",
    "                       legend_out=False, palette=colorpalette, legend=False)\n",
    "    g.map(plt.axhline, y=0.5, c='black', ls='--').add_legend(fontsize=25)\n",
    "    g.set(ylim=(0, 1), ylabel='F1-score', xlabel='N voxels')\n",
    "    g.fig.subplots_adjust(hspace=0, wspace=0.1)"
   ]
  },
  {
   "cell_type": "markdown",
   "metadata": {},
   "source": [
    "How does it compare to the other methods?"
   ]
  },
  {
   "cell_type": "code",
   "execution_count": null,
   "metadata": {},
   "outputs": [],
   "source": [
    "results_all_methods = pd.concat((results_sce1_df, results_sce2_df, results_sce3_df, results_sce4_df))\n",
    "colors_method = [color_baseline] + [color_wdcr] + [color_fwcr] + [color_cb]  \n",
    "\n",
    "with sns.plotting_context(rc=rc):\n",
    "    fig = plt.gcf()\n",
    "    fig.set_size_inches((9.6, 4.01))\n",
    "    g = sns.factorplot(x='n_vox', y='score', hue='method', col='modality', \n",
    "                       data=results_all_methods, size=5, aspect=2,\n",
    "                       legend_out=False, palette=colors_method, legend=False)\n",
    "    g.set(ylim=(0, 1), ylabel='F1-score', xlabel='N voxels')\n",
    "    g.map(plt.axhline, y=0.5, c='black', ls='--')\n",
    "    plt.axhline(y=0.5, c='black', ls='dashed')\n",
    "    plt.legend(title='Method', bbox_to_anchor=(1.02, 1), loc=2, borderaxespad=0.)\n",
    "    plt.show()"
   ]
  },
  {
   "cell_type": "markdown",
   "metadata": {},
   "source": [
    "That's weird ... Especially with the VBM-data, there seems to be a strong positive bias in the counterbalance-method. What is happening?\n",
    "\n",
    "Perhaps we can figure out something from the correlation structure before and after subsampling. To do so, we'll calculate the correlations between the voxels and gender both before and after subsampling. "
   ]
  },
  {
   "cell_type": "code",
   "execution_count": null,
   "metadata": {},
   "outputs": [],
   "source": [
    "results_corr_sce4 = dict(corrs=[], before_after=[], kind=[], modality=[])\n",
    "\n",
    "for modality in ['VBM', 'TBSS']:\n",
    "\n",
    "    c = confound[modality]\n",
    "    this_mvp = mvp[modality]\n",
    "    \n",
    "    for ivox in tqdm_notebook(range(this_mvp.X.shape[1]), desc='Correlations before (%s)' % modality):\n",
    "        results_corr_sce4['modality'].extend([modality] * 2)\n",
    "        results_corr_sce4['before_after'].extend(['before'] * 2)\n",
    "        results_corr_sce4['corrs'].append(stats.pearsonr(this_mvp.X[:, ivox], this_mvp.y)[0])\n",
    "        results_corr_sce4['kind'].append('xy')\n",
    "        results_corr_sce4['corrs'].append(stats.pearsonr(this_mvp.X[:, ivox], c.squeeze())[0])\n",
    "        results_corr_sce4['kind'].append('xc')        \n",
    "\n",
    "    skf = CounterbalancedStratifiedSplit(this_mvp.X, this_mvp.y, c.squeeze(),\n",
    "                                         c_type='continuous', metric='corr', threshold=0.1,\n",
    "                                         verbose=False, n_splits=n_folds)\n",
    "    skf.check_counterbalance_and_subsample()\n",
    "    \n",
    "    X, y, c = this_mvp.X[skf.subsample_idx], this_mvp.y[skf.subsample_idx], c[skf.subsample_idx]\n",
    "    \n",
    "    for ivox in tqdm_notebook(range(this_mvp.X.shape[1]), desc='Correlations after (%s)' % modality):\n",
    "        results_corr_sce4['modality'].extend([modality] * 2)\n",
    "        results_corr_sce4['before_after'].extend(['after'] * 2)\n",
    "        results_corr_sce4['corrs'].append(stats.pearsonr(X[:, ivox], y)[0])\n",
    "        results_corr_sce4['kind'].append('xy')\n",
    "        results_corr_sce4['corrs'].append(stats.pearsonr(X[:, ivox], c.squeeze())[0])\n",
    "        results_corr_sce4['kind'].append('xc')        "
   ]
  },
  {
   "cell_type": "markdown",
   "metadata": {},
   "source": [
    "Now, let's plot the 'before' and 'after' correlation distributions (both $\\rho(xy)$ and $\\rho(xc)$) for both VBM and TBSS!"
   ]
  },
  {
   "cell_type": "code",
   "execution_count": null,
   "metadata": {},
   "outputs": [],
   "source": [
    "results_corr_sce4_df = pd.DataFrame(results_corr_sce4)\n",
    "g = sns.FacetGrid(results_corr_sce4_df, col='kind', row='modality', hue='before_after', size=6)\n",
    "g.map(plt.hist, 'corrs', alpha=0.5, bins=50)\n",
    "g.add_legend()"
   ]
  },
  {
   "cell_type": "markdown",
   "metadata": {},
   "source": [
    "This figure is quite telling. The plots on the left (of the distribution of correlations between X and y) show you that subsamping widens the correlation distribution, meaning that it (artificially) increases the dependence between the data (X) and the target (y) by decorrelating the target (y) and the confound (c). "
   ]
  },
  {
   "cell_type": "markdown",
   "metadata": {},
   "source": [
    "### Base confound-model on y = 0"
   ]
  },
  {
   "cell_type": "code",
   "execution_count": null,
   "metadata": {},
   "outputs": [],
   "source": [
    "results_scex = dict(score=[], n_vox=[], modality=[])\n",
    "    \n",
    "for modality in ['VBM', 'TBSS']:\n",
    "    \n",
    "    this_mvp = mvp[modality]\n",
    "    this_confound = confound[modality]\n",
    "    crf = ConfoundRegressor(this_confound, this_mvp.X, cross_validate=True)\n",
    "    this_mvp.X[this_mvp.y == 0, :] = crf.fit_transform(this_mvp.X[this_mvp.y == 0, :])\n",
    "    this_mvp.X[this_mvp.y == 1, :] = crf.transform(this_mvp.X[this_mvp.y == 1, :])\n",
    "    \n",
    "    for i, nV in enumerate(tqdm_notebook(np.append(num_vox, this_mvp.X.shape[1]),\n",
    "                                                   desc='analyzing %s' % modality)):\n",
    "     \n",
    "        pipe.set_params(ufs__k=nV)\n",
    "        tmp_scores = cross_val_score(pipeline, this_mvp.X, this_mvp.y, cv=n_folds, n_jobs=-1)\n",
    "        results_scex['score'].extend(tmp_scores)\n",
    "        results_scex['n_vox'].extend([nV] * tmp_scores.size)\n",
    "        results_scex['modality'].extend([modality] * tmp_scores.size)"
   ]
  },
  {
   "cell_type": "code",
   "execution_count": null,
   "metadata": {},
   "outputs": [],
   "source": [
    "results_scex_df = pd.DataFrame(results_scex)\n",
    "results_scex_df['method'] = ['Dukart'] * len(results_scex_df)\n",
    "with sns.plotting_context(rc=rc):\n",
    "    fig = plt.gcf()\n",
    "    fig.set_size_inches((9.6, 4.01))\n",
    "    g = sns.factorplot(x='n_vox', y='score', hue='modality', data=results_scex_df, size=5, aspect=2,\n",
    "                       legend_out=False, palette=\"muted\", legend=False)\n",
    "    g.set(ylim=(0, 1), ylabel='F1-score', xlabel='N voxels')\n",
    "    plt.axhline(y=0.5, c='black', ls='dashed')\n",
    "    plt.legend(title='Modality', bbox_to_anchor=(1.02, 1), loc=2, borderaxespad=0.)\n",
    "    plt.show()"
   ]
  },
  {
   "cell_type": "markdown",
   "metadata": {},
   "source": [
    "# SOME EXTRA TESTS OF CONFOUND REGRESSION"
   ]
  },
  {
   "cell_type": "markdown",
   "metadata": {},
   "source": [
    "## Scenario 5: confound regression on train and test separately\n",
    "However, one could also argue that, instead of cross-validating our confound-regression, we can also just fit a separate confound-regression on the *test-set*. Because, theoretically, this sets the influence of the confound in the test-set also exactly to zero (like in scenario 1), yet without the danger of opposite effects of the confound in train- and test. (Note, thought, that this danger is, again, likely when doing some kind of inner cross-validation within your analyses, such as when you perform a hyper-parameter gridsearch!)\n",
    "\n",
    "Just as in scenario 3, we have written a function to parallelize the fold-wise classification analysis. Note that the only difference with scenario 3 is the fact that the parameter `cross_validate` from the `ConfoundRegressor` is set to `False`. This means that the `ConfoundRegressor` will now fit the confound-regression process again when the `transform(X)` method is called on the test-set (`X[test_idx]`)."
   ]
  },
  {
   "cell_type": "markdown",
   "metadata": {},
   "source": [
    "Just like scenario 3, we run the analysis for scenario 4 (this takes forever, though, because we now have to fit an insane amount of 'confound-models'):"
   ]
  },
  {
   "cell_type": "code",
   "execution_count": null,
   "metadata": {},
   "outputs": [],
   "source": [
    "results_sce5 = dict(score=[], n_vox=[], modality=[])\n",
    "\n",
    "for modality in ['VBM', 'TBSS']:\n",
    "    print(\"Processing mod=%s\" % modality)\n",
    "    skf = StratifiedKFold(n_splits=n_folds)\n",
    "    this_mvp = mvp[modality]\n",
    "    this_confound = confound[modality]\n",
    "    pipe = deepcopy(pipeline).steps\n",
    "    cr = ('cr', ConfoundRegressor(this_confound, this_mvp.X, cross_validate=False))\n",
    "    pipe.insert(0, cr)\n",
    "    pipe = Pipeline(pipe)\n",
    "    \n",
    "    for i, nV in enumerate(tqdm_notebook(np.append(num_vox, this_mvp.X.shape[1]),\n",
    "                                                   desc='analyzing %s' % modality)):\n",
    "    \n",
    "        pipe.set_params(ufs__k=nV)\n",
    "        tmp_scores = cross_val_score(pipe, this_mvp.X, this_mvp.y, cv=skf, n_jobs=-1)\n",
    "        results_sce5['score'].extend(tmp_scores)\n",
    "        results_sce5['n_vox'].extend([nV] * tmp_scores.size)\n",
    "        results_sce5['modality'].extend([modality] * tmp_scores.size)"
   ]
  },
  {
   "cell_type": "code",
   "execution_count": null,
   "metadata": {},
   "outputs": [],
   "source": [
    "results_sce5_df = pd.DataFrame(results_sce5)\n",
    "sns.set(style=\"whitegrid\")\n",
    "ax = sns.factorplot(x='n_vox', y='score', hue='modality', data=results_sce5_df, size=5, aspect=2)\n",
    "ax.set(ylim=(0, 1))\n",
    "plt.axhline(y=0.5, c='black', ls='dashed')\n",
    "plt.show()"
   ]
  },
  {
   "cell_type": "code",
   "execution_count": null,
   "metadata": {},
   "outputs": [],
   "source": [
    "Xs = mvp_vbm.X\n",
    "ys = mvp_vbm.y\n",
    "cs = np.hstack((np.ones((ys.size, 1)), confound['TBSS']))\n",
    "weights = np.linalg.pinv(cs.T.dot(cs)).dot(cs.T).dot(Xs)\n",
    "Xs_a = Xs - cs.dot(weights)"
   ]
  },
  {
   "cell_type": "code",
   "execution_count": null,
   "metadata": {},
   "outputs": [],
   "source": [
    "Xs_a2 = np.zeros_like(Xs)\n",
    "for i in range(Xs_a2.shape[1]):\n",
    "    b = np.linalg.lstsq(cs, Xs[:, i])[0]\n",
    "    Xs_a2[:, i] = Xs[:, i] - cs.dot(b)"
   ]
  },
  {
   "cell_type": "code",
   "execution_count": null,
   "metadata": {},
   "outputs": [],
   "source": [
    "np.testing.assert_array_almost_equal(Xs_a, Xs_a2)"
   ]
  },
  {
   "cell_type": "markdown",
   "metadata": {},
   "source": [
    "As you can see, the plot for scenario 4 looks very similar to the one for scenario 3. For comparison, be plot them side-by-side below:"
   ]
  },
  {
   "cell_type": "code",
   "execution_count": null,
   "metadata": {},
   "outputs": [],
   "source": [
    "results_sce3_df['Scenario'] = ['3'] * len(results_sce3_df)\n",
    "results_sce5_df['Scenario'] = ['5'] * len(results_sce5_df)\n",
    "\n",
    "g = sns.FacetGrid(pd.concat((results_sce3_df, results_sce5_df)), col=\"modality\",\n",
    "                  hue='Scenario', ylim=(.4,.8), size=5, aspect=1.5)\n",
    "g.map(sns.pointplot, \"n_vox\", \"score\")"
   ]
  },
  {
   "cell_type": "markdown",
   "metadata": {},
   "source": [
    "We believe, however, that for an unbiased and proper estimate of generalization error, one should only estimate the confound-models (i.e., the influence of brainsize on each voxel) on the train-set. "
   ]
  }
 ],
 "metadata": {
  "kernelspec": {
   "display_name": "Python 3",
   "language": "python",
   "name": "python3"
  },
  "language_info": {
   "codemirror_mode": {
    "name": "ipython",
    "version": 3
   },
   "file_extension": ".py",
   "mimetype": "text/x-python",
   "name": "python",
   "nbconvert_exporter": "python",
   "pygments_lexer": "ipython3",
   "version": "3.6.1"
  }
 },
 "nbformat": 4,
 "nbformat_minor": 2
}
