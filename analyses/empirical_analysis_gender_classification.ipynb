{
 "cells": [
  {
   "cell_type": "markdown",
   "metadata": {},
   "source": [
    "# Notebook with empirical analyses on the influence of confounds in MVPA\n",
    "In this notebook, we evaluate different strategies to deal with confounds in MVPA on empirical data (see [this notebook](LINK) for analyses of simulated data). Here, we try to predict gender (male/female) from structural MRI data (VBM and TBSS data) in face of the confound 'brain size'. We chose 'brain size' as a confound, because one could argue that overall brain size is not an interesting predictive feature in MVPA analyses, as people usually try to investigate more *local* gender differences in brain structure. Note that we only focus on this use case because the data was available; we do not wish to draw any conclusions from the results of this study apart from the statistical issues.\n",
    "\n",
    "## Contents\n",
    "1. Preparation / set-up\n",
    "2. Loading and organizing data\n",
    "3. Assess relation between gender, brainsize, and the structural MRI data\n",
    "4. Test confound control methods\n",
    "\n",
    "## 1. Preparation / set-up\n",
    "In this section, we'll make sure everything is set-up to run/reproduce the analyses in this notebook.\n",
    "\n",
    "### 1.1. First some imports\n",
    "Make sure you have the following packages:\n",
    "\n",
    "* `scikit-learn>=0.19`\n",
    "* `pandas>=0.20.0`\n",
    "* `seaborn>=0.8.1`\n",
    "* `tqdm>=4.19.5`\n",
    "* `numpy>=1.14.0`\n",
    "* `scipy>=1.0.0`\n",
    "\n",
    "And additionally our own skbold package (0.4.0, or preferably from the [master branch on github](https://github.com/lukassnoek/skbold)) installed.\n",
    "\n",
    "You can do this all at once by using the `requirements.txt` file in the root of this repository:\n",
    "\n",
    "```\n",
    "$ pip install -r ../requirements.txt\n",
    "```\n",
    "\n",
    "... *or* just running the command in the cell below:"
   ]
  },
  {
   "cell_type": "code",
   "execution_count": null,
   "metadata": {},
   "outputs": [],
   "source": [
    "!pip install -r ../requirements.txt"
   ]
  },
  {
   "cell_type": "markdown",
   "metadata": {},
   "source": [
    "### 1.2. Downloading the data\n",
    "From the 'root' directory of the cloned repository (`../`), run the command:\n",
    "\n",
    "```\n",
    "$ python download_data.py\n",
    "```\n",
    "\n",
    "which should download and unzip the data to `<rootdir>/data`. Alternatively, run the command below:"
   ]
  },
  {
   "cell_type": "code",
   "execution_count": null,
   "metadata": {},
   "outputs": [],
   "source": [
    "%run ../download_data.py"
   ]
  },
  {
   "cell_type": "markdown",
   "metadata": {},
   "source": [
    "Alright, let's start!"
   ]
  },
  {
   "cell_type": "markdown",
   "metadata": {},
   "source": [
    "## 2. Loading and organizing data\n",
    "First, let's import the necessary packages, set some defaults for our analyses, and load in the data.\n",
    "\n",
    "### 2.1. Importing packages and plotting defaults"
   ]
  },
  {
   "cell_type": "code",
   "execution_count": 1,
   "metadata": {},
   "outputs": [],
   "source": [
    "import os\n",
    "import os.path as op\n",
    "import pandas as pd\n",
    "import numpy as np\n",
    "from sklearn.feature_selection import f_classif, SelectKBest\n",
    "from sklearn.pipeline import Pipeline\n",
    "from sklearn.model_selection import (cross_val_score, permutation_test_score, StratifiedKFold,\n",
    "                                     permutation_test_score, RepeatedStratifiedKFold)\n",
    "from sklearn.preprocessing import StandardScaler   \n",
    "from sklearn.svm import SVC\n",
    "from sklearn.metrics import f1_score\n",
    "from sklearn.externals import joblib as jl\n",
    "import seaborn as sns\n",
    "import scipy.stats as stats\n",
    "from copy import deepcopy\n",
    "from tqdm import tqdm_notebook, tqdm\n",
    "from glob import glob\n",
    "\n",
    "import matplotlib.pyplot as plt\n",
    "%matplotlib inline\n",
    "\n",
    "# Prevent weird warning\n",
    "tqdm.monitor_interval = 0\n",
    "\n",
    "# We'll use seaborn for most of the plotting\n",
    "sns.set(style='whitegrid', context='poster')\n",
    "rc = {\"font.size\":25, \"axes.titlesize\":25, \"axes.labelsize\":25, \n",
    "      \"legend.fontsize\":15, \"xtick.labelsize\": 15,\n",
    "      \"ytick.labelsize\": 15, \"text.usetex\": True}\n",
    "\n",
    "# Set default colors\n",
    "color_vbm = sns.color_palette(\"muted\")[0]\n",
    "color_tbss = sns.color_palette(\"muted\")[1] \n",
    "colors_modality = [color_vbm] + [color_tbss]\n",
    "\n",
    "color_baseline = sns.color_palette(\"Set2\", 10)[7]\n",
    "color_cb = sns.color_palette(\"Set2\")[2]\n",
    "color_wdcr = sns.color_palette(\"Set2\")[3]\n",
    "color_fwcr = sns.color_palette(\"Set2\")[4]"
   ]
  },
  {
   "cell_type": "markdown",
   "metadata": {},
   "source": [
    "### 2.1. Loading in the data\n",
    "Below we load in the behavioral data (`PIOP1_behav_2017_with_brainsize.tsv`), which includes our factor-to-decode, \"Gender\", and our confound-of-interest (\"brain_size\"). The feature 'brain size' was calculated as the total amount of non-zero voxels of each subject's gray-matter segmented T1-weighted structural scan (as segmented by [FSL FAST](https://fsl.fmrib.ox.ac.uk/fsl/fslwiki/FAST); FSL v5.0).\n",
    "\n",
    "The voxel patterns are contained in the `Mvp` objects - a data-structure defined in the [skbold](skbold.readthedocs.io) package - in the attribute `X` (a $N$ [subjects] $\\times\\ K$ [voxels] numpy array). Two sets of voxel patterns are loaded: one with VBM data (processed with the standard [FSL-VBM pipeline](https://fsl.fmrib.ox.ac.uk/fsl/fslwiki/FSLVBM)) and one with skeletonized FA-data (processed with the standard [FSL-TBSS pipeline](https://fsl.fmrib.ox.ac.uk/fsl/fslwiki/TBSS) for a total of 217 subjects."
   ]
  },
  {
   "cell_type": "code",
   "execution_count": 2,
   "metadata": {},
   "outputs": [
    {
     "name": "stderr",
     "output_type": "stream",
     "text": [
      "/home/lukas/anaconda3/lib/python3.6/site-packages/h5py/__init__.py:34: FutureWarning: Conversion of the second argument of issubdtype from `float` to `np.floating` is deprecated. In future, it will be treated as `np.float64 == np.dtype(float).type`.\n",
      "  from ._conv import register_converters as _register_converters\n"
     ]
    },
    {
     "name": "stdout",
     "output_type": "stream",
     "text": [
      "Shape of VBM voxel patterns: (217, 412473)\n",
      "Shape of TBSS voxel patterns: (217, 128340)\n"
     ]
    }
   ],
   "source": [
    "base_dir = op.dirname(os.getcwd())\n",
    "data_dir = op.join(base_dir, 'data', 'mvp')\n",
    "behav_file = op.join(data_dir, 'PIOP1_behav_2017_MVCA_with_brainsize.tsv')\n",
    "\n",
    "# Load in VBM-mvp ...\n",
    "mvp_vbm = jl.load(op.join(data_dir, 'mvp_vbm.jl'))\n",
    "\n",
    "# ... and add \"Gender\" as \"y\" attribute\n",
    "mvp_vbm.add_y(behav_file, col_name='Gender', index_col=0, nan_strategy='remove')\n",
    "mvp_vbm.y -= 1  # recode from [2, 1] to [0, 1] \n",
    "mvp_vbm.y = 1 - mvp_vbm.y  # recode from [male=0, female=1] --> [male=1, female=0] \n",
    "\n",
    "print(\"Shape of VBM voxel patterns: %s\" % (mvp_vbm.X.shape,))\n",
    "\n",
    "# Same for TBSS\n",
    "mvp_tbss = jl.load(op.join(data_dir, 'mvp_tbss.jl'))\n",
    "mvp_tbss.add_y(behav_file, col_name='Gender', index_col=0, nan_strategy='remove')\n",
    "mvp_tbss.y -= 1\n",
    "mvp_tbss.y = 1 - mvp_tbss.y\n",
    "\n",
    "print(\"Shape of TBSS voxel patterns: %s\" % (mvp_tbss.X.shape,))"
   ]
  },
  {
   "cell_type": "markdown",
   "metadata": {},
   "source": [
    "Note that the TBSS Mvp contains way fewer voxels due to the fact that `skbold` already removed all 0 voxels (i.e. voxels outside the TBSS skeleton). \n",
    "\n",
    "Let's check out the target variable ($y$, i.e. gender) of the datasets:"
   ]
  },
  {
   "cell_type": "code",
   "execution_count": 3,
   "metadata": {},
   "outputs": [
    {
     "name": "stdout",
     "output_type": "stream",
     "text": [
      "TBSS, number of target = 1 (women): 95\n",
      "TBSS, number of target = 0 (men): 122\n",
      "TBSS, percentage women: 0.438\n",
      "\n",
      "VBM, number of target = 1 (women): 95\n",
      "VBM, number of target = 0 (men): 122\n",
      "TBSS, percentage women: 0.438\n"
     ]
    }
   ],
   "source": [
    "print(\"TBSS, number of target = 1 (women): %i\" % mvp_tbss.y.sum())\n",
    "print(\"TBSS, number of target = 0 (men): %i\" % (mvp_tbss.y == 0).sum())\n",
    "print(\"TBSS, percentage women: %.3f\" % mvp_tbss.y.mean(), end='\\n\\n')\n",
    "\n",
    "print(\"VBM, number of target = 1 (women): %i\" % mvp_vbm.y.sum())\n",
    "print(\"VBM, number of target = 0 (men): %i\" % (mvp_vbm.y == 0).sum())\n",
    "print(\"TBSS, percentage women: %.3f\" % mvp_vbm.y.mean())"
   ]
  },
  {
   "cell_type": "markdown",
   "metadata": {},
   "source": [
    "Note that the samples (i.e., participants) are exactly the same in the two datasets (VBM and TBSS). Also, as you can see, there is quite a bit of imbalance in the target variable (gender). We'll 'correct' for this by using an 'imbalance-aware' performance metric ('F1 score', more about that later). \n",
    "\n",
    "Now, we load in the confound - brain size - from the same file with \"behavioral\" data."
   ]
  },
  {
   "cell_type": "code",
   "execution_count": 4,
   "metadata": {},
   "outputs": [
    {
     "data": {
      "text/html": [
       "<div>\n",
       "<style scoped>\n",
       "    .dataframe tbody tr th:only-of-type {\n",
       "        vertical-align: middle;\n",
       "    }\n",
       "\n",
       "    .dataframe tbody tr th {\n",
       "        vertical-align: top;\n",
       "    }\n",
       "\n",
       "    .dataframe thead th {\n",
       "        text-align: right;\n",
       "    }\n",
       "</style>\n",
       "<table border=\"1\" class=\"dataframe\">\n",
       "  <thead>\n",
       "    <tr style=\"text-align: right;\">\n",
       "      <th></th>\n",
       "      <th>Gender</th>\n",
       "      <th>brain_size_GM</th>\n",
       "      <th>brain_size_WM</th>\n",
       "      <th>brain_size_all</th>\n",
       "    </tr>\n",
       "  </thead>\n",
       "  <tbody>\n",
       "    <tr>\n",
       "      <th>sub-0001</th>\n",
       "      <td>2.0</td>\n",
       "      <td>841107.0</td>\n",
       "      <td>582949.0</td>\n",
       "      <td>1333972.0</td>\n",
       "    </tr>\n",
       "    <tr>\n",
       "      <th>sub-0002</th>\n",
       "      <td>2.0</td>\n",
       "      <td>NaN</td>\n",
       "      <td>NaN</td>\n",
       "      <td>NaN</td>\n",
       "    </tr>\n",
       "    <tr>\n",
       "      <th>sub-0003</th>\n",
       "      <td>1.0</td>\n",
       "      <td>944433.0</td>\n",
       "      <td>681553.0</td>\n",
       "      <td>1515841.0</td>\n",
       "    </tr>\n",
       "    <tr>\n",
       "      <th>sub-0004</th>\n",
       "      <td>2.0</td>\n",
       "      <td>868615.0</td>\n",
       "      <td>603197.0</td>\n",
       "      <td>1378513.0</td>\n",
       "    </tr>\n",
       "    <tr>\n",
       "      <th>sub-0005</th>\n",
       "      <td>1.0</td>\n",
       "      <td>981713.0</td>\n",
       "      <td>684582.0</td>\n",
       "      <td>1557081.0</td>\n",
       "    </tr>\n",
       "  </tbody>\n",
       "</table>\n",
       "</div>"
      ],
      "text/plain": [
       "          Gender  brain_size_GM  brain_size_WM  brain_size_all\n",
       "sub-0001     2.0       841107.0       582949.0       1333972.0\n",
       "sub-0002     2.0            NaN            NaN             NaN\n",
       "sub-0003     1.0       944433.0       681553.0       1515841.0\n",
       "sub-0004     2.0       868615.0       603197.0       1378513.0\n",
       "sub-0005     1.0       981713.0       684582.0       1557081.0"
      ]
     },
     "execution_count": 4,
     "metadata": {},
     "output_type": "execute_result"
    }
   ],
   "source": [
    "df = pd.read_csv(behav_file, index_col=0, sep='\\t')\n",
    "df.head()"
   ]
  },
  {
   "cell_type": "markdown",
   "metadata": {},
   "source": [
    "Note that not every subject has values for both the \"Gender\" variable and the \"brain_size*\" variables. This is because some subjects completed the demographics questionnaire but not the MRI acquisition phase (or vice versa). Below, we extract only the brain-size estimates for subjects that we actually have data from:"
   ]
  },
  {
   "cell_type": "code",
   "execution_count": 5,
   "metadata": {},
   "outputs": [
    {
     "name": "stdout",
     "output_type": "stream",
     "text": [
      "Shape brainsize (GM) array VBM: (217,)\n",
      "Shape brainsize (WM) array TBSS: (217,)\n"
     ]
    }
   ],
   "source": [
    "confound_vbm = df.loc[mvp_vbm.common_subjects]['brain_size_GM']\n",
    "confound_tbss = df.loc[mvp_tbss.common_subjects]['brain_size_WM']\n",
    "print(\"Shape brainsize (GM) array VBM: %s\" % (confound_vbm.shape,))\n",
    "print(\"Shape brainsize (WM) array TBSS: %s\" % (confound_vbm.shape,))"
   ]
  },
  {
   "cell_type": "markdown",
   "metadata": {},
   "source": [
    "### 2.3. Setting analysis parameters\n",
    "For the first couple of confound strategies (here we call them \"scenarios\"), we set some default parameters for our MVPA pipelines."
   ]
  },
  {
   "cell_type": "code",
   "execution_count": 6,
   "metadata": {},
   "outputs": [],
   "source": [
    "n_folds = 10  # used in stratified K-fold\n",
    "n_jobs = 8    # for parallel execution of pipelines through joblib\n",
    "\n",
    "# Make a dict of both Mvps\n",
    "mvp = dict(VBM=mvp_vbm, TBSS=mvp_tbss)\n",
    "\n",
    "# ... same for confounds\n",
    "confound = dict(VBM=confound_vbm[:, np.newaxis], ## Add axis for some matrix algebra later\n",
    "                TBSS=confound_tbss[:, np.newaxis])\n",
    "\n",
    "# We're going to evaluate the scenarios for different amounts of voxels\n",
    "num_vox = np.round(np.logspace(2, 5, num=8)).astype(int)\n",
    "\n",
    "# We'll use F1-score as an evaluation metric because our classes\n",
    "# are be slightly imbalanced (i.e. more female than male subjects)\n",
    "metric = 'f1_macro'\n",
    "\n",
    "# The default pipeline we'll use: \n",
    "# - univariate feature selection (f-test) for the 'best' K voxels\n",
    "# - zero-mean / unit std scaling\n",
    "# - linear SVM\n",
    "pipeline = Pipeline([('ufs', SelectKBest(f_classif, k=None)),\n",
    "                     ('scaler', StandardScaler()),\n",
    "                     ('clf', SVC(kernel='linear', class_weight=\"balanced\"))])"
   ]
  },
  {
   "cell_type": "markdown",
   "metadata": {},
   "source": [
    "## 3. Assessing the relation between gender, brainsize, and the structural MRI data\n",
    "In the paper we define a confound as \"a variable that correlates with the to-be-decoded variable (the target) and is plausibly encoded in the imaging data\". As such, we need to establish this for our empirical example.\n",
    "\n",
    "### 3.1. Is brainsize correlated/predictive of gender?\n",
    "Before anything else, we should evaluate whether brain-size is truly a confound. We do this in two ways. First, we can simply calculate the [point-biserial correlation](https://en.wikipedia.org/wiki/Point-biserial_correlation_coefficient) (i.e., a correlation between a continuous and binary variable) between brain size and gender:"
   ]
  },
  {
   "cell_type": "code",
   "execution_count": 7,
   "metadata": {},
   "outputs": [
    {
     "name": "stdout",
     "output_type": "stream",
     "text": [
      "Correlation (p-value) between brain-size and gender for VBM: 0.645 (0.0000)\n",
      "Correlation (p-value) between brain-size and gender for TBSS: 0.588 (0.0000)\n"
     ]
    }
   ],
   "source": [
    "for modality in ['VBM', 'TBSS']:\n",
    "    corr, pval = stats.pearsonr(confound[modality].squeeze(), mvp[modality].y)\n",
    "    print(\"Correlation (p-value) between brain-size and gender \"\n",
    "          \"for %s: %.3f (%.4f)\" % (modality, corr, pval))"
   ]
  },
  {
   "cell_type": "markdown",
   "metadata": {},
   "source": [
    "Next to calculating the simple correlation, we can also evualate dependence by using the [Same Analysis Approach](https://arxiv.org/abs/1703.06670) (SAA) suggested by Görgen and colleagues. SAA suggests to simply use your potential confound as a single feature in a classification analysis. As such, we use brain size as a single predictor in a model trying to predict gender.\n",
    "\n",
    "Let's find out:"
   ]
  },
  {
   "cell_type": "code",
   "execution_count": 8,
   "metadata": {},
   "outputs": [
    {
     "name": "stderr",
     "output_type": "stream",
     "text": [
      "/home/lukas/anaconda3/lib/python3.6/site-packages/seaborn/axisgrid.py:703: UserWarning: Using the boxplot function without specifying `order` is likely to produce an incorrect plot.\n",
      "  warnings.warn(warning)\n",
      "/home/lukas/anaconda3/lib/python3.6/site-packages/seaborn/axisgrid.py:703: UserWarning: Using the swarmplot function without specifying `order` is likely to produce an incorrect plot.\n",
      "  warnings.warn(warning)\n"
     ]
    },
    {
     "data": {
      "image/png": "[encoded data removed]",
      "text/plain": [
       "<matplotlib.figure.Figure at 0x7fd45ac847b8>"
      ]
     },
     "metadata": {},
     "output_type": "display_data"
    }
   ],
   "source": [
    "# We leave out univariate feature selection, but include the scaler\n",
    "pipeline_check = Pipeline([('scaler', StandardScaler()),\n",
    "                           ('clf', SVC(kernel='linear', class_weight='balanced'))])\n",
    "\n",
    "# Loop over two modalities\n",
    "results_check = dict(scores=[], modality=[])\n",
    "for modality in ['VBM', 'TBSS']:\n",
    "    this_mvp, this_confound = mvp[modality], confound[modality]\n",
    "    scores = cross_val_score(pipeline_check, this_confound, this_mvp.y,\n",
    "                             cv=RepeatedStratifiedKFold(n_splits=10, n_repeats=10),\n",
    "                             scoring=metric, n_jobs=n_jobs)\n",
    "    results_check['scores'].extend(scores.tolist())\n",
    "    results_check['modality'].extend([modality.upper()] * scores.size)\n",
    "    \n",
    "df_check = pd.DataFrame(results_check)\n",
    "\n",
    "with sns.plotting_context(rc=rc):\n",
    "    g = sns.FacetGrid(df_check, row='modality', legend_out=False, size=5, aspect=2)\n",
    "    g = g.map(sns.boxplot, \"scores\")\n",
    "    g = g.map(sns.swarmplot, \"scores\", size=15, color='orange')\n",
    "    g = g.map(plt.axvline, x=0.5, c='black', ls='dashed')\n",
    "    g.axes[0][0].set_title('Brain size (GM)', fontsize=25)\n",
    "    g.axes[1][0].set_xlabel(r'$F_{1}\\ score$', fontsize=25)\n",
    "    g.axes[1][0].set_title('Brain size (WM)', fontsize=25)\n",
    "    g.axes[1][0].set_xticklabels(np.round(np.arange(0.4, 1.0, 0.1), 1), fontsize=25)\n",
    "    plt.xlim(.4, 1.05)\n",
    "    plt.tight_layout()\n",
    "    plt.show()"
   ]
  },
  {
   "cell_type": "markdown",
   "metadata": {},
   "source": [
    "Some descriptive statistics:"
   ]
  },
  {
   "cell_type": "code",
   "execution_count": null,
   "metadata": {},
   "outputs": [],
   "source": [
    "df_check.groupby('modality').agg([np.mean, np.std])"
   ]
  },
  {
   "cell_type": "markdown",
   "metadata": {},
   "source": [
    "Let's also check whether it's significant using a permutation test (takes a minute or so):"
   ]
  },
  {
   "cell_type": "code",
   "execution_count": null,
   "metadata": {},
   "outputs": [],
   "source": [
    "import warnings\n",
    "from sklearn.exceptions import UndefinedMetricWarning\n",
    "warnings.filterwarnings(\"ignore\", category=UndefinedMetricWarning)\n",
    "\n",
    "fig, axes = plt.subplots(ncols=2, nrows=1, sharex=True, sharey=True, figsize=(15, 5))\n",
    "for i, modality in enumerate(['VBM', 'TBSS']):\n",
    "    this_mvp, this_confound = mvp[modality], confound[modality]\n",
    "    perm_results = permutation_test_score(pipeline_check, this_confound,\n",
    "                                          this_mvp.y, cv=RepeatedStratifiedKFold(n_splits=10, n_repeats=1),\n",
    "                                          scoring=metric, n_jobs=n_jobs, n_permutations=1000)\n",
    "    \n",
    "    axes[i].hist(perm_results[1])\n",
    "    axes[i].axvline(perm_results[0], c='r', ls='--')\n",
    "    axes[i].set_title(modality)\n",
    "    axes[i].set_xlabel(r'$F_1\\ score$')\n",
    "    axes[i].text(0.62, 12, r'$P-value: %.3f$' % perm_results[2], fontsize=12)\n",
    "    \n",
    "axes[0].set_ylabel('Frequency')\n",
    "axes[0].legend(['Permuted scores', 'Observed score'], fontsize=12)\n",
    "fig.tight_layout()"
   ]
  },
  {
   "cell_type": "markdown",
   "metadata": {},
   "source": [
    "Conclusion: yes, very accurately and robustly so (p < 0.001)! Thus, we can conclude that 'brainsize' is correlated/predictive of gender."
   ]
  },
  {
   "cell_type": "markdown",
   "metadata": {},
   "source": [
    "### 3.1. Is brainsize encoded in the neuroimaging data?\n",
    "Next, let's assess whether brainsize is actually related ('encoded in') the neuroimaging data. One way to do so is to assess the correlation of each voxel with brainsize. As such, we need to calculate *a lot* of correlations (i.e., one for every voxel); we define (in `utils.py`) a \"vectorized\" correlation function that is able to calculate a lot of correlations at the same same:"
   ]
  },
  {
   "cell_type": "markdown",
   "metadata": {},
   "source": [
    "Now, let's calculate the correlation of brainsize with all voxels for both VBM and TBSS:"
   ]
  },
  {
   "cell_type": "code",
   "execution_count": null,
   "metadata": {},
   "outputs": [],
   "source": [
    "from utils import vectorized_corr\n",
    "\n",
    "corrs_Xc = dict(corrs=[], modality=[])\n",
    "\n",
    "for modality in ['VBM', 'TBSS']:\n",
    "    corrs_Xc['corrs'].extend(vectorized_corr(confound[modality], mvp[modality].X))\n",
    "    corrs_Xc['modality'].extend([modality] * mvp[modality].X.shape[1])"
   ]
  },
  {
   "cell_type": "markdown",
   "metadata": {},
   "source": [
    "... and plot them (as normalized histograms + KDE plot):"
   ]
  },
  {
   "cell_type": "code",
   "execution_count": null,
   "metadata": {},
   "outputs": [],
   "source": [
    "from utils import rpdf\n",
    "rs = np.arange(-.5, .5, 0.001)\n",
    "\n",
    "g = sns.FacetGrid(df_check, col='modality', legend_out=False, size=5, aspect=2)\n",
    "g = g.map(sns.boxplot, \"scores\")\n",
    "g = g.map(sns.swarmplot, \"scores\", size=15, color='orange')\n",
    "g = g.map(plt.axvline, x=0.5, c='black', ls='dashed')\n",
    "g.axes[0][0].set_title('Brain size (GM)', fontsize=25)\n",
    "g.axes[0][1].set_title('Brain size (WM)', fontsize=25)\n",
    "g.axes[0][0].set_xlabel(r'$F_{1}\\ score$', fontsize=25)\n",
    "g.axes[0][1].set_xlabel(r'$F_{1}\\ score$', fontsize=25)\n",
    "g.axes[0][1].set_xticklabels(np.round(np.arange(0.4, 1.0, 0.1), 1), fontsize=25)\n",
    "g.axes[0][0].set_xticklabels(np.round(np.arange(0.4, 1.0, 0.1), 1), fontsize=25)\n",
    "g.axes[0][0].set_xlim(.4, 1.05)\n",
    "g.axes[0][1].set_xlim(.4, 1.05)\n",
    "\n",
    "g = sns.FacetGrid(pd.DataFrame(corrs_Xc), col='modality', hue='modality', legend_out=True,\n",
    "                  size=4, aspect=2, palette=colors_modality)\n",
    "g = g.map(sns.distplot, \"corrs\", norm_hist=False)\n",
    "g.set(xlabel=r'$r_{X,C}$', title='')\n",
    "g.axes[0][0].set_title('VBM')\n",
    "g.axes[0][1].set_title('TBSS')\n",
    "g.axes[0][0].set_ylabel('Density')\n",
    "g.axes[0][0].plot(rs, rpdf(rho=0, n=217, rs=rs), ls='--', c=color_vbm)\n",
    "g.axes[0][1].plot(rs, rpdf(rho=0, n=217, rs=rs), ls='--', c=color_tbss)\n",
    "g.axes[0][1].set_ylim(0, 6)\n",
    "g.axes[0][0].legend([r'$PDF(\\rho = 0)$', 'Actual correlations'])\n",
    "\n",
    "g.despine(left=True)\n",
    "plt.tight_layout()\n",
    "plt.show()"
   ]
  },
  {
   "cell_type": "markdown",
   "metadata": {},
   "source": [
    "## 4. Test confound control methods\n",
    "In this section, we'll actually apply the three confound control methods (post-hoc counterbalancing, whole-dataset confound regression, and our proposed fold-wise confound regression method). We'll start with a baseline model in which no confound control is applied."
   ]
  },
  {
   "cell_type": "markdown",
   "metadata": {},
   "source": [
    "### 4.1. Baseline model (no confound control)\n",
    "Now, for a baseline analysis, let's predict gender based on TBSS and VBM data for different amounts of voxels included in the analyses (as selected by `f_classif`):"
   ]
  },
  {
   "cell_type": "code",
   "execution_count": null,
   "metadata": {},
   "outputs": [],
   "source": [
    "results_baseline = dict(n_vox=[], score=[], modality=[])\n",
    "\n",
    "for modality in ['VBM', 'TBSS']:\n",
    "    this_mvp = mvp[modality]\n",
    "    for i, nV in enumerate(tqdm_notebook(np.append(num_vox, this_mvp.X.shape[1]),\n",
    "                                         desc='analyzing %s' % modality)):\n",
    "        \n",
    "        pipeline.set_params(ufs__k=nV)\n",
    "        scores = cross_val_score(pipeline, this_mvp.X, this_mvp.y,\n",
    "                                 cv=n_folds, scoring=metric, n_jobs=n_jobs)\n",
    "        results_baseline['n_vox'].extend([nV] * n_folds)\n",
    "        results_baseline['score'].extend(scores.tolist())\n",
    "        results_baseline['modality'].extend([modality] * n_folds)\n",
    "        \n",
    "results_baseline_df = pd.DataFrame(results_baseline)\n",
    "results_baseline_df['method'] = ['None'] * len(results_baseline_df)"
   ]
  },
  {
   "cell_type": "markdown",
   "metadata": {},
   "source": [
    "Now, before we plot any of the results, we'll need to run a permutation analysis in which we run the same analysis as above a 1000 times with permuted labels (i.e., $y$ is shuffled). The code is below, but we recommend *not* running it (it takes about 1.5 days)."
   ]
  },
  {
   "cell_type": "markdown",
   "metadata": {},
   "source": [
    "#### Permutation tests baseline\n",
    "Only run the cell below if you want to (re)calculate the p-values using the permutation test (this takes quite long):"
   ]
  },
  {
   "cell_type": "code",
   "execution_count": null,
   "metadata": {},
   "outputs": [],
   "source": [
    "save_dir = op.join(base_dir, 'data', 'perm_results', 'baseline')\n",
    "\n",
    "for modality in ['VBM', 'TBSS']:\n",
    "    this_mvp = mvp[modality]\n",
    "    for i, nV in enumerate(tqdm_notebook(np.append(num_vox, this_mvp.X.shape[1]),\n",
    "                                         desc='analyzing %s' % modality)):\n",
    "        pipeline.set_params(ufs__k=nV)\n",
    "        this_score, these_perms, this_pval = permutation_test_score(pipeline, this_mvp.X, this_mvp.y,\n",
    "                                                                    cv=n_folds, n_permutations=1000,\n",
    "                                                                    n_jobs=n_jobs, scoring=metric)\n",
    "        \n",
    "        this_save_dir = op.join(save_dir, modality, 'K_%i' % nV)\n",
    "        \n",
    "        if not op.isdir(this_save_dir):\n",
    "            os.makedirs(this_save_dir)\n",
    "            \n",
    "        np.savez(op.join(this_save_dir, 'perm_data.npz'), obs_score=this_score, perm_scores=these_perms,\n",
    "                 pval=this_pval)"
   ]
  },
  {
   "cell_type": "markdown",
   "metadata": {},
   "source": [
    "Now, let's plot the observed score on top of the permutation distributions:"
   ]
  },
  {
   "cell_type": "code",
   "execution_count": null,
   "metadata": {},
   "outputs": [],
   "source": [
    "baseline_perms = np.zeros((2, 9, 1000))\n",
    "baseline_obs = np.zeros((2, 9))\n",
    "baseline_pvals = np.zeros((2, 9))\n",
    "\n",
    "plt.figure(figsize=(15, 25))\n",
    "this_plot = 1\n",
    "for i, modality in enumerate(['VBM', 'TBSS']):\n",
    "    perm_dirs = sorted(glob(op.join(base_dir, 'data', 'perm_results',\n",
    "                                    'baseline', modality, 'K*', '*npz')),\n",
    "                       key=lambda x: int(op.basename(op.dirname(x)).split('_')[1]))\n",
    "\n",
    "    for ii, pdir in enumerate(perm_dirs):\n",
    "        perm_data = np.load(pdir)\n",
    "        baseline_perms[i, ii, :] = perm_data['perm_scores']\n",
    "        baseline_obs[i, ii] = perm_data['obs_score']\n",
    "        baseline_pvals[i, ii] = perm_data['pval']\n",
    "        plt.subplot(9, 2, this_plot)\n",
    "        plt.title('%s, %s' % (modality, op.basename(op.dirname(pdir))))\n",
    "        plt.hist(baseline_perms[i, ii, :])\n",
    "        plt.xlim(0.2, 1)\n",
    "        plt.ylim(0, 300)\n",
    "        pval = (1 + (baseline_obs[i, ii] <= baseline_perms).sum()) / (baseline_perms[i, ii, :].size + 1)\n",
    "        plt.text(0.25, 210, \"P-val: %.3f\" % pval, fontsize=15)\n",
    "        plt.axvline(baseline_obs[i, ii], c='tab:orange', ls='--')\n",
    "        \n",
    "        this_plot += 1\n",
    "\n",
    "plt.tight_layout()"
   ]
  },
  {
   "cell_type": "markdown",
   "metadata": {},
   "source": [
    "#### Baseline model performance\n",
    "Alright, now let's actually plot the observed (mean) model performance for the VBM and TBSS dataset across the different values for $K$ (i.e., amount of voxels). Note the dashed black line is chance level performance (50%) and the dashed orange line is the model performance when using brainsize only (for comparison):"
   ]
  },
  {
   "cell_type": "code",
   "execution_count": null,
   "metadata": {},
   "outputs": [],
   "source": [
    "custom_legend_labels = ['Method = None', 'Chance level performance', 'Brain size only performance']\n",
    "custom_legend_handles = [plt.Line2D((0, 1), (0, 0), color=color_baseline, marker='o', lw=3),\n",
    "                         plt.Line2D((0, 1), (0, 0), color='k', ls='--', lw=2),\n",
    "                         plt.Line2D((0, 1), (0, 0), color='tab:orange', ls='--', lw=1)]\n",
    "\n",
    "with sns.plotting_context(rc=rc):\n",
    "    g = sns.factorplot(x='n_vox', y='score', col='modality', hue='modality', palette=[color_baseline] * 2,\n",
    "                       data=results_baseline_df, size=5, aspect=2, legend_out=True, legend=True)\n",
    "    g = g.map(plt.axhline, y=0.5, c='black', ls='dashed', lw=2)\n",
    "    g.set(ylim=(0, 1), ylabel='$\\mathrm{F_{1}\\ score}$', xlabel='K voxels')\n",
    "    g.axes[0][1].set_ylabel('')\n",
    "    g.axes[0][0].axhline(df_check[df_check.modality == 'VBM'].scores.mean(), lw=2, c='orange', ls=':')\n",
    "    g.axes[0][1].axhline(df_check[df_check.modality == 'TBSS'].scores.mean(), lw=2, c='orange', ls=':')\n",
    "    g.axes[0][0].legend(custom_legend_handles[0:1], custom_legend_labels[0:1], loc=3, borderaxespad=0.)\n",
    "    g.axes[0][1].legend(custom_legend_handles[1:], custom_legend_labels[1:], loc=3, borderaxespad=0.)\n",
    "    g.axes[0][0].set_title(\"VBM\", fontsize=35)\n",
    "    g.axes[0][1].set_title(\"TBSS\", fontsize=35)\n",
    "    \n",
    "    for thisax, mod in enumerate(['VBM', 'TBSS']):\n",
    "        this_df = results_baseline_df[results_baseline_df.modality == mod]\n",
    "        scores_per_K = this_df.groupby('n_vox').mean().values\n",
    "    \n",
    "        this_range = range(9) if thisax == 1 else [0, 1, 2, 3, 4, 5, 6, 7, 9]\n",
    "        for i, xval in enumerate(this_range):\n",
    "            \n",
    "            if baseline_pvals[thisax, i] <= 0.001:\n",
    "                g.axes[0][thisax].text(xval - 0.12, scores_per_K[i] + 0.05, '*', fontsize=35)\n",
    "    \n",
    "    g.despine(left=True)\n",
    "plt.show()"
   ]
  },
  {
   "cell_type": "markdown",
   "metadata": {},
   "source": [
    "As you can see, performance is far above chance, but it is unclear what drives our results: some 'true signal' or 'confounded signal'? To try to disentangle those sources of information, we're going to evaluate post-hoc counterbalancing and (two flavors of) confound regression in the next section."
   ]
  },
  {
   "cell_type": "markdown",
   "metadata": {},
   "source": [
    "### 4.2. Counterbalancing\n",
    "In the post-hoc counterbalancing method, we try to control for confounds by \"decorrelating\" the confound ($c$) and the target ($y$) by subsampling the data. We've written a scikit-learn style class, `CounterbalancedStratifiedSplit` (which is similar to scikit-learn's `StratifiedKFold`) that subsamples your data until the confound is counterbalanced with respect to the target. Note that this class makes sure to find partitions in which *each fold* is counterbalanced, as advised by [Görgen and colleagues](https://arxiv.org/abs/1703.06670).\n",
    "\n",
    "The class is contained in a module called `counterbalance.py` in the same directory as this notebook. Let's import it:"
   ]
  },
  {
   "cell_type": "code",
   "execution_count": 9,
   "metadata": {},
   "outputs": [
    {
     "name": "stdout",
     "output_type": "stream",
     "text": [
      "The CounterbalanceStratifiedSplit class has the following methods:\n",
      "['check_counterbalance_and_subsample', 'split']\n"
     ]
    }
   ],
   "source": [
    "from counterbalance import CounterbalancedStratifiedSplit\n",
    "\n",
    "method_list = [func for func in dir(CounterbalancedStratifiedSplit)\n",
    "               if callable(getattr(CounterbalancedStratifiedSplit, func)) and not func.startswith(\"_\")]\n",
    "\n",
    "print(\"The CounterbalanceStratifiedSplit class has the following methods:\\n%s\" % (method_list,))"
   ]
  },
  {
   "cell_type": "markdown",
   "metadata": {},
   "source": [
    "As described in our paper, we want to subsample the data until the P-value of the correlation is above some threshold $\\alpha$:\n",
    "\n",
    "\\begin{align}\n",
    "\\mathrm{while}\\ P(\\hat{\\rho}_{cy}) < \\alpha:\n",
    "\\newline\n",
    "\\mathrm{subsample}(X, y, c)\n",
    "\\end{align}\n",
    "\n",
    "We'll showcase how this is done on the VBM-data below. We use $\\alpha = 0.05$ as a threshold. "
   ]
  },
  {
   "cell_type": "code",
   "execution_count": 10,
   "metadata": {},
   "outputs": [],
   "source": [
    "vbm_data = mvp['VBM']\n",
    "vbm_confound = confound['VBM']\n",
    "cbss = CounterbalancedStratifiedSplit(X=vbm_data.X, y=vbm_data.y, c=vbm_confound.squeeze(),\n",
    "                                      c_type='continuous', metric='corr',\n",
    "                                      use_pval=True, threshold=0.05,\n",
    "                                      verbose=True, n_splits=n_folds)"
   ]
  },
  {
   "cell_type": "markdown",
   "metadata": {},
   "source": [
    "First, we need to call the `check_counterbalance_and_subsample()` method to subsample the data (if necessary)."
   ]
  },
  {
   "cell_type": "code",
   "execution_count": 11,
   "metadata": {
    "scrolled": true
   },
   "outputs": [
    {
     "name": "stdout",
     "output_type": "stream",
     "text": [
      "Current overall correlation c/y (pval): 0.645 (0.000)\n",
      "Current overall correlation c/y (pval): 0.643 (0.000)\n",
      "Current overall correlation c/y (pval): 0.641 (0.000)\n",
      "Current overall correlation c/y (pval): 0.638 (0.000)\n",
      "Current overall correlation c/y (pval): 0.635 (0.000)\n",
      "Current overall correlation c/y (pval): 0.632 (0.000)\n",
      "Current overall correlation c/y (pval): 0.628 (0.000)\n",
      "Current overall correlation c/y (pval): 0.623 (0.000)\n",
      "Current overall correlation c/y (pval): 0.619 (0.000)\n",
      "Current overall correlation c/y (pval): 0.615 (0.000)\n",
      "Current overall correlation c/y (pval): 0.610 (0.000)\n",
      "Current overall correlation c/y (pval): 0.605 (0.000)\n",
      "Current overall correlation c/y (pval): 0.600 (0.000)\n",
      "Current overall correlation c/y (pval): 0.594 (0.000)\n",
      "Current overall correlation c/y (pval): 0.589 (0.000)\n",
      "Current overall correlation c/y (pval): 0.583 (0.000)\n",
      "Current overall correlation c/y (pval): 0.576 (0.000)\n",
      "Current overall correlation c/y (pval): 0.570 (0.000)\n",
      "Current overall correlation c/y (pval): 0.563 (0.000)\n",
      "Current overall correlation c/y (pval): 0.556 (0.000)\n",
      "Current overall correlation c/y (pval): 0.548 (0.000)\n",
      "Current overall correlation c/y (pval): 0.541 (0.000)\n",
      "Current overall correlation c/y (pval): 0.533 (0.000)\n",
      "Current overall correlation c/y (pval): 0.524 (0.000)\n",
      "Current overall correlation c/y (pval): 0.516 (0.000)\n",
      "Current overall correlation c/y (pval): 0.507 (0.000)\n",
      "Current overall correlation c/y (pval): 0.497 (0.000)\n",
      "Current overall correlation c/y (pval): 0.487 (0.000)\n",
      "Current overall correlation c/y (pval): 0.477 (0.000)\n",
      "Current overall correlation c/y (pval): 0.467 (0.000)\n",
      "Current overall correlation c/y (pval): 0.455 (0.000)\n",
      "Current overall correlation c/y (pval): 0.444 (0.000)\n",
      "Current overall correlation c/y (pval): 0.432 (0.000)\n",
      "Current overall correlation c/y (pval): 0.419 (0.000)\n",
      "Current overall correlation c/y (pval): 0.406 (0.000)\n",
      "Current overall correlation c/y (pval): 0.392 (0.000)\n",
      "Current overall correlation c/y (pval): 0.378 (0.000)\n",
      "Current overall correlation c/y (pval): 0.364 (0.000)\n",
      "Current overall correlation c/y (pval): 0.349 (0.000)\n",
      "Current overall correlation c/y (pval): 0.334 (0.000)\n",
      "Current overall correlation c/y (pval): 0.318 (0.000)\n",
      "Current overall correlation c/y (pval): 0.301 (0.000)\n",
      "Current overall correlation c/y (pval): 0.283 (0.001)\n",
      "Current overall correlation c/y (pval): 0.266 (0.002)\n",
      "Current overall correlation c/y (pval): 0.248 (0.005)\n",
      "Current overall correlation c/y (pval): 0.230 (0.009)\n",
      "Current overall correlation c/y (pval): 0.211 (0.018)\n",
      "Current overall correlation c/y (pval): 0.192 (0.033)\n",
      "Current overall correlation c/y (pval): 0.172 (0.059)\n",
      "Picking seed 5647181\n",
      "Size of y after subsampling: 119 (45.2 percent reduction in samples)\n"
     ]
    }
   ],
   "source": [
    "cbss.check_counterbalance_and_subsample()"
   ]
  },
  {
   "cell_type": "markdown",
   "metadata": {},
   "source": [
    "After subsamping, the `cbss` object has a new attribute, `subsample_idx`, that contains the indices for the subsampled data. So, we can *actually* subsample our data as follows:"
   ]
  },
  {
   "cell_type": "code",
   "execution_count": 12,
   "metadata": {},
   "outputs": [],
   "source": [
    "X_cb = vbm_data.X[cbss.subsample_idx]\n",
    "y_cb = vbm_data.y[cbss.subsample_idx]\n",
    "c_cb = vbm_confound[cbss.subsample_idx]"
   ]
  },
  {
   "cell_type": "markdown",
   "metadata": {},
   "source": [
    "At this moment, the `cbss` object has found a partitionining (using 10 folds) in which every fold is perfectly counterbalanced in the *subsampled* data. Now, we can just call the `split()` to get the train and test indices for every fold:"
   ]
  },
  {
   "cell_type": "code",
   "execution_count": 13,
   "metadata": {},
   "outputs": [],
   "source": [
    "for train_idx, test_idx in cbss.split(X_cb, y_cb):\n",
    "    pass"
   ]
  },
  {
   "cell_type": "markdown",
   "metadata": {},
   "source": [
    "Alright, now let's apply this to our data. "
   ]
  },
  {
   "cell_type": "code",
   "execution_count": null,
   "metadata": {},
   "outputs": [],
   "source": [
    "from warnings import filterwarnings\n",
    "from sklearn.exceptions import UndefinedMetricWarning\n",
    "# Filter this warning, which occurs when a class is not predicted at all \n",
    "# (e.g., all samples are classified as \"man\", and no \"women\" predictions are made)\n",
    "filterwarnings(\"ignore\", category=UndefinedMetricWarning)\n",
    "\n",
    "results_cb = dict(n_vox=[], score=[], modality=[])\n",
    "\n",
    "for modality in ['VBM', 'TBSS']:\n",
    "    \n",
    "    c = confound[modality]\n",
    "    this_mvp = mvp[modality]    \n",
    "\n",
    "    skf = CounterbalancedStratifiedSplit(this_mvp.X, this_mvp.y, c.squeeze(),\n",
    "                                         # Use P(corr(y, c)) > 0.1 as threshold\n",
    "                                         c_type='continuous', metric='tstat', use_pval=True, threshold=0.1,\n",
    "                                         verbose=False, n_splits=n_folds)\n",
    "    skf.check_counterbalance_and_subsample()\n",
    "    X, y, c = this_mvp.X[skf.subsample_idx], this_mvp.y[skf.subsample_idx], c[skf.subsample_idx]\n",
    "    print(\"Retained %i samples for %s (reduction of %.1f%%)\" % (y.size, modality,\n",
    "                                                                ((this_mvp.y.size - y.size) / this_mvp.y.size)*100))\n",
    "    for i, nV in enumerate(tqdm_notebook(np.append(num_vox, this_mvp.X.shape[1]),\n",
    "                                         desc='Evaluating %s' % modality)):\n",
    "        \n",
    "        pipeline.set_params(ufs__k=nV)        \n",
    "        scores = cross_val_score(estimator=pipeline, X=X, y=y, scoring=metric,\n",
    "                                 cv=StratifiedKFold(n_splits=n_folds))\n",
    "        results_cb['n_vox'].extend([nV] * n_folds)\n",
    "        results_cb['score'].extend(scores.tolist())\n",
    "        results_cb['modality'].extend([modality] * n_folds)\n",
    "\n",
    "results_cb_df = pd.DataFrame(results_cb)\n",
    "results_cb_df['method'] = ['Counterbalancing'] * len(results_cb_df)"
   ]
  },
  {
   "cell_type": "markdown",
   "metadata": {},
   "source": [
    "#### Permutation tests counterbalancing\n",
    "We'll run the permutation tests again, but now for the counterbalanced data."
   ]
  },
  {
   "cell_type": "code",
   "execution_count": null,
   "metadata": {
    "scrolled": true
   },
   "outputs": [],
   "source": [
    "save_dir = op.join(base_dir, 'data', 'perm_results', 'counterbalancing')\n",
    "\n",
    "for modality in ['VBM', 'TBSS']:\n",
    "    \n",
    "    c = confound[modality]\n",
    "    this_mvp = mvp[modality]    \n",
    "\n",
    "    skf = CounterbalancedStratifiedSplit(this_mvp.X, this_mvp.y, c.squeeze(),\n",
    "                                         c_type='continuous', metric='tstat', threshold=0.1,\n",
    "                                         verbose=False, use_pval=True, n_splits=n_folds)\n",
    "    skf.check_counterbalance_and_subsample()\n",
    "    X, y, c = this_mvp.X[skf.subsample_idx], this_mvp.y[skf.subsample_idx], c[skf.subsample_idx]\n",
    "\n",
    "    for i, nV in enumerate(tqdm_notebook(np.append(num_vox, this_mvp.X.shape[1]),\n",
    "                                         desc='Evaluating %s' % modality)):\n",
    "        \n",
    "        pipeline.set_params(ufs__k=nV)  \n",
    "        this_score, these_perms, this_pval = permutation_test_score(pipeline, this_mvp.X, this_mvp.y,\n",
    "                                                                    cv=n_folds, n_permutations=1000,\n",
    "                                                                    n_jobs=n_jobs, scoring=metric)\n",
    "        \n",
    "        this_save_dir = op.join(save_dir, modality, 'K_%i' % nV)\n",
    "        \n",
    "        if not op.isdir(this_save_dir):\n",
    "            os.makedirs(this_save_dir)\n",
    "            \n",
    "        np.savez(op.join(this_save_dir, 'perm_data.npz'), obs_score=this_score, perm_scores=these_perms,\n",
    "                 pval=this_pval)"
   ]
  },
  {
   "cell_type": "markdown",
   "metadata": {},
   "source": [
    "... and plot the permutation distributions (note that we reverse the p-value if it drops below chance):"
   ]
  },
  {
   "cell_type": "code",
   "execution_count": null,
   "metadata": {},
   "outputs": [],
   "source": [
    "cb_perms = np.zeros((2, 9, 1000))\n",
    "cb_obs = np.zeros((2, 9))\n",
    "cb_pvals = np.zeros((2, 9))\n",
    "\n",
    "plt.figure(figsize=(15, 25))\n",
    "this_plot = 1\n",
    "for i, modality in enumerate(['VBM', 'TBSS']):\n",
    "    perm_dirs = sorted(glob(op.join(base_dir, 'data', 'perm_results',\n",
    "                                    'counterbalancing', modality, 'K*', '*npz')),\n",
    "                       key=lambda x: int(op.basename(op.dirname(x)).split('_')[1]))\n",
    "\n",
    "    for ii, pdir in enumerate(perm_dirs):\n",
    "        perm_data = np.load(pdir)\n",
    "        cb_perms[i, ii, :] = perm_data['perm_scores']\n",
    "        cb_obs[i, ii] = perm_data['obs_score']\n",
    "        cb_pvals[i, ii] = perm_data['pval']\n",
    "        plt.subplot(9, 2, this_plot)\n",
    "        plt.title('%s, %s' % (modality, op.basename(op.dirname(pdir))))\n",
    "        plt.hist(cb_perms[i, ii, :])\n",
    "        plt.xlim(0.2 , 1)\n",
    "        plt.text(0.25, 210, \"P-val: %.3f\" % cb_pvals[i, ii], fontsize=15)\n",
    "        plt.axvline(cb_obs[i, ii], c='tab:orange', ls='--')\n",
    "        \n",
    "        this_plot += 1\n",
    "        \n",
    "plt.tight_layout()"
   ]
  },
  {
   "cell_type": "markdown",
   "metadata": {},
   "source": [
    "#### Counterbalanced model performance"
   ]
  },
  {
   "cell_type": "code",
   "execution_count": null,
   "metadata": {},
   "outputs": [],
   "source": [
    "baseline_vs_cb = pd.concat((results_baseline_df, results_cb_df))\n",
    "colorpalette = [color_baseline] + [color_cb]\n",
    "\n",
    "custom_legend_labels = ['Method = None', 'Method = Counterbalancing', 'Chance level performance', 'Brain size only performance']\n",
    "custom_legend_handles = [plt.Line2D((0, 1), (0, 0), color=color_baseline, marker='o', lw=3),\n",
    "                         plt.Line2D((0, 1), (0, 0), color=color_cb, marker='o', lw=3),\n",
    "                         plt.Line2D((0, 1), (0, 0), color='k', ls='--', lw=2),\n",
    "                         plt.Line2D((0, 1), (0, 0), color='tab:orange', ls='--', lw=1)]\n",
    "\n",
    "with sns.plotting_context(rc=rc):\n",
    "    g = sns.factorplot(x='n_vox', y='score', col='modality', hue='method', palette=colorpalette,\n",
    "                       data=baseline_vs_cb, size=5, aspect=2, legend_out=True, legend=False)\n",
    "    g = g.map(plt.axhline, y=0.5, c='black', ls='dashed', lw=2)\n",
    "    g.set(ylim=(0, 1), ylabel='$\\mathrm{F_{1}\\ score}$', xlabel='K voxels')\n",
    "    g.axes[0][1].set_ylabel('')\n",
    "    g.axes[0][0].axhline(df_check[df_check.modality == 'VBM'].scores.mean(), lw=2, c='orange', ls=':')\n",
    "    g.axes[0][1].axhline(df_check[df_check.modality == 'TBSS'].scores.mean(), lw=2, c='orange', ls=':')\n",
    "    g.axes[0][0].legend(custom_legend_handles[:2], custom_legend_labels[:2], loc=3, borderaxespad=0.)\n",
    "    g.axes[0][1].legend(custom_legend_handles[2:], custom_legend_labels[2:], loc=3, borderaxespad=0.)\n",
    "    g.axes[0][0].set_title(\"VBM\", fontsize=35)\n",
    "    g.axes[0][1].set_title(\"TBSS\", fontsize=35)\n",
    "    \n",
    "    for thisax, mod in enumerate(['VBM', 'TBSS']):\n",
    "        this_df = results_cb_df[results_cb_df.modality == mod]\n",
    "        scores_per_K = this_df[this_df.method == 'Counterbalancing'].groupby('n_vox').mean().values\n",
    "    \n",
    "        this_range = range(9) if thisax == 1 else [0, 1, 2, 3, 4, 5, 6, 7, 9]\n",
    "        up = 0.06 if thisax == 0 else -0.18\n",
    "        for i, xval in enumerate(this_range):\n",
    "            \n",
    "            if cb_pvals[thisax, i] <= 0.001:\n",
    "                g.axes[0][thisax].text(xval - 0.12, scores_per_K[i] + up, '*', fontsize=35)\n",
    "    \n",
    "    g.despine(left=True)\n",
    "    plt.show()"
   ]
  },
  {
   "cell_type": "markdown",
   "metadata": {},
   "source": [
    "That's weird ... Especially with the VBM-data, there seems to be a strong positive bias in the counterbalance-method. What is happening?\n",
    "\n",
    "Perhaps we can figure out something from the correlation structure before and after subsampling. To do so, we'll calculate the correlations between the voxels and gender both before and after subsampling. "
   ]
  },
  {
   "cell_type": "code",
   "execution_count": 25,
   "metadata": {},
   "outputs": [],
   "source": [
    "from utils import vectorized_semipartial_corr, vectorized_corr\n",
    "results_corr_cb = dict(corrs=[], which_data=[], modality=[])\n",
    "\n",
    "for modality in ['VBM', 'TBSS']:\n",
    "\n",
    "    c = confound[modality]\n",
    "    this_mvp = mvp[modality]\n",
    "    \n",
    "    results_corr_cb['corrs'].extend(vectorized_semipartial_corr(this_mvp.y[:, np.newaxis], c, this_mvp.X,\n",
    "                                                                which='2D'))\n",
    "    results_corr_cb['which_data'].extend(['Original'] * this_mvp.X.shape[1])\n",
    "    results_corr_cb['modality'].extend([modality] * this_mvp.X.shape[1])\n",
    "    \n",
    "    skf = CounterbalancedStratifiedSplit(this_mvp.X, this_mvp.y, c.squeeze(),\n",
    "                                         c_type='continuous', metric='corr', threshold=0.1,\n",
    "                                         verbose=False, use_pval=True, n_splits=n_folds)\n",
    "    skf.check_counterbalance_and_subsample()\n",
    "    X, y, c = this_mvp.X[skf.subsample_idx], this_mvp.y[skf.subsample_idx], c[skf.subsample_idx]\n",
    "    \n",
    "    results_corr_cb['corrs'].extend(vectorized_semipartial_corr(y[:, np.newaxis], c, X, which='2D'))\n",
    "    results_corr_cb['which_data'].extend(['Subsampled'] * X.shape[1])\n",
    "    results_corr_cb['modality'].extend([modality] * X.shape[1])"
   ]
  },
  {
   "cell_type": "markdown",
   "metadata": {},
   "source": [
    "Now, let's plot the 'before' and 'after' correlation distributions of $\\rho(xy)$ for both VBM and TBSS!"
   ]
  },
  {
   "cell_type": "code",
   "execution_count": 49,
   "metadata": {},
   "outputs": [
    {
     "data": {
      "image/png": "[encoded data removed]",
      "text/plain": [
       "<matplotlib.figure.Figure at 0x7fd44cccab38>"
      ]
     },
     "metadata": {},
     "output_type": "display_data"
    }
   ],
   "source": [
    "results_corr_cb_df = pd.DataFrame(results_corr_cb)\n",
    "\n",
    "sns.set_style('ticks')\n",
    "g = sns.FacetGrid(results_corr_cb_df, col='modality', hue='which_data', size=6)\n",
    "g.map(plt.hist, 'corrs', alpha=0.5, bins=50)\n",
    "g.axes[0][1].legend(loc=(0.6, 0.1), fontsize=15)\n",
    "g.set_axis_labels(\"$r_{y(X.c)}$\", \"Frequency\")\n",
    "g.axes[0][0].set_title(\"VBM\")\n",
    "g.axes[0][1].set_title(\"TBSS\");"
   ]
  },
  {
   "cell_type": "markdown",
   "metadata": {},
   "source": [
    "This figure is quite telling. The plots of the distribution of correlations between $X$ and $y$ show you that subsamping widens the correlation distribution, meaning that it (artificially) increases the dependence (\"signal\") between the data ($X$) and the target ($y$).\n",
    "\n",
    "But *why* does subsampling lead to an (overall) increase in $\\rho_{X,y}$? We answer that question in detail in the [notebook with simulations](simulation_confound_methods.ipynb), but we'll try to explain the basics here. Basically, it turns out that subsampling tends to \"throw out\" samples that contain little signal for features with certain characteristics. After throwing out these low-signal samples, the overall signal (i.e., approximated by $rho_{X,y}$ increases which then yields better performance of the classification model. This happens, generally, for *voxels in which the (partial) correlation between $X$ and $c$ (controlled for $y$) is larger than "
   ]
  },
  {
   "cell_type": "code",
   "execution_count": 52,
   "metadata": {},
   "outputs": [],
   "source": [
    "voxel_idx = {}\n",
    "for modality in ['VBM', 'TBSS']:\n",
    "\n",
    "    c = confound[modality]\n",
    "    this_mvp = mvp[modality]\n",
    "    \n",
    "    pcorr_Xy = vectorized_semipartial_corr(this_mvp.y, c, this_mvp.X, which='2D')\n",
    "    pcorr_Xc = vectorized_semipartial_corr(c, this_mvp.y, this_mvp.X, which='2D')\n",
    "    sortedarr = (pcorr_Xc - pcorr_Xy).argsort()[::-1]\n",
    "    voxel_idx[modality] = sortedarr[:10]"
   ]
  },
  {
   "cell_type": "code",
   "execution_count": 53,
   "metadata": {
    "scrolled": false
   },
   "outputs": [
    {
     "name": "stdout",
     "output_type": "stream",
     "text": [
      "Before corr(X,y): -0.169\n",
      "After corr(X,y): -0.329\n",
      "Model perf: 0.581\n",
      "Model perf (no cv): 0.616\n",
      "Model perf (CB): 0.649\n",
      "Ttest_indResult(statistic=3.4920893231409056, pvalue=0.0005286298908193787)\n",
      "Power_divergenceResult(statistic=11.46031746031746, pvalue=0.0007109815319531261)\n",
      "Before corr(X,y): -0.197\n",
      "After corr(X,y): -0.362\n",
      "Model perf: 0.608\n",
      "Model perf (no cv): 0.646\n",
      "Model perf (CB): 0.805\n",
      "Ttest_indResult(statistic=0.45106097778491355, pvalue=0.6521719261169096)\n",
      "Power_divergenceResult(statistic=22.09090909090909, pvalue=2.600383125978477e-06)\n"
     ]
    },
    {
     "data": {
      "text/plain": [
       "<matplotlib.figure.Figure at 0x7fd45c0102b0>"
      ]
     },
     "metadata": {},
     "output_type": "display_data"
    }
   ],
   "source": [
    "from scipy.stats import ttest_ind, chisquare\n",
    "scaler = StandardScaler()\n",
    "clf = SVC(kernel='linear', class_weight='balanced')\n",
    "plt.figure(figsize=(15, 15))\n",
    "for i, modality in enumerate(['VBM', 'TBSS']):\n",
    "\n",
    "    c = confound[modality]\n",
    "    this_mvp = mvp[modality]    \n",
    "\n",
    "    cbss = CounterbalancedStratifiedSplit(this_mvp.X, this_mvp.y, this_confound.squeeze(),\n",
    "                                          c_type='continuous', metric='tstat', use_pval=True, threshold=0.05,\n",
    "                                          verbose=False, n_splits=n_folds)\n",
    "    cbss.check_counterbalance_and_subsample()\n",
    "    this_ss_X = this_mvp.X[cbss.subsample_idx]\n",
    "    this_ss_y = this_mvp.y[cbss.subsample_idx]\n",
    "    this_ss_c = this_confound[cbss.subsample_idx]\n",
    "    \n",
    "    before_X = this_mvp.X[:, voxel_idx[modality]]\n",
    "    print(\"Before corr(X,y): %.3f\" % vectorized_corr(this_mvp.y[:, np.newaxis], before_X).mean())\n",
    "    after_X = this_ss_X[:, voxel_idx[modality]]\n",
    "    print(\"After corr(X,y): %.3f\" % vectorized_corr(this_ss_y[:, np.newaxis], after_X).mean())\n",
    "    \n",
    "    dtb = np.zeros(this_mvp.y.size)\n",
    "    scores = np.zeros(this_mvp.y.size)\n",
    "    skf = StratifiedKFold(n_splits=n_folds)\n",
    "    for ii, (train_idx, test_idx) in enumerate(skf.split(this_mvp.X, 1-this_mvp.y)):\n",
    "        Xtrain, Xtest = before_X[train_idx], before_X[test_idx]\n",
    "        ytrain, ytest = this_mvp.y[train_idx], this_mvp.y[test_idx]\n",
    "        Xtrain = scaler.fit_transform(Xtrain)\n",
    "        Xtest = scaler.transform(Xtest)\n",
    "        clf.fit(Xtrain, ytrain)\n",
    "        scores[test_idx] = clf.predict(Xtest)\n",
    "        dtb[test_idx] = clf.decision_function(Xtest)\n",
    "\n",
    "    scores = (scores == this_mvp.y).astype(int)\n",
    "    print(\"Model perf: %.3f\" % scores.mean())\n",
    "    pipeline_check.fit(before_X, this_mvp.y)\n",
    "    preds = pipeline_check.predict(before_X)\n",
    "    scores_no_cv = f1_score(this_mvp.y, preds)\n",
    "    print(\"Model perf (no cv): %.3f\" % scores_no_cv)\n",
    "    print(\"Model perf (CB): %.3f\" % cross_val_score(pipeline_check, after_X, this_ss_y, cv=cbss).mean())\n",
    "    idx = cbss.subsample_idx\n",
    "    nidx = list(set(range(this_mvp.y.size)) - set(idx))\n",
    "    nonsel = np.zeros(this_mvp.y.size)\n",
    "    nonsel[nidx] = 1\n",
    "    ytmp = this_mvp.y.copy()\n",
    "    ytmp[this_mvp.y == 0] = -1\n",
    "    print(ttest_ind(nonsel, dtb*ytmp))\n",
    "    print(chisquare([scores[nonsel == i].sum() for i in [0, 1]]))"
   ]
  },
  {
   "cell_type": "code",
   "execution_count": null,
   "metadata": {},
   "outputs": [],
   "source": [
    "scaler = StandardScaler()\n",
    "clf = SVC(kernel='linear', class_weight='balanced')\n",
    "from scipy.stats import pearsonr\n",
    "for modality in ['VBM', 'TBSS']:\n",
    "\n",
    "    c = confound[modality]\n",
    "    this_mvp = mvp[modality]    \n",
    "\n",
    "    cbss = CounterbalancedStratifiedSplit(this_mvp.X, this_mvp.y, this_confound.squeeze(),\n",
    "                                          c_type='continuous', metric='tstat', use_pval=True, threshold=0.05,\n",
    "                                          verbose=False, n_splits=n_folds)\n",
    "    cbss.check_counterbalance_and_subsample()\n",
    "    this_ss_X = this_mvp.X[cbss.subsample_idx]\n",
    "    this_ss_y = this_mvp.y[cbss.subsample_idx]\n",
    "    this_ss_c = this_confound[cbss.subsample_idx]\n",
    "\n",
    "    skf = CounterbalancedStratifiedSplit(this_mvp.X, this_mvp.y, c.squeeze(),\n",
    "                                         c_type='continuous', metric='corr', threshold=0.05,\n",
    "                                         verbose=False, use_pval=True, n_splits=n_folds)\n",
    "    skf.check_counterbalance_and_subsample()\n",
    "    X, y, c = this_mvp.X[skf.subsample_idx], this_mvp.y[skf.subsample_idx], c[skf.subsample_idx]\n",
    "    \n",
    "    for i, nV in enumerate(tqdm_notebook(np.append(num_vox, this_mvp.X.shape[1]),\n",
    "                                         desc='Evaluating %s' % modality)):\n",
    "\n",
    "        skb = SelectKBest(f_classif, k=nV)\n",
    "        skb.fit(this_ss_X, this_ss_y)\n",
    "        idx = skb.get_support()\n",
    "        before_X = this_mvp.X[:, idx]\n",
    "        after_X = this_ss_X[:, idx]\n",
    "\n",
    "        dtb = np.zeros(this_mvp.y.size)\n",
    "        scores = np.zeros(this_mvp.y.size)\n",
    "        skf = StratifiedKFold(n_splits=n_folds)\n",
    "        for ii, (train_idx, test_idx) in enumerate(skf.split(this_mvp.X, this_mvp.y)):\n",
    "            Xtrain, Xtest = before_X[train_idx], before_X[test_idx]\n",
    "            ytrain, ytest = this_mvp.y[train_idx], this_mvp.y[test_idx]\n",
    "            Xtrain = scaler.fit_transform(Xtrain)\n",
    "            Xtest = scaler.transform(Xtest)\n",
    "            clf.fit(Xtrain, ytrain)\n",
    "            scores[test_idx] = clf.predict(Xtest)\n",
    "            dtb[test_idx] = clf.decision_function(Xtest)\n",
    "\n",
    "        scores = (scores == this_mvp.y).astype(int)\n",
    "        idx = cbss.subsample_idx\n",
    "        nidx = list(set(range(y.size)) - set(idx))\n",
    "        nonsel = np.zeros(this_mvp.y.size)\n",
    "        nonsel[nidx] = 1\n",
    "        ytmp = this_mvp.y.copy()\n",
    "        ytmp[this_mvp.y == 0] = -1\n",
    "        print(pearsonr(dtb*ytmp, nonsel))\n",
    "        print(pearsonr(scores, nonsel), end='\\n\\n')"
   ]
  },
  {
   "cell_type": "code",
   "execution_count": null,
   "metadata": {},
   "outputs": [],
   "source": [
    "results_cb_bias = dict(corrs=[], modality=[], n_vox=[])\n",
    "\n",
    "for modality in ['VBM', 'TBSS']:\n",
    "    this_mvp, this_confound = mvp[modality], confound[modality]\n",
    "    cbss = CounterbalancedStratifiedSplit(this_mvp.X, this_mvp.y, this_confound.squeeze(),\n",
    "                                          c_type='continuous', metric='tstat', use_pval=True, threshold=0.05,\n",
    "                                          verbose=False, n_splits=n_folds)\n",
    "    cbss.check_counterbalance_and_subsample()\n",
    "    this_ss_X = this_mvp.X[cbss.subsample_idx]\n",
    "    this_ss_y = this_mvp.y[cbss.subsample_idx]\n",
    "    this_ss_c = this_confound[cbss.subsample_idx]\n",
    "    \n",
    "    for i, nV in enumerate(tqdm_notebook(np.append(num_vox, this_mvp.X.shape[1]),\n",
    "                                         desc='Evaluating %s' % modality)):\n",
    "\n",
    "        skb = SelectKBest(f_classif, k=nV)\n",
    "        skb.fit(this_ss_X, this_ss_y)\n",
    "        idx = skb.get_support()\n",
    "        before_X = this_mvp.X[:, idx]\n",
    "        after_X = this_ss_X[:, idx]\n",
    "        \n",
    "        before_partial_Xc = vectorized_partial_corr(this_confound, this_mvp.y, before_X)\n",
    "        before_partial_Xy = vectorized_partial_corr(this_mvp.y, this_confound, before_X)\n",
    "        \n",
    "        results_cb_bias['corrs'].append((before_partial_Xc - before_partial_Xy).mean())\n",
    "        results_cb_bias['modality'].append(modality)\n",
    "        results_cb_bias['n_vox'].append(nV)"
   ]
  },
  {
   "cell_type": "code",
   "execution_count": null,
   "metadata": {},
   "outputs": [],
   "source": [
    "g = sns.factorplot(x='n_vox', y='corrs', hue='modality',\n",
    "                   data=pd.DataFrame(results_cb_bias), size=5, aspect=2, legend_out=True,\n",
    "                   legend=True)"
   ]
  },
  {
   "cell_type": "code",
   "execution_count": null,
   "metadata": {},
   "outputs": [],
   "source": [
    "results_cb_bias_df = pd.DataFrame(results_cb_bias)\n",
    "results_cb_bias_df['method'] = ['bias'] * len(results_cb_bias_df)\n",
    "results_cb_bias_df['score'] = results_cb_bias_df['corrs']\n",
    "\n",
    "g = sns.factorplot(x='n_vox', y='score', col='modality', hue='method',\n",
    "                   data=pd.concat((results_cb_bias_df, results_baseline_df)), size=5, aspect=2, legend_out=True,\n",
    "                   legend=False)"
   ]
  },
  {
   "cell_type": "code",
   "execution_count": null,
   "metadata": {
    "scrolled": true
   },
   "outputs": [],
   "source": [
    "results_cb_val_df = pd.DataFrame(results_cb_val)\n",
    "results_baseline_df['set'] = ['base_val'] * len(results_baseline_df)\n",
    "results_fwcr_df['set'] = ['fwcr_val'] * len(results_baseline_df)\n",
    "\n",
    "compare = pd.concat((results_cb_val_df, results_baseline_df, results_fwcr_df))\n",
    "\n",
    "g = sns.factorplot(x='n_vox', y='score', col='modality', hue='set',# palette=colorpalette,\n",
    "                   data=compare, size=5, aspect=2, legend_out=True, legend=True)"
   ]
  },
  {
   "cell_type": "code",
   "execution_count": null,
   "metadata": {},
   "outputs": [],
   "source": [
    "tmp_pipe = Pipeline([\n",
    "    ('scaler', StandardScaler()),\n",
    "    ('clf', SVC(kernel='linear', class_weight='balanced'))\n",
    "])"
   ]
  },
  {
   "cell_type": "markdown",
   "metadata": {},
   "source": [
    "## 4.3: confound regression on entire dataset (WDCR)\n",
    "First, we'll evaluate the strategy that is sometimes adopted: regressing out the confound from the entire data-set (here: `X`) at once (like in [this article](http://www.sciencedirect.com/science/article/pii/S1053811913002887)), like we did when we compared the correlation distributions of the voxels and gender/brain-size between \"uncorrected\" and \"corrected\" data. \n",
    "\n",
    "In the rest of the notebook, we'll discuss and demonstrate different ways of regressing out a confound from the data (`X`), and to reduce the boilerplate code, we wrote a custom `scikit-learn`-style \"transformer\" class that does exactly this: take a confound upon initialization and subsequently fits a model using the confound to predict each feature in `X` during `fit(X)`, and subsequently regresses out the confound from each feature in `X` during `transform(X)` (in a scikit-learn style). \n",
    "\n",
    "For more info on the exact implementation of the `ConfoundRegressor` object, check the [skbold Github repo](https://github.com/lukassnoek/skbold/blob/master/skbold/preproc/confounds.py).\n",
    "\n",
    "Assuming that the latest version of `skbold` is installed on the system, let's import the `ConfoundRegressor` class."
   ]
  },
  {
   "cell_type": "code",
   "execution_count": 54,
   "metadata": {},
   "outputs": [],
   "source": [
    "from skbold.preproc.confounds import ConfoundRegressor"
   ]
  },
  {
   "cell_type": "markdown",
   "metadata": {},
   "source": [
    "To evaluate what happens when we regress out the confound from each voxel before cross-validating our MVPA pipeline, we'll use the `ConfoundRegressor` on the entire dataset. \n"
   ]
  },
  {
   "cell_type": "code",
   "execution_count": 94,
   "metadata": {},
   "outputs": [
    {
     "data": {
      "application/vnd.jupyter.widget-view+json": {
       "model_id": "e51a772bd15e4bb3bd516cfb3074035f"
      }
     },
     "metadata": {},
     "output_type": "display_data"
    },
    {
     "name": "stdout",
     "output_type": "stream",
     "text": [
      "\n"
     ]
    },
    {
     "data": {
      "application/vnd.jupyter.widget-view+json": {
       "model_id": "84a60308fd7f40e6bd1d51af2f6a3c57"
      }
     },
     "metadata": {},
     "output_type": "display_data"
    },
    {
     "name": "stdout",
     "output_type": "stream",
     "text": [
      "\n"
     ]
    }
   ],
   "source": [
    "results_wdcr = dict(n_vox=[], score=[], modality=[])\n",
    "\n",
    "for modality in ['VBM', 'TBSS']:\n",
    "    \n",
    "    this_mvp = deepcopy(mvp[modality])\n",
    "    this_confound = confound[modality]\n",
    "    cfr = ConfoundRegressor(this_confound, this_mvp.X, cross_validate=True)\n",
    "    this_mvp.X = cfr.fit_transform(this_mvp.X)\n",
    "    \n",
    "    for i, nV in enumerate(tqdm_notebook(np.append(num_vox, this_mvp.X.shape[1]),\n",
    "                                                   desc='analyzing %s' % modality)):\n",
    "        \n",
    "        pipeline.set_params(ufs__k=nV)\n",
    "        scores = cross_val_score(pipeline, this_mvp.X, this_mvp.y,\n",
    "                                 cv=n_folds, scoring=metric, n_jobs=-1)\n",
    "        results_wdcr['n_vox'].extend([nV] * n_folds)\n",
    "        results_wdcr['score'].extend(scores.tolist())\n",
    "        results_wdcr['modality'].extend([modality] * n_folds)\n",
    "        \n",
    "results_wdcr_df = pd.DataFrame(results_wdcr)\n",
    "results_wdcr_df['method'] = ['WDCR'] * len(results_wdcr_df)"
   ]
  },
  {
   "cell_type": "markdown",
   "metadata": {},
   "source": [
    "#### Permutation tests WDCR\n",
    "And calculate the p-values."
   ]
  },
  {
   "cell_type": "code",
   "execution_count": null,
   "metadata": {},
   "outputs": [],
   "source": [
    "save_dir = op.join(base_dir, 'data', 'perm_results', 'wdcr')\n",
    "\n",
    "for modality in ['VBM', 'TBSS']:\n",
    "    this_mvp = mvp[modality]\n",
    "    this_confound = confound[modality]\n",
    "    cfr = ConfoundRegressor(this_confound, this_mvp.X, cross_validate=True)\n",
    "    this_mvp.X = cfr.fit_transform(this_mvp.X)\n",
    "        \n",
    "    for i, nV in enumerate(tqdm_notebook(np.append(num_vox, this_mvp.X.shape[1]),\n",
    "                                         desc='analyzing %s' % modality)):\n",
    "        \n",
    "        pipeline.set_params(ufs__k=nV)\n",
    "        this_score, these_perms, this_pval = permutation_test_score(pipeline, this_mvp.X, this_mvp.y,\n",
    "                                                                    cv=n_folds, n_permutations=1000,\n",
    "                                                                    n_jobs=n_jobs, scoring=metric)\n",
    "        \n",
    "        this_save_dir = op.join(save_dir, modality, 'K_%i' % nV)\n",
    "        \n",
    "        if not op.isdir(this_save_dir):\n",
    "            os.makedirs(this_save_dir)\n",
    "            \n",
    "        np.savez(op.join(this_save_dir, 'perm_data.npz'), obs_score=this_score, perm_scores=these_perms,\n",
    "                 pval=this_pval)"
   ]
  },
  {
   "cell_type": "markdown",
   "metadata": {},
   "source": [
    "And plot permutation distributions. Note that we reverse the p-value if the score is below chance (50%):"
   ]
  },
  {
   "cell_type": "code",
   "execution_count": null,
   "metadata": {},
   "outputs": [],
   "source": [
    "wdcr_perms = np.zeros((2, 9, 1000))\n",
    "wdcr_obs = np.zeros((2, 9))\n",
    "wdcr_pvals = np.zeros((2, 9))\n",
    "\n",
    "plt.figure(figsize=(15, 25))\n",
    "this_plot = 1\n",
    "for i, modality in enumerate(['VBM', 'TBSS']):\n",
    "    perm_dirs = sorted(glob(op.join(base_dir, 'data', 'perm_results',\n",
    "                                    'wdcr', modality, 'K*', '*npz')),\n",
    "                       key=lambda x: int(op.basename(op.dirname(x)).split('_')[1]))\n",
    "\n",
    "    for ii, pdir in enumerate(perm_dirs):\n",
    "        perm_data = np.load(pdir)\n",
    "        wdcr_perms[i, ii, :] = perm_data['perm_scores']\n",
    "        wdcr_obs[i, ii] = perm_data['obs_score']\n",
    "        \n",
    "        if perm_data['pval'] < 0.5:\n",
    "            wdcr_pvals[i, ii] = perm_data['pval']\n",
    "            txt = \"P-val: %.3f\" % wdcr_pvals[i, ii]\n",
    "        else:\n",
    "            wdcr_pvals[i, ii] = 1 - perm_data['pval']\n",
    "            txt = \"P-val: %.3f (< chance)\" % wdcr_pvals[i, ii]\n",
    "\n",
    "        plt.subplot(9, 2, this_plot)\n",
    "        plt.title('%s, %s' % (modality, op.basename(op.dirname(pdir))))\n",
    "        plt.hist(wdcr_perms[i, ii, :])\n",
    "        plt.xlim(0.2 , 1)\n",
    "        plt.text(0.68, 210, txt, fontsize=15)\n",
    "        plt.axvline(wdcr_obs[i, ii], c='tab:orange', ls='--')\n",
    "        \n",
    "        this_plot += 1\n",
    "        \n",
    "plt.tight_layout()"
   ]
  },
  {
   "cell_type": "markdown",
   "metadata": {},
   "source": [
    "#### Plot WDCR model performance"
   ]
  },
  {
   "cell_type": "code",
   "execution_count": null,
   "metadata": {},
   "outputs": [],
   "source": [
    "baseline_vs_wdcr = pd.concat((results_baseline_df, results_wdcr_df))\n",
    "colorpalette = [color_baseline] + [color_wdcr]\n",
    "\n",
    "custom_legend_labels = ['Method = None', 'Method = WDCR', 'Chance level performance', 'Brain size only performance']\n",
    "custom_legend_handles = [plt.Line2D((0, 1), (0, 0), color=color_baseline, marker='o', lw=3),\n",
    "                         plt.Line2D((0, 1), (0, 0), color=color_wdcr, marker='o', lw=3),\n",
    "                         plt.Line2D((0, 1), (0, 0), color='k', ls='--', lw=2),\n",
    "                         plt.Line2D((0, 1), (0, 0), color='tab:orange', ls='--', lw=1)]\n",
    "\n",
    "with sns.plotting_context(rc=rc):\n",
    "    g = sns.factorplot(x='n_vox', y='score', col='modality', hue='method', palette=colorpalette,\n",
    "                       data=baseline_vs_wdcr, size=5, aspect=2, legend_out=True, legend=False)\n",
    "    g = g.map(plt.axhline, y=0.5, c='black', ls='dashed', lw=2)\n",
    "    g.set(ylim=(0, 1), ylabel='$\\mathrm{F_{1}\\ score}$', xlabel='K voxels')\n",
    "    g.axes[0][1].set_ylabel('')\n",
    "    g.axes[0][0].axhline(df_check[df_check.modality == 'VBM'].scores.mean(), lw=2, c='orange', ls=':')\n",
    "    g.axes[0][1].axhline(df_check[df_check.modality == 'TBSS'].scores.mean(), lw=2, c='orange', ls=':')\n",
    "    g.axes[0][0].legend(custom_legend_handles[:2], custom_legend_labels[:2], loc=3, borderaxespad=0.)\n",
    "    g.axes[0][1].legend(custom_legend_handles[2:], custom_legend_labels[2:], loc=3, borderaxespad=0.)\n",
    "    g.axes[0][0].set_title(\"VBM\", fontsize=35)\n",
    "    g.axes[0][1].set_title(\"TBSS\", fontsize=35)\n",
    "\n",
    "    for thisax, mod in enumerate(['VBM', 'TBSS']):\n",
    "        this_df = results_wdcr_df[results_wdcr_df.modality == mod]\n",
    "        scores_per_K = this_df[this_df.method == 'WDCR'].groupby('n_vox').mean().values\n",
    "    \n",
    "        this_range = range(9) if thisax == 1 else [0, 1, 2, 3, 4, 5, 6, 7, 9]\n",
    "        for i, xval in enumerate(this_range):\n",
    "            \n",
    "            if wdcr_pvals[thisax, i] <= 0.001:\n",
    "                up = 0.05 if thisax == 1 else -0.18\n",
    "                g.axes[0][thisax].text(xval - 0.12, scores_per_K[i] + up, '*', fontsize=35)\n",
    "    \n",
    "    g.despine(left=True)\n",
    "    plt.show()"
   ]
  },
  {
   "cell_type": "markdown",
   "metadata": {},
   "source": [
    "#### What is happening?\n",
    "We see that classification performance quickly drops under chance level with an increasing number of voxels in our analyses... As we've argue in our paper and show in our simulations (see [this](simulation_confound_strategies) notebook), this is due to the fact that we've regressed out our confound on the *entire data-set (X)*, but then proceed to do K-fold cross-validation, in which (due to sampling error) confounds might still have a (opposite!) effect in train and test. (This point is related to what Görgen et al. mention in [their paper](https://arxiv.org/abs/1703.06670) about the \"Same analysis approach\"\n",
    "\n",
    "So, naturally, let's check and see what happens when we fit the confound regression on the train-set only and subsequently use those models to regress the confound on the train- *and* test-set. Or in other words, let's cross-validate our confound-regression"
   ]
  },
  {
   "cell_type": "markdown",
   "metadata": {},
   "source": [
    "### 4.3. Confound regression per fold (FwCR)\n",
    "Note that the `ConfoundRegressor` is initialized with an additional parameter now: `cross_validate=True`, which makes sure that when we transform the test-set, it uses the weights from the fitting procedure on the train-set. (In the next scenario, we'll set `cross_validate` to `False` in order to check what happens when we fit it separately to the test-set.)"
   ]
  },
  {
   "cell_type": "code",
   "execution_count": null,
   "metadata": {
    "scrolled": false
   },
   "outputs": [],
   "source": [
    "results_fwcr = dict(score=[], n_vox=[], modality=[])\n",
    "    \n",
    "for modality in ['VBM', 'TBSS']:\n",
    "    this_mvp = mvp[modality]\n",
    "    this_confound = confound[modality]\n",
    "    pipe = deepcopy(pipeline).steps\n",
    "    cr = ('cr', ConfoundRegressor(this_confound, this_mvp.X, cross_validate=True))\n",
    "    pipe.insert(0, cr)\n",
    "    pipe = Pipeline(pipe)\n",
    "    \n",
    "    for i, nV in enumerate(tqdm_notebook(np.append(num_vox, this_mvp.X.shape[1]),\n",
    "                                                   desc='analyzing %s' % modality)):\n",
    "     \n",
    "        pipe.set_params(ufs__k=nV)\n",
    "        scores = cross_val_score(pipe, this_mvp.X, this_mvp.y, cv=n_folds, n_jobs=n_jobs)\n",
    "        results_fwcr['score'].extend(scores)\n",
    "        results_fwcr['n_vox'].extend([nV] * scores.size)\n",
    "        results_fwcr['modality'].extend([modality] * scores.size)\n",
    "        \n",
    "results_fwcr_df = pd.DataFrame(results_fwcr)\n",
    "results_fwcr_df['method'] = ['FwCR'] * len(pd.DataFrame(results_fwcr))"
   ]
  },
  {
   "cell_type": "markdown",
   "metadata": {},
   "source": [
    "As we can see, classification performance stays above chance (for the entire range of number of voxels)! "
   ]
  },
  {
   "cell_type": "markdown",
   "metadata": {},
   "source": [
    "#### Permutation tests FwCR"
   ]
  },
  {
   "cell_type": "code",
   "execution_count": null,
   "metadata": {},
   "outputs": [],
   "source": [
    "save_dir = op.join(base_dir, 'data', 'perm_results', 'fwcr')\n",
    "\n",
    "for modality in ['TBSS']:#['VBM', 'TBSS']:\n",
    "    this_mvp = mvp[modality]\n",
    "    this_confound = confound[modality]\n",
    "    pipe = deepcopy(pipeline).steps\n",
    "    cr = ('cr', ConfoundRegressor(this_confound, this_mvp.X, cross_validate=True))\n",
    "    pipe.insert(0, cr)\n",
    "    pipe = Pipeline(pipe)\n",
    "        \n",
    "    for i, nV in enumerate(tqdm_notebook(np.append(num_vox, this_mvp.X.shape[1])[-3:],\n",
    "                                         desc='analyzing %s' % modality)):\n",
    "        print(nV)\n",
    "        pipe.set_params(ufs__k=nV)\n",
    "        this_score, these_perms, this_pval = permutation_test_score(pipe, this_mvp.X, this_mvp.y,\n",
    "                                                                    cv=n_folds, n_permutations=1000,\n",
    "                                                                    n_jobs=6, scoring=metric)\n",
    "        \n",
    "        this_save_dir = op.join(save_dir, modality, 'K_%i' % nV)\n",
    "        \n",
    "        if not op.isdir(this_save_dir):\n",
    "            os.makedirs(this_save_dir)\n",
    "            \n",
    "        np.savez(op.join(this_save_dir, 'perm_data.npz'), obs_score=this_score, perm_scores=these_perms,\n",
    "                 pval=this_pval)"
   ]
  },
  {
   "cell_type": "code",
   "execution_count": null,
   "metadata": {},
   "outputs": [],
   "source": [
    "fwcr_perms = np.zeros((2, 9, 1000))\n",
    "fwcr_obs = np.zeros((2, 9))\n",
    "fwcr_pvals = np.zeros((2, 9))\n",
    "\n",
    "plt.figure(figsize=(15, 25))\n",
    "this_plot = 1\n",
    "for i, modality in enumerate(['VBM', 'TBSS']):\n",
    "    perm_dirs = sorted(glob(op.join(base_dir, 'data', 'perm_results',\n",
    "                                    'fwcr', modality, 'K*', '*npz')),\n",
    "                       key=lambda x: int(op.basename(op.dirname(x)).split('_')[1]))\n",
    "\n",
    "    for ii, pdir in enumerate(perm_dirs):\n",
    "        perm_data = np.load(pdir)\n",
    "        fwcr_perms[i, ii, :] = perm_data['perm_scores']\n",
    "        fwcr_obs[i, ii] = perm_data['obs_score']\n",
    "        fwcr_pvals[i, ii] = perm_data['pval']\n",
    "        plt.subplot(9, 2, this_plot)\n",
    "        plt.title('%s, %s' % (modality, op.basename(op.dirname(pdir))))\n",
    "        plt.hist(fwcr_perms[i, ii, :])\n",
    "        plt.xlim(0.2 , 1)\n",
    "        plt.text(0.25, 210, \"P-val: %.3f\" % fwcr_pvals[i, ii], fontsize=15)\n",
    "        plt.axvline(fwcr_obs[i, ii], c='tab:orange', ls='--')\n",
    "        \n",
    "        this_plot += 1\n",
    "        \n",
    "plt.tight_layout()"
   ]
  },
  {
   "cell_type": "markdown",
   "metadata": {},
   "source": [
    "#### Plots for FwCR model performance\n",
    "Plot performances for FwCR."
   ]
  },
  {
   "cell_type": "code",
   "execution_count": null,
   "metadata": {},
   "outputs": [],
   "source": [
    "baseline_vs_fwcr = pd.concat((results_baseline_df, results_fwcr_df))\n",
    "colorpalette = [color_baseline] + [color_fwcr]\n",
    "\n",
    "custom_legend_labels = ['Method = None', 'Method = FwCR', 'Chance level performance', 'Brain size only performance']\n",
    "custom_legend_handles = [plt.Line2D((0, 1), (0, 0), color=color_baseline, marker='o', lw=3),\n",
    "                         plt.Line2D((0, 1), (0, 0), color=color_fwcr, marker='o', lw=3),\n",
    "                         plt.Line2D((0, 1), (0, 0), color='k', ls='--', lw=2),\n",
    "                         plt.Line2D((0, 1), (0, 0), color='tab:orange', ls='--', lw=1)]\n",
    "\n",
    "with sns.plotting_context(rc=rc):\n",
    "    g = sns.factorplot(x='n_vox', y='score', col='modality', hue='method', palette=colorpalette,\n",
    "                       data=baseline_vs_fwcr, size=5, aspect=2, legend_out=True, legend=False)\n",
    "    g = g.map(plt.axhline, y=0.5, c='black', ls='dashed', lw=2)\n",
    "    g.set(ylim=(0, 1), ylabel='$\\mathrm{F_{1}\\ score}$', xlabel='K voxels')\n",
    "    g.axes[0][1].set_ylabel('')\n",
    "    g.axes[0][0].axhline(df_check[df_check.modality == 'VBM'].scores.mean(), lw=2, c='orange', ls=':')\n",
    "    g.axes[0][1].axhline(df_check[df_check.modality == 'TBSS'].scores.mean(), lw=2, c='orange', ls=':')\n",
    "    g.axes[0][0].legend(custom_legend_handles[:2], custom_legend_labels[:2], loc=3, borderaxespad=0.)\n",
    "    g.axes[0][1].legend(custom_legend_handles[2:], custom_legend_labels[2:], loc=3, borderaxespad=0.)\n",
    "    g.axes[0][0].set_title(\"VBM\", fontsize=35)\n",
    "    g.axes[0][1].set_title(\"TBSS\", fontsize=35)\n",
    "\n",
    "    for thisax, mod in enumerate(['VBM', 'TBSS']):\n",
    "        this_df = results_fwcr_df[results_fwcr_df.modality == mod]\n",
    "        scores_per_K = this_df[this_df.method == 'FwCR'].groupby('n_vox').mean().values\n",
    "    \n",
    "        this_range = range(9) if thisax == 1 else [0, 1, 2, 3, 4, 5, 6, 7, 9]\n",
    "        for i, xval in enumerate(this_range):\n",
    "            \n",
    "            if fwcr_pvals[thisax, i] < 0.05:\n",
    "                g.axes[0][thisax].text(xval - 0.12, scores_per_K[i] + -.18, '*', fontsize=35)\n",
    "    \n",
    "    g.despine(left=True)\n",
    "    plt.show()"
   ]
  },
  {
   "cell_type": "markdown",
   "metadata": {},
   "source": [
    "### 4.4. Comparison all models"
   ]
  },
  {
   "cell_type": "code",
   "execution_count": null,
   "metadata": {},
   "outputs": [],
   "source": [
    "results_all_methods = pd.concat((results_baseline_df,\n",
    "                                 results_cb_df,\n",
    "                                 results_wdcr_df,\n",
    "                                 results_fwcr_df))\n",
    "\n",
    "colors_method = [color_baseline] + [color_cb] + [color_wdcr] + [color_fwcr]  \n",
    "custom_legend_labels = ['None', 'Counterbalancing', 'WDCR', 'FwCR',\n",
    "                        'Chance level performance', 'Brain size only performance']\n",
    "custom_legend_handles = [plt.Line2D((0, 1), (0, 0), color=color_baseline, marker='o', lw=3),\n",
    "                         plt.Line2D((0, 1), (0, 0), color=color_cb, marker='o', lw=3),\n",
    "                         plt.Line2D((0, 1), (0, 0), color=color_wdcr, marker='o', lw=3),\n",
    "                         plt.Line2D((0, 1), (0, 0), color=color_fwcr, marker='o', lw=3),\n",
    "                         plt.Line2D((0, 1), (0, 0), color='k', ls='--', lw=2),\n",
    "                         plt.Line2D((0, 1), (0, 0), color='tab:orange', ls='--', lw=1)]\n",
    "\n",
    "with sns.plotting_context(rc=rc):\n",
    "    g = sns.factorplot(x='n_vox', y='score', col='modality', hue='method', palette=colors_method,\n",
    "                       data=results_all_methods, size=5, aspect=2, legend_out=True, legend=False)\n",
    "    g = g.map(plt.axhline, y=0.5, c='black', ls='dashed', lw=2)\n",
    "    g.set(ylim=(0, 1), ylabel='$\\mathrm{F_{1}\\ score}$', xlabel='K voxels')\n",
    "    g.axes[0][1].set_ylabel('')\n",
    "    g.axes[0][0].axhline(df_check[df_check.modality == 'VBM'].scores.mean(), lw=2, c='orange', ls=':')\n",
    "    g.axes[0][1].axhline(df_check[df_check.modality == 'TBSS'].scores.mean(), lw=2, c='orange', ls=':')\n",
    "    g.axes[0][0].legend(custom_legend_handles[:4], custom_legend_labels[:4], loc=3, borderaxespad=0.)\n",
    "    g.axes[0][1].legend(custom_legend_handles[4:], custom_legend_labels[4:], loc=3, borderaxespad=0.)\n",
    "    g.axes[0][0].set_title(\"VBM\", fontsize=35)\n",
    "    g.axes[0][1].set_title(\"TBSS\", fontsize=35)\n",
    "    g.despine(left=True)\n",
    "    plt.show()"
   ]
  },
  {
   "cell_type": "markdown",
   "metadata": {},
   "source": [
    "### Base confound-model on y = 0\n",
    "Described [here](http://www.sciencedirect.com/science/article/pii/S1053811917311072?via%3Dihub) (page 12)."
   ]
  },
  {
   "cell_type": "code",
   "execution_count": null,
   "metadata": {},
   "outputs": [],
   "source": [
    "from skbold.preproc import ConfoundRegressor"
   ]
  },
  {
   "cell_type": "code",
   "execution_count": null,
   "metadata": {},
   "outputs": [],
   "source": [
    "results_sce5 = dict(score=[], n_vox=[], modality=[])\n",
    "    \n",
    "for modality in ['VBM', 'TBSS']:\n",
    "    \n",
    "    this_mvp = mvp[modality]\n",
    "    this_confound = confound[modality]\n",
    "    crf = ConfoundRegressor(this_confound, this_mvp.X, cross_validate=True)\n",
    "    this_mvp.X[this_mvp.y == 0, :] = crf.fit_transform(this_mvp.X[this_mvp.y == 0, :])\n",
    "    this_mvp.X[this_mvp.y == 1, :] = crf.transform(this_mvp.X[this_mvp.y == 1, :])\n",
    "    \n",
    "    for i, nV in enumerate(tqdm_notebook(np.append(num_vox, this_mvp.X.shape[1]),\n",
    "                                                   desc='analyzing %s' % modality)):\n",
    "     \n",
    "        pipeline.set_params(ufs__k=nV)\n",
    "        tmp_scores = cross_val_score(pipeline, this_mvp.X, this_mvp.y, cv=n_folds, n_jobs=-1)\n",
    "        results_sce5['score'].extend(tmp_scores)\n",
    "        results_sce5['n_vox'].extend([nV] * tmp_scores.size)\n",
    "        results_sce5['modality'].extend([modality] * tmp_scores.size)"
   ]
  },
  {
   "cell_type": "code",
   "execution_count": null,
   "metadata": {},
   "outputs": [],
   "source": [
    "results_sce5 = dict(score=[], n_vox=[], modality=[], cfr=[])\n",
    "for modality in ['VBM', 'TBSS']:\n",
    "    \n",
    "    this_mvp = mvp[modality]\n",
    "    this_confound = confound[modality]\n",
    "    crf = ConfoundRegressor(this_confound, this_mvp.X, cross_validate=True)\n",
    "    this_mvp.X[this_mvp.y == 0, :] = crf.fit_transform(this_mvp.X[this_mvp.y == 0, :])\n",
    "    this_mvp.X[this_mvp.y == 1, :] = crf.transform(this_mvp.X[this_mvp.y == 1, :])\n",
    "    \n",
    "    pipe2 = Pipeline([\n",
    "        ('crf', ConfoundRegressor(X=this_mvp.X, confound=this_confound.squeeze(), cross_validate=True)),\n",
    "        ('ufs', SelectKBest(f_classif, k=1)),\n",
    "        ('scaler', StandardScaler()),\n",
    "        ('clf', SVC(kernel='linear', class_weight='balanced'))\n",
    "    ])\n",
    "    \n",
    "    for i, nV in enumerate(tqdm_notebook(np.append(num_vox, this_mvp.X.shape[1]),\n",
    "                                                   desc='analyzing %s' % modality)):\n",
    "     \n",
    "        pipeline.set_params(ufs__k=nV)\n",
    "        pipe2.set_params(ufs__k=nV)\n",
    "        \n",
    "        tmp_scores = cross_val_score(pipeline, this_mvp.X, this_mvp.y, cv=n_folds, n_jobs=-1)\n",
    "        results_sce5['score'].extend(tmp_scores)\n",
    "        results_sce5['n_vox'].extend([nV] * tmp_scores.size)\n",
    "        results_sce5['modality'].extend([modality] * tmp_scores.size)    \n",
    "        results_sce5['cfr'].extend(['no'] * tmp_scores.size)    \n",
    "    \n",
    "        tmp_scores = cross_val_score(pipe2, this_mvp.X, this_mvp.y, cv=n_folds, n_jobs=-1)\n",
    "        results_sce5['score'].extend(tmp_scores)\n",
    "        results_sce5['n_vox'].extend([nV] * tmp_scores.size)\n",
    "        results_sce5['modality'].extend([modality] * tmp_scores.size)    \n",
    "        results_sce5['cfr'].extend(['yes'] * tmp_scores.size)    "
   ]
  },
  {
   "cell_type": "code",
   "execution_count": null,
   "metadata": {},
   "outputs": [],
   "source": [
    "results_sce5_df = pd.DataFrame(results_sce5)\n",
    "results_sce5_df['method'] = ['Dukart'] * len(results_sce5_df)\n",
    "with sns.plotting_context(rc=rc):\n",
    "    fig = plt.gcf()\n",
    "    fig.set_size_inches((9.6, 4.01))\n",
    "    g = sns.factorplot(x='n_vox', y='score', hue='cfr', col='modality', data=results_sce5_df, size=5, aspect=2,\n",
    "                       legend_out=False, palette=\"muted\", legend=False)\n",
    "    g.set(ylim=(0, 1), ylabel='F1-score', xlabel='N voxels')\n",
    "    plt.axhline(y=0.5, c='black', ls='dashed')\n",
    "    plt.legend(title='Confound removed?', bbox_to_anchor=(1.02, 1), loc=2, borderaxespad=0.)\n",
    "    plt.show()"
   ]
  },
  {
   "cell_type": "markdown",
   "metadata": {},
   "source": [
    "### Instance weighting"
   ]
  },
  {
   "cell_type": "code",
   "execution_count": null,
   "metadata": {},
   "outputs": [],
   "source": [
    "from sklearn.linear_model import LogisticRegression\n",
    "from sklearn.preprocessing import OneHotEncoder"
   ]
  },
  {
   "cell_type": "code",
   "execution_count": null,
   "metadata": {},
   "outputs": [],
   "source": [
    "results_sce6 = dict(score=[], n_vox=[], modality=[], C=[])\n",
    "scaler = StandardScaler()\n",
    "lr = LogisticRegression(class_weight='balanced')\n",
    "\n",
    "for modality in ['VBM', 'TBSS']:\n",
    "    \n",
    "    this_mvp = mvp[modality]\n",
    "    this_confound = confound[modality]\n",
    "    y_ohe = OneHotEncoder(sparse=False).fit_transform(this_mvp.y[:, np.newaxis])\n",
    "    \n",
    "    for i, nV in enumerate(tqdm_notebook(np.append(num_vox, this_mvp.X.shape[1]),\n",
    "                                                   desc='analyzing %s' % modality)):\n",
    "     \n",
    "        for Creg in [0.001, 1, 1000]:\n",
    "            pipeline.set_params(ufs__k=nV)\n",
    "            pipeline.set_params(clf__C=Creg)\n",
    "\n",
    "            tmp_scores = np.zeros(n_folds)\n",
    "            for ii, (train_idx, test_idx) in enumerate(skf.split(this_mvp.X, this_mvp.y)):\n",
    "                lr.fit(this_confound[train_idx], this_mvp.y[train_idx])\n",
    "                probas = lr.predict_proba(this_confound[train_idx])\n",
    "                weights = 1 / (probas * y_ohe[train_idx]).sum(axis=1)\n",
    "                pipeline.fit(this_mvp.X[train_idx], this_mvp.y[train_idx], clf__sample_weight=weights)\n",
    "                preds = pipeline.predict(this_mvp.X[test_idx])\n",
    "                tmp_scores[ii] = f1_score(this_mvp.y[test_idx], preds, average='macro')\n",
    "            results_sce6['score'].extend(tmp_scores)\n",
    "            results_sce6['n_vox'].extend([nV] * tmp_scores.size)\n",
    "            results_sce6['modality'].extend([modality] * tmp_scores.size)\n",
    "            results_sce6['C'].extend([Creg] * tmp_scores.size)"
   ]
  },
  {
   "cell_type": "code",
   "execution_count": null,
   "metadata": {},
   "outputs": [],
   "source": [
    "results_sce6_df = pd.DataFrame(results_sce6)\n",
    "results_sce6_df['method'] = ['ipw'] * len(results_sce6_df)\n",
    "ipw_vs_baseline = pd.concat((results_baseline_df, results_sce6_df))\n",
    "with sns.plotting_context(rc=rc):\n",
    "    fig = plt.gcf()\n",
    "    fig.set_size_inches((9.6, 4.01))\n",
    "    g = sns.factorplot(x='n_vox', y='score', row='C', hue='method', col='modality',\n",
    "                       data=ipw_vs_baseline, size=5, aspect=2,\n",
    "                       legend_out=False, palette=\"muted\", legend=False)\n",
    "    g.set(ylim=(0, 1), ylabel='F1-score', xlabel='N voxels')\n",
    "    plt.axhline(y=0.5, c='black', ls='dashed')\n",
    "    plt.legend(title='Method', bbox_to_anchor=(1.02, 1), loc=2, borderaxespad=0.)\n",
    "    plt.show()"
   ]
  },
  {
   "cell_type": "code",
   "execution_count": null,
   "metadata": {},
   "outputs": [],
   "source": [
    "results_baseline_df"
   ]
  },
  {
   "cell_type": "markdown",
   "metadata": {},
   "source": [
    "### Perhaps with gridsearch?"
   ]
  },
  {
   "cell_type": "code",
   "execution_count": null,
   "metadata": {},
   "outputs": [],
   "source": [
    "results_sce7 = dict(score=[], n_vox=[], modality=[], which_col=[])\n",
    "scaler = StandardScaler()\n",
    "lr = LogisticRegression()\n",
    "\n",
    "from sklearn.model_selection import GridSearchCV\n",
    "gs_pipe = Pipeline([\n",
    "    ('scaler', StandardScaler()),\n",
    "    ('ufs', SelectKBest(f_classif, k=None)),\n",
    "    ('clf', GridSearchCV(SVC(kernel='linear', class_weight='balanced', C=None),\n",
    "                         param_grid=dict(C=[0.001, 0.01, 0.1, 1, 10, 100, 1000, 10000])))\n",
    "])\n",
    "\n",
    "for modality in ['VBM', 'TBSS']:\n",
    "    \n",
    "    this_mvp = mvp[modality]\n",
    "    this_confound = confound[modality]\n",
    "\n",
    "    for i, nV in enumerate(tqdm_notebook(np.append(num_vox, this_mvp.X.shape[1]),\n",
    "                                                   desc='analyzing %s' % modality)):\n",
    "     \n",
    "        for which_col in [0, 1]:\n",
    "            \n",
    "            gs_pipe.set_params(ufs__k=nV)\n",
    "\n",
    "            tmp_scores = np.zeros(n_folds)\n",
    "            for ii, (train_idx, test_idx) in enumerate(skf.split(this_mvp.X, this_mvp.y)):\n",
    "                lr.fit(this_confound[train_idx], this_mvp.y[train_idx])\n",
    "                probas = lr.predict_proba(this_confound[train_idx])\n",
    "                gs_pipe.fit(this_mvp.X[train_idx], this_mvp.y[train_idx], clf__sample_weight=1/probas[:, which_col])\n",
    "                tmp_scores[ii] = gs_pipe.score(this_mvp.X[test_idx], this_mvp.y[test_idx])\n",
    "            results_sce7['score'].extend(tmp_scores)\n",
    "            results_sce7['n_vox'].extend([nV] * tmp_scores.size)\n",
    "            results_sce7['modality'].extend([modality] * tmp_scores.size)\n",
    "            results_sce7['which_col'].extend([which_col] * tmp_scores.size)        "
   ]
  },
  {
   "cell_type": "code",
   "execution_count": null,
   "metadata": {},
   "outputs": [],
   "source": [
    "results_sce7_df = pd.DataFrame(results_sce7)\n",
    "results_sce7_df['method'] = ['ipw'] * len(results_sce6_d7)\n",
    "ipwgs_vs_baseline = pd.concat((results_baseline_df, results_sce7_df))\n",
    "with sns.plotting_context(rc=rc):\n",
    "    fig = plt.gcf()\n",
    "    fig.set_size_inches((9.6, 4.01))\n",
    "    g = sns.factorplot(x='n_vox', y='score', hue='which_col', col='modality',\n",
    "                       data=ipwgs_vs_baseline, size=5, aspect=2,\n",
    "                       legend_out=False, palette=\"muted\", legend=False)\n",
    "    g.set(ylim=(0, 1), ylabel='F1-score', xlabel='N voxels')\n",
    "    plt.axhline(y=0.5, c='black', ls='dashed')\n",
    "    plt.legend(title='Method', bbox_to_anchor=(1.02, 1), loc=2, borderaxespad=0.)\n",
    "    plt.show()"
   ]
  },
  {
   "cell_type": "markdown",
   "metadata": {},
   "source": [
    "# SOME EXTRA TESTS OF CONFOUND REGRESSION"
   ]
  },
  {
   "cell_type": "markdown",
   "metadata": {},
   "source": [
    "## Scenario 5: confound regression on train and test separately\n",
    "However, one could also argue that, instead of cross-validating our confound-regression, we can also just fit a separate confound-regression on the *test-set*. Because, theoretically, this sets the influence of the confound in the test-set also exactly to zero (like in scenario 1), yet without the danger of opposite effects of the confound in train- and test. (Note, thought, that this danger is, again, likely when doing some kind of inner cross-validation within your analyses, such as when you perform a hyper-parameter gridsearch!)\n",
    "\n",
    "Just as in scenario 3, we have written a function to parallelize the fold-wise classification analysis. Note that the only difference with scenario 3 is the fact that the parameter `cross_validate` from the `ConfoundRegressor` is set to `False`. This means that the `ConfoundRegressor` will now fit the confound-regression process again when the `transform(X)` method is called on the test-set (`X[test_idx]`)."
   ]
  },
  {
   "cell_type": "markdown",
   "metadata": {},
   "source": [
    "Just like scenario 3, we run the analysis for scenario 4 (this takes forever, though, because we now have to fit an insane amount of 'confound-models'):"
   ]
  },
  {
   "cell_type": "code",
   "execution_count": null,
   "metadata": {},
   "outputs": [],
   "source": [
    "results_sce5 = dict(score=[], n_vox=[], modality=[])\n",
    "\n",
    "for modality in ['VBM', 'TBSS']:\n",
    "    print(\"Processing mod=%s\" % modality)\n",
    "    skf = StratifiedKFold(n_splits=n_folds)\n",
    "    this_mvp = mvp[modality]\n",
    "    this_confound = confound[modality]\n",
    "    pipe = deepcopy(pipeline).steps\n",
    "    cr = ('cr', ConfoundRegressor(this_confound, this_mvp.X, cross_validate=False))\n",
    "    pipe.insert(0, cr)\n",
    "    pipe = Pipeline(pipe)\n",
    "    \n",
    "    for i, nV in enumerate(tqdm_notebook(np.append(num_vox, this_mvp.X.shape[1]),\n",
    "                                                   desc='analyzing %s' % modality)):\n",
    "    \n",
    "        pipe.set_params(ufs__k=nV)\n",
    "        tmp_scores = cross_val_score(pipe, this_mvp.X, this_mvp.y, cv=skf, n_jobs=-1)\n",
    "        results_sce5['score'].extend(tmp_scores)\n",
    "        results_sce5['n_vox'].extend([nV] * tmp_scores.size)\n",
    "        results_sce5['modality'].extend([modality] * tmp_scores.size)"
   ]
  },
  {
   "cell_type": "code",
   "execution_count": null,
   "metadata": {},
   "outputs": [],
   "source": [
    "results_sce5_df = pd.DataFrame(results_sce5)\n",
    "sns.set(style=\"whitegrid\")\n",
    "ax = sns.factorplot(x='n_vox', y='score', hue='modality', data=results_sce5_df, size=5, aspect=2)\n",
    "ax.set(ylim=(0, 1))\n",
    "plt.axhline(y=0.5, c='black', ls='dashed')\n",
    "plt.show()"
   ]
  },
  {
   "cell_type": "code",
   "execution_count": null,
   "metadata": {},
   "outputs": [],
   "source": [
    "Xs = mvp_vbm.X\n",
    "ys = mvp_vbm.y\n",
    "cs = np.hstack((np.ones((ys.size, 1)), confound['TBSS']))\n",
    "weights = np.linalg.pinv(cs.T.dot(cs)).dot(cs.T).dot(Xs)\n",
    "Xs_a = Xs - cs.dot(weights)"
   ]
  },
  {
   "cell_type": "code",
   "execution_count": null,
   "metadata": {},
   "outputs": [],
   "source": [
    "Xs_a2 = np.zeros_like(Xs)\n",
    "for i in range(Xs_a2.shape[1]):\n",
    "    b = np.linalg.lstsq(cs, Xs[:, i])[0]\n",
    "    Xs_a2[:, i] = Xs[:, i] - cs.dot(b)"
   ]
  },
  {
   "cell_type": "code",
   "execution_count": null,
   "metadata": {},
   "outputs": [],
   "source": [
    "np.testing.assert_array_almost_equal(Xs_a, Xs_a2)"
   ]
  },
  {
   "cell_type": "markdown",
   "metadata": {},
   "source": [
    "As you can see, the plot for scenario 4 looks very similar to the one for scenario 3. For comparison, be plot them side-by-side below:"
   ]
  },
  {
   "cell_type": "code",
   "execution_count": null,
   "metadata": {},
   "outputs": [],
   "source": [
    "results_sce3_df['Scenario'] = ['3'] * len(results_sce3_df)\n",
    "results_sce5_df['Scenario'] = ['5'] * len(results_sce5_df)\n",
    "\n",
    "g = sns.FacetGrid(pd.concat((results_sce3_df, results_sce5_df)), col=\"modality\",\n",
    "                  hue='Scenario', ylim=(.4,.8), size=5, aspect=1.5)\n",
    "g.map(sns.pointplot, \"n_vox\", \"score\")"
   ]
  },
  {
   "cell_type": "markdown",
   "metadata": {},
   "source": [
    "We believe, however, that for an unbiased and proper estimate of generalization error, one should only estimate the confound-models (i.e., the influence of brainsize on each voxel) on the train-set. "
   ]
  }
 ],
 "metadata": {
  "kernelspec": {
   "display_name": "Python 3",
   "language": "python",
   "name": "python3"
  },
  "language_info": {
   "codemirror_mode": {
    "name": "ipython",
    "version": 3
   },
   "file_extension": ".py",
   "mimetype": "text/x-python",
   "name": "python",
   "nbconvert_exporter": "python",
   "pygments_lexer": "ipython3",
   "version": "3.6.1"
  }
 },
 "nbformat": 4,
 "nbformat_minor": 2
}
