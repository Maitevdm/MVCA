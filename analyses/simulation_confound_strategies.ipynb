{
 "cells": [
  {
   "cell_type": "markdown",
   "metadata": {},
   "source": [
    "# Simulation confound strategies\n",
    "This notebook evaluates the effectiveness of \"confound strategies\", i.e. their effectiveness of removing the influence of a known confound on machine learning analyses of (simulations of) mutivoxel pattern data. This notebook is meant as a supplement to the [article](link). Together with the notebook with [empirical analyses](empirical_analysis_gender_classification.ipynb), it hopefully complements the article and clarifies our methods and results.\n",
    "\n",
    "Note that this notebook is organized slightly differently than the article. In this notebook, we'll first show you the problem with regressing out a confound from the entire dataset (i.e. not foldwise; PART A). We then show you how the correct confound-regression method and the counter-balance method compare in their ability to control for confounding influences (PART B)."
   ]
  },
  {
   "cell_type": "code",
   "execution_count": 32,
   "metadata": {},
   "outputs": [],
   "source": [
    "# General packages\n",
    "import numpy as np\n",
    "import seaborn as sns\n",
    "import pandas as pd\n",
    "\n",
    "# Bunch of scikit-learn stuff\n",
    "from sklearn.preprocessing import StandardScaler\n",
    "from sklearn.pipeline import Pipeline\n",
    "from sklearn.svm import SVC\n",
    "from sklearn.linear_model import LogisticRegression\n",
    "from sklearn.model_selection import RepeatedStratifiedKFold, cross_val_score\n",
    "from sklearn.feature_selection import f_classif\n",
    "from sklearn.externals import joblib as jl\n",
    "# Specific statistics-functions\n",
    "from scipy.stats import pearsonr\n",
    "\n",
    "# Misc.\n",
    "from tqdm import tqdm_notebook\n",
    "from copy import deepcopy\n",
    "from matplotlib_venn import venn3\n",
    "\n",
    "# Plotting\n",
    "import matplotlib.pyplot as plt\n",
    "%matplotlib inline\n",
    "\n",
    "# Custom code! (install skbold by `pip install skbold`; counterbalance.py is in cwd)\n",
    "from skbold.preproc import ConfoundRegressor\n",
    "from counterbalance import CounterbalancedStratifiedSplit"
   ]
  },
  {
   "cell_type": "markdown",
   "metadata": {},
   "source": [
    "## PART A\n",
    "\n",
    "## Why confound regression the entire dataset at once is a bad idea\n",
    "\n",
    "We first delve into the issue of below-chance classification we observe when regressing out the confound from the entire dataset at once. As described in the article, we argue that this is narrowing the correlation distribution you'd expect by chance. If you generate random (normal) data matrix of shape $N\\ (samples) \\times K\\ (features)$  - let's call this X - and a vector with binary values (0 or 1) of shape $N \\times K$ - let's call this y.\n",
    "\n",
    "Suppose you implement a cross-validated analysis, in which you fit a linear model (e.g. logistic regression) iteratively in a (let's say) 10-fold cross-validation scheme. Now, suppose you simulate this 1000 times. (Note that this is very similar to the permutation statistics people employ to calculate non-parametric p-values for their classification scores.) You expect the distribution of your (e.g.) accuracy scores to be centered around 50%. However, you'll undoubtely observe some scores below 50%. \n",
    "\n",
    "Remember, linear classifiers are capitalizing on some linear statistical dependence between the features in X and y. This can be (per feature) expressed as the correlation between X and y. We argue that these scores are due a relatively low (absolute) initial correlation between features and y in the *entire* dataset, which subsequently causes opposing statistical dependencies (i.e. flipped signs of correlations) between the train and test-set. \n",
    "\n",
    "To show this association between (below chance) accuracy and the initial correlation between features and y, we've written a simple simulation below. We generate random (normal) data for our X matrix and a vector with random (0, 1) values for y for a given `n_sims` simulations. For each simulation, we keep track of accuracy (averaged over `n_folds`), the initial average (absolute) correlation between X and y (averaged over `k_feat` in X), and the proportion of \"sign-flips\" we observe between the correlation of features and y in the train and test-set. "
   ]
  },
  {
   "cell_type": "code",
   "execution_count": 37,
   "metadata": {},
   "outputs": [],
   "source": [
    "def simulate_and_classify_random_data(n_sims, n_samp, k_feat, n_folds):\n",
    "    \"\"\" Simulate classification of random data.\n",
    "    \n",
    "    Simulate classification of random data, in which X is of\n",
    "    shape (n_samp, k_feat) and consists of values from a random\n",
    "    normal distribution with mean 0 and unit variance.\n",
    "    The target, y, is a vector with binary (values )\n",
    "    \n",
    "    Parameters\n",
    "    ----------\n",
    "    n_sims : int\n",
    "        Number of (iterations of) simulations to run.\n",
    "    n_samp : int\n",
    "        Number of samples (preferably an even number to keep the classes in\n",
    "        y balanced).\n",
    "    k_feat : int\n",
    "        Number of features in X.\n",
    "    n_folds : int\n",
    "        Number of folds in a (Repeated) KFold cross-validation scheme \n",
    "        (in which the number of repetitions is set to 10 for robustness).\n",
    "    \n",
    "    Returns\n",
    "    -------\n",
    "    acc : dict\n",
    "        A dictionary with keys 'accuracy', 'std_corr' (stdev of initial correlation\n",
    "        between features and y), and 'sign_change' (the proportion of features that \n",
    "        change sign of their correlation with y between train and test)\n",
    "    \"\"\"\n",
    "    pipe = Pipeline([\n",
    "        ('scaler', StandardScaler()),\n",
    "        ('svm', SVC(kernel='linear'))\n",
    "    ])\n",
    "\n",
    "    skf = RepeatedStratifiedKFold(n_splits=n_folds, n_repeats=10)\n",
    "\n",
    "    results = {'accuracy': [],\n",
    "               'std_corrs': [],\n",
    "               'prop_sign_changes': [],\n",
    "               'weighted_diff_train_test_corrs': []}\n",
    "\n",
    "    acc = np.zeros((n_sims, n_folds * 10))\n",
    "    for i in range(n_sims):\n",
    "        X = np.random.normal(0, 1, size=(n_samp, k_feat))\n",
    "        y = np.repeat([0, 1], repeats=int(n_samp / 2))\n",
    "        \n",
    "        mean_abs_corr = np.abs(np.corrcoef(np.hstack((X, y[:, np.newaxis])).T))[-1, :-1].mean()\n",
    "        std_corr = np.corrcoef(np.hstack((X, y[:, np.newaxis])).T)[-1, :-1].std()\n",
    "        results['std_corrs'].append(std_corr)\n",
    "        \n",
    "        sign_changes = np.zeros(n_folds * 10)\n",
    "        weighted_diffs = np.zeros(n_folds * 10)\n",
    "        \n",
    "        for ii, (train_idx, test_idx) in enumerate(skf.split(X, y)):\n",
    "\n",
    "            X_train, X_test = X[train_idx], X[test_idx]\n",
    "            y_train, y_test = y[train_idx], y[test_idx]\n",
    "\n",
    "            pipe.fit(X_train, y_train)\n",
    "            acc[i, ii] = pipe.score(X_test, y_test)\n",
    "            \n",
    "            fitted_clf = pipe.get_params(deep=False)['steps'][1][1]\n",
    "            corr_train = np.corrcoef(np.hstack((X_train, y_train[:, np.newaxis])).T)[-1, :-1]\n",
    "            corr_test = np.corrcoef(np.hstack((X_test, y_test[:, np.newaxis])).T)[-1, :-1]\n",
    "            sign_changes[ii] = (np.sign(corr_train) != np.sign(corr_test)).sum() / k_feat\n",
    "            weighted_diffs[ii] = ((corr_train - corr_test) * fitted_clf.coef_).mean()\n",
    "            \n",
    "        results['accuracy'].append(acc[i, :].mean())\n",
    "        results['prop_sign_changes'].append(sign_changes.mean())\n",
    "        results['weighted_diff_train_test_corrs'].append(weighted_diffs.mean())\n",
    "        \n",
    "    return results"
   ]
  },
  {
   "cell_type": "markdown",
   "metadata": {},
   "source": [
    "Below, we simulate 500 datasets with 100 samples, 5 features, which are analyzed with a linear SVM in a 10-fold cross-validation scheme (repeated 10 times for robustness). We then plot a scatterplot (and linear fit) between accuracy and the average (absolute) initial correlation (upper left plot), between accuracy and standard deviation of correlations (upper right plot), between accuracy and the proportion of sign-flips we observe (lower left plot), and the average (across features) difference in correlation between train-set and test-set, weighted by the coefficient from the fit."
   ]
  },
  {
   "cell_type": "code",
   "execution_count": 41,
   "metadata": {},
   "outputs": [
    {
     "data": {
      "image/png": "[encoded data removed]",
      "text/plain": [
       "<matplotlib.figure.Figure at 0x7f98a1eeba20>"
      ]
     },
     "metadata": {},
     "output_type": "display_data"
    }
   ],
   "source": [
    "results = simulate_and_classify_random_data(n_sims=100, n_samp=50, k_feat=100, n_folds=10)\n",
    "results_df = pd.DataFrame(results)\n",
    "\n",
    "plt.figure(figsize=(18, 5))\n",
    "\n",
    "plt.subplot(1, 3, 1)\n",
    "plt.title('Accuracy & std correlation')\n",
    "sns.regplot(y='accuracy', x='std_corrs', data=results_df)\n",
    "\n",
    "plt.subplot(1, 3, 2)\n",
    "plt.title('Accuracy & proportion sign changes')\n",
    "sns.regplot(y='accuracy', x='prop_sign_changes', data=results_df)\n",
    "\n",
    "plt.subplot(1, 3, 3)\n",
    "plt.title('Accuracy & (weighted) train and test correlations')\n",
    "sns.regplot(y='accuracy', x='weighted_diff_train_test_corrs', data=results_df)\n",
    "\n",
    "plt.tight_layout()\n",
    "plt.show()"
   ]
  },
  {
   "cell_type": "markdown",
   "metadata": {},
   "source": [
    "As you can see, higher initial correlations lead to above chance accuracy, but importantly (absolute) correlations close(r) to zero lead to below chance classifications (upper left plot). \n",
    "\n",
    "This is fine in this simulation, because we can simulate this many times, across which the mean accuracy is about 50% (y-coordinates of centroid in scatterplots). But you also see that below an average (absolute) correlation across features between X and y of 0.08, below-chance accuracies tend to occur. "
   ]
  },
  {
   "cell_type": "code",
   "execution_count": 34,
   "metadata": {},
   "outputs": [
    {
     "data": {
      "text/plain": [
       "(-0.92074549421404717, 1.0709383282560995e-205)"
      ]
     },
     "execution_count": 34,
     "metadata": {},
     "output_type": "execute_result"
    }
   ],
   "source": [
    "pearsonr(results_df['accuracy'], results_df['abs_corr_diff'])"
   ]
  },
  {
   "cell_type": "code",
   "execution_count": 36,
   "metadata": {},
   "outputs": [],
   "source": [
    "from scipy.special import beta, gamma, hyp2f1\n",
    "\n",
    "def pdf_correlation(rho, N, rs):\n",
    "    \n",
    "    num = (N - 2) * gamma(N - 1) * ((1 - rho ** 2) ** (.5 * (N - 1))) * ((1 - rs ** 2) ** (.5 * (N - 4)))\n",
    "    den = np.sqrt(2 * np.pi) * gamma(N - .5) * (1 - rho * rs) ** (N -3 / 2)\n",
    "    hyp = hyp2f1(.5, .5, (2 * N - 1) / 2, (rho * rs + 1) / 2)\n",
    "    return num / den * hyp"
   ]
  },
  {
   "cell_type": "markdown",
   "metadata": {},
   "source": [
    "### Artificially narrowing the correlation distribution leads to below-chance accuracy\n",
    "We think exactly this is happening when you regress out your confound on the entire dataset: you artificially narrow the correlation distribution, which leads to an increase in sign-flips and thus negative bias. If the correlation distribution becomes more narrow than expected by chance (that is, the mean absolute correlation < 0.08 or, equivalently, the standard deviation of the correlations < 0.09), below-chance accuracy will follow.\n",
    "\n",
    "We follow-up on this idea with another simulation. Here, we control the average (absolute) correlation between X and y. We test a range of these correlations and show that lower average absolute correlations yield (relatively) more negative bias (i.e. dip more below chance):"
   ]
  },
  {
   "cell_type": "code",
   "execution_count": 164,
   "metadata": {},
   "outputs": [],
   "source": [
    "def simulate_and_classify_data_constrained(n_sims, n_samp, k_feat, n_folds, \n",
    "                                           std_corr=None, verbose=False):\n",
    "    \"\"\" Simulate classification of random data.\n",
    "    \n",
    "    Simulate classification of random data, in which X is of\n",
    "    shape (n_samp, k_feat) and consists of values from a random\n",
    "    normal distribution with mean 0 and unit variance. The data generation\n",
    "    is constrained by 'mean_corr' (the average absolute correlation between\n",
    "    features and y) or 'std_corr' (the standard deviation of correlations between\n",
    "    features and y). The target, y, is a vector with binary values.\n",
    "    \n",
    "    Parameters\n",
    "    ----------\n",
    "    n_sims : int\n",
    "        Number of (iterations of) simulations to run.\n",
    "    n_samp : int\n",
    "        Number of samples (preferably an even number to keep the classes in\n",
    "        y balanced).\n",
    "    k_feat : int\n",
    "        Number of features in X.\n",
    "    n_folds : int\n",
    "        Number of folds in a (Repeated) KFold cross-validation scheme \n",
    "        (in which the number of repetitions is set to 10 for robustness).\n",
    "    std_corr : float or None\n",
    "        If float, the standard deviation of correlations between features and\n",
    "        y will be constrained by this number (+- 0.001 margin of error).\n",
    "        If None, the number for mean_corr will be used to constrain\n",
    "        data generation. \n",
    "    \n",
    "    Returns\n",
    "    -------\n",
    "    acc : numpy array (of length n_sims)\n",
    "        Array with average scores (across folds) for n_sims.\n",
    "        \n",
    "    Raises\n",
    "    ------\n",
    "    ValueError\n",
    "        If both mean_corr and std_corr are set to None.\n",
    "    \"\"\"\n",
    "     \n",
    "    if verbose:\n",
    "        iterator = tqdm_notebook(range(n_sims), desc='%.3f/%i' % (std_corr, k_feat))\n",
    "    else:\n",
    "        iterator = range(n_sims)\n",
    "\n",
    "    # Pipeline\n",
    "    pipe = Pipeline([('scale', StandardScaler()), \n",
    "                     ('svc', SVC(kernel='linear'))])\n",
    "\n",
    "    acc = np.zeros(n_sims)\n",
    "    for i in iterator:\n",
    "        \n",
    "        break_out = False\n",
    "        \n",
    "        # Generate y first\n",
    "        y = np.repeat([0, 1], repeats=int(n_samp / 2))\n",
    "        \n",
    "        attempt = 0\n",
    "        while True:\n",
    "            X = np.random.normal(0, 1, size=(n_samp, k_feat))\n",
    "            \n",
    "            corrs = np.corrcoef(np.hstack((X, y[:, np.newaxis])).T)[:-1, -1]\n",
    "            this_std = np.std(corrs)\n",
    "            std_found = np.abs(this_std - std_corr) < 0.001\n",
    "            \n",
    "            if std_found:\n",
    "                break\n",
    "                \n",
    "            attempt += 1\n",
    "            \n",
    "            if (attempt + 1) % 10000 == 0:\n",
    "                \n",
    "                # If it's stuck (likely for many features), let's help it a little bit\n",
    "                while True:\n",
    "                \n",
    "                    upper, lower = np.mean(corrs) + np.std(corrs), np.mean(corrs) - np.std(corrs)\n",
    "                    if (this_std - std_corr) < 0:\n",
    "                        # Std must be increased    \n",
    "                        idx = np.logical_and(corrs < upper, corrs > lower)\n",
    "                    else:\n",
    "                        # Std must be decreased\n",
    "                        idx = np.logical_or(corrs > upper, corrs < lower)\n",
    "                    \n",
    "                    new_X = np.random.normal(0, 1, size=(n_samp, idx.sum()))\n",
    "                    X[:, idx] = new_X\n",
    "                    \n",
    "                    corrs = np.corrcoef(np.hstack((X, y[:, np.newaxis])).T)[:-1, -1]\n",
    "                    this_std = np.std(corrs)\n",
    "                    std_found = np.abs(this_std - std_corr) < 0.001\n",
    "                    \n",
    "                    if std_found:\n",
    "                        break_out = True\n",
    "                        break\n",
    "                        \n",
    "            if break_out:\n",
    "                break\n",
    "                \n",
    "        # 10-fold stratified CV\n",
    "        cv = RepeatedStratifiedKFold(n_splits=n_folds, n_repeats=10)\n",
    "\n",
    "        # Cross-validate and predict\n",
    "        scores = cross_val_score(pipe, X, y, cv=cv)\n",
    "        acc[i] = scores.mean()\n",
    "        \n",
    "    return acc"
   ]
  },
  {
   "cell_type": "markdown",
   "metadata": {},
   "source": [
    "We'll call the function from above with different values `std_corr` and, while we're at it, diffferent amounts of features (`k_feat`):"
   ]
  },
  {
   "cell_type": "code",
   "execution_count": 186,
   "metadata": {},
   "outputs": [
    {
     "data": {
      "image/png": "[encoded data removed]",
      "text/plain": [
       "<matplotlib.figure.Figure at 0x7fb4d58449e8>"
      ]
     },
     "metadata": {},
     "output_type": "display_data"
    }
   ],
   "source": [
    "# This is some random thought: generate features which correlation distribution with y has a given mean\n",
    "# by generating with y\n",
    "y = np.repeat([0, 1], 500)\n",
    "X = np.random.normal(0, 1, size=(1000, 1000)) + y[:, np.newaxis] * 5\n",
    "plt.hist(np.corrcoef(np.hstack((X, y[:, np.newaxis])).T)[:-1, -1], bins=50)\n",
    "plt.show()"
   ]
  },
  {
   "cell_type": "code",
   "execution_count": 170,
   "metadata": {
    "scrolled": true
   },
   "outputs": [
    {
     "data": {
      "application/vnd.jupyter.widget-view+json": {
       "model_id": "28cc56b97dbe41d68bc27fd10622ad3a"
      }
     },
     "metadata": {},
     "output_type": "display_data"
    },
    {
     "data": {
      "application/vnd.jupyter.widget-view+json": {
       "model_id": "e5b44193b906470ea680f764ae0d1a5c"
      }
     },
     "metadata": {},
     "output_type": "display_data"
    },
    {
     "data": {
      "application/vnd.jupyter.widget-view+json": {
       "model_id": "29c13ae542b146df843758b3883ce364"
      }
     },
     "metadata": {},
     "output_type": "display_data"
    },
    {
     "data": {
      "application/vnd.jupyter.widget-view+json": {
       "model_id": "56270448cb91419e85566e67e591398d"
      }
     },
     "metadata": {},
     "output_type": "display_data"
    },
    {
     "data": {
      "application/vnd.jupyter.widget-view+json": {
       "model_id": "9fd4d261ebda452d8f6e50c0b2ff74ef"
      }
     },
     "metadata": {},
     "output_type": "display_data"
    },
    {
     "data": {
      "application/vnd.jupyter.widget-view+json": {
       "model_id": "c502b0e1d47f4ce5906267901d191fd4"
      }
     },
     "metadata": {},
     "output_type": "display_data"
    },
    {
     "data": {
      "application/vnd.jupyter.widget-view+json": {
       "model_id": "70577b5c2ffd4974827cd8c9d671f899"
      }
     },
     "metadata": {},
     "output_type": "display_data"
    },
    {
     "name": "stderr",
     "output_type": "stream",
     "text": [
      "[Parallel(n_jobs=1)]: Done   7 out of   7 | elapsed:   10.1s finished\n"
     ]
    },
    {
     "data": {
      "application/vnd.jupyter.widget-view+json": {
       "model_id": "8d9bfdbce8ad4c6385a256d7aa81d7a4"
      }
     },
     "metadata": {},
     "output_type": "display_data"
    },
    {
     "data": {
      "application/vnd.jupyter.widget-view+json": {
       "model_id": "df8d0c2282044f3690e289739bc73e90"
      }
     },
     "metadata": {},
     "output_type": "display_data"
    },
    {
     "data": {
      "application/vnd.jupyter.widget-view+json": {
       "model_id": "fa2a443d3f1d4a658eebe8a8ede2bf81"
      }
     },
     "metadata": {},
     "output_type": "display_data"
    },
    {
     "data": {
      "application/vnd.jupyter.widget-view+json": {
       "model_id": "1333f3931f49447ba7879a19af29a040"
      }
     },
     "metadata": {},
     "output_type": "display_data"
    },
    {
     "data": {
      "application/vnd.jupyter.widget-view+json": {
       "model_id": "15ec8eded3f542839bb3a1cf14b72e25"
      }
     },
     "metadata": {},
     "output_type": "display_data"
    },
    {
     "data": {
      "application/vnd.jupyter.widget-view+json": {
       "model_id": "a4a8484084d648bc9afa954071c8be03"
      }
     },
     "metadata": {},
     "output_type": "display_data"
    },
    {
     "data": {
      "application/vnd.jupyter.widget-view+json": {
       "model_id": "c53392ebe23449cf931ff488a4291a3b"
      }
     },
     "metadata": {},
     "output_type": "display_data"
    },
    {
     "name": "stderr",
     "output_type": "stream",
     "text": [
      "[Parallel(n_jobs=1)]: Done   7 out of   7 | elapsed:    9.5s finished\n"
     ]
    },
    {
     "data": {
      "application/vnd.jupyter.widget-view+json": {
       "model_id": "374b505300a346918b0c34f9a34ec80c"
      }
     },
     "metadata": {},
     "output_type": "display_data"
    },
    {
     "data": {
      "application/vnd.jupyter.widget-view+json": {
       "model_id": "3aa70cad39f4419cbfce16498b85b764"
      }
     },
     "metadata": {},
     "output_type": "display_data"
    },
    {
     "data": {
      "application/vnd.jupyter.widget-view+json": {
       "model_id": "054389d89b6e432fa2ca4a830a34f03d"
      }
     },
     "metadata": {},
     "output_type": "display_data"
    },
    {
     "data": {
      "application/vnd.jupyter.widget-view+json": {
       "model_id": "25444020ee124597b6c042503ee19719"
      }
     },
     "metadata": {},
     "output_type": "display_data"
    },
    {
     "data": {
      "application/vnd.jupyter.widget-view+json": {
       "model_id": "f9ea8f98d4794e45a7383016b8861e00"
      }
     },
     "metadata": {},
     "output_type": "display_data"
    },
    {
     "data": {
      "application/vnd.jupyter.widget-view+json": {
       "model_id": "3032909f1d5a4351a8bc87f9901cb5c5"
      }
     },
     "metadata": {},
     "output_type": "display_data"
    },
    {
     "data": {
      "application/vnd.jupyter.widget-view+json": {
       "model_id": "241ae39935c241148d8a94777b4f6972"
      }
     },
     "metadata": {},
     "output_type": "display_data"
    },
    {
     "name": "stderr",
     "output_type": "stream",
     "text": [
      "[Parallel(n_jobs=1)]: Done   7 out of   7 | elapsed:   12.4s finished\n"
     ]
    },
    {
     "data": {
      "application/vnd.jupyter.widget-view+json": {
       "model_id": "a648bef5c89347ef976d3e4ef4ff79f1"
      }
     },
     "metadata": {},
     "output_type": "display_data"
    },
    {
     "data": {
      "application/vnd.jupyter.widget-view+json": {
       "model_id": "bcb3b67e5ae543c2969623939ee29409"
      }
     },
     "metadata": {},
     "output_type": "display_data"
    },
    {
     "data": {
      "application/vnd.jupyter.widget-view+json": {
       "model_id": "df474db2eeaf4a749fea43a6ca17d61e"
      }
     },
     "metadata": {},
     "output_type": "display_data"
    },
    {
     "data": {
      "application/vnd.jupyter.widget-view+json": {
       "model_id": "496f5f3e39f747d09e785bd8fc59e8eb"
      }
     },
     "metadata": {},
     "output_type": "display_data"
    },
    {
     "data": {
      "application/vnd.jupyter.widget-view+json": {
       "model_id": "880287467ef5486e9b8241d26f7ab423"
      }
     },
     "metadata": {},
     "output_type": "display_data"
    },
    {
     "data": {
      "application/vnd.jupyter.widget-view+json": {
       "model_id": "54102e54e4a1459f9c397f0abb9c73c7"
      }
     },
     "metadata": {},
     "output_type": "display_data"
    },
    {
     "data": {
      "application/vnd.jupyter.widget-view+json": {
       "model_id": "e37c935bc2ee4620bcb06e6bcf3122f2"
      }
     },
     "metadata": {},
     "output_type": "display_data"
    },
    {
     "name": "stderr",
     "output_type": "stream",
     "text": [
      "[Parallel(n_jobs=1)]: Done   7 out of   7 | elapsed:   25.6s finished\n"
     ]
    },
    {
     "data": {
      "application/vnd.jupyter.widget-view+json": {
       "model_id": "71f015a9725a4a8b8034426a1e75e468"
      }
     },
     "metadata": {},
     "output_type": "display_data"
    },
    {
     "data": {
      "application/vnd.jupyter.widget-view+json": {
       "model_id": "f40fc83fe6df45c99a884bd1db91a8d1"
      }
     },
     "metadata": {},
     "output_type": "display_data"
    },
    {
     "data": {
      "application/vnd.jupyter.widget-view+json": {
       "model_id": "71eba438428546deb1cddc4fa33f73d2"
      }
     },
     "metadata": {},
     "output_type": "display_data"
    },
    {
     "data": {
      "application/vnd.jupyter.widget-view+json": {
       "model_id": "88fc663dfc4e452bb50848cd7ee187b7"
      }
     },
     "metadata": {},
     "output_type": "display_data"
    },
    {
     "data": {
      "application/vnd.jupyter.widget-view+json": {
       "model_id": "b117e3d6901448dd830991bbe9fc4749"
      }
     },
     "metadata": {},
     "output_type": "display_data"
    },
    {
     "data": {
      "application/vnd.jupyter.widget-view+json": {
       "model_id": "f2129f8314b844dcb512405425a2df3d"
      }
     },
     "metadata": {},
     "output_type": "display_data"
    },
    {
     "data": {
      "application/vnd.jupyter.widget-view+json": {
       "model_id": "ca217c5e667b481f9e843d8cef2c73fc"
      }
     },
     "metadata": {},
     "output_type": "display_data"
    },
    {
     "name": "stderr",
     "output_type": "stream",
     "text": [
      "[Parallel(n_jobs=1)]: Done   7 out of   7 | elapsed:   42.3s finished\n"
     ]
    }
   ],
   "source": [
    "std_corrs = [0.3, 0.25, 0.2, 0.15, 0.1, 0.05, 0.01]\n",
    "\n",
    "k_feats = [5, 10, 20, 50, 100]\n",
    "n_sims = 1\n",
    "n_samp = 100\n",
    "n_folds = 10\n",
    "\n",
    "results = dict(std_corr=[], k_feat=[], acc=[])\n",
    "\n",
    "for k_feat in k_feats:\n",
    "    \n",
    "    results['k_feat'].extend([k_feat] * n_sims * len(std_corrs))\n",
    "    results['std_corr'].extend(np.repeat(std_corrs, n_sims))\n",
    "    \n",
    "    accs = jl.Parallel(n_jobs=1, verbose=1)(\n",
    "        jl.delayed(simulate_and_classify_data_constrained)(n_sims, n_samp, k_feat, n_folds, scorr, True)\n",
    "                   for scorr in std_corrs)\n",
    "    results['acc'].extend([a for this_acc in accs for a in this_acc])"
   ]
  },
  {
   "cell_type": "markdown",
   "metadata": {},
   "source": [
    "Plot the results:"
   ]
  },
  {
   "cell_type": "code",
   "execution_count": 191,
   "metadata": {},
   "outputs": [
    {
     "data": {
      "image/png": "[encoded data removed]",
      "text/plain": [
       "<matplotlib.figure.Figure at 0x7fb4d52b3668>"
      ]
     },
     "metadata": {},
     "output_type": "display_data"
    }
   ],
   "source": [
    "sns.factorplot(data=pd.DataFrame(results), x='std_corr', y='acc', hue='k_feat', size=5, aspect=2)\n",
    "plt.show()"
   ]
  },
  {
   "cell_type": "markdown",
   "metadata": {},
   "source": [
    "### Whole-dataset confound regression leads to artificially low correlations\n",
    "We'll now demonstrate this using a simulation in which we regress \"confounds\" of various strengths (that is, how much they're correlated to y) from the data (X). [some more explanation]"
   ]
  },
  {
   "cell_type": "code",
   "execution_count": 210,
   "metadata": {},
   "outputs": [],
   "source": [
    "def simulate_and_classify_data_with_confound(n_sims, n_samp, k_feat, n_folds, corr_cy, cross_validate=False,\n",
    "                                             verbose=False):\n",
    "    \"\"\" Simulate classification of random data.\n",
    "    \n",
    "    Simulate classification of random data, in which X is of\n",
    "    shape (n_samp, k_feat) and consists of values from a random\n",
    "    normal distribution with mean 0 and unit variance. The data generation\n",
    "    is constrained by 'mean_corr' - the average absolute correlation between\n",
    "    features and y (to show that artificially reducing this mean will lead to\n",
    "    below chance classification). The target, y, is a vector with binary values.\n",
    "    \n",
    "    Parameters\n",
    "    ----------\n",
    "    n_sims : int\n",
    "        Number of (iterations of) simulations to run.\n",
    "    n_samp : int\n",
    "        Number of samples (preferably an even number to keep the classes in\n",
    "        y balanced).\n",
    "    k_feat : int\n",
    "        Number of features in X.\n",
    "    n_folds : int\n",
    "        Number of folds in a (Repeated) KFold cross-validation scheme \n",
    "        (in which the number of repetitions is set to 10 for robustness).\n",
    "    \n",
    "    Returns\n",
    "    -------\n",
    "    acc : numpy array (of length n_sims)\n",
    "        Array with average scores (across folds) for n_sims. \n",
    "    \"\"\"\n",
    "    \n",
    "    \n",
    "    # Pipeline\n",
    "    pipe = Pipeline([('scale', StandardScaler()), \n",
    "                     ('svc', SVC(kernel='linear'))])\n",
    "    \n",
    "    if verbose:\n",
    "        iterator = tqdm_notebook(range(n_sims), desc='%.3f/%i' % (corr_cy, k_feat))\n",
    "    else:\n",
    "        iterator = range(n_sims)\n",
    "    \n",
    "    acc = np.zeros(n_sims)\n",
    "    std_corr = np.zeros(n_sims)\n",
    "    for i in iterator:\n",
    "        \n",
    "        # Generate y first\n",
    "        y = np.repeat([0, 1], repeats=int(n_samp / 2))\n",
    "        \n",
    "        noise_factor = 100\n",
    "        c = y + np.random.randn(n_samp) * noise_factor\n",
    "        corr = pearsonr(c, y)[0]\n",
    "        \n",
    "        while np.abs(corr - corr_cy) > 0.01:\n",
    "            # Decrease noise if the difference is too big\n",
    "            noise_factor -= 0.01\n",
    "            c = y + np.random.randn(n_samp) * noise_factor\n",
    "            corr = pearsonr(c, y)[0]        \n",
    "        \n",
    "        X = np.random.normal(0, 1, size=(n_samp, k_feat))\n",
    "        \n",
    "        cv = RepeatedStratifiedKFold(n_splits=n_folds, n_repeats=10)\n",
    "            \n",
    "        if not cross_validate:\n",
    "            cr = ConfoundRegressor(confound=c, fit_idx=np.arange(X.shape[0]), cross_validate=True)\n",
    "            X = cr.fit_transform(X)\n",
    "            std_corr[i] = np.corrcoef(np.hstack((X, y[:, np.newaxis])).T)[:-1, -1].std()\n",
    "            scores = cross_val_score(pipe, X, y, cv=cv)\n",
    "            acc[i] = scores.mean()\n",
    "        else:\n",
    "            std_corr[i] = np.corrcoef(np.hstack((X, y[:, np.newaxis])).T)[:-1, -1].std()\n",
    "            tmp_scores = np.zeros(n_folds * 10)\n",
    "            for ii, (train_idx, test_idx) in enumerate(cv.split(X, y)):\n",
    "                cr = ConfoundRegressor(confound=c, fit_idx=train_idx, cross_validate=True)\n",
    "                pipe2 = deepcopy(pipe.steps)\n",
    "                pipe2.insert(0, ('cr', cr))\n",
    "                pipe2 = Pipeline(pipe2)\n",
    "                pipe2.fit(X[train_idx], y[train_idx])\n",
    "                tmp_scores[ii] = pipe2.score(X[test_idx], y[test_idx])\n",
    "            \n",
    "            acc[i] = tmp_scores.mean()\n",
    "        \n",
    "    return acc, std_corr"
   ]
  },
  {
   "cell_type": "markdown",
   "metadata": {},
   "source": [
    "Let's run it for different correlations(c, y):"
   ]
  },
  {
   "cell_type": "code",
   "execution_count": 233,
   "metadata": {
    "scrolled": true
   },
   "outputs": [
    {
     "name": "stdout",
     "output_type": "stream",
     "text": [
      "\n",
      "\n",
      "\n",
      "\n",
      "\n",
      "\n"
     ]
    },
    {
     "name": "stderr",
     "output_type": "stream",
     "text": [
      "[Parallel(n_jobs=6)]: Done   2 out of  11 | elapsed:    2.0s remaining:    8.8s\n",
      "[Parallel(n_jobs=6)]: Done   4 out of  11 | elapsed:    2.6s remaining:    4.5s\n",
      "[Parallel(n_jobs=6)]: Done   6 out of  11 | elapsed:    8.2s remaining:    6.8s\n",
      "[Parallel(n_jobs=6)]: Done   8 out of  11 | elapsed:    9.8s remaining:    3.7s\n",
      "[Parallel(n_jobs=6)]: Done  11 out of  11 | elapsed:   15.2s finished\n"
     ]
    },
    {
     "name": "stdout",
     "output_type": "stream",
     "text": [
      "\n",
      "\n",
      "\n",
      "\n",
      "\n",
      "\n"
     ]
    },
    {
     "name": "stderr",
     "output_type": "stream",
     "text": [
      "[Parallel(n_jobs=6)]: Done   2 out of  11 | elapsed:    2.1s remaining:    9.4s\n",
      "[Parallel(n_jobs=6)]: Done   4 out of  11 | elapsed:    2.8s remaining:    4.9s\n",
      "[Parallel(n_jobs=6)]: Done   6 out of  11 | elapsed:    8.2s remaining:    6.8s\n",
      "[Parallel(n_jobs=6)]: Done   8 out of  11 | elapsed:   10.2s remaining:    3.8s\n",
      "[Parallel(n_jobs=6)]: Done  11 out of  11 | elapsed:   14.7s finished\n"
     ]
    },
    {
     "name": "stdout",
     "output_type": "stream",
     "text": [
      "\n",
      "\n",
      "\n",
      "\n",
      "\n",
      "\n"
     ]
    },
    {
     "name": "stderr",
     "output_type": "stream",
     "text": [
      "[Parallel(n_jobs=6)]: Done   2 out of  11 | elapsed:    5.1s remaining:   23.0s\n",
      "[Parallel(n_jobs=6)]: Done   4 out of  11 | elapsed:    5.8s remaining:   10.1s\n",
      "[Parallel(n_jobs=6)]: Done   6 out of  11 | elapsed:   12.2s remaining:   10.2s\n",
      "[Parallel(n_jobs=6)]: Done   8 out of  11 | elapsed:   18.0s remaining:    6.7s\n",
      "[Parallel(n_jobs=6)]: Done  11 out of  11 | elapsed:   24.3s finished\n"
     ]
    },
    {
     "name": "stdout",
     "output_type": "stream",
     "text": [
      "\n",
      "\n",
      "\n",
      "\n",
      "\n",
      "\n"
     ]
    },
    {
     "name": "stderr",
     "output_type": "stream",
     "text": [
      "[Parallel(n_jobs=6)]: Done   2 out of  11 | elapsed:    3.8s remaining:   16.9s\n",
      "[Parallel(n_jobs=6)]: Done   4 out of  11 | elapsed:    4.7s remaining:    8.3s\n",
      "[Parallel(n_jobs=6)]: Done   6 out of  11 | elapsed:   11.0s remaining:    9.2s\n",
      "[Parallel(n_jobs=6)]: Done   8 out of  11 | elapsed:   14.9s remaining:    5.6s\n",
      "[Parallel(n_jobs=6)]: Done  11 out of  11 | elapsed:   21.6s finished\n"
     ]
    },
    {
     "name": "stdout",
     "output_type": "stream",
     "text": [
      "\n",
      "\n",
      "\n",
      "\n",
      "\n",
      "\n"
     ]
    },
    {
     "name": "stderr",
     "output_type": "stream",
     "text": [
      "[Parallel(n_jobs=6)]: Done   2 out of  11 | elapsed:   12.4s remaining:   55.7s\n",
      "[Parallel(n_jobs=6)]: Done   4 out of  11 | elapsed:   13.2s remaining:   23.1s\n",
      "[Parallel(n_jobs=6)]: Done   6 out of  11 | elapsed:   19.0s remaining:   15.8s\n",
      "[Parallel(n_jobs=6)]: Done   8 out of  11 | elapsed:   31.1s remaining:   11.7s\n",
      "[Parallel(n_jobs=6)]: Done  11 out of  11 | elapsed:   37.8s finished\n"
     ]
    }
   ],
   "source": [
    "corrs_cy = np.arange(0, 1.1, 0.1)\n",
    "k_feats = [5, 10, 50, 100, 1000]\n",
    "n_sims = 10\n",
    "n_samp = 100\n",
    "n_folds = 10\n",
    "\n",
    "results = dict(corr_cy=[], k_feat=[], acc=[], std_corr=[])\n",
    "\n",
    "for k_feat in k_feats:\n",
    "    \n",
    "    results['k_feat'].extend([k_feat] * n_sims * len(corrs_cy))\n",
    "    results['corr_cy'].extend(np.repeat(corrs_cy, n_sims))\n",
    "    \n",
    "    res = jl.Parallel(n_jobs=6, verbose=10)(jl.delayed(simulate_and_classify_data_with_confound)(n_sims, n_samp, k_feat, n_folds, corr_cy, cross_validate=False) for corr_cy in corrs_cy)\n",
    "    accs, std_corrs = [r[0] for r in res], [r[1] for r in res]\n",
    "    results['acc'].extend([a for this_acc in accs for a in this_acc])\n",
    "    results['std_corr'].extend([s for this_std_corr in std_corrs for s in this_std_corr])"
   ]
  },
  {
   "cell_type": "markdown",
   "metadata": {},
   "source": [
    "And plot it:"
   ]
  },
  {
   "cell_type": "code",
   "execution_count": 234,
   "metadata": {},
   "outputs": [
    {
     "data": {
      "image/png": "[encoded data removed]",
      "text/plain": [
       "<matplotlib.figure.Figure at 0x7fb4ea22c400>"
      ]
     },
     "metadata": {},
     "output_type": "display_data"
    }
   ],
   "source": [
    "results_df = pd.DataFrame(results)\n",
    "sns.factorplot(data=results_df, x='corr_cy', y='acc', hue='k_feat')\n",
    "plt.show()"
   ]
  },
  {
   "cell_type": "code",
   "execution_count": 235,
   "metadata": {},
   "outputs": [
    {
     "data": {
      "text/plain": [
       "(0.70435220413414656, 1.3282422185034638e-83)"
      ]
     },
     "execution_count": 235,
     "metadata": {},
     "output_type": "execute_result"
    },
    {
     "data": {
      "image/png": "[encoded data removed]",
      "text/plain": [
       "<matplotlib.figure.Figure at 0x7fb4e97cd780>"
      ]
     },
     "metadata": {},
     "output_type": "display_data"
    }
   ],
   "source": [
    "sns.factorplot(data=results_df, x='corr_cy', y='std_corr', hue='k_feat')\n",
    "pearsonr(results_df['std_corr'], results_df['acc'])"
   ]
  },
  {
   "cell_type": "markdown",
   "metadata": {},
   "source": [
    "### Foldwise confound regression solves negative bias\n",
    "If we regress it out foldwise, everything stays nicely at 50%:"
   ]
  },
  {
   "cell_type": "code",
   "execution_count": 236,
   "metadata": {},
   "outputs": [
    {
     "name": "stdout",
     "output_type": "stream",
     "text": [
      "\n",
      "\n",
      "\n",
      "\n",
      "\n",
      "\n"
     ]
    },
    {
     "name": "stderr",
     "output_type": "stream",
     "text": [
      "[Parallel(n_jobs=6)]: Done   2 out of  11 | elapsed:    4.7s remaining:   21.1s\n",
      "[Parallel(n_jobs=6)]: Done   4 out of  11 | elapsed:    6.1s remaining:   10.7s\n",
      "[Parallel(n_jobs=6)]: Done   6 out of  11 | elapsed:   20.9s remaining:   17.5s\n",
      "[Parallel(n_jobs=6)]: Done   8 out of  11 | elapsed:   25.2s remaining:    9.5s\n",
      "Process ForkPoolWorker-169:\n",
      "Process ForkPoolWorker-172:\n",
      "Process ForkPoolWorker-174:\n",
      "Process ForkPoolWorker-171:\n",
      "Process ForkPoolWorker-170:\n",
      "Traceback (most recent call last):\n",
      "Traceback (most recent call last):\n",
      "Traceback (most recent call last):\n",
      "  File \"/home/lukas/anaconda3/lib/python3.6/multiprocessing/process.py\", line 249, in _bootstrap\n",
      "    self.run()\n",
      "Traceback (most recent call last):\n",
      "  File \"/home/lukas/anaconda3/lib/python3.6/multiprocessing/process.py\", line 249, in _bootstrap\n",
      "    self.run()\n",
      "  File \"/home/lukas/anaconda3/lib/python3.6/multiprocessing/process.py\", line 249, in _bootstrap\n",
      "    self.run()\n",
      "Traceback (most recent call last):\n",
      "  File \"/home/lukas/anaconda3/lib/python3.6/multiprocessing/process.py\", line 249, in _bootstrap\n",
      "    self.run()\n",
      "  File \"/home/lukas/anaconda3/lib/python3.6/multiprocessing/process.py\", line 93, in run\n",
      "    self._target(*self._args, **self._kwargs)\n",
      "  File \"/home/lukas/anaconda3/lib/python3.6/multiprocessing/process.py\", line 93, in run\n",
      "    self._target(*self._args, **self._kwargs)\n",
      "  File \"/home/lukas/anaconda3/lib/python3.6/multiprocessing/process.py\", line 93, in run\n",
      "    self._target(*self._args, **self._kwargs)\n",
      "  File \"/home/lukas/anaconda3/lib/python3.6/multiprocessing/process.py\", line 249, in _bootstrap\n",
      "    self.run()\n",
      "  File \"/home/lukas/anaconda3/lib/python3.6/multiprocessing/pool.py\", line 108, in worker\n",
      "    task = get()\n",
      "  File \"/home/lukas/anaconda3/lib/python3.6/multiprocessing/pool.py\", line 108, in worker\n",
      "    task = get()\n",
      "  File \"/home/lukas/anaconda3/lib/python3.6/multiprocessing/pool.py\", line 108, in worker\n",
      "    task = get()\n",
      "  File \"/home/lukas/anaconda3/lib/python3.6/multiprocessing/process.py\", line 93, in run\n",
      "    self._target(*self._args, **self._kwargs)\n",
      "  File \"/home/lukas/anaconda3/lib/python3.6/multiprocessing/process.py\", line 93, in run\n",
      "    self._target(*self._args, **self._kwargs)\n",
      "  File \"/home/lukas/anaconda3/lib/python3.6/site-packages/sklearn/externals/joblib/pool.py\", line 360, in get\n",
      "    racquire()\n",
      "  File \"/home/lukas/anaconda3/lib/python3.6/site-packages/sklearn/externals/joblib/pool.py\", line 360, in get\n",
      "    racquire()\n",
      "  File \"/home/lukas/anaconda3/lib/python3.6/multiprocessing/pool.py\", line 108, in worker\n",
      "    task = get()\n",
      "  File \"/home/lukas/anaconda3/lib/python3.6/multiprocessing/pool.py\", line 108, in worker\n",
      "    task = get()\n",
      "KeyboardInterrupt\n",
      "KeyboardInterrupt\n",
      "  File \"/home/lukas/anaconda3/lib/python3.6/site-packages/sklearn/externals/joblib/pool.py\", line 360, in get\n",
      "    racquire()\n",
      "  File \"/home/lukas/anaconda3/lib/python3.6/site-packages/sklearn/externals/joblib/pool.py\", line 362, in get\n",
      "    return recv()\n",
      "  File \"/home/lukas/anaconda3/lib/python3.6/site-packages/sklearn/externals/joblib/pool.py\", line 360, in get\n",
      "    racquire()\n",
      "  File \"/home/lukas/anaconda3/lib/python3.6/multiprocessing/connection.py\", line 250, in recv\n",
      "    buf = self._recv_bytes()\n",
      "KeyboardInterrupt\n",
      "  File \"/home/lukas/anaconda3/lib/python3.6/multiprocessing/connection.py\", line 407, in _recv_bytes\n",
      "    buf = self._recv(4)\n",
      "  File \"/home/lukas/anaconda3/lib/python3.6/multiprocessing/connection.py\", line 379, in _recv\n",
      "    chunk = read(handle, remaining)\n",
      "KeyboardInterrupt\n",
      "KeyboardInterrupt\n",
      "Process ForkPoolWorker-173:\n",
      "KeyboardInterrupt\n",
      "Traceback (most recent call last):\n",
      "  File \"/home/lukas/anaconda3/lib/python3.6/multiprocessing/process.py\", line 249, in _bootstrap\n",
      "    self.run()\n",
      "  File \"/home/lukas/anaconda3/lib/python3.6/multiprocessing/process.py\", line 93, in run\n",
      "    self._target(*self._args, **self._kwargs)\n",
      "  File \"/home/lukas/anaconda3/lib/python3.6/multiprocessing/pool.py\", line 108, in worker\n",
      "    task = get()\n",
      "  File \"/home/lukas/anaconda3/lib/python3.6/site-packages/sklearn/externals/joblib/pool.py\", line 360, in get\n",
      "    racquire()\n"
     ]
    },
    {
     "ename": "KeyboardInterrupt",
     "evalue": "",
     "output_type": "error",
     "traceback": [
      "\u001b[0;31m---------------------------------------------------------------------------\u001b[0m",
      "\u001b[0;31mKeyboardInterrupt\u001b[0m                         Traceback (most recent call last)",
      "\u001b[0;32m/home/lukas/anaconda3/lib/python3.6/site-packages/sklearn/externals/joblib/parallel.py\u001b[0m in \u001b[0;36mretrieve\u001b[0;34m(self)\u001b[0m\n\u001b[1;32m    698\u001b[0m                 \u001b[0;32mif\u001b[0m \u001b[0mgetattr\u001b[0m\u001b[0;34m(\u001b[0m\u001b[0mself\u001b[0m\u001b[0;34m.\u001b[0m\u001b[0m_backend\u001b[0m\u001b[0;34m,\u001b[0m \u001b[0;34m'supports_timeout'\u001b[0m\u001b[0;34m,\u001b[0m \u001b[0;32mFalse\u001b[0m\u001b[0;34m)\u001b[0m\u001b[0;34m:\u001b[0m\u001b[0;34m\u001b[0m\u001b[0m\n\u001b[0;32m--> 699\u001b[0;31m                     \u001b[0mself\u001b[0m\u001b[0;34m.\u001b[0m\u001b[0m_output\u001b[0m\u001b[0;34m.\u001b[0m\u001b[0mextend\u001b[0m\u001b[0;34m(\u001b[0m\u001b[0mjob\u001b[0m\u001b[0;34m.\u001b[0m\u001b[0mget\u001b[0m\u001b[0;34m(\u001b[0m\u001b[0mtimeout\u001b[0m\u001b[0;34m=\u001b[0m\u001b[0mself\u001b[0m\u001b[0;34m.\u001b[0m\u001b[0mtimeout\u001b[0m\u001b[0;34m)\u001b[0m\u001b[0;34m)\u001b[0m\u001b[0;34m\u001b[0m\u001b[0m\n\u001b[0m\u001b[1;32m    700\u001b[0m                 \u001b[0;32melse\u001b[0m\u001b[0;34m:\u001b[0m\u001b[0;34m\u001b[0m\u001b[0m\n",
      "\u001b[0;32m/home/lukas/anaconda3/lib/python3.6/multiprocessing/pool.py\u001b[0m in \u001b[0;36mget\u001b[0;34m(self, timeout)\u001b[0m\n\u001b[1;32m    601\u001b[0m     \u001b[0;32mdef\u001b[0m \u001b[0mget\u001b[0m\u001b[0;34m(\u001b[0m\u001b[0mself\u001b[0m\u001b[0;34m,\u001b[0m \u001b[0mtimeout\u001b[0m\u001b[0;34m=\u001b[0m\u001b[0;32mNone\u001b[0m\u001b[0;34m)\u001b[0m\u001b[0;34m:\u001b[0m\u001b[0;34m\u001b[0m\u001b[0m\n\u001b[0;32m--> 602\u001b[0;31m         \u001b[0mself\u001b[0m\u001b[0;34m.\u001b[0m\u001b[0mwait\u001b[0m\u001b[0;34m(\u001b[0m\u001b[0mtimeout\u001b[0m\u001b[0;34m)\u001b[0m\u001b[0;34m\u001b[0m\u001b[0m\n\u001b[0m\u001b[1;32m    603\u001b[0m         \u001b[0;32mif\u001b[0m \u001b[0;32mnot\u001b[0m \u001b[0mself\u001b[0m\u001b[0;34m.\u001b[0m\u001b[0mready\u001b[0m\u001b[0;34m(\u001b[0m\u001b[0;34m)\u001b[0m\u001b[0;34m:\u001b[0m\u001b[0;34m\u001b[0m\u001b[0m\n",
      "\u001b[0;32m/home/lukas/anaconda3/lib/python3.6/multiprocessing/pool.py\u001b[0m in \u001b[0;36mwait\u001b[0;34m(self, timeout)\u001b[0m\n\u001b[1;32m    598\u001b[0m     \u001b[0;32mdef\u001b[0m \u001b[0mwait\u001b[0m\u001b[0;34m(\u001b[0m\u001b[0mself\u001b[0m\u001b[0;34m,\u001b[0m \u001b[0mtimeout\u001b[0m\u001b[0;34m=\u001b[0m\u001b[0;32mNone\u001b[0m\u001b[0;34m)\u001b[0m\u001b[0;34m:\u001b[0m\u001b[0;34m\u001b[0m\u001b[0m\n\u001b[0;32m--> 599\u001b[0;31m         \u001b[0mself\u001b[0m\u001b[0;34m.\u001b[0m\u001b[0m_event\u001b[0m\u001b[0;34m.\u001b[0m\u001b[0mwait\u001b[0m\u001b[0;34m(\u001b[0m\u001b[0mtimeout\u001b[0m\u001b[0;34m)\u001b[0m\u001b[0;34m\u001b[0m\u001b[0m\n\u001b[0m\u001b[1;32m    600\u001b[0m \u001b[0;34m\u001b[0m\u001b[0m\n",
      "\u001b[0;32m/home/lukas/anaconda3/lib/python3.6/threading.py\u001b[0m in \u001b[0;36mwait\u001b[0;34m(self, timeout)\u001b[0m\n\u001b[1;32m    550\u001b[0m             \u001b[0;32mif\u001b[0m \u001b[0;32mnot\u001b[0m \u001b[0msignaled\u001b[0m\u001b[0;34m:\u001b[0m\u001b[0;34m\u001b[0m\u001b[0m\n\u001b[0;32m--> 551\u001b[0;31m                 \u001b[0msignaled\u001b[0m \u001b[0;34m=\u001b[0m \u001b[0mself\u001b[0m\u001b[0;34m.\u001b[0m\u001b[0m_cond\u001b[0m\u001b[0;34m.\u001b[0m\u001b[0mwait\u001b[0m\u001b[0;34m(\u001b[0m\u001b[0mtimeout\u001b[0m\u001b[0;34m)\u001b[0m\u001b[0;34m\u001b[0m\u001b[0m\n\u001b[0m\u001b[1;32m    552\u001b[0m             \u001b[0;32mreturn\u001b[0m \u001b[0msignaled\u001b[0m\u001b[0;34m\u001b[0m\u001b[0m\n",
      "\u001b[0;32m/home/lukas/anaconda3/lib/python3.6/threading.py\u001b[0m in \u001b[0;36mwait\u001b[0;34m(self, timeout)\u001b[0m\n\u001b[1;32m    294\u001b[0m             \u001b[0;32mif\u001b[0m \u001b[0mtimeout\u001b[0m \u001b[0;32mis\u001b[0m \u001b[0;32mNone\u001b[0m\u001b[0;34m:\u001b[0m\u001b[0;34m\u001b[0m\u001b[0m\n\u001b[0;32m--> 295\u001b[0;31m                 \u001b[0mwaiter\u001b[0m\u001b[0;34m.\u001b[0m\u001b[0macquire\u001b[0m\u001b[0;34m(\u001b[0m\u001b[0;34m)\u001b[0m\u001b[0;34m\u001b[0m\u001b[0m\n\u001b[0m\u001b[1;32m    296\u001b[0m                 \u001b[0mgotit\u001b[0m \u001b[0;34m=\u001b[0m \u001b[0;32mTrue\u001b[0m\u001b[0;34m\u001b[0m\u001b[0m\n",
      "\u001b[0;31mKeyboardInterrupt\u001b[0m: ",
      "\nDuring handling of the above exception, another exception occurred:\n",
      "\u001b[0;31mKeyboardInterrupt\u001b[0m                         Traceback (most recent call last)",
      "\u001b[0;32m<ipython-input-236-4f8c0f8561ba>\u001b[0m in \u001b[0;36m<module>\u001b[0;34m()\u001b[0m\n\u001b[1;32m     12\u001b[0m     \u001b[0mresults\u001b[0m\u001b[0;34m[\u001b[0m\u001b[0;34m'corr_cy'\u001b[0m\u001b[0;34m]\u001b[0m\u001b[0;34m.\u001b[0m\u001b[0mextend\u001b[0m\u001b[0;34m(\u001b[0m\u001b[0mnp\u001b[0m\u001b[0;34m.\u001b[0m\u001b[0mrepeat\u001b[0m\u001b[0;34m(\u001b[0m\u001b[0mcorrs_cy\u001b[0m\u001b[0;34m,\u001b[0m \u001b[0mn_sims\u001b[0m\u001b[0;34m)\u001b[0m\u001b[0;34m)\u001b[0m\u001b[0;34m\u001b[0m\u001b[0m\n\u001b[1;32m     13\u001b[0m \u001b[0;34m\u001b[0m\u001b[0m\n\u001b[0;32m---> 14\u001b[0;31m     \u001b[0mres\u001b[0m \u001b[0;34m=\u001b[0m \u001b[0mjl\u001b[0m\u001b[0;34m.\u001b[0m\u001b[0mParallel\u001b[0m\u001b[0;34m(\u001b[0m\u001b[0mn_jobs\u001b[0m\u001b[0;34m=\u001b[0m\u001b[0;36m6\u001b[0m\u001b[0;34m,\u001b[0m \u001b[0mverbose\u001b[0m\u001b[0;34m=\u001b[0m\u001b[0;36m10\u001b[0m\u001b[0;34m)\u001b[0m\u001b[0;34m(\u001b[0m\u001b[0mjl\u001b[0m\u001b[0;34m.\u001b[0m\u001b[0mdelayed\u001b[0m\u001b[0;34m(\u001b[0m\u001b[0msimulate_and_classify_data_with_confound\u001b[0m\u001b[0;34m)\u001b[0m\u001b[0;34m(\u001b[0m\u001b[0mn_sims\u001b[0m\u001b[0;34m,\u001b[0m \u001b[0mn_samp\u001b[0m\u001b[0;34m,\u001b[0m \u001b[0mk_feat\u001b[0m\u001b[0;34m,\u001b[0m \u001b[0mn_folds\u001b[0m\u001b[0;34m,\u001b[0m \u001b[0mcorr_cy\u001b[0m\u001b[0;34m,\u001b[0m \u001b[0mcross_validate\u001b[0m\u001b[0;34m=\u001b[0m\u001b[0;32mTrue\u001b[0m\u001b[0;34m)\u001b[0m \u001b[0;32mfor\u001b[0m \u001b[0mcorr_cy\u001b[0m \u001b[0;32min\u001b[0m \u001b[0mcorrs_cy\u001b[0m\u001b[0;34m)\u001b[0m\u001b[0;34m\u001b[0m\u001b[0m\n\u001b[0m\u001b[1;32m     15\u001b[0m     \u001b[0maccs\u001b[0m\u001b[0;34m,\u001b[0m \u001b[0mstd_corrs\u001b[0m \u001b[0;34m=\u001b[0m \u001b[0;34m[\u001b[0m\u001b[0mr\u001b[0m\u001b[0;34m[\u001b[0m\u001b[0;36m0\u001b[0m\u001b[0;34m]\u001b[0m \u001b[0;32mfor\u001b[0m \u001b[0mr\u001b[0m \u001b[0;32min\u001b[0m \u001b[0mres\u001b[0m\u001b[0;34m]\u001b[0m\u001b[0;34m,\u001b[0m \u001b[0;34m[\u001b[0m\u001b[0mr\u001b[0m\u001b[0;34m[\u001b[0m\u001b[0;36m1\u001b[0m\u001b[0;34m]\u001b[0m \u001b[0;32mfor\u001b[0m \u001b[0mr\u001b[0m \u001b[0;32min\u001b[0m \u001b[0mres\u001b[0m\u001b[0;34m]\u001b[0m\u001b[0;34m\u001b[0m\u001b[0m\n\u001b[1;32m     16\u001b[0m     \u001b[0mresults\u001b[0m\u001b[0;34m[\u001b[0m\u001b[0;34m'acc'\u001b[0m\u001b[0;34m]\u001b[0m\u001b[0;34m.\u001b[0m\u001b[0mextend\u001b[0m\u001b[0;34m(\u001b[0m\u001b[0;34m[\u001b[0m\u001b[0ma\u001b[0m \u001b[0;32mfor\u001b[0m \u001b[0mthis_acc\u001b[0m \u001b[0;32min\u001b[0m \u001b[0maccs\u001b[0m \u001b[0;32mfor\u001b[0m \u001b[0ma\u001b[0m \u001b[0;32min\u001b[0m \u001b[0mthis_acc\u001b[0m\u001b[0;34m]\u001b[0m\u001b[0;34m)\u001b[0m\u001b[0;34m\u001b[0m\u001b[0m\n",
      "\u001b[0;32m/home/lukas/anaconda3/lib/python3.6/site-packages/sklearn/externals/joblib/parallel.py\u001b[0m in \u001b[0;36m__call__\u001b[0;34m(self, iterable)\u001b[0m\n\u001b[1;32m    787\u001b[0m                 \u001b[0;31m# consumption.\u001b[0m\u001b[0;34m\u001b[0m\u001b[0;34m\u001b[0m\u001b[0m\n\u001b[1;32m    788\u001b[0m                 \u001b[0mself\u001b[0m\u001b[0;34m.\u001b[0m\u001b[0m_iterating\u001b[0m \u001b[0;34m=\u001b[0m \u001b[0;32mFalse\u001b[0m\u001b[0;34m\u001b[0m\u001b[0m\n\u001b[0;32m--> 789\u001b[0;31m             \u001b[0mself\u001b[0m\u001b[0;34m.\u001b[0m\u001b[0mretrieve\u001b[0m\u001b[0;34m(\u001b[0m\u001b[0;34m)\u001b[0m\u001b[0;34m\u001b[0m\u001b[0m\n\u001b[0m\u001b[1;32m    790\u001b[0m             \u001b[0;31m# Make sure that we get a last message telling us we are done\u001b[0m\u001b[0;34m\u001b[0m\u001b[0;34m\u001b[0m\u001b[0m\n\u001b[1;32m    791\u001b[0m             \u001b[0melapsed_time\u001b[0m \u001b[0;34m=\u001b[0m \u001b[0mtime\u001b[0m\u001b[0;34m.\u001b[0m\u001b[0mtime\u001b[0m\u001b[0;34m(\u001b[0m\u001b[0;34m)\u001b[0m \u001b[0;34m-\u001b[0m \u001b[0mself\u001b[0m\u001b[0;34m.\u001b[0m\u001b[0m_start_time\u001b[0m\u001b[0;34m\u001b[0m\u001b[0m\n",
      "\u001b[0;32m/home/lukas/anaconda3/lib/python3.6/site-packages/sklearn/externals/joblib/parallel.py\u001b[0m in \u001b[0;36mretrieve\u001b[0;34m(self)\u001b[0m\n\u001b[1;32m    719\u001b[0m                     \u001b[0;31m# scheduling.\u001b[0m\u001b[0;34m\u001b[0m\u001b[0;34m\u001b[0m\u001b[0m\n\u001b[1;32m    720\u001b[0m                     \u001b[0mensure_ready\u001b[0m \u001b[0;34m=\u001b[0m \u001b[0mself\u001b[0m\u001b[0;34m.\u001b[0m\u001b[0m_managed_backend\u001b[0m\u001b[0;34m\u001b[0m\u001b[0m\n\u001b[0;32m--> 721\u001b[0;31m                     \u001b[0mbackend\u001b[0m\u001b[0;34m.\u001b[0m\u001b[0mabort_everything\u001b[0m\u001b[0;34m(\u001b[0m\u001b[0mensure_ready\u001b[0m\u001b[0;34m=\u001b[0m\u001b[0mensure_ready\u001b[0m\u001b[0;34m)\u001b[0m\u001b[0;34m\u001b[0m\u001b[0m\n\u001b[0m\u001b[1;32m    722\u001b[0m \u001b[0;34m\u001b[0m\u001b[0m\n\u001b[1;32m    723\u001b[0m                 \u001b[0;32mif\u001b[0m \u001b[0;32mnot\u001b[0m \u001b[0misinstance\u001b[0m\u001b[0;34m(\u001b[0m\u001b[0mexception\u001b[0m\u001b[0;34m,\u001b[0m \u001b[0mTransportableException\u001b[0m\u001b[0;34m)\u001b[0m\u001b[0;34m:\u001b[0m\u001b[0;34m\u001b[0m\u001b[0m\n",
      "\u001b[0;32m/home/lukas/anaconda3/lib/python3.6/site-packages/sklearn/externals/joblib/_parallel_backends.py\u001b[0m in \u001b[0;36mabort_everything\u001b[0;34m(self, ensure_ready)\u001b[0m\n\u001b[1;32m    143\u001b[0m     \u001b[0;32mdef\u001b[0m \u001b[0mabort_everything\u001b[0m\u001b[0;34m(\u001b[0m\u001b[0mself\u001b[0m\u001b[0;34m,\u001b[0m \u001b[0mensure_ready\u001b[0m\u001b[0;34m=\u001b[0m\u001b[0;32mTrue\u001b[0m\u001b[0;34m)\u001b[0m\u001b[0;34m:\u001b[0m\u001b[0;34m\u001b[0m\u001b[0m\n\u001b[1;32m    144\u001b[0m         \u001b[0;34m\"\"\"Shutdown the pool and restart a new one with the same parameters\"\"\"\u001b[0m\u001b[0;34m\u001b[0m\u001b[0m\n\u001b[0;32m--> 145\u001b[0;31m         \u001b[0mself\u001b[0m\u001b[0;34m.\u001b[0m\u001b[0mterminate\u001b[0m\u001b[0;34m(\u001b[0m\u001b[0;34m)\u001b[0m\u001b[0;34m\u001b[0m\u001b[0m\n\u001b[0m\u001b[1;32m    146\u001b[0m         \u001b[0;32mif\u001b[0m \u001b[0mensure_ready\u001b[0m\u001b[0;34m:\u001b[0m\u001b[0;34m\u001b[0m\u001b[0m\n\u001b[1;32m    147\u001b[0m             self.configure(n_jobs=self.parallel.n_jobs, parallel=self.parallel,\n",
      "\u001b[0;32m/home/lukas/anaconda3/lib/python3.6/site-packages/sklearn/externals/joblib/_parallel_backends.py\u001b[0m in \u001b[0;36mterminate\u001b[0;34m(self)\u001b[0m\n\u001b[1;32m    321\u001b[0m     \u001b[0;32mdef\u001b[0m \u001b[0mterminate\u001b[0m\u001b[0;34m(\u001b[0m\u001b[0mself\u001b[0m\u001b[0;34m)\u001b[0m\u001b[0;34m:\u001b[0m\u001b[0;34m\u001b[0m\u001b[0m\n\u001b[1;32m    322\u001b[0m         \u001b[0;34m\"\"\"Shutdown the process or thread pool\"\"\"\u001b[0m\u001b[0;34m\u001b[0m\u001b[0m\n\u001b[0;32m--> 323\u001b[0;31m         \u001b[0msuper\u001b[0m\u001b[0;34m(\u001b[0m\u001b[0mMultiprocessingBackend\u001b[0m\u001b[0;34m,\u001b[0m \u001b[0mself\u001b[0m\u001b[0;34m)\u001b[0m\u001b[0;34m.\u001b[0m\u001b[0mterminate\u001b[0m\u001b[0;34m(\u001b[0m\u001b[0;34m)\u001b[0m\u001b[0;34m\u001b[0m\u001b[0m\n\u001b[0m\u001b[1;32m    324\u001b[0m         \u001b[0;32mif\u001b[0m \u001b[0mself\u001b[0m\u001b[0;34m.\u001b[0m\u001b[0mJOBLIB_SPAWNED_PROCESS\u001b[0m \u001b[0;32min\u001b[0m \u001b[0mos\u001b[0m\u001b[0;34m.\u001b[0m\u001b[0menviron\u001b[0m\u001b[0;34m:\u001b[0m\u001b[0;34m\u001b[0m\u001b[0m\n\u001b[1;32m    325\u001b[0m             \u001b[0;32mdel\u001b[0m \u001b[0mos\u001b[0m\u001b[0;34m.\u001b[0m\u001b[0menviron\u001b[0m\u001b[0;34m[\u001b[0m\u001b[0mself\u001b[0m\u001b[0;34m.\u001b[0m\u001b[0mJOBLIB_SPAWNED_PROCESS\u001b[0m\u001b[0;34m]\u001b[0m\u001b[0;34m\u001b[0m\u001b[0m\n",
      "\u001b[0;32m/home/lukas/anaconda3/lib/python3.6/site-packages/sklearn/externals/joblib/_parallel_backends.py\u001b[0m in \u001b[0;36mterminate\u001b[0;34m(self)\u001b[0m\n\u001b[1;32m    134\u001b[0m         \u001b[0;32mif\u001b[0m \u001b[0mself\u001b[0m\u001b[0;34m.\u001b[0m\u001b[0m_pool\u001b[0m \u001b[0;32mis\u001b[0m \u001b[0;32mnot\u001b[0m \u001b[0;32mNone\u001b[0m\u001b[0;34m:\u001b[0m\u001b[0;34m\u001b[0m\u001b[0m\n\u001b[1;32m    135\u001b[0m             \u001b[0mself\u001b[0m\u001b[0;34m.\u001b[0m\u001b[0m_pool\u001b[0m\u001b[0;34m.\u001b[0m\u001b[0mclose\u001b[0m\u001b[0;34m(\u001b[0m\u001b[0;34m)\u001b[0m\u001b[0;34m\u001b[0m\u001b[0m\n\u001b[0;32m--> 136\u001b[0;31m             \u001b[0mself\u001b[0m\u001b[0;34m.\u001b[0m\u001b[0m_pool\u001b[0m\u001b[0;34m.\u001b[0m\u001b[0mterminate\u001b[0m\u001b[0;34m(\u001b[0m\u001b[0;34m)\u001b[0m  \u001b[0;31m# terminate does a join()\u001b[0m\u001b[0;34m\u001b[0m\u001b[0m\n\u001b[0m\u001b[1;32m    137\u001b[0m             \u001b[0mself\u001b[0m\u001b[0;34m.\u001b[0m\u001b[0m_pool\u001b[0m \u001b[0;34m=\u001b[0m \u001b[0;32mNone\u001b[0m\u001b[0;34m\u001b[0m\u001b[0m\n\u001b[1;32m    138\u001b[0m \u001b[0;34m\u001b[0m\u001b[0m\n",
      "\u001b[0;32m/home/lukas/anaconda3/lib/python3.6/site-packages/sklearn/externals/joblib/pool.py\u001b[0m in \u001b[0;36mterminate\u001b[0;34m(self)\u001b[0m\n\u001b[1;32m    604\u001b[0m         \u001b[0;32mfor\u001b[0m \u001b[0mi\u001b[0m \u001b[0;32min\u001b[0m \u001b[0mrange\u001b[0m\u001b[0;34m(\u001b[0m\u001b[0mn_retries\u001b[0m\u001b[0;34m)\u001b[0m\u001b[0;34m:\u001b[0m\u001b[0;34m\u001b[0m\u001b[0m\n\u001b[1;32m    605\u001b[0m             \u001b[0;32mtry\u001b[0m\u001b[0;34m:\u001b[0m\u001b[0;34m\u001b[0m\u001b[0m\n\u001b[0;32m--> 606\u001b[0;31m                 \u001b[0msuper\u001b[0m\u001b[0;34m(\u001b[0m\u001b[0mMemmapingPool\u001b[0m\u001b[0;34m,\u001b[0m \u001b[0mself\u001b[0m\u001b[0;34m)\u001b[0m\u001b[0;34m.\u001b[0m\u001b[0mterminate\u001b[0m\u001b[0;34m(\u001b[0m\u001b[0;34m)\u001b[0m\u001b[0;34m\u001b[0m\u001b[0m\n\u001b[0m\u001b[1;32m    607\u001b[0m                 \u001b[0;32mbreak\u001b[0m\u001b[0;34m\u001b[0m\u001b[0m\n\u001b[1;32m    608\u001b[0m             \u001b[0;32mexcept\u001b[0m \u001b[0mOSError\u001b[0m \u001b[0;32mas\u001b[0m \u001b[0me\u001b[0m\u001b[0;34m:\u001b[0m\u001b[0;34m\u001b[0m\u001b[0m\n",
      "\u001b[0;32m/home/lukas/anaconda3/lib/python3.6/multiprocessing/pool.py\u001b[0m in \u001b[0;36mterminate\u001b[0;34m(self)\u001b[0m\n\u001b[1;32m    503\u001b[0m         \u001b[0mself\u001b[0m\u001b[0;34m.\u001b[0m\u001b[0m_state\u001b[0m \u001b[0;34m=\u001b[0m \u001b[0mTERMINATE\u001b[0m\u001b[0;34m\u001b[0m\u001b[0m\n\u001b[1;32m    504\u001b[0m         \u001b[0mself\u001b[0m\u001b[0;34m.\u001b[0m\u001b[0m_worker_handler\u001b[0m\u001b[0;34m.\u001b[0m\u001b[0m_state\u001b[0m \u001b[0;34m=\u001b[0m \u001b[0mTERMINATE\u001b[0m\u001b[0;34m\u001b[0m\u001b[0m\n\u001b[0;32m--> 505\u001b[0;31m         \u001b[0mself\u001b[0m\u001b[0;34m.\u001b[0m\u001b[0m_terminate\u001b[0m\u001b[0;34m(\u001b[0m\u001b[0;34m)\u001b[0m\u001b[0;34m\u001b[0m\u001b[0m\n\u001b[0m\u001b[1;32m    506\u001b[0m \u001b[0;34m\u001b[0m\u001b[0m\n\u001b[1;32m    507\u001b[0m     \u001b[0;32mdef\u001b[0m \u001b[0mjoin\u001b[0m\u001b[0;34m(\u001b[0m\u001b[0mself\u001b[0m\u001b[0;34m)\u001b[0m\u001b[0;34m:\u001b[0m\u001b[0;34m\u001b[0m\u001b[0m\n",
      "\u001b[0;32m/home/lukas/anaconda3/lib/python3.6/multiprocessing/util.py\u001b[0m in \u001b[0;36m__call__\u001b[0;34m(self, wr, _finalizer_registry, sub_debug, getpid)\u001b[0m\n\u001b[1;32m    184\u001b[0m                 sub_debug('finalizer calling %s with args %s and kwargs %s',\n\u001b[1;32m    185\u001b[0m                           self._callback, self._args, self._kwargs)\n\u001b[0;32m--> 186\u001b[0;31m                 \u001b[0mres\u001b[0m \u001b[0;34m=\u001b[0m \u001b[0mself\u001b[0m\u001b[0;34m.\u001b[0m\u001b[0m_callback\u001b[0m\u001b[0;34m(\u001b[0m\u001b[0;34m*\u001b[0m\u001b[0mself\u001b[0m\u001b[0;34m.\u001b[0m\u001b[0m_args\u001b[0m\u001b[0;34m,\u001b[0m \u001b[0;34m**\u001b[0m\u001b[0mself\u001b[0m\u001b[0;34m.\u001b[0m\u001b[0m_kwargs\u001b[0m\u001b[0;34m)\u001b[0m\u001b[0;34m\u001b[0m\u001b[0m\n\u001b[0m\u001b[1;32m    187\u001b[0m             \u001b[0mself\u001b[0m\u001b[0;34m.\u001b[0m\u001b[0m_weakref\u001b[0m \u001b[0;34m=\u001b[0m \u001b[0mself\u001b[0m\u001b[0;34m.\u001b[0m\u001b[0m_callback\u001b[0m \u001b[0;34m=\u001b[0m \u001b[0mself\u001b[0m\u001b[0;34m.\u001b[0m\u001b[0m_args\u001b[0m \u001b[0;34m=\u001b[0m\u001b[0;31m \u001b[0m\u001b[0;31m\\\u001b[0m\u001b[0;34m\u001b[0m\u001b[0m\n\u001b[1;32m    188\u001b[0m                             \u001b[0mself\u001b[0m\u001b[0;34m.\u001b[0m\u001b[0m_kwargs\u001b[0m \u001b[0;34m=\u001b[0m \u001b[0mself\u001b[0m\u001b[0;34m.\u001b[0m\u001b[0m_key\u001b[0m \u001b[0;34m=\u001b[0m \u001b[0;32mNone\u001b[0m\u001b[0;34m\u001b[0m\u001b[0m\n",
      "\u001b[0;32m/home/lukas/anaconda3/lib/python3.6/multiprocessing/pool.py\u001b[0m in \u001b[0;36m_terminate_pool\u001b[0;34m(cls, taskqueue, inqueue, outqueue, pool, worker_handler, task_handler, result_handler, cache)\u001b[0m\n\u001b[1;32m    533\u001b[0m \u001b[0;34m\u001b[0m\u001b[0m\n\u001b[1;32m    534\u001b[0m         \u001b[0mutil\u001b[0m\u001b[0;34m.\u001b[0m\u001b[0mdebug\u001b[0m\u001b[0;34m(\u001b[0m\u001b[0;34m'helping task handler/workers to finish'\u001b[0m\u001b[0;34m)\u001b[0m\u001b[0;34m\u001b[0m\u001b[0m\n\u001b[0;32m--> 535\u001b[0;31m         \u001b[0mcls\u001b[0m\u001b[0;34m.\u001b[0m\u001b[0m_help_stuff_finish\u001b[0m\u001b[0;34m(\u001b[0m\u001b[0minqueue\u001b[0m\u001b[0;34m,\u001b[0m \u001b[0mtask_handler\u001b[0m\u001b[0;34m,\u001b[0m \u001b[0mlen\u001b[0m\u001b[0;34m(\u001b[0m\u001b[0mpool\u001b[0m\u001b[0;34m)\u001b[0m\u001b[0;34m)\u001b[0m\u001b[0;34m\u001b[0m\u001b[0m\n\u001b[0m\u001b[1;32m    536\u001b[0m \u001b[0;34m\u001b[0m\u001b[0m\n\u001b[1;32m    537\u001b[0m         \u001b[0;32massert\u001b[0m \u001b[0mresult_handler\u001b[0m\u001b[0;34m.\u001b[0m\u001b[0mis_alive\u001b[0m\u001b[0;34m(\u001b[0m\u001b[0;34m)\u001b[0m \u001b[0;32mor\u001b[0m \u001b[0mlen\u001b[0m\u001b[0;34m(\u001b[0m\u001b[0mcache\u001b[0m\u001b[0;34m)\u001b[0m \u001b[0;34m==\u001b[0m \u001b[0;36m0\u001b[0m\u001b[0;34m\u001b[0m\u001b[0m\n",
      "\u001b[0;32m/home/lukas/anaconda3/lib/python3.6/multiprocessing/pool.py\u001b[0m in \u001b[0;36m_help_stuff_finish\u001b[0;34m(inqueue, task_handler, size)\u001b[0m\n\u001b[1;32m    518\u001b[0m         \u001b[0;31m# task_handler may be blocked trying to put items on inqueue\u001b[0m\u001b[0;34m\u001b[0m\u001b[0;34m\u001b[0m\u001b[0m\n\u001b[1;32m    519\u001b[0m         \u001b[0mutil\u001b[0m\u001b[0;34m.\u001b[0m\u001b[0mdebug\u001b[0m\u001b[0;34m(\u001b[0m\u001b[0;34m'removing tasks from inqueue until task handler finished'\u001b[0m\u001b[0;34m)\u001b[0m\u001b[0;34m\u001b[0m\u001b[0m\n\u001b[0;32m--> 520\u001b[0;31m         \u001b[0minqueue\u001b[0m\u001b[0;34m.\u001b[0m\u001b[0m_rlock\u001b[0m\u001b[0;34m.\u001b[0m\u001b[0macquire\u001b[0m\u001b[0;34m(\u001b[0m\u001b[0;34m)\u001b[0m\u001b[0;34m\u001b[0m\u001b[0m\n\u001b[0m\u001b[1;32m    521\u001b[0m         \u001b[0;32mwhile\u001b[0m \u001b[0mtask_handler\u001b[0m\u001b[0;34m.\u001b[0m\u001b[0mis_alive\u001b[0m\u001b[0;34m(\u001b[0m\u001b[0;34m)\u001b[0m \u001b[0;32mand\u001b[0m \u001b[0minqueue\u001b[0m\u001b[0;34m.\u001b[0m\u001b[0m_reader\u001b[0m\u001b[0;34m.\u001b[0m\u001b[0mpoll\u001b[0m\u001b[0;34m(\u001b[0m\u001b[0;34m)\u001b[0m\u001b[0;34m:\u001b[0m\u001b[0;34m\u001b[0m\u001b[0m\n\u001b[1;32m    522\u001b[0m             \u001b[0minqueue\u001b[0m\u001b[0;34m.\u001b[0m\u001b[0m_reader\u001b[0m\u001b[0;34m.\u001b[0m\u001b[0mrecv\u001b[0m\u001b[0;34m(\u001b[0m\u001b[0;34m)\u001b[0m\u001b[0;34m\u001b[0m\u001b[0m\n",
      "\u001b[0;31mKeyboardInterrupt\u001b[0m: "
     ]
    }
   ],
   "source": [
    "corrs_cy = np.arange(0, 1.1, 0.1)\n",
    "k_feats = [5, 10, 50, 100, 1000]\n",
    "n_sims = 25\n",
    "n_samp = 100\n",
    "n_folds = 10\n",
    "\n",
    "results = dict(corr_cy=[], k_feat=[], acc=[], std_corr=[])\n",
    "\n",
    "for k_feat in k_feats:\n",
    "    \n",
    "    results['k_feat'].extend([k_feat] * n_sims * len(corrs_cy))\n",
    "    results['corr_cy'].extend(np.repeat(corrs_cy, n_sims))\n",
    "    \n",
    "    res = jl.Parallel(n_jobs=6, verbose=10)(jl.delayed(simulate_and_classify_data_with_confound)(n_sims, n_samp, k_feat, n_folds, corr_cy, cross_validate=True) for corr_cy in corrs_cy)\n",
    "    accs, std_corrs = [r[0] for r in res], [r[1] for r in res]\n",
    "    results['acc'].extend([a for this_acc in accs for a in this_acc])\n",
    "    results['std_corr'].extend([s for this_std_corr in std_corrs for s in this_std_corr])"
   ]
  },
  {
   "cell_type": "markdown",
   "metadata": {},
   "source": [
    "And plot it:"
   ]
  },
  {
   "cell_type": "code",
   "execution_count": 232,
   "metadata": {},
   "outputs": [
    {
     "data": {
      "text/plain": [
       "<seaborn.axisgrid.FacetGrid at 0x7fb4d59f8e10>"
      ]
     },
     "execution_count": 232,
     "metadata": {},
     "output_type": "execute_result"
    },
    {
     "data": {
      "image/png": "[encoded data removed]",
      "text/plain": [
       "<matplotlib.figure.Figure at 0x7fb4d56ebcf8>"
      ]
     },
     "metadata": {},
     "output_type": "display_data"
    }
   ],
   "source": [
    "results_df = pd.DataFrame(results)\n",
    "sns.factorplot(data=results_df, x='corr_cy', y='acc', hue='k_feat')"
   ]
  },
  {
   "cell_type": "markdown",
   "metadata": {},
   "source": [
    "## Part B: comparison of confound methods"
   ]
  },
  {
   "cell_type": "markdown",
   "metadata": {},
   "source": [
    "### A note on how we simulate data\n",
    "In this notebook's simulations, we are going to simulate three variables, with $N$ denoting the number of samples, and $K$ denoting the number of features:\n",
    "\n",
    "- **y**: an $N\\times 1$ vector with values {0, 1}\n",
    "- **c**: an $N\\times 1$ vector with values {0, 1} if continuous, else $c \\sim \\mathcal{N}(0,\\,1)$\n",
    "- **X**: an $N\\times K$ matrix, in each each column $j$ is generated as $X_{j} = \\beta_{1} c + \\beta_{2} y + \\epsilon,\\ \\epsilon \\sim \\mathcal{N}(0, 1)$\n",
    "\n",
    "By tweaking the parameters $\\beta c$ and $\\beta y$, we can specifically \"tune\" how much variance of $y$ is explained by the \"true\" (i.e., unconfounded) signal (which we call $signal\\ R^2$) and how much variance of $y$ is explained by the \"confounded signal\" (i.e., signal in $X$ which is confounded by $c$; we call this $confound\\ R^2$). \n",
    "\n",
    "Basically, in our data-generator (function is defined below) we generate data ($X$, $y$, and $c$) with a specified correlation between $y$ and $c$, $\\rho(cy)$, and subsequently calculate the $confound\\ R^2$ and $signal\\ R^2$ terms. We then check whether these terms correspond to the desired values for these terms; if not, we adjust the generative parameters ($\\beta_{1}$ and $\\beta_{2}$) slightly and try the entire process again until we get the terms that we want.\n",
    "\n",
    "Below, we visualized the $confound\\ R^2$ and $signal\\ R^2$ terms in a Venn-diagram. On the right of the diagram, we describe the steps to get these terms."
   ]
  },
  {
   "cell_type": "code",
   "execution_count": null,
   "metadata": {},
   "outputs": [],
   "source": [
    "mappings = {'100': 'A', '110': 'D', '010': '',\n",
    "            '101': \"B\\n($signal\\ R^2$)\", '111': 'C\\n($confound\\ R^2$)', '011': 'E',\n",
    "            '001': ''}\n",
    "\n",
    "plt.figure(figsize=(10, 10))\n",
    "v = venn3(subsets=(1, 1, 0.1, 1, 0.3, 0.1, 0.6), set_labels=('y', 'c', 'X'))\n",
    "\n",
    "for key, value in mappings.items():\n",
    "    v.get_label_by_id(key).set_text(value)\n",
    "    v.get_label_by_id(key).set_size(15)\n",
    "    \n",
    "for label in ['A', 'B', 'C']:\n",
    "    v.get_label_by_id(label).set_size(50)\n",
    "    \n",
    "plt.text(0.7, 0.5, \"$A+B+C+D = 1$\", fontsize=25)\n",
    "plt.text(0.7, 0.4, r\"$B+C+D = \\rho(y.Xc)^2$\", fontsize=25)\n",
    "plt.text(0.7, 0.3, \"$A = 1 - (B+C+D)$\", fontsize=25)\n",
    "plt.text(0.7, 0.2, r\"$C+D = \\rho(y.c)^2$\", fontsize=25)\n",
    "plt.text(0.7, 0.1, \"$B = (B+C+D) - (C+D)$\", fontsize=25)\n",
    "plt.text(0.7, 0.0, r\"$C+E = \\rho(X.c)^2$\", fontsize=25)\n",
    "plt.text(0.7, -.1, \"$D = (B+C+D) - (B+C)$\", fontsize=25)\n",
    "plt.text(0.7, -.2, \"$C = 1 - (A+B+D)$\", fontsize=25)\n",
    "plt.show()"
   ]
  },
  {
   "cell_type": "markdown",
   "metadata": {},
   "source": [
    "## Define some functions\n",
    "Below, we define our main data-generation function - `generate_data` - which generates three variables - $X$, $y$, $c$ - corresponding to our predictors, target, and confound, respectively. (But when setting `c=None`, you can also only simulate $X$ and $y$ *without* $c$.)"
   ]
  },
  {
   "cell_type": "code",
   "execution_count": null,
   "metadata": {},
   "outputs": [],
   "source": [
    "#%%writefile generate_data.py\n",
    "\n",
    "import numpy as np\n",
    "from scipy.stats import pearsonr\n",
    "from tqdm import tqdm_notebook\n",
    "import matplotlib.pyplot as plt\n",
    "\n",
    "\n",
    "def get_r2(iv, dv, stack_intercept=True):\n",
    "    \"\"\" Regress dv onto iv and return r-squared.\n",
    "    \n",
    "    Parameters\n",
    "    ----------\n",
    "    iv : numpy array\n",
    "        Array of shape N (samples) x K (features)\n",
    "    dv : numpy array\n",
    "        Array of shape N (samples) x 1\n",
    "    stack_intercept : bool\n",
    "        Whether to stack an intercept (vector with ones of length N).\n",
    "    \n",
    "    Returns\n",
    "    -------\n",
    "    r2 : float\n",
    "        R-squared model fit.\n",
    "    \"\"\"\n",
    "    \n",
    "    if iv.ndim == 1:\n",
    "        # Add axis if shape is (N,)\n",
    "        iv = iv[:, np.newaxis]\n",
    "    \n",
    "    if stack_intercept:\n",
    "        iv = np.hstack((np.ones((iv.shape[0], 1)), iv))\n",
    "    \n",
    "    beta = np.linalg.lstsq(iv, dv)[0]\n",
    "    dv_hat = iv.dot(beta).squeeze()\n",
    "    r2 = pearsonr(dv_hat, dv)[0] ** 2\n",
    "    if np.isnan(r2):\n",
    "        r2 = 0\n",
    "    \n",
    "    return r2\n",
    "\n",
    "\n",
    "\n",
    "def generate_data(n_samp, k_feat, c_type, corr_cy, signal_r2, confound_r2=None, verbose=False):\n",
    "    \"\"\" Generate data with known (partial) R2 \"structure\".\n",
    "    \n",
    "    Parameters\n",
    "    ----------\n",
    "    n_samp : int\n",
    "        Number of samples (N) in the data (X, y, and c)\n",
    "    k_feat : int\n",
    "        Number of features (K) in the data (X)\n",
    "    c_type : str\n",
    "        Either \"continuous\" or \"categorical\". If categorical,\n",
    "        the data a balanced vector with ones and zeros\n",
    "    corr_cy : float\n",
    "        Number between -1 and 1, specifying the correlation\n",
    "        between the confound (c) and the target (y)\n",
    "    signal_r2 : float\n",
    "        Number between 0 and 1, specifying the explained variance\n",
    "        of y using X, independent of the confound contained in X;\n",
    "        (technically, the semipartial correlation rho(xy.c)\n",
    "    confound_r2 : float or None\n",
    "        Number between 0 and 1 (or None), specifying the shared variance \n",
    "        explained of y of x and c (i.e. the explained variance \n",
    "        of the confound-related information in x). If None,\n",
    "        no confound R2 will be left unspecified (which can be used\n",
    "        to specify a baseline).\n",
    "    verbose : bool\n",
    "        Whether to print (extra) relevant information\n",
    "    \n",
    "    Returns\n",
    "    -------\n",
    "    X : numpy array\n",
    "        Array of shape N (samples) x K (features) with floating point numbers\n",
    "    y : numpy array\n",
    "        Array of shape N (samples) x 1 with binary numbers {0, 1}\n",
    "    c : numpy array\n",
    "        Array of shape N (samples) x 1 with either binary {0, 1}\n",
    "        or continuous (from normal dist, 0 mean, 1 variance) values,\n",
    "        depending on what you set for the `c_type` argument.\n",
    "    \"\"\"\n",
    "    \n",
    "    if n_samp % 2 != 0:\n",
    "        raise ValueError(\"Please select an even number of samples \"\n",
    "                         \"(Makes things easier.)\")\n",
    "\n",
    "    if confound_r2 is not None:\n",
    "        if np.abs(corr_cy) < np.sqrt(confound_r2):\n",
    "            raise ValueError(\"The desired corr_cy value is less than the square \"\n",
    "                             \"root of the desired confound R-squared ... This is \"\n",
    "                             \"impossible to generate.\")\n",
    "        \n",
    "    # Generate y (balanced, 50% class 0, 50% class 1)\n",
    "    y = np.repeat([0, 1], repeats=n_samp / 2)\n",
    "    \n",
    "    # Generate c (confound), with given correlation corr_cy\n",
    "    if c_type == 'categorical':\n",
    "        # Simply shift (\"roll\") y to create correlation using the \"formula\":\n",
    "        # to-shift = N / 4 * (1 - corr_cy)\n",
    "        to_roll = int((n_samp / 4) * (1 - corr_cy))\n",
    "        c = np.roll(y, to_roll)\n",
    "    elif c_type == 'continuous':\n",
    "        # If c is continuous, just sample y + random noise\n",
    "        noise_factor = 100\n",
    "        c = y + np.random.randn(n_samp) * noise_factor\n",
    "        corr = pearsonr(c, y)[0]\n",
    "        \n",
    "        while np.abs(corr - corr_cy) > 0.01:\n",
    "            # Decrease noise if the difference is too big\n",
    "            noise_factor -= 0.01\n",
    "            c = y + np.random.randn(n_samp) * noise_factor\n",
    "            corr = pearsonr(c, y)[0]        \n",
    "    else:\n",
    "        raise ValueError(\"For c_type, please select from {'continuous', \"\n",
    "                         \"'categorical'}\")\n",
    "    \n",
    "    # Define X as a matrix of N-samples by K-features\n",
    "    X = np.zeros((n_samp, k_feat))\n",
    "    \n",
    "    # Pre-allocate arrays for average signal_r2 values and confound_r2 values\n",
    "    signal_r2_values = np.zeros(k_feat)\n",
    "    confound_r2_values = np.zeros(k_feat)\n",
    "    \n",
    "    icept = np.ones((n_samp, 1))\n",
    "    \n",
    "    iterator = tqdm_notebook(np.arange(k_feat)) if verbose else np.arange(k_feat)\n",
    "    for i in iterator:\n",
    "        \n",
    "        # Define generative parameters (gen_beta_y = beta-parameter for y in model of X)\n",
    "        # Upon advice of Steven S., 'reset' generative parameters after each generation\n",
    "        gen_beta_y = 1\n",
    "        gen_beta_c = 1\n",
    "        noise_factor = 1\n",
    "        \n",
    "        while True:\n",
    "            \n",
    "            should_continue = False\n",
    "            \n",
    "            # Generate X as a linear combination of y, c, and random noise\n",
    "            this_c = 0 if confound_r2 is None else c\n",
    "            this_X = (gen_beta_y * y + gen_beta_c * this_c + np.random.randn(n_samp) * noise_factor)\n",
    "            this_X = this_X[:, np.newaxis]\n",
    "            \n",
    "            # Fit y = b1X\n",
    "            y_x_r2 = get_r2(iv=this_X, dv=y, stack_intercept=True)  # B + C\n",
    "            \n",
    "            # Increase/decrease noise if difference observed r(yx)**2 is too big/small,\n",
    "            # because if y_x_r2 < (signal_r2 + confound_r2), you won't find proper data anyway\n",
    "            tmp_confound_r2 = 0 if confound_r2 is None else confound_r2\n",
    "            difference_obs_vs_desired = y_x_r2 - (signal_r2 + tmp_confound_r2)\n",
    "            if np.abs(difference_obs_vs_desired) > 0.001:\n",
    "                # If correlation too small/big, adjust noise factor and CONTINUE\n",
    "                if difference_obs_vs_desired < 0:\n",
    "                    noise_factor -= 0.01\n",
    "                else:\n",
    "                    noise_factor += 0.01\n",
    "                continue\n",
    "            \n",
    "            if confound_r2 is None:\n",
    "                # We don't care about confound_r2\n",
    "                unique_var_x = y_x_r2\n",
    "            else:\n",
    "                # Fit y = b1X + b2C\n",
    "                y_xc_r2 = get_r2(iv=np.hstack((this_X, c[:, np.newaxis])), dv=y,\n",
    "                             stack_intercept=True)  # B + C + D\n",
    "                resid_y = 1 - y_xc_r2  # A = 1 - (B + C + D)\n",
    "\n",
    "                # Fit y = b1C\n",
    "                y_c_r2 = get_r2(iv=c, dv=y, stack_intercept=True)  # C + D\n",
    "                unique_var_x = y_xc_r2 - y_c_r2  # B\n",
    "            \n",
    "            # Increase/decrease generative param for y if difference \n",
    "            # r(yx.c) is too small/big ...\n",
    "            difference_obs_vs_desired = unique_var_x - signal_r2\n",
    "            if np.abs(difference_obs_vs_desired) > 0.01:\n",
    "                if difference_obs_vs_desired < 0:\n",
    "                    gen_beta_y += 0.01\n",
    "                else:\n",
    "                    gen_beta_y -= 0.01\n",
    "                \n",
    "                if confound_r2 is None:\n",
    "                    continue\n",
    "                else:\n",
    "                    should_continue = True\n",
    "            else:\n",
    "                if confound_r2 is None:\n",
    "                    break\n",
    "                    \n",
    "            unique_var_c = y_xc_r2 - y_x_r2  # D\n",
    "            shared_var_xc = 1 - resid_y - unique_var_x - unique_var_c  # C\n",
    "\n",
    "            # Also check if shared variance of c and x (component C) is appropriate;\n",
    "            # if not, adjust generative parameter and CONTINUE\n",
    "            difference_obs_vs_desired = shared_var_xc - confound_r2\n",
    "            if np.abs(difference_obs_vs_desired) > 0.01:\n",
    "                if difference_obs_vs_desired < 0:\n",
    "                    gen_beta_c += 0.01\n",
    "                else:\n",
    "                    gen_beta_c -= 0.01\n",
    "                should_continue = True\n",
    "            \n",
    "            if should_continue:\n",
    "                continue\n",
    "            else:\n",
    "                break\n",
    "\n",
    "        # If we didn't encounter a \"break\" statement, we must have found\n",
    "        # data with the correct specifications ...\n",
    "        X[:, i] = this_X.squeeze()\n",
    "        signal_r2_values[i] = unique_var_x\n",
    "        if confound_r2 is not None:\n",
    "            confound_r2_values[i] = shared_var_xc\n",
    "        \n",
    "    if verbose:\n",
    "        print(\"Signal r2: %.3f\" % signal_r2_values.mean())\n",
    "        \n",
    "        if confound_r2 is not None:\n",
    "            print(\"Confound r2: %.3f\" % confound_r2_values.mean())\n",
    "        \n",
    "        \n",
    "        plt.figure(figsize=(15, 5))\n",
    "        plt.subplot(1, 3, 1)\n",
    "        plt.imshow(np.corrcoef(X.T), aspect='auto', cmap='RdBu')\n",
    "        plt.title(\"Correlations between features\")\n",
    "        plt.colorbar()\n",
    "        plt.grid('off')\n",
    "        \n",
    "        plt.subplot(1, 3, 2)\n",
    "        plt.title(\"Signal R2 values\")\n",
    "        plt.hist(signal_r2_values, bins='auto')\n",
    "        \n",
    "        plt.subplot(1, 3, 3)\n",
    "        plt.title(\"Confound R2 values\")\n",
    "        plt.hist(confound_r2_values, bins='auto')\n",
    "        plt.tight_layout()\n",
    "        plt.show()\n",
    "    \n",
    "    if confound_r2 is None:\n",
    "        return X, y\n",
    "    else:\n",
    "        return X, y, c"
   ]
  },
  {
   "cell_type": "code",
   "execution_count": null,
   "metadata": {},
   "outputs": [],
   "source": [
    "# Testing!\n",
    "data_args = dict(n_samp=240, k_feat=10, c_type='categorical', corr_cy=0.8,\n",
    "                 signal_r2=0.01, confound_r2=0.0, verbose=True)\n",
    "X, y, c = generate_data(**data_args)\n",
    "res = run_without_confound_control(X, y, c, pipeline, n_splits, data_args)\n",
    "res['score'].mean()"
   ]
  },
  {
   "cell_type": "code",
   "execution_count": null,
   "metadata": {},
   "outputs": [],
   "source": [
    "corrs = np.zeros(100)\n",
    "for i in range(100):\n",
    "    x = np.random.normal(0, 1, (100, 26))\n",
    "    corrs[i] = np.max([np.abs(pearsonr(x[:, i], x[:, -1])[0]) for i in range(x.shape[1] - 1)])\n",
    "print(np.abs(corrs).mean())"
   ]
  },
  {
   "cell_type": "markdown",
   "metadata": {},
   "source": [
    "Below, we define several functions to quickly run classification analyses using different confound-strategies we're evaluating in this notebook:\n",
    "\n",
    "- **none**: just run a classification analysis (predict $y$ from $X$) without treating the confound ($c$)\n",
    "- **wdcr** (whole-dataset confound regression): regress out $c$ from $X$ on the whole dataset, then run a (cross-validated) classification analysis\n",
    "- **fwcr** (foldwise confound regression): first regress out $c$ from $X$ per fold, then run a classification analysis (predict $y$ from $X$)\n",
    "- **cb** (counterbalance): first subsample $X$ and $y$ until $\\rho(yc) \\approx 0$, then run a classification analysis (predict $y$ from $X$; also, it's made sure that $\\rho(yc) = 0$ also in *each fold*!)"
   ]
  },
  {
   "cell_type": "code",
   "execution_count": null,
   "metadata": {},
   "outputs": [],
   "source": [
    "def run_without_confound_control(X, y, c, pipeline, n_splits, arg_dict):\n",
    "    \"\"\" Run a classification analysis using without controlling for confounds.\n",
    "    \n",
    "    Parameters\n",
    "    ----------\n",
    "    X : numpy array\n",
    "        Array of shape N (samples) x K (features) with floating point numbers\n",
    "    y : numpy array\n",
    "        Array of shape N (samples) x 1 with binary numbers {0, 1}\n",
    "    c : numpy array\n",
    "        Array of shape N (samples) x 1 with either binary {0, 1}\n",
    "        or continuous (from normal dist, 0 mean, 1 variance) values\n",
    "    pipeline : Pipeline-object\n",
    "        A scikit-learn Pipeline-object\n",
    "    n_splits : int\n",
    "        Number of splits to generate in the K-fold routine\n",
    "    arg_dict : dict\n",
    "        Dictionary with arguments used in data generation\n",
    "        (i.e. args fed to generate_data function)\n",
    "        \n",
    "    Returns\n",
    "    -------\n",
    "    results : pandas DataFrame\n",
    "        DataFrame with data parameters (from arg-dict) and fold-wise scores.\n",
    "    \"\"\"\n",
    "    \n",
    "    results = pd.concat([pd.DataFrame(arg_dict, index=[i]) for i in range(n_splits)])\n",
    "    results['method'] = ['none'] * n_splits\n",
    "    \n",
    "    skf = StratifiedKFold(n_splits=n_splits)\n",
    "    scores = np.zeros(n_splits)\n",
    "    \n",
    "    for i, (train_idx, test_idx) in enumerate(skf.split(X, y)):\n",
    "        X_train, y_train = X[train_idx], y[train_idx]\n",
    "        X_test, y_test = X[test_idx], y[test_idx]\n",
    "        pipeline.fit(X_train, y_train)\n",
    "        scores[i] = pipeline.score(X_test, y_test)\n",
    "        \n",
    "    results['score'] = scores\n",
    "    \n",
    "    return results\n",
    "\n",
    "\n",
    "def run_with_wholedataset_confound_regression(X, y, c, pipeline, n_splits, arg_dict):\n",
    "    \"\"\" Run a classification analysis using without controlling for confounds.\n",
    "    \n",
    "    Parameters\n",
    "    ----------\n",
    "    X : numpy array\n",
    "        Array of shape N (samples) x K (features) with floating point numbers\n",
    "    y : numpy array\n",
    "        Array of shape N (samples) x 1 with binary numbers {0, 1}\n",
    "    c : numpy array\n",
    "        Array of shape N (samples) x 1 with either binary {0, 1}\n",
    "        or continuous (from normal dist, 0 mean, 1 variance) values\n",
    "    pipeline : Pipeline-object\n",
    "        A scikit-learn Pipeline-object\n",
    "    n_splits : int\n",
    "        Number of splits to generate in the K-fold routine\n",
    "    arg_dict : dict\n",
    "        Dictionary with arguments used in data generation\n",
    "        (i.e. args fed to generate_data function)\n",
    "        \n",
    "    Returns\n",
    "    -------\n",
    "    results : pandas DataFrame\n",
    "        DataFrame with data parameters (from arg-dict) and fold-wise scores.\n",
    "    \"\"\"\n",
    "    \n",
    "    results = pd.concat([pd.DataFrame(arg_dict, index=[i]) for i in range(n_splits)])\n",
    "    results['method'] = ['wdcr'] * n_splits\n",
    "    \n",
    "    # Regress out c from X\n",
    "    cr = ConfoundRegressor(confound=c, fit_idx=np.arange(y.size), cross_validate=True)\n",
    "    X = cr.fit_transform(X)\n",
    "    \n",
    "    skf = StratifiedKFold(n_splits=n_splits)\n",
    "    scores = np.zeros(n_splits)\n",
    "    \n",
    "    for i, (train_idx, test_idx) in enumerate(skf.split(X, y)):\n",
    "        X_train, y_train = X[train_idx], y[train_idx]\n",
    "        X_test, y_test = X[test_idx], y[test_idx]\n",
    "        pipeline.fit(X_train, y_train)\n",
    "        scores[i] = pipeline.score(X_test, y_test)\n",
    "        \n",
    "    results['score'] = scores\n",
    "    \n",
    "    return results\n",
    "\n",
    "\n",
    "def run_with_confound_regression(X, y, c, pipeline, n_splits, arg_dict):\n",
    "    \"\"\" Run a classification analysis using without controlling for confounds.\n",
    "    \n",
    "    Parameters\n",
    "    ----------\n",
    "    X : numpy array\n",
    "        Array of shape N (samples) x K (features) with floating point numbers\n",
    "    y : numpy array\n",
    "        Array of shape N (samples) x 1 with binary numbers {0, 1}\n",
    "    c : nu1mpy array\n",
    "        Array of shape N (samples) x 1 with either binary {0, 1}\n",
    "        or continuous (from normal dist, 0 mean, 1 variance) values\n",
    "    pipeline : Pipeline-object\n",
    "        A scikit-learn Pipeline-object\n",
    "    n_splits : int\n",
    "        Number of splits to generate in the K-fold routine\n",
    "    arg_dict : dict\n",
    "        Dictionary with arguments used in data generation\n",
    "        (i.e. args fed to generate_data function)\n",
    "\n",
    "    Returns\n",
    "    -------\n",
    "    results : pandas DataFrame\n",
    "        DataFrame with data parameters (from arg-dict) and fold-wise scores.\n",
    "    \"\"\"\n",
    " \n",
    "    results = pd.concat([pd.DataFrame(arg_dict, index=[i]) for i in range(n_splits)])\n",
    "    results['method'] = ['fwcr'] * n_splits\n",
    "\n",
    "    skf = StratifiedKFold(n_splits=n_splits)\n",
    "    scores = np.zeros(n_splits)\n",
    "    \n",
    "    for i, (train_idx, test_idx) in enumerate(skf.split(X, y)):\n",
    "        \n",
    "        cr = ConfoundRegressor(confound=c, fit_idx=train_idx, cross_validate=True)\n",
    "        this_pipe = deepcopy(pipeline).steps\n",
    "        this_pipe.insert(0, ('regress', cr))\n",
    "        this_pipe = Pipeline(this_pipe)\n",
    "        X_train, y_train = X[train_idx], y[train_idx]\n",
    "        X_test, y_test = X[test_idx], y[test_idx]\n",
    "        this_pipe.fit(X_train, y_train)\n",
    "        scores[i] = this_pipe.score(X_test, y_test)\n",
    "        \n",
    "    results['score'] = scores\n",
    "    \n",
    "    return results\n",
    "\n",
    "def run_with_counterbalancing(X, y, c, pipeline, n_splits, arg_dict, \n",
    "                              c_type='categorical', metric='corr', threshold=0.01, verbose=False):\n",
    "    \"\"\" Run a classification analysis using without controlling for confounds.\n",
    "    \n",
    "    Parameters\n",
    "    ----------\n",
    "    X : numpy array\n",
    "        Array of shape N (samples) x K (features) with floating point numbers\n",
    "    y : numpy array\n",
    "        Array of shape N (samples) x 1 with binary numbers {0, 1}\n",
    "    c : numpy array\n",
    "        Array of shape N (samples) x 1 with either binary {0, 1}\n",
    "        or continuous (from normal dist, 0 mean, 1 variance) values\n",
    "    pipeline : Pipeline-object\n",
    "        A scikit-learn Pipeline-object\n",
    "    n_splits : int\n",
    "        Number of splits to generate in the K-fold routine\n",
    "    arg_dict : dict\n",
    "        Dictionary with arguments used in data generation\n",
    "        (i.e. args fed to generate_data function)\n",
    "    \n",
    "    Returns\n",
    "    -------\n",
    "    results : pandas DataFrame\n",
    "        DataFrame with data parameters (from arg-dict) and fold-wise scores.\n",
    "    \"\"\"\n",
    "\n",
    "    results = pd.concat([pd.DataFrame(arg_dict, index=[i]) for i in range(n_splits)])\n",
    "    results['method'] = ['cb'] * n_splits\n",
    "\n",
    "    results_corr = pd.concat([pd.DataFrame(arg_dict, index=[i]) for i in range(arg_dict['k_feat']*2)])\n",
    "    results_corr['ki'] = np.tile(np.arange(arg_dict['k_feat']), reps=2)\n",
    "    results_corr['before_after'] = ['before'] * arg_dict['k_feat'] + ['after'] * arg_dict['k_feat']\n",
    "    \n",
    "    corrs_xc_before = [pearsonr(c, X[:, i])[0] for i in range(X.shape[1])]\n",
    "    corrs_xy_before = [pearsonr(y, X[:, i])[0] for i in range(X.shape[1])]\n",
    "    \n",
    "    skf = CounterbalancedStratifiedSplit(X, y, c, n_splits=n_splits, c_type=c_type, verbose=verbose)\n",
    "    try:\n",
    "        skf.check_counterbalance_and_subsample()\n",
    "    except ValueError as ve:\n",
    "        results['score'] = np.zeros(n_splits)\n",
    "        corrs_xc_after = np.zeros_like(corrs_xc_before)\n",
    "        corrs_xy_after = np.zeros_like(corrs_xy_before)\n",
    "        results_corr['cx'] = np.concatenate((corrs_xc_before, corrs_xc_after))\n",
    "        results_corr['xy'] = np.concatenate((corrs_xy_before, corrs_xy_after))\n",
    "        return results, results_corr\n",
    "\n",
    "    X, y, c = X[skf.subsample_idx], y[skf.subsample_idx], c[skf.subsample_idx]    \n",
    "    corrs_xc_after = np.array([pearsonr(c, X[:, i])[0] for i in range(X.shape[1])])\n",
    "    corrs_xy_after = np.array([pearsonr(y, X[:, i])[0] for i in range(X.shape[1])])\n",
    "    results_corr['cx'] = np.concatenate((corrs_xc_before, corrs_xc_after))\n",
    "    results_corr['xy'] = np.concatenate((corrs_xy_before, corrs_xy_after))\n",
    "    \n",
    "    scores = np.zeros(n_splits)\n",
    "\n",
    "    for i, (train_idx, test_idx) in enumerate(skf.split(X, y)):\n",
    "        X_train, y_train, c_train = X[train_idx], y[train_idx], c[train_idx]\n",
    "        X_test, y_test, c_test = X[test_idx], y[test_idx], c[test_idx]\n",
    "        pipeline.fit(np.hstack((X_train, c_train[:, np.newaxis])), y_train)\n",
    "        scores[i] = pipeline.score(np.hstack((X_test, c_test[:, np.newaxis])), y_test)\n",
    "    \n",
    "    results['score'] = scores\n",
    "    \n",
    "    return results, results_corr"
   ]
  },
  {
   "cell_type": "markdown",
   "metadata": {},
   "source": [
    "### Fixed parameters / settings\n"
   ]
  },
  {
   "cell_type": "code",
   "execution_count": null,
   "metadata": {},
   "outputs": [],
   "source": [
    "pipeline = Pipeline([\n",
    "\n",
    "    ('scaler', StandardScaler()),\n",
    "    ('clf', SVC(kernel='linear'))\n",
    "])\n",
    "\n",
    "n_splits = 10  # i.e. 10-fold cross-validation"
   ]
  },
  {
   "cell_type": "markdown",
   "metadata": {},
   "source": [
    "## Scenario 1: below-chance accuracy in whole dataset confound regression"
   ]
  },
  {
   "cell_type": "code",
   "execution_count": null,
   "metadata": {},
   "outputs": [],
   "source": [
    "data_args = dict(n_samp=240, k_feat=5, c_type='categorical', corr_cy=None,\n",
    "                 signal_r2=0.1, confound_r2=None, verbose=False)\n"
   ]
  },
  {
   "cell_type": "markdown",
   "metadata": {},
   "source": [
    "## Scenario 1: what happens when we vary *confound $R^2$* and *$\\rho(cy)$*?\n",
    "... or, in other words, what happens when we increase the amount of confounded \"signal\" in X (area *C* in the venn-diagram) and the initial correlation between the confound (c) and the target (y)?\n",
    "\n",
    "We evaluate the following values for the parameter $\\rho(cy)$:\n",
    "- $\\rho(cy) \\in \\{0.25, 0.3, 0.35..., 0.85\\}$\n",
    "\n",
    "We set the range of values (in steps of 0.05) for $confound\\ R^2$ dynamically, because the maximum value for $confound\\ R^2$ depends on the $\\rho(cy)$ parameter. For example, we cannot set $confound\\ R^2 = 0.5$ when $\\rho(cy) = 0.6$, because $\\sqrt{0.5} > 0.6$. Thus:\n",
    "\n",
    "- $confound\\ R^2 \\in \\{0.00, 0.05, ..., \\rho(cy)^2 - (\\rho(cy)^2\\ mod\\ 0.05)\\}$\n",
    "\n",
    "And we'll use the following fixed parameters:\n",
    "- $N = 240$\n",
    "- $K = 5$\n",
    "- $signal\\ R^2=0.1$\n",
    "\n",
    "Importantly, we also track the correlations $\\rho(xy)$ and $\\rho(xc)$ before and after counterbalancing, because there is something weird going on (as we'll explain later)."
   ]
  },
  {
   "cell_type": "markdown",
   "metadata": {},
   "source": [
    "### Confound = categorical\n",
    "Here, the confound is categorical with values {0, 1}"
   ]
  },
  {
   "cell_type": "code",
   "execution_count": null,
   "metadata": {
    "scrolled": true
   },
   "outputs": [],
   "source": [
    "# We do it three times for robustness\n",
    "simulations = 1\n",
    "\n",
    "# Specify arguments for data generations (we'll set corr_cy and confound_r2 later)\n",
    "data_args = dict(n_samp=240, k_feat=5, c_type='categorical', corr_cy=None,\n",
    "                 signal_r2=0.1, confound_r2=None, verbose=False)\n",
    "\n",
    "# The values for corr_cy to loop over\n",
    "corr_cy_vec = [0.25, 0.3, 0.35, 0.4, 0.45, 0.5, 0.55, 0.6, 0.65, 0.7, 0.75, 0.8, 0.85]\n",
    "\n",
    "# The confound_r2 values to loop over\n",
    "confound_r2_vecs = [np.arange(0, corr_cy ** 2, 0.05)\n",
    "                    for corr_cy in corr_cy_vec]\n",
    "\n",
    "# The 'baseline scores' to keep track of (scores on data generated without\n",
    "# any influence of the confound)\n",
    "baseline_scores = np.zeros((simulations, len(corr_cy_vec)))\n",
    "\n",
    "results_sce1 = []\n",
    "results_corr_sce1 = []\n",
    "\n",
    "# Loop over simulations\n",
    "for sim in np.arange(simulations):\n",
    "\n",
    "    print(\"Simulation: %i\" % (sim + 1))\n",
    "    \n",
    "    # Loop over values for corr_cy\n",
    "    for i, corr_cy in enumerate(corr_cy_vec):\n",
    "        data_args.update(corr_cy=corr_cy)\n",
    "        data_args.update(confound_r2=None)\n",
    "        Xbase, ybase = generate_data(**data_args) \n",
    "        baseline_scores[sim, i] = cross_val_score(pipeline, Xbase, ybase, cv=n_splits).mean()\n",
    "\n",
    "        confound_r2_vec = confound_r2_vecs[i]\n",
    "        print(\"corr_cy: %.3f, confound_r2: %r\" % (corr_cy, np.around(confound_r2_vec, 3).tolist()))\n",
    "        \n",
    "        # Loop over values for confound_r2\n",
    "        for ii, confound_r2 in enumerate(confound_r2_vec):\n",
    "            data_args.update(confound_r2=confound_r2)\n",
    "            X, y, c = generate_data(**data_args)\n",
    "            results_sce1.append(run_without_confound_control(X, y, c, pipeline, n_splits, data_args))\n",
    "            results_sce1.append(run_with_wholedataset_confound_regression(X, y, c, pipeline, n_splits, data_args))\n",
    "            results_sce1.append(run_with_confound_regression(X, y, c, pipeline, n_splits, data_args))    \n",
    "            res, corrs = run_with_counterbalancing(X, y, c, pipeline, n_splits, c_type='categorical',\n",
    "                                                   arg_dict=data_args)\n",
    "            results_corr_sce1.append(corrs)\n",
    "            results_sce1.append(res)"
   ]
  },
  {
   "cell_type": "markdown",
   "metadata": {},
   "source": [
    "Let's plot it! The plot consists of subplots organized in three columns and six rows. Each *row* contains the results from a different $\\rho(cy)$ setting. The first row shows results from data with $\\rho(cy) = 0.4$, the second from data with $\\rho(cy) = 0.5$, etc. \n",
    "\n",
    "In the first column, the mean accuracy across folds is plotted for a range of $confound\\ R^2$ values. Note that the *specific* range of $confound\\ R^2$ values depends on the $\\rho(cy)$ value, viz,. you cannot generate data with $confound\\ R^2 > \\rho(cy)^2$. These mean accuracies across $confound\\ R^2$ values is plotted for the three methods ('none', 'cb', and 'regress') as well as a (dashed orange) line indicating the performance if there would be no $confound\\ R^2$, only $signal\\ R^2$.\n",
    "\n",
    "The second and third rows provide some extra information about what is happening in the counterbalance method. \n",
    "The second column shows $\\rho(xc)$, i.e. the mean correlation between our features (from X) and the confound (c), both **before** subsampling (blue) and **after** subsampling (green). The third column shows $\\rho(xy)$, i.e. the mean correlation between our features (from X) and the target (y), again both **before** and **after** subsampling.\n",
    "\n",
    "Note that if the counterbalancing yields too few samples (i.e. has to undersample so much that it doesn't leave any samples), then score is set to 0 (also for the correlations $\\rho(cx)$ and $\\rho(xy)$)."
   ]
  },
  {
   "cell_type": "code",
   "execution_count": null,
   "metadata": {},
   "outputs": [],
   "source": [
    "sns.set(font_scale=1.25)\n",
    "df_sce1 = pd.concat(results_sce1)\n",
    "df_corrs_sce1 = pd.concat(results_corr_sce1)\n",
    "fig, axes = plt.subplots(len(corr_cy_vec), 3, figsize=(15, 35), gridspec_kw={'width_ratios': [1.5, 1, 1]},\n",
    "                         sharex=True, sharey=False)\n",
    "\n",
    "for i in range(len(axes)):\n",
    "    tmp = df_sce1[df_sce1.corr_cy == corr_cy_vec[i]]\n",
    "    axes[i][0].set_title(r\"$\\rho(cy) = %.2f$\" % corr_cy_vec[i])\n",
    "    g = sns.pointplot(x='confound_r2', y='score', hue='method',\n",
    "                   data=tmp, size=5, aspect=2,\n",
    "                   palette=\"muted\", ax=axes[i][0])\n",
    "    \n",
    "    if i != 0:\n",
    "        g.legend_.remove()\n",
    "    \n",
    "    if i != len(axes) - 1:\n",
    "        axes[i][0].set_xlabel('')\n",
    "    \n",
    "    g.set_ylim((-0.1, 1.1))\n",
    "    axes[i][0].axhline(y=0.5, c='black', ls='--')\n",
    "    axes[i][0].axhline(y=baseline_scores[:, i].mean(), c='orange', ls='--')\n",
    "\n",
    "    tmp = df_corrs_sce1[df_corrs_sce1.corr_cy == corr_cy_vec[i]]\n",
    "    axes[i][1].set_title(r'$\\rho(xc)$')\n",
    "    g = sns.barplot(x=\"confound_r2\", y=\"cx\", hue=\"before_after\", data=tmp, ax=axes[i][1])\n",
    "    g.legend_.remove()\n",
    "    axes[i][1].legend(loc='best')\n",
    "    axes[i][2].set_title(r'$\\rho(xy)$')\n",
    "    g.set_ylim((-0.6, 1))\n",
    "    g = sns.barplot(x=\"confound_r2\", y=\"xy\", hue=\"before_after\", data=tmp, ax=axes[i][2])\n",
    "    g.legend_.remove()\n",
    "    g.set_ylim((-0.6, 1))\n",
    "    \n",
    "fig.tight_layout()"
   ]
  },
  {
   "cell_type": "markdown",
   "metadata": {},
   "source": [
    "As you can see, the blue line (confound not controlled for) increases when $confound\\ R^2$ increases, as you would expect. You also see that confound regression (green line) nicely follows the orange dashed line, which indicates the scanario in which confound plays no role. \n",
    "\n",
    "Lastly, we an interesting (disturbing?) thing happening with the counterbalancing method: when $\\rho(cy)$ increases, the counterbalancing method starts to show positive bias, i.e., scores higher than you should see when the confound is adequately dealt with. The third column of graphs shows the reason: subsampling seems to increase the correlation between the features (X) and y (i.e. $signal\\ R^2$ seems to increase)!\n",
    "\n",
    "This is shown below:"
   ]
  },
  {
   "cell_type": "code",
   "execution_count": null,
   "metadata": {},
   "outputs": [],
   "source": [
    "mappings = {'100': 'A', '110': 'D', '010': '',\n",
    "            '101': \"B\\n($signal\\ R^2$)\", '111': 'C\\n($confound\\ R^2$)', '011': 'E',\n",
    "            '001': ''}\n",
    "\n",
    "plt.figure(figsize=(20, 20))\n",
    "plt.subplot(1, 2, 1)\n",
    "v = venn3(subsets=(1, 1, 0.1, 1, 0.3, 0.1, 0.6), set_labels=('y', 'c', 'X'))\n",
    "\n",
    "for key, value in mappings.items():\n",
    "    v.get_label_by_id(key).set_text(value)\n",
    "    v.get_label_by_id(key).set_size(15)\n",
    "    \n",
    "for label in ['A', 'B', 'C']:\n",
    "    v.get_label_by_id(label).set_size(50)\n",
    "\n",
    "plt.subplot(1, 2, 2)    \n",
    "v = venn3(subsets=(1.5, 1.5, 0.0, 1, 1, 1, 0.0), set_labels=('y', 'c', 'X'))\n",
    "\n",
    "for key, value in mappings.items():\n",
    "    if key in ['111', '110']:\n",
    "        continue\n",
    "    v.get_label_by_id(key).set_text(value)\n",
    "    v.get_label_by_id(key).set_size(15)\n",
    "    \n",
    "for label in ['A', 'B', 'C']:\n",
    "    v.get_label_by_id(label).set_size(50)\n",
    "\n",
    "plt.show()"
   ]
  },
  {
   "cell_type": "markdown",
   "metadata": {},
   "source": [
    "So, what must happen is that component **B** (right diagram) must increase with increasing $\\rho(cy)$."
   ]
  },
  {
   "cell_type": "markdown",
   "metadata": {},
   "source": [
    "## Scenario 3: what happens when we vary $\\rho(y.X\\ |\\ c)$?\n",
    "... or, in other words, what happens in we increase the true (unconfounded) signal?"
   ]
  },
  {
   "cell_type": "markdown",
   "metadata": {},
   "source": [
    "### Confound = categorical"
   ]
  },
  {
   "cell_type": "code",
   "execution_count": null,
   "metadata": {},
   "outputs": [],
   "source": [
    "permutations = 1\n",
    "\n",
    "data_args = dict(n_samp=240, k_feat=5, c_type='categorical', corr_cy=0.65,\n",
    "                 signal_r2=None, confound_r2=None, verbose=False)\n",
    "    \n",
    "signal_r2_vec = [0.00, 0.05, 0.1, 0.15, 0.2, 0.25, 0.3]\n",
    "confound_r2_vec = [0.00, 0.05, 0.1, 0.15, 0.2, 0.25, 0.3, 0.35]\n",
    "baseline_scores = np.zeros((permutations, len(signal_r2_vec)))\n",
    "\n",
    "results = []\n",
    "results_corr = []\n",
    "for perm in np.arange(permutations):\n",
    "\n",
    "    print(\"Permutation: %i\" % (perm + 1))\n",
    "\n",
    "    for i, signal_r2 in enumerate(signal_r2_vec):\n",
    "        data_args.update(confound_r2=None)\n",
    "        data_args.update(signal_r2=signal_r2)\n",
    "        base_args = deepcopy(data_args)\n",
    "        Xbase, ybase = generate_data(**base_args) \n",
    "        baseline_scores[perm, i] = cross_val_score(pipeline, Xbase, ybase, cv=n_splits).mean()\n",
    "        \n",
    "        for ii, confound_r2 in enumerate(confound_r2_vec):\n",
    "            data_args.update(confound_r2=confound_r2)\n",
    "            X, y, c = generate_data(**data_args)\n",
    "            results.append(run_without_confound_control(X, y, c, pipeline, n_splits, data_args))\n",
    "            results.append(run_with_confound_regression(X, y, c, pipeline, n_splits, data_args))\n",
    "            res, corrs = run_with_counterbalancing(X, y, c, pipeline, n_splits, data_args, c_type='categorical',\n",
    "                                                   metric='corr', threshold=0.01)\n",
    "            results_corr.append(corrs)\n",
    "            results.append(res)"
   ]
  },
  {
   "cell_type": "code",
   "execution_count": null,
   "metadata": {},
   "outputs": [],
   "source": [
    "sns.set(font_scale=1.25)\n",
    "df = pd.concat(results)\n",
    "df_corrs = pd.concat(results_corr)\n",
    "fig, axes = plt.subplots(len(signal_r2_vec), 3, figsize=(15, 25), gridspec_kw={'width_ratios': [1.5, 1, 1]})\n",
    "\n",
    "for i in range(len(axes)):\n",
    "    tmp = df[df.signal_r2 == signal_r2_vec[i]]\n",
    "    axes[i][0].set_title(\"$Signal R^2 = %.3f$\" % signal_r2_vec[i])\n",
    "    g = sns.pointplot(x='confound_r2', y='score', hue='method',\n",
    "                      data=tmp, size=5, aspect=2,\n",
    "                      palette=\"muted\", ax=axes[i][0])\n",
    "    g.legend_.remove()\n",
    "    \n",
    "    if i != len(axes) - 1:\n",
    "        axes[i][0].set_xlabel('')\n",
    "    \n",
    "    g.set_ylim((-0.1, 1.1))\n",
    "    axes[i][0].axhline(y=0.5, c='black', ls='--')\n",
    "    axes[i][0].axhline(y=baseline_scores[:, i].mean(axis=0), c='orange', ls='--')\n",
    "\n",
    "    tmp = df_corrs[df_corrs.signal_r2 == signal_r2_vec[i]]\n",
    "    axes[i][1].set_title(r'$\\rho(xc)$')\n",
    "    g = sns.barplot(x=\"confound_r2\", y=\"cx\", hue=\"before_after\", data=tmp, ax=axes[i][1])\n",
    "    g.legend_.remove()\n",
    "    axes[i][1].legend(loc='best')\n",
    "    axes[i][2].set_title(r'$\\rho(xy)$')\n",
    "    g = sns.barplot(x=\"confound_r2\", y=\"xy\", hue=\"before_after\", data=tmp, ax=axes[i][2])\n",
    "    g.legend_.remove()\n",
    "\n",
    "fig.tight_layout()"
   ]
  },
  {
   "cell_type": "markdown",
   "metadata": {},
   "source": [
    "Same plot, but x-axis and factor (signal r2) reversed:"
   ]
  },
  {
   "cell_type": "code",
   "execution_count": null,
   "metadata": {},
   "outputs": [],
   "source": [
    "sns.set(font_scale=1.25)\n",
    "df = pd.concat(results)\n",
    "df_corrs = pd.concat(results_corr)\n",
    "fig, axes = plt.subplots(len(confound_r2_vec), 3, figsize=(15, 55), gridspec_kw={'width_ratios': [1.5, 1, 1]})\n",
    "\n",
    "for i in range(len(axes)):\n",
    "    tmp = df[df.confound_r2 == confound_r2_vec[i]]\n",
    "    axes[i][0].set_title(\"$Confound R^2 = %.3f$\" % confound_r2_vec[i])\n",
    "    g = sns.pointplot(x='signal_r2', y='score', hue='method',\n",
    "                      data=tmp, size=5, aspect=2,\n",
    "                      palette=\"muted\", ax=axes[i][0])\n",
    "    g.legend_.remove()\n",
    "      \n",
    "    axes[i][0].plot(np.arange(len(signal_r2_vec)), baseline_scores.mean(axis=0), color='orange', ls='--')\n",
    "    \n",
    "    if i != len(axes) - 1:\n",
    "        axes[i][0].set_xlabel('')\n",
    "    \n",
    "    g.set_ylim((-0.1, 1.1))\n",
    "    axes[i][0].axhline(y=0.5, c='black', ls='--')\n",
    "    # axes[i][0].plot(x=np.arange(6), y=baseline_scores.mean(axis=0), c='orange', ls='--')\n",
    "\n",
    "    tmp = df_corrs[df_corrs.confound_r2 == confound_r2_vec[i]]\n",
    "    axes[i][1].set_title(r'$\\rho(xc)$')\n",
    "    g = sns.barplot(x=\"signal_r2\", y=\"cx\", hue=\"before_after\", data=tmp, ax=axes[i][1])\n",
    "    g.legend_.remove()\n",
    "    axes[i][1].legend(loc='best')\n",
    "    axes[i][2].set_title(r'$\\rho(xy)$')\n",
    "    g = sns.barplot(x=\"signal_r2\", y=\"xy\", hue=\"before_after\", data=tmp, ax=axes[i][2])\n",
    "    g.legend_.remove()\n",
    "\n",
    "fig.tight_layout()"
   ]
  },
  {
   "cell_type": "markdown",
   "metadata": {},
   "source": [
    "### Confound = continuous"
   ]
  },
  {
   "cell_type": "code",
   "execution_count": null,
   "metadata": {
    "scrolled": true
   },
   "outputs": [],
   "source": [
    "permutations = 1\n",
    "\n",
    "data_args = dict(n_samp=240, k_feat=5, c_type='continuous', corr_cy=0.8,\n",
    "                 signal_r2=None, confound_r2=None, verbose=False)\n",
    "    \n",
    "signal_r2_vec = [0.00, 0.05, 0.1, 0.15, 0.2, 0.25, 0.3]\n",
    "confound_r2_vec = [0.00, 0.05, 0.1, 0.15, 0.2, 0.25, 0.3, 0.35, 0.4, 0.45, 0.5, 0.55, 0.6]\n",
    "baseline_scores = np.zeros((permutations, len(signal_r2_vec)))\n",
    "\n",
    "results = []\n",
    "results_corr = []\n",
    "for perm in np.arange(permutations):\n",
    "\n",
    "    print(\"Permutation: %i\" % (perm + 1))\n",
    "\n",
    "    for i, signal_r2 in enumerate(signal_r2_vec):\n",
    "        print('Signal r2: %.3f' % signal_r2)\n",
    "        data_args.update(signal_r2=signal_r2)\n",
    "        base_args = deepcopy(data_args)\n",
    "        base_args['c_type'] = 'none'\n",
    "        Xbase, ybase = generate_data(**base_args) \n",
    "        baseline_scores[perm, i] = cross_val_score(pipeline, Xbase, ybase, cv=n_splits).mean()\n",
    "        \n",
    "        for ii, confound_r2 in enumerate(confound_r2_vec):\n",
    "            print('Confound r2: %.3f' % confound_r2)\n",
    "            data_args.update(confound_r2=confound_r2)\n",
    "            X, y, c = generate_data(**data_args)\n",
    "            results.append(run_without_confound_control(X, y, c, pipeline, n_splits, data_args))\n",
    "            results.append(run_with_confound_regression(X, y, c, pipeline, n_splits, data_args))\n",
    "            res, corrs = run_with_counterbalancing(X, y, c, pipeline, n_splits, data_args, c_type='continuous',\n",
    "                                                   metric='corr', threshold=0.01)\n",
    "            results_corr.append(corrs)\n",
    "            results.append(res)"
   ]
  },
  {
   "cell_type": "markdown",
   "metadata": {},
   "source": [
    "### EVERYTHING BELOW IS IRRELEVANT FOR NOW (LUKAS' PLAYGROUND)"
   ]
  },
  {
   "cell_type": "code",
   "execution_count": null,
   "metadata": {},
   "outputs": [],
   "source": [
    "K_FEAT = 5\n",
    "data_args = dict(n_samp=240, k_feat=K_FEAT, c_type='categorical', corr_cy=0.7,\n",
    "                 signal_r2=0.1, confound_r2=0.49, verbose=False)\n",
    "X, y, c = generate_data(**data_args)\n",
    "\n",
    "corrs_xc_before = [pearsonr(c, X[:, i])[0] for i in range(X.shape[1])]\n",
    "corrs_xy_before = [pearsonr(y, X[:, i])[0] for i in range(X.shape[1])]\n",
    "\n",
    "skf = CounterbalancedStratifiedSplit(X, y, c, n_splits=10, c_type='categorical', verbose=False)\n",
    "skf.check_counterbalance_and_subsample()\n",
    "X, y, c = X[skf.subsample_idx], y[skf.subsample_idx], c[skf.subsample_idx]    \n",
    "corrs_xc_after = np.array([pearsonr(c, X[:, i])[0] for i in range(X.shape[1])])\n",
    "corrs_xy_after = np.array([pearsonr(y, X[:, i])[0] for i in range(X.shape[1])])\n",
    "\n",
    "scores = np.zeros(n_splits)\n",
    "corrs_xy_train = np.zeros((10, K_FEAT))\n",
    "corrs_xy_test = np.zeros((10, K_FEAT))\n",
    "\n",
    "for i, (train_idx, test_idx) in enumerate(skf.split(X, y)):\n",
    "    X_train, y_train, c_train = X[train_idx], y[train_idx], c[train_idx]\n",
    "    X_test, y_test, c_test = X[test_idx], y[test_idx], c[test_idx]\n",
    "    \n",
    "    corrs_xy_train[i, :] = np.array([pearsonr(y_train, X_train[:, i])[0] for i in range(X.shape[1])])\n",
    "    corrs_xy_test[i, :] = np.array([pearsonr(y_test, X_test[:, i])[0] for i in range(X.shape[1])])\n",
    "    pipeline.fit(X_train, y_train)\n",
    "    \n",
    "    scores[i] = pipeline.score(X_test, y_test)\n",
    "print(scores.mean())"
   ]
  },
  {
   "cell_type": "markdown",
   "metadata": {},
   "source": [
    "## Scenario 4: what happens if we vary the number of samples? "
   ]
  },
  {
   "cell_type": "markdown",
   "metadata": {},
   "source": [
    "### Confound = categorical"
   ]
  },
  {
   "cell_type": "code",
   "execution_count": null,
   "metadata": {},
   "outputs": [],
   "source": [
    "n_splits = 10\n",
    "permutations = 3\n",
    "\n",
    "pipeline = Pipeline([('scaler', StandardScaler()),\n",
    "                     ('clf', SVC(kernel='linear'))])\n",
    "\n",
    "data_args = dict(n_samp=None, k_feat=5, c_type='categorical', corr_cy=None,\n",
    "                 signal_r2=0.1, confound_r2=0.1, verbose=False)\n",
    "\n",
    "n_samples_vec = [20, 50, 100, 200, 500, 1000]\n",
    "\n",
    "baseline_scores = np.zeros((permutations, len(n_samples_vec)))\n",
    "\n",
    "results = []\n",
    "for perm in np.arange(permutations):\n",
    "\n",
    "    print(\"Permutation: %i\" % (perm + 1))\n",
    "    \n",
    "    Xbase, ybase = generate_data(**base_args) \n",
    "    baseline_scores[perm] = cross_val_score(pipeline, Xbase, ybase, cv=n_splits).mean()\n",
    "\n",
    "    for i, n_samp in enumerate(n_samples_vec):\n",
    "        data_args.update(n_samp=n_samp)\n",
    "        \n",
    "        base_args = deepcopy(data_args)\n",
    "        base_args['c_type'] = 'none'\n",
    "        Xbase, ybase = generate_data(**base_args) \n",
    "        baseline_scores[perm, i] = cross_val_score(pipeline, Xbase, ybase, cv=n_splits).mean()\n",
    "        \n",
    "        for corr_cy in [0.4, 0.5, 0.6, 0.7]:\n",
    "            data_args.update(corr_cy=corr_cy)\n",
    "            X, y, c = generate_data(**data_args)\n",
    "            results.append(run_without_confound_control(X, y, c, pipeline, n_splits, data_args))\n",
    "            results.append(run_with_confound_regression(X, y, c, pipeline, n_splits, data_args))\n",
    "            results.append(run_with_counterbalancing(X, y, c, pipeline, n_splits, data_args))\n",
    "            \n",
    "sns.set(font_scale=2)\n",
    "df = pd.concat(results)\n",
    "g = sns.factorplot(x='n_samp', y='score', hue='method', col='corr_cy', col_wrap=2,\n",
    "                   data=df, size=5, aspect=2, legend_out=False,\n",
    "                   palette=\"muted\", legend=True)\n",
    "g = g.map(plt.axhline, y=0.5, c='black', ls='--')\n",
    "g.set_axis_labels('N samples', 'Score')\n",
    "\n",
    "for ax in g.axes:\n",
    "    ax.plot(np.arange(len(n_samples_vec)), baseline_scores.mean(axis=0), color='red', ls='--')"
   ]
  },
  {
   "cell_type": "markdown",
   "metadata": {},
   "source": [
    "### Confound = continuous"
   ]
  },
  {
   "cell_type": "code",
   "execution_count": null,
   "metadata": {},
   "outputs": [],
   "source": [
    "n_splits = 10\n",
    "permutations = 2\n",
    "\n",
    "pipeline = Pipeline([('scaler', StandardScaler()),\n",
    "                     ('clf', SVC(kernel='linear'))])\n",
    "\n",
    "data_args = dict(n_samp=None, k_feat=5, c_type='continuous', corr_cy=None,\n",
    "                 signal_r2=0.1, confound_r2=0.1, verbose=False)\n",
    "\n",
    "n_samples_vec = [20, 50, 100, 200, 500, 1000]\n",
    "\n",
    "baseline_scores = np.zeros((permutations, len(n_samples_vec)))\n",
    "\n",
    "results = []\n",
    "for perm in np.arange(permutations):\n",
    "\n",
    "    print(\"Permutation: %i\" % (perm + 1))\n",
    "    \n",
    "    for i, n_samp in enumerate(n_samples_vec):\n",
    "        data_args.update(n_samp=n_samp)\n",
    "        \n",
    "        base_args = deepcopy(data_args)\n",
    "        base_args['c_type'] = 'none'\n",
    "        Xbase, ybase = generate_data(**base_args) \n",
    "        baseline_scores[perm, i] = cross_val_score(pipeline, Xbase, ybase, cv=n_splits).mean()\n",
    "        \n",
    "        for corr_cy in [0.4, 0.5, 0.6, 0.7]:\n",
    "            data_args.update(corr_cy=corr_cy)\n",
    "            X, y, c = generate_data(**data_args)\n",
    "            results.append(run_without_confound_control(X, y, c, pipeline, n_splits, data_args))\n",
    "            results.append(run_with_confound_regression(X, y, c, pipeline, n_splits, data_args))\n",
    "            results.append(run_with_counterbalancing(X, y, c, pipeline, n_splits, data_args,\n",
    "                                                     c_type='continuous', metric='corr', threshold=0.01))\n",
    "            \n",
    "sns.set(font_scale=2)\n",
    "df = pd.concat(results)\n",
    "g = sns.factorplot(x='n_samp', y='score', hue='method', col='corr_cy', col_wrap=2,\n",
    "                   data=df, size=5, aspect=2, legend_out=False,\n",
    "                   palette=\"muted\", legend=True)\n",
    "g = g.map(plt.axhline, y=0.5, c='black', ls='--')\n",
    "g.set_axis_labels('N samples', 'Score')\n",
    "for ax in g.axes:\n",
    "    ax.plot(np.arange(len(n_samples_vec)), baseline_scores.mean(axis=0), color='red', ls='--')"
   ]
  },
  {
   "cell_type": "markdown",
   "metadata": {},
   "source": [
    "## Scenario 5: what happens when we vary the number of features?\n",
    "We also vary the strength of the confound signal in X (confound_r2)."
   ]
  },
  {
   "cell_type": "markdown",
   "metadata": {},
   "source": [
    "### Confound = categorical"
   ]
  },
  {
   "cell_type": "code",
   "execution_count": null,
   "metadata": {},
   "outputs": [],
   "source": [
    "n_splits = 10\n",
    "permutations = 1\n",
    "\n",
    "pipeline = Pipeline([('scaler', StandardScaler()),\n",
    "                     ('clf', SVC(kernel='linear'))])\n",
    "\n",
    "data_args = dict(n_samp=240, k_feat=None, c_type='categorical', corr_cy=0.7,\n",
    "                 signal_r2=0.1, confound_r2=None, verbose=False)\n",
    "\n",
    "k_feat_vec = [1, 5, 10, 20, 50, 100, 500, 1000, 10000]\n",
    "\n",
    "baseline_scores = np.zeros((permutations, len(k_feat_vec)))\n",
    "\n",
    "results = []\n",
    "for perm in np.arange(permutations):\n",
    "\n",
    "    print(\"Permutation: %i\" % (perm + 1))\n",
    "    \n",
    "    for i, k_feat in enumerate(k_feat_vec):\n",
    "        data_args.update(k_feat=k_feat)\n",
    "        print(\"k feat: %i\" % k_feat)\n",
    "        base_args = deepcopy(data_args)\n",
    "        base_args['c_type'] = 'none'\n",
    "        Xbase, ybase = generate_data(**base_args) \n",
    "        baseline_scores[perm, i] = cross_val_score(pipeline, Xbase, ybase, cv=n_splits).mean()\n",
    "        \n",
    "        for confound_r2 in [0, 0.1, 0.2, 0.3, 0.4]:\n",
    "            data_args.update(confound_r2=confound_r2)\n",
    "            X, y, c = generate_data(**data_args)\n",
    "            results.append(run_without_confound_control(X, y, c, pipeline, n_splits, data_args))\n",
    "            results.append(run_with_confound_regression(X, y, c, pipeline, n_splits, data_args))\n",
    "            results.append(run_with_counterbalancing(X, y, c, pipeline, n_splits, data_args,\n",
    "                                                     c_type='categorical'))\n",
    "\n",
    "sns.set(font_scale=2)\n",
    "df = pd.concat(results)\n",
    "g = sns.factorplot(x='k_feat', y='score', hue='method', col='confound_r2', col_wrap=2,\n",
    "                   data=df, size=5, aspect=2, legend_out=False,\n",
    "                   palette=\"muted\", legend=True)\n",
    "g = g.map(plt.axhline, y=0.5, c='black', ls='--')\n",
    "g.set_axis_labels('K features', 'Score')\n",
    "\n",
    "for ax in g.axes:\n",
    "    ax.plot(np.arange(len(k_feat_vec)), baseline_scores.mean(axis=0), color='red', ls='--')"
   ]
  },
  {
   "cell_type": "markdown",
   "metadata": {},
   "source": [
    "### Confound = continuous"
   ]
  },
  {
   "cell_type": "code",
   "execution_count": null,
   "metadata": {},
   "outputs": [],
   "source": [
    "n_splits = 10\n",
    "permutations = 1\n",
    "\n",
    "pipeline = Pipeline([('scaler', StandardScaler()),\n",
    "                     ('clf', SVC(kernel='linear'))])\n",
    "\n",
    "data_args = dict(n_samp=240, k_feat=None, c_type='continuous', corr_cy=0.7,\n",
    "                 signal_r2=0.1, confound_r2=None, verbose=False)\n",
    "\n",
    "k_feat_vec = [1, 5, 10, 20, 50, 100, 500, 1000, 10000]\n",
    "\n",
    "baseline_scores = np.zeros((permfor ax in g.axes:\n",
    "    ax.plot(np.arange(len(k_feat_vec)), baseline_scores.mean(axis=0), color='red', ls='--')utations, len(k_feat_vec)))\n",
    "\n",
    "results = []\n",
    "for perm in np.arange(permutations):\n",
    "\n",
    "    print(\"Permutation: %i\" % (perm + 1))\n",
    "    \n",
    "    for i, k_feat in enumerate(k_feat_vec):\n",
    "        data_args.update(k_feat=k_feat)\n",
    "        print(\"k feat: %i\" % k_feat)\n",
    "        base_args = deepcopy(data_args)\n",
    "        base_args['c_type'] = 'none'\n",
    "        Xbase, ybase = generate_data(**base_args) \n",
    "        baseline_scores[perm, i] = cross_val_score(pipeline, Xbase, ybase, cv=n_splits).mean()\n",
    "        \n",
    "        for confound_r2 in [0, 0.1, 0.2, 0.3, 0.4]:\n",
    "            data_args.update(confound_r2=confound_r2)\n",
    "            X, y, c = generate_data(**data_args)\n",
    "            results.append(run_without_confound_control(X, y, c, pipeline, n_splits, data_args))\n",
    "            results.append(run_with_confound_regression(X, y, c, pipeline, n_splits, data_args))\n",
    "            results.append(run_with_counterbalancing(X, y, c, pipeline, n_splits, data_args,\n",
    "                                                     c_type='continuous', metric='corr', threshold=0.01))\n",
    "\n",
    "\n",
    "sns.set(font_scale=2)\n",
    "df = pd.concat(results)\n",
    "g = sns.factorplot(x='k_feat', y='score', hue='method', col='confound_r2', col_wrap=2,\n",
    "                   data=df, size=5, aspect=2, legend_out=False,\n",
    "                   palette=\"muted\", legend=True)\n",
    "g = g.map(plt.axhline, y=0.5, c='black', ls='--')\n",
    "g.set_axis_labels('K features', 'Score')\n",
    "for ax in g.axes:\n",
    "    ax.plot(np.arange(len(k_feat_vec)), baseline_scores.mean(axis=0), color='red', ls='--')"
   ]
  },
  {
   "cell_type": "markdown",
   "metadata": {},
   "source": [
    "## Messing around"
   ]
  },
  {
   "cell_type": "code",
   "execution_count": null,
   "metadata": {
    "scrolled": true
   },
   "outputs": [],
   "source": [
    "n_splits = 10\n",
    "X, y, c = generate_data(n_samp=240, k_feat=5, c_type='categorical', corr_cy=0.6,\n",
    "                        signal_r2=0.1, confound_r2=0.2, verbose=False)\n",
    "\n",
    "skf = CounterbalancedStratifiedSplit(X, y, c, n_splits=n_splits, c_type='categorical', verbose=True)\n",
    "skf.check_counterbalance_and_subsample()\n",
    "\n",
    "X, y, c = X[skf.subsample_idx], y[skf.subsample_idx], c[skf.subsample_idx]    \n",
    "\n",
    "scores = np.zeros(n_splits)\n",
    "y_c_r2 = np.zeros(n_splits)\n",
    "y_xc_r2 = np.zeros((n_splits, X.shape[1]))\n",
    "y_x_r2 = np.zeros((n_splits, X.shape[1]))\n",
    "unique_var_x = np.zeros((n_splits, X.shape[1]))\n",
    "unique_var_c = np.zeros((n_splits, X.shape[1]))\n",
    "shared_var_xc = np.zeros((n_splits, X.shape[1]))\n",
    "d = np.zeros((n_splits, X.shape[1]))\n",
    "\n",
    "this_pipe = pipeline\n",
    "\n",
    "for i, (train_idx, test_idx) in enumerate(skf.split(X, y)):\n",
    "    X_train, y_train = X[train_idx], y[train_idx]\n",
    "    X_test, y_test = X[test_idx], y[test_idx]\n",
    "    c_train = c[train_idx][:, np.newaxis]\n",
    "    y_c_r2[i] = get_r2(c_train, y_train)\n",
    "    \n",
    "    for ii in range(X_train.shape[1]):\n",
    "        y_xc_r2[i, ii] = get_r2(np.hstack((X_train[:, ii][:, np.newaxis], c_train)), y_train)\n",
    "        y_x_r2[i, ii] = get_r2(X_train[:, ii], y_train)\n",
    "        \n",
    "        resid_y = 1 - y_xc_r2[i, ii]  # A = 1 - (B + C + D)\n",
    "        unique_var_x[i, ii] = y_xc_r2[i, ii] - y_c_r2[i]  # B\n",
    "        unique_var_c[i, ii] = y_xc_r2[i, ii] - y_x_r2[i, ii]  # D\n",
    "        shared_var_xc[i, ii] = 1 - resid_y - unique_var_x[i, ii] - unique_var_c[i, ii]  # C = \n",
    "        d[i, ii] = y_c_r2[i] - shared_var_xc[i, ii]\n",
    "    \n",
    "    print(\"TRAIN\")\n",
    "    print(\"R2(y_xc)): %r\" % np.round(y_xc_r2.mean(axis=0), 4).tolist())\n",
    "    print(\"R2(y_x): %r\" % np.round(y_x_r2.mean(axis=0), 4).tolist())\n",
    "    print(\"R2(signal): %r\" % np.round(unique_var_x.mean(axis=0), 4).tolist())\n",
    "    print(\"R2(confound): %r\" % np.round(shared_var_xc.mean(axis=0), 4).tolist())\n",
    "    print(\"R2(D): %r\" % np.round(d.mean(axis=0), 4).tolist())\n",
    "    \n",
    "    print('')\n",
    "\n",
    "    c_test = c[test_idx][:, np.newaxis]\n",
    "    for ii in range(X_test.shape[1]):\n",
    "        y_xc_r2[i, ii] = get_r2(np.hstack((X_test[:, ii][:, np.newaxis], c_test)), y_test)\n",
    "        y_x_r2[i, ii] = get_r2(X_test[:, ii], y_test)\n",
    "        \n",
    "        resid_y = 1 - y_xc_r2[i, ii]  # A = 1 - (B + C + D)\n",
    "        unique_var_x[i, ii] = y_xc_r2[i, ii] - y_c_r2[i]  # B\n",
    "        unique_var_c[i, ii] = y_xc_r2[i, ii] - y_x_r2[i, ii]  # D\n",
    "        shared_var_xc[i, ii] = 1 - resid_y - unique_var_x[i, ii] - unique_var_c[i, ii]  # C = \n",
    "        d[i, ii] = y_c_r2[i] - shared_var_xc[i, ii]\n",
    "    \n",
    "    print(\"TEST\")\n",
    "    print(\"R2(y_xc)): %r\" % np.round(y_xc_r2.mean(axis=0), 4).tolist())\n",
    "    print(\"R2(y_x): %r\" % np.round(y_x_r2.mean(axis=0), 4).tolist())\n",
    "    print(\"R2(signal): %r\" % np.round(unique_var_x.mean(axis=0), 4).tolist())\n",
    "    print(\"R2(confound): %r\" % np.round(shared_var_xc.mean(axis=0), 4).tolist())\n",
    "    print(\"R2(D): %r\" % np.round(d.mean(axis=0), 4).tolist())\n",
    "    \n",
    "    print('')\n",
    "\n",
    "    \n",
    "    this_pipe.fit(X_train, y_train)\n",
    "    scores[i] = this_pipe.score(X_test, y_test)\n",
    "print(scores.mean())"
   ]
  },
  {
   "cell_type": "code",
   "execution_count": null,
   "metadata": {},
   "outputs": [],
   "source": [
    "n_splits = 10\n",
    "X, y, c = generate_data(n_samp=240, k_feat=5, c_type='categorical', corr_cy=0.4,\n",
    "                        signal_r2=0.1, confound_r2=0.1, verbose=False)\n",
    "\n",
    "scores = np.zeros(n_splits)\n",
    "y_c_r2 = np.zeros(n_splits)\n",
    "y_xc_r2 = np.zeros((n_splits, X.shape[1]))\n",
    "y_x_r2 = np.zeros((n_splits, X.shape[1]))\n",
    "unique_var_x = np.zeros((n_splits, X.shape[1]))\n",
    "unique_var_c = np.zeros((n_splits, X.shape[1]))\n",
    "shared_var_xc = np.zeros((n_splits, X.shape[1]))\n",
    "\n",
    "skf = StratifiedKFold(n_splits=n_splits)\n",
    "this_pipe = Pipeline(pipeline)\n",
    "for i, (train_idx, test_idx) in enumerate(skf.split(X, y)):\n",
    "    cr = ConfoundRegressor(confound=c, fit_idx=train_idx, cross_validate=True)\n",
    "    X_train, y_train = X[train_idx], y[train_idx]\n",
    "    X_test, y_test = X[test_idx], y[test_idx]\n",
    "\n",
    "    c_train = c[train_idx][:, np.newaxis]\n",
    "    y_c_r2[i] = get_r2(c_train, y_train)\n",
    "\n",
    "    X_train = cr.fit_transform(X_train)\n",
    "    X_test = cr.transform(X_test)\n",
    "    \n",
    "    for ii in range(X_train.shape[1]):\n",
    "        y_xc_r2[i, ii] = get_r2(np.hstack((X_train[:, ii][:, np.newaxis], c_train)), y_train)\n",
    "        y_x_r2[i, ii] = get_r2(X_train[:, ii], y_train)\n",
    "        \n",
    "        resid_y = 1 - y_xc_r2[i, ii]  # A = 1 - (B + C + D)\n",
    "        unique_var_x[i, ii] = y_xc_r2[i, ii] - y_c_r2[i]  # B\n",
    "        unique_var_c[i, ii] = y_xc_r2[i, ii] - y_x_r2[i, ii]  # D\n",
    "        shared_var_xc[i, ii] = 1 - resid_y - unique_var_x[i, ii] - unique_var_c[i, ii]  # C = \n",
    "    \n",
    "    print(\"R2(y_xc)): %r\" % np.round(y_xc_r2.mean(axis=0), 4).tolist())\n",
    "    print(\"R2(y_x): %r\" % np.round(y_x_r2.mean(axis=0), 4).tolist())\n",
    "    print(\"R2(signal): %r\" % np.round(unique_var_x.mean(axis=0), 4).tolist())\n",
    "    print(\"R2(confound): %r\" % np.round(shared_var_xc.mean(axis=0), 4).tolist())\n",
    "    \n",
    "    print('')\n",
    "    \n",
    "    this_pipe.fit(X_train, y_train)\n",
    "    scores[i] = this_pipe.score(X_test, y_test)\n",
    "print(scores.mean())"
   ]
  },
  {
   "cell_type": "markdown",
   "metadata": {},
   "source": [
    "### An old version of the data generation algorithm\n",
    "Didn't really work."
   ]
  },
  {
   "cell_type": "code",
   "execution_count": null,
   "metadata": {},
   "outputs": [],
   "source": [
    "def generate_data_from_dist(n_samp, k_feat, c_type, corr_cy, signal_r2, confound_r2=None, verbose=False, plot=False):\n",
    "    \"\"\" Similar to above, but draw generative parameters from distribution. \"\"\"\n",
    "    \n",
    "    if n_samp % 2 != 0:\n",
    "        raise ValueError(\"Please select an even number of samples \"\n",
    "                         \"(Makes things easier.)\")\n",
    "\n",
    "    if confound_r2 is not None:\n",
    "        if np.abs(corr_cy) < np.sqrt(confound_r2):\n",
    "            raise ValueError(\"The desired corr_cy value is less than the square \"\n",
    "                             \"root of the desired confound R-squared ... This is \"\n",
    "                             \"impossible to generate.\")\n",
    "        \n",
    "    # Generate y (balanced, 50% class 0, 50% class 1)\n",
    "    y = np.repeat([0, 1], repeats=n_samp / 2)\n",
    "    \n",
    "    # Generate c (confound), with given correlation corr_cy\n",
    "    if c_type == 'categorical':\n",
    "        # Simply shift (\"roll\") y to create correlation using the \"formula\":\n",
    "        # to-shift = N / 4 * (1 - corr_cy)\n",
    "        to_roll = int((n_samp / 4) * (1 - corr_cy))\n",
    "        c = np.roll(y, to_roll)\n",
    "    elif c_type == 'continuous':\n",
    "        # If c is continuous, just sample y + random noise\n",
    "        noise_factor = 100\n",
    "        c = y + np.random.randn(n_samp) * noise_factor\n",
    "        corr = pearsonr(c, y)[0]\n",
    "        \n",
    "        while np.abs(corr - corr_cy) > 0.01:\n",
    "            # Decrease noise if the difference is too big\n",
    "            noise_factor -= 0.01\n",
    "            c = y + np.random.randn(n_samp) * noise_factor\n",
    "            corr = pearsonr(c, y)[0]        \n",
    "    else:\n",
    "        raise ValueError(\"For c_type, please select from {'continuous', \"\n",
    "                         \"'categorical'}\")\n",
    "\n",
    "    noise_factor = 0.1\n",
    "\n",
    "    while True:\n",
    "        \n",
    "        gen_y_mean = np.random.normal(0, 1, size=1)\n",
    "        gen_c_mean = np.random.normal(0, 1, size=1)\n",
    "        gen_y_std = 0.5#np.abs(np.random.normal(0.0, 0.1, size=1))\n",
    "        gen_c_std = 0.5#np.abs(np.random.normal(0.0, 0.1, size=1))\n",
    "        \n",
    "        should_continue = False\n",
    "        gen_beta_y = np.random.normal(gen_y_mean, gen_y_std, size=(n_samp, k_feat))\n",
    "        gen_beta_c = np.random.normal(gen_c_mean, gen_c_std, size=(n_samp, k_feat))\n",
    "\n",
    "        X = (gen_beta_y * y[:, np.newaxis] + \n",
    "             gen_beta_c * c[:, np.newaxis] + \n",
    "             np.random.randn(n_samp, k_feat) * noise_factor)\n",
    "        \n",
    "        y_x_r2 = np.array([get_r2(iv=X[:, i, np.newaxis], dv=y) for i in range(k_feat)])  # B + C\n",
    "        \n",
    "        if confound_r2 is None:\n",
    "            # We don't care about confound_r2\n",
    "            unique_var_x = y_x_r2\n",
    "        else:\n",
    "            # Fit y = b1X + b2C\n",
    "            y_xc_r2 = np.array([get_r2(iv=np.hstack((X[:, i, np.newaxis], c[:, np.newaxis])), dv=y)\n",
    "                                for i in range(k_feat)])  # B + C + D\n",
    "            resid_y = 1 - y_xc_r2  # A = 1 - (B + C + D)\n",
    "\n",
    "            # Fit y = b1C\n",
    "            y_c_r2 = get_r2(iv=c, dv=y)  # C + D\n",
    "            unique_var_x = y_xc_r2 - y_c_r2  # B\n",
    "\n",
    "        # Increase/decrease generative param for y if difference \n",
    "        # r(yx.c) is too small/big ...\n",
    "        difference_obs_vs_desired = unique_var_x.mean() - signal_r2\n",
    "        if np.abs(difference_obs_vs_desired) > 0.01:\n",
    "            if difference_obs_vs_desired < 0:\n",
    "                gen_y_mean += 0.01\n",
    "            else:\n",
    "                gen_y_mean -= 0.01\n",
    "\n",
    "            if confound_r2 is None:\n",
    "                continue\n",
    "            else:\n",
    "                should_continue = True\n",
    "        else:\n",
    "            if confound_r2 is None:\n",
    "                break\n",
    "  \n",
    "        unique_var_c = y_xc_r2 - y_x_r2  # D\n",
    "        shared_var_xc = 1 - resid_y - unique_var_x - unique_var_c  # C\n",
    "\n",
    "        # Also check if shared variance of c and x (component C) is appropriate;\n",
    "        # if not, adjust generative parameter and CONTINUE\n",
    "        difference_obs_vs_desired = shared_var_xc.mean() - confound_r2\n",
    "        if np.abs(difference_obs_vs_desired) > 0.01:\n",
    "            if difference_obs_vs_desired < 0:\n",
    "                gen_c_mean += 0.05\n",
    "            else:\n",
    "                gen_c_mean -= 0.05\n",
    "            should_continue = True\n",
    "\n",
    "        if should_continue:\n",
    "            \n",
    "            if verbose:\n",
    "                print(\"Total r2: %.3f\" % y_x_r2.mean())\n",
    "                print(\"Confound r2: %.3f\" % shared_var_xc.mean())\n",
    "                print(\"Signal r2: %.3f\" % unique_var_x.mean())\n",
    "                print(\"gen_y_mean: %.2f\" % gen_y_mean)\n",
    "                print(\"gen_c_mean: %.2f\" % gen_c_mean, end='\\n\\n')\n",
    "            continue\n",
    "\n",
    "        # If we didn't encounter a \"break\" statement, we must have found\n",
    "        # data with the correct specifications ...\n",
    "        signal_r2_values = unique_var_x\n",
    "        if confound_r2 is not None:\n",
    "            confound_r2_values = shared_var_xc\n",
    "        break\n",
    "\n",
    "    if verbose:\n",
    "        print(\"Signal r2: %.3f\" % signal_r2_values.mean())\n",
    "        \n",
    "        if confound_r2 is not None:\n",
    "            print(\"Confound r2: %.3f\" % confound_r2_values.mean())\n",
    "        \n",
    "        print(\"Final gen_y_mean: %.3f\" % gen_y_mean)\n",
    "        print(\"Final gen_c_mean: %.3f\" % gen_c_mean)\n",
    "    \n",
    "    if plot:\n",
    "        kinds = ['signal_r2'] * k_feat + ['confound_r2'] * k_feat\n",
    "        df = dict(corrs=np.hstack((signal_r2_values, confound_r2_values)), kind=kinds)\n",
    "        g = sns.FacetGrid(pd.DataFrame(df), col=\"kind\", margin_titles=True)\n",
    "        g.map(plt.hist, \"corrs\", color=\"steelblue\")\n",
    "        \n",
    "    if confound_r2 is None:\n",
    "        return X, y\n",
    "    else:\n",
    "        return X, y, c"
   ]
  }
 ],
 "metadata": {
  "kernelspec": {
   "display_name": "Python 3",
   "language": "python",
   "name": "python3"
  },
  "language_info": {
   "codemirror_mode": {
    "name": "ipython",
    "version": 3
   },
   "file_extension": ".py",
   "mimetype": "text/x-python",
   "name": "python",
   "nbconvert_exporter": "python",
   "pygments_lexer": "ipython3",
   "version": "3.6.1"
  }
 },
 "nbformat": 4,
 "nbformat_minor": 2
}
