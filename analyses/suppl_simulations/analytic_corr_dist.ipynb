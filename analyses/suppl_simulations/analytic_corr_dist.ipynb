{
 "cells": [
  {
   "cell_type": "code",
   "execution_count": 1,
   "metadata": {},
   "outputs": [],
   "source": [
    "from scipy.interpolate import interp1d\n",
    "from scipy.special import hyp2f1, beta, gamma, gammaln\n",
    "from numpy.random import uniform\n",
    "import numpy as np\n",
    "import matplotlib.pyplot as plt\n",
    "%matplotlib inline\n",
    "from statsmodels.distributions.empirical_distribution import ECDF"
   ]
  },
  {
   "cell_type": "code",
   "execution_count": 2,
   "metadata": {},
   "outputs": [],
   "source": [
    "def rpdf(n, rs):\n",
    "    \"\"\" n = number of samples, rs = correlation coefficients for which you want to get the density \"\"\"\n",
    "    num = (1-rs**2)**((n-4)/2)\n",
    "    den = 1/beta(.5, (n-2)/2)\n",
    "    out = np.multiply(num, den)\n",
    "    return out\n",
    "\n",
    "def rpdf_gen(rho, n, rs):\n",
    "    \"\"\" rho = population correlation coefficient. If rho = 0, then this function simplifies to the above function \"\"\"\n",
    "    lnum = np.log(n-2) + gammaln(n-1) + np.log((1-rho**2)**(.5*(n-1))) + np.log((1-rs**2)**(.5*(n-4)))\n",
    "    lden = np.log(np.sqrt(2*np.pi)) + gammaln(n-.5) + np.log((1-rho*rs)**(n-3/2))\n",
    "    fac = lnum - lden\n",
    "    hyp = hyp2f1(.5, .5, (2*n-1)/2, (rho*rs+1)/2)\n",
    "    return np.exp(fac) * hyp"
   ]
  },
  {
   "cell_type": "code",
   "execution_count": 3,
   "metadata": {},
   "outputs": [
    {
     "name": "stderr",
     "output_type": "stream",
     "text": [
      "/home/lukas/anaconda3/lib/python3.6/site-packages/ipykernel_launcher.py:10: RuntimeWarning: divide by zero encountered in log\n",
      "  # Remove the CWD from sys.path while we load stuff.\n"
     ]
    },
    {
     "data": {
      "image/png": "[encoded data removed]",
      "text/plain": [
       "<matplotlib.figure.Figure at 0x7fed4f05f9b0>"
      ]
     },
     "metadata": {},
     "output_type": "display_data"
    },
    {
     "data": {
      "text/plain": [
       "0.099766923442736521"
      ]
     },
     "execution_count": 3,
     "metadata": {},
     "output_type": "execute_result"
    },
    {
     "data": {
      "image/png": "[encoded data removed]",
      "text/plain": [
       "<matplotlib.figure.Figure at 0x7fed4ec40ef0>"
      ]
     },
     "metadata": {},
     "output_type": "display_data"
    }
   ],
   "source": [
    "# To sample from a PDF, use the inverted CDF \n",
    "# (aka quantile function: a function which tells you, for every percentile you z, \n",
    "# at which x the z percent of the data is left x in the distribution)\n",
    "# Then, generate uniform randomly distributed numbers, and use the inverted CDF on those numbers.\n",
    "\n",
    "xs = uniform(0, 1, 10000)\n",
    "rs = np.arange(-1, 1, .001)\n",
    "ys = rpdf_gen(0, 100, rs)\n",
    "cdf = ECDF(ys)\n",
    "inverted_edf = interp1d(np.cumsum(ys[ys>0])/np.sum(ys[ys>0]), rs[ys>0], bounds_error=False)\n",
    "\n",
    "# This is what the inverted ECDF looks like\n",
    "x = np.arange(-1, 1, .01)\n",
    "y = inverted_edf(x)\n",
    "plt.plot(x, y)\n",
    "plt.show()\n",
    "\n",
    "# Now, we can sample 10000 values from the inverted EDCF using a uniform dist\n",
    "samples = np.random.uniform(0, 1, 10000)\n",
    "samples_transformed = inverted_edf(samples)\n",
    "plt.hist(samples_transformed)\n",
    "np.std(samples_transformed)  # 0.1 for rho=0, decreases with higher rhos"
   ]
  },
  {
   "cell_type": "markdown",
   "metadata": {},
   "source": [
    "#### plots"
   ]
  },
  {
   "cell_type": "code",
   "execution_count": 51,
   "metadata": {},
   "outputs": [
    {
     "name": "stderr",
     "output_type": "stream",
     "text": [
      "/Users/steven/anaconda/envs/python3/lib/python3.6/site-packages/ipykernel/__main__.py:10: RuntimeWarning: divide by zero encountered in log\n"
     ]
    },
    {
     "data": {
      "text/plain": [
       "[<matplotlib.lines.Line2D at 0x10fd95b00>]"
      ]
     },
     "execution_count": 51,
     "metadata": {},
     "output_type": "execute_result"
    },
    {
     "data": {
      "image/png": "[encoded data removed]",
      "text/plain": [
       "<matplotlib.figure.Figure at 0x10fd956d8>"
      ]
     },
     "metadata": {},
     "output_type": "display_data"
    }
   ],
   "source": [
    "rs = np.arange(-1, 1, .001)\n",
    "ys = rpdf(100, rs)\n",
    "plt.plot(rs, ys)\n",
    "\n",
    "ys = rpdf_gen(.6, 100, rs)\n",
    "plt.plot(rs, ys)"
   ]
  }
 ],
 "metadata": {
  "anaconda-cloud": {},
  "kernelspec": {
   "display_name": "Python 3",
   "language": "python",
   "name": "python3"
  },
  "language_info": {
   "codemirror_mode": {
    "name": "ipython",
    "version": 3
   },
   "file_extension": ".py",
   "mimetype": "text/x-python",
   "name": "python",
   "nbconvert_exporter": "python",
   "pygments_lexer": "ipython3",
   "version": "3.6.1"
  }
 },
 "nbformat": 4,
 "nbformat_minor": 1
}
