{
 "cells": [
  {
   "cell_type": "markdown",
   "metadata": {},
   "source": [
    "# Include confounds in model"
   ]
  },
  {
   "cell_type": "code",
   "execution_count": 43,
   "metadata": {},
   "outputs": [],
   "source": [
    "import numpy as np\n",
    "from scipy.stats import pearsonr, ttest_ind\n",
    "from sklearn.preprocessing import StandardScaler\n",
    "from sklearn.svm import SVC\n",
    "from sklearn.pipeline import make_pipeline\n",
    "from sklearn.model_selection import cross_val_score\n",
    "import matplotlib.pyplot as plt\n",
    "%matplotlib inline"
   ]
  },
  {
   "cell_type": "code",
   "execution_count": 48,
   "metadata": {},
   "outputs": [
    {
     "name": "stderr",
     "output_type": "stream",
     "text": [
      "/home/lukas/anaconda3/lib/python3.6/site-packages/ipykernel_launcher.py:14: RuntimeWarning: covariance is not positive-semidefinite.\n",
      "  \n"
     ]
    },
    {
     "name": "stdout",
     "output_type": "stream",
     "text": [
      "0.6040161616161616\n",
      "0.6753474747474748\n",
      "Ttest_indResult(statistic=-5.9964785466240835, pvalue=9.413325134424096e-09)\n"
     ]
    }
   ],
   "source": [
    "iters = 100\n",
    "pipe = make_pipeline(StandardScaler(), SVC(kernel='linear'))\n",
    "\n",
    "scores = np.zeros(iters)\n",
    "scores_include = np.zeros(iters)\n",
    "for i in range(iters):\n",
    "    corr_yX, corr_yC, corr_XC = np.random.uniform(-.6, .6, 3)\n",
    "    cov = np.array([\n",
    "        [1, corr_yX, corr_yC],\n",
    "        [corr_yX, 1, corr_XC],\n",
    "        [corr_yC, corr_XC, 1]\n",
    "    ])\n",
    "\n",
    "    data = np.random.multivariate_normal(np.zeros(3), cov, (100))\n",
    "    X, y, C = data[:, 0, np.newaxis], data[:, 1], data[:, 2]\n",
    "    y = (y > y.mean()).astype(int)\n",
    "\n",
    "    scores[i] = cross_val_score(pipe, X, y, cv=10).mean()\n",
    "    scores_include[i] = cross_val_score(pipe, np.c_[X, C], y, cv=10).mean()\n",
    "    \n",
    "print(scores.mean())\n",
    "print(scores_include.mean())\n",
    "print(ttest_ind(scores, scores_include))"
   ]
  }
 ],
 "metadata": {
  "kernelspec": {
   "display_name": "Python 3",
   "language": "python",
   "name": "python3"
  },
  "language_info": {
   "codemirror_mode": {
    "name": "ipython",
    "version": 3
   },
   "file_extension": ".py",
   "mimetype": "text/x-python",
   "name": "python",
   "nbconvert_exporter": "python",
   "pygments_lexer": "ipython3",
   "version": "3.6.1"
  }
 },
 "nbformat": 4,
 "nbformat_minor": 2
}
