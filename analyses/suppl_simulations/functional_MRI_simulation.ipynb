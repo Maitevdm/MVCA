{
 "cells": [
  {
   "cell_type": "markdown",
   "metadata": {},
   "source": [
    "# Confounds in functional MRI\n",
    "As one of our reviewers noted, most decoding analyses (at least in cognitive neuroscience)\n",
    "are done on functional MRI, as opposed to structural MRI like we used as our main example in\n",
    "our paper (i.e., decoding gender from VBM/TBSS data). In this notebook, we simulate relatively\n",
    "realistic fMRI data (i.e., temporally and spatially autocorrelated data) with and without a \n",
    "confound and see how our method (cross-validated confound regression) does and how it compares\n",
    "to previously proposed methods (like by [Woolgar et al., 2014](https://www.sciencedirect.com/science/article/pii/S1053811914003395).\n",
    "\n",
    "First, we'll focus on our simulating fMRI data.\n",
    "\n",
    "## fMRI data simulation\n",
    "Let's import some packages we need."
   ]
  },
  {
   "cell_type": "code",
   "execution_count": 1,
   "metadata": {},
   "outputs": [],
   "source": [
    "import scipy\n",
    "import numpy as np\n",
    "import matplotlib.pyplot as plt\n",
    "import seaborn as sns\n",
    "import statsmodels.api as sm\n",
    "\n",
    "from nistats.hemodynamic_models import spm_hrf\n",
    "from scipy.ndimage import gaussian_filter\n",
    "from sklearn.preprocessing import StandardScaler\n",
    "from sklearn.model_selection import cross_val_score\n",
    "from sklearn.svm import SVC\n",
    "from sklearn.pipeline import make_pipeline\n",
    "from scipy.stats import pearsonr\n",
    "from tqdm import tqdm_notebook\n",
    "from confounds import ConfoundRegressor\n",
    "\n",
    "%matplotlib inline"
   ]
  },
  {
   "cell_type": "markdown",
   "metadata": {},
   "source": [
    "Now, we'll create a class, `FmriData`, that is able to generate data by convolving stimulus onsets with an HRF and subsequently estimate the activity estimates of our trials across a range of voxels."
   ]
  },
  {
   "cell_type": "code",
   "execution_count": 2,
   "metadata": {},
   "outputs": [],
   "source": [
    "class FmriData:\n",
    "    \"\"\" Generates fMRI data.\n",
    "     \n",
    "    Parameters\n",
    "    ----------\n",
    "    P : int\n",
    "        Number of conditions\n",
    "    I : int\n",
    "        Number of instances per condition\n",
    "    I_dur : int\n",
    "        Duration of trial in seconds (fixed across conditions, P)\n",
    "    ISIs = list\n",
    "        List of possible ISIs\n",
    "    TR : int\n",
    "        Time to repetition (must be int for simplicity)\n",
    "    K : tuple\n",
    "        Voxel dimensions\n",
    "    ar_rho1 : float\n",
    "        AR(p) autocorrelation of noise\n",
    "    smoothness : int\n",
    "        Spatial smoothing factor (in sigma of voxel dimensions)\n",
    "    noise_factor : int/float\n",
    "        How \"strong\" the noise is (scaling factor for noise covariance matrix V)\n",
    "    cond_means : list\n",
    "        List of length P with condition means of activation\n",
    "    cond_stds : list\n",
    "        List of length P with condition standard deviation of activation\n",
    "    confound_corr : float\n",
    "        Correlation of confound with conditions (assuming 2-class condition for simplicity). If None,\n",
    "        no confound is simulated.\n",
    "    \"\"\"\n",
    " \n",
    "    def __init__(self, P=2, I=20, I_dur=2, ISIs=(4, 5, 6, 7), TR=2, K=(3, 3),\n",
    "                 ar1_rho=0.5, smoothness=2, noise_factor=1, cond_means=None, cond_stds=None,\n",
    "                 conf_params=None, single_trial=True):\n",
    "        \"\"\" Initializes FmriData object. \"\"\"\n",
    "\n",
    "        self.P = P\n",
    "        self.I = I\n",
    "        self.I_dur = I_dur\n",
    "        self.ISIs = ISIs\n",
    "        self.TR = TR\n",
    "        self.K = K\n",
    "        self.ar1_rho = ar1_rho\n",
    "        self.smoothness=smoothness\n",
    "        self.noise_factor = noise_factor\n",
    "        self.cond_means = cond_means\n",
    "        self.cond_stds = cond_stds\n",
    "        self.single_trial = single_trial\n",
    "\n",
    "        if conf_params is None:\n",
    "            self.conf_params = dict(corr=0, mean=0, std=0)\n",
    "        else:\n",
    "            self.conf_params = conf_params\n",
    "        \n",
    "        self.X = None\n",
    "        self.y = None\n",
    "        self.conds = None\n",
    "        self.conf = None\n",
    "        self.V = None\n",
    "        self.hrf = None\n",
    "    \n",
    "    def generate_data(self, X=None, single_trial=True):\n",
    "        \"\"\" Generates timeseries fMRI data (X, y) with or without confound.\n",
    "        \n",
    "        Parameters\n",
    "        ----------\n",
    "        X : numpy array or None\n",
    "            A numpy array of shape (timepoints x P) or (timepoints x (P*I)) for a\n",
    "            single-trial design (\"least-squares all\", LSA) or None. When None,\n",
    "            X is generated.\n",
    "        single_trial : bool\n",
    "            When False, the design has a separate regressor for each condition (p = 1 ... P).\n",
    "            When True, the design has a separate regressor for each trial (i = 1 ... P * I)\n",
    "            \n",
    "        Returns\n",
    "        -------\n",
    "        X : numpy array\n",
    "            A numpy array of shape (timepoints x P) or (timepoints x P*I)\n",
    "        y : numpy array\n",
    "            A numpy array of shape (timepoints x voxels)\n",
    "        conds : numpy array\n",
    "            A numpy array with condition labels (with P unique labels)\n",
    "        true_betas : numpy array\n",
    "            A numpy array with the true parameters used to generate the model\n",
    "        \"\"\"\n",
    "\n",
    "        if X is None:  # Generate new X (else: use prespecified X)\n",
    "            self._generate_X()\n",
    "\n",
    "        self._generate_y()\n",
    "        return self.X, self.y, self.conds, self.true_betas\n",
    "    \n",
    "    def _generate_conf(self, conds):\n",
    "        \n",
    "        weight = 0.0001\n",
    "        desired_corr = self.conf_params['corr']\n",
    "        conf = conds * weight + np.random.normal(0, 1, conds.size)\n",
    "        this_corr = pearsonr(conf, conds)[0]\n",
    "        while np.abs(this_corr - desired_corr) > 0.01:\n",
    "            conf = conds * weight + np.random.normal(0, 1, conds.size)\n",
    "            this_corr = pearsonr(conf, conds)[0]\n",
    "            weight += 0.0001\n",
    "    \n",
    "        return conf\n",
    "        \n",
    "    def _generate_X(self):\n",
    "        \"\"\" Generates X (design matrix). \"\"\"\n",
    "        \n",
    "        single_trial = self.single_trial\n",
    "        \n",
    "        # Generate I trials for P conditions\n",
    "        conds = np.repeat(np.arange(self.P), self.I)\n",
    "        conds = np.random.permutation(conds)  # shuffle trials\n",
    "\n",
    "        if len(conds) % len(self.ISIs) != 0:\n",
    "            raise ValueError(\"Please choose ISIs which can spread across trials evenly.\")\n",
    "\n",
    "        # Generate ISIs and shuffle\n",
    "        ISIs = np.repeat(self.ISIs, len(conds) / len(self.ISIs))\n",
    "        ISIs = np.random.permutation(ISIs)\n",
    "        run_dur = (np.sum(ISIs) + self.I_dur * len(conds))  # run-duration\n",
    "        \n",
    "        osf = 10  # oversampling factor for onsets/hrf\n",
    "        if single_trial:  # nr of regressors = conditions * trials\n",
    "            X = np.zeros((run_dur * osf, self.P*self.I))\n",
    "        else:  # nr regressors = nr conditions\n",
    "            X = np.zeros((run_dur * osf, self.P))\n",
    "\n",
    "        current_onset = 0  # start creating onsets\n",
    "        for i, trial in enumerate(conds):\n",
    "\n",
    "            if single_trial:\n",
    "                X[current_onset:(current_onset + self.I_dur * osf), i] = 1\n",
    "            else:\n",
    "                X[current_onset:(current_onset + self.I_dur * osf), trial] = 1\n",
    "\n",
    "            this_ITI = self.I_dur * osf + ISIs[i] * osf\n",
    "            current_onset += this_ITI\n",
    "    \n",
    "        # Define HRF\n",
    "        if self.hrf is None:\n",
    "            hrf = spm_hrf(tr=self.TR, oversampling=self.TR*osf,\n",
    "                          time_length=32.0, onset=0.0)\n",
    "            hrf = hrf / np.max(hrf)  # scale HRF, peak = 1\n",
    "        else:\n",
    "            hrf = self.hrf\n",
    "\n",
    "        # If confound model is 'additive', create a regressor based on confound\n",
    "        # and add to X to take care of convolution (to be used later when \"controlling\"\n",
    "        # for its influence)\n",
    "        if self.conf_params['corr'] != 0:\n",
    "            conf = self._generate_conf(conds)\n",
    "        else:\n",
    "            conf = conds\n",
    "            \n",
    "        conf_pred = np.zeros(run_dur * osf)\n",
    "        conf_pred[X.sum(axis=1) != 0] = np.repeat(conf, repeats=osf)\n",
    "        X = np.c_[X, conf_pred]\n",
    "\n",
    "        # Convolve regressors with HRF\n",
    "        X = np.hstack([np.convolve(X[:, i], hrf)[:run_dur*osf, np.newaxis]\n",
    "                       for i in range(X.shape[1])])\n",
    "        \n",
    "        X = X[::self.TR*osf, :]  # downsample\n",
    "        X = np.c_[np.ones(X.shape[0]), X]  # stack intercept\n",
    "\n",
    "        self.X = X\n",
    "        self.conds = conds\n",
    "        self.conf = conf\n",
    "        \n",
    "    def _generate_y(self):\n",
    "        \"\"\" Generate signals (y). \"\"\"\n",
    "        \n",
    "        X, conds, single_trial = self.X, self.conds, self.single_trial\n",
    "        conf_mean, conf_std = self.conf_params['mean'], self.conf_params['std']\n",
    "\n",
    "        N = X.shape[0]  # N = (downsampled) timepoints\n",
    "    \n",
    "        # Create ar1 covariance matrix and generate noise\n",
    "        if self.V is None:\n",
    "            self.V = self._generate_V(N)\n",
    "\n",
    "        noise = np.random.multivariate_normal(np.zeros(N), self.V,\n",
    "                                              size=np.prod(K)).T\n",
    "        # Create condition means/stds\n",
    "        if single_trial:\n",
    "            # Extract actual means/stds based on condition\n",
    "            cond_means = np.array([self.cond_means[i] for i in conds])\n",
    "            cond_stds = np.array([self.cond_stds[i] for i in conds])\n",
    "            \n",
    "            cond_means = np.append(cond_means, conf_mean)\n",
    "            cond_stds = np.append(cond_stds, conf_std)\n",
    "        else:\n",
    "            cond_means = self.cond_means\n",
    "            cond_stds = self.cond_stds\n",
    "        \n",
    "        # Add intercept effects\n",
    "        cond_means = np.append(0, cond_means)\n",
    "        cond_stds = np.append(1, cond_stds)\n",
    "\n",
    "        # Create true paramaters\n",
    "        cov = np.eye(X.shape[1])\n",
    "        cov *= cond_stds\n",
    "        \n",
    "        if single_trial:\n",
    "            true_betas = np.random.multivariate_normal(cond_means.astype(float), cov, size=np.prod(K)).T\n",
    "        else:\n",
    "            true_betas = np.random.multivariate_normal(cond_means, cov, size=np.prod(K)).T\n",
    "\n",
    "        # Create signal!\n",
    "        y = X.dot(true_betas) + noise\n",
    "        \n",
    "        if self.smoothness is not None:  # Smooth if a smoothing kernel has been specified\n",
    "            y = gaussian_filter(y.reshape((N,) + K), 1).reshape(N, np.prod(K))\n",
    "  \n",
    "        self.X = X\n",
    "        self.y = y\n",
    "        self.true_betas = true_betas\n",
    "        \n",
    "    def fit_glm(self, X=None, y=None, control_for_conf=False, remove_icept=True):\n",
    "        \"\"\" Fits a GLM (using generalized least squares).\n",
    "        \n",
    "        Parameters\n",
    "        ----------\n",
    "        X : numpy array or None\n",
    "            If numpy array, X should be a (timepoints x conditions/trials) array.\n",
    "            If None, the attribute `X` of the object will be used.\n",
    "        y : numpy array or None\n",
    "            If numpy array, y should be a (timepoints x voxels) array. If\n",
    "            None, the attribute `y` of the object will be used.\n",
    "        control_for_conf : bool\n",
    "            Whether to control for the confound in the first-level model. Only\n",
    "            relevant for when confound_mod='additive' was used in data generation.\n",
    "        remove_icept : bool\n",
    "            Whether to remove the intercept from the statistics (betas, t-values, etc.)\n",
    "            that will be returned\n",
    "        \n",
    "        Returns\n",
    "        -------\n",
    "        est_betas : numpy array\n",
    "            Array with *estimated* (as opposed to *true*) parameters.\n",
    "        stderrs : numpy array\n",
    "            Array with standard errors of the estimated parameters.\n",
    "        tvals : numpy array\n",
    "            Array with t-values of the estimated parameters (against baseline)\n",
    "        \"\"\"\n",
    "        \n",
    "        if not control_for_conf:\n",
    "            X = self.X[:, :-1]\n",
    "        else:\n",
    "            X = self.X\n",
    "\n",
    "        est_betas = np.zeros((X.shape[1], y.shape[1]))\n",
    "        stderrs = np.zeros_like(est_betas)\n",
    "        tvals = np.zeros_like(est_betas)\n",
    "        \n",
    "        for i in range(y.shape[1]):  # loop over voxels\n",
    "            \n",
    "            gls_results = sm.GLS(y[:, i], X, sigma=self.V).fit()\n",
    "            est_betas[:, i] = gls_results.params\n",
    "            stderrs[:, i] = gls_results.bse\n",
    "            tvals[:, i] = gls_results.tvalues\n",
    "\n",
    "        if control_for_conf:  # remove confound from estimated parameters\n",
    "            est_betas = est_betas[:-1, :]\n",
    "            stderrs = stderrs[:-1, :]\n",
    "            tvals = tvals[:-1, :]\n",
    "\n",
    "        if remove_icept:  # remove intercept from estimated parameters\n",
    "            est_betas = est_betas[1:, :]\n",
    "            stderrs = stderrs[1:, :]\n",
    "            tvals = tvals[1:, :]\n",
    "        \n",
    "        return est_betas, stderrs, tvals\n",
    "\n",
    "    def _generate_V(self, N):\n",
    "        \"\"\" Generates a autocovariance matrix based on a AR(p) model. \"\"\"\n",
    "        rho = self.ar1_rho\n",
    "        cov = rho ** scipy.linalg.toeplitz(np.arange(N))\n",
    "        return cov * self.noise_factor\n",
    "\n",
    "    def plot(self, X, y, conds, voxel=(0, 0)):\n",
    "        \"\"\" Plots the design and signal of a particular voxel from a particular run. \"\"\"\n",
    "        fig, ax = plt.subplots(nrows=1, ncols=2, figsize=(20, 5), sharex=True)\n",
    "        \n",
    "        ax[0].set_prop_cycle('color', [plt.cm.Dark2(i) for i in conds])\n",
    "        ax[0].plot(X[:, 1:])\n",
    "        ax[0].axhline(0, ls='--', c='k', lw=1)\n",
    "        ax[0].set_xlim(0, X.shape[0])\n",
    "        ax[0].set_xlabel('Time (in dynamics)', fontsize=15)\n",
    "        ax[0].set_ylabel('Amplitude (a.u.)', fontsize=15)\n",
    "\n",
    "        yresh = y.reshape((y.shape[0],) + self.K)\n",
    "        ax[1].plot(yresh[:, voxel[0], voxel[1]])\n",
    "        ax[1].axhline(0, ls='--', c='k', lw=1)\n",
    "        ax[1].set_xlabel('Time (in dynamics)', fontsize=15)\n",
    "        \n",
    "        sns.despine()\n",
    "        fig.tight_layout()\n",
    "        fig.show()"
   ]
  },
  {
   "cell_type": "markdown",
   "metadata": {},
   "source": [
    "So, how does this work? Well, for our purposes, we'll generate the signal(s), $y$, as function of the design, $X$, the true parameters, $\\beta$, and noise, $\\epsilon$, in the following manner:\n",
    "\n",
    "\\begin{align}\n",
    "y = X\\beta + \\epsilon\n",
    "\\end{align}\n",
    "\n",
    "Here, we generate $\\epsilon$ from a multivariate normal distribution with mean $\\mu = 0$ and covariance matrix $V$:\n",
    "\n",
    "\\begin{align}\n",
    "\\epsilon \\sim N(0, V)\n",
    "\\end{align}\n",
    "\n",
    "V is assumed to follow an AR(p) model.\n",
    "\n",
    "Then, we generate $\\beta$ from a $K$-dimensional (number of voxels) multivariate normal distribution with means $\\mu$ and covariance matrix $\\sigma I$, where $I$ is the identity matrix (i.e., the true parameters $\\beta$ are uncorrelated across voxels, but may differ in variance):\n",
    "\n",
    "\\begin{align}\n",
    "\\beta \\sim N(\\mu, \\sigma I)\n",
    "\\end{align}\n",
    "\n",
    "Lastly, $X$ is constructed as a set of regressors (one for each trial) that are the result of a convolution of a finite impulse response and an HRF:\n",
    "\n",
    "\\begin{align}\n",
    "X_{j} = conv(X_{j}, HRF) \n",
    "\\end{align}"
   ]
  },
  {
   "cell_type": "markdown",
   "metadata": {},
   "source": [
    "## Generating null-data\n",
    "Alright, so let's specify some parameters for our experiment. We'll make sure it represents null-data (no effect; i.e., no reliable difference between voxels patterns across $P$ conditions):"
   ]
  },
  {
   "cell_type": "code",
   "execution_count": 3,
   "metadata": {},
   "outputs": [],
   "source": [
    "P = 2  # conditions\n",
    "I = 40  # trials per condition\n",
    "I_dur = 1  # trial-duration in seconds\n",
    "ISIs = [5, 7]  # possible inter-stimulus-intervals\n",
    "TR = 2  # in seconds\n",
    "K = (10, 10)  # voxels\n",
    "ar1_rho = 0.5  # autocorrelation for AR1(p) process\n",
    "smoothness = 1  # spatial smoothness in sigma\n",
    "noise_factor = 1  # scaling for V\n",
    "cond_means = (0, 0)  # condition means\n",
    "cond_stds = (0.5, 0.5)  # condition stds\n",
    "single_trial = True  # generate using LSA?"
   ]
  },
  {
   "cell_type": "markdown",
   "metadata": {},
   "source": [
    "Alright, now let's check whether it's really null data. We'll simulate data 100 times and check the average decoding accuracy:"
   ]
  },
  {
   "cell_type": "code",
   "execution_count": 4,
   "metadata": {},
   "outputs": [
    {
     "data": {
      "application/vnd.jupyter.widget-view+json": {
       "model_id": "60ca1e1844594469a031b5ec07476776",
       "version_major": 2,
       "version_minor": 0
      },
      "text/html": [
       "<p>Failed to display Jupyter Widget of type <code>HBox</code>.</p>\n",
       "<p>\n",
       "  If you're reading this message in the Jupyter Notebook or JupyterLab Notebook, it may mean\n",
       "  that the widgets JavaScript is still loading. If this message persists, it\n",
       "  likely means that the widgets JavaScript library is either not installed or\n",
       "  not enabled. See the <a href=\"https://ipywidgets.readthedocs.io/en/stable/user_install.html\">Jupyter\n",
       "  Widgets Documentation</a> for setup instructions.\n",
       "</p>\n",
       "<p>\n",
       "  If you're reading this message in another frontend (for example, a static\n",
       "  rendering on GitHub or <a href=\"https://nbviewer.jupyter.org/\">NBViewer</a>),\n",
       "  it may mean that your frontend doesn't currently support widgets.\n",
       "</p>\n"
      ],
      "text/plain": [
       "HBox(children=(IntProgress(value=0), HTML(value='')))"
      ]
     },
     "metadata": {},
     "output_type": "display_data"
    },
    {
     "name": "stdout",
     "output_type": "stream",
     "text": [
      "\n"
     ]
    },
    {
     "data": {
      "image/png": "[encoded data removed]",
      "text/plain": [
       "<matplotlib.figure.Figure at 0x114746ac8>"
      ]
     },
     "metadata": {},
     "output_type": "display_data"
    },
    {
     "name": "stdout",
     "output_type": "stream",
     "text": [
      "Mean accuracy across iterations: 0.494\n"
     ]
    }
   ],
   "source": [
    "fmri_gen = FmriData(P=P, I=I, I_dur=I_dur, ISIs=ISIs, TR=TR,\n",
    "                    K=K, ar1_rho=ar1_rho, smoothness=smoothness,\n",
    "                    noise_factor=noise_factor, cond_means=cond_means,\n",
    "                    cond_stds=cond_stds, single_trial=single_trial)\n",
    "\n",
    "pipe = make_pipeline(StandardScaler(), SVC(kernel='linear'))\n",
    "    \n",
    "iters = 100\n",
    "mean_acc = np.zeros(iters)\n",
    "for i in tqdm_notebook(range(iters)):\n",
    "    \n",
    "    X, y, conds, true_params = fmri_gen.generate_data()\n",
    "    betas, stderss, tvals = fmri_gen.fit_glm(X, y, control_for_conf=False)\n",
    "    #pipe = make_pipeline(ConfoundRegressor(X=b, confound=conf), StandardScaler(), SVC(kernel='linear'))\n",
    "\n",
    "    mean_acc[i] = cross_val_score(pipe, tvals, conds, cv=10).mean()\n",
    "\n",
    "plt.hist(mean_acc)\n",
    "plt.axvline(mean_acc.mean(), c='r', ls='--')\n",
    "plt.show()\n",
    "\n",
    "print(\"Mean accuracy across iterations: %.3f\" % mean_acc.mean())"
   ]
  },
  {
   "cell_type": "markdown",
   "metadata": {},
   "source": [
    "Alright, that checks out! Now, just to be sure, let's simulate data with some effect (i.e., difference in patterns between conditions). We'll set the condition means to -0.1 and +0.1. This should increase our decoding accuracy."
   ]
  },
  {
   "cell_type": "code",
   "execution_count": 5,
   "metadata": {},
   "outputs": [
    {
     "data": {
      "application/vnd.jupyter.widget-view+json": {
       "model_id": "3748ab1a53db4abab0a1a2577da49ef8",
       "version_major": 2,
       "version_minor": 0
      },
      "text/html": [
       "<p>Failed to display Jupyter Widget of type <code>HBox</code>.</p>\n",
       "<p>\n",
       "  If you're reading this message in the Jupyter Notebook or JupyterLab Notebook, it may mean\n",
       "  that the widgets JavaScript is still loading. If this message persists, it\n",
       "  likely means that the widgets JavaScript library is either not installed or\n",
       "  not enabled. See the <a href=\"https://ipywidgets.readthedocs.io/en/stable/user_install.html\">Jupyter\n",
       "  Widgets Documentation</a> for setup instructions.\n",
       "</p>\n",
       "<p>\n",
       "  If you're reading this message in another frontend (for example, a static\n",
       "  rendering on GitHub or <a href=\"https://nbviewer.jupyter.org/\">NBViewer</a>),\n",
       "  it may mean that your frontend doesn't currently support widgets.\n",
       "</p>\n"
      ],
      "text/plain": [
       "HBox(children=(IntProgress(value=0), HTML(value='')))"
      ]
     },
     "metadata": {},
     "output_type": "display_data"
    },
    {
     "name": "stdout",
     "output_type": "stream",
     "text": [
      "\n"
     ]
    },
    {
     "data": {
      "image/png": "[encoded data removed]",
      "text/plain": [
       "<matplotlib.figure.Figure at 0x114746a58>"
      ]
     },
     "metadata": {},
     "output_type": "display_data"
    },
    {
     "name": "stdout",
     "output_type": "stream",
     "text": [
      "Mean accuracy across iterations: 0.835\n"
     ]
    }
   ],
   "source": [
    "cond_means = (-0.1, 0.1)\n",
    "\n",
    "fmri_gen = FmriData(P=P, I=I, I_dur=I_dur, ISIs=ISIs, TR=TR,\n",
    "                    K=K, ar1_rho=ar1_rho, smoothness=smoothness,\n",
    "                    noise_factor=noise_factor, cond_means=cond_means,\n",
    "                    cond_stds=cond_stds, single_trial=single_trial)\n",
    "\n",
    "pipe = make_pipeline(StandardScaler(), SVC(kernel='linear'))\n",
    "\n",
    "iters = 100\n",
    "mean_acc = np.zeros(iters)\n",
    "for i in tqdm_notebook(range(iters)):\n",
    "    \n",
    "    X, y, conds, true_params = fmri_gen.generate_data()\n",
    "    betas, stderss, tvals = fmri_gen.fit_glm(X, y)\n",
    "    mean_acc[i] = cross_val_score(pipe, tvals, conds, cv=10, n_jobs=2).mean()\n",
    "\n",
    "plt.hist(mean_acc)\n",
    "plt.axvline(mean_acc.mean(), c='r', ls='--')\n",
    "plt.show()\n",
    "\n",
    "print(\"Mean accuracy across iterations: %.3f\" % mean_acc.mean())"
   ]
  },
  {
   "cell_type": "markdown",
   "metadata": {},
   "source": [
    "This makes sense! Now, let's check out what happens when we include a confound."
   ]
  },
  {
   "cell_type": "markdown",
   "metadata": {},
   "source": [
    "## Generating data with a confound\n",
    "Now, we'll simulate some data affected by a confound. To generate the data, we'll use the \"additive\" model from the Woolgar et al. article. In this model, they assume the confound has some additive effect on the true activation parameters of each voxel. Accordingly, we generate the data as:\n",
    "\n",
    "\\begin{align}\n",
    "y = X\\beta_{X} + C\\beta_{C} + \\epsilon\n",
    "\\end{align}\n",
    "\n",
    "where $C$ is an array of shape ($N \\times 1$) representing the confound onsets convolved with an HRF. In our data generation, $C$ can be generated with a prespecified correlation to the conditions and the weight ($\\beta_{C}$) is drawn from a normal distribution:\n",
    "\n",
    "\\begin{align}\n",
    "\\beta_{C} \\sim N(\\mu_{\\beta_{C}}, \\sigma_{\\beta_{C}})\n",
    "\\end{align}\n",
    "\n",
    "Think of $C$ like something as reaction time that may have an additional effect on voxels that (may or may not) encode something like rules (like in the original Woolgar article). Now, we'll set the condition means to zero again to simulate some null-data, but we're also setting the correlation between the confound and the true conditions to 0.5, so we expect based on the confound alone that the decoding accuracy will be higher."
   ]
  },
  {
   "cell_type": "code",
   "execution_count": 6,
   "metadata": {},
   "outputs": [
    {
     "data": {
      "application/vnd.jupyter.widget-view+json": {
       "model_id": "fb2342c0a1b0454a9d5ca01b6dbc3024",
       "version_major": 2,
       "version_minor": 0
      },
      "text/html": [
       "<p>Failed to display Jupyter Widget of type <code>HBox</code>.</p>\n",
       "<p>\n",
       "  If you're reading this message in the Jupyter Notebook or JupyterLab Notebook, it may mean\n",
       "  that the widgets JavaScript is still loading. If this message persists, it\n",
       "  likely means that the widgets JavaScript library is either not installed or\n",
       "  not enabled. See the <a href=\"https://ipywidgets.readthedocs.io/en/stable/user_install.html\">Jupyter\n",
       "  Widgets Documentation</a> for setup instructions.\n",
       "</p>\n",
       "<p>\n",
       "  If you're reading this message in another frontend (for example, a static\n",
       "  rendering on GitHub or <a href=\"https://nbviewer.jupyter.org/\">NBViewer</a>),\n",
       "  it may mean that your frontend doesn't currently support widgets.\n",
       "</p>\n"
      ],
      "text/plain": [
       "HBox(children=(IntProgress(value=0), HTML(value='')))"
      ]
     },
     "metadata": {},
     "output_type": "display_data"
    },
    {
     "name": "stdout",
     "output_type": "stream",
     "text": [
      "\n"
     ]
    },
    {
     "data": {
      "image/png": "[encoded data removed]",
      "text/plain": [
       "<matplotlib.figure.Figure at 0x1146ad978>"
      ]
     },
     "metadata": {},
     "output_type": "display_data"
    },
    {
     "name": "stdout",
     "output_type": "stream",
     "text": [
      "Mean accuracy across iterations: 0.636\n"
     ]
    }
   ],
   "source": [
    "cond_means = (0, 0)\n",
    "conf_params = dict(corr=0.5, mean=1, std=0)\n",
    "\n",
    "fmri_gen = FmriData(P=P, I=I, I_dur=I_dur, ISIs=ISIs, TR=TR,\n",
    "                    K=K, ar1_rho=ar1_rho, smoothness=smoothness,\n",
    "                    noise_factor=noise_factor, cond_means=cond_means,\n",
    "                    cond_stds=cond_stds, conf_params=conf_params,\n",
    "                    single_trial=single_trial)\n",
    "\n",
    "pipe = make_pipeline(StandardScaler(), SVC(kernel='linear'))\n",
    "\n",
    "iters = 100\n",
    "mean_acc = np.zeros(iters)\n",
    "for i in tqdm_notebook(range(iters)):\n",
    "\n",
    "    X, y, conds, true_params = fmri_gen.generate_data()\n",
    "    betas, stderss, tvals = fmri_gen.fit_glm(X, y)\n",
    "    mean_acc[i] = cross_val_score(pipe, tvals, conds, cv=10, n_jobs=2).mean()\n",
    "\n",
    "plt.hist(mean_acc)\n",
    "plt.axvline(mean_acc.mean(), c='r', ls='--')\n",
    "plt.show()\n",
    "\n",
    "print(\"Mean accuracy across iterations: %.3f\" % mean_acc.mean())"
   ]
  },
  {
   "cell_type": "markdown",
   "metadata": {},
   "source": [
    "This is expected! Now, how to control for this influence? We can of course use confound regression! Let's actually test both WDCR and CVCV. We expect, given the result from the main paper, that WDCR will yield negative bias while CVCR will yield relatively unbiased results.\n",
    "\n",
    "### WDCR"
   ]
  },
  {
   "cell_type": "code",
   "execution_count": 44,
   "metadata": {},
   "outputs": [
    {
     "data": {
      "application/vnd.jupyter.widget-view+json": {
       "model_id": "7b2050a527ed4578a8846417239de370",
       "version_major": 2,
       "version_minor": 0
      },
      "text/html": [
       "<p>Failed to display Jupyter Widget of type <code>HBox</code>.</p>\n",
       "<p>\n",
       "  If you're reading this message in the Jupyter Notebook or JupyterLab Notebook, it may mean\n",
       "  that the widgets JavaScript is still loading. If this message persists, it\n",
       "  likely means that the widgets JavaScript library is either not installed or\n",
       "  not enabled. See the <a href=\"https://ipywidgets.readthedocs.io/en/stable/user_install.html\">Jupyter\n",
       "  Widgets Documentation</a> for setup instructions.\n",
       "</p>\n",
       "<p>\n",
       "  If you're reading this message in another frontend (for example, a static\n",
       "  rendering on GitHub or <a href=\"https://nbviewer.jupyter.org/\">NBViewer</a>),\n",
       "  it may mean that your frontend doesn't currently support widgets.\n",
       "</p>\n"
      ],
      "text/plain": [
       "HBox(children=(IntProgress(value=0, max=10), HTML(value='')))"
      ]
     },
     "metadata": {},
     "output_type": "display_data"
    },
    {
     "name": "stdout",
     "output_type": "stream",
     "text": [
      "\n"
     ]
    },
    {
     "data": {
      "image/png": "[encoded data removed]",
      "text/plain": [
       "<matplotlib.figure.Figure at 0x1c1fdf5320>"
      ]
     },
     "metadata": {},
     "output_type": "display_data"
    },
    {
     "name": "stdout",
     "output_type": "stream",
     "text": [
      "Mean accuracy across iterations: 0.403\n"
     ]
    }
   ],
   "source": [
    "conf_params = dict(corr=0.5, mean=1, std=0)\n",
    "\n",
    "fmri_gen = FmriData(P=P, I=I, I_dur=I_dur, ISIs=ISIs, TR=TR,\n",
    "                    K=K, ar1_rho=ar1_rho, smoothness=smoothness,\n",
    "                    noise_factor=noise_factor, cond_means=cond_means,\n",
    "                    cond_stds=cond_stds, conf_params=conf_params,\n",
    "                    single_trial=single_trial)\n",
    "\n",
    "iters = 10\n",
    "mean_acc = np.zeros(iters)\n",
    "pipe = make_pipeline(StandardScaler(), SVC(kernel='linear'))\n",
    "for i in tqdm_notebook(range(iters)):\n",
    "\n",
    "    X, y, conds, true_params = fmri_gen.generate_data()\n",
    "    betas, stderss, tvals = fmri_gen.fit_glm(X, y, control_for_conf=False)\n",
    "    cfr = ConfoundRegressor(X=tvals, confound=fmri_gen.conf)\n",
    "    tvals = cfr.fit_transform(tvals)\n",
    "    mean_acc[i] = cross_val_score(pipe, tvals, conds, cv=10).mean()\n",
    "\n",
    "plt.hist(mean_acc)\n",
    "plt.axvline(mean_acc.mean(), c='r', ls='--')\n",
    "plt.show()\n",
    "\n",
    "print(\"Mean accuracy across iterations: %.3f\" % mean_acc.mean())"
   ]
  },
  {
   "cell_type": "markdown",
   "metadata": {},
   "source": [
    "As expected: below-chance classification. \n",
    "\n",
    "## CVCV\n",
    "Now, let's try CVCR (cross-validated confound-regression)."
   ]
  },
  {
   "cell_type": "code",
   "execution_count": 46,
   "metadata": {},
   "outputs": [
    {
     "data": {
      "application/vnd.jupyter.widget-view+json": {
       "model_id": "be2754f400bf438a91e9fd68e58e0d1a",
       "version_major": 2,
       "version_minor": 0
      },
      "text/html": [
       "<p>Failed to display Jupyter Widget of type <code>HBox</code>.</p>\n",
       "<p>\n",
       "  If you're reading this message in the Jupyter Notebook or JupyterLab Notebook, it may mean\n",
       "  that the widgets JavaScript is still loading. If this message persists, it\n",
       "  likely means that the widgets JavaScript library is either not installed or\n",
       "  not enabled. See the <a href=\"https://ipywidgets.readthedocs.io/en/stable/user_install.html\">Jupyter\n",
       "  Widgets Documentation</a> for setup instructions.\n",
       "</p>\n",
       "<p>\n",
       "  If you're reading this message in another frontend (for example, a static\n",
       "  rendering on GitHub or <a href=\"https://nbviewer.jupyter.org/\">NBViewer</a>),\n",
       "  it may mean that your frontend doesn't currently support widgets.\n",
       "</p>\n"
      ],
      "text/plain": [
       "HBox(children=(IntProgress(value=0), HTML(value='')))"
      ]
     },
     "metadata": {},
     "output_type": "display_data"
    },
    {
     "name": "stdout",
     "output_type": "stream",
     "text": [
      "\n"
     ]
    },
    {
     "data": {
      "image/png": "[encoded data removed]",
      "text/plain": [
       "<matplotlib.figure.Figure at 0x1c1fdff198>"
      ]
     },
     "metadata": {},
     "output_type": "display_data"
    },
    {
     "name": "stdout",
     "output_type": "stream",
     "text": [
      "Mean accuracy across iterations: 0.490\n"
     ]
    }
   ],
   "source": [
    "conf_params = dict(corr=0.5, mean=1, std=0)\n",
    "\n",
    "fmri_gen = FmriData(P=P, I=I, I_dur=I_dur, ISIs=ISIs, TR=TR,\n",
    "                    K=K, ar1_rho=ar1_rho, smoothness=smoothness,\n",
    "                    noise_factor=noise_factor, cond_means=cond_means,\n",
    "                    cond_stds=cond_stds, conf_params=conf_params,\n",
    "                    single_trial=single_trial)\n",
    "\n",
    "iters = 100\n",
    "mean_acc = np.zeros(iters)\n",
    "for i in tqdm_notebook(range(iters)):\n",
    "\n",
    "    X, y, conds, true_params = fmri_gen.generate_data()\n",
    "    betas, stderss, tvals = fmri_gen.fit_glm(X, y, control_for_conf=False)\n",
    "    pipe = make_pipeline(ConfoundRegressor(X=tvals, confound=fmri_gen.conf),\n",
    "                         StandardScaler(), SVC(kernel='linear'))\n",
    "\n",
    "    mean_acc[i] = cross_val_score(pipe, tvals, conds, cv=10).mean()\n",
    "\n",
    "plt.hist(mean_acc)\n",
    "plt.axvline(mean_acc.mean(), c='r', ls='--')\n",
    "plt.show()\n",
    "\n",
    "print(\"Mean accuracy across iterations: %.3f\" % mean_acc.mean())"
   ]
  },
  {
   "cell_type": "markdown",
   "metadata": {},
   "source": [
    "That looks good!\n",
    "\n",
    "## Autocorrelated patterns\n",
    "One reviewer was interested in how CVCR would behave when patterns would be more or less autocorrelated. We can vary autocorrelation in our data generation process easily by varying the ISIs between trials: shorter ISIs will yield more autocorrelation between patterns. Let's verify this by plotting the correlation matrix between patterns for various ISIs. We expect to see \"brighter\" values around the diagonal for short ISIs."
   ]
  },
  {
   "cell_type": "code",
   "execution_count": 81,
   "metadata": {},
   "outputs": [
    {
     "data": {
      "image/png": "[encoded data removed]",
      "text/plain": [
       "<matplotlib.figure.Figure at 0x114a2a390>"
      ]
     },
     "metadata": {},
     "output_type": "display_data"
    }
   ],
   "source": [
    "these_ISIs = [[3], [4], [5], [6], [15]]\n",
    "plt.figure(figsize=(15, 5))\n",
    "for i, ISIs in enumerate(these_ISIs):\n",
    "    \n",
    "    fmri_gen = FmriData(P=P, I=I, I_dur=I_dur, ISIs=ISIs, TR=TR,\n",
    "                    K=K, ar1_rho=ar1_rho, smoothness=smoothness,\n",
    "                    noise_factor=0.5, cond_means=cond_means,\n",
    "                    cond_stds=cond_stds, conf_params=None,\n",
    "                    single_trial=single_trial)\n",
    "    \n",
    "    X, y, conds, true_params = fmri_gen.generate_data()\n",
    "    betas, stders, tvals = fmri_gen.fit_glm(X, y, control_for_conf=True)\n",
    "    \n",
    "    pattern_corrs = np.corrcoef(tvals)\n",
    "    plt.subplot(1, len(these_ISIs), i+1)\n",
    "    # Note the scaling: this emphasises the contrast between high and \n",
    "    # low correlations\n",
    "    plt.imshow(pattern_corrs, vmin=0, vmax=0.5)\n",
    "    plt.axis('off')\n",
    "    plt.title(\"ISI: %i sec\" % ISIs[0], fontsize=15)\n",
    "    \n",
    "plt.tight_layout()\n",
    "plt.show()"
   ]
  },
  {
   "cell_type": "markdown",
   "metadata": {},
   "source": [
    "You can clearly see that the patterns are more autocorrelated for short ISIs. (Note that for lower ISIs, the first-level model becomes non-invertible.)\n",
    "\n",
    "Now, how does CVCR do with these different types of data?"
   ]
  },
  {
   "cell_type": "code",
   "execution_count": 102,
   "metadata": {},
   "outputs": [
    {
     "data": {
      "application/vnd.jupyter.widget-view+json": {
       "model_id": "98a5eb34ee734b8c99ec0e9ffe286b0d",
       "version_major": 2,
       "version_minor": 0
      },
      "text/html": [
       "<p>Failed to display Jupyter Widget of type <code>HBox</code>.</p>\n",
       "<p>\n",
       "  If you're reading this message in the Jupyter Notebook or JupyterLab Notebook, it may mean\n",
       "  that the widgets JavaScript is still loading. If this message persists, it\n",
       "  likely means that the widgets JavaScript library is either not installed or\n",
       "  not enabled. See the <a href=\"https://ipywidgets.readthedocs.io/en/stable/user_install.html\">Jupyter\n",
       "  Widgets Documentation</a> for setup instructions.\n",
       "</p>\n",
       "<p>\n",
       "  If you're reading this message in another frontend (for example, a static\n",
       "  rendering on GitHub or <a href=\"https://nbviewer.jupyter.org/\">NBViewer</a>),\n",
       "  it may mean that your frontend doesn't currently support widgets.\n",
       "</p>\n"
      ],
      "text/plain": [
       "HBox(children=(IntProgress(value=0, max=10), HTML(value='')))"
      ]
     },
     "metadata": {},
     "output_type": "display_data"
    },
    {
     "name": "stdout",
     "output_type": "stream",
     "text": [
      "\n"
     ]
    },
    {
     "data": {
      "application/vnd.jupyter.widget-view+json": {
       "model_id": "a2671b6b6a34471d9627f0b653214b00",
       "version_major": 2,
       "version_minor": 0
      },
      "text/html": [
       "<p>Failed to display Jupyter Widget of type <code>HBox</code>.</p>\n",
       "<p>\n",
       "  If you're reading this message in the Jupyter Notebook or JupyterLab Notebook, it may mean\n",
       "  that the widgets JavaScript is still loading. If this message persists, it\n",
       "  likely means that the widgets JavaScript library is either not installed or\n",
       "  not enabled. See the <a href=\"https://ipywidgets.readthedocs.io/en/stable/user_install.html\">Jupyter\n",
       "  Widgets Documentation</a> for setup instructions.\n",
       "</p>\n",
       "<p>\n",
       "  If you're reading this message in another frontend (for example, a static\n",
       "  rendering on GitHub or <a href=\"https://nbviewer.jupyter.org/\">NBViewer</a>),\n",
       "  it may mean that your frontend doesn't currently support widgets.\n",
       "</p>\n"
      ],
      "text/plain": [
       "HBox(children=(IntProgress(value=0, max=10), HTML(value='')))"
      ]
     },
     "metadata": {},
     "output_type": "display_data"
    },
    {
     "name": "stdout",
     "output_type": "stream",
     "text": [
      "\n"
     ]
    },
    {
     "data": {
      "application/vnd.jupyter.widget-view+json": {
       "model_id": "85c54661d5b3482fad9f01e34e64c8d0",
       "version_major": 2,
       "version_minor": 0
      },
      "text/html": [
       "<p>Failed to display Jupyter Widget of type <code>HBox</code>.</p>\n",
       "<p>\n",
       "  If you're reading this message in the Jupyter Notebook or JupyterLab Notebook, it may mean\n",
       "  that the widgets JavaScript is still loading. If this message persists, it\n",
       "  likely means that the widgets JavaScript library is either not installed or\n",
       "  not enabled. See the <a href=\"https://ipywidgets.readthedocs.io/en/stable/user_install.html\">Jupyter\n",
       "  Widgets Documentation</a> for setup instructions.\n",
       "</p>\n",
       "<p>\n",
       "  If you're reading this message in another frontend (for example, a static\n",
       "  rendering on GitHub or <a href=\"https://nbviewer.jupyter.org/\">NBViewer</a>),\n",
       "  it may mean that your frontend doesn't currently support widgets.\n",
       "</p>\n"
      ],
      "text/plain": [
       "HBox(children=(IntProgress(value=0, max=10), HTML(value='')))"
      ]
     },
     "metadata": {},
     "output_type": "display_data"
    },
    {
     "name": "stdout",
     "output_type": "stream",
     "text": [
      "\n"
     ]
    },
    {
     "data": {
      "application/vnd.jupyter.widget-view+json": {
       "model_id": "4de7b0845c8048ff9746d995dd716bb3",
       "version_major": 2,
       "version_minor": 0
      },
      "text/html": [
       "<p>Failed to display Jupyter Widget of type <code>HBox</code>.</p>\n",
       "<p>\n",
       "  If you're reading this message in the Jupyter Notebook or JupyterLab Notebook, it may mean\n",
       "  that the widgets JavaScript is still loading. If this message persists, it\n",
       "  likely means that the widgets JavaScript library is either not installed or\n",
       "  not enabled. See the <a href=\"https://ipywidgets.readthedocs.io/en/stable/user_install.html\">Jupyter\n",
       "  Widgets Documentation</a> for setup instructions.\n",
       "</p>\n",
       "<p>\n",
       "  If you're reading this message in another frontend (for example, a static\n",
       "  rendering on GitHub or <a href=\"https://nbviewer.jupyter.org/\">NBViewer</a>),\n",
       "  it may mean that your frontend doesn't currently support widgets.\n",
       "</p>\n"
      ],
      "text/plain": [
       "HBox(children=(IntProgress(value=0, max=10), HTML(value='')))"
      ]
     },
     "metadata": {},
     "output_type": "display_data"
    },
    {
     "name": "stdout",
     "output_type": "stream",
     "text": [
      "\n"
     ]
    },
    {
     "data": {
      "application/vnd.jupyter.widget-view+json": {
       "model_id": "b79c946bd3714d3fa1ed173558352635",
       "version_major": 2,
       "version_minor": 0
      },
      "text/html": [
       "<p>Failed to display Jupyter Widget of type <code>HBox</code>.</p>\n",
       "<p>\n",
       "  If you're reading this message in the Jupyter Notebook or JupyterLab Notebook, it may mean\n",
       "  that the widgets JavaScript is still loading. If this message persists, it\n",
       "  likely means that the widgets JavaScript library is either not installed or\n",
       "  not enabled. See the <a href=\"https://ipywidgets.readthedocs.io/en/stable/user_install.html\">Jupyter\n",
       "  Widgets Documentation</a> for setup instructions.\n",
       "</p>\n",
       "<p>\n",
       "  If you're reading this message in another frontend (for example, a static\n",
       "  rendering on GitHub or <a href=\"https://nbviewer.jupyter.org/\">NBViewer</a>),\n",
       "  it may mean that your frontend doesn't currently support widgets.\n",
       "</p>\n"
      ],
      "text/plain": [
       "HBox(children=(IntProgress(value=0, max=10), HTML(value='')))"
      ]
     },
     "metadata": {},
     "output_type": "display_data"
    },
    {
     "name": "stdout",
     "output_type": "stream",
     "text": [
      "\n"
     ]
    }
   ],
   "source": [
    "these_ISIs = [[3], [4], [5], [6], [15]]\n",
    "results = dict(acc=[], ISI=[], regress=[])\n",
    "\n",
    "conf_params = dict(corr=0.8, mean=1, std=0)\n",
    "for i, ISIs in enumerate(these_ISIs):\n",
    "    \n",
    "    fmri_gen = FmriData(P=P, I=I, I_dur=I_dur, ISIs=ISIs, TR=TR,\n",
    "                        K=K, ar1_rho=ar1_rho, smoothness=smoothness,\n",
    "                        noise_factor=noise_factor, cond_means=cond_means,\n",
    "                        cond_stds=cond_stds, conf_params=conf_params,\n",
    "                        single_trial=single_trial)\n",
    "\n",
    "    iters = 10\n",
    "    for ii in tqdm_notebook(range(iters)):\n",
    "\n",
    "        X, y, conds, true_params = fmri_gen.generate_data()\n",
    "        betas, stders, tvals = fmri_gen.fit_glm(X, y, control_for_conf=True)\n",
    "        pipe = make_pipeline(StandardScaler(), SVC(kernel='linear'))\n",
    "        acc = cross_val_score(pipe, tvals, conds, cv=10).mean()\n",
    "        results['ISI'].append(ISIs[0])\n",
    "        results['acc'].append(acc)\n",
    "        results['regress'].append(False)\n",
    "        \n",
    "        pipe = make_pipeline(ConfoundRegressor(X=tvals, confound=fmri_gen.conf),\n",
    "                             StandardScaler(), SVC(kernel='linear'))\n",
    "\n",
    "        acc = cross_val_score(pipe, tvals, conds, cv=10).mean()\n",
    "        results['ISI'].append(ISIs[0])\n",
    "        results['acc'].append(acc)\n",
    "        results['regress'].append(True)\n",
    "        "
   ]
  },
  {
   "cell_type": "markdown",
   "metadata": {},
   "source": [
    "Plot the results:"
   ]
  },
  {
   "cell_type": "code",
   "execution_count": 103,
   "metadata": {},
   "outputs": [
    {
     "data": {
      "image/png": "[encoded data removed]",
      "text/plain": [
       "<matplotlib.figure.Figure at 0x1c2013fc18>"
      ]
     },
     "metadata": {},
     "output_type": "display_data"
    }
   ],
   "source": [
    "df = pd.DataFrame(results)\n",
    "\n",
    "plt.figure(figsize=(10, 3))\n",
    "ax = sns.pointplot(data=df, x='ISI', y='acc', hue='regress')\n",
    "ax.set_xlabel(\"ISI\")\n",
    "ax.set_ylabel('Accuracy')\n",
    "ax.axhline(0.5, ls='--', c='k')\n",
    "sns.despine()\n",
    "ax.set_title('CVCR accuracy as a function of ISI', fontsize=15)\n",
    "plt.show()"
   ]
  },
  {
   "cell_type": "markdown",
   "metadata": {},
   "source": [
    "Great, this seems to work! (Interestingly, there seems to be substantial below-chance classification for low ISIs when you *don't* regress out the confound! So it seems that confound regress has some kind of normalizing influence on the data, at least for low ISIs. This is even more the case when you reduce the correlation between the confound and the target!)"
   ]
  },
  {
   "cell_type": "markdown",
   "metadata": {},
   "source": [
    "## Control for confound during pattern estimation\n",
    "Alternatively, we can use the method advocated in the Woolgar article by simply adding the (HRF-convolved) confound to the first-level model in which we estimate the activity parameters. In our `FmriData` class, we can simply set `control_for_conf` to true to do this (given that the data was actually generated with a confound in mind using the 'additive' method). This will add the confound to the model and return the parameters \"adjusted\" for the confound. Let's run that:"
   ]
  },
  {
   "cell_type": "code",
   "execution_count": 108,
   "metadata": {},
   "outputs": [
    {
     "data": {
      "application/vnd.jupyter.widget-view+json": {
       "model_id": "4ca40be44bf549edbbca22d5328255d1",
       "version_major": 2,
       "version_minor": 0
      },
      "text/html": [
       "<p>Failed to display Jupyter Widget of type <code>HBox</code>.</p>\n",
       "<p>\n",
       "  If you're reading this message in the Jupyter Notebook or JupyterLab Notebook, it may mean\n",
       "  that the widgets JavaScript is still loading. If this message persists, it\n",
       "  likely means that the widgets JavaScript library is either not installed or\n",
       "  not enabled. See the <a href=\"https://ipywidgets.readthedocs.io/en/stable/user_install.html\">Jupyter\n",
       "  Widgets Documentation</a> for setup instructions.\n",
       "</p>\n",
       "<p>\n",
       "  If you're reading this message in another frontend (for example, a static\n",
       "  rendering on GitHub or <a href=\"https://nbviewer.jupyter.org/\">NBViewer</a>),\n",
       "  it may mean that your frontend doesn't currently support widgets.\n",
       "</p>\n"
      ],
      "text/plain": [
       "HBox(children=(IntProgress(value=0, max=20), HTML(value='')))"
      ]
     },
     "metadata": {},
     "output_type": "display_data"
    },
    {
     "name": "stdout",
     "output_type": "stream",
     "text": [
      "\n"
     ]
    },
    {
     "data": {
      "image/png": "[encoded data removed]",
      "text/plain": [
       "<matplotlib.figure.Figure at 0x1c1fd655c0>"
      ]
     },
     "metadata": {},
     "output_type": "display_data"
    },
    {
     "name": "stdout",
     "output_type": "stream",
     "text": [
      "Mean accuracy across iterations: 0.684\n"
     ]
    }
   ],
   "source": [
    "conf_params = dict(corr=0.8, mean=1, std=0)\n",
    "ISIs = [5, 7]\n",
    "fmri_gen = FmriData(P=P, I=I, I_dur=I_dur, ISIs=ISIs, TR=TR,\n",
    "                    K=K, ar1_rho=ar1_rho, smoothness=smoothness,\n",
    "                    noise_factor=noise_factor, cond_means=cond_means,\n",
    "                    cond_stds=cond_stds, conf_params=conf_params,\n",
    "                    single_trial=single_trial)\n",
    "\n",
    "pipe = make_pipeline(StandardScaler(), SVC(kernel='linear'))\n",
    "\n",
    "iters = 20\n",
    "mean_acc = np.zeros(iters)\n",
    "for i in tqdm_notebook(range(iters)):\n",
    "\n",
    "    X, y, conds, true_params = fmri_gen.generate_data()\n",
    "    betas, stders, tvals = fmri_gen.fit_glm(X, y, control_for_conf=True)\n",
    "    mean_acc[i] = cross_val_score(pipe, betas, conds, cv=10).mean()\n",
    "\n",
    "plt.hist(mean_acc)\n",
    "plt.axvline(mean_acc.mean(), c='r', ls='--')\n",
    "plt.show()\n",
    "\n",
    "print(\"Mean accuracy across iterations: %.3f\" % mean_acc.mean())"
   ]
  },
  {
   "cell_type": "markdown",
   "metadata": {},
   "source": [
    "Heh, that's weird. It seems that this method yields quite some positive bias (i.e., higher accuracy than expected) ... What's going on here? Before speculating any further, perhaps this is due to the specific correlation we chose (0.8) - let's redo this for a range of correlations between the conditions and the confound (from 0 - 1):"
   ]
  },
  {
   "cell_type": "code",
   "execution_count": 109,
   "metadata": {
    "scrolled": true
   },
   "outputs": [
    {
     "data": {
      "application/vnd.jupyter.widget-view+json": {
       "model_id": "b35c308800e24ad188e431309613a86b",
       "version_major": 2,
       "version_minor": 0
      },
      "text/html": [
       "<p>Failed to display Jupyter Widget of type <code>HBox</code>.</p>\n",
       "<p>\n",
       "  If you're reading this message in the Jupyter Notebook or JupyterLab Notebook, it may mean\n",
       "  that the widgets JavaScript is still loading. If this message persists, it\n",
       "  likely means that the widgets JavaScript library is either not installed or\n",
       "  not enabled. See the <a href=\"https://ipywidgets.readthedocs.io/en/stable/user_install.html\">Jupyter\n",
       "  Widgets Documentation</a> for setup instructions.\n",
       "</p>\n",
       "<p>\n",
       "  If you're reading this message in another frontend (for example, a static\n",
       "  rendering on GitHub or <a href=\"https://nbviewer.jupyter.org/\">NBViewer</a>),\n",
       "  it may mean that your frontend doesn't currently support widgets.\n",
       "</p>\n"
      ],
      "text/plain": [
       "HBox(children=(IntProgress(value=0, max=10), HTML(value='')))"
      ]
     },
     "metadata": {},
     "output_type": "display_data"
    },
    {
     "name": "stdout",
     "output_type": "stream",
     "text": [
      "\n"
     ]
    },
    {
     "data": {
      "application/vnd.jupyter.widget-view+json": {
       "model_id": "b76559f0d289490cae7723c997fd8d42",
       "version_major": 2,
       "version_minor": 0
      },
      "text/html": [
       "<p>Failed to display Jupyter Widget of type <code>HBox</code>.</p>\n",
       "<p>\n",
       "  If you're reading this message in the Jupyter Notebook or JupyterLab Notebook, it may mean\n",
       "  that the widgets JavaScript is still loading. If this message persists, it\n",
       "  likely means that the widgets JavaScript library is either not installed or\n",
       "  not enabled. See the <a href=\"https://ipywidgets.readthedocs.io/en/stable/user_install.html\">Jupyter\n",
       "  Widgets Documentation</a> for setup instructions.\n",
       "</p>\n",
       "<p>\n",
       "  If you're reading this message in another frontend (for example, a static\n",
       "  rendering on GitHub or <a href=\"https://nbviewer.jupyter.org/\">NBViewer</a>),\n",
       "  it may mean that your frontend doesn't currently support widgets.\n",
       "</p>\n"
      ],
      "text/plain": [
       "HBox(children=(IntProgress(value=0, max=10), HTML(value='')))"
      ]
     },
     "metadata": {},
     "output_type": "display_data"
    },
    {
     "name": "stdout",
     "output_type": "stream",
     "text": [
      "\n"
     ]
    },
    {
     "data": {
      "application/vnd.jupyter.widget-view+json": {
       "model_id": "5cfb460ade06468b82faeb9677e42c46",
       "version_major": 2,
       "version_minor": 0
      },
      "text/html": [
       "<p>Failed to display Jupyter Widget of type <code>HBox</code>.</p>\n",
       "<p>\n",
       "  If you're reading this message in the Jupyter Notebook or JupyterLab Notebook, it may mean\n",
       "  that the widgets JavaScript is still loading. If this message persists, it\n",
       "  likely means that the widgets JavaScript library is either not installed or\n",
       "  not enabled. See the <a href=\"https://ipywidgets.readthedocs.io/en/stable/user_install.html\">Jupyter\n",
       "  Widgets Documentation</a> for setup instructions.\n",
       "</p>\n",
       "<p>\n",
       "  If you're reading this message in another frontend (for example, a static\n",
       "  rendering on GitHub or <a href=\"https://nbviewer.jupyter.org/\">NBViewer</a>),\n",
       "  it may mean that your frontend doesn't currently support widgets.\n",
       "</p>\n"
      ],
      "text/plain": [
       "HBox(children=(IntProgress(value=0, max=10), HTML(value='')))"
      ]
     },
     "metadata": {},
     "output_type": "display_data"
    },
    {
     "name": "stdout",
     "output_type": "stream",
     "text": [
      "\n"
     ]
    },
    {
     "data": {
      "application/vnd.jupyter.widget-view+json": {
       "model_id": "a2026084ae5d45938b2ae0cd01e70054",
       "version_major": 2,
       "version_minor": 0
      },
      "text/html": [
       "<p>Failed to display Jupyter Widget of type <code>HBox</code>.</p>\n",
       "<p>\n",
       "  If you're reading this message in the Jupyter Notebook or JupyterLab Notebook, it may mean\n",
       "  that the widgets JavaScript is still loading. If this message persists, it\n",
       "  likely means that the widgets JavaScript library is either not installed or\n",
       "  not enabled. See the <a href=\"https://ipywidgets.readthedocs.io/en/stable/user_install.html\">Jupyter\n",
       "  Widgets Documentation</a> for setup instructions.\n",
       "</p>\n",
       "<p>\n",
       "  If you're reading this message in another frontend (for example, a static\n",
       "  rendering on GitHub or <a href=\"https://nbviewer.jupyter.org/\">NBViewer</a>),\n",
       "  it may mean that your frontend doesn't currently support widgets.\n",
       "</p>\n"
      ],
      "text/plain": [
       "HBox(children=(IntProgress(value=0, max=10), HTML(value='')))"
      ]
     },
     "metadata": {},
     "output_type": "display_data"
    },
    {
     "name": "stdout",
     "output_type": "stream",
     "text": [
      "\n"
     ]
    },
    {
     "data": {
      "application/vnd.jupyter.widget-view+json": {
       "model_id": "51ac77fa286d443da0aba98b65bf9657",
       "version_major": 2,
       "version_minor": 0
      },
      "text/html": [
       "<p>Failed to display Jupyter Widget of type <code>HBox</code>.</p>\n",
       "<p>\n",
       "  If you're reading this message in the Jupyter Notebook or JupyterLab Notebook, it may mean\n",
       "  that the widgets JavaScript is still loading. If this message persists, it\n",
       "  likely means that the widgets JavaScript library is either not installed or\n",
       "  not enabled. See the <a href=\"https://ipywidgets.readthedocs.io/en/stable/user_install.html\">Jupyter\n",
       "  Widgets Documentation</a> for setup instructions.\n",
       "</p>\n",
       "<p>\n",
       "  If you're reading this message in another frontend (for example, a static\n",
       "  rendering on GitHub or <a href=\"https://nbviewer.jupyter.org/\">NBViewer</a>),\n",
       "  it may mean that your frontend doesn't currently support widgets.\n",
       "</p>\n"
      ],
      "text/plain": [
       "HBox(children=(IntProgress(value=0, max=10), HTML(value='')))"
      ]
     },
     "metadata": {},
     "output_type": "display_data"
    },
    {
     "name": "stdout",
     "output_type": "stream",
     "text": [
      "\n"
     ]
    },
    {
     "data": {
      "application/vnd.jupyter.widget-view+json": {
       "model_id": "56e7264c9cd546a4ba7991c05d9c4773",
       "version_major": 2,
       "version_minor": 0
      },
      "text/html": [
       "<p>Failed to display Jupyter Widget of type <code>HBox</code>.</p>\n",
       "<p>\n",
       "  If you're reading this message in the Jupyter Notebook or JupyterLab Notebook, it may mean\n",
       "  that the widgets JavaScript is still loading. If this message persists, it\n",
       "  likely means that the widgets JavaScript library is either not installed or\n",
       "  not enabled. See the <a href=\"https://ipywidgets.readthedocs.io/en/stable/user_install.html\">Jupyter\n",
       "  Widgets Documentation</a> for setup instructions.\n",
       "</p>\n",
       "<p>\n",
       "  If you're reading this message in another frontend (for example, a static\n",
       "  rendering on GitHub or <a href=\"https://nbviewer.jupyter.org/\">NBViewer</a>),\n",
       "  it may mean that your frontend doesn't currently support widgets.\n",
       "</p>\n"
      ],
      "text/plain": [
       "HBox(children=(IntProgress(value=0, max=10), HTML(value='')))"
      ]
     },
     "metadata": {},
     "output_type": "display_data"
    },
    {
     "name": "stdout",
     "output_type": "stream",
     "text": [
      "\n"
     ]
    },
    {
     "data": {
      "application/vnd.jupyter.widget-view+json": {
       "model_id": "6f89062ac1394ac0b5de610207b67b22",
       "version_major": 2,
       "version_minor": 0
      },
      "text/html": [
       "<p>Failed to display Jupyter Widget of type <code>HBox</code>.</p>\n",
       "<p>\n",
       "  If you're reading this message in the Jupyter Notebook or JupyterLab Notebook, it may mean\n",
       "  that the widgets JavaScript is still loading. If this message persists, it\n",
       "  likely means that the widgets JavaScript library is either not installed or\n",
       "  not enabled. See the <a href=\"https://ipywidgets.readthedocs.io/en/stable/user_install.html\">Jupyter\n",
       "  Widgets Documentation</a> for setup instructions.\n",
       "</p>\n",
       "<p>\n",
       "  If you're reading this message in another frontend (for example, a static\n",
       "  rendering on GitHub or <a href=\"https://nbviewer.jupyter.org/\">NBViewer</a>),\n",
       "  it may mean that your frontend doesn't currently support widgets.\n",
       "</p>\n"
      ],
      "text/plain": [
       "HBox(children=(IntProgress(value=0, max=10), HTML(value='')))"
      ]
     },
     "metadata": {},
     "output_type": "display_data"
    },
    {
     "name": "stdout",
     "output_type": "stream",
     "text": [
      "\n"
     ]
    },
    {
     "data": {
      "application/vnd.jupyter.widget-view+json": {
       "model_id": "05775b267b6a419287a3aecca4e14348",
       "version_major": 2,
       "version_minor": 0
      },
      "text/html": [
       "<p>Failed to display Jupyter Widget of type <code>HBox</code>.</p>\n",
       "<p>\n",
       "  If you're reading this message in the Jupyter Notebook or JupyterLab Notebook, it may mean\n",
       "  that the widgets JavaScript is still loading. If this message persists, it\n",
       "  likely means that the widgets JavaScript library is either not installed or\n",
       "  not enabled. See the <a href=\"https://ipywidgets.readthedocs.io/en/stable/user_install.html\">Jupyter\n",
       "  Widgets Documentation</a> for setup instructions.\n",
       "</p>\n",
       "<p>\n",
       "  If you're reading this message in another frontend (for example, a static\n",
       "  rendering on GitHub or <a href=\"https://nbviewer.jupyter.org/\">NBViewer</a>),\n",
       "  it may mean that your frontend doesn't currently support widgets.\n",
       "</p>\n"
      ],
      "text/plain": [
       "HBox(children=(IntProgress(value=0, max=10), HTML(value='')))"
      ]
     },
     "metadata": {},
     "output_type": "display_data"
    },
    {
     "name": "stdout",
     "output_type": "stream",
     "text": [
      "\n"
     ]
    },
    {
     "data": {
      "application/vnd.jupyter.widget-view+json": {
       "model_id": "a43f88920a43492e9b0d335ea2f1ed14",
       "version_major": 2,
       "version_minor": 0
      },
      "text/html": [
       "<p>Failed to display Jupyter Widget of type <code>HBox</code>.</p>\n",
       "<p>\n",
       "  If you're reading this message in the Jupyter Notebook or JupyterLab Notebook, it may mean\n",
       "  that the widgets JavaScript is still loading. If this message persists, it\n",
       "  likely means that the widgets JavaScript library is either not installed or\n",
       "  not enabled. See the <a href=\"https://ipywidgets.readthedocs.io/en/stable/user_install.html\">Jupyter\n",
       "  Widgets Documentation</a> for setup instructions.\n",
       "</p>\n",
       "<p>\n",
       "  If you're reading this message in another frontend (for example, a static\n",
       "  rendering on GitHub or <a href=\"https://nbviewer.jupyter.org/\">NBViewer</a>),\n",
       "  it may mean that your frontend doesn't currently support widgets.\n",
       "</p>\n"
      ],
      "text/plain": [
       "HBox(children=(IntProgress(value=0, max=10), HTML(value='')))"
      ]
     },
     "metadata": {},
     "output_type": "display_data"
    },
    {
     "name": "stdout",
     "output_type": "stream",
     "text": [
      "\n"
     ]
    },
    {
     "data": {
      "application/vnd.jupyter.widget-view+json": {
       "model_id": "f3c09d36609e4abcb481b507644c9204",
       "version_major": 2,
       "version_minor": 0
      },
      "text/html": [
       "<p>Failed to display Jupyter Widget of type <code>HBox</code>.</p>\n",
       "<p>\n",
       "  If you're reading this message in the Jupyter Notebook or JupyterLab Notebook, it may mean\n",
       "  that the widgets JavaScript is still loading. If this message persists, it\n",
       "  likely means that the widgets JavaScript library is either not installed or\n",
       "  not enabled. See the <a href=\"https://ipywidgets.readthedocs.io/en/stable/user_install.html\">Jupyter\n",
       "  Widgets Documentation</a> for setup instructions.\n",
       "</p>\n",
       "<p>\n",
       "  If you're reading this message in another frontend (for example, a static\n",
       "  rendering on GitHub or <a href=\"https://nbviewer.jupyter.org/\">NBViewer</a>),\n",
       "  it may mean that your frontend doesn't currently support widgets.\n",
       "</p>\n"
      ],
      "text/plain": [
       "HBox(children=(IntProgress(value=0, max=10), HTML(value='')))"
      ]
     },
     "metadata": {},
     "output_type": "display_data"
    },
    {
     "name": "stdout",
     "output_type": "stream",
     "text": [
      "\n"
     ]
    },
    {
     "data": {
      "application/vnd.jupyter.widget-view+json": {
       "model_id": "ccb8fe353b1b44ad8fb0c958a44293d3",
       "version_major": 2,
       "version_minor": 0
      },
      "text/html": [
       "<p>Failed to display Jupyter Widget of type <code>HBox</code>.</p>\n",
       "<p>\n",
       "  If you're reading this message in the Jupyter Notebook or JupyterLab Notebook, it may mean\n",
       "  that the widgets JavaScript is still loading. If this message persists, it\n",
       "  likely means that the widgets JavaScript library is either not installed or\n",
       "  not enabled. See the <a href=\"https://ipywidgets.readthedocs.io/en/stable/user_install.html\">Jupyter\n",
       "  Widgets Documentation</a> for setup instructions.\n",
       "</p>\n",
       "<p>\n",
       "  If you're reading this message in another frontend (for example, a static\n",
       "  rendering on GitHub or <a href=\"https://nbviewer.jupyter.org/\">NBViewer</a>),\n",
       "  it may mean that your frontend doesn't currently support widgets.\n",
       "</p>\n"
      ],
      "text/plain": [
       "HBox(children=(IntProgress(value=0, max=10), HTML(value='')))"
      ]
     },
     "metadata": {},
     "output_type": "display_data"
    },
    {
     "name": "stdout",
     "output_type": "stream",
     "text": [
      "\n"
     ]
    }
   ],
   "source": [
    "corrs = np.arange(0, 1.05, 0.1) # from 0 - 1 in steps of 0.1\n",
    "results = dict(acc=[], corr=[])\n",
    "\n",
    "for i, corr in enumerate(corrs):\n",
    "    \n",
    "    conf_params = dict(corr=corr, mean=1 if corr != 0 else 0, std=0)\n",
    "\n",
    "    fmri_gen = FmriData(P=P, I=I, I_dur=I_dur, ISIs=ISIs, TR=TR,\n",
    "                        K=K, ar1_rho=ar1_rho, smoothness=smoothness,\n",
    "                        noise_factor=noise_factor, cond_means=cond_means,\n",
    "                        cond_stds=cond_stds, conf_params=conf_params,\n",
    "                        single_trial=single_trial)\n",
    "\n",
    "    pipe = make_pipeline(StandardScaler(), SVC(kernel='linear'))\n",
    "\n",
    "    iters = 10\n",
    "    for ii in tqdm_notebook(range(iters)):\n",
    "\n",
    "        X, y, conds, true_params = fmri_gen.generate_data()\n",
    "        betas, stders, tvals = fmri_gen.fit_glm(X, y, control_for_conf=True)\n",
    "        acc = cross_val_score(pipe, tvals, conds, cv=10).mean()\n",
    "        results['corr'].append(corr)\n",
    "        results['acc'].append(acc)"
   ]
  },
  {
   "cell_type": "markdown",
   "metadata": {},
   "source": [
    "And let's plot it:"
   ]
  },
  {
   "cell_type": "code",
   "execution_count": 110,
   "metadata": {},
   "outputs": [
    {
     "data": {
      "image/png": "[encoded data removed]",
      "text/plain": [
       "<matplotlib.figure.Figure at 0x1c1fe3d2b0>"
      ]
     },
     "metadata": {},
     "output_type": "display_data"
    }
   ],
   "source": [
    "df = pd.DataFrame(results)\n",
    "df['corr'] = df['corr'].round(2)\n",
    "\n",
    "plt.figure(figsize=(10, 3))\n",
    "ax = sns.pointplot(data=df, x='corr', y='acc')\n",
    "ax.set_xlabel(\"corr(conf, condition)\")\n",
    "ax.set_ylabel('Accuracy')\n",
    "ax.axhline(0.5, ls='--', c='k')\n",
    "sns.despine()\n",
    "ax.set_title('Woolgar method', fontsize=15)\n",
    "plt.show()"
   ]
  },
  {
   "cell_type": "markdown",
   "metadata": {},
   "source": [
    "Hmm, very weird! For very low correlation values, it yields negative bias and for high values (>0.7) it seems to yield positive bias! What's going on? Actually, the reviewer that suggested to look into this method offered a potential explanation: positive bias may occur due to variance decoding ([Hebart & Baker, 2017](https://www.ncbi.nlm.nih.gov/pubmed/28782682)). Variance decoding occurs when decoding is not, technically, due to any mean difference between conditions, but due to differences in variance. As suggested by the reviewer, high correlations between the confound and the condition may inflate the variance of the pattern estimates due to an (uneven) increase in covariance between trials and the confound (note that the covariance of parameters in the GLM depend on both the variance and the covariance, as is evident from the $\\sigma (X^{T}X)^{-1}$ term)."
   ]
  },
  {
   "cell_type": "code",
   "execution_count": 114,
   "metadata": {
    "scrolled": true
   },
   "outputs": [
    {
     "data": {
      "application/vnd.jupyter.widget-view+json": {
       "model_id": "a9712986a6504e94aa9df583dcdb5a51",
       "version_major": 2,
       "version_minor": 0
      },
      "text/html": [
       "<p>Failed to display Jupyter Widget of type <code>HBox</code>.</p>\n",
       "<p>\n",
       "  If you're reading this message in the Jupyter Notebook or JupyterLab Notebook, it may mean\n",
       "  that the widgets JavaScript is still loading. If this message persists, it\n",
       "  likely means that the widgets JavaScript library is either not installed or\n",
       "  not enabled. See the <a href=\"https://ipywidgets.readthedocs.io/en/stable/user_install.html\">Jupyter\n",
       "  Widgets Documentation</a> for setup instructions.\n",
       "</p>\n",
       "<p>\n",
       "  If you're reading this message in another frontend (for example, a static\n",
       "  rendering on GitHub or <a href=\"https://nbviewer.jupyter.org/\">NBViewer</a>),\n",
       "  it may mean that your frontend doesn't currently support widgets.\n",
       "</p>\n"
      ],
      "text/plain": [
       "HBox(children=(IntProgress(value=0, max=10), HTML(value='')))"
      ]
     },
     "metadata": {},
     "output_type": "display_data"
    },
    {
     "name": "stdout",
     "output_type": "stream",
     "text": [
      "\n"
     ]
    },
    {
     "data": {
      "application/vnd.jupyter.widget-view+json": {
       "model_id": "0a5334d782da4dff9f4fd8f95eefaf6e",
       "version_major": 2,
       "version_minor": 0
      },
      "text/html": [
       "<p>Failed to display Jupyter Widget of type <code>HBox</code>.</p>\n",
       "<p>\n",
       "  If you're reading this message in the Jupyter Notebook or JupyterLab Notebook, it may mean\n",
       "  that the widgets JavaScript is still loading. If this message persists, it\n",
       "  likely means that the widgets JavaScript library is either not installed or\n",
       "  not enabled. See the <a href=\"https://ipywidgets.readthedocs.io/en/stable/user_install.html\">Jupyter\n",
       "  Widgets Documentation</a> for setup instructions.\n",
       "</p>\n",
       "<p>\n",
       "  If you're reading this message in another frontend (for example, a static\n",
       "  rendering on GitHub or <a href=\"https://nbviewer.jupyter.org/\">NBViewer</a>),\n",
       "  it may mean that your frontend doesn't currently support widgets.\n",
       "</p>\n"
      ],
      "text/plain": [
       "HBox(children=(IntProgress(value=0, max=10), HTML(value='')))"
      ]
     },
     "metadata": {},
     "output_type": "display_data"
    },
    {
     "name": "stdout",
     "output_type": "stream",
     "text": [
      "\n"
     ]
    },
    {
     "data": {
      "application/vnd.jupyter.widget-view+json": {
       "model_id": "bd926631635e4203a7dc4b657da96e85",
       "version_major": 2,
       "version_minor": 0
      },
      "text/html": [
       "<p>Failed to display Jupyter Widget of type <code>HBox</code>.</p>\n",
       "<p>\n",
       "  If you're reading this message in the Jupyter Notebook or JupyterLab Notebook, it may mean\n",
       "  that the widgets JavaScript is still loading. If this message persists, it\n",
       "  likely means that the widgets JavaScript library is either not installed or\n",
       "  not enabled. See the <a href=\"https://ipywidgets.readthedocs.io/en/stable/user_install.html\">Jupyter\n",
       "  Widgets Documentation</a> for setup instructions.\n",
       "</p>\n",
       "<p>\n",
       "  If you're reading this message in another frontend (for example, a static\n",
       "  rendering on GitHub or <a href=\"https://nbviewer.jupyter.org/\">NBViewer</a>),\n",
       "  it may mean that your frontend doesn't currently support widgets.\n",
       "</p>\n"
      ],
      "text/plain": [
       "HBox(children=(IntProgress(value=0, max=10), HTML(value='')))"
      ]
     },
     "metadata": {},
     "output_type": "display_data"
    },
    {
     "name": "stdout",
     "output_type": "stream",
     "text": [
      "\n"
     ]
    },
    {
     "data": {
      "application/vnd.jupyter.widget-view+json": {
       "model_id": "fec1bf44d95744b593b942e1caf5f4fa",
       "version_major": 2,
       "version_minor": 0
      },
      "text/html": [
       "<p>Failed to display Jupyter Widget of type <code>HBox</code>.</p>\n",
       "<p>\n",
       "  If you're reading this message in the Jupyter Notebook or JupyterLab Notebook, it may mean\n",
       "  that the widgets JavaScript is still loading. If this message persists, it\n",
       "  likely means that the widgets JavaScript library is either not installed or\n",
       "  not enabled. See the <a href=\"https://ipywidgets.readthedocs.io/en/stable/user_install.html\">Jupyter\n",
       "  Widgets Documentation</a> for setup instructions.\n",
       "</p>\n",
       "<p>\n",
       "  If you're reading this message in another frontend (for example, a static\n",
       "  rendering on GitHub or <a href=\"https://nbviewer.jupyter.org/\">NBViewer</a>),\n",
       "  it may mean that your frontend doesn't currently support widgets.\n",
       "</p>\n"
      ],
      "text/plain": [
       "HBox(children=(IntProgress(value=0, max=10), HTML(value='')))"
      ]
     },
     "metadata": {},
     "output_type": "display_data"
    },
    {
     "name": "stdout",
     "output_type": "stream",
     "text": [
      "\n"
     ]
    },
    {
     "data": {
      "application/vnd.jupyter.widget-view+json": {
       "model_id": "88fcbd4a1fb643eca1e6d752d5b052af",
       "version_major": 2,
       "version_minor": 0
      },
      "text/html": [
       "<p>Failed to display Jupyter Widget of type <code>HBox</code>.</p>\n",
       "<p>\n",
       "  If you're reading this message in the Jupyter Notebook or JupyterLab Notebook, it may mean\n",
       "  that the widgets JavaScript is still loading. If this message persists, it\n",
       "  likely means that the widgets JavaScript library is either not installed or\n",
       "  not enabled. See the <a href=\"https://ipywidgets.readthedocs.io/en/stable/user_install.html\">Jupyter\n",
       "  Widgets Documentation</a> for setup instructions.\n",
       "</p>\n",
       "<p>\n",
       "  If you're reading this message in another frontend (for example, a static\n",
       "  rendering on GitHub or <a href=\"https://nbviewer.jupyter.org/\">NBViewer</a>),\n",
       "  it may mean that your frontend doesn't currently support widgets.\n",
       "</p>\n"
      ],
      "text/plain": [
       "HBox(children=(IntProgress(value=0, max=10), HTML(value='')))"
      ]
     },
     "metadata": {},
     "output_type": "display_data"
    },
    {
     "name": "stdout",
     "output_type": "stream",
     "text": [
      "\n"
     ]
    },
    {
     "data": {
      "application/vnd.jupyter.widget-view+json": {
       "model_id": "5aa373b4fff343cf9f927c6c3a0c542e",
       "version_major": 2,
       "version_minor": 0
      },
      "text/html": [
       "<p>Failed to display Jupyter Widget of type <code>HBox</code>.</p>\n",
       "<p>\n",
       "  If you're reading this message in the Jupyter Notebook or JupyterLab Notebook, it may mean\n",
       "  that the widgets JavaScript is still loading. If this message persists, it\n",
       "  likely means that the widgets JavaScript library is either not installed or\n",
       "  not enabled. See the <a href=\"https://ipywidgets.readthedocs.io/en/stable/user_install.html\">Jupyter\n",
       "  Widgets Documentation</a> for setup instructions.\n",
       "</p>\n",
       "<p>\n",
       "  If you're reading this message in another frontend (for example, a static\n",
       "  rendering on GitHub or <a href=\"https://nbviewer.jupyter.org/\">NBViewer</a>),\n",
       "  it may mean that your frontend doesn't currently support widgets.\n",
       "</p>\n"
      ],
      "text/plain": [
       "HBox(children=(IntProgress(value=0, max=10), HTML(value='')))"
      ]
     },
     "metadata": {},
     "output_type": "display_data"
    },
    {
     "name": "stdout",
     "output_type": "stream",
     "text": [
      "\n"
     ]
    },
    {
     "data": {
      "application/vnd.jupyter.widget-view+json": {
       "model_id": "4467d0ada379461f8608b4ab69ed214e",
       "version_major": 2,
       "version_minor": 0
      },
      "text/html": [
       "<p>Failed to display Jupyter Widget of type <code>HBox</code>.</p>\n",
       "<p>\n",
       "  If you're reading this message in the Jupyter Notebook or JupyterLab Notebook, it may mean\n",
       "  that the widgets JavaScript is still loading. If this message persists, it\n",
       "  likely means that the widgets JavaScript library is either not installed or\n",
       "  not enabled. See the <a href=\"https://ipywidgets.readthedocs.io/en/stable/user_install.html\">Jupyter\n",
       "  Widgets Documentation</a> for setup instructions.\n",
       "</p>\n",
       "<p>\n",
       "  If you're reading this message in another frontend (for example, a static\n",
       "  rendering on GitHub or <a href=\"https://nbviewer.jupyter.org/\">NBViewer</a>),\n",
       "  it may mean that your frontend doesn't currently support widgets.\n",
       "</p>\n"
      ],
      "text/plain": [
       "HBox(children=(IntProgress(value=0, max=10), HTML(value='')))"
      ]
     },
     "metadata": {},
     "output_type": "display_data"
    },
    {
     "name": "stdout",
     "output_type": "stream",
     "text": [
      "\n"
     ]
    },
    {
     "data": {
      "application/vnd.jupyter.widget-view+json": {
       "model_id": "dd647fc709a7496fa28f1d8a8f1c8928",
       "version_major": 2,
       "version_minor": 0
      },
      "text/html": [
       "<p>Failed to display Jupyter Widget of type <code>HBox</code>.</p>\n",
       "<p>\n",
       "  If you're reading this message in the Jupyter Notebook or JupyterLab Notebook, it may mean\n",
       "  that the widgets JavaScript is still loading. If this message persists, it\n",
       "  likely means that the widgets JavaScript library is either not installed or\n",
       "  not enabled. See the <a href=\"https://ipywidgets.readthedocs.io/en/stable/user_install.html\">Jupyter\n",
       "  Widgets Documentation</a> for setup instructions.\n",
       "</p>\n",
       "<p>\n",
       "  If you're reading this message in another frontend (for example, a static\n",
       "  rendering on GitHub or <a href=\"https://nbviewer.jupyter.org/\">NBViewer</a>),\n",
       "  it may mean that your frontend doesn't currently support widgets.\n",
       "</p>\n"
      ],
      "text/plain": [
       "HBox(children=(IntProgress(value=0, max=10), HTML(value='')))"
      ]
     },
     "metadata": {},
     "output_type": "display_data"
    },
    {
     "name": "stdout",
     "output_type": "stream",
     "text": [
      "\n"
     ]
    },
    {
     "data": {
      "application/vnd.jupyter.widget-view+json": {
       "model_id": "0a1669d04c9c42ea87b4bac07ce1f6ce",
       "version_major": 2,
       "version_minor": 0
      },
      "text/html": [
       "<p>Failed to display Jupyter Widget of type <code>HBox</code>.</p>\n",
       "<p>\n",
       "  If you're reading this message in the Jupyter Notebook or JupyterLab Notebook, it may mean\n",
       "  that the widgets JavaScript is still loading. If this message persists, it\n",
       "  likely means that the widgets JavaScript library is either not installed or\n",
       "  not enabled. See the <a href=\"https://ipywidgets.readthedocs.io/en/stable/user_install.html\">Jupyter\n",
       "  Widgets Documentation</a> for setup instructions.\n",
       "</p>\n",
       "<p>\n",
       "  If you're reading this message in another frontend (for example, a static\n",
       "  rendering on GitHub or <a href=\"https://nbviewer.jupyter.org/\">NBViewer</a>),\n",
       "  it may mean that your frontend doesn't currently support widgets.\n",
       "</p>\n"
      ],
      "text/plain": [
       "HBox(children=(IntProgress(value=0, max=10), HTML(value='')))"
      ]
     },
     "metadata": {},
     "output_type": "display_data"
    },
    {
     "name": "stdout",
     "output_type": "stream",
     "text": [
      "\n"
     ]
    },
    {
     "data": {
      "application/vnd.jupyter.widget-view+json": {
       "model_id": "7b65f47e3c1e45928fcf69a0eba020a3",
       "version_major": 2,
       "version_minor": 0
      },
      "text/html": [
       "<p>Failed to display Jupyter Widget of type <code>HBox</code>.</p>\n",
       "<p>\n",
       "  If you're reading this message in the Jupyter Notebook or JupyterLab Notebook, it may mean\n",
       "  that the widgets JavaScript is still loading. If this message persists, it\n",
       "  likely means that the widgets JavaScript library is either not installed or\n",
       "  not enabled. See the <a href=\"https://ipywidgets.readthedocs.io/en/stable/user_install.html\">Jupyter\n",
       "  Widgets Documentation</a> for setup instructions.\n",
       "</p>\n",
       "<p>\n",
       "  If you're reading this message in another frontend (for example, a static\n",
       "  rendering on GitHub or <a href=\"https://nbviewer.jupyter.org/\">NBViewer</a>),\n",
       "  it may mean that your frontend doesn't currently support widgets.\n",
       "</p>\n"
      ],
      "text/plain": [
       "HBox(children=(IntProgress(value=0, max=10), HTML(value='')))"
      ]
     },
     "metadata": {},
     "output_type": "display_data"
    },
    {
     "name": "stdout",
     "output_type": "stream",
     "text": [
      "\n"
     ]
    },
    {
     "data": {
      "application/vnd.jupyter.widget-view+json": {
       "model_id": "c34902a6762b4774bc0f16b2592d2e6f",
       "version_major": 2,
       "version_minor": 0
      },
      "text/html": [
       "<p>Failed to display Jupyter Widget of type <code>HBox</code>.</p>\n",
       "<p>\n",
       "  If you're reading this message in the Jupyter Notebook or JupyterLab Notebook, it may mean\n",
       "  that the widgets JavaScript is still loading. If this message persists, it\n",
       "  likely means that the widgets JavaScript library is either not installed or\n",
       "  not enabled. See the <a href=\"https://ipywidgets.readthedocs.io/en/stable/user_install.html\">Jupyter\n",
       "  Widgets Documentation</a> for setup instructions.\n",
       "</p>\n",
       "<p>\n",
       "  If you're reading this message in another frontend (for example, a static\n",
       "  rendering on GitHub or <a href=\"https://nbviewer.jupyter.org/\">NBViewer</a>),\n",
       "  it may mean that your frontend doesn't currently support widgets.\n",
       "</p>\n"
      ],
      "text/plain": [
       "HBox(children=(IntProgress(value=0, max=10), HTML(value='')))"
      ]
     },
     "metadata": {},
     "output_type": "display_data"
    },
    {
     "name": "stdout",
     "output_type": "stream",
     "text": [
      "\n"
     ]
    }
   ],
   "source": [
    "corrs = np.arange(0, 1.05, 0.1) # from 0 - 1 in steps of 0.1\n",
    "results = dict(acc=[], corr=[], mod=[])\n",
    "\n",
    "for i, corr in enumerate(corrs):\n",
    "    \n",
    "    conf_params = dict(corr=corr, mean=1 if corr != 0 else 0, std=0)\n",
    "\n",
    "    fmri_gen = FmriData(P=P, I=I, I_dur=I_dur, ISIs=ISIs, TR=TR,\n",
    "                        K=K, ar1_rho=ar1_rho, smoothness=smoothness,\n",
    "                        noise_factor=noise_factor, cond_means=cond_means,\n",
    "                        cond_stds=cond_stds, conf_params=conf_params,\n",
    "                        single_trial=single_trial)\n",
    "\n",
    "    pipe = make_pipeline(StandardScaler(), SVC(kernel='linear'))\n",
    "\n",
    "    iters = 10\n",
    "    for ii in tqdm_notebook(range(iters)):\n",
    "\n",
    "        X, y, conds, true_params = fmri_gen.generate_data()\n",
    "        betas, stders, tvals = fmri_gen.fit_glm(X, y, control_for_conf=True)\n",
    "        acc = cross_val_score(pipe, tvals, conds, cv=10).mean()\n",
    "        results['corr'].append(corr)\n",
    "        results['acc'].append(acc)\n",
    "        results['mod'].append('tval')\n",
    "        \n",
    "        acc = cross_val_score(pipe, stders, conds, cv=10).mean()\n",
    "        results['corr'].append(corr)\n",
    "        results['acc'].append(acc)\n",
    "        results['mod'].append('stderr')\n"
   ]
  },
  {
   "cell_type": "code",
   "execution_count": 115,
   "metadata": {},
   "outputs": [
    {
     "data": {
      "image/png": "[encoded data removed]",
      "text/plain": [
       "<matplotlib.figure.Figure at 0x1c20219518>"
      ]
     },
     "metadata": {},
     "output_type": "display_data"
    }
   ],
   "source": [
    "df = pd.DataFrame(results)\n",
    "df['corr'] = df['corr'].round(2)\n",
    "\n",
    "plt.figure(figsize=(10, 3))\n",
    "ax = sns.pointplot(data=df, x='corr', y='acc', hue='mod')\n",
    "ax.set_xlabel(\"corr(conf, condition)\")\n",
    "ax.set_ylabel('Accuracy')\n",
    "ax.axhline(0.5, ls='--', c='k')\n",
    "sns.despine()\n",
    "ax.set_title('Woolgar method', fontsize=15)\n",
    "plt.show()"
   ]
  }
 ],
 "metadata": {
  "kernelspec": {
   "display_name": "Python 3",
   "language": "python",
   "name": "python3"
  },
  "language_info": {
   "codemirror_mode": {
    "name": "ipython",
    "version": 3
   },
   "file_extension": ".py",
   "mimetype": "text/x-python",
   "name": "python",
   "nbconvert_exporter": "python",
   "pygments_lexer": "ipython3",
   "version": "3.6.3"
  }
 },
 "nbformat": 4,
 "nbformat_minor": 2
}
