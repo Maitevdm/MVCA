{
 "cells": [
  {
   "cell_type": "markdown",
   "metadata": {},
   "source": [
    "# Confounds in functional MRI\n",
    "As one of our reviewers noted, most decoding analyses (at least in cognitive neuroscience)\n",
    "are done on functional MRI, as opposed to structural MRI like we used as our main example in\n",
    "our paper (i.e., decoding gender from VBM/TBSS data). In this notebook, we simulate relatively\n",
    "realistic fMRI data (i.e., temporally and spatially autocorrelated data) with and without a \n",
    "confound and see how our method (cross-validated confound regression) does and how it compares\n",
    "to previously proposed methods (like by [Woolgar et al., 2014](https://www.sciencedirect.com/science/article/pii/S1053811914003395).\n",
    "\n",
    "First, we'll focus on our simulating fMRI data.\n",
    "\n",
    "## fMRI data simulation\n",
    "Let's import some packages we need."
   ]
  },
  {
   "cell_type": "code",
   "execution_count": 1,
   "metadata": {},
   "outputs": [],
   "source": [
    "import scipy\n",
    "import numpy as np\n",
    "import matplotlib.pyplot as plt\n",
    "import seaborn as sns\n",
    "import statsmodels.api as sm\n",
    "import pandas as pd\n",
    "\n",
    "from nistats.hemodynamic_models import spm_hrf\n",
    "from scipy.ndimage import gaussian_filter\n",
    "from sklearn.preprocessing import StandardScaler\n",
    "from sklearn.model_selection import cross_val_score\n",
    "from sklearn.svm import SVC\n",
    "from sklearn.pipeline import make_pipeline\n",
    "from scipy.stats import pearsonr\n",
    "from tqdm import tqdm_notebook\n",
    "from confounds import ConfoundRegressor\n",
    "\n",
    "%matplotlib inline"
   ]
  },
  {
   "cell_type": "markdown",
   "metadata": {},
   "source": [
    "Now, we'll create a class, `FmriData`, that is able to generate data by convolving stimulus onsets with an HRF and subsequently estimate the activity estimates of our trials across a range of voxels."
   ]
  },
  {
   "cell_type": "code",
   "execution_count": 2,
   "metadata": {},
   "outputs": [],
   "source": [
    "class FmriData:\n",
    "    \"\"\" Generates fMRI data.\n",
    "     \n",
    "    Parameters\n",
    "    ----------\n",
    "    P : int\n",
    "        Number of conditions\n",
    "    I : int\n",
    "        Number of instances per condition\n",
    "    I_dur : int\n",
    "        Duration of trial in seconds (fixed across conditions, P)\n",
    "    ISIs = list\n",
    "        List of possible ISIs\n",
    "    TR : int\n",
    "        Time to repetition (must be int for simplicity)\n",
    "    K : tuple\n",
    "        Voxel dimensions\n",
    "    ar_rho1 : float\n",
    "        AR(p) autocorrelation of noise\n",
    "    smoothness : int\n",
    "        Spatial smoothing factor (in sigma of voxel dimensions)\n",
    "    noise_factor : int/float\n",
    "        How \"strong\" the noise is (scaling factor for noise covariance matrix V)\n",
    "    cond_means : list\n",
    "        List of length P with condition means of activation\n",
    "    cond_stds : list\n",
    "        List of length P with condition standard deviation of activation\n",
    "    confound_corr : float\n",
    "        Correlation of confound with conditions (assuming 2-class condition for simplicity). If None,\n",
    "        no confound is simulated.\n",
    "    \"\"\"\n",
    " \n",
    "    def __init__(self, P=2, I=20, I_dur=2, ISIs=(4, 5, 6, 7), TR=2, K=(3, 3),\n",
    "                 ar1_rho=0.5, smoothness=2, noise_factor=1, cond_means=None, cond_stds=None,\n",
    "                 conf_params=None, single_trial=True):\n",
    "        \"\"\" Initializes FmriData object. \"\"\"\n",
    "\n",
    "        self.P = P\n",
    "        self.I = I\n",
    "        self.I_dur = I_dur\n",
    "        self.ISIs = ISIs\n",
    "        self.TR = TR\n",
    "        self.K = K\n",
    "        self.ar1_rho = ar1_rho\n",
    "        self.smoothness=smoothness\n",
    "        self.noise_factor = noise_factor\n",
    "        self.cond_means = cond_means\n",
    "        self.cond_stds = cond_stds\n",
    "        self.single_trial = single_trial\n",
    "        self.conf_params = conf_params\n",
    "\n",
    "        self.X = None\n",
    "        self.y = None\n",
    "        self.conds = None\n",
    "        self.conf = None\n",
    "        self.V = None\n",
    "        self.hrf = None\n",
    "    \n",
    "    def generate_data(self, X=None, single_trial=True):\n",
    "        \"\"\" Generates timeseries fMRI data (X, y) with or without confound.\n",
    "        \n",
    "        Parameters\n",
    "        ----------\n",
    "        X : numpy array or None\n",
    "            A numpy array of shape (timepoints x P) or (timepoints x (P*I)) for a\n",
    "            single-trial design (\"least-squares all\", LSA) or None. When None,\n",
    "            X is generated.\n",
    "        single_trial : bool\n",
    "            When False, the design has a separate regressor for each condition (p = 1 ... P).\n",
    "            When True, the design has a separate regressor for each trial (i = 1 ... P * I)\n",
    "            \n",
    "        Returns\n",
    "        -------\n",
    "        X : numpy array\n",
    "            A numpy array of shape (timepoints x P) or (timepoints x P*I)\n",
    "        y : numpy array\n",
    "            A numpy array of shape (timepoints x voxels)\n",
    "        conds : numpy array\n",
    "            A numpy array with condition labels (with P unique labels)\n",
    "        true_betas : numpy array\n",
    "            A numpy array with the true parameters used to generate the model\n",
    "        \"\"\"\n",
    "\n",
    "        if X is None:  # Generate new X (else: use prespecified X)\n",
    "            self._generate_X()\n",
    "\n",
    "        self._generate_y()\n",
    "        return self.X, self.y, self.conds, self.true_betas\n",
    "    \n",
    "    def _generate_conf(self, conds):\n",
    "        \n",
    "        weight = 0.0001\n",
    "        desired_corr = self.conf_params['corr']\n",
    "        conf = conds * weight + np.random.normal(0, 1, conds.size)\n",
    "        this_corr = pearsonr(conf, conds)[0]\n",
    "        while np.abs(this_corr - desired_corr) > 0.01:\n",
    "            conf = conds * weight + np.random.normal(0, 1, conds.size)\n",
    "            this_corr = pearsonr(conf, conds)[0]\n",
    "            weight += 0.0001\n",
    "    \n",
    "        conf = (conf - conf.min()) / (conf.max() - conf.min())\n",
    "        return conf\n",
    "        \n",
    "    def _generate_X(self):\n",
    "        \"\"\" Generates X (design matrix). \"\"\"\n",
    "        \n",
    "        single_trial = self.single_trial\n",
    "        \n",
    "        # Generate I trials for P conditions\n",
    "        conds = np.tile(np.arange(self.P), self.I)\n",
    "        conds = np.random.permutation(conds)  # shuffle trials\n",
    "\n",
    "        if len(conds) % len(self.ISIs) != 0:\n",
    "            raise ValueError(\"Please choose ISIs which can spread across trials evenly.\")\n",
    "\n",
    "        # Generate ISIs and shuffle\n",
    "        ISIs = np.repeat(self.ISIs, len(conds) / len(self.ISIs))\n",
    "        ISIs = np.random.permutation(ISIs)\n",
    "        run_dur = (np.sum(ISIs) + self.I_dur * len(conds))  # run-duration\n",
    "        \n",
    "        osf = 10  # oversampling factor for onsets/hrf\n",
    "        if single_trial:  # nr of regressors = conditions * trials\n",
    "            X = np.zeros((run_dur * osf, self.P*self.I))\n",
    "        else:  # nr regressors = nr conditions\n",
    "            X = np.zeros((run_dur * osf, self.P))\n",
    "\n",
    "        current_onset = 0  # start creating onsets\n",
    "        for i, trial in enumerate(conds):\n",
    "\n",
    "            if single_trial:\n",
    "                X[current_onset:(current_onset + self.I_dur * osf), i] = 1\n",
    "            else:\n",
    "                X[current_onset:(current_onset + self.I_dur * osf), trial] = 1\n",
    "\n",
    "            this_ITI = self.I_dur * osf + ISIs[i] * osf\n",
    "            current_onset += this_ITI\n",
    "    \n",
    "        # Define HRF\n",
    "        if self.hrf is None:\n",
    "            hrf = spm_hrf(tr=self.TR, oversampling=self.TR*osf,\n",
    "                          time_length=32.0, onset=0.0)\n",
    "            hrf = hrf / np.max(hrf)  # scale HRF, peak = 1\n",
    "        else:\n",
    "            hrf = self.hrf\n",
    "\n",
    "        # If confound model is 'additive', create a regressor based on confound\n",
    "        # and add to X to take care of convolution (to be used later when \"controlling\"\n",
    "        # for its influence)\n",
    "        if self.conf_params is not None:\n",
    "            conf = self._generate_conf(conds)\n",
    "        else:\n",
    "            conf = np.zeros(conds.size)\n",
    "            \n",
    "        conf_pred = np.zeros(run_dur * osf)\n",
    "        conf_pred[X.sum(axis=1) != 0] = np.repeat(conf, repeats=osf)\n",
    "        X = np.c_[X, conf_pred]\n",
    "\n",
    "        # Convolve regressors with HRF\n",
    "        X = np.hstack([np.convolve(X[:, i], hrf)[:run_dur*osf, np.newaxis]\n",
    "                       for i in range(X.shape[1])])\n",
    "        \n",
    "        X = X[::self.TR*osf, :]  # downsample\n",
    "        X = np.c_[np.ones(X.shape[0]), X]  # stack intercept\n",
    "\n",
    "        self.X = X\n",
    "        self.conds = conds\n",
    "        self.conf = conf\n",
    "        \n",
    "    def _generate_y(self):\n",
    "        \"\"\" Generate signals (y). \"\"\"\n",
    "        \n",
    "        X, conds, single_trial = self.X, self.conds, self.single_trial\n",
    "        if self.conf_params is None:\n",
    "            conf_mean, conf_std = 0, 0\n",
    "        else:\n",
    "            conf_mean, conf_std = self.conf_params['mean'], self.conf_params['std']\n",
    "\n",
    "        N = X.shape[0]  # N = (downsampled) timepoints\n",
    "    \n",
    "        # Create ar1 covariance matrix and generate noise\n",
    "        if self.V is None:\n",
    "            self.V = self._generate_V(N)\n",
    "\n",
    "        noise = np.random.multivariate_normal(np.zeros(N), self.V,\n",
    "                                              size=np.prod(self.K)).T\n",
    "        # Create condition means/stds\n",
    "        if single_trial:\n",
    "            # Extract actual means/stds based on condition\n",
    "            cond_means = np.array([self.cond_means[i] for i in conds])\n",
    "            cond_stds = np.array([self.cond_stds[i] for i in conds])\n",
    "        else:\n",
    "            cond_means = self.cond_means\n",
    "            cond_stds = self.cond_stds\n",
    "\n",
    "        # Add conf effects\n",
    "        cond_means = np.append(cond_means, conf_mean)\n",
    "        cond_stds = np.append(cond_stds, conf_std)\n",
    "\n",
    "        # Add intercept effects\n",
    "        cond_means = np.append(0, cond_means)\n",
    "        cond_stds = np.append(1, cond_stds)\n",
    "\n",
    "        # Create true paramaters\n",
    "        cov = np.eye(X.shape[1])\n",
    "        cov *= cond_stds\n",
    "        \n",
    "        if single_trial:\n",
    "            true_betas = np.random.multivariate_normal(cond_means.astype(float),\n",
    "                                                       cov, size=np.prod(self.K)).T\n",
    "        else:\n",
    "            true_betas = np.random.multivariate_normal(cond_means, cov,\n",
    "                                                       size=np.prod(self.K)).T\n",
    "\n",
    "        # Create signal!\n",
    "        y = X.dot(true_betas) + noise\n",
    "        \n",
    "        if self.smoothness is not None:  # Smooth if a smoothing kernel has been specified\n",
    "            #y = gaussian_filter(y.reshape((y.shape[0],) + self.K),\n",
    "            #                    self.smoothness).reshape((y.shape[0], np.prod(self.K)))\n",
    "            for i in range(y.shape[0]):\n",
    "                this_y = y[i, :].reshape(self.K)\n",
    "                y[i, :] = gaussian_filter(this_y, self.smoothness).ravel()\n",
    "\n",
    "        self.X = X\n",
    "        self.y = y\n",
    "        self.true_betas = true_betas\n",
    "        \n",
    "    def fit_glm(self, X=None, y=None, control_for_conf=False, method='LSA', remove_icept=True,\n",
    "                aggressive=False):\n",
    "        \"\"\" Fits a GLM (using generalized least squares).\n",
    "        \n",
    "        Parameters\n",
    "        ----------\n",
    "        X : numpy array or None\n",
    "            If numpy array, X should be a (timepoints x conditions/trials) array.\n",
    "            If None, the attribute `X` of the object will be used.\n",
    "        y : numpy array or None\n",
    "            If numpy array, y should be a (timepoints x voxels) array. If\n",
    "            None, the attribute `y` of the object will be used.\n",
    "        control_for_conf : bool\n",
    "            Whether to control for the confound in the first-level model. Only\n",
    "            relevant for when confound_mod='additive' was used in data generation.\n",
    "        remove_icept : bool\n",
    "            Whether to remove the intercept from the statistics (betas, t-values, etc.)\n",
    "            that will be returned\n",
    "        \n",
    "        Returns\n",
    "        -------\n",
    "        est_betas : numpy array\n",
    "            Array with *estimated* (as opposed to *true*) parameters.\n",
    "        stderrs : numpy array\n",
    "            Array with standard errors of the estimated parameters.\n",
    "        tvals : numpy array\n",
    "            Array with t-values of the estimated parameters (against baseline)\n",
    "        \"\"\"\n",
    "\n",
    "        if X is None:\n",
    "            X = self.X\n",
    "        \n",
    "        if y is None:\n",
    "            y = self.y\n",
    "        \n",
    "        if control_for_conf:\n",
    "            if aggressive:  # remove now\n",
    "                conf = X[:, -1]\n",
    "                gls_results = sm.GLS(y, X[:, -1, np.newaxis], sigma=self.V).fit()\n",
    "                y = y - X[:, -1, np.newaxis].dot(gls_results.params)\n",
    "                X = X[:, :-1]\n",
    "            else:  # remove later (during model fit)\n",
    "                X = X\n",
    "        else:\n",
    "            X = X[:, :-1]\n",
    "\n",
    "        est_betas = np.zeros((X.shape[1], y.shape[1]))\n",
    "        stderrs = np.zeros_like(est_betas)\n",
    "        tvals = np.zeros_like(est_betas)\n",
    "        \n",
    "        for i in range(y.shape[1]):  # loop over voxels\n",
    "            \n",
    "            if method == 'LSA':\n",
    "                gls_results = sm.GLS(y[:, i], X, sigma=self.V).fit()\n",
    "                est_betas[:, i] = gls_results.params\n",
    "                stderrs[:, i] = gls_results.bse\n",
    "                tvals[:, i] = gls_results.tvalues\n",
    "            elif method == 'LSS':\n",
    "\n",
    "                if control_for_conf and not aggressive:\n",
    "                    n_preds = X.shape[1] - 2\n",
    "                else:\n",
    "                    n_preds = X.shape[1] - 1\n",
    "\n",
    "                for ii in range(n_preds):\n",
    "\n",
    "                    icept = X[:, 0]\n",
    "                    if control_for_conf and not aggressive:\n",
    "                        conf = X[:, -1]\n",
    "                        other_idx = np.ones(X.shape[1]).astype(bool)\n",
    "                        other_idx[0] = False\n",
    "                        other_idx[ii + 1] = False\n",
    "                        other_preds = X[:, other_idx]\n",
    "                        this_pred = X[:, ii + 1]\n",
    "                        this_X = np.c_[icept, this_pred, other_preds, conf]\n",
    "                    else:\n",
    "                        other_idx = np.ones(X.shape[1]).astype(bool)\n",
    "                        other_idx[0] = False\n",
    "                        other_idx[ii + 1] = False\n",
    "                        other_preds = X[:, other_idx].sum(axis=1)\n",
    "                        this_pred = X[:, ii + 1]\n",
    "                        this_X = np.c_[icept, this_pred, other_preds]\n",
    "                        \n",
    "                    gls_results = sm.GLS(y[:, i], this_X, sigma=self.V).fit()\n",
    "                    est_betas[ii+1, i] = gls_results.params[1]\n",
    "                    stderrs[ii+1, i] = gls_results.bse[1]\n",
    "                    tvals[ii+1, i] = gls_results.tvalues[1]\n",
    "\n",
    "            else:\n",
    "                raise ValueError(\"Choose either LSA or LSS\")\n",
    "\n",
    "        if control_for_conf and not aggressive:  # remove confound from estimated parameters\n",
    "            est_betas = est_betas[:-1, :]\n",
    "            stderrs = stderrs[:-1, :]\n",
    "            tvals = tvals[:-1, :]\n",
    "\n",
    "        if remove_icept:  # remove intercept from estimated parameters\n",
    "            est_betas = est_betas[1:, :]\n",
    "            stderrs = stderrs[1:, :]\n",
    "            tvals = tvals[1:, :]\n",
    "        \n",
    "        return est_betas, stderrs, tvals\n",
    "\n",
    "    def _generate_V(self, N):\n",
    "        \"\"\" Generates a autocovariance matrix based on a AR(p) model. \"\"\"\n",
    "        rho = self.ar1_rho\n",
    "        cov = rho ** scipy.linalg.toeplitz(np.arange(N))\n",
    "        return cov * self.noise_factor\n",
    "\n",
    "    def plot(self, X, y, conds, voxel=(0, 0)):\n",
    "        \"\"\" Plots the design and signal of a particular voxel from a particular run. \"\"\"\n",
    "        fig, ax = plt.subplots(nrows=1, ncols=2, figsize=(20, 5), sharex=True)\n",
    "        \n",
    "        ax[0].set_prop_cycle('color', [plt.cm.Dark2(i) for i in conds])\n",
    "        ax[0].plot(X[:, 1:])\n",
    "        ax[0].axhline(0, ls='--', c='k', lw=1)\n",
    "        ax[0].set_xlim(0, X.shape[0])\n",
    "        ax[0].set_xlabel('Time (in dynamics)', fontsize=15)\n",
    "        ax[0].set_ylabel('Amplitude (a.u.)', fontsize=15)\n",
    "\n",
    "        yresh = y.reshape((y.shape[0],) + self.K)\n",
    "        ax[1].plot(yresh[:, voxel[0], voxel[1]])\n",
    "        ax[1].axhline(0, ls='--', c='k', lw=1)\n",
    "        ax[1].set_xlabel('Time (in dynamics)', fontsize=15)\n",
    "        \n",
    "        sns.despine()\n",
    "        fig.tight_layout()\n",
    "        fig.show()\n",
    "\n",
    "\n",
    "def stack_runs(generator, R=10, control_for_conf=False, aggressive=False, smooth=None):\n",
    "\n",
    "    all_betas, all_stderrs, all_tvals, all_conf = [], [], [], []\n",
    "    for i in range(R):\n",
    "        X, y, conds, true_params = generator.generate_data()\n",
    "        \n",
    "        if smooth is not None:\n",
    "            y = np.hstack([gaussian_filter(y[:, i], sigma=smooth)[:, np.newaxis]\n",
    "                           for i in range(y.shape[1])])\n",
    "        \n",
    "        betas, stderrs, tvals = fmri_gen.fit_glm(X, y, control_for_conf=control_for_conf,\n",
    "                                                 aggressive=aggressive)\n",
    "        all_betas.append(betas)\n",
    "        all_stderrs.append(stderrs)\n",
    "        all_tvals.append(tvals)\n",
    "        all_conf.append([np.mean(generator.conf[conds == i]) for i in range(generator.P)])\n",
    "        \n",
    "    betas = np.vstack(all_betas)\n",
    "    stderrs = np.vstack(all_stderrs)\n",
    "    tvals = np.vstack(all_tvals)\n",
    "    conf = np.concatenate(all_conf)\n",
    "    \n",
    "    if generator.single_trial:\n",
    "        target = np.tile(conds, R)\n",
    "        group = np.repeat(conds, R)\n",
    "    else:\n",
    "        target = np.tile(np.arange(generator.P), R)\n",
    "        group = np.repeat(np.arange(generator.P), R)\n",
    "\n",
    "    return betas, stderrs, tvals, target, group, conf"
   ]
  },
  {
   "cell_type": "markdown",
   "metadata": {},
   "source": [
    "So, how does this work? Well, for our purposes, we'll generate the signal(s), $y$, as function of the design, $X$, the true parameters, $\\beta$, and noise, $\\epsilon$, in the following manner:\n",
    "\n",
    "\\begin{align}\n",
    "y = X\\beta + \\epsilon\n",
    "\\end{align}\n",
    "\n",
    "Here, we generate $\\epsilon$ from a multivariate normal distribution with mean $\\mu = 0$ and covariance matrix $V$:\n",
    "\n",
    "\\begin{align}\n",
    "\\epsilon \\sim N(0, V)\n",
    "\\end{align}\n",
    "\n",
    "V is assumed to follow an AR(p) model.\n",
    "\n",
    "Then, we generate $\\beta$ from a $K$-dimensional (number of voxels) multivariate normal distribution with means $\\mu$ and covariance matrix $\\sigma I$, where $I$ is the identity matrix (i.e., the true parameters $\\beta$ are uncorrelated across voxels, but may differ in variance):\n",
    "\n",
    "\\begin{align}\n",
    "\\beta \\sim N(\\mu, \\sigma I)\n",
    "\\end{align}\n",
    "\n",
    "Lastly, $X$ is constructed as a set of regressors (one for each trial) that are the result of a convolution of a finite impulse response and an HRF:\n",
    "\n",
    "\\begin{align}\n",
    "X_{j} = conv(X_{j}, HRF) \n",
    "\\end{align}"
   ]
  },
  {
   "cell_type": "markdown",
   "metadata": {},
   "source": [
    "## Generating null-data\n",
    "Alright, so let's specify some parameters for our experiment. We'll make sure it represents null-data (no effect; i.e., no reliable difference between voxels patterns across $P$ conditions) by setting the condition-means to `(1, 1)`."
   ]
  },
  {
   "cell_type": "markdown",
   "metadata": {},
   "source": [
    "Alright, now let's check whether it's really null data. We'll simulate data 100 times and check the average decoding accuracy:"
   ]
  },
  {
   "cell_type": "code",
   "execution_count": 3,
   "metadata": {},
   "outputs": [],
   "source": [
    "default_pipe = make_pipeline(StandardScaler(), SVC(kernel='linear'))"
   ]
  },
  {
   "cell_type": "code",
   "execution_count": 4,
   "metadata": {},
   "outputs": [
    {
     "data": {
      "application/vnd.jupyter.widget-view+json": {
       "model_id": "0516c1ae3b60420ea2292915372cfb8c",
       "version_major": 2,
       "version_minor": 0
      },
      "text/html": [
       "<p>Failed to display Jupyter Widget of type <code>HBox</code>.</p>\n",
       "<p>\n",
       "  If you're reading this message in the Jupyter Notebook or JupyterLab Notebook, it may mean\n",
       "  that the widgets JavaScript is still loading. If this message persists, it\n",
       "  likely means that the widgets JavaScript library is either not installed or\n",
       "  not enabled. See the <a href=\"https://ipywidgets.readthedocs.io/en/stable/user_install.html\">Jupyter\n",
       "  Widgets Documentation</a> for setup instructions.\n",
       "</p>\n",
       "<p>\n",
       "  If you're reading this message in another frontend (for example, a static\n",
       "  rendering on GitHub or <a href=\"https://nbviewer.jupyter.org/\">NBViewer</a>),\n",
       "  it may mean that your frontend doesn't currently support widgets.\n",
       "</p>\n"
      ],
      "text/plain": [
       "HBox(children=(IntProgress(value=0, max=10), HTML(value='')))"
      ]
     },
     "metadata": {},
     "output_type": "display_data"
    },
    {
     "name": "stdout",
     "output_type": "stream",
     "text": [
      "\n"
     ]
    },
    {
     "data": {
      "image/png": "[encoded data removed]",
      "text/plain": [
       "<Figure size 432x288 with 1 Axes>"
      ]
     },
     "metadata": {},
     "output_type": "display_data"
    },
    {
     "name": "stdout",
     "output_type": "stream",
     "text": [
      "Mean accuracy across iterations: 0.534\n"
     ]
    }
   ],
   "source": [
    "fmri_gen = FmriData(P=2, I=40, I_dur=1, ISIs=[4,5], TR=2,\n",
    "                    K=(10, 10), ar1_rho=0.5, smoothness=1,\n",
    "                    noise_factor=1, cond_means=(1, 1),\n",
    "                    cond_stds=(0.5, 0.5), single_trial=True)\n",
    "\n",
    "iters = 10\n",
    "mean_acc = np.zeros(iters)\n",
    "for i in tqdm_notebook(range(iters)):\n",
    "    \n",
    "    X, y, conds, true_params = fmri_gen.generate_data()\n",
    "    betas, stderss, tvals = fmri_gen.fit_glm(X, y, control_for_conf=False)\n",
    "    mean_acc[i] = cross_val_score(default_pipe, tvals, conds, cv=10).mean()\n",
    "\n",
    "plt.hist(mean_acc)\n",
    "plt.axvline(mean_acc.mean(), c='r', ls='--')\n",
    "plt.show()\n",
    "\n",
    "print(\"Mean accuracy across iterations: %.3f\" % mean_acc.mean())"
   ]
  },
  {
   "cell_type": "markdown",
   "metadata": {},
   "source": [
    "Let's also try it for run-wise decoding:"
   ]
  },
  {
   "cell_type": "code",
   "execution_count": 5,
   "metadata": {},
   "outputs": [
    {
     "data": {
      "application/vnd.jupyter.widget-view+json": {
       "model_id": "9a58854e7f5e46acab5d50b985818107",
       "version_major": 2,
       "version_minor": 0
      },
      "text/html": [
       "<p>Failed to display Jupyter Widget of type <code>HBox</code>.</p>\n",
       "<p>\n",
       "  If you're reading this message in the Jupyter Notebook or JupyterLab Notebook, it may mean\n",
       "  that the widgets JavaScript is still loading. If this message persists, it\n",
       "  likely means that the widgets JavaScript library is either not installed or\n",
       "  not enabled. See the <a href=\"https://ipywidgets.readthedocs.io/en/stable/user_install.html\">Jupyter\n",
       "  Widgets Documentation</a> for setup instructions.\n",
       "</p>\n",
       "<p>\n",
       "  If you're reading this message in another frontend (for example, a static\n",
       "  rendering on GitHub or <a href=\"https://nbviewer.jupyter.org/\">NBViewer</a>),\n",
       "  it may mean that your frontend doesn't currently support widgets.\n",
       "</p>\n"
      ],
      "text/plain": [
       "HBox(children=(IntProgress(value=0, max=10), HTML(value='')))"
      ]
     },
     "metadata": {},
     "output_type": "display_data"
    },
    {
     "name": "stdout",
     "output_type": "stream",
     "text": [
      "\n"
     ]
    },
    {
     "data": {
      "image/png": "[encoded data removed]",
      "text/plain": [
       "<Figure size 432x288 with 1 Axes>"
      ]
     },
     "metadata": {},
     "output_type": "display_data"
    },
    {
     "name": "stdout",
     "output_type": "stream",
     "text": [
      "Mean accuracy across iterations: 0.485\n"
     ]
    }
   ],
   "source": [
    "fmri_gen = FmriData(P=2, I=40, I_dur=1, ISIs=[4,5], TR=2,\n",
    "                    K=(10, 10), ar1_rho=0.5, smoothness=1,\n",
    "                    noise_factor=1, cond_means=(1, 1),\n",
    "                    cond_stds=(0.5, 0.5), single_trial=False)\n",
    "\n",
    "iters = 10\n",
    "mean_acc = np.zeros(iters)\n",
    "for i in tqdm_notebook(range(iters)):\n",
    "    \n",
    "    _, _, tvals, target, group, conf = stack_runs(fmri_gen, R=10)\n",
    "    mean_acc[i] = cross_val_score(default_pipe, tvals, target, cv=10, groups=group).mean()\n",
    "\n",
    "plt.hist(mean_acc)\n",
    "plt.axvline(mean_acc.mean(), c='r', ls='--')\n",
    "plt.show()\n",
    "\n",
    "print(\"Mean accuracy across iterations: %.3f\" % mean_acc.mean())"
   ]
  },
  {
   "cell_type": "markdown",
   "metadata": {},
   "source": [
    "Alright, that checks out! Now, just to be sure, let's simulate data with some effect (i.e., difference in patterns between conditions). We'll set the condition means to 1.0 and 1.1. This should increase our decoding accuracy."
   ]
  },
  {
   "cell_type": "code",
   "execution_count": null,
   "metadata": {},
   "outputs": [],
   "source": [
    "fmri_gen = FmriData(P=2, I=40, I_dur=1, ISIs=[4,5], TR=2,\n",
    "                    K=(10, 10), ar1_rho=0.5, smoothness=1,\n",
    "                    noise_factor=1, cond_means=(1, 1.1),\n",
    "                    cond_stds=(0.5, 0.5), single_trial=True)\n",
    "\n",
    "iters = 10\n",
    "mean_acc = np.zeros(iters)\n",
    "for i in tqdm_notebook(range(iters)):\n",
    "    \n",
    "    X, y, conds, true_params = fmri_gen.generate_data()\n",
    "    betas, stderss, tvals = fmri_gen.fit_glm(X, y, control_for_conf=False)\n",
    "    mean_acc[i] = cross_val_score(default_pipe, tvals, conds, cv=10).mean()\n",
    "\n",
    "plt.hist(mean_acc)\n",
    "plt.axvline(mean_acc.mean(), c='r', ls='--')\n",
    "plt.show()\n",
    "\n",
    "print(\"Mean accuracy across iterations: %.3f\" % mean_acc.mean())"
   ]
  },
  {
   "cell_type": "markdown",
   "metadata": {},
   "source": [
    "And run-wise decoding:"
   ]
  },
  {
   "cell_type": "code",
   "execution_count": null,
   "metadata": {},
   "outputs": [],
   "source": [
    "fmri_gen = FmriData(P=2, I=40, I_dur=1, ISIs=[4,5], TR=2,\n",
    "                    K=(10, 10), ar1_rho=0.5, smoothness=1,\n",
    "                    noise_factor=1, cond_means=(1, 1.1),\n",
    "                    cond_stds=(0.5, 0.5), single_trial=True)\n",
    "\n",
    "iters = 10\n",
    "mean_acc = np.zeros(iters)\n",
    "for i in tqdm_notebook(range(iters)):\n",
    "    \n",
    "    _, _, tvals, target, group = stack_runs(fmri_gen, R=10)\n",
    "    mean_acc[i] = cross_val_score(default_pipe, tvals, target, cv=10, groups=group).mean()\n",
    "\n",
    "plt.hist(mean_acc)\n",
    "plt.axvline(mean_acc.mean(), c='r', ls='--')\n",
    "plt.show()\n",
    "\n",
    "print(\"Mean accuracy across iterations: %.3f\" % mean_acc.mean())"
   ]
  },
  {
   "cell_type": "markdown",
   "metadata": {},
   "source": [
    "This makes sense! Now, let's check out what happens when we include a confound."
   ]
  },
  {
   "cell_type": "markdown",
   "metadata": {},
   "source": [
    "## Generating data with a confound\n",
    "Now, we'll simulate some data affected by a confound. To generate the data, we'll use the \"additive\" model from the Woolgar et al. article. In this model, they assume the confound has some additive effect on the true activation parameters of each voxel. Accordingly, we generate the data as:\n",
    "\n",
    "\\begin{align}\n",
    "y = X\\beta_{X} + C\\beta_{C} + \\epsilon\n",
    "\\end{align}\n",
    "\n",
    "where $C$ is an array of shape ($N \\times 1$) representing the confound onsets convolved with an HRF. In our data generation, $C$ can be generated with a prespecified correlation to the conditions and the weight ($\\beta_{C}$) is drawn from a normal distribution:\n",
    "\n",
    "\\begin{align}\n",
    "\\beta_{C} \\sim N(\\mu_{\\beta_{C}}, \\sigma_{\\beta_{C}})\n",
    "\\end{align}\n",
    "\n",
    "Think of $C$ like something as reaction time that may have an additional effect on voxels that (may or may not) encode something like rules (like in the original Woolgar article). Now, we'll set the condition means to zero again to simulate some null-data, but we're also setting the correlation between the confound and the true conditions to 0.5, so we expect based on the confound alone that the decoding accuracy will be higher."
   ]
  },
  {
   "cell_type": "code",
   "execution_count": null,
   "metadata": {},
   "outputs": [],
   "source": [
    "fmri_gen = FmriData(P=2, I=40, I_dur=1, ISIs=[4,5], TR=2,\n",
    "                    K=(10, 10), ar1_rho=0.5, smoothness=1,\n",
    "                    noise_factor=1, cond_means=(1, 1),\n",
    "                    cond_stds=(0.5, 0.5), single_trial=True,\n",
    "                    conf_params=dict(corr=0.5, mean=1, std=0))\n",
    "\n",
    "iters = 10\n",
    "mean_acc = np.zeros(iters)\n",
    "for i in tqdm_notebook(range(iters)):\n",
    "\n",
    "    X, y, conds, true_params = fmri_gen.generate_data()\n",
    "    betas, stderss, tvals = fmri_gen.fit_glm(X, y)\n",
    "    mean_acc[i] = cross_val_score(default_pipe, tvals, conds, cv=10).mean()\n",
    "\n",
    "plt.hist(mean_acc)\n",
    "plt.axvline(mean_acc.mean(), c='r', ls='--')\n",
    "plt.show()\n",
    "\n",
    "print(\"Mean accuracy across iterations: %.3f\" % mean_acc.mean())"
   ]
  },
  {
   "cell_type": "markdown",
   "metadata": {},
   "source": [
    "Again, let's try it for run-wise decoding:"
   ]
  },
  {
   "cell_type": "code",
   "execution_count": null,
   "metadata": {},
   "outputs": [],
   "source": [
    "fmri_gen = FmriData(P=2, I=40, I_dur=1, ISIs=[4,5], TR=2,\n",
    "                    K=(10, 10), ar1_rho=0.5, smoothness=1,\n",
    "                    noise_factor=1, cond_means=(1, 1),\n",
    "                    cond_stds=(0.5, 0.5), single_trial=False,\n",
    "                    conf_params=dict(corr=0.5, mean=1, std=0))\n",
    "\n",
    "iters = 10\n",
    "mean_acc = np.zeros(iters)\n",
    "for i in tqdm_notebook(range(iters)):\n",
    "\n",
    "    X, y, conds, true_params = fmri_gen.generate_data()\n",
    "    betas, stderss, tvals = fmri_gen.fit_glm(X, y)\n",
    "    _, _, tvals, target, group, conf = stack_runs(fmri_gen, R=10)\n",
    "    mean_acc[i] = cross_val_score(default_pipe, tvals, target, cv=10, groups=group).mean()\n",
    "\n",
    "plt.hist(mean_acc)\n",
    "plt.axvline(mean_acc.mean(), c='r', ls='--')\n",
    "plt.show()\n",
    "\n",
    "print(\"Mean accuracy across iterations: %.3f\" % mean_acc.mean())"
   ]
  },
  {
   "cell_type": "markdown",
   "metadata": {},
   "source": [
    "Alright, that seems to work! Interestingly, the run-wise decoding accuracy is affected more, but probably because it more or less has 10 times the power (10 x 80 trials instead of 80 trials in one run). Now, how to control for this influence? We can of course use confound regression! Let's actually test both WDCR and CVCV. We expect, given the result from the main paper, that WDCR will yield negative bias while CVCR will yield relatively unbiased results."
   ]
  },
  {
   "cell_type": "markdown",
   "metadata": {},
   "source": [
    "### WDCR\n",
    "WDCR entails regressing our the confound ($C$) from the data ($X$) before cross-validation (i.e, $X = X - C\\beta$) on a range of correlations between the target and the confound. First, let's do it with trial-wise decoding:"
   ]
  },
  {
   "cell_type": "code",
   "execution_count": null,
   "metadata": {},
   "outputs": [],
   "source": [
    "results = dict(acc=[], method=[], corr=[])\n",
    "for corr in tqdm_notebook(np.arange(0, 1.05, 0.1)):\n",
    "\n",
    "    iters = 10\n",
    "    for ii in range(iters):\n",
    "        fmri_gen = FmriData(P=2, I=40, I_dur=1, ISIs=[4,5], TR=2,\n",
    "                        K=(10, 10), ar1_rho=0.5, smoothness=1,\n",
    "                        noise_factor=1, cond_means=(1, 1),\n",
    "                        cond_stds=(0.5, 0.5), single_trial=True,\n",
    "                        conf_params=dict(corr=corr, mean=1, std=0))\n",
    "\n",
    "        X, y, conds, true_params = fmri_gen.generate_data()\n",
    "        betas, stders, tvals = fmri_gen.fit_glm(X, y)\n",
    "        acc = cross_val_score(default_pipe, tvals, conds, cv=10).mean()\n",
    "        results['acc'].append(acc)\n",
    "        results['method'].append('No control')\n",
    "        results['corr'].append(corr)\n",
    "\n",
    "        cfr = ConfoundRegressor(X=tvals, confound=fmri_gen.conf)\n",
    "        tvals = cfr.fit_transform(tvals)\n",
    "        acc = cross_val_score(default_pipe, tvals, conds, cv=10).mean()\n",
    "        results['acc'].append(acc)\n",
    "        results['method'].append('WDCR')\n",
    "        results['corr'].append(corr)\n",
    "\n",
    "df_WDCR_tw = pd.DataFrame(results)\n",
    "df_WDCR_tw['corr'] = df_WDCR_tw['corr'].round(1)"
   ]
  },
  {
   "cell_type": "markdown",
   "metadata": {},
   "source": [
    "Let's plot it:"
   ]
  },
  {
   "cell_type": "code",
   "execution_count": null,
   "metadata": {},
   "outputs": [],
   "source": [
    "plt.figure(figsize=(11, 4))\n",
    "ax = sns.pointplot(data=df_WDCR_tw, x='corr', y='acc', hue='method')\n",
    "ax.axhline(0.5, ls='--', c='k')\n",
    "ax.legend(frameon=False, fontsize=15)\n",
    "ax.set_ylabel('Accuracy', fontsize=15)\n",
    "ax.set_xlabel('$r_{Cy}$', fontsize=20)\n",
    "\n",
    "sns.despine()\n",
    "plt.show()"
   ]
  },
  {
   "cell_type": "markdown",
   "metadata": {},
   "source": [
    "Alright, below-chance accuracy as expected. Does this also happen for run-wise decoding?"
   ]
  },
  {
   "cell_type": "code",
   "execution_count": null,
   "metadata": {},
   "outputs": [],
   "source": [
    "results = dict(acc=[], method=[], corr=[])\n",
    "for corr in tqdm_notebook(np.arange(0, 1.05, 0.1)):\n",
    "\n",
    "    iters = 10\n",
    "    for ii in range(iters):\n",
    "        fmri_gen = FmriData(P=2, I=40, I_dur=1, ISIs=[4,5], TR=2,\n",
    "                        K=(10, 10), ar1_rho=0.5, smoothness=1,\n",
    "                        noise_factor=1, cond_means=(1, 1),\n",
    "                        cond_stds=(0.5, 0.5), single_trial=False,\n",
    "                        conf_params=dict(corr=corr, mean=1, std=0))\n",
    "\n",
    "        _, _, tvals, target, group, conf = stack_runs(fmri_gen, R=10)\n",
    "        acc = cross_val_score(default_pipe, tvals, target, cv=10, groups=group).mean()\n",
    "        results['acc'].append(acc)\n",
    "        results['method'].append('No control')\n",
    "        results['corr'].append(corr)\n",
    "\n",
    "        cfr = ConfoundRegressor(X=tvals, confound=conf)\n",
    "        tvals = cfr.fit_transform(tvals)\n",
    "        acc = cross_val_score(default_pipe, tvals, target, cv=10, groups=group).mean()\n",
    "        results['acc'].append(acc)\n",
    "        results['method'].append('WDCR')\n",
    "        results['corr'].append(corr)\n",
    "\n",
    "df_WDCR_rw = pd.DataFrame(results)\n",
    "df_WDCR_rw['corr'] = df_WDCR_rw['corr'].round(1)"
   ]
  },
  {
   "cell_type": "markdown",
   "metadata": {},
   "source": [
    "Let's plot it:"
   ]
  },
  {
   "cell_type": "code",
   "execution_count": null,
   "metadata": {},
   "outputs": [],
   "source": [
    "plt.figure(figsize=(11, 4))\n",
    "ax = sns.pointplot(data=df_WDCR_rw, x='corr', y='acc', hue='method')\n",
    "ax.axhline(0.5, ls='--', c='k')\n",
    "ax.legend(frameon=False, fontsize=15)\n",
    "ax.set_ylabel('Accuracy', fontsize=15)\n",
    "ax.set_xlabel('$r_{Cy}$', fontsize=20)\n",
    "\n",
    "sns.despine()\n",
    "plt.show()"
   ]
  },
  {
   "cell_type": "markdown",
   "metadata": {},
   "source": [
    "## CVCR\n",
    "Let's see how CVCR does. First, trial-wise:"
   ]
  },
  {
   "cell_type": "code",
   "execution_count": null,
   "metadata": {},
   "outputs": [],
   "source": [
    "results = dict(acc=[], method=[], corr=[])\n",
    "for corr in tqdm_notebook(np.arange(0, 1.05, 0.1)):\n",
    "\n",
    "    iters = 10\n",
    "    for ii in range(iters):\n",
    "        fmri_gen = FmriData(P=2, I=40, I_dur=1, ISIs=[4,5], TR=2,\n",
    "                        K=(10, 10), ar1_rho=0.5, smoothness=1,\n",
    "                        noise_factor=1, cond_means=(1, 1),\n",
    "                        cond_stds=(0.5, 0.5), single_trial=True,\n",
    "                        conf_params=dict(corr=corr, mean=1, std=0))\n",
    "\n",
    "        X, y, conds, true_params = fmri_gen.generate_data()\n",
    "        betas, stders, tvals = fmri_gen.fit_glm(X, y)\n",
    "        acc = cross_val_score(default_pipe, tvals, conds, cv=10).mean()\n",
    "        \n",
    "        results['acc'].append(acc)\n",
    "        results['method'].append('No control')\n",
    "        results['corr'].append(corr)\n",
    "\n",
    "        cfr = ConfoundRegressor(X=tvals, confound=fmri_gen.conf)\n",
    "        cfr_pipe = make_pipeline(cfr, StandardScaler(), SVC(kernel='linear'))\n",
    "        acc = cross_val_score(cfr_pipe, tvals, conds, cv=10).mean()\n",
    "        results['acc'].append(acc)\n",
    "        results['method'].append('CVCR')\n",
    "        results['corr'].append(corr)\n",
    "\n",
    "df_CVCR_tw = pd.DataFrame(results)\n",
    "df_CVCR_tw['corr'] = df_WDCR_tw['corr'].round(1)"
   ]
  },
  {
   "cell_type": "markdown",
   "metadata": {},
   "source": [
    "And let's plot it:"
   ]
  },
  {
   "cell_type": "code",
   "execution_count": null,
   "metadata": {},
   "outputs": [],
   "source": [
    "plt.figure(figsize=(11, 4))\n",
    "ax = sns.pointplot(data=df_CVCR_tw, x='corr', y='acc', hue='method')\n",
    "ax.axhline(0.5, ls='--', c='k')\n",
    "ax.legend(frameon=False, fontsize=15)\n",
    "ax.set_ylabel('Accuracy', fontsize=15)\n",
    "ax.set_xlabel('$r_{Cy}$', fontsize=20)\n",
    "\n",
    "sns.despine()\n",
    "plt.show()"
   ]
  },
  {
   "cell_type": "markdown",
   "metadata": {},
   "source": [
    "Now, run-wise:"
   ]
  },
  {
   "cell_type": "code",
   "execution_count": null,
   "metadata": {},
   "outputs": [],
   "source": [
    "results = dict(acc=[], method=[], corr=[])\n",
    "for corr in tqdm_notebook(np.arange(0, 1.05, 0.1)):\n",
    "\n",
    "    iters = 10\n",
    "    for ii in range(iters):\n",
    "        fmri_gen = FmriData(P=2, I=40, I_dur=1, ISIs=[4,5], TR=2,\n",
    "                        K=(10, 10), ar1_rho=0.5, smoothness=1,\n",
    "                        noise_factor=1, cond_means=(1, 1),\n",
    "                        cond_stds=(0.5, 0.5), single_trial=False,\n",
    "                        conf_params=dict(corr=corr, mean=1, std=0))\n",
    "\n",
    "        _, _, tvals, target, group, conf = stack_runs(fmri_gen, R=10)\n",
    "        acc = cross_val_score(default_pipe, tvals, target, cv=10, groups=group).mean()\n",
    "        results['acc'].append(acc)\n",
    "        results['method'].append('No control')\n",
    "        results['corr'].append(corr)\n",
    "\n",
    "        cfr_pipe = make_pipeline(ConfoundRegressor(X=tvals, confound=conf),\n",
    "                                 StandardScaler(), SVC(kernel='linear'))\n",
    "        acc = cross_val_score(cfr_pipe, tvals, target, cv=10, groups=group).mean()\n",
    "        results['acc'].append(acc)\n",
    "        results['method'].append('CVCR')\n",
    "        results['corr'].append(corr)\n",
    "        \n",
    "df_CVCR_rw = pd.DataFrame(results)\n",
    "df_CVCR_rw['corr'] = df_CVCR_rw['corr'].round(1)"
   ]
  },
  {
   "cell_type": "markdown",
   "metadata": {},
   "source": [
    "And let's plot it:"
   ]
  },
  {
   "cell_type": "code",
   "execution_count": null,
   "metadata": {},
   "outputs": [],
   "source": [
    "plt.figure(figsize=(11, 4))\n",
    "ax = sns.pointplot(data=df_CVCR_rw, x='corr', y='acc', hue='method')\n",
    "ax.axhline(0.5, ls='--', c='k')\n",
    "ax.legend(frameon=False, fontsize=15)\n",
    "ax.set_ylabel('Accuracy', fontsize=15)\n",
    "ax.set_xlabel('$r_{Cy}$', fontsize=20)\n",
    "\n",
    "sns.despine()\n",
    "plt.show()"
   ]
  },
  {
   "cell_type": "markdown",
   "metadata": {},
   "source": [
    "That looks good! Now let's plot everything in one figure for the supplementary materials:"
   ]
  },
  {
   "cell_type": "code",
   "execution_count": null,
   "metadata": {},
   "outputs": [],
   "source": [
    "fig, ax = plt.subplots(nrows=2, ncols=2, sharex=True, sharey=True, figsize=(15, 5))\n",
    "dfs = [df_WDCR_tw, df_WDCR_rw, df_CVCR_tw, df_CVCR_rw]\n",
    "txts = ['WDCR', 'WDCR', 'CVCR', 'CVCR']\n",
    "\n",
    "for i, ax in enumerate(ax.flatten()):\n",
    "    ax = sns.pointplot(data=dfs[i], x='corr', y='acc', hue='method', ax=ax)\n",
    "    ax.axhline(0.5, ls='--', c='k')\n",
    "    ax.text(0, 0.1, txts[i], fontsize=20)\n",
    "\n",
    "    if i > 1:\n",
    "        ax.legend_.remove()\n",
    "    else:\n",
    "        ax.legend(frameon=False)\n",
    "\n",
    "    if i in [0, 2]:\n",
    "        ax.set_ylabel('Accuracy', fontsize=15)\n",
    "    else:\n",
    "        ax.set_ylabel('')\n",
    "    \n",
    "    if i in [2, 3]:\n",
    "        ax.set_xlabel(r'$r_{Cy}$', fontsize=20)\n",
    "    else:\n",
    "        ax.set_xlabel('')\n",
    "\n",
    "    if i == 0:\n",
    "        ax.set_title('Trial-wise decoding', fontsize=20)\n",
    "\n",
    "    if i == 1:\n",
    "        ax.set_title('Run-wise decoding', fontsize=20)\n",
    "        \n",
    "fig.tight_layout()\n",
    "sns.despine()"
   ]
  },
  {
   "cell_type": "markdown",
   "metadata": {},
   "source": [
    "\n",
    "## Autocorrelated patterns\n",
    "\n",
    "One reviewer was interested in how CVCR would behave when patterns would be more or less autocorrelated. Let's check that out! We can vary autocorrelation in our data generation process easily by varying the ISIs between trials: shorter ISIs will yield more autocorrelation between patterns. Let's verify this by plotting the correlation matrix between patterns for various ISIs. We expect to see \"brighter\" values around the diagonal for short ISIs."
   ]
  },
  {
   "cell_type": "code",
   "execution_count": null,
   "metadata": {},
   "outputs": [],
   "source": [
    "smoothing_kernels = [0, 1, 2, 3, 4]\n",
    "plt.figure(figsize=(15, 5))\n",
    "for i, sk in enumerate(smoothing_kernels):\n",
    "\n",
    "    fmri_gen = FmriData(P=2, I=40, I_dur=1, ISIs=[4,5], TR=2,\n",
    "                    K=(10, 10), ar1_rho=0.5, smoothness=1,\n",
    "                    noise_factor=1, cond_means=(1, 1),\n",
    "                    cond_stds=(0.5, 0.5), single_trial=True,\n",
    "                    conf_params=dict(corr=0.5, mean=1, std=0))\n",
    "\n",
    "    X, y, conds, true_params = fmri_gen.generate_data()\n",
    "    y = np.hstack([gaussian_filter(y[:, i], sigma=sk)[:, np.newaxis]\n",
    "                   for i in range(y.shape[1])])\n",
    "    betas, stders, tvals = fmri_gen.fit_glm(X, y, control_for_conf=True)\n",
    "    \n",
    "    pattern_corrs = np.corrcoef(tvals)\n",
    "    plt.subplot(1, len(smoothing_kernels), i+1)\n",
    "    # Note the scaling: this emphasizes the contrast between high and \n",
    "    # low correlations\n",
    "    plt.imshow(pattern_corrs)\n",
    "    plt.axis('off')\n",
    "    plt.title(\"Smoothing kernel: %i\" % sk, fontsize=15)\n",
    "    \n",
    "plt.tight_layout()\n",
    "plt.show()"
   ]
  },
  {
   "cell_type": "markdown",
   "metadata": {},
   "source": [
    "You can clearly see that the patterns are more autocorrelated for short ISIs. (Note that for lower ISIs, the first-level model becomes non-invertible.)\n",
    "\n",
    "Now, how does CVCR do with these different types of data?"
   ]
  },
  {
   "cell_type": "code",
   "execution_count": 10,
   "metadata": {},
   "outputs": [
    {
     "data": {
      "application/vnd.jupyter.widget-view+json": {
       "model_id": "a0c90be8079b431fbb1d2035e2578a06",
       "version_major": 2,
       "version_minor": 0
      },
      "text/html": [
       "<p>Failed to display Jupyter Widget of type <code>HBox</code>.</p>\n",
       "<p>\n",
       "  If you're reading this message in the Jupyter Notebook or JupyterLab Notebook, it may mean\n",
       "  that the widgets JavaScript is still loading. If this message persists, it\n",
       "  likely means that the widgets JavaScript library is either not installed or\n",
       "  not enabled. See the <a href=\"https://ipywidgets.readthedocs.io/en/stable/user_install.html\">Jupyter\n",
       "  Widgets Documentation</a> for setup instructions.\n",
       "</p>\n",
       "<p>\n",
       "  If you're reading this message in another frontend (for example, a static\n",
       "  rendering on GitHub or <a href=\"https://nbviewer.jupyter.org/\">NBViewer</a>),\n",
       "  it may mean that your frontend doesn't currently support widgets.\n",
       "</p>\n"
      ],
      "text/plain": [
       "HBox(children=(IntProgress(value=1, bar_style='info', max=1), HTML(value='')))"
      ]
     },
     "metadata": {},
     "output_type": "display_data"
    },
    {
     "data": {
      "application/vnd.jupyter.widget-view+json": {
       "model_id": "0b0b4b832dcd4d5493c1cd90242fd08e",
       "version_major": 2,
       "version_minor": 0
      },
      "text/html": [
       "<p>Failed to display Jupyter Widget of type <code>HBox</code>.</p>\n",
       "<p>\n",
       "  If you're reading this message in the Jupyter Notebook or JupyterLab Notebook, it may mean\n",
       "  that the widgets JavaScript is still loading. If this message persists, it\n",
       "  likely means that the widgets JavaScript library is either not installed or\n",
       "  not enabled. See the <a href=\"https://ipywidgets.readthedocs.io/en/stable/user_install.html\">Jupyter\n",
       "  Widgets Documentation</a> for setup instructions.\n",
       "</p>\n",
       "<p>\n",
       "  If you're reading this message in another frontend (for example, a static\n",
       "  rendering on GitHub or <a href=\"https://nbviewer.jupyter.org/\">NBViewer</a>),\n",
       "  it may mean that your frontend doesn't currently support widgets.\n",
       "</p>\n"
      ],
      "text/plain": [
       "HBox(children=(IntProgress(value=0, max=2), HTML(value='')))"
      ]
     },
     "metadata": {},
     "output_type": "display_data"
    },
    {
     "data": {
      "application/vnd.jupyter.widget-view+json": {
       "model_id": "ccaf6213cdf54b7e83dfed0778a14d92",
       "version_major": 2,
       "version_minor": 0
      },
      "text/html": [
       "<p>Failed to display Jupyter Widget of type <code>HBox</code>.</p>\n",
       "<p>\n",
       "  If you're reading this message in the Jupyter Notebook or JupyterLab Notebook, it may mean\n",
       "  that the widgets JavaScript is still loading. If this message persists, it\n",
       "  likely means that the widgets JavaScript library is either not installed or\n",
       "  not enabled. See the <a href=\"https://ipywidgets.readthedocs.io/en/stable/user_install.html\">Jupyter\n",
       "  Widgets Documentation</a> for setup instructions.\n",
       "</p>\n",
       "<p>\n",
       "  If you're reading this message in another frontend (for example, a static\n",
       "  rendering on GitHub or <a href=\"https://nbviewer.jupyter.org/\">NBViewer</a>),\n",
       "  it may mean that your frontend doesn't currently support widgets.\n",
       "</p>\n"
      ],
      "text/plain": [
       "HBox(children=(IntProgress(value=0, max=2), HTML(value='')))"
      ]
     },
     "metadata": {},
     "output_type": "display_data"
    },
    {
     "data": {
      "application/vnd.jupyter.widget-view+json": {
       "model_id": "0c9881a65bac4d2fba18e1ffcce7adc6",
       "version_major": 2,
       "version_minor": 0
      },
      "text/html": [
       "<p>Failed to display Jupyter Widget of type <code>HBox</code>.</p>\n",
       "<p>\n",
       "  If you're reading this message in the Jupyter Notebook or JupyterLab Notebook, it may mean\n",
       "  that the widgets JavaScript is still loading. If this message persists, it\n",
       "  likely means that the widgets JavaScript library is either not installed or\n",
       "  not enabled. See the <a href=\"https://ipywidgets.readthedocs.io/en/stable/user_install.html\">Jupyter\n",
       "  Widgets Documentation</a> for setup instructions.\n",
       "</p>\n",
       "<p>\n",
       "  If you're reading this message in another frontend (for example, a static\n",
       "  rendering on GitHub or <a href=\"https://nbviewer.jupyter.org/\">NBViewer</a>),\n",
       "  it may mean that your frontend doesn't currently support widgets.\n",
       "</p>\n"
      ],
      "text/plain": [
       "HBox(children=(IntProgress(value=0, max=2), HTML(value='')))"
      ]
     },
     "metadata": {},
     "output_type": "display_data"
    },
    {
     "data": {
      "application/vnd.jupyter.widget-view+json": {
       "model_id": "13c4bd81ad4e4229b4fd6da3a385de80",
       "version_major": 2,
       "version_minor": 0
      },
      "text/html": [
       "<p>Failed to display Jupyter Widget of type <code>HBox</code>.</p>\n",
       "<p>\n",
       "  If you're reading this message in the Jupyter Notebook or JupyterLab Notebook, it may mean\n",
       "  that the widgets JavaScript is still loading. If this message persists, it\n",
       "  likely means that the widgets JavaScript library is either not installed or\n",
       "  not enabled. See the <a href=\"https://ipywidgets.readthedocs.io/en/stable/user_install.html\">Jupyter\n",
       "  Widgets Documentation</a> for setup instructions.\n",
       "</p>\n",
       "<p>\n",
       "  If you're reading this message in another frontend (for example, a static\n",
       "  rendering on GitHub or <a href=\"https://nbviewer.jupyter.org/\">NBViewer</a>),\n",
       "  it may mean that your frontend doesn't currently support widgets.\n",
       "</p>\n"
      ],
      "text/plain": [
       "HBox(children=(IntProgress(value=0, max=2), HTML(value='')))"
      ]
     },
     "metadata": {},
     "output_type": "display_data"
    },
    {
     "data": {
      "application/vnd.jupyter.widget-view+json": {
       "model_id": "c0400cb730ca4f2d9ac263ee62fb3b46",
       "version_major": 2,
       "version_minor": 0
      },
      "text/html": [
       "<p>Failed to display Jupyter Widget of type <code>HBox</code>.</p>\n",
       "<p>\n",
       "  If you're reading this message in the Jupyter Notebook or JupyterLab Notebook, it may mean\n",
       "  that the widgets JavaScript is still loading. If this message persists, it\n",
       "  likely means that the widgets JavaScript library is either not installed or\n",
       "  not enabled. See the <a href=\"https://ipywidgets.readthedocs.io/en/stable/user_install.html\">Jupyter\n",
       "  Widgets Documentation</a> for setup instructions.\n",
       "</p>\n",
       "<p>\n",
       "  If you're reading this message in another frontend (for example, a static\n",
       "  rendering on GitHub or <a href=\"https://nbviewer.jupyter.org/\">NBViewer</a>),\n",
       "  it may mean that your frontend doesn't currently support widgets.\n",
       "</p>\n"
      ],
      "text/plain": [
       "HBox(children=(IntProgress(value=0, max=2), HTML(value='')))"
      ]
     },
     "metadata": {},
     "output_type": "display_data"
    },
    {
     "data": {
      "application/vnd.jupyter.widget-view+json": {
       "model_id": "de83a7a37d684c90b5f3f04c6bf171ba",
       "version_major": 2,
       "version_minor": 0
      },
      "text/html": [
       "<p>Failed to display Jupyter Widget of type <code>HBox</code>.</p>\n",
       "<p>\n",
       "  If you're reading this message in the Jupyter Notebook or JupyterLab Notebook, it may mean\n",
       "  that the widgets JavaScript is still loading. If this message persists, it\n",
       "  likely means that the widgets JavaScript library is either not installed or\n",
       "  not enabled. See the <a href=\"https://ipywidgets.readthedocs.io/en/stable/user_install.html\">Jupyter\n",
       "  Widgets Documentation</a> for setup instructions.\n",
       "</p>\n",
       "<p>\n",
       "  If you're reading this message in another frontend (for example, a static\n",
       "  rendering on GitHub or <a href=\"https://nbviewer.jupyter.org/\">NBViewer</a>),\n",
       "  it may mean that your frontend doesn't currently support widgets.\n",
       "</p>\n"
      ],
      "text/plain": [
       "HBox(children=(IntProgress(value=0, max=2), HTML(value='')))"
      ]
     },
     "metadata": {},
     "output_type": "display_data"
    },
    {
     "data": {
      "application/vnd.jupyter.widget-view+json": {
       "model_id": "a1c926f5f84145bebeb53d20c72dfa72",
       "version_major": 2,
       "version_minor": 0
      },
      "text/html": [
       "<p>Failed to display Jupyter Widget of type <code>HBox</code>.</p>\n",
       "<p>\n",
       "  If you're reading this message in the Jupyter Notebook or JupyterLab Notebook, it may mean\n",
       "  that the widgets JavaScript is still loading. If this message persists, it\n",
       "  likely means that the widgets JavaScript library is either not installed or\n",
       "  not enabled. See the <a href=\"https://ipywidgets.readthedocs.io/en/stable/user_install.html\">Jupyter\n",
       "  Widgets Documentation</a> for setup instructions.\n",
       "</p>\n",
       "<p>\n",
       "  If you're reading this message in another frontend (for example, a static\n",
       "  rendering on GitHub or <a href=\"https://nbviewer.jupyter.org/\">NBViewer</a>),\n",
       "  it may mean that your frontend doesn't currently support widgets.\n",
       "</p>\n"
      ],
      "text/plain": [
       "HBox(children=(IntProgress(value=0, max=2), HTML(value='')))"
      ]
     },
     "metadata": {},
     "output_type": "display_data"
    },
    {
     "data": {
      "application/vnd.jupyter.widget-view+json": {
       "model_id": "344728cb79f54457a58cd171593e73d5",
       "version_major": 2,
       "version_minor": 0
      },
      "text/html": [
       "<p>Failed to display Jupyter Widget of type <code>HBox</code>.</p>\n",
       "<p>\n",
       "  If you're reading this message in the Jupyter Notebook or JupyterLab Notebook, it may mean\n",
       "  that the widgets JavaScript is still loading. If this message persists, it\n",
       "  likely means that the widgets JavaScript library is either not installed or\n",
       "  not enabled. See the <a href=\"https://ipywidgets.readthedocs.io/en/stable/user_install.html\">Jupyter\n",
       "  Widgets Documentation</a> for setup instructions.\n",
       "</p>\n",
       "<p>\n",
       "  If you're reading this message in another frontend (for example, a static\n",
       "  rendering on GitHub or <a href=\"https://nbviewer.jupyter.org/\">NBViewer</a>),\n",
       "  it may mean that your frontend doesn't currently support widgets.\n",
       "</p>\n"
      ],
      "text/plain": [
       "HBox(children=(IntProgress(value=0, max=2), HTML(value='')))"
      ]
     },
     "metadata": {},
     "output_type": "display_data"
    },
    {
     "data": {
      "application/vnd.jupyter.widget-view+json": {
       "model_id": "e92ef0f3805947b6a6ab0fa511948910",
       "version_major": 2,
       "version_minor": 0
      },
      "text/html": [
       "<p>Failed to display Jupyter Widget of type <code>HBox</code>.</p>\n",
       "<p>\n",
       "  If you're reading this message in the Jupyter Notebook or JupyterLab Notebook, it may mean\n",
       "  that the widgets JavaScript is still loading. If this message persists, it\n",
       "  likely means that the widgets JavaScript library is either not installed or\n",
       "  not enabled. See the <a href=\"https://ipywidgets.readthedocs.io/en/stable/user_install.html\">Jupyter\n",
       "  Widgets Documentation</a> for setup instructions.\n",
       "</p>\n",
       "<p>\n",
       "  If you're reading this message in another frontend (for example, a static\n",
       "  rendering on GitHub or <a href=\"https://nbviewer.jupyter.org/\">NBViewer</a>),\n",
       "  it may mean that your frontend doesn't currently support widgets.\n",
       "</p>\n"
      ],
      "text/plain": [
       "HBox(children=(IntProgress(value=0, max=2), HTML(value='')))"
      ]
     },
     "metadata": {},
     "output_type": "display_data"
    },
    {
     "data": {
      "application/vnd.jupyter.widget-view+json": {
       "model_id": "57869bee469740ee8a8c61a6f1c42364",
       "version_major": 2,
       "version_minor": 0
      },
      "text/html": [
       "<p>Failed to display Jupyter Widget of type <code>HBox</code>.</p>\n",
       "<p>\n",
       "  If you're reading this message in the Jupyter Notebook or JupyterLab Notebook, it may mean\n",
       "  that the widgets JavaScript is still loading. If this message persists, it\n",
       "  likely means that the widgets JavaScript library is either not installed or\n",
       "  not enabled. See the <a href=\"https://ipywidgets.readthedocs.io/en/stable/user_install.html\">Jupyter\n",
       "  Widgets Documentation</a> for setup instructions.\n",
       "</p>\n",
       "<p>\n",
       "  If you're reading this message in another frontend (for example, a static\n",
       "  rendering on GitHub or <a href=\"https://nbviewer.jupyter.org/\">NBViewer</a>),\n",
       "  it may mean that your frontend doesn't currently support widgets.\n",
       "</p>\n"
      ],
      "text/plain": [
       "HBox(children=(IntProgress(value=0, max=2), HTML(value='')))"
      ]
     },
     "metadata": {},
     "output_type": "display_data"
    },
    {
     "data": {
      "application/vnd.jupyter.widget-view+json": {
       "model_id": "f12cc2e540e0404c881f61d56747ca32",
       "version_major": 2,
       "version_minor": 0
      },
      "text/html": [
       "<p>Failed to display Jupyter Widget of type <code>HBox</code>.</p>\n",
       "<p>\n",
       "  If you're reading this message in the Jupyter Notebook or JupyterLab Notebook, it may mean\n",
       "  that the widgets JavaScript is still loading. If this message persists, it\n",
       "  likely means that the widgets JavaScript library is either not installed or\n",
       "  not enabled. See the <a href=\"https://ipywidgets.readthedocs.io/en/stable/user_install.html\">Jupyter\n",
       "  Widgets Documentation</a> for setup instructions.\n",
       "</p>\n",
       "<p>\n",
       "  If you're reading this message in another frontend (for example, a static\n",
       "  rendering on GitHub or <a href=\"https://nbviewer.jupyter.org/\">NBViewer</a>),\n",
       "  it may mean that your frontend doesn't currently support widgets.\n",
       "</p>\n"
      ],
      "text/plain": [
       "HBox(children=(IntProgress(value=0, max=2), HTML(value='')))"
      ]
     },
     "metadata": {},
     "output_type": "display_data"
    },
    {
     "data": {
      "application/vnd.jupyter.widget-view+json": {
       "model_id": "9b2cd29b32d74efabd2b352376ca7b5c",
       "version_major": 2,
       "version_minor": 0
      },
      "text/html": [
       "<p>Failed to display Jupyter Widget of type <code>HBox</code>.</p>\n",
       "<p>\n",
       "  If you're reading this message in the Jupyter Notebook or JupyterLab Notebook, it may mean\n",
       "  that the widgets JavaScript is still loading. If this message persists, it\n",
       "  likely means that the widgets JavaScript library is either not installed or\n",
       "  not enabled. See the <a href=\"https://ipywidgets.readthedocs.io/en/stable/user_install.html\">Jupyter\n",
       "  Widgets Documentation</a> for setup instructions.\n",
       "</p>\n",
       "<p>\n",
       "  If you're reading this message in another frontend (for example, a static\n",
       "  rendering on GitHub or <a href=\"https://nbviewer.jupyter.org/\">NBViewer</a>),\n",
       "  it may mean that your frontend doesn't currently support widgets.\n",
       "</p>\n"
      ],
      "text/plain": [
       "HBox(children=(IntProgress(value=0, max=2), HTML(value='')))"
      ]
     },
     "metadata": {},
     "output_type": "display_data"
    },
    {
     "data": {
      "application/vnd.jupyter.widget-view+json": {
       "model_id": "d53bd2d7787446f8bd396d4008874fbf",
       "version_major": 2,
       "version_minor": 0
      },
      "text/html": [
       "<p>Failed to display Jupyter Widget of type <code>HBox</code>.</p>\n",
       "<p>\n",
       "  If you're reading this message in the Jupyter Notebook or JupyterLab Notebook, it may mean\n",
       "  that the widgets JavaScript is still loading. If this message persists, it\n",
       "  likely means that the widgets JavaScript library is either not installed or\n",
       "  not enabled. See the <a href=\"https://ipywidgets.readthedocs.io/en/stable/user_install.html\">Jupyter\n",
       "  Widgets Documentation</a> for setup instructions.\n",
       "</p>\n",
       "<p>\n",
       "  If you're reading this message in another frontend (for example, a static\n",
       "  rendering on GitHub or <a href=\"https://nbviewer.jupyter.org/\">NBViewer</a>),\n",
       "  it may mean that your frontend doesn't currently support widgets.\n",
       "</p>\n"
      ],
      "text/plain": [
       "HBox(children=(IntProgress(value=0, max=2), HTML(value='')))"
      ]
     },
     "metadata": {},
     "output_type": "display_data"
    },
    {
     "data": {
      "application/vnd.jupyter.widget-view+json": {
       "model_id": "dc3ccdcc683d4c39879eade83611d7f7",
       "version_major": 2,
       "version_minor": 0
      },
      "text/html": [
       "<p>Failed to display Jupyter Widget of type <code>HBox</code>.</p>\n",
       "<p>\n",
       "  If you're reading this message in the Jupyter Notebook or JupyterLab Notebook, it may mean\n",
       "  that the widgets JavaScript is still loading. If this message persists, it\n",
       "  likely means that the widgets JavaScript library is either not installed or\n",
       "  not enabled. See the <a href=\"https://ipywidgets.readthedocs.io/en/stable/user_install.html\">Jupyter\n",
       "  Widgets Documentation</a> for setup instructions.\n",
       "</p>\n",
       "<p>\n",
       "  If you're reading this message in another frontend (for example, a static\n",
       "  rendering on GitHub or <a href=\"https://nbviewer.jupyter.org/\">NBViewer</a>),\n",
       "  it may mean that your frontend doesn't currently support widgets.\n",
       "</p>\n"
      ],
      "text/plain": [
       "HBox(children=(IntProgress(value=0, max=2), HTML(value='')))"
      ]
     },
     "metadata": {},
     "output_type": "display_data"
    },
    {
     "data": {
      "application/vnd.jupyter.widget-view+json": {
       "model_id": "1bd5d2981e8d4488ae44682a96459fe0",
       "version_major": 2,
       "version_minor": 0
      },
      "text/html": [
       "<p>Failed to display Jupyter Widget of type <code>HBox</code>.</p>\n",
       "<p>\n",
       "  If you're reading this message in the Jupyter Notebook or JupyterLab Notebook, it may mean\n",
       "  that the widgets JavaScript is still loading. If this message persists, it\n",
       "  likely means that the widgets JavaScript library is either not installed or\n",
       "  not enabled. See the <a href=\"https://ipywidgets.readthedocs.io/en/stable/user_install.html\">Jupyter\n",
       "  Widgets Documentation</a> for setup instructions.\n",
       "</p>\n",
       "<p>\n",
       "  If you're reading this message in another frontend (for example, a static\n",
       "  rendering on GitHub or <a href=\"https://nbviewer.jupyter.org/\">NBViewer</a>),\n",
       "  it may mean that your frontend doesn't currently support widgets.\n",
       "</p>\n"
      ],
      "text/plain": [
       "HBox(children=(IntProgress(value=0, max=2), HTML(value='')))"
      ]
     },
     "metadata": {},
     "output_type": "display_data"
    },
    {
     "data": {
      "application/vnd.jupyter.widget-view+json": {
       "model_id": "08f8169b7f8343169a9223c015fe5e42",
       "version_major": 2,
       "version_minor": 0
      },
      "text/html": [
       "<p>Failed to display Jupyter Widget of type <code>HBox</code>.</p>\n",
       "<p>\n",
       "  If you're reading this message in the Jupyter Notebook or JupyterLab Notebook, it may mean\n",
       "  that the widgets JavaScript is still loading. If this message persists, it\n",
       "  likely means that the widgets JavaScript library is either not installed or\n",
       "  not enabled. See the <a href=\"https://ipywidgets.readthedocs.io/en/stable/user_install.html\">Jupyter\n",
       "  Widgets Documentation</a> for setup instructions.\n",
       "</p>\n",
       "<p>\n",
       "  If you're reading this message in another frontend (for example, a static\n",
       "  rendering on GitHub or <a href=\"https://nbviewer.jupyter.org/\">NBViewer</a>),\n",
       "  it may mean that your frontend doesn't currently support widgets.\n",
       "</p>\n"
      ],
      "text/plain": [
       "HBox(children=(IntProgress(value=0, max=2), HTML(value='')))"
      ]
     },
     "metadata": {},
     "output_type": "display_data"
    },
    {
     "data": {
      "application/vnd.jupyter.widget-view+json": {
       "model_id": "3cdbaf72b7a24611962eab8939cae0af",
       "version_major": 2,
       "version_minor": 0
      },
      "text/html": [
       "<p>Failed to display Jupyter Widget of type <code>HBox</code>.</p>\n",
       "<p>\n",
       "  If you're reading this message in the Jupyter Notebook or JupyterLab Notebook, it may mean\n",
       "  that the widgets JavaScript is still loading. If this message persists, it\n",
       "  likely means that the widgets JavaScript library is either not installed or\n",
       "  not enabled. See the <a href=\"https://ipywidgets.readthedocs.io/en/stable/user_install.html\">Jupyter\n",
       "  Widgets Documentation</a> for setup instructions.\n",
       "</p>\n",
       "<p>\n",
       "  If you're reading this message in another frontend (for example, a static\n",
       "  rendering on GitHub or <a href=\"https://nbviewer.jupyter.org/\">NBViewer</a>),\n",
       "  it may mean that your frontend doesn't currently support widgets.\n",
       "</p>\n"
      ],
      "text/plain": [
       "HBox(children=(IntProgress(value=0, max=2), HTML(value='')))"
      ]
     },
     "metadata": {},
     "output_type": "display_data"
    },
    {
     "data": {
      "application/vnd.jupyter.widget-view+json": {
       "model_id": "fdcb01a005ea40c3810b428ce7edb213",
       "version_major": 2,
       "version_minor": 0
      },
      "text/html": [
       "<p>Failed to display Jupyter Widget of type <code>HBox</code>.</p>\n",
       "<p>\n",
       "  If you're reading this message in the Jupyter Notebook or JupyterLab Notebook, it may mean\n",
       "  that the widgets JavaScript is still loading. If this message persists, it\n",
       "  likely means that the widgets JavaScript library is either not installed or\n",
       "  not enabled. See the <a href=\"https://ipywidgets.readthedocs.io/en/stable/user_install.html\">Jupyter\n",
       "  Widgets Documentation</a> for setup instructions.\n",
       "</p>\n",
       "<p>\n",
       "  If you're reading this message in another frontend (for example, a static\n",
       "  rendering on GitHub or <a href=\"https://nbviewer.jupyter.org/\">NBViewer</a>),\n",
       "  it may mean that your frontend doesn't currently support widgets.\n",
       "</p>\n"
      ],
      "text/plain": [
       "HBox(children=(IntProgress(value=0, max=2), HTML(value='')))"
      ]
     },
     "metadata": {},
     "output_type": "display_data"
    },
    {
     "data": {
      "application/vnd.jupyter.widget-view+json": {
       "model_id": "28052d7f937e42729e5108daf63ba8db",
       "version_major": 2,
       "version_minor": 0
      },
      "text/html": [
       "<p>Failed to display Jupyter Widget of type <code>HBox</code>.</p>\n",
       "<p>\n",
       "  If you're reading this message in the Jupyter Notebook or JupyterLab Notebook, it may mean\n",
       "  that the widgets JavaScript is still loading. If this message persists, it\n",
       "  likely means that the widgets JavaScript library is either not installed or\n",
       "  not enabled. See the <a href=\"https://ipywidgets.readthedocs.io/en/stable/user_install.html\">Jupyter\n",
       "  Widgets Documentation</a> for setup instructions.\n",
       "</p>\n",
       "<p>\n",
       "  If you're reading this message in another frontend (for example, a static\n",
       "  rendering on GitHub or <a href=\"https://nbviewer.jupyter.org/\">NBViewer</a>),\n",
       "  it may mean that your frontend doesn't currently support widgets.\n",
       "</p>\n"
      ],
      "text/plain": [
       "HBox(children=(IntProgress(value=0, max=2), HTML(value='')))"
      ]
     },
     "metadata": {},
     "output_type": "display_data"
    },
    {
     "data": {
      "application/vnd.jupyter.widget-view+json": {
       "model_id": "d9becf878de9440eb9332e76c83c5dfc",
       "version_major": 2,
       "version_minor": 0
      },
      "text/html": [
       "<p>Failed to display Jupyter Widget of type <code>HBox</code>.</p>\n",
       "<p>\n",
       "  If you're reading this message in the Jupyter Notebook or JupyterLab Notebook, it may mean\n",
       "  that the widgets JavaScript is still loading. If this message persists, it\n",
       "  likely means that the widgets JavaScript library is either not installed or\n",
       "  not enabled. See the <a href=\"https://ipywidgets.readthedocs.io/en/stable/user_install.html\">Jupyter\n",
       "  Widgets Documentation</a> for setup instructions.\n",
       "</p>\n",
       "<p>\n",
       "  If you're reading this message in another frontend (for example, a static\n",
       "  rendering on GitHub or <a href=\"https://nbviewer.jupyter.org/\">NBViewer</a>),\n",
       "  it may mean that your frontend doesn't currently support widgets.\n",
       "</p>\n"
      ],
      "text/plain": [
       "HBox(children=(IntProgress(value=0, max=2), HTML(value='')))"
      ]
     },
     "metadata": {},
     "output_type": "display_data"
    },
    {
     "data": {
      "application/vnd.jupyter.widget-view+json": {
       "model_id": "283f3a5f453f449b8342583a61c63967",
       "version_major": 2,
       "version_minor": 0
      },
      "text/html": [
       "<p>Failed to display Jupyter Widget of type <code>HBox</code>.</p>\n",
       "<p>\n",
       "  If you're reading this message in the Jupyter Notebook or JupyterLab Notebook, it may mean\n",
       "  that the widgets JavaScript is still loading. If this message persists, it\n",
       "  likely means that the widgets JavaScript library is either not installed or\n",
       "  not enabled. See the <a href=\"https://ipywidgets.readthedocs.io/en/stable/user_install.html\">Jupyter\n",
       "  Widgets Documentation</a> for setup instructions.\n",
       "</p>\n",
       "<p>\n",
       "  If you're reading this message in another frontend (for example, a static\n",
       "  rendering on GitHub or <a href=\"https://nbviewer.jupyter.org/\">NBViewer</a>),\n",
       "  it may mean that your frontend doesn't currently support widgets.\n",
       "</p>\n"
      ],
      "text/plain": [
       "HBox(children=(IntProgress(value=0, max=2), HTML(value='')))"
      ]
     },
     "metadata": {},
     "output_type": "display_data"
    },
    {
     "data": {
      "application/vnd.jupyter.widget-view+json": {
       "model_id": "8a725129957345a38e9fcc565b8f2fe8",
       "version_major": 2,
       "version_minor": 0
      },
      "text/html": [
       "<p>Failed to display Jupyter Widget of type <code>HBox</code>.</p>\n",
       "<p>\n",
       "  If you're reading this message in the Jupyter Notebook or JupyterLab Notebook, it may mean\n",
       "  that the widgets JavaScript is still loading. If this message persists, it\n",
       "  likely means that the widgets JavaScript library is either not installed or\n",
       "  not enabled. See the <a href=\"https://ipywidgets.readthedocs.io/en/stable/user_install.html\">Jupyter\n",
       "  Widgets Documentation</a> for setup instructions.\n",
       "</p>\n",
       "<p>\n",
       "  If you're reading this message in another frontend (for example, a static\n",
       "  rendering on GitHub or <a href=\"https://nbviewer.jupyter.org/\">NBViewer</a>),\n",
       "  it may mean that your frontend doesn't currently support widgets.\n",
       "</p>\n"
      ],
      "text/plain": [
       "HBox(children=(IntProgress(value=0, max=2), HTML(value='')))"
      ]
     },
     "metadata": {},
     "output_type": "display_data"
    },
    {
     "data": {
      "application/vnd.jupyter.widget-view+json": {
       "model_id": "53ebf66f921741ef9efe5f18d58de5b8",
       "version_major": 2,
       "version_minor": 0
      },
      "text/html": [
       "<p>Failed to display Jupyter Widget of type <code>HBox</code>.</p>\n",
       "<p>\n",
       "  If you're reading this message in the Jupyter Notebook or JupyterLab Notebook, it may mean\n",
       "  that the widgets JavaScript is still loading. If this message persists, it\n",
       "  likely means that the widgets JavaScript library is either not installed or\n",
       "  not enabled. See the <a href=\"https://ipywidgets.readthedocs.io/en/stable/user_install.html\">Jupyter\n",
       "  Widgets Documentation</a> for setup instructions.\n",
       "</p>\n",
       "<p>\n",
       "  If you're reading this message in another frontend (for example, a static\n",
       "  rendering on GitHub or <a href=\"https://nbviewer.jupyter.org/\">NBViewer</a>),\n",
       "  it may mean that your frontend doesn't currently support widgets.\n",
       "</p>\n"
      ],
      "text/plain": [
       "HBox(children=(IntProgress(value=0, max=2), HTML(value='')))"
      ]
     },
     "metadata": {},
     "output_type": "display_data"
    },
    {
     "data": {
      "application/vnd.jupyter.widget-view+json": {
       "model_id": "f5cea1b543a1430e9d6ee20b7226789a",
       "version_major": 2,
       "version_minor": 0
      },
      "text/html": [
       "<p>Failed to display Jupyter Widget of type <code>HBox</code>.</p>\n",
       "<p>\n",
       "  If you're reading this message in the Jupyter Notebook or JupyterLab Notebook, it may mean\n",
       "  that the widgets JavaScript is still loading. If this message persists, it\n",
       "  likely means that the widgets JavaScript library is either not installed or\n",
       "  not enabled. See the <a href=\"https://ipywidgets.readthedocs.io/en/stable/user_install.html\">Jupyter\n",
       "  Widgets Documentation</a> for setup instructions.\n",
       "</p>\n",
       "<p>\n",
       "  If you're reading this message in another frontend (for example, a static\n",
       "  rendering on GitHub or <a href=\"https://nbviewer.jupyter.org/\">NBViewer</a>),\n",
       "  it may mean that your frontend doesn't currently support widgets.\n",
       "</p>\n"
      ],
      "text/plain": [
       "HBox(children=(IntProgress(value=0, max=2), HTML(value='')))"
      ]
     },
     "metadata": {},
     "output_type": "display_data"
    },
    {
     "data": {
      "application/vnd.jupyter.widget-view+json": {
       "model_id": "75756b4b12eb47e887862b22c0f7ea4d",
       "version_major": 2,
       "version_minor": 0
      },
      "text/html": [
       "<p>Failed to display Jupyter Widget of type <code>HBox</code>.</p>\n",
       "<p>\n",
       "  If you're reading this message in the Jupyter Notebook or JupyterLab Notebook, it may mean\n",
       "  that the widgets JavaScript is still loading. If this message persists, it\n",
       "  likely means that the widgets JavaScript library is either not installed or\n",
       "  not enabled. See the <a href=\"https://ipywidgets.readthedocs.io/en/stable/user_install.html\">Jupyter\n",
       "  Widgets Documentation</a> for setup instructions.\n",
       "</p>\n",
       "<p>\n",
       "  If you're reading this message in another frontend (for example, a static\n",
       "  rendering on GitHub or <a href=\"https://nbviewer.jupyter.org/\">NBViewer</a>),\n",
       "  it may mean that your frontend doesn't currently support widgets.\n",
       "</p>\n"
      ],
      "text/plain": [
       "HBox(children=(IntProgress(value=0, max=2), HTML(value='')))"
      ]
     },
     "metadata": {},
     "output_type": "display_data"
    },
    {
     "data": {
      "application/vnd.jupyter.widget-view+json": {
       "model_id": "3b30c4bcf8c5483f98c57743b296e8c0",
       "version_major": 2,
       "version_minor": 0
      },
      "text/html": [
       "<p>Failed to display Jupyter Widget of type <code>HBox</code>.</p>\n",
       "<p>\n",
       "  If you're reading this message in the Jupyter Notebook or JupyterLab Notebook, it may mean\n",
       "  that the widgets JavaScript is still loading. If this message persists, it\n",
       "  likely means that the widgets JavaScript library is either not installed or\n",
       "  not enabled. See the <a href=\"https://ipywidgets.readthedocs.io/en/stable/user_install.html\">Jupyter\n",
       "  Widgets Documentation</a> for setup instructions.\n",
       "</p>\n",
       "<p>\n",
       "  If you're reading this message in another frontend (for example, a static\n",
       "  rendering on GitHub or <a href=\"https://nbviewer.jupyter.org/\">NBViewer</a>),\n",
       "  it may mean that your frontend doesn't currently support widgets.\n",
       "</p>\n"
      ],
      "text/plain": [
       "HBox(children=(IntProgress(value=0, max=2), HTML(value='')))"
      ]
     },
     "metadata": {},
     "output_type": "display_data"
    },
    {
     "data": {
      "application/vnd.jupyter.widget-view+json": {
       "model_id": "9f98712903fe4b2bb3a219593037bd63",
       "version_major": 2,
       "version_minor": 0
      },
      "text/html": [
       "<p>Failed to display Jupyter Widget of type <code>HBox</code>.</p>\n",
       "<p>\n",
       "  If you're reading this message in the Jupyter Notebook or JupyterLab Notebook, it may mean\n",
       "  that the widgets JavaScript is still loading. If this message persists, it\n",
       "  likely means that the widgets JavaScript library is either not installed or\n",
       "  not enabled. See the <a href=\"https://ipywidgets.readthedocs.io/en/stable/user_install.html\">Jupyter\n",
       "  Widgets Documentation</a> for setup instructions.\n",
       "</p>\n",
       "<p>\n",
       "  If you're reading this message in another frontend (for example, a static\n",
       "  rendering on GitHub or <a href=\"https://nbviewer.jupyter.org/\">NBViewer</a>),\n",
       "  it may mean that your frontend doesn't currently support widgets.\n",
       "</p>\n"
      ],
      "text/plain": [
       "HBox(children=(IntProgress(value=0, max=2), HTML(value='')))"
      ]
     },
     "metadata": {},
     "output_type": "display_data"
    },
    {
     "data": {
      "application/vnd.jupyter.widget-view+json": {
       "model_id": "9582194795a5414eaf52b7f38a4be390",
       "version_major": 2,
       "version_minor": 0
      },
      "text/html": [
       "<p>Failed to display Jupyter Widget of type <code>HBox</code>.</p>\n",
       "<p>\n",
       "  If you're reading this message in the Jupyter Notebook or JupyterLab Notebook, it may mean\n",
       "  that the widgets JavaScript is still loading. If this message persists, it\n",
       "  likely means that the widgets JavaScript library is either not installed or\n",
       "  not enabled. See the <a href=\"https://ipywidgets.readthedocs.io/en/stable/user_install.html\">Jupyter\n",
       "  Widgets Documentation</a> for setup instructions.\n",
       "</p>\n",
       "<p>\n",
       "  If you're reading this message in another frontend (for example, a static\n",
       "  rendering on GitHub or <a href=\"https://nbviewer.jupyter.org/\">NBViewer</a>),\n",
       "  it may mean that your frontend doesn't currently support widgets.\n",
       "</p>\n"
      ],
      "text/plain": [
       "HBox(children=(IntProgress(value=0, max=2), HTML(value='')))"
      ]
     },
     "metadata": {},
     "output_type": "display_data"
    },
    {
     "data": {
      "application/vnd.jupyter.widget-view+json": {
       "model_id": "5a32b4f0e64346668f015c9babd23165",
       "version_major": 2,
       "version_minor": 0
      },
      "text/html": [
       "<p>Failed to display Jupyter Widget of type <code>HBox</code>.</p>\n",
       "<p>\n",
       "  If you're reading this message in the Jupyter Notebook or JupyterLab Notebook, it may mean\n",
       "  that the widgets JavaScript is still loading. If this message persists, it\n",
       "  likely means that the widgets JavaScript library is either not installed or\n",
       "  not enabled. See the <a href=\"https://ipywidgets.readthedocs.io/en/stable/user_install.html\">Jupyter\n",
       "  Widgets Documentation</a> for setup instructions.\n",
       "</p>\n",
       "<p>\n",
       "  If you're reading this message in another frontend (for example, a static\n",
       "  rendering on GitHub or <a href=\"https://nbviewer.jupyter.org/\">NBViewer</a>),\n",
       "  it may mean that your frontend doesn't currently support widgets.\n",
       "</p>\n"
      ],
      "text/plain": [
       "HBox(children=(IntProgress(value=0, max=2), HTML(value='')))"
      ]
     },
     "metadata": {},
     "output_type": "display_data"
    },
    {
     "data": {
      "application/vnd.jupyter.widget-view+json": {
       "model_id": "5cb55d37f6674bc484cb6a270a0d286d",
       "version_major": 2,
       "version_minor": 0
      },
      "text/html": [
       "<p>Failed to display Jupyter Widget of type <code>HBox</code>.</p>\n",
       "<p>\n",
       "  If you're reading this message in the Jupyter Notebook or JupyterLab Notebook, it may mean\n",
       "  that the widgets JavaScript is still loading. If this message persists, it\n",
       "  likely means that the widgets JavaScript library is either not installed or\n",
       "  not enabled. See the <a href=\"https://ipywidgets.readthedocs.io/en/stable/user_install.html\">Jupyter\n",
       "  Widgets Documentation</a> for setup instructions.\n",
       "</p>\n",
       "<p>\n",
       "  If you're reading this message in another frontend (for example, a static\n",
       "  rendering on GitHub or <a href=\"https://nbviewer.jupyter.org/\">NBViewer</a>),\n",
       "  it may mean that your frontend doesn't currently support widgets.\n",
       "</p>\n"
      ],
      "text/plain": [
       "HBox(children=(IntProgress(value=0, max=2), HTML(value='')))"
      ]
     },
     "metadata": {},
     "output_type": "display_data"
    },
    {
     "data": {
      "application/vnd.jupyter.widget-view+json": {
       "model_id": "d598f570323c4d7f8ac75c80ae2ce225",
       "version_major": 2,
       "version_minor": 0
      },
      "text/html": [
       "<p>Failed to display Jupyter Widget of type <code>HBox</code>.</p>\n",
       "<p>\n",
       "  If you're reading this message in the Jupyter Notebook or JupyterLab Notebook, it may mean\n",
       "  that the widgets JavaScript is still loading. If this message persists, it\n",
       "  likely means that the widgets JavaScript library is either not installed or\n",
       "  not enabled. See the <a href=\"https://ipywidgets.readthedocs.io/en/stable/user_install.html\">Jupyter\n",
       "  Widgets Documentation</a> for setup instructions.\n",
       "</p>\n",
       "<p>\n",
       "  If you're reading this message in another frontend (for example, a static\n",
       "  rendering on GitHub or <a href=\"https://nbviewer.jupyter.org/\">NBViewer</a>),\n",
       "  it may mean that your frontend doesn't currently support widgets.\n",
       "</p>\n"
      ],
      "text/plain": [
       "HBox(children=(IntProgress(value=0, max=2), HTML(value='')))"
      ]
     },
     "metadata": {},
     "output_type": "display_data"
    },
    {
     "data": {
      "application/vnd.jupyter.widget-view+json": {
       "model_id": "306c2a87b6d340629e108e00d5fb3858",
       "version_major": 2,
       "version_minor": 0
      },
      "text/html": [
       "<p>Failed to display Jupyter Widget of type <code>HBox</code>.</p>\n",
       "<p>\n",
       "  If you're reading this message in the Jupyter Notebook or JupyterLab Notebook, it may mean\n",
       "  that the widgets JavaScript is still loading. If this message persists, it\n",
       "  likely means that the widgets JavaScript library is either not installed or\n",
       "  not enabled. See the <a href=\"https://ipywidgets.readthedocs.io/en/stable/user_install.html\">Jupyter\n",
       "  Widgets Documentation</a> for setup instructions.\n",
       "</p>\n",
       "<p>\n",
       "  If you're reading this message in another frontend (for example, a static\n",
       "  rendering on GitHub or <a href=\"https://nbviewer.jupyter.org/\">NBViewer</a>),\n",
       "  it may mean that your frontend doesn't currently support widgets.\n",
       "</p>\n"
      ],
      "text/plain": [
       "HBox(children=(IntProgress(value=0, max=2), HTML(value='')))"
      ]
     },
     "metadata": {},
     "output_type": "display_data"
    },
    {
     "data": {
      "application/vnd.jupyter.widget-view+json": {
       "model_id": "2d98a39ba84c4c6f9117343c87c8ad27",
       "version_major": 2,
       "version_minor": 0
      },
      "text/html": [
       "<p>Failed to display Jupyter Widget of type <code>HBox</code>.</p>\n",
       "<p>\n",
       "  If you're reading this message in the Jupyter Notebook or JupyterLab Notebook, it may mean\n",
       "  that the widgets JavaScript is still loading. If this message persists, it\n",
       "  likely means that the widgets JavaScript library is either not installed or\n",
       "  not enabled. See the <a href=\"https://ipywidgets.readthedocs.io/en/stable/user_install.html\">Jupyter\n",
       "  Widgets Documentation</a> for setup instructions.\n",
       "</p>\n",
       "<p>\n",
       "  If you're reading this message in another frontend (for example, a static\n",
       "  rendering on GitHub or <a href=\"https://nbviewer.jupyter.org/\">NBViewer</a>),\n",
       "  it may mean that your frontend doesn't currently support widgets.\n",
       "</p>\n"
      ],
      "text/plain": [
       "HBox(children=(IntProgress(value=0, max=2), HTML(value='')))"
      ]
     },
     "metadata": {},
     "output_type": "display_data"
    },
    {
     "data": {
      "application/vnd.jupyter.widget-view+json": {
       "model_id": "db3a358dff0b49ccbed195b3036511c0",
       "version_major": 2,
       "version_minor": 0
      },
      "text/html": [
       "<p>Failed to display Jupyter Widget of type <code>HBox</code>.</p>\n",
       "<p>\n",
       "  If you're reading this message in the Jupyter Notebook or JupyterLab Notebook, it may mean\n",
       "  that the widgets JavaScript is still loading. If this message persists, it\n",
       "  likely means that the widgets JavaScript library is either not installed or\n",
       "  not enabled. See the <a href=\"https://ipywidgets.readthedocs.io/en/stable/user_install.html\">Jupyter\n",
       "  Widgets Documentation</a> for setup instructions.\n",
       "</p>\n",
       "<p>\n",
       "  If you're reading this message in another frontend (for example, a static\n",
       "  rendering on GitHub or <a href=\"https://nbviewer.jupyter.org/\">NBViewer</a>),\n",
       "  it may mean that your frontend doesn't currently support widgets.\n",
       "</p>\n"
      ],
      "text/plain": [
       "HBox(children=(IntProgress(value=0, max=2), HTML(value='')))"
      ]
     },
     "metadata": {},
     "output_type": "display_data"
    },
    {
     "data": {
      "application/vnd.jupyter.widget-view+json": {
       "model_id": "50e0f158946c47f3b4b495334440766b",
       "version_major": 2,
       "version_minor": 0
      },
      "text/html": [
       "<p>Failed to display Jupyter Widget of type <code>HBox</code>.</p>\n",
       "<p>\n",
       "  If you're reading this message in the Jupyter Notebook or JupyterLab Notebook, it may mean\n",
       "  that the widgets JavaScript is still loading. If this message persists, it\n",
       "  likely means that the widgets JavaScript library is either not installed or\n",
       "  not enabled. See the <a href=\"https://ipywidgets.readthedocs.io/en/stable/user_install.html\">Jupyter\n",
       "  Widgets Documentation</a> for setup instructions.\n",
       "</p>\n",
       "<p>\n",
       "  If you're reading this message in another frontend (for example, a static\n",
       "  rendering on GitHub or <a href=\"https://nbviewer.jupyter.org/\">NBViewer</a>),\n",
       "  it may mean that your frontend doesn't currently support widgets.\n",
       "</p>\n"
      ],
      "text/plain": [
       "HBox(children=(IntProgress(value=0, max=2), HTML(value='')))"
      ]
     },
     "metadata": {},
     "output_type": "display_data"
    },
    {
     "data": {
      "application/vnd.jupyter.widget-view+json": {
       "model_id": "ac72782b2e4848f7822fa1e487d49939",
       "version_major": 2,
       "version_minor": 0
      },
      "text/html": [
       "<p>Failed to display Jupyter Widget of type <code>HBox</code>.</p>\n",
       "<p>\n",
       "  If you're reading this message in the Jupyter Notebook or JupyterLab Notebook, it may mean\n",
       "  that the widgets JavaScript is still loading. If this message persists, it\n",
       "  likely means that the widgets JavaScript library is either not installed or\n",
       "  not enabled. See the <a href=\"https://ipywidgets.readthedocs.io/en/stable/user_install.html\">Jupyter\n",
       "  Widgets Documentation</a> for setup instructions.\n",
       "</p>\n",
       "<p>\n",
       "  If you're reading this message in another frontend (for example, a static\n",
       "  rendering on GitHub or <a href=\"https://nbviewer.jupyter.org/\">NBViewer</a>),\n",
       "  it may mean that your frontend doesn't currently support widgets.\n",
       "</p>\n"
      ],
      "text/plain": [
       "HBox(children=(IntProgress(value=0, max=2), HTML(value='')))"
      ]
     },
     "metadata": {},
     "output_type": "display_data"
    },
    {
     "data": {
      "application/vnd.jupyter.widget-view+json": {
       "model_id": "2bdced1b029f4dbaaa19c4bb9d79f77a",
       "version_major": 2,
       "version_minor": 0
      },
      "text/html": [
       "<p>Failed to display Jupyter Widget of type <code>HBox</code>.</p>\n",
       "<p>\n",
       "  If you're reading this message in the Jupyter Notebook or JupyterLab Notebook, it may mean\n",
       "  that the widgets JavaScript is still loading. If this message persists, it\n",
       "  likely means that the widgets JavaScript library is either not installed or\n",
       "  not enabled. See the <a href=\"https://ipywidgets.readthedocs.io/en/stable/user_install.html\">Jupyter\n",
       "  Widgets Documentation</a> for setup instructions.\n",
       "</p>\n",
       "<p>\n",
       "  If you're reading this message in another frontend (for example, a static\n",
       "  rendering on GitHub or <a href=\"https://nbviewer.jupyter.org/\">NBViewer</a>),\n",
       "  it may mean that your frontend doesn't currently support widgets.\n",
       "</p>\n"
      ],
      "text/plain": [
       "HBox(children=(IntProgress(value=0, max=2), HTML(value='')))"
      ]
     },
     "metadata": {},
     "output_type": "display_data"
    },
    {
     "data": {
      "application/vnd.jupyter.widget-view+json": {
       "model_id": "832b334d1e4c43e0aef7d8d06b2190c4",
       "version_major": 2,
       "version_minor": 0
      },
      "text/html": [
       "<p>Failed to display Jupyter Widget of type <code>HBox</code>.</p>\n",
       "<p>\n",
       "  If you're reading this message in the Jupyter Notebook or JupyterLab Notebook, it may mean\n",
       "  that the widgets JavaScript is still loading. If this message persists, it\n",
       "  likely means that the widgets JavaScript library is either not installed or\n",
       "  not enabled. See the <a href=\"https://ipywidgets.readthedocs.io/en/stable/user_install.html\">Jupyter\n",
       "  Widgets Documentation</a> for setup instructions.\n",
       "</p>\n",
       "<p>\n",
       "  If you're reading this message in another frontend (for example, a static\n",
       "  rendering on GitHub or <a href=\"https://nbviewer.jupyter.org/\">NBViewer</a>),\n",
       "  it may mean that your frontend doesn't currently support widgets.\n",
       "</p>\n"
      ],
      "text/plain": [
       "HBox(children=(IntProgress(value=0, max=2), HTML(value='')))"
      ]
     },
     "metadata": {},
     "output_type": "display_data"
    },
    {
     "data": {
      "application/vnd.jupyter.widget-view+json": {
       "model_id": "a36137ddf2e7488b9fec292159b74857",
       "version_major": 2,
       "version_minor": 0
      },
      "text/html": [
       "<p>Failed to display Jupyter Widget of type <code>HBox</code>.</p>\n",
       "<p>\n",
       "  If you're reading this message in the Jupyter Notebook or JupyterLab Notebook, it may mean\n",
       "  that the widgets JavaScript is still loading. If this message persists, it\n",
       "  likely means that the widgets JavaScript library is either not installed or\n",
       "  not enabled. See the <a href=\"https://ipywidgets.readthedocs.io/en/stable/user_install.html\">Jupyter\n",
       "  Widgets Documentation</a> for setup instructions.\n",
       "</p>\n",
       "<p>\n",
       "  If you're reading this message in another frontend (for example, a static\n",
       "  rendering on GitHub or <a href=\"https://nbviewer.jupyter.org/\">NBViewer</a>),\n",
       "  it may mean that your frontend doesn't currently support widgets.\n",
       "</p>\n"
      ],
      "text/plain": [
       "HBox(children=(IntProgress(value=0, max=2), HTML(value='')))"
      ]
     },
     "metadata": {},
     "output_type": "display_data"
    },
    {
     "data": {
      "application/vnd.jupyter.widget-view+json": {
       "model_id": "73f7b5c3914f4ea5ace347722da6f45b",
       "version_major": 2,
       "version_minor": 0
      },
      "text/html": [
       "<p>Failed to display Jupyter Widget of type <code>HBox</code>.</p>\n",
       "<p>\n",
       "  If you're reading this message in the Jupyter Notebook or JupyterLab Notebook, it may mean\n",
       "  that the widgets JavaScript is still loading. If this message persists, it\n",
       "  likely means that the widgets JavaScript library is either not installed or\n",
       "  not enabled. See the <a href=\"https://ipywidgets.readthedocs.io/en/stable/user_install.html\">Jupyter\n",
       "  Widgets Documentation</a> for setup instructions.\n",
       "</p>\n",
       "<p>\n",
       "  If you're reading this message in another frontend (for example, a static\n",
       "  rendering on GitHub or <a href=\"https://nbviewer.jupyter.org/\">NBViewer</a>),\n",
       "  it may mean that your frontend doesn't currently support widgets.\n",
       "</p>\n"
      ],
      "text/plain": [
       "HBox(children=(IntProgress(value=0, max=2), HTML(value='')))"
      ]
     },
     "metadata": {},
     "output_type": "display_data"
    },
    {
     "data": {
      "application/vnd.jupyter.widget-view+json": {
       "model_id": "ca293cbc6ee44c5583abc34b24b3fd4f",
       "version_major": 2,
       "version_minor": 0
      },
      "text/html": [
       "<p>Failed to display Jupyter Widget of type <code>HBox</code>.</p>\n",
       "<p>\n",
       "  If you're reading this message in the Jupyter Notebook or JupyterLab Notebook, it may mean\n",
       "  that the widgets JavaScript is still loading. If this message persists, it\n",
       "  likely means that the widgets JavaScript library is either not installed or\n",
       "  not enabled. See the <a href=\"https://ipywidgets.readthedocs.io/en/stable/user_install.html\">Jupyter\n",
       "  Widgets Documentation</a> for setup instructions.\n",
       "</p>\n",
       "<p>\n",
       "  If you're reading this message in another frontend (for example, a static\n",
       "  rendering on GitHub or <a href=\"https://nbviewer.jupyter.org/\">NBViewer</a>),\n",
       "  it may mean that your frontend doesn't currently support widgets.\n",
       "</p>\n"
      ],
      "text/plain": [
       "HBox(children=(IntProgress(value=0, max=2), HTML(value='')))"
      ]
     },
     "metadata": {},
     "output_type": "display_data"
    },
    {
     "data": {
      "application/vnd.jupyter.widget-view+json": {
       "model_id": "c30bc7d3efe3415185d186bc926906b5",
       "version_major": 2,
       "version_minor": 0
      },
      "text/html": [
       "<p>Failed to display Jupyter Widget of type <code>HBox</code>.</p>\n",
       "<p>\n",
       "  If you're reading this message in the Jupyter Notebook or JupyterLab Notebook, it may mean\n",
       "  that the widgets JavaScript is still loading. If this message persists, it\n",
       "  likely means that the widgets JavaScript library is either not installed or\n",
       "  not enabled. See the <a href=\"https://ipywidgets.readthedocs.io/en/stable/user_install.html\">Jupyter\n",
       "  Widgets Documentation</a> for setup instructions.\n",
       "</p>\n",
       "<p>\n",
       "  If you're reading this message in another frontend (for example, a static\n",
       "  rendering on GitHub or <a href=\"https://nbviewer.jupyter.org/\">NBViewer</a>),\n",
       "  it may mean that your frontend doesn't currently support widgets.\n",
       "</p>\n"
      ],
      "text/plain": [
       "HBox(children=(IntProgress(value=0, max=2), HTML(value='')))"
      ]
     },
     "metadata": {},
     "output_type": "display_data"
    },
    {
     "data": {
      "application/vnd.jupyter.widget-view+json": {
       "model_id": "f1893caa6e9e4d14b621b1d5fb516608",
       "version_major": 2,
       "version_minor": 0
      },
      "text/html": [
       "<p>Failed to display Jupyter Widget of type <code>HBox</code>.</p>\n",
       "<p>\n",
       "  If you're reading this message in the Jupyter Notebook or JupyterLab Notebook, it may mean\n",
       "  that the widgets JavaScript is still loading. If this message persists, it\n",
       "  likely means that the widgets JavaScript library is either not installed or\n",
       "  not enabled. See the <a href=\"https://ipywidgets.readthedocs.io/en/stable/user_install.html\">Jupyter\n",
       "  Widgets Documentation</a> for setup instructions.\n",
       "</p>\n",
       "<p>\n",
       "  If you're reading this message in another frontend (for example, a static\n",
       "  rendering on GitHub or <a href=\"https://nbviewer.jupyter.org/\">NBViewer</a>),\n",
       "  it may mean that your frontend doesn't currently support widgets.\n",
       "</p>\n"
      ],
      "text/plain": [
       "HBox(children=(IntProgress(value=0, max=2), HTML(value='')))"
      ]
     },
     "metadata": {},
     "output_type": "display_data"
    },
    {
     "data": {
      "application/vnd.jupyter.widget-view+json": {
       "model_id": "7beb6377ceba435e977d0994c6e9552b",
       "version_major": 2,
       "version_minor": 0
      },
      "text/html": [
       "<p>Failed to display Jupyter Widget of type <code>HBox</code>.</p>\n",
       "<p>\n",
       "  If you're reading this message in the Jupyter Notebook or JupyterLab Notebook, it may mean\n",
       "  that the widgets JavaScript is still loading. If this message persists, it\n",
       "  likely means that the widgets JavaScript library is either not installed or\n",
       "  not enabled. See the <a href=\"https://ipywidgets.readthedocs.io/en/stable/user_install.html\">Jupyter\n",
       "  Widgets Documentation</a> for setup instructions.\n",
       "</p>\n",
       "<p>\n",
       "  If you're reading this message in another frontend (for example, a static\n",
       "  rendering on GitHub or <a href=\"https://nbviewer.jupyter.org/\">NBViewer</a>),\n",
       "  it may mean that your frontend doesn't currently support widgets.\n",
       "</p>\n"
      ],
      "text/plain": [
       "HBox(children=(IntProgress(value=0, max=2), HTML(value='')))"
      ]
     },
     "metadata": {},
     "output_type": "display_data"
    },
    {
     "data": {
      "application/vnd.jupyter.widget-view+json": {
       "model_id": "cdc6fe19d5824c1baf2153f95698997f",
       "version_major": 2,
       "version_minor": 0
      },
      "text/html": [
       "<p>Failed to display Jupyter Widget of type <code>HBox</code>.</p>\n",
       "<p>\n",
       "  If you're reading this message in the Jupyter Notebook or JupyterLab Notebook, it may mean\n",
       "  that the widgets JavaScript is still loading. If this message persists, it\n",
       "  likely means that the widgets JavaScript library is either not installed or\n",
       "  not enabled. See the <a href=\"https://ipywidgets.readthedocs.io/en/stable/user_install.html\">Jupyter\n",
       "  Widgets Documentation</a> for setup instructions.\n",
       "</p>\n",
       "<p>\n",
       "  If you're reading this message in another frontend (for example, a static\n",
       "  rendering on GitHub or <a href=\"https://nbviewer.jupyter.org/\">NBViewer</a>),\n",
       "  it may mean that your frontend doesn't currently support widgets.\n",
       "</p>\n"
      ],
      "text/plain": [
       "HBox(children=(IntProgress(value=0, max=2), HTML(value='')))"
      ]
     },
     "metadata": {},
     "output_type": "display_data"
    },
    {
     "data": {
      "application/vnd.jupyter.widget-view+json": {
       "model_id": "d20b7356b4b949419feec1c216ea31cf",
       "version_major": 2,
       "version_minor": 0
      },
      "text/html": [
       "<p>Failed to display Jupyter Widget of type <code>HBox</code>.</p>\n",
       "<p>\n",
       "  If you're reading this message in the Jupyter Notebook or JupyterLab Notebook, it may mean\n",
       "  that the widgets JavaScript is still loading. If this message persists, it\n",
       "  likely means that the widgets JavaScript library is either not installed or\n",
       "  not enabled. See the <a href=\"https://ipywidgets.readthedocs.io/en/stable/user_install.html\">Jupyter\n",
       "  Widgets Documentation</a> for setup instructions.\n",
       "</p>\n",
       "<p>\n",
       "  If you're reading this message in another frontend (for example, a static\n",
       "  rendering on GitHub or <a href=\"https://nbviewer.jupyter.org/\">NBViewer</a>),\n",
       "  it may mean that your frontend doesn't currently support widgets.\n",
       "</p>\n"
      ],
      "text/plain": [
       "HBox(children=(IntProgress(value=0, max=2), HTML(value='')))"
      ]
     },
     "metadata": {},
     "output_type": "display_data"
    },
    {
     "data": {
      "application/vnd.jupyter.widget-view+json": {
       "model_id": "10ec4f33b26e40988d7edf7435522001",
       "version_major": 2,
       "version_minor": 0
      },
      "text/html": [
       "<p>Failed to display Jupyter Widget of type <code>HBox</code>.</p>\n",
       "<p>\n",
       "  If you're reading this message in the Jupyter Notebook or JupyterLab Notebook, it may mean\n",
       "  that the widgets JavaScript is still loading. If this message persists, it\n",
       "  likely means that the widgets JavaScript library is either not installed or\n",
       "  not enabled. See the <a href=\"https://ipywidgets.readthedocs.io/en/stable/user_install.html\">Jupyter\n",
       "  Widgets Documentation</a> for setup instructions.\n",
       "</p>\n",
       "<p>\n",
       "  If you're reading this message in another frontend (for example, a static\n",
       "  rendering on GitHub or <a href=\"https://nbviewer.jupyter.org/\">NBViewer</a>),\n",
       "  it may mean that your frontend doesn't currently support widgets.\n",
       "</p>\n"
      ],
      "text/plain": [
       "HBox(children=(IntProgress(value=0, max=2), HTML(value='')))"
      ]
     },
     "metadata": {},
     "output_type": "display_data"
    },
    {
     "data": {
      "application/vnd.jupyter.widget-view+json": {
       "model_id": "9bef167d89ce429c8fade95b7e4942fc",
       "version_major": 2,
       "version_minor": 0
      },
      "text/html": [
       "<p>Failed to display Jupyter Widget of type <code>HBox</code>.</p>\n",
       "<p>\n",
       "  If you're reading this message in the Jupyter Notebook or JupyterLab Notebook, it may mean\n",
       "  that the widgets JavaScript is still loading. If this message persists, it\n",
       "  likely means that the widgets JavaScript library is either not installed or\n",
       "  not enabled. See the <a href=\"https://ipywidgets.readthedocs.io/en/stable/user_install.html\">Jupyter\n",
       "  Widgets Documentation</a> for setup instructions.\n",
       "</p>\n",
       "<p>\n",
       "  If you're reading this message in another frontend (for example, a static\n",
       "  rendering on GitHub or <a href=\"https://nbviewer.jupyter.org/\">NBViewer</a>),\n",
       "  it may mean that your frontend doesn't currently support widgets.\n",
       "</p>\n"
      ],
      "text/plain": [
       "HBox(children=(IntProgress(value=0, max=2), HTML(value='')))"
      ]
     },
     "metadata": {},
     "output_type": "display_data"
    },
    {
     "data": {
      "application/vnd.jupyter.widget-view+json": {
       "model_id": "0d3c6bb846d141898020df674c1378d4",
       "version_major": 2,
       "version_minor": 0
      },
      "text/html": [
       "<p>Failed to display Jupyter Widget of type <code>HBox</code>.</p>\n",
       "<p>\n",
       "  If you're reading this message in the Jupyter Notebook or JupyterLab Notebook, it may mean\n",
       "  that the widgets JavaScript is still loading. If this message persists, it\n",
       "  likely means that the widgets JavaScript library is either not installed or\n",
       "  not enabled. See the <a href=\"https://ipywidgets.readthedocs.io/en/stable/user_install.html\">Jupyter\n",
       "  Widgets Documentation</a> for setup instructions.\n",
       "</p>\n",
       "<p>\n",
       "  If you're reading this message in another frontend (for example, a static\n",
       "  rendering on GitHub or <a href=\"https://nbviewer.jupyter.org/\">NBViewer</a>),\n",
       "  it may mean that your frontend doesn't currently support widgets.\n",
       "</p>\n"
      ],
      "text/plain": [
       "HBox(children=(IntProgress(value=0, max=2), HTML(value='')))"
      ]
     },
     "metadata": {},
     "output_type": "display_data"
    },
    {
     "data": {
      "application/vnd.jupyter.widget-view+json": {
       "model_id": "a56a8836bb874f3a8d38364638d5ea31",
       "version_major": 2,
       "version_minor": 0
      },
      "text/html": [
       "<p>Failed to display Jupyter Widget of type <code>HBox</code>.</p>\n",
       "<p>\n",
       "  If you're reading this message in the Jupyter Notebook or JupyterLab Notebook, it may mean\n",
       "  that the widgets JavaScript is still loading. If this message persists, it\n",
       "  likely means that the widgets JavaScript library is either not installed or\n",
       "  not enabled. See the <a href=\"https://ipywidgets.readthedocs.io/en/stable/user_install.html\">Jupyter\n",
       "  Widgets Documentation</a> for setup instructions.\n",
       "</p>\n",
       "<p>\n",
       "  If you're reading this message in another frontend (for example, a static\n",
       "  rendering on GitHub or <a href=\"https://nbviewer.jupyter.org/\">NBViewer</a>),\n",
       "  it may mean that your frontend doesn't currently support widgets.\n",
       "</p>\n"
      ],
      "text/plain": [
       "HBox(children=(IntProgress(value=0, max=2), HTML(value='')))"
      ]
     },
     "metadata": {},
     "output_type": "display_data"
    },
    {
     "data": {
      "application/vnd.jupyter.widget-view+json": {
       "model_id": "07957edd99664e77837cd1fbc47ddd85",
       "version_major": 2,
       "version_minor": 0
      },
      "text/html": [
       "<p>Failed to display Jupyter Widget of type <code>HBox</code>.</p>\n",
       "<p>\n",
       "  If you're reading this message in the Jupyter Notebook or JupyterLab Notebook, it may mean\n",
       "  that the widgets JavaScript is still loading. If this message persists, it\n",
       "  likely means that the widgets JavaScript library is either not installed or\n",
       "  not enabled. See the <a href=\"https://ipywidgets.readthedocs.io/en/stable/user_install.html\">Jupyter\n",
       "  Widgets Documentation</a> for setup instructions.\n",
       "</p>\n",
       "<p>\n",
       "  If you're reading this message in another frontend (for example, a static\n",
       "  rendering on GitHub or <a href=\"https://nbviewer.jupyter.org/\">NBViewer</a>),\n",
       "  it may mean that your frontend doesn't currently support widgets.\n",
       "</p>\n"
      ],
      "text/plain": [
       "HBox(children=(IntProgress(value=0, max=2), HTML(value='')))"
      ]
     },
     "metadata": {},
     "output_type": "display_data"
    },
    {
     "data": {
      "application/vnd.jupyter.widget-view+json": {
       "model_id": "a9a26217335342bda0b38750845ff533",
       "version_major": 2,
       "version_minor": 0
      },
      "text/html": [
       "<p>Failed to display Jupyter Widget of type <code>HBox</code>.</p>\n",
       "<p>\n",
       "  If you're reading this message in the Jupyter Notebook or JupyterLab Notebook, it may mean\n",
       "  that the widgets JavaScript is still loading. If this message persists, it\n",
       "  likely means that the widgets JavaScript library is either not installed or\n",
       "  not enabled. See the <a href=\"https://ipywidgets.readthedocs.io/en/stable/user_install.html\">Jupyter\n",
       "  Widgets Documentation</a> for setup instructions.\n",
       "</p>\n",
       "<p>\n",
       "  If you're reading this message in another frontend (for example, a static\n",
       "  rendering on GitHub or <a href=\"https://nbviewer.jupyter.org/\">NBViewer</a>),\n",
       "  it may mean that your frontend doesn't currently support widgets.\n",
       "</p>\n"
      ],
      "text/plain": [
       "HBox(children=(IntProgress(value=0, max=2), HTML(value='')))"
      ]
     },
     "metadata": {},
     "output_type": "display_data"
    },
    {
     "data": {
      "application/vnd.jupyter.widget-view+json": {
       "model_id": "0351a2683a034a2bb91148640b754866",
       "version_major": 2,
       "version_minor": 0
      },
      "text/html": [
       "<p>Failed to display Jupyter Widget of type <code>HBox</code>.</p>\n",
       "<p>\n",
       "  If you're reading this message in the Jupyter Notebook or JupyterLab Notebook, it may mean\n",
       "  that the widgets JavaScript is still loading. If this message persists, it\n",
       "  likely means that the widgets JavaScript library is either not installed or\n",
       "  not enabled. See the <a href=\"https://ipywidgets.readthedocs.io/en/stable/user_install.html\">Jupyter\n",
       "  Widgets Documentation</a> for setup instructions.\n",
       "</p>\n",
       "<p>\n",
       "  If you're reading this message in another frontend (for example, a static\n",
       "  rendering on GitHub or <a href=\"https://nbviewer.jupyter.org/\">NBViewer</a>),\n",
       "  it may mean that your frontend doesn't currently support widgets.\n",
       "</p>\n"
      ],
      "text/plain": [
       "HBox(children=(IntProgress(value=0, max=2), HTML(value='')))"
      ]
     },
     "metadata": {},
     "output_type": "display_data"
    },
    {
     "data": {
      "application/vnd.jupyter.widget-view+json": {
       "model_id": "52a61f23ca0745c48f1cec966c5e7dbf",
       "version_major": 2,
       "version_minor": 0
      },
      "text/html": [
       "<p>Failed to display Jupyter Widget of type <code>HBox</code>.</p>\n",
       "<p>\n",
       "  If you're reading this message in the Jupyter Notebook or JupyterLab Notebook, it may mean\n",
       "  that the widgets JavaScript is still loading. If this message persists, it\n",
       "  likely means that the widgets JavaScript library is either not installed or\n",
       "  not enabled. See the <a href=\"https://ipywidgets.readthedocs.io/en/stable/user_install.html\">Jupyter\n",
       "  Widgets Documentation</a> for setup instructions.\n",
       "</p>\n",
       "<p>\n",
       "  If you're reading this message in another frontend (for example, a static\n",
       "  rendering on GitHub or <a href=\"https://nbviewer.jupyter.org/\">NBViewer</a>),\n",
       "  it may mean that your frontend doesn't currently support widgets.\n",
       "</p>\n"
      ],
      "text/plain": [
       "HBox(children=(IntProgress(value=0, max=2), HTML(value='')))"
      ]
     },
     "metadata": {},
     "output_type": "display_data"
    },
    {
     "data": {
      "application/vnd.jupyter.widget-view+json": {
       "model_id": "615746a73e1e4750b55a92fe4b146a8e",
       "version_major": 2,
       "version_minor": 0
      },
      "text/html": [
       "<p>Failed to display Jupyter Widget of type <code>HBox</code>.</p>\n",
       "<p>\n",
       "  If you're reading this message in the Jupyter Notebook or JupyterLab Notebook, it may mean\n",
       "  that the widgets JavaScript is still loading. If this message persists, it\n",
       "  likely means that the widgets JavaScript library is either not installed or\n",
       "  not enabled. See the <a href=\"https://ipywidgets.readthedocs.io/en/stable/user_install.html\">Jupyter\n",
       "  Widgets Documentation</a> for setup instructions.\n",
       "</p>\n",
       "<p>\n",
       "  If you're reading this message in another frontend (for example, a static\n",
       "  rendering on GitHub or <a href=\"https://nbviewer.jupyter.org/\">NBViewer</a>),\n",
       "  it may mean that your frontend doesn't currently support widgets.\n",
       "</p>\n"
      ],
      "text/plain": [
       "HBox(children=(IntProgress(value=0, max=2), HTML(value='')))"
      ]
     },
     "metadata": {},
     "output_type": "display_data"
    },
    {
     "name": "stdout",
     "output_type": "stream",
     "text": [
      "11\n"
     ]
    }
   ],
   "source": [
    "smooth_kernel = [0, 1, 2, 3, 4]\n",
    "for i, sk in tqdm(enumerate(smooth_kernel), desc='smooth'):\n",
    "\n",
    "    for ii, corr in tqdm(enumerate(np.arange(0, 1.05, 0.1)), desc='corr'):\n",
    "        iters = 100\n",
    "        results = dict(acc=[], kernel=[], method=[], corr=[], analysis=[])\n",
    "\n",
    "        for ii in range(iters):\n",
    "            fmri_gen = FmriData(P=2, I=40, I_dur=1, ISIs=[4,5], TR=2,\n",
    "                            K=(4, 4), ar1_rho=0.5, smoothness=1,\n",
    "                            noise_factor=1, cond_means=(0, 0),\n",
    "                            cond_stds=(0.5, 0.5), single_trial=True,\n",
    "                            conf_params=dict(corr=corr, mean=1, std=0))\n",
    "\n",
    "            X, y, conds, true_params = fmri_gen.generate_data()\n",
    "            y = np.hstack([gaussian_filter(y[:, i], sigma=sigma)[:, np.newaxis]\n",
    "                           for i in range(y.shape[1])])\n",
    "\n",
    "            betas, stders, tvals = fmri_gen.fit_glm(X, y)\n",
    "            acc = cross_val_score(default_pipe, tvals, conds, cv=10).mean()\n",
    "            results['kernel'].append(sigma)\n",
    "            results['acc'].append(acc)\n",
    "            results['method'].append('No control')\n",
    "            results['corr'].append(corr)\n",
    "            results['analysis'].append('Trial-wise')\n",
    "\n",
    "            cfr_pipe = make_pipeline(ConfoundRegressor(X=tvals, confound=fmri_gen.conf),\n",
    "                                     StandardScaler(), SVC(kernel='linear'))\n",
    "\n",
    "            acc = cross_val_score(cfr_pipe, tvals, conds, cv=10).mean()\n",
    "            results['kernel'].append(sigma)\n",
    "            results['acc'].append(acc)\n",
    "            results['method'].append('CVCR')\n",
    "            results['corr'].append(corr)\n",
    "            results['analysis'].append('Trial-wise')\n",
    "\n",
    "            fmri_gen = FmriData(P=2, I=40, I_dur=1, ISIs=[4,5], TR=2,\n",
    "                                K=(4, 4), ar1_rho=0.5, smoothness=1,\n",
    "                                noise_factor=1, cond_means=(0, 0),\n",
    "                                cond_stds=(0.5, 0.5), single_trial=True,\n",
    "                                conf_params=None)\n",
    "\n",
    "            X, y, conds, true_params = fmri_gen.generate_data()\n",
    "            y = np.hstack([gaussian_filter(y[:, i], sigma=sigma)[:, np.newaxis]\n",
    "                           for i in range(y.shape[1])])\n",
    "\n",
    "            betas, stders, tvals = fmri_gen.fit_glm(X, y)\n",
    "            acc = cross_val_score(default_pipe, tvals, conds, cv=10).mean()\n",
    "            results['kernel'].append(sigma)\n",
    "            results['acc'].append(acc)\n",
    "            results['method'].append('Baseline')\n",
    "            results['corr'].append(corr)\n",
    "            results['analysis'].append('Trial-wise')\n",
    "            ###################\n",
    "\n",
    "            fmri_gen = FmriData(P=2, I=40, I_dur=1, ISIs=[4,5], TR=2,\n",
    "                            K=(4, 4), ar1_rho=0.5, smoothness=1,\n",
    "                            noise_factor=1, cond_means=(0, 0),\n",
    "                            cond_stds=(0.5, 0.5), single_trial=False,\n",
    "                            conf_params=dict(corr=corr, mean=1, std=0))\n",
    "\n",
    "            _, _, tvals, target, group, conf = stack_runs(fmri_gen, smooth=sigma)\n",
    "            acc = cross_val_score(default_pipe, tvals, target, cv=10, groups=group).mean()\n",
    "            results['kernel'].append(sigma)\n",
    "            results['acc'].append(acc)\n",
    "            results['method'].append('No control')\n",
    "            results['corr'].append(corr)\n",
    "            results['analysis'].append('Run-wise')\n",
    "\n",
    "            cfr_pipe = make_pipeline(ConfoundRegressor(X=tvals, confound=conf),\n",
    "                                     StandardScaler(), SVC(kernel='linear'))\n",
    "\n",
    "            acc = cross_val_score(cfr_pipe, tvals, target, cv=10, groups=group).mean()\n",
    "            results['kernel'].append(sigma)\n",
    "            results['acc'].append(acc)\n",
    "            results['method'].append('CVCR')\n",
    "            results['corr'].append(corr)\n",
    "            results['analysis'].append('Run-wise')\n",
    "\n",
    "            fmri_gen = FmriData(P=2, I=40, I_dur=1, ISIs=[4,5], TR=2,\n",
    "                                K=(4, 4), ar1_rho=0.5, smoothness=1,\n",
    "                                noise_factor=1, cond_means=(0, 0),\n",
    "                                cond_stds=(0.5, 0.5), single_trial=False,\n",
    "                                conf_params=None)\n",
    "\n",
    "            _, _, tvals, target, group, conf = stack_runs(fmri_gen, smooth=sigma)\n",
    "            acc = cross_val_score(default_pipe, tvals, target, cv=10, groups=group).mean()\n",
    "            results['kernel'].append(sigma)\n",
    "            results['acc'].append(acc)\n",
    "            results['method'].append('Baseline')\n",
    "            results['corr'].append(corr)\n",
    "            results['analysis'].append('Run-wise')\n",
    "\n",
    "df_CVCR_sm = pd.DataFrame(results)\n",
    "df_CVCR_sm['corr'] = df_CVCR_sm['corr'].round(1)"
   ]
  },
  {
   "cell_type": "markdown",
   "metadata": {},
   "source": [
    "Plot the results:"
   ]
  },
  {
   "cell_type": "code",
   "execution_count": null,
   "metadata": {},
   "outputs": [],
   "source": [
    "plt.figure(figsize=(11, 4))\n",
    "g = sns.factorplot(data=df_CVCR_sm, x='corr', y='acc', hue='method', col='kernel', row='analysis')\n",
    "for i, ax in enumerate(g.axes.flatten()):\n",
    "    ax.axhline(0.5, ls='--', c='k')\n",
    "    \n",
    "    if i == 0:\n",
    "        ax.text(0, 0.9, 'Trial-wise', fontsize=25)\n",
    "        \n",
    "    if i == 5:\n",
    "        ax.text(0, 0.9, 'Run-wise', fontsize=25)\n",
    "\n",
    "    if i < 5:\n",
    "        ax.set_title(r'$\\sigma_{filter} = %i$' % np.tile(smooth_kernel, 2)[i], \n",
    "                     fontsize=20, y=1.05)\n",
    "    else:\n",
    "        ax.set_title('')\n",
    "    \n",
    "    if i in [0, 5]:\n",
    "        ax.set_ylabel('Accuracy', fontsize=15)\n",
    "    \n",
    "    if i > 4:\n",
    "        ax.set_xlabel('$r_{Cy}$', fontsize=20)\n",
    "\n",
    "plt.tight_layout()"
   ]
  },
  {
   "cell_type": "markdown",
   "metadata": {},
   "source": [
    "Great, this seems to work!"
   ]
  },
  {
   "cell_type": "markdown",
   "metadata": {},
   "source": [
    "## Control for confounds during pattern estimation\n",
    "Alternatively, we can use the method advocated in the Woolgar article. Essentially, the Woolgar article suggests to \"remove\" the variance associated with the confound in the first-level pattern estimation step (in the article, we can this approach \"controlling for confounds during pattern estimation\"). Importantly, in the original article, Woolgar and colleagues do not estimate single-trial activity patterns (the LSA-approach), but do \"run-wise\" decoding on condition-average responses. This actually matters a lot, as we will see later. Now, however, we're going to investigate whether the \"control for confounds during pattern estimation\" works for LSA-type of pattern estimation (which is quite common in fMRI decoding analyses).\n",
    "\n",
    "Now, technically, there are two ways to go about this:\n",
    "\n",
    "1. Add the (HRF-convolved) confound regressor ($C$) to the single-trial regressors ($X$), and then fit the complete design-matrix (with $X$ and $C$ concatenated) to the signal ($y$)\n",
    "2. Regress out the (HRF-convolved) confound regress from the signal ($y$) *before* fitting the design-matrix (only $X$, no $C$) to the signal ($y$)\n",
    "\n",
    "How does that work? Well, let's plot the single-trial regressors and the confound-regressor side by side:"
   ]
  },
  {
   "cell_type": "code",
   "execution_count": null,
   "metadata": {},
   "outputs": [],
   "source": [
    "fmri_gen = FmriData(P=2, I=40, I_dur=1, ISIs=[4,5], TR=2,\n",
    "                    K=(2, 1), ar1_rho=0.5, smoothness=1,\n",
    "                    noise_factor=1, cond_means=(1, 1),\n",
    "                    cond_stds=(0.5, 0.5), single_trial=True,\n",
    "                    conf_params=dict(corr=0.9, mean=2, std=0))\n",
    "\n",
    "X, y, conds, true_params = fmri_gen.generate_data()\n",
    "betas, stderrs, tvals = fmri_gen.fit_glm(X, y, control_for_conf=True, aggressive=True)\n",
    "\n",
    "fig, ax = plt.subplots(nrows=2, sharex=True, figsize=(15, 6))\n",
    "for i in np.arange(1, 81):\n",
    "    ax[0].plot(X[:, i], c='r' if conds[i-1] else 'b')\n",
    "\n",
    "ax[0].legend(['Class 0', 'Class 1'])\n",
    "ax[0].set_title(\"Single-trial regressors\")\n",
    "\n",
    "ax[1].plot(X[:, -1])\n",
    "ax[1].set_title(\"Confound regressor\")\n",
    "\n",
    "for i in [0, 1]:\n",
    "    ax[i].set_ylabel('Amplitude (A.U.)')\n",
    "    ax[i].set_xlim(0, 220)\n",
    "\n",
    "sns.despine()\n",
    "plt.tight_layout()"
   ]
  },
  {
   "cell_type": "markdown",
   "metadata": {},
   "source": [
    "Importantly, the signal ($y$) is generated based on these same regressors (both the single-trial regressors and the confound) with the generative parameters $\\beta_{X|y=0} = 1$, $\\beta_{X|y=1} = 1$, $\\beta_{C} = 2$: they all activate the voxel (signal) equally. Let's actually plot this. You can see by eye that trials of class/condition 1 seem to activate the voxel more than class 0, but this is completely due to the confound. In fact, if we don't control for the confound, this is exactly what is found in the first-level model:"
   ]
  },
  {
   "cell_type": "code",
   "execution_count": null,
   "metadata": {},
   "outputs": [],
   "source": [
    "fig, ax = plt.subplots(nrows=2, sharex=True, figsize=(15, 6))\n",
    "ax[0].plot(y[:, 0])\n",
    "ax[0].set_title(\"Signal\")\n",
    "\n",
    "betas, stderrs, tvals = fmri_gen.fit_glm(X, y, control_for_conf=False)\n",
    "print(\"Mean beta, y = 0: %.3f\" % betas[conds == 0, 0].mean())\n",
    "print(\"Mean beta, y = 1: %.3f\" % betas[conds == 1, 0].mean())\n",
    "\n",
    "for i in np.arange(1, 81):\n",
    "    ax[1].plot(X[:, i] * betas[i - 1, 0], c='r' if conds[i-1] else 'b')\n",
    "    \n",
    "ax[1].set_title(r\"$Predicted\\ values (X\\beta)$\")\n",
    "ax[1].legend(['Class 0', 'Class 1'])\n",
    "\n",
    "for i in [0, 1]:\n",
    "    ax[i].set_ylabel('Amplitude (A.U.)')\n",
    "    ax[i].set_xlim(0, 220)\n",
    "\n",
    "sns.despine()\n",
    "plt.tight_layout()"
   ]
  },
  {
   "cell_type": "markdown",
   "metadata": {},
   "source": [
    "As we can see, the activation parameter estimated for class 1 ($\\beta_{X|y=1}$) is overestimated. So, does controlling for the confound normalize the estimated parameters for class 1 and 0 to a value of 1 (the \"true\" generative parameter)? As said, we can do this using either of the two discussed methods (option 1 and option 2). The difference between the aforementioned options (add to model vs. regress out before) that in option 1, the variance between the confound and the correlated trials are shared while in option 2, all the variance in $y$ is attributed to the confound. For the rest of this notebook, let's call option 1 the \"default\" method and option 2 the \"aggressive\" method (cf. the terminology used in ICA-AROMA denoising).\n",
    "\n",
    "But is this \"variance partioning\" method really working as we expect? Let's investigate that.\n",
    "In our `FmriData` class, we can simply set `control_for_conf` to `True` to do confound control using the \"default\" method; when you additionally set `aggressive` to `True`, `FmriData` will implement the \"aggressive\" method.\n",
    "\n",
    "### Default (non-aggressive) confound control\n",
    "Let's first use the default method. We'll evaluate this for a range of correlations (0-1, in steps of 0.1) and we'll set the condition means to 1 ($\\beta_{X|y=0} = \\beta_{X|y-1} = 1$) and the confound mean also to 1 ($\\beta_{C} = 1$)."
   ]
  },
  {
   "cell_type": "code",
   "execution_count": null,
   "metadata": {},
   "outputs": [],
   "source": [
    "corrs = np.arange(0, 1.05, 0.1) # from 0 - 1 in steps of 0.1\n",
    "results = dict(acc=[], corr=[], controlled=[], aggressive=[], analysis=[])\n",
    "pipe = make_pipeline(StandardScaler(), SVC(kernel='linear'))\n",
    "agg = [False, True]\n",
    "\n",
    "for i, corr in tqdm_notebook(enumerate(corrs), desc='corr'):\n",
    "    \n",
    "    for ag in agg:\n",
    "\n",
    "        iters = 10\n",
    "        for ii in range(iters):\n",
    "\n",
    "            fmri_gen = FmriData(P=2, I=40, I_dur=1, ISIs=[4,5], TR=2,\n",
    "                    K=(4, 4), ar1_rho=0.5, smoothness=1,\n",
    "                    noise_factor=1, cond_means=(1, 1),\n",
    "                    cond_stds=(0.5, 0.5), single_trial=True,\n",
    "                    conf_params=dict(corr=corr, mean=1, std=0))\n",
    "\n",
    "            # TRIAL-WISE, CONTROL: TRUE\n",
    "            X, y, conds, true_params = fmri_gen.generate_data()\n",
    "            betas, stders, tvals = fmri_gen.fit_glm(X, y, control_for_conf=True, aggressive=ag)\n",
    "            acc = cross_val_score(pipe, tvals, conds, cv=10).mean()\n",
    "            results['corr'].append(corr)\n",
    "            results['acc'].append(acc)\n",
    "            results['controlled'].append(True)\n",
    "            results['analysis'].append('Trial-wise')\n",
    "            results['aggressive'].append(ag)\n",
    "\n",
    "            # TRIAL-WISE, CONTROL: FALSE\n",
    "            betas, stders, tvals = fmri_gen.fit_glm(X, y, control_for_conf=False)\n",
    "            acc = cross_val_score(pipe, tvals, conds, cv=10).mean()\n",
    "            results['corr'].append(corr)\n",
    "            results['acc'].append(acc)\n",
    "            results['controlled'].append(False)\n",
    "            results['analysis'].append('Trial-wise')\n",
    "            results['aggressive'].append(ag)\n",
    "            \n",
    "            fmri_gen = FmriData(P=2, I=40, I_dur=1, ISIs=[4,5], TR=2,\n",
    "                    K=(10, 10), ar1_rho=0.5, smoothness=1,\n",
    "                    noise_factor=1, cond_means=(1, 1),\n",
    "                    cond_stds=(0.5, 0.5), single_trial=False,\n",
    "                    conf_params=dict(corr=corr, mean=1, std=0))\n",
    "            \n",
    "            # RUN-WISE, CONTROL: TRUE\n",
    "            _, _, tvals, target, group, conf = stack_runs(fmri_gen, R=10, control_for_conf=True, aggressive=agg)\n",
    "            acc = cross_val_score(pipe, tvals, target, groups=group, cv=10).mean()\n",
    "            results['corr'].append(corr)\n",
    "            results['acc'].append(acc)\n",
    "            results['controlled'].append(True)\n",
    "            results['analysis'].append('Run-wise')\n",
    "            results['aggressive'].append(ag)\n",
    "            \n",
    "            # RUN-WISE, CONTROL: FALSE\n",
    "            betas, stders, tvals = fmri_gen.fit_glm(X, y, control_for_conf=False)\n",
    "            acc = cross_val_score(pipe, tvals, conds, cv=10).mean()\n",
    "            results['corr'].append(corr)\n",
    "            results['acc'].append(acc)\n",
    "            results['controlled'].append(False)\n",
    "            results['analysis'].append('Run-wise')\n",
    "            results['aggressive'].append(ag)\n",
    "\n",
    "df_ccdpe = pd.DataFrame(results)\n",
    "df_ccdpe['corr'] = df_ccdpe['corr'].round(1)"
   ]
  },
  {
   "cell_type": "code",
   "execution_count": null,
   "metadata": {},
   "outputs": [],
   "source": [
    "plt.figure(figsize=(11, 4))\n",
    "txts = ['\"Default\"\\nmethod', '\"Default\"\\nmethod', '\"Aggressive\"\\nmethod', '\"Aggressive\"\\nmethod']\n",
    "g = sns.factorplot(data=df_ccdpe, x='corr', y='acc', hue='controlled', col='analysis', row='aggressive',\n",
    "                   aspect=1.5, legend_out=False, ci='sd')\n",
    "for i, ax in enumerate(g.axes.flatten()):\n",
    "    ax.axhline(0.5, ls='--', c='k')\n",
    "    \n",
    "    if i == 0:\n",
    "        ax.set_title('Trial-wise decoding', fontsize=20, y=1.05)\n",
    "        ax.legend(loc='upper left', title='Controlled for confound?', fontsize=12, frameon=False)\n",
    "    elif i == 1:\n",
    "        ax.set_title('Run-wise decoding', fontsize=20, y=1.05)\n",
    "    else:\n",
    "        ax.set_title('')\n",
    "        \n",
    "    if i in [0, 2]:\n",
    "        ax.set_ylabel('Accuracy', fontsize=15)\n",
    "    \n",
    "    if i > 1:\n",
    "        ax.set_xlabel('$r_{Cy}$', fontsize=20)\n",
    "\n",
    "    if i in [1, 3]:\n",
    "        ax.text(10.5, 0.7, txts[i], fontsize=20)\n",
    "plt.tight_layout()"
   ]
  },
  {
   "cell_type": "markdown",
   "metadata": {},
   "source": [
    "What is happening here? This method does not seem to work at all (we'd expect the blue line to center around 0.5). One of the reviewers anticipated this positive bias and suggested that it might have to with variance decoding: unequal variance in the features values across the two classes in the absence of any mean difference. We indeed find that this is the case, but only for the run-wise decoding analyses in combination with the \"default\" method. Anyway, let's check the the distributions of feature values (we'll use betas) in the trial-wise decoding analysis in combination with the default method (it also holds for the aggressive method; to see this, just set `aggressive=True`):"
   ]
  },
  {
   "cell_type": "code",
   "execution_count": null,
   "metadata": {},
   "outputs": [],
   "source": [
    "corrs = np.arange(0.0, 1.05, 0.1) # from 0 - 1 in steps of 0.1\n",
    "pipe = make_pipeline(StandardScaler(), SVC(kernel='linear'))\n",
    "plt.figure(figsize=(15, 7))\n",
    "for i, corr in enumerate(corrs):\n",
    "\n",
    "    fmri_gen = FmriData(P=2, I=40, I_dur=1, ISIs=[4,5], TR=2,\n",
    "                        K=(10, 10), ar1_rho=0.5, smoothness=1,\n",
    "                        noise_factor=1, cond_means=(1, 1),\n",
    "                        cond_stds=(0.5, 0.5), single_trial=True,\n",
    "                        conf_params=dict(corr=corr, mean=1, std=0))\n",
    "\n",
    "    #betas, sds, tvals, conds, group, conf = stack_runs(fmri_gen, R=10, control_for_conf=True, aggressive=True)\n",
    "    #score = cross_val_score(pipe, tvals, target, groups=group, cv=10).mean()\n",
    "\n",
    "    X, y, conds, true_params = fmri_gen.generate_data()\n",
    "    betas, stderrs, tvals = fmri_gen.fit_glm(X, y, control_for_conf=True, aggressive=False)\n",
    "    score = cross_val_score(pipe, tvals, conds, cv=10).mean()\n",
    "    plt.subplot(3, 4, i+1)\n",
    "    sns.distplot(betas[conds == 0, :].ravel())\n",
    "    sns.distplot(betas[conds == 1, :].ravel())\n",
    "\n",
    "    if i == 0:\n",
    "        plt.legend(['$y = 0$', '$y = 1$'], loc='upper left', frameon=False)\n",
    "    \n",
    "    plt.axvline(betas[conds == 0, :].mean(), ls='--', c='tab:blue')\n",
    "    plt.axvline(betas[conds == 1, :].mean(), ls='--', c='tab:orange')\n",
    "    plt.xlim(-2, 2.5)\n",
    "\n",
    "    if i >= 7:\n",
    "        ax = plt.gca()\n",
    "        ax.set_xlabel(r'$\\hat{\\beta}_{X}$', fontsize=20)\n",
    "\n",
    "    plt.title(\"$r_{Cy} = %.1f$\" % corr, fontsize=15, y=1.05)\n",
    "\n",
    "    if i in [0, 4, 8]:\n",
    "        plt.ylabel('Density', fontsize=13)\n",
    "\n",
    "sns.despine()\n",
    "plt.tight_layout()\n",
    "plt.show()"
   ]
  },
  {
   "cell_type": "markdown",
   "metadata": {},
   "source": [
    "From the plot above it becomes clear that it's not variance decoding that is the problem, but that this method does seems to induce an *opposite* mean difference: before confound control, class 1 had a higher amplitude in the signal (as it reflects the true activation in response to that class + the confound) while after confound control, class 0 (blue density plots) has on average higher feature values! \n",
    "\n",
    "After a while, we figured out the reasons: the confound \"absorbs\" all of the variance related to class 0, forcing it's estimated beta-weights to zero (check the orange dashed lines in the plot above!), especially for higher correlation values. On the contrary, the estimated beta-weights for class 1 are recovered quite accurately, especially for high correlation values. This opposite effect of confound regression on class 0 and class 1, here, yields this change of the sign of the effect (class 0 < class 1 to class 0 > class 1).\n",
    "\n",
    "Let's visualize this issue in more detail:"
   ]
  },
  {
   "cell_type": "code",
   "execution_count": null,
   "metadata": {},
   "outputs": [],
   "source": [
    "from matplotlib.lines import Line2D\n",
    "\n",
    "fmri_gen = FmriData(P=2, I=40, I_dur=1, ISIs=[10], TR=2,\n",
    "                        K=(2, 1), ar1_rho=0.5, smoothness=1,\n",
    "                        noise_factor=1, cond_means=(1, 1),\n",
    "                        cond_stds=(0.5, 0.5), single_trial=True,\n",
    "                        conf_params=dict(corr=.9, mean=1, std=0))\n",
    "\n",
    "X, y, conds, true_params = fmri_gen.generate_data()\n",
    "betas, stderrs, tvals = fmri_gen.fit_glm(X, y, control_for_conf=True, aggressive=False)\n",
    "\n",
    "fig, ax = plt.subplots(nrows=3, sharex=True, figsize=(15, 8))\n",
    "for i in np.arange(1, 81):\n",
    "    ax[0].plot(X[:, i] / np.max(X[:, i]), c='tab:orange' if conds[i-1] else 'tab:blue')\n",
    "\n",
    "ax[0].set_ylabel('Amplitude (%s)' % r'$X_{j}\\beta_{j}$', fontsize=13)\n",
    "ax[0].plot(X[:, -1] / np.max(X[:, -1]), c='tab:pink')\n",
    "\n",
    "custom_lines = [Line2D([0], [0], color='tab:blue', lw=2),\n",
    "                Line2D([0], [0], color='tab:orange', lw=2),\n",
    "                Line2D([0], [0], color='tab:pink', lw=2)]\n",
    "\n",
    "ax[0].legend(custom_lines, ['Condition 0', 'Condition 1', 'Confound'])\n",
    "ax[0].set_ylim(-0.2, 1.3)\n",
    "ax[0].set_title('True generative model (%s)' % r'$X_{j}\\beta_{j}$', fontsize=20, y=0.97)\n",
    "\n",
    "ax[1].plot(y[:, 0], c='tab:green')\n",
    "ax[1].set_title(\"Signal (%s)\" % '$y$', fontsize=20, y=0.97)\n",
    "ax[1].set_ylabel(\"Amplitude (%s)\" % r'$X\\beta + \\epsilon$', fontsize=13)\n",
    "\n",
    "print(\"Mean beta, y = 0: %.3f\" % betas[conds == 0, 0].mean())\n",
    "print(\"Mean beta, y = 1: %.3f\" % betas[conds == 1, 0].mean())\n",
    "\n",
    "for i in np.arange(1, 81):\n",
    "    ax[2].plot(X[:, i] / np.max(X[:, i]) * betas[i - 1, 0], c='tab:orange' if conds[i-1] else 'tab:blue')\n",
    "\n",
    "#ax[2].plot(X[:, -1] / np.max(X[:, -1]) * betas[-1, 0], c='g')\n",
    "ax[2].set_title('Estimated parameters (%s)' % r'$X_{j}\\hat{\\beta}_{j}$', fontsize=20, y=0.97)\n",
    "\n",
    "custom_lines = [Line2D([0], [0], color='tab:blue', lw=2),\n",
    "                Line2D([0], [0], color='tab:orange', lw=2),\n",
    "                Line2D([0], [0], color='tab:blue', lw=2, ls='--'),\n",
    "                Line2D([0], [0], color='tab:orange', lw=2, ls='--')]\n",
    "\n",
    "ax[2].legend(custom_lines, ['Condition 0', 'Condition 1', 'mean(condition 0)', 'mean(condition 1)'],\n",
    "                            loc='upper right')\n",
    "ax[2].set_ylabel('Amplitude (%s)' % r'$X_{j}\\hat{\\beta}_{j}$', fontsize=13)\n",
    "\n",
    "ax[2].axhline(betas[conds == 0, 0].mean(), ls='--', c='tab:blue')\n",
    "ax[2].axhline(betas[conds == 1, 0].mean(), ls='--', c='tab:orange')\n",
    "ax[2].set_xlabel('Time (TR)', fontsize=15)\n",
    "\n",
    "for i in [0, 1, 2]:\n",
    "    ax[i].set_xlim(0, 220)\n",
    "\n",
    "    \n",
    "sns.despine()\n",
    "plt.tight_layout()"
   ]
  },
  {
   "cell_type": "markdown",
   "metadata": {},
   "source": [
    "Alright, so this seems to be the problem! One could argue that this only happens when both conditions activate the voxel equally, and that this might not happen when both conditions *don't* activate the voxel. This is true, but in reality you would not know this! So better to err on the safe side, and don't use this.\n",
    "\n",
    "That said, we promised to take a look at the run-wise decoding analyses with the \"default\" method, which do not *necessarily* lead to positive bias. In fact, this has to do with \"variance decoding\" (Hebart & Baker, 2017, NeuroImage)."
   ]
  },
  {
   "cell_type": "code",
   "execution_count": null,
   "metadata": {},
   "outputs": [],
   "source": [
    "results = dict(acc=[], corr=[], controlled=[], stat=[])\n",
    "for i, corr in tqdm_notebook(enumerate(corrs), desc='corr'):\n",
    "    \n",
    "    iters = 10\n",
    "    for ii in range(iters):\n",
    "\n",
    "        fmri_gen = FmriData(P=2, I=40, I_dur=1, ISIs=[4,5], TR=2,\n",
    "                            K=(4, 4), ar1_rho=0.5, smoothness=1,\n",
    "                            noise_factor=1, cond_means=(1, 1),\n",
    "                            cond_stds=(0.5, 0.5), single_trial=False,\n",
    "                            conf_params=dict(corr=corr, mean=1, std=0))\n",
    "        \n",
    "        betas, stderrs, tvals, target, group, conf = stack_runs(fmri_gen, R=10, control_for_conf=True)\n",
    "        varz = stderrs**2\n",
    "        acc = cross_val_score(pipe, betas, target, groups=group, cv=10).mean()\n",
    "        results['corr'].append(corr)\n",
    "        results['acc'].append(acc)\n",
    "        results['controlled'].append(True)\n",
    "        results['stat'].append('beta')\n",
    "        \n",
    "        acc = cross_val_score(pipe, varz, target, groups=group, cv=10).mean()\n",
    "        results['corr'].append(corr)\n",
    "        results['acc'].append(acc)\n",
    "        results['controlled'].append(True)\n",
    "        results['stat'].append('var')\n",
    "        \n",
    "        acc = cross_val_score(pipe, tvals, target, groups=group, cv=10).mean()\n",
    "        results['corr'].append(corr)\n",
    "        results['acc'].append(acc)\n",
    "        results['controlled'].append(True)\n",
    "        results['stat'].append('t-value')\n",
    "        \n",
    "        betas, stderrs, tvals, target, group, conf = stack_runs(fmri_gen, R=10, control_for_conf=False)\n",
    "        varz = stderrs**2\n",
    "        acc = cross_val_score(pipe, betas, target, groups=group, cv=10).mean()\n",
    "        results['corr'].append(corr)\n",
    "        results['acc'].append(acc)\n",
    "        results['controlled'].append(False)\n",
    "        results['stat'].append('beta')\n",
    "        \n",
    "        acc = cross_val_score(pipe, varz, target, groups=group, cv=10).mean()\n",
    "        results['corr'].append(corr)\n",
    "        results['acc'].append(acc)\n",
    "        results['controlled'].append(False)\n",
    "        results['stat'].append('var')\n",
    "        \n",
    "        acc = cross_val_score(pipe, tvals, target, groups=group, cv=10).mean()\n",
    "        results['corr'].append(corr)\n",
    "        results['acc'].append(acc)\n",
    "        results['controlled'].append(False)\n",
    "        results['stat'].append('t-value')\n",
    "        \n",
    "df_vardec = pd.DataFrame(results)\n",
    "df_vardec['corr'] = df_vardec['corr'].round(1)"
   ]
  },
  {
   "cell_type": "code",
   "execution_count": null,
   "metadata": {},
   "outputs": [],
   "source": [
    "fig, ax = plt.subplots(nrows=2, ncols=3, sharex=False, figsize=(15, 6))\n",
    "stat_names = ['Features: %s' % r'$\\hat{\\beta}_{X}$',\n",
    "              'Features: var[%s]' % r'$\\hat{\\beta}_{X}$',\n",
    "              'Features: t(%s)' % r'$\\hat{\\beta}_{X}$']\n",
    "\n",
    "for i, stat in enumerate(['beta', 'var', 't-value']):\n",
    "    this_df = df_vardec[df_vardec['stat'] == stat]\n",
    "    sns.pointplot(data=this_df, x='corr', y='acc', hue='controlled', ax=ax[0, i], legend=False, ci='sd')\n",
    "    ax[0, i].set_title(stat_names[i], fontsize=20)\n",
    "    ax[0, i].axhline(0.5, ls='--', c='k')\n",
    "    ax[0, i].set_xlabel(r'$r_{Cy}$', fontsize=15)\n",
    "    \n",
    "    if i == 0:\n",
    "        ax[0, i].set_ylabel('Accuracy', fontsize=15)\n",
    "        ax[0, i].legend(frameon=False, title='Controlled?')\n",
    "    else:\n",
    "        ax[0, i].set_ylabel('')\n",
    "        ax[0, i].legend_.remove()\n",
    "\n",
    "        \n",
    "fmri_gen = FmriData(P=2, I=40, I_dur=1, ISIs=[4,5], TR=2,\n",
    "                    K=(4, 4), ar1_rho=0.5, smoothness=1,\n",
    "                    noise_factor=1, cond_means=(1, 1),\n",
    "                    cond_stds=(0.5, 0.5), single_trial=False,\n",
    "                    conf_params=dict(corr=0.8, mean=1, std=0))\n",
    "betas, stderrs, tvals, target, group, conf = stack_runs(fmri_gen, R=10, control_for_conf=True)\n",
    "\n",
    "sns.distplot(betas[conds == 0, :].ravel(), ax=ax[1, 0])\n",
    "sns.distplot(betas[conds == 1, :].ravel(), ax=ax[1, 0])\n",
    "ax[1, 0].legend(['Condition 0', 'Condition 1'], frameon=False)\n",
    "ax[1, 0].set_xlabel(r'$\\hat{\\beta}_{X}$', fontsize=20)\n",
    "ax[1, 0].set_ylabel('Density', fontsize=20)\n",
    "\n",
    "varz = stderrs**2\n",
    "sns.distplot(varz[conds == 0, :].ravel(), ax=ax[1, 1])\n",
    "sns.distplot(varz[conds == 1, :].ravel(), ax=ax[1, 1])\n",
    "ax[1, 1].set_xlabel(r'$\\mathrm{var}[\\hat{\\beta}_{X}]$', fontsize=20)\n",
    "\n",
    "sns.distplot(tvals[conds == 0, :].ravel(), ax=ax[1, 2])\n",
    "sns.distplot(tvals[conds == 1, :].ravel(), ax=ax[1, 2])\n",
    "ax[1, 2].set_xlabel(r'$t(\\hat{\\beta}_{X})$', fontsize=20)\n",
    "\n",
    "sns.despine()\n",
    "plt.tight_layout()\n",
    "plt.show()"
   ]
  },
  {
   "cell_type": "markdown",
   "metadata": {},
   "source": [
    "### OTHER STUFF"
   ]
  },
  {
   "cell_type": "code",
   "execution_count": null,
   "metadata": {},
   "outputs": [],
   "source": [
    "import numpy as np\n",
    "from scipy.stats import ttest_ind, pearsonr\n",
    "from sklearn.model_selection import StratifiedKFold\n",
    "\n",
    "\n",
    "class CounterbalancedStratifiedSplitRandom(object):\n",
    "\n",
    "    def __init__(self, X, y, c, n_splits=5, c_type='categorical',\n",
    "                 metric='corr', use_pval=False, threshold=0.05, verbose=False):\n",
    "\n",
    "        self.X = X\n",
    "        self.y = y\n",
    "        self.c = c\n",
    "        self.z = None\n",
    "        self.n_splits = n_splits\n",
    "        self.c_type = c_type\n",
    "        self.metric = metric\n",
    "        self.use_pval = use_pval\n",
    "        self.threshold = threshold\n",
    "        self.seed = None\n",
    "        self.verbose = verbose\n",
    "\n",
    "    def _validate_fold(self, y, c):\n",
    "\n",
    "        if self.c_type == 'continuous':\n",
    "\n",
    "            if self.metric == 'corr':\n",
    "                stat, pval = pearsonr(c, y)\n",
    "            elif self.metric == 'tstat':\n",
    "                stat, pval = ttest_ind(c[y == 0], c[y == 1])\n",
    "            else:\n",
    "                raise ValueError(\"Please choose either 'corr' or 'tstat'!\")\n",
    "\n",
    "            if self.use_pval:\n",
    "                return pval > self.threshold\n",
    "            else:\n",
    "                return np.abs(stat) < self.threshold\n",
    "\n",
    "        elif self.c_type == 'categorical':\n",
    "            bincounts = np.zeros((np.unique(y).size, np.unique(c).size))\n",
    "            for i, y_class in enumerate(np.unique(y)):\n",
    "                bincounts[i, :] = np.bincount(c[y == y_class])\n",
    "\n",
    "            counterbalanced = np.all(bincounts[0, :] == bincounts[1, :])\n",
    "            return counterbalanced\n",
    "\n",
    "    def _subsample_continuous(self, iteration=0):\n",
    "\n",
    "        # First, let's do a t-test to check for differences between\n",
    "        # c | y=0 and c | y=1; thus, only binary c for now\n",
    "        self.subsample_idx = np.arange(self.y.size)\n",
    "        amount = int(1 + np.floor(iteration / 1000))\n",
    "        this_c = self.c[self.subsample_idx]\n",
    "        this_y = self.y[self.subsample_idx]\n",
    "\n",
    "        c_y0 = this_c[this_y == 0]\n",
    "        c_y1 = this_c[this_y == 1]\n",
    "        idx_c_y0 = self.subsample_idx[this_y == 0]\n",
    "        idx_c_y1 = self.subsample_idx[this_y == 1]\n",
    "\n",
    "        to_drop_c0 = np.random.choice(idx_c_y0, size=amount, replace=False)\n",
    "        if to_drop_c0 not in idx_c_y0:\n",
    "            print(to_drop_c0)\n",
    "            print(idx_c_y0)\n",
    "            raise ValueError\n",
    "            \n",
    "        idx_c_y0 = np.delete(idx_c_y0, to_drop_c0)\n",
    "        \n",
    "        to_drop_c1 = np.random.choice(idx_c_y1, size=amount, replace=False)\n",
    "        if to_drop_c1 not in idx_c_y1:\n",
    "            print(to_drop_c1)\n",
    "            print(idx_c_y1)\n",
    "            raise ValueError\n",
    "        idx_c_y1 = np.delete(idx_c_y1, to_drop_c1)\n",
    "        \n",
    "        self.subsample_idx = np.sort(np.concatenate((idx_c_y0, idx_c_y1)))\n",
    "        \n",
    "    def _subsample_categorical(self):\n",
    "\n",
    "        c_unique = np.unique(self.c)\n",
    "        y_unique = np.unique(self.y)\n",
    "        counts = np.zeros((y_unique.size, c_unique.size))\n",
    "\n",
    "        # Count how many times a c appears for a given y\n",
    "        # so, count(c | y_i)\n",
    "        for i, y_class in enumerate(y_unique):\n",
    "            this_c = self.c[self.y == y_class]\n",
    "            counts[i, :] = np.array([(c == this_c).sum() for c in c_unique])\n",
    "\n",
    "        # ... yielding a len(y_unique) x len(c_unique) matrix\n",
    "        # Now, take the minimum across rows\n",
    "        min_counts = counts.min(axis=0)\n",
    "\n",
    "        if np.all(min_counts == 0):\n",
    "            msg = (\"Wow, your data is really messed up ... There is no way to \"\n",
    "                   \"subsample it, because the minimum proportion of all values\"\n",
    "                   \"of c across all values of y is 0 ...\")\n",
    "            raise ValueError(msg)\n",
    "\n",
    "        # Which are exactly the number of trials (per c) which you need to\n",
    "        # subsample, which is done below:\n",
    "        final_idx = []\n",
    "        for i, y_class in enumerate(y_unique):\n",
    "\n",
    "            this_idx = self.subsample_idx[self.y == y_class]\n",
    "            this_c = self.c[self.y == y_class]\n",
    "\n",
    "            for ii, c in enumerate(c_unique):\n",
    "                final_idx.append(np.random.choice(this_idx[this_c == c],\n",
    "                                                  int(min_counts[ii]),\n",
    "                                                  replace=False))\n",
    "\n",
    "        # The concatenated indices now represent the indices needed to\n",
    "        # properly subsample the data to make it counterbalanced\n",
    "        self.subsample_idx = np.sort(np.concatenate(final_idx))\n",
    "\n",
    "    def _subsample(self, iteration):\n",
    "\n",
    "        if self.c_type == 'continuous':\n",
    "            self._subsample_continuous(iteration=iteration)\n",
    "        elif self.c_type == 'categorical':\n",
    "            self._subsample_categorical()\n",
    "        else:\n",
    "            raise ValueError(\"Please pick c_type='categorical' or \"\n",
    "                             \"c_type='continuous'\")\n",
    "\n",
    "        if len(self.subsample_idx) < (2 * len(np.unique(self.y))):\n",
    "            msg = (\"Probably subsampled too much (only have %i samples now); \"\n",
    "                   \"this dataset can't be meaningfully \"\n",
    "                   \"counterbalanced\" % len(self.subsample_idx))\n",
    "            raise ValueError(msg)\n",
    "\n",
    "    def _find_counterbalanced_seed(self, max_attempts=10):\n",
    "        \"\"\" Find a seed of Stratified K-Fold that gives counterbalanced\n",
    "        classes \"\"\"\n",
    "\n",
    "        y_tmp = self.y[self.subsample_idx]\n",
    "        c_tmp = self.c[self.subsample_idx]\n",
    "        X_tmp = self.X[self.subsample_idx]\n",
    "\n",
    "        to_stratify = y_tmp if self.z is None else self.z\n",
    "        if self.c_type == 'categorical':\n",
    "            lowest_strat_count = np.min(np.bincount(to_stratify))\n",
    "\n",
    "            if lowest_strat_count < self.n_splits:\n",
    "                raise ValueError(\"You have too few samples of each c-y \"\n",
    "                                 \"combination to completely counterbalance all \"\n",
    "                                 \"your folds with n_splits=%i; highest number of \"\n",
    "                                 \"splits you can use is %i\" % (self.n_splits,\n",
    "                                                               lowest_strat_count))\n",
    "\n",
    "        seeds = np.random.randint(0, high=1e7, size=max_attempts, dtype=int)\n",
    "\n",
    "        for i, seed in enumerate(seeds):\n",
    "\n",
    "            skf = StratifiedKFold(n_splits=self.n_splits, shuffle=True,\n",
    "                                  random_state=seed)\n",
    "\n",
    "            for (train_idx, test_idx) in skf.split(X_tmp, y=to_stratify):\n",
    "\n",
    "                this_y, this_c = y_tmp[train_idx], c_tmp[train_idx]\n",
    "                good_split = self._validate_fold(this_y, this_c)\n",
    "                if not good_split:\n",
    "                    break\n",
    "\n",
    "            if good_split:\n",
    "\n",
    "                if self.verbose:\n",
    "                    print(\"Picking seed %i\" % seed)\n",
    "\n",
    "                self.seed = seed\n",
    "                return True\n",
    "\n",
    "        return False\n",
    "\n",
    "    def check_counterbalance_and_subsample(self):\n",
    "\n",
    "        self.subsample_idx = np.arange(self.y.size)\n",
    "\n",
    "        if self.c_type == 'continuous':\n",
    "            found_split = self._find_counterbalanced_seed()\n",
    "            i = 0\n",
    "            while not found_split:\n",
    "                self._subsample(iteration=i)\n",
    "                found_split = self._find_counterbalanced_seed()\n",
    "                i += 1\n",
    "        elif self.c_type == 'categorical':\n",
    "            self._subsample()\n",
    "            recode_dict = {(0, 0): 0, (0, 1): 1, (1, 0): 2, (1, 1): 3}\n",
    "            this_c = self.c[self.subsample_idx]\n",
    "            this_y = self.y[self.subsample_idx]\n",
    "            self.z = [recode_dict[(yi, ci)] for yi, ci in zip(this_c, this_y)]\n",
    "            found_split = self._find_counterbalanced_seed()\n",
    "\n",
    "        if self.verbose:\n",
    "            new_N, old_N = len(self.subsample_idx), self.y.size\n",
    "            print(\"Size of y after subsampling: %i (%.1f percent reduction in \"\n",
    "                  \"samples)\" % (new_N, (old_N - new_N) / old_N * 100))\n",
    "\n",
    "    def split(self, X, y, groups=None):\n",
    "        \"\"\" The final idx to output are subsamples of the subsample_idx... \"\"\"\n",
    "\n",
    "        if self.seed is None:\n",
    "            raise ValueError(\"Run '.check_counterbalance_and_subsample' \"\n",
    "                             \"before you run '.split'!\")\n",
    "\n",
    "        skf = StratifiedKFold(n_splits=self.n_splits, shuffle=True,\n",
    "                              random_state=self.seed)\n",
    "\n",
    "        to_stratify = y if self.z is None else self.z\n",
    "        for (train_idx, test_idx) in skf.split(X=X, y=to_stratify):\n",
    "            yield ((train_idx, test_idx))\n",
    "            \n",
    "C_TYPE = 'continuous'\n",
    "METRIC = 'corr'\n",
    "THRESHOLD = 0.25\n",
    "N_SPLITS = 3\n",
    "\n",
    "n_samp = 20\n",
    "n_feat = 5\n",
    "\n",
    "n_half = int(n_samp / 2)\n",
    "y = np.repeat([0, 1], repeats=n_half)\n",
    "\n",
    "if C_TYPE == 'continuous':\n",
    "    c = y + np.random.randn(n_samp)\n",
    "else:\n",
    "    c = np.roll(y, 5)\n",
    "\n",
    "X = np.random.randn(n_samp, n_feat)\n",
    "\n",
    "css = CounterbalancedStratifiedSplitRandom(X, y, c, n_splits=N_SPLITS,\n",
    "                                     c_type=C_TYPE, verbose=True,\n",
    "                                     metric=METRIC, threshold=THRESHOLD)\n",
    "\n",
    "css.check_counterbalance_and_subsample()\n",
    "X, y, c = X[css.subsample_idx], y[css.subsample_idx], c[css.subsample_idx]\n",
    "\n",
    "folds = css.split(X, y)\n",
    "for train_idx, test_idx in folds:\n",
    "    this_c = c[train_idx]\n",
    "    this_y = y[train_idx]\n",
    "    if METRIC == 'tstat':\n",
    "        stat, pval = ttest_ind(this_c[this_y == 0], this_c[this_y == 1])\n",
    "    elif METRIC == 'corr':\n",
    "        stat, pval = pearsonr(this_c, this_y)\n",
    "\n",
    "    print(\"Stat: %.3f, pval: %.3f\" % (stat, pval))\n"
   ]
  }
 ],
 "metadata": {
  "kernelspec": {
   "display_name": "Python 3",
   "language": "python",
   "name": "python3"
  },
  "language_info": {
   "codemirror_mode": {
    "name": "ipython",
    "version": 3
   },
   "file_extension": ".py",
   "mimetype": "text/x-python",
   "name": "python",
   "nbconvert_exporter": "python",
   "pygments_lexer": "ipython3",
   "version": "3.6.1"
  }
 },
 "nbformat": 4,
 "nbformat_minor": 2
}
