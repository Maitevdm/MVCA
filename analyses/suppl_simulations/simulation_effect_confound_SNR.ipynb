{
 "cells": [
  {
   "cell_type": "markdown",
   "metadata": {},
   "source": [
    "# Simulation effects of confound on SNR \n",
    "Univariate vs. multivariate"
   ]
  },
  {
   "cell_type": "code",
   "execution_count": 8,
   "metadata": {},
   "outputs": [],
   "source": [
    "import sys\n",
    "import numpy as np\n",
    "from sklearn.preprocessing import StandardScaler\n",
    "from sklearn.pipeline import Pipeline\n",
    "from sklearn.svm import SVC\n",
    "from sklearn.model_selection import StratifiedKFold\n",
    "from sklearn.model_selection import permutation_test_score\n",
    "import statsmodels.api as sm\n",
    "import matplotlib.pyplot as plt\n",
    "%matplotlib inline"
   ]
  },
  {
   "cell_type": "code",
   "execution_count": 2,
   "metadata": {},
   "outputs": [],
   "source": [
    "sys.path.append('..')\n",
    "from generate_data import generate_data"
   ]
  },
  {
   "cell_type": "code",
   "execution_count": 48,
   "metadata": {},
   "outputs": [],
   "source": [
    "data_args = dict(n_samp=240, k_feat=5, c_type='categorical', corr_cy=0.65,\n",
    "                 signal_r2=0.01, confound_r2=0.1, verbose=False)\n",
    "X, y, c = generate_data(**data_args)"
   ]
  },
  {
   "cell_type": "code",
   "execution_count": 55,
   "metadata": {},
   "outputs": [
    {
     "name": "stdout",
     "output_type": "stream",
     "text": [
      "0.00390157216891\n",
      "-0.0179760046255\n",
      "-0.00907022346178\n",
      "-0.0236921170981\n",
      "-0.0126143947041\n"
     ]
    }
   ],
   "source": [
    "# univar\n",
    "for i in range(X.shape[1]):\n",
    "    pred = sm.add_constant(y)\n",
    "    # pred = np.hstack((pred, c[:, np.newaxis]))\n",
    "    this_data = X[:, i]\n",
    "    model = sm.OLS(this_data, pred)\n",
    "    results_without_c = model.fit()\n",
    "    \n",
    "    pred = np.hstack((pred, c[:, np.newaxis]))\n",
    "    model = sm.OLS(this_data, pred)\n",
    "    results_with_c = model.fit()\n",
    "    print((np.abs(results_with_c.tvalues[0]) - np.abs(results_without_c.tvalues[0])) / np.abs(results_with_c.tvalues[0] * 100))\n",
    "    "
   ]
  },
  {
   "cell_type": "code",
   "execution_count": 50,
   "metadata": {},
   "outputs": [
    {
     "name": "stderr",
     "output_type": "stream",
     "text": [
      "[Parallel(n_jobs=-1)]: Done  36 tasks      | elapsed:    0.3s\n",
      "[Parallel(n_jobs=-1)]: Done 1000 out of 1000 | elapsed:    2.4s finished\n"
     ]
    }
   ],
   "source": [
    "# Multivar\n",
    "pipe = Pipeline([\n",
    "    ('scaler', StandardScaler()),\n",
    "    ('svm', SVC(kernel='linear', C=0.01))\n",
    "])\n",
    "\n",
    "score, perms, pval = permutation_test_score(estimator=pipe, X=X, y=y, cv=10,\n",
    "                                            n_permutations=1000, n_jobs=-1, random_state=0,\n",
    "                                            verbose=1, scoring=None)"
   ]
  }
 ],
 "metadata": {
  "kernelspec": {
   "display_name": "Python 3",
   "language": "python",
   "name": "python3"
  },
  "language_info": {
   "codemirror_mode": {
    "name": "ipython",
    "version": 3
   },
   "file_extension": ".py",
   "mimetype": "text/x-python",
   "name": "python",
   "nbconvert_exporter": "python",
   "pygments_lexer": "ipython3",
   "version": "3.6.1"
  }
 },
 "nbformat": 4,
 "nbformat_minor": 2
}
