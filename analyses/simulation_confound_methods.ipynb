{
 "cells": [
  {
   "cell_type": "markdown",
   "metadata": {},
   "source": [
    "# Simulation confound strategies\n",
    "This notebook evaluates the effectiveness of \"confound strategies\", i.e. their effectiveness of removing the influence of a known confound on machine learning analyses of (simulations of) mutivoxel pattern data. This notebook is meant as a supplement to the [article](link). Together with the notebook with [empirical analyses](empirical_analysis_gender_classification.ipynb), it hopefully complements the article and clarifies our methods and results.\n",
    "\n",
    "Note that this notebook is organized slightly differently than the article. In this notebook, we'll first show you the problem with regressing out a confound from the entire dataset (i.e. not foldwise; PART A). We then show you how the correct confound-regression method and the counter-balance method compare in their ability to control for confounding influences (PART B)."
   ]
  },
  {
   "cell_type": "code",
   "execution_count": 1,
   "metadata": {},
   "outputs": [
    {
     "name": "stderr",
     "output_type": "stream",
     "text": [
      "/home/lukas/anaconda3/lib/python3.6/site-packages/h5py/__init__.py:34: FutureWarning: Conversion of the second argument of issubdtype from `float` to `np.floating` is deprecated. In future, it will be treated as `np.float64 == np.dtype(float).type`.\n",
      "  from ._conv import register_converters as _register_converters\n"
     ]
    }
   ],
   "source": [
    "# General packages\n",
    "import numpy as np\n",
    "import seaborn as sns\n",
    "import pandas as pd\n",
    "\n",
    "# Bunch of scikit-learn stuff\n",
    "from sklearn.preprocessing import StandardScaler\n",
    "from sklearn.pipeline import Pipeline\n",
    "from sklearn.svm import SVC\n",
    "from sklearn.linear_model import LogisticRegression\n",
    "from sklearn.model_selection import RepeatedStratifiedKFold, StratifiedKFold, cross_val_score\n",
    "from sklearn.feature_selection import f_classif\n",
    "from sklearn.externals import joblib as jl\n",
    "# Specific statistics-functions\n",
    "from scipy.stats import pearsonr\n",
    "\n",
    "# Misc.\n",
    "from tqdm import tqdm_notebook\n",
    "from copy import deepcopy\n",
    "from matplotlib_venn import venn3\n",
    "\n",
    "# Plotting\n",
    "import matplotlib.pyplot as plt\n",
    "%matplotlib inline\n",
    "\n",
    "# Custom code! (install skbold by `pip install skbold`; counterbalance.py is in cwd)\n",
    "from skbold.preproc import ConfoundRegressor\n",
    "from counterbalance import CounterbalancedStratifiedSplit"
   ]
  },
  {
   "cell_type": "markdown",
   "metadata": {},
   "source": [
    "## PART A\n",
    "\n",
    "## Why confound regression the entire dataset at once is a bad idea\n",
    "We first delve into the issue of below-chance classification we observe when regressing out the confound from the entire dataset at once. We'll demonstrate this issue by some simulations on random (normal) data.\n",
    "\n",
    "Suppose you generate random (normal) data of shape $N\\ (samples) \\times K\\ (features)$  - let's call this $X$ - and a vector with binary values (0 or 1) of shape $N \\times K$ - let's call this $y$. Suppose you then implement a cross-validated analysis, in which you fit a linear model (e.g. a linear SVM) iteratively in a (let's say) 10-fold cross-validation scheme. Now, suppose you simulate this 1000 times. (Note that this is very similar to the permutation statistics people employ to calculate non-parametric p-values for their classification scores.) You expect the distribution of your (e.g.) accuracy scores to be centered around 50%. However, you'll undoubtedly observe some scores below 50%. Can we characterize *why* some random generations lead to below chance classifications while others don't, beyond just saying it's just occuring randomly? Let's try.\n",
    "\n",
    "Remember, linear classifiers are capitalizing on some linear statistical dependence between the features in X and y. This can be (per feature) expressed as the correlation between X and y. When randomly generating data (or, perhaps equivalently, when doing permutation analyses), you will observe a *distribution* of correlations between your features and y. In the following simulations, we'll show you that **relatively narrow distributions of these correlations** (i.e., narrower than you'd expect by chance) **lead to relatively low accuracy scores**. Data corresponding to these relatively narrow distributions are, then, more prone to yield \"oppsing statistical dependencies\" (i.e. flipped signs of correlations) between the train and test-set, resulting in below-chance accuracies. \n",
    "\n",
    "To show this association between (below chance) accuracy and the standard deviation of the distribution of correlations between features and y *in general*, we've written a simple simulation below. We generate random (normal) data for our $X$ matrix and a vector with random (0, 1) values for y for a given `n_sims` simulations. For each simulation, we keep track of accuracy (averaged over `n_folds`), the initial standard deviation of the correlations between $X$ and $y$ (averaged over `k_feat` in X), and the proportion of \"sign-flips\" we observe between the correlation of features and y in the train and test-set. "
   ]
  },
  {
   "cell_type": "code",
   "execution_count": 2,
   "metadata": {},
   "outputs": [],
   "source": [
    "def simulate_and_classify_random_data(n_sims, n_samp, k_feat, n_folds):\n",
    "    \"\"\" Simulate classification of random data.\n",
    "    \n",
    "    Simulate classification of random data, in which X is of\n",
    "    shape (n_samp, k_feat) and consists of values from a random\n",
    "    normal distribution with mean 0 and unit variance.\n",
    "    The target, y, is a vector with binary (values )\n",
    "    \n",
    "    Parameters\n",
    "    ----------\n",
    "    n_sims : int\n",
    "        Number of (iterations of) simulations to run.\n",
    "    n_samp : int\n",
    "        Number of samples (preferably an even number to keep the classes in\n",
    "        y balanced).\n",
    "    k_feat : int\n",
    "        Number of features in X.\n",
    "    n_folds : int\n",
    "        Number of folds in a (Repeated) KFold cross-validation scheme \n",
    "        (in which the number of repetitions is set to 10 for robustness).\n",
    "    \n",
    "    Returns\n",
    "    -------\n",
    "    acc : dict\n",
    "        A dictionary with keys 'accuracy', 'std_corr' (stdev of initial correlation\n",
    "        between features and y), and 'sign_change' (the proportion of features that \n",
    "        change sign of their correlation with y between train and test)\n",
    "    \"\"\"\n",
    "    pipe = Pipeline([\n",
    "        ('scaler', StandardScaler()),\n",
    "        ('svm', SVC(kernel='linear'))\n",
    "    ])\n",
    "\n",
    "    skf = RepeatedStratifiedKFold(n_splits=n_folds, n_repeats=10)\n",
    "\n",
    "    results = {'accuracy': [],\n",
    "               'std_corrs': [],\n",
    "               'prop_sign_changes': [],\n",
    "               'weighted_diff_train_test_corrs': []}\n",
    "\n",
    "    acc = np.zeros((n_sims, n_folds * 10))\n",
    "    for i in range(n_sims):\n",
    "        X = np.random.normal(0, 1, size=(n_samp, k_feat))\n",
    "        y = np.repeat([0, 1], repeats=int(n_samp / 2))\n",
    "        \n",
    "        mean_abs_corr = np.abs(np.corrcoef(np.hstack((X, y[:, np.newaxis])).T))[-1, :-1].mean()\n",
    "        std_corr = np.corrcoef(np.hstack((X, y[:, np.newaxis])).T)[-1, :-1].std()\n",
    "        results['std_corrs'].append(std_corr)\n",
    "        \n",
    "        sign_changes = np.zeros(n_folds * 10)\n",
    "        weighted_diffs = np.zeros(n_folds * 10)\n",
    "        \n",
    "        for ii, (train_idx, test_idx) in enumerate(skf.split(X, y)):\n",
    "\n",
    "            X_train, X_test = X[train_idx], X[test_idx]\n",
    "            y_train, y_test = y[train_idx], y[test_idx]\n",
    "\n",
    "            pipe.fit(X_train, y_train)\n",
    "            acc[i, ii] = pipe.score(X_test, y_test)\n",
    "            \n",
    "            fitted_clf = pipe.get_params(deep=False)['steps'][1][1]\n",
    "            corr_train = np.corrcoef(np.hstack((X_train, y_train[:, np.newaxis])).T)[-1, :-1]\n",
    "            corr_test = np.corrcoef(np.hstack((X_test, y_test[:, np.newaxis])).T)[-1, :-1]\n",
    "            sign_changes[ii] = (np.sign(corr_train) != np.sign(corr_test)).sum() / k_feat\n",
    "            weighted_diffs[ii] = ((corr_train - corr_test) * fitted_clf.coef_).mean()\n",
    "            \n",
    "        results['accuracy'].append(acc[i, :].mean())\n",
    "        results['prop_sign_changes'].append(sign_changes.mean())\n",
    "        results['weighted_diff_train_test_corrs'].append(weighted_diffs.mean())\n",
    "        \n",
    "    return results"
   ]
  },
  {
   "cell_type": "markdown",
   "metadata": {},
   "source": [
    "Below, we simulate 500 datasets with 100 samples and 50 features, which are analyzed with a linear SVM in a 10-fold cross-validation scheme (repeated 10 times for robustness using [RepeatedStratifiedKFold](http://scikit-learn.org/stable/modules/generated/sklearn.model_selection.RepeatedStratifiedKFold.html#sklearn.model_selection.RepeatedStratifiedKFold)). We then plot a scatterplot (and linear fit) between accuracy and standard deviation of correlations (left plot), between accuracy and the proportion of sign-flips we observe (middle plot), and the average (across features) difference in correlation between train-set and test-set, weighted by the coefficient from the fit (as a more sophisticated measure of \"sign flipping\")."
   ]
  },
  {
   "cell_type": "code",
   "execution_count": 3,
   "metadata": {},
   "outputs": [
    {
     "data": {
      "image/png": "[encoded data removed]",
      "text/plain": [
       "<matplotlib.figure.Figure at 0x7fa611db8630>"
      ]
     },
     "metadata": {},
     "output_type": "display_data"
    }
   ],
   "source": [
    "results = simulate_and_classify_random_data(n_sims=500, n_samp=100, k_feat=50, n_folds=10)\n",
    "results_df = pd.DataFrame(results)\n",
    "\n",
    "plt.figure(figsize=(18, 5))\n",
    "\n",
    "plt.subplot(1, 3, 1)\n",
    "plt.title('Accuracy & std correlation')\n",
    "sns.regplot(y='accuracy', x='std_corrs', data=results_df)\n",
    "\n",
    "plt.subplot(1, 3, 2)\n",
    "plt.title('Accuracy & proportion sign changes')\n",
    "sns.regplot(y='accuracy', x='prop_sign_changes', data=results_df)\n",
    "\n",
    "plt.subplot(1, 3, 3)\n",
    "plt.title('Accuracy & (weighted) train and test correlations')\n",
    "sns.regplot(y='accuracy', x='weighted_diff_train_test_corrs', data=results_df)\n",
    "\n",
    "plt.tight_layout()\n",
    "plt.show()"
   ]
  },
  {
   "cell_type": "markdown",
   "metadata": {},
   "source": [
    "As you can see, higher initial correlations lead to above chance accuracy, but importantly (absolute) correlations close(r) to zero lead to below chance classifications (upper left plot). \n",
    "\n",
    "This is fine in this simulation, because we can simulate this many times, across which the mean accuracy is about 50% (y-coordinates of centroid in scatterplots). But you also see that below an average standard deviation of correlation across features between X and y of 0.01, below-chance accuracies tend to occur. "
   ]
  },
  {
   "cell_type": "markdown",
   "metadata": {},
   "source": [
    "### When exactly do you get below-chance accuracy?\n",
    "In the left plot above, you can see that around a standard deviation of 0.1 we get 50% correct (chance-level) and below that standard deviation you get below-chance accuracy. It turns out that this observation makes sense when we relate it the the analytic correlation distribution. The probability density function (PDF; $f(r)$) of any given correlation population parameter $r$ between bivariate normal data of shape $(n)$ is defined as:\n",
    "\n",
    "\\begin{align}\n",
    "f(r) = \\frac{(n - 2)\\mathbf{\\Gamma}(n - 1)(1 - \\rho^2)^{\\frac{n-1}{2}}(1 - r^2)^{\\frac{n-4}{2}}}{\\sqrt{2\\pi}\\mathbf{\\Gamma}(n - \\frac{1}{2})(1 - \\rho r)^{n - \\frac{3}{2}}}\\mathbf{{_2}F_{1}}(\\frac{1}{2}, \\frac{1}{2};\\frac{2n - 1}{2}; \\frac{\\rho r + 1}{2})\n",
    "\\end{align}"
   ]
  },
  {
   "cell_type": "markdown",
   "metadata": {},
   "source": [
    "Now, we implement this pdf as follows:"
   ]
  },
  {
   "cell_type": "code",
   "execution_count": 543,
   "metadata": {},
   "outputs": [
    {
     "data": {
      "image/png": "[encoded data removed]",
      "text/plain": [
       "<matplotlib.figure.Figure at 0x7f9d1eaf9ac8>"
      ]
     },
     "metadata": {},
     "output_type": "display_data"
    }
   ],
   "source": [
    "from scipy.interpolate import interp1d\n",
    "from scipy.special import hyp2f1, beta, gamma, gammaln\n",
    "from statsmodels.distributions.empirical_distribution import ECDF\n",
    "\n",
    "def rpdf(rho, n, rs):\n",
    "    \"\"\" rho = population correlation coefficient. If rho = 0, then this function simplifies to the above function \"\"\"\n",
    "    lnum = np.log(n-2) + gammaln(n-1) + np.log((1-rho**2)**(.5*(n-1))) + np.log((1-rs**2)**(.5*(n-4)))\n",
    "    lden = np.log(np.sqrt(2*np.pi)) + gammaln(n-.5) + np.log((1-rho*rs)**(n-3/2))\n",
    "    fac = lnum - lden\n",
    "    hyp = hyp2f1(.5, .5, (2*n-1)/2, (rho*rs+1)/2)\n",
    "    return np.exp(fac) * hyp\n",
    "\n",
    "rs = np.arange(-1, 1, .001)\n",
    "plt.plot(rpdf(rho=0, n=240, rs=rs))\n",
    "plt.xticks(np.arange(0, 2000, 200), np.round(rs[::200], 1))\n",
    "plt.xlabel(r'$\\rho$')\n",
    "plt.ylabel('Likelihood')\n",
    "plt.show()"
   ]
  },
  {
   "cell_type": "markdown",
   "metadata": {},
   "source": [
    "Now, in order to determine the expected standard deviation of the pdf of a given value for $\\rho$, we can sample from the corresponding inverted CDF (also known as quantile function) by inputting numbers from a uniform distribution. We can then calculte the standard deviation of the output of the inverted CDF to determine the expected standard deviation for that particular value for $\\rho$. \n",
    "\n",
    "Let's first define and plot the inverted CDF:"
   ]
  },
  {
   "cell_type": "code",
   "execution_count": 539,
   "metadata": {},
   "outputs": [
    {
     "data": {
      "image/png": "[encoded data removed]",
      "text/plain": [
       "<matplotlib.figure.Figure at 0x7f9d1f1cc240>"
      ]
     },
     "metadata": {},
     "output_type": "display_data"
    }
   ],
   "source": [
    "xs = np.random.uniform(0, 1, 10000)\n",
    "rs = np.arange(-1, 1, .001)\n",
    "ys = rpdf(0, 100, rs)\n",
    "cdf = ECDF(ys)\n",
    "inverted_edf = interp1d(np.cumsum(ys[ys>0])/np.sum(ys[ys>0]), rs[ys>0], bounds_error=False)\n",
    "\n",
    "x = np.arange(-1, 1, .01)\n",
    "y = inverted_edf(x)\n",
    "plt.plot(x, y)\n",
    "plt.show()"
   ]
  },
  {
   "cell_type": "markdown",
   "metadata": {},
   "source": [
    "Now, let's sample from this inverted CDF with random uniform numbers as inputs:"
   ]
  },
  {
   "cell_type": "code",
   "execution_count": 540,
   "metadata": {},
   "outputs": [
    {
     "data": {
      "image/png": "[encoded data removed]",
      "text/plain": [
       "<matplotlib.figure.Figure at 0x7f9d1e76d630>"
      ]
     },
     "metadata": {},
     "output_type": "display_data"
    }
   ],
   "source": [
    "samples = np.random.uniform(0, 1, 100000)\n",
    "samples_transformed = inverted_edf(samples)\n",
    "\n",
    "plt.hist(samples_transformed)\n",
    "plt.xlabel(\"Observed correlation\")\n",
    "plt.ylabel(\"Frequency\")\n",
    "plt.show()"
   ]
  },
  {
   "cell_type": "markdown",
   "metadata": {},
   "source": [
    "Now, we can approximate the expected standard deviation for a given $\\rho$ (here: $\\rho = 0$) by calculating the standard deviation of the observed samples:"
   ]
  },
  {
   "cell_type": "code",
   "execution_count": 541,
   "metadata": {},
   "outputs": [
    {
     "name": "stdout",
     "output_type": "stream",
     "text": [
      "Standard deviation when rho = 0: 0.101\n"
     ]
    }
   ],
   "source": [
    "std_rho_0 = np.std(samples_transformed)\n",
    "print('Standard deviation when rho = 0: %.3f' % std_rho_0)"
   ]
  },
  {
   "cell_type": "markdown",
   "metadata": {},
   "source": [
    "This seems to check out for our randomly generated (normally distributed) data, which indeed was at chance when the standard deviation was 0.1. Given that the pdf of the correlation distribution depends on $N$ (number of samples), let simulate some new data with another value for $N$, let's say 50."
   ]
  },
  {
   "cell_type": "code",
   "execution_count": 8,
   "metadata": {},
   "outputs": [
    {
     "data": {
      "image/png": "[encoded data removed]",
      "text/plain": [
       "<matplotlib.figure.Figure at 0x7fa611d602b0>"
      ]
     },
     "metadata": {},
     "output_type": "display_data"
    }
   ],
   "source": [
    "results = simulate_and_classify_random_data(n_sims=100, n_samp=50, k_feat=50, n_folds=10)\n",
    "results_df = pd.DataFrame(results)\n",
    "\n",
    "plt.figure(figsize=(18, 5))\n",
    "\n",
    "plt.title('Accuracy & std correlation')\n",
    "sns.regplot(y='std_corrs', x='accuracy', data=results_df)\n",
    "plt.show()"
   ]
  },
  {
   "cell_type": "markdown",
   "metadata": {},
   "source": [
    "Now, let's "
   ]
  },
  {
   "cell_type": "code",
   "execution_count": 9,
   "metadata": {},
   "outputs": [
    {
     "name": "stderr",
     "output_type": "stream",
     "text": [
      "/home/lukas/anaconda3/lib/python3.6/site-packages/ipykernel_launcher.py:2: FutureWarning: `rcond` parameter will change to the default of machine precision times ``max(M, N)`` where M and N are the input matrix dimensions.\n",
      "To use the future default and silence this warning we advise to pass `rcond=None`, to keep using the old, explicitly pass `rcond=-1`.\n",
      "  \n"
     ]
    },
    {
     "data": {
      "text/plain": [
       "0.1419211030349111"
      ]
     },
     "execution_count": 9,
     "metadata": {},
     "output_type": "execute_result"
    }
   ],
   "source": [
    "betas = np.linalg.lstsq(np.hstack((np.ones((len(results_df), 1)), results_df.accuracy[:, np.newaxis])),\n",
    "                        results_df.std_corrs)[0]\n",
    "betas[0] + betas[1] * 0.5"
   ]
  },
  {
   "cell_type": "markdown",
   "metadata": {},
   "source": [
    "Now, let's calculate the expected standard deviation again:"
   ]
  },
  {
   "cell_type": "code",
   "execution_count": 10,
   "metadata": {},
   "outputs": [
    {
     "name": "stdout",
     "output_type": "stream",
     "text": [
      "Standard deviation when rho = 0 (and N = 50): 0.101\n"
     ]
    }
   ],
   "source": [
    "N = 50\n",
    "\n",
    "xs = np.random.uniform(0, 1, 1000)\n",
    "rs = np.arange(-1, 1, .001)\n",
    "ys = rpdf(0, N, rs)\n",
    "cdf = ECDF(ys)\n",
    "inverted_edf = interp1d(np.cumsum(ys[ys>0])/np.sum(ys[ys>0]), rs[ys>0], bounds_error=False)\n",
    "samples = np.random.uniform(0, 1, 100000)\n",
    "samfples_transformed = inverted_edf(samples)\n",
    "\n",
    "std_rho_0_N50 = np.std(samples_transformed)\n",
    "print('Standard deviation when rho = 0 (and N = 50): %.3f' % std_rho_0_N50)"
   ]
  },
  {
   "cell_type": "markdown",
   "metadata": {},
   "source": [
    "Again, this seems to correspond to the standard deviation in the plot above (x-axis) for when accuracy is at chance (0.5, y-axis)! \n",
    "\n",
    "So, in conclusion: below chance accuracy is expected when (in random normal data) the standard deviation of the correlations between your features and the target (y) is lower than you would expect based on the correlation distribution!"
   ]
  },
  {
   "cell_type": "markdown",
   "metadata": {},
   "source": [
    "### Artificially narrowing the correlation distribution leads to below-chance accuracy\n",
    "We think exactly this is happening when you regress out your confound on the entire dataset: you artificially narrow the correlation distribution, which leads to an increase in sign-flips and thus negative bias. If the correlation distribution becomes more narrow than expected by chance, below-chance accuracy will follow.\n",
    "\n",
    "We follow-up on this idea with another simulation. Here, we actively control the standard deviation of the correlations between X and y. We test a range of these correlations and show that lower average absolute correlations yield (relatively) more negative bias (i.e. dip more below chance):"
   ]
  },
  {
   "cell_type": "code",
   "execution_count": 11,
   "metadata": {},
   "outputs": [],
   "source": [
    "def simulate_and_classify_data_constrained(n_sims, n_samp, k_feat, n_folds, \n",
    "                                           std_corr=None, verbose=False):\n",
    "    \"\"\" Simulate classification of random data.\n",
    "    \n",
    "    Simulate classification of random data, in which X is of\n",
    "    shape (n_samp, k_feat) and consists of values from a random\n",
    "    normal distribution with mean 0 and unit variance. The data generation\n",
    "    is constrained by 'mean_corr' (the average absolute correlation between\n",
    "    features and y) or 'std_corr' (the standard deviation of correlations between\n",
    "    features and y). The target, y, is a vector with binary values.\n",
    "    \n",
    "    Parameters\n",
    "    ----------\n",
    "    n_sims : int\n",
    "        Number of (iterations of) simulations to run.\n",
    "    n_samp : int\n",
    "        Number of samples (preferably an even number to keep the classes in\n",
    "        y balanced).\n",
    "    k_feat : int\n",
    "        Number of features in X.\n",
    "    n_folds : int\n",
    "        Number of folds in a (Repeated) KFold cross-validation scheme \n",
    "        (in which the number of repetitions is set to 10 for robustness).\n",
    "    std_corr : float or None\n",
    "        If float, the standard deviation of correlations between features and\n",
    "        y will be constrained by this number (+- 0.001 margin of error).\n",
    "        If None, the number for mean_corr will be used to constrain\n",
    "        data generation. \n",
    "    \n",
    "    Returns\n",
    "    -------\n",
    "    acc : numpy array (of length n_sims)\n",
    "        Array with average scores (across folds) for n_sims.\n",
    "        \n",
    "    Raises\n",
    "    ------\n",
    "    ValueError\n",
    "        If both mean_corr and std_corr are set to None.\n",
    "    \"\"\"\n",
    "     \n",
    "    if verbose:\n",
    "        iterator = tqdm_notebook(range(n_sims), desc='%.3f/%i' % (std_corr, k_feat))\n",
    "    else:\n",
    "        iterator = range(n_sims)\n",
    "\n",
    "    # Pipeline\n",
    "    pipe = Pipeline([('scale', StandardScaler()), \n",
    "                     ('svc', SVC(kernel='linear'))])\n",
    "\n",
    "    acc = np.zeros(n_sims)\n",
    "    for i in iterator:\n",
    "        \n",
    "        break_out = False\n",
    "        \n",
    "        # Generate y first\n",
    "        y = np.repeat([0, 1], repeats=int(n_samp / 2))\n",
    "        \n",
    "        attempt = 0\n",
    "        while True:\n",
    "            X = np.random.normal(0, 1, size=(n_samp, k_feat))\n",
    "            \n",
    "            corrs = np.corrcoef(np.hstack((X, y[:, np.newaxis])).T)[:-1, -1]\n",
    "            this_std = np.std(corrs)\n",
    "            std_found = np.abs(this_std - std_corr) < 0.001\n",
    "            \n",
    "            if std_found:\n",
    "                break\n",
    "                \n",
    "            attempt += 1\n",
    "            \n",
    "            if (attempt + 1) % 10000 == 0:\n",
    "                \n",
    "                # If it's stuck (likely for many features), let's help it a little bit\n",
    "                while True:\n",
    "                \n",
    "                    upper, lower = np.mean(corrs) + np.std(corrs), np.mean(corrs) - np.std(corrs)\n",
    "                    if (this_std - std_corr) < 0:\n",
    "                        # Std must be increased    \n",
    "                        idx = np.logical_and(corrs < upper, corrs > lower)\n",
    "                    else:\n",
    "                        # Std must be decreased\n",
    "                        idx = np.logical_or(corrs > upper, corrs < lower)\n",
    "                    \n",
    "                    new_X = np.random.normal(0, 1, size=(n_samp, idx.sum()))\n",
    "                    X[:, idx] = new_X\n",
    "                    \n",
    "                    corrs = np.corrcoef(np.hstack((X, y[:, np.newaxis])).T)[:-1, -1]\n",
    "                    this_std = np.std(corrs)\n",
    "                    std_found = np.abs(this_std - std_corr) < 0.001\n",
    "                    \n",
    "                    if std_found:\n",
    "                        break_out = True\n",
    "                        break\n",
    "                        \n",
    "            if break_out:\n",
    "                break\n",
    "                \n",
    "        # 10-fold stratified CV\n",
    "        cv = RepeatedStratifiedKFold(n_splits=n_folds, n_repeats=10)\n",
    "\n",
    "        # Cross-validate and predict\n",
    "        scores = cross_val_score(pipe, X, y, cv=cv)\n",
    "        acc[i] = scores.mean()\n",
    "        \n",
    "    return acc"
   ]
  },
  {
   "cell_type": "markdown",
   "metadata": {},
   "source": [
    "We'll call the function from above with different values `std_corr` and, while we're at it, diffferent amounts of features (`k_feat`):"
   ]
  },
  {
   "cell_type": "code",
   "execution_count": 12,
   "metadata": {
    "scrolled": true
   },
   "outputs": [
    {
     "data": {
      "application/vnd.jupyter.widget-view+json": {
       "model_id": "90dc00fd8a62465ebce28138982da97a"
      }
     },
     "metadata": {},
     "output_type": "display_data"
    },
    {
     "name": "stdout",
     "output_type": "stream",
     "text": [
      "\n"
     ]
    },
    {
     "data": {
      "application/vnd.jupyter.widget-view+json": {
       "model_id": "ccde33ac32814dc8a925ade37e75aabe"
      }
     },
     "metadata": {},
     "output_type": "display_data"
    },
    {
     "name": "stdout",
     "output_type": "stream",
     "text": [
      "\n"
     ]
    },
    {
     "data": {
      "application/vnd.jupyter.widget-view+json": {
       "model_id": "92b9dd60a9ad4208ab74fc797fcae13c"
      }
     },
     "metadata": {},
     "output_type": "display_data"
    },
    {
     "name": "stdout",
     "output_type": "stream",
     "text": [
      "\n"
     ]
    },
    {
     "data": {
      "application/vnd.jupyter.widget-view+json": {
       "model_id": "9b7f85469acc487db4d4eb147d7fa942"
      }
     },
     "metadata": {},
     "output_type": "display_data"
    },
    {
     "name": "stdout",
     "output_type": "stream",
     "text": [
      "\n"
     ]
    },
    {
     "data": {
      "application/vnd.jupyter.widget-view+json": {
       "model_id": "649b5b0495a34e6b84127b1bafb47113"
      }
     },
     "metadata": {},
     "output_type": "display_data"
    },
    {
     "name": "stdout",
     "output_type": "stream",
     "text": [
      "\n"
     ]
    },
    {
     "data": {
      "application/vnd.jupyter.widget-view+json": {
       "model_id": "70ad4b6313c346ac8608724cc3038d07"
      }
     },
     "metadata": {},
     "output_type": "display_data"
    },
    {
     "name": "stdout",
     "output_type": "stream",
     "text": [
      "\n"
     ]
    },
    {
     "data": {
      "application/vnd.jupyter.widget-view+json": {
       "model_id": "46d51a5f62774e7eb5f44f9c2500dddd"
      }
     },
     "metadata": {},
     "output_type": "display_data"
    },
    {
     "name": "stdout",
     "output_type": "stream",
     "text": [
      "\n"
     ]
    },
    {
     "name": "stderr",
     "output_type": "stream",
     "text": [
      "[Parallel(n_jobs=1)]: Done   7 out of   7 | elapsed:   11.9s finished\n"
     ]
    },
    {
     "data": {
      "application/vnd.jupyter.widget-view+json": {
       "model_id": "01ac406801b2449888ea731ec2fb1b33"
      }
     },
     "metadata": {},
     "output_type": "display_data"
    },
    {
     "name": "stdout",
     "output_type": "stream",
     "text": [
      "\n"
     ]
    },
    {
     "data": {
      "application/vnd.jupyter.widget-view+json": {
       "model_id": "f044ad8f50f74f3e806445cf00dd9c55"
      }
     },
     "metadata": {},
     "output_type": "display_data"
    },
    {
     "name": "stdout",
     "output_type": "stream",
     "text": [
      "\n"
     ]
    },
    {
     "data": {
      "application/vnd.jupyter.widget-view+json": {
       "model_id": "b8632cdc4c7742acba51a6dfbe8ffe5a"
      }
     },
     "metadata": {},
     "output_type": "display_data"
    },
    {
     "name": "stdout",
     "output_type": "stream",
     "text": [
      "\n"
     ]
    },
    {
     "data": {
      "application/vnd.jupyter.widget-view+json": {
       "model_id": "a018857eabed45c38be36f2a3e902063"
      }
     },
     "metadata": {},
     "output_type": "display_data"
    },
    {
     "name": "stdout",
     "output_type": "stream",
     "text": [
      "\n"
     ]
    },
    {
     "data": {
      "application/vnd.jupyter.widget-view+json": {
       "model_id": "0e14c3898faf461c89419d1910c6c746"
      }
     },
     "metadata": {},
     "output_type": "display_data"
    },
    {
     "name": "stdout",
     "output_type": "stream",
     "text": [
      "\n"
     ]
    },
    {
     "data": {
      "application/vnd.jupyter.widget-view+json": {
       "model_id": "99fe65f4cf9b42b59f5554378e1cc62c"
      }
     },
     "metadata": {},
     "output_type": "display_data"
    },
    {
     "name": "stdout",
     "output_type": "stream",
     "text": [
      "\n"
     ]
    },
    {
     "data": {
      "application/vnd.jupyter.widget-view+json": {
       "model_id": "d0da3e59b7d745108ec9ef64090976ef"
      }
     },
     "metadata": {},
     "output_type": "display_data"
    },
    {
     "name": "stdout",
     "output_type": "stream",
     "text": [
      "\n"
     ]
    },
    {
     "name": "stderr",
     "output_type": "stream",
     "text": [
      "[Parallel(n_jobs=1)]: Done   7 out of   7 | elapsed:   10.0s finished\n"
     ]
    },
    {
     "data": {
      "application/vnd.jupyter.widget-view+json": {
       "model_id": "aae49fa0a15444ddb5f9a18bed1a0e5a"
      }
     },
     "metadata": {},
     "output_type": "display_data"
    },
    {
     "name": "stdout",
     "output_type": "stream",
     "text": [
      "\n"
     ]
    },
    {
     "data": {
      "application/vnd.jupyter.widget-view+json": {
       "model_id": "d7b090b290324b6fb461f3567e74e58e"
      }
     },
     "metadata": {},
     "output_type": "display_data"
    },
    {
     "name": "stdout",
     "output_type": "stream",
     "text": [
      "\n"
     ]
    },
    {
     "data": {
      "application/vnd.jupyter.widget-view+json": {
       "model_id": "5c1414d66a914a03bb3f90229cf1a822"
      }
     },
     "metadata": {},
     "output_type": "display_data"
    },
    {
     "name": "stdout",
     "output_type": "stream",
     "text": [
      "\n"
     ]
    },
    {
     "data": {
      "application/vnd.jupyter.widget-view+json": {
       "model_id": "74a72c9b6b2842a68a78d256b770eab8"
      }
     },
     "metadata": {},
     "output_type": "display_data"
    },
    {
     "name": "stdout",
     "output_type": "stream",
     "text": [
      "\n"
     ]
    },
    {
     "data": {
      "application/vnd.jupyter.widget-view+json": {
       "model_id": "5f7400f9008648d19e0cbbe03d2988d2"
      }
     },
     "metadata": {},
     "output_type": "display_data"
    },
    {
     "name": "stdout",
     "output_type": "stream",
     "text": [
      "\n"
     ]
    },
    {
     "data": {
      "application/vnd.jupyter.widget-view+json": {
       "model_id": "073a8cd5b85e4d2484a5907395f237e1"
      }
     },
     "metadata": {},
     "output_type": "display_data"
    },
    {
     "name": "stdout",
     "output_type": "stream",
     "text": [
      "\n"
     ]
    },
    {
     "data": {
      "application/vnd.jupyter.widget-view+json": {
       "model_id": "ab00fcec6c994ee8b3a4761e794a4cc9"
      }
     },
     "metadata": {},
     "output_type": "display_data"
    },
    {
     "name": "stdout",
     "output_type": "stream",
     "text": [
      "\n"
     ]
    },
    {
     "name": "stderr",
     "output_type": "stream",
     "text": [
      "[Parallel(n_jobs=1)]: Done   7 out of   7 | elapsed:   13.5s finished\n"
     ]
    },
    {
     "data": {
      "application/vnd.jupyter.widget-view+json": {
       "model_id": "df90636e19404db9ba24bdedb7f1b00a"
      }
     },
     "metadata": {},
     "output_type": "display_data"
    },
    {
     "name": "stdout",
     "output_type": "stream",
     "text": [
      "\n"
     ]
    },
    {
     "data": {
      "application/vnd.jupyter.widget-view+json": {
       "model_id": "386e0cca58c343ddb13dfeee015c0c22"
      }
     },
     "metadata": {},
     "output_type": "display_data"
    },
    {
     "name": "stdout",
     "output_type": "stream",
     "text": [
      "\n"
     ]
    },
    {
     "data": {
      "application/vnd.jupyter.widget-view+json": {
       "model_id": "f3a2d5a3becd441a9897806815a932e1"
      }
     },
     "metadata": {},
     "output_type": "display_data"
    },
    {
     "name": "stdout",
     "output_type": "stream",
     "text": [
      "\n"
     ]
    },
    {
     "data": {
      "application/vnd.jupyter.widget-view+json": {
       "model_id": "adefef82fb50400884c1e0cfc8dd3d44"
      }
     },
     "metadata": {},
     "output_type": "display_data"
    },
    {
     "name": "stdout",
     "output_type": "stream",
     "text": [
      "\n"
     ]
    },
    {
     "data": {
      "application/vnd.jupyter.widget-view+json": {
       "model_id": "6e65c1178f464f96bde19405a34240c1"
      }
     },
     "metadata": {},
     "output_type": "display_data"
    },
    {
     "name": "stdout",
     "output_type": "stream",
     "text": [
      "\n"
     ]
    },
    {
     "data": {
      "application/vnd.jupyter.widget-view+json": {
       "model_id": "fbc6861ef40c46f4ba5eec256ad28d4b"
      }
     },
     "metadata": {},
     "output_type": "display_data"
    },
    {
     "name": "stdout",
     "output_type": "stream",
     "text": [
      "\n"
     ]
    },
    {
     "data": {
      "application/vnd.jupyter.widget-view+json": {
       "model_id": "7af6c73376394f9cbaab16cf593fe277"
      }
     },
     "metadata": {},
     "output_type": "display_data"
    },
    {
     "name": "stdout",
     "output_type": "stream",
     "text": [
      "\n"
     ]
    },
    {
     "name": "stderr",
     "output_type": "stream",
     "text": [
      "[Parallel(n_jobs=1)]: Done   7 out of   7 | elapsed:   26.8s finished\n"
     ]
    },
    {
     "data": {
      "application/vnd.jupyter.widget-view+json": {
       "model_id": "2e79e202ce52486282b43fde817575a6"
      }
     },
     "metadata": {},
     "output_type": "display_data"
    },
    {
     "name": "stdout",
     "output_type": "stream",
     "text": [
      "\n"
     ]
    },
    {
     "data": {
      "application/vnd.jupyter.widget-view+json": {
       "model_id": "39c393047031422f9e2b86ad343888fb"
      }
     },
     "metadata": {},
     "output_type": "display_data"
    },
    {
     "name": "stdout",
     "output_type": "stream",
     "text": [
      "\n"
     ]
    },
    {
     "data": {
      "application/vnd.jupyter.widget-view+json": {
       "model_id": "397811d3915d4a7e8c7ff273747ccb48"
      }
     },
     "metadata": {},
     "output_type": "display_data"
    },
    {
     "name": "stdout",
     "output_type": "stream",
     "text": [
      "\n"
     ]
    },
    {
     "data": {
      "application/vnd.jupyter.widget-view+json": {
       "model_id": "91ae9403f89b4e1a92c18c3687f76bdd"
      }
     },
     "metadata": {},
     "output_type": "display_data"
    },
    {
     "name": "stdout",
     "output_type": "stream",
     "text": [
      "\n"
     ]
    },
    {
     "data": {
      "application/vnd.jupyter.widget-view+json": {
       "model_id": "57dc998a78874df5a3b3d3111fcb6c51"
      }
     },
     "metadata": {},
     "output_type": "display_data"
    },
    {
     "name": "stdout",
     "output_type": "stream",
     "text": [
      "\n"
     ]
    },
    {
     "data": {
      "application/vnd.jupyter.widget-view+json": {
       "model_id": "b5aef35f84ab4ae891df51bfad79b9f9"
      }
     },
     "metadata": {},
     "output_type": "display_data"
    },
    {
     "name": "stdout",
     "output_type": "stream",
     "text": [
      "\n"
     ]
    },
    {
     "data": {
      "application/vnd.jupyter.widget-view+json": {
       "model_id": "0d0dce01ef1b4896b326ec0c05284228"
      }
     },
     "metadata": {},
     "output_type": "display_data"
    },
    {
     "name": "stdout",
     "output_type": "stream",
     "text": [
      "\n"
     ]
    },
    {
     "name": "stderr",
     "output_type": "stream",
     "text": [
      "[Parallel(n_jobs=1)]: Done   7 out of   7 | elapsed:   43.1s finished\n"
     ]
    }
   ],
   "source": [
    "std_corrs = [0.3, 0.25, 0.2, 0.15, 0.1, 0.05, 0.01]\n",
    "\n",
    "k_feats = [5, 10, 20, 50, 100]\n",
    "n_sims = 1\n",
    "n_samp = 100\n",
    "n_folds = 10\n",
    "\n",
    "results = dict(std_corr=[], k_feat=[], acc=[])\n",
    "\n",
    "for k_feat in k_feats:\n",
    "    \n",
    "    results['k_feat'].extend([k_feat] * n_sims * len(std_corrs))\n",
    "    results['std_corr'].extend(np.repeat(std_corrs, n_sims))\n",
    "    \n",
    "    accs = jl.Parallel(n_jobs=1, verbose=1)(\n",
    "        jl.delayed(simulate_and_classify_data_constrained)(n_sims, n_samp, k_feat, n_folds, scorr, True)\n",
    "                   for scorr in std_corrs)\n",
    "    results['acc'].extend([a for this_acc in accs for a in this_acc])"
   ]
  },
  {
   "cell_type": "markdown",
   "metadata": {},
   "source": [
    "Plot the results:"
   ]
  },
  {
   "cell_type": "code",
   "execution_count": 13,
   "metadata": {},
   "outputs": [
    {
     "name": "stderr",
     "output_type": "stream",
     "text": [
      "/home/lukas/anaconda3/lib/python3.6/site-packages/seaborn/categorical.py:1468: FutureWarning: remove_na is deprecated and is a private function. Do not use.\n",
      "  stat_data = remove_na(group_data[hue_mask])\n"
     ]
    },
    {
     "data": {
      "image/png": "[encoded data removed]",
      "text/plain": [
       "<matplotlib.figure.Figure at 0x7fa60a65ee80>"
      ]
     },
     "metadata": {},
     "output_type": "display_data"
    }
   ],
   "source": [
    "sns.set(style='whitegrid', context='poster')\n",
    "rc = {\"font.size\":25, \"axes.titlesize\":25, \"axes.labelsize\":25, \n",
    "      \"legend.fontsize\":15, \"xtick.labelsize\": 15,\n",
    "      \"ytick.labelsize\": 15, \"text.usetex\": True}\n",
    "\n",
    "sns.factorplot(data=pd.DataFrame(results), x='std_corr', y='acc', hue='k_feat', size=5, aspect=2)\n",
    "plt.show()"
   ]
  },
  {
   "cell_type": "markdown",
   "metadata": {},
   "source": [
    "As you can clearly see, artificially low standard deviations lead to stronger below-chance classifications."
   ]
  },
  {
   "cell_type": "markdown",
   "metadata": {},
   "source": [
    "### Whole-dataset confound regression leads to artificially low correlations\n",
    "We'll now demonstrate this using a simulation in which we regress \"confounds\" of various strengths (that is, how much they're correlated to y) from the data (X). [some more explanation]"
   ]
  },
  {
   "cell_type": "code",
   "execution_count": 14,
   "metadata": {},
   "outputs": [],
   "source": [
    "def simulate_and_classify_data_with_confound(n_sims, n_samp, k_feat, n_folds, corr_cy, cross_validate=False,\n",
    "                                             verbose=False):\n",
    "    \"\"\" Simulate classification of random data.\n",
    "    \n",
    "    Simulate classification of random data, in which X is of\n",
    "    shape (n_samp, k_feat) and consists of values from a random\n",
    "    normal distribution with mean 0 and unit variance. The data generation\n",
    "    is constrained by 'mean_corr' - the average absolute correlation between\n",
    "    features and y (to show that artificially reducing this mean will lead to\n",
    "    below chance classification). The target, y, is a vector with binary values.\n",
    "    \n",
    "    Parameters\n",
    "    ----------\n",
    "    n_sims : int\n",
    "        Number of (iterations of) simulations to run.\n",
    "    n_samp : int\n",
    "        Number of samples (preferably an even number to keep the classes in\n",
    "        y balanced).\n",
    "    k_feat : int\n",
    "        Number of features in X.\n",
    "    n_folds : int\n",
    "        Number of folds in a (Repeated) KFold cross-validation scheme \n",
    "        (in which the number of repetitions is set to 10 for robustness).\n",
    "    \n",
    "    Returns\n",
    "    -------\n",
    "    acc : numpy array (of length n_sims)\n",
    "        Array with average scores (across folds) for n_sims. \n",
    "    \"\"\"\n",
    "    \n",
    "    \n",
    "    # Pipeline\n",
    "    pipe = Pipeline([('scale', StandardScaler()), \n",
    "                     ('svc', SVC(kernel='linear'))])\n",
    "    \n",
    "    if verbose:\n",
    "        iterator = tqdm_notebook(range(n_sims), desc='%.3f/%i' % (corr_cy, k_feat))\n",
    "    else:\n",
    "        iterator = range(n_sims)\n",
    "    \n",
    "    acc = np.zeros(n_sims)\n",
    "    std_corr = np.zeros(n_sims)\n",
    "    for i in iterator:\n",
    "        \n",
    "        # Generate y first\n",
    "        y = np.repeat([0, 1], repeats=int(n_samp / 2))\n",
    "        \n",
    "        noise_factor = 100\n",
    "        c = y + np.random.randn(n_samp) * noise_factor\n",
    "        corr = pearsonr(c, y)[0]\n",
    "        \n",
    "        while np.abs(corr - corr_cy) > 0.01:\n",
    "            # Decrease noise if the difference is too big\n",
    "            noise_factor -= 0.01\n",
    "            c = y + np.random.randn(n_samp) * noise_factor\n",
    "            corr = pearsonr(c, y)[0]        \n",
    "        \n",
    "        X = np.random.normal(0, 1, size=(n_samp, k_feat))\n",
    "        \n",
    "        cv = RepeatedStratifiedKFold(n_splits=n_folds, n_repeats=10)\n",
    "            \n",
    "        if not cross_validate:\n",
    "            cr = ConfoundRegressor(confound=c, X=X, cross_validate=True)\n",
    "            X = cr.fit_transform(X)\n",
    "            std_corr[i] = np.corrcoef(np.hstack((X, y[:, np.newaxis])).T)[:-1, -1].std()\n",
    "            scores = cross_val_score(pipe, X, y, cv=cv)\n",
    "            acc[i] = scores.mean()\n",
    "        else:\n",
    "            std_corr[i] = np.corrcoef(np.hstack((X, y[:, np.newaxis])).T)[:-1, -1].std()\n",
    "            tmp_scores = np.zeros(n_folds * 10)\n",
    "            for ii, (train_idx, test_idx) in enumerate(cv.split(X, y)):\n",
    "                cr = ConfoundRegressor(confound=c, X=X, cross_validate=True)\n",
    "                pipe2 = deepcopy(pipe.steps)\n",
    "                pipe2.insert(0, ('cr', cr))\n",
    "                pipe2 = Pipeline(pipe2)\n",
    "                pipe2.fit(X[train_idx], y[train_idx])\n",
    "                tmp_scores[ii] = pipe2.score(X[test_idx], y[test_idx])\n",
    "            \n",
    "            acc[i] = tmp_scores.mean()\n",
    "        \n",
    "    return acc, std_corr"
   ]
  },
  {
   "cell_type": "markdown",
   "metadata": {},
   "source": [
    "Let's run it for different correlations(c, y):"
   ]
  },
  {
   "cell_type": "code",
   "execution_count": 15,
   "metadata": {
    "scrolled": true
   },
   "outputs": [
    {
     "name": "stderr",
     "output_type": "stream",
     "text": [
      "[Parallel(n_jobs=6)]: Done   2 out of  11 | elapsed:    1.9s remaining:    8.4s\n",
      "[Parallel(n_jobs=6)]: Done   4 out of  11 | elapsed:    2.4s remaining:    4.2s\n",
      "[Parallel(n_jobs=6)]: Done   6 out of  11 | elapsed:    8.6s remaining:    7.2s\n",
      "[Parallel(n_jobs=6)]: Done   8 out of  11 | elapsed:   10.3s remaining:    3.9s\n",
      "[Parallel(n_jobs=6)]: Done  11 out of  11 | elapsed:   16.3s finished\n",
      "[Parallel(n_jobs=6)]: Done   2 out of  11 | elapsed:    2.2s remaining:    9.9s\n",
      "[Parallel(n_jobs=6)]: Done   4 out of  11 | elapsed:    2.7s remaining:    4.7s\n",
      "[Parallel(n_jobs=6)]: Done   6 out of  11 | elapsed:    8.8s remaining:    7.3s\n",
      "[Parallel(n_jobs=6)]: Done   8 out of  11 | elapsed:   11.1s remaining:    4.2s\n",
      "\n",
      "KeyboardInterrupt\n",
      "\n"
     ]
    }
   ],
   "source": [
    "corrs_cy = np.arange(0, 1.1, 0.1)\n",
    "k_feats = [5, 10, 50, 100, 1000]\n",
    "n_sims = 10\n",
    "n_samp = 100\n",
    "n_folds = 10\n",
    "\n",
    "results = dict(corr_cy=[], k_feat=[], acc=[], std_corr=[])\n",
    "\n",
    "for k_feat in k_feats:\n",
    "    \n",
    "    results['k_feat'].extend([k_feat] * n_sims * len(corrs_cy))\n",
    "    results['corr_cy'].extend(np.repeat(corrs_cy, n_sims))\n",
    "    \n",
    "    res = jl.Parallel(n_jobs=6, verbose=10)(jl.delayed(simulate_and_classify_data_with_confound)(n_sims, n_samp, k_feat, n_folds, corr_cy, cross_validate=False) for corr_cy in corrs_cy)\n",
    "    accs, std_corrs = [r[0] for r in res], [r[1] for r in res]\n",
    "    results['acc'].extend([a for this_acc in accs for a in this_acc])\n",
    "    results['std_corr'].extend([s for this_std_corr in std_corrs for s in this_std_corr])"
   ]
  },
  {
   "cell_type": "markdown",
   "metadata": {},
   "source": [
    "And plot it:"
   ]
  },
  {
   "cell_type": "code",
   "execution_count": null,
   "metadata": {},
   "outputs": [],
   "source": [
    "results_df = pd.DataFrame(results)\n",
    "sns.factorplot(data=results_df, x='corr_cy', y='acc', hue='k_feat', size=5, aspect=2)\n",
    "plt.axhline(0.5, c='black', ls='--')\n",
    "plt.title('Effect of WDCR on null-data')\n",
    "plt.ylabel('Accuracy')\n",
    "plt.xlabel('Correlation confound and target')\n",
    "plt.show()"
   ]
  },
  {
   "cell_type": "code",
   "execution_count": null,
   "metadata": {},
   "outputs": [],
   "source": [
    "sns.factorplot(data=results_df, x='corr_cy', y='std_corr', hue='k_feat', size=5, aspect=2)\n",
    "pearsonr(results_df['std_corr'], results_df['acc'])"
   ]
  },
  {
   "cell_type": "markdown",
   "metadata": {},
   "source": [
    "### Foldwise confound regression solves negative bias\n",
    "If we regress it out foldwise, everything stays nicely at 50%:"
   ]
  },
  {
   "cell_type": "code",
   "execution_count": null,
   "metadata": {},
   "outputs": [],
   "source": [
    "corrs_cy = np.arange(0, 1.1, 0.1)\n",
    "k_feats = [5, 10, 50, 100, 1000]\n",
    "n_sims = 25\n",
    "n_samp = 100\n",
    "n_folds = 10\n",
    "\n",
    "results = dict(corr_cy=[], k_feat=[], acc=[], std_corr=[])\n",
    "\n",
    "for k_feat in k_feats:\n",
    "    \n",
    "    results['k_feat'].extend([k_feat] * n_sims * len(corrs_cy))\n",
    "    results['corr_cy'].extend(np.repeat(corrs_cy, n_sims))\n",
    "    \n",
    "    res = jl.Parallel(n_jobs=6, verbose=10)(jl.delayed(simulate_and_classify_data_with_confound)(n_sims, n_samp, k_feat, n_folds, corr_cy, cross_validate=True) for corr_cy in corrs_cy)\n",
    "    accs, std_corrs = [r[0] for r in res], [r[1] for r in res]\n",
    "    results['acc'].extend([a for this_acc in accs for a in this_acc])\n",
    "    results['std_corr'].extend([s for this_std_corr in std_corrs for s in this_std_corr])"
   ]
  },
  {
   "cell_type": "markdown",
   "metadata": {},
   "source": [
    "And plot it:"
   ]
  },
  {
   "cell_type": "code",
   "execution_count": null,
   "metadata": {},
   "outputs": [],
   "source": [
    "results_df = pd.DataFrame(results)\n",
    "sns.factorplot(data=results_df, x='corr_cy', y='acc', hue='k_feat', size=5, aspect=2)"
   ]
  },
  {
   "cell_type": "markdown",
   "metadata": {},
   "source": [
    "In conclusion, we have shown that below chance classification is due to a more narrow correlation distribution than expected for random normal data (i.e., when $\\rho = 0$). Moreover, we show that whole-dataset confound regression has exactly this effect: it narrows the correlation distribution and, importantly, this can be avoided by performing foldwise (i.e. crossvalidated) confound regression.\n",
    "\n",
    "Now, having established how to remove confounds (i.e., foldwise), part B will investigate how this method (foldwise confound regression) compares to counterbalancing, given a baseline of no correction!"
   ]
  },
  {
   "cell_type": "markdown",
   "metadata": {},
   "source": [
    "## Part B: comparison of confound methods"
   ]
  },
  {
   "cell_type": "markdown",
   "metadata": {},
   "source": [
    "### A note on how we simulate data\n",
    "In this notebook's simulations, we are going to simulate three variables, with $N$ denoting the number of samples, and $K$ denoting the number of features:\n",
    "\n",
    "- **y**: an $N\\times 1$ vector with values {0, 1}\n",
    "- **c**: an $N\\times 1$ vector with values {0, 1} if continuous, else $c \\sim \\mathcal{N}(0,\\,1)$\n",
    "- **X**: an $N\\times K$ matrix, in each each column $j$ is generated as $X_{j} = \\beta_{1} c + \\beta_{2} y + \\epsilon,\\ \\epsilon \\sim \\mathcal{N}(0, 1)$\n",
    "\n",
    "By tweaking the parameters $\\beta c$ and $\\beta y$, we can specifically \"tune\" how much variance of $y$ is explained by the \"true\" (i.e., unconfounded) signal (which we call $signal\\ R^2$) and how much variance of $y$ is explained by the \"confounded signal\" (i.e., signal in $X$ which is confounded by $c$; we call this $confound\\ R^2$). \n",
    "\n",
    "Basically, in our data-generator (function is defined below) we generate data ($X$, $y$, and $c$) with a specified correlation between $y$ and $c$, $\\rho(cy)$, and subsequently calculate the $confound\\ R^2$ and $signal\\ R^2$ terms. We then check whether these terms correspond to the desired values for these terms; if not, we adjust the generative parameters ($\\beta_{1}$ and $\\beta_{2}$) slightly and try the entire process again until we get the terms that we want.\n",
    "\n",
    "Below, we visualized the $confound\\ R^2$ and $signal\\ R^2$ terms in a Venn-diagram. On the right of the diagram, we describe the steps to get these terms."
   ]
  },
  {
   "cell_type": "code",
   "execution_count": 4,
   "metadata": {},
   "outputs": [
    {
     "data": {
      "image/png": "[encoded data removed]",
      "text/plain": [
       "<matplotlib.figure.Figure at 0x7f9d54ef1518>"
      ]
     },
     "metadata": {},
     "output_type": "display_data"
    }
   ],
   "source": [
    "mappings = {'100': 'A', '110': 'D', '010': '',\n",
    "            '101': \"B\\n($signal\\ R^2$)\", '111': 'C\\n($confound\\ R^2$)', '011': 'E',\n",
    "            '001': ''}\n",
    "\n",
    "plt.figure(figsize=(10, 10))\n",
    "v = venn3(subsets=(1, 1, 0.1, 1, 0.3, 0.1, 0.6), set_labels=('y', 'c', 'X'))\n",
    "\n",
    "for key, value in mappings.items():\n",
    "    v.get_label_by_id(key).set_text(value)\n",
    "    v.get_label_by_id(key).set_size(15)\n",
    "    \n",
    "for label in ['A', 'B', 'C']:\n",
    "    v.get_label_by_id(label).set_size(50)\n",
    "    \n",
    "plt.text(0.7, 0.5, \"$A+B+C+D = 1$\", fontsize=25)\n",
    "plt.text(0.7, 0.4, r\"$B+C+D = \\rho(y.Xc)^2$\", fontsize=25)\n",
    "plt.text(0.7, 0.3, \"$A = 1 - (B+C+D)$\", fontsize=25)\n",
    "plt.text(0.7, 0.2, r\"$C+D = \\rho(y.c)^2$\", fontsize=25)\n",
    "plt.text(0.7, 0.1, \"$B = (B+C+D) - (C+D)$\", fontsize=25)\n",
    "plt.text(0.7, 0.0, r\"$C+E = \\rho(X.c)^2$\", fontsize=25)\n",
    "plt.text(0.7, -.1, \"$D = (B+C+D) - (B+C)$\", fontsize=25)\n",
    "plt.text(0.7, -.2, \"$C = 1 - (A+B+D)$\", fontsize=25)\n",
    "plt.show()"
   ]
  },
  {
   "cell_type": "markdown",
   "metadata": {},
   "source": [
    "## Define some functions\n",
    "Below, we define our main data-generation function - `generate_data` - which generates three variables - $X$, $y$, $c$ - corresponding to our predictors, target, and confound, respectively. (But when setting `c=None`, you can also only simulate $X$ and $y$ *without* $c$.)"
   ]
  },
  {
   "cell_type": "code",
   "execution_count": 404,
   "metadata": {},
   "outputs": [],
   "source": [
    "#%%writefile generate_data.py\n",
    "\n",
    "def get_r2(iv, dv, stack_intercept=True):\n",
    "    \"\"\" Regress dv onto iv and return r-squared.\n",
    "    \n",
    "    Parameters\n",
    "    ----------\n",
    "    iv : numpy array\n",
    "        Array of shape N (samples) x K (features)\n",
    "    dv : numpy array\n",
    "        Array of shape N (samples) x 1\n",
    "    stack_intercept : bool\n",
    "        Whether to stack an intercept (vector with ones of length N).\n",
    "    \n",
    "    Returns\n",
    "    -------\n",
    "    r2 : float\n",
    "        R-squared model fit.\n",
    "    \"\"\"\n",
    "    \n",
    "    if iv.ndim == 1:\n",
    "        # Add axis if shape is (N,)\n",
    "        iv = iv[:, np.newaxis]\n",
    "    \n",
    "    if stack_intercept:\n",
    "        iv = np.hstack((np.ones((iv.shape[0], 1)), iv))\n",
    "    \n",
    "    beta = np.linalg.lstsq(iv, dv)[0]\n",
    "    dv_hat = iv.dot(beta).squeeze()\n",
    "    r2 = pearsonr(dv_hat, dv)[0] ** 2\n",
    "    if np.isnan(r2):\n",
    "        r2 = 0\n",
    "    \n",
    "    return r2\n",
    "\n",
    "\n",
    "\n",
    "def generate_data(n_samp, k_feat, c_type, corr_cy, signal_r2, confound_r2=None,\n",
    "                  tolerance=0.01, verbose=False):\n",
    "    \"\"\" Generate data with known (partial) R2 \"structure\".\n",
    "    \n",
    "    Parameters\n",
    "    ----------\n",
    "    n_samp : int\n",
    "        Number of samples (N) in the data (X, y, and c)\n",
    "    k_feat : int\n",
    "        Number of features (K) in the data (X)\n",
    "    c_type : str\n",
    "        Either \"continuous\" or \"categorical\". If categorical,\n",
    "        the data a balanced vector with ones and zeros\n",
    "    corr_cy : float\n",
    "        Number between -1 and 1, specifying the correlation\n",
    "        between the confound (c) and the target (y)\n",
    "    signal_r2 : float\n",
    "        Number between 0 and 1, specifying the explained variance\n",
    "        of y using X, independent of the confound contained in X;\n",
    "        (technically, the semipartial correlation rho(xy.c)\n",
    "    confound_r2 : float or None\n",
    "        Number between 0 and 1 (or None), specifying the shared variance \n",
    "        explained of y of x and c (i.e. the explained variance \n",
    "        of the confound-related information in x). If None,\n",
    "        no confound R2 will be left unspecified (which can be used\n",
    "        to specify a baseline).\n",
    "    tolerance : float\n",
    "        How much an observed statistic (corr_cy, signal_r2, confound_r2) may\n",
    "        deviate from the desired value.\n",
    "    verbose : bool\n",
    "        Whether to print (extra) relevant information\n",
    "    \n",
    "    Returns\n",
    "    -------\n",
    "    X : numpy array\n",
    "        Array of shape N (samples) x K (features) with floating point numbers\n",
    "    y : numpy array\n",
    "        Array of shape N (samples) x 1 with binary numbers {0, 1}\n",
    "    c : numpy array\n",
    "        Array of shape N (samples) x 1 with either binary {0, 1}\n",
    "        or continuous (from normal dist, 0 mean, 1 variance) values,\n",
    "        depending on what you set for the `c_type` argument.\n",
    "    \"\"\"\n",
    "    \n",
    "    if n_samp % 2 != 0:\n",
    "        raise ValueError(\"Please select an even number of samples \"\n",
    "                         \"(Makes things easier.)\")\n",
    "\n",
    "    if confound_r2 is not None:\n",
    "        if np.abs(corr_cy) < np.sqrt(confound_r2):\n",
    "            raise ValueError(\"The desired corr_cy value is less than the square \"\n",
    "                             \"root of the desired confound R-squared ... This is \"\n",
    "                             \"impossible to generate.\")\n",
    "        \n",
    "    # Generate y (balanced, 50% class 0, 50% class 1)\n",
    "    y = np.repeat([0, 1], repeats=n_samp / 2)\n",
    "    \n",
    "    # Generate c (confound), with given correlation corr_cy\n",
    "    if c_type == 'categorical':\n",
    "        # Simply shift (\"roll\") y to create correlation using the \"formula\":\n",
    "        # to-shift = N / 4 * (1 - corr_cy)\n",
    "        to_roll = int((n_samp / 4) * (1 - corr_cy))\n",
    "        c = np.roll(y, to_roll)\n",
    "    elif c_type == 'continuous':\n",
    "        # If c is continuous, just sample y + random noise\n",
    "        noise_factor = 100\n",
    "        c = y + np.random.randn(n_samp) * noise_factor\n",
    "        corr = pearsonr(c, y)[0]\n",
    "        \n",
    "        i = 0\n",
    "        while np.abs(corr - corr_cy) > np.sqrt(tolerance):\n",
    "            # Decrease noise if the difference is too big\n",
    "            noise_factor -= 0.01\n",
    "            c = y + np.random.randn(n_samp) * noise_factor\n",
    "            corr = pearsonr(c, y)[0]\n",
    "            i += 1\n",
    "            \n",
    "            if i > 10000:\n",
    "                # Reset noise factor\n",
    "                noise_factor = 1\n",
    "    else:\n",
    "        raise ValueError(\"For c_type, please select from {'continuous', \"\n",
    "                         \"'categorical'}\")\n",
    "    \n",
    "    # Define X as a matrix of N-samples by K-features\n",
    "    X = np.zeros((n_samp, k_feat))\n",
    "    \n",
    "    # Pre-allocate arrays for average signal_r2 values and confound_r2 values\n",
    "    signal_r2_values = np.zeros(k_feat)\n",
    "    confound_r2_values = np.zeros(k_feat)\n",
    "    \n",
    "    icept = np.ones((n_samp, 1))\n",
    "    \n",
    "    iterator = tqdm_notebook(np.arange(k_feat)) if verbose else np.arange(k_feat)\n",
    "    for i in iterator:\n",
    "        \n",
    "        # Define generative parameters (gen_beta_y = beta-parameter for y in model of X)\n",
    "        # Upon advice of Steven S., 'reset' generative parameters after each generation\n",
    "        gen_beta_y = 1\n",
    "        gen_beta_c = 1\n",
    "        noise_factor = 1\n",
    "        \n",
    "        while True:\n",
    "            \n",
    "            should_continue = False\n",
    "            \n",
    "            # Generate X as a linear combination of y, c, and random noise\n",
    "            this_c = 0 if confound_r2 is None else c\n",
    "            this_X = (gen_beta_y * y + gen_beta_c * this_c + np.random.randn(n_samp) * noise_factor)\n",
    "            this_X = this_X[:, np.newaxis]\n",
    "            \n",
    "            # Fit y = b1X\n",
    "            y_x_r2 = get_r2(iv=this_X, dv=y, stack_intercept=True)  # B + C\n",
    "            \n",
    "            # Increase/decrease noise if difference observed r(yx)**2 is too big/small,\n",
    "            # because if y_x_r2 < (signal_r2 + confound_r2), you won't find proper data anyway\n",
    "            tmp_confound_r2 = 0 if confound_r2 is None else confound_r2\n",
    "            difference_obs_vs_desired = y_x_r2 - (signal_r2 + tmp_confound_r2)\n",
    "            if np.abs(difference_obs_vs_desired) > tolerance:  # should be even more strict\n",
    "                # If correlation too small/big, adjust noise factor and CONTINUE\n",
    "                if difference_obs_vs_desired < 0:\n",
    "                    noise_factor -= 0.01\n",
    "                else:\n",
    "                    noise_factor += 0.01\n",
    "                continue\n",
    "            \n",
    "            if confound_r2 is None:\n",
    "                # We don't care about confound_r2\n",
    "                unique_var_x = y_x_r2\n",
    "            else:\n",
    "                # Fit y = b1X + b2C\n",
    "                y_xc_r2 = get_r2(iv=np.hstack((this_X, c[:, np.newaxis])), dv=y,\n",
    "                             stack_intercept=True)  # B + C + D\n",
    "                resid_y = 1 - y_xc_r2  # A = 1 - (B + C + D)\n",
    "\n",
    "                # Fit y = b1C\n",
    "                y_c_r2 = get_r2(iv=c, dv=y, stack_intercept=True)  # C + D\n",
    "                unique_var_x = y_xc_r2 - y_c_r2  # B\n",
    "            \n",
    "            # Increase/decrease generative param for y if difference \n",
    "            # r(yx.c) is too small/big ...\n",
    "            difference_obs_vs_desired = unique_var_x - signal_r2\n",
    "            if np.abs(difference_obs_vs_desired) > tolerance:\n",
    "                if difference_obs_vs_desired < 0:\n",
    "                    gen_beta_y += 0.01\n",
    "                else:\n",
    "                    gen_beta_y -= 0.01\n",
    "                \n",
    "                if confound_r2 is None:\n",
    "                    continue\n",
    "                else:\n",
    "                    should_continue = True\n",
    "            else:\n",
    "                if confound_r2 is None:\n",
    "                    break\n",
    "                    \n",
    "            unique_var_c = y_xc_r2 - y_x_r2  # D\n",
    "            shared_var_xc = 1 - resid_y - unique_var_x - unique_var_c  # C\n",
    "\n",
    "            # Also check if shared variance of c and x (component C) is appropriate;\n",
    "            # if not, adjust generative parameter and CONTINUE\n",
    "            difference_obs_vs_desired = shared_var_xc - confound_r2\n",
    "            if np.abs(difference_obs_vs_desired) > tolerance:\n",
    "                if difference_obs_vs_desired < 0:\n",
    "                    gen_beta_c += 0.01\n",
    "                else:\n",
    "                    gen_beta_c -= 0.01\n",
    "                should_continue = True\n",
    "            \n",
    "            if should_continue:\n",
    "                continue\n",
    "            else:\n",
    "                break\n",
    "\n",
    "        # If we didn't encounter a \"break\" statement, we must have found\n",
    "        # data with the correct specifications ...\n",
    "        X[:, i] = this_X.squeeze()\n",
    "        signal_r2_values[i] = unique_var_x\n",
    "        if confound_r2 is not None:\n",
    "            confound_r2_values[i] = shared_var_xc\n",
    "        \n",
    "    if verbose:\n",
    "        print(\"Signal r2: %.3f\" % signal_r2_values.mean())\n",
    "        \n",
    "        if confound_r2 is not None:\n",
    "            print(\"Confound r2: %.3f\" % confound_r2_values.mean())\n",
    "        \n",
    "        \n",
    "        plt.figure(figsize=(15, 5))\n",
    "        plt.subplot(1, 3, 1)\n",
    "        plt.imshow(np.corrcoef(X.T), aspect='auto', cmap='RdBu')\n",
    "        plt.title(\"Correlations between features\")\n",
    "        plt.colorbar()\n",
    "        plt.grid('off')\n",
    "        \n",
    "        plt.subplot(1, 3, 2)\n",
    "        plt.title(\"Signal R2 values\")\n",
    "        plt.hist(signal_r2_values, bins='auto')\n",
    "        \n",
    "        plt.subplot(1, 3, 3)\n",
    "        plt.title(\"Confound R2 values\")\n",
    "        plt.hist(confound_r2_values, bins='auto')\n",
    "        plt.tight_layout()\n",
    "        plt.show()\n",
    "    \n",
    "    if confound_r2 is None:\n",
    "        return X, y\n",
    "    else:\n",
    "        return X, y, c"
   ]
  },
  {
   "cell_type": "markdown",
   "metadata": {},
   "source": [
    "Below, we define several functions to quickly run classification analyses using different confound-strategies we're evaluating in this notebook:\n",
    "\n",
    "- **none**: just run a classification analysis (predict $y$ from $X$) without treating the confound ($c$)\n",
    "- **wdcr** (whole-dataset confound regression): regress out $c$ from $X$ on the whole dataset, then run a (cross-validated) classification analysis\n",
    "- **fwcr** (foldwise confound regression): first regress out $c$ from $X$ per fold, then run a classification analysis (predict $y$ from $X$)\n",
    "- **cb** (counterbalance): first subsample $X$ and $y$ until $\\rho(yc) \\approx 0$, then run a classification analysis (predict $y$ from $X$; also, it's made sure that $\\rho(yc) = 0$ also in *each fold*!)"
   ]
  },
  {
   "cell_type": "code",
   "execution_count": 405,
   "metadata": {},
   "outputs": [
    {
     "name": "stdout",
     "output_type": "stream",
     "text": [
      "[0.22005023 0.24223454 0.24903448 0.20744534 0.21790464]\n",
      "[0.10329221 0.00486465 0.05865504 0.04912831 0.01159508]\n",
      "[0.14390861 0.35466354 0.26787845 0.22265775 0.30602499]\n"
     ]
    }
   ],
   "source": [
    "def vectorized_corr(arr, arr_2D):\n",
    "    \"\"\" Computes the correlation between an array and each column\n",
    "    in a 2D array (each column represents a variable) in a vectorized\n",
    "    way. \n",
    "    \n",
    "    Parameters\n",
    "    ----------\n",
    "    arr : numpy array\n",
    "        Array of shape (N,)\n",
    "    arr_2D : numpy array\n",
    "        Array of shape (N, P), with P indicating different variables that\n",
    "        will be correlated with arr\n",
    "        \n",
    "    Returns\n",
    "    -------\n",
    "    corrs : numpy array\n",
    "        Array of shape (P,) with all correlations between arr and columns in arr_2D\n",
    "    \"\"\"\n",
    "    \n",
    "    if arr.ndim == 1:\n",
    "        arr = arr[:, np.newaxis]\n",
    "    \n",
    "    arr_c, arr_2D_c = arr - arr.mean(), arr_2D - arr_2D.mean(axis=0)\n",
    "    r_num = np.sum(arr_c * arr_2D_c, axis=0)    \n",
    "    r_den = np.sqrt(np.sum(arr_c ** 2, axis=0) * np.sum(arr_2D_c ** 2, axis=0))\n",
    "    corrs = r_num / r_den\n",
    "    return corrs\n",
    "\n",
    "\n",
    "def vectorized_partial_corr(arr, c, arr_2D, stack_intercept=True):\n",
    "    \"\"\" Computes the correlation between an array and each column\n",
    "    in a 2D array (each column represents a variable) in a vectorized\n",
    "    way. \n",
    "    \n",
    "    Parameters\n",
    "    ----------\n",
    "    arr : numpy array\n",
    "        Array of shape (N,)\n",
    "    c : numpy array\n",
    "        Array of shape (N,) that should be partialled out of arr_2D and arr\n",
    "    arr_2D : numpy array\n",
    "        Array of shape (N, P), with P indicating different variables that\n",
    "        will be correlated with arr\n",
    "        \n",
    "    Returns\n",
    "    -------\n",
    "    corrs : numpy array\n",
    "        Array of shape (P,) with all correlations between arr and columns in arr_2D\n",
    "    \"\"\"\n",
    "\n",
    "    if arr.ndim == 1:\n",
    "        arr = arr[:, np.newaxis]\n",
    "    \n",
    "    if c.ndim == 1:\n",
    "        # Add axis if shape is (N,)\n",
    "        c = c[:, np.newaxis]\n",
    "    \n",
    "    if stack_intercept:\n",
    "        c = np.hstack((np.ones((c.shape[0], 1)), c))\n",
    "\n",
    "    arr = arr - c.dot(np.linalg.lstsq(c, arr)[0])\n",
    "    arr_2d = arr_2D - c.dot(np.linalg.lstsq(c, arr_2D)[0])\n",
    "    \n",
    "    arr_c, arr_2D_c = arr - arr.mean(), arr_2D - arr_2D.mean(axis=0)\n",
    "    r_num = np.sum(arr_c * arr_2D_c, axis=0)    \n",
    "    r_den = np.sqrt(np.sum(arr_c ** 2, axis=0) * np.sum(arr_2D_c ** 2, axis=0))\n",
    "    corrs = r_num / r_den\n",
    "    return corrs"
   ]
  },
  {
   "cell_type": "code",
   "execution_count": 499,
   "metadata": {},
   "outputs": [],
   "source": [
    "from sklearn.metrics import f1_score\n",
    "from sklearn.preprocessing import OneHotEncoder\n",
    "\n",
    "def run_without_confound_control(X, y, c, pipeline, n_splits, arg_dict):\n",
    "    \"\"\" Run a classification analysis using without controlling for confounds.\n",
    "    \n",
    "    Parameters\n",
    "    ----------\n",
    "    X : numpy array\n",
    "        Array of shape N (samples) x K (features) with floating point numbers\n",
    "    y : numpy array\n",
    "        Array of shape N (samples) x 1 with binary numbers {0, 1}\n",
    "    c : numpy array\n",
    "        Array of shape N (samples) x 1 with either binary {0, 1}\n",
    "        or continuous (from normal dist, 0 mean, 1 variance) values\n",
    "    pipeline : Pipeline-object\n",
    "        A scikit-learn Pipeline-object\n",
    "    n_splits : int\n",
    "        Number of splits to generate in the K-fold routine\n",
    "    arg_dict : dict\n",
    "        Dictionary with arguments used in data generation\n",
    "        (i.e. args fed to generate_data function)\n",
    "        \n",
    "    Returns\n",
    "    -------\n",
    "    results : pandas DataFrame\n",
    "        DataFrame with data parameters (from arg-dict) and fold-wise scores.\n",
    "    \"\"\"\n",
    "    \n",
    "    results = pd.concat([pd.DataFrame(arg_dict, index=[i]) for i in range(n_splits)])\n",
    "    results['method'] = ['none'] * n_splits\n",
    "    \n",
    "    skf = StratifiedKFold(n_splits=n_splits)\n",
    "    results['score'] = cross_val_score(estimator=pipeline, X=X, y=y, cv=skf, scoring='f1_macro')\n",
    "    \n",
    "    return results\n",
    "\n",
    "\n",
    "def run_with_ipw(X, y, c, pipeline, n_splits, arg_dict):\n",
    "    \"\"\" Run a classification analysis using without controlling for confounds.\n",
    "    \n",
    "    Parameters\n",
    "    ----------\n",
    "    X : numpy array\n",
    "        Array of shape N (samples) x K (features) with floating point numbers\n",
    "    y : numpy array\n",
    "        Array of shape N (samples) x 1 with binary numbers {0, 1}\n",
    "    c : numpy array\n",
    "        Array of shape N (samples) x 1 with either binary {0, 1}\n",
    "        or continuous (from normal dist, 0 mean, 1 variance) values\n",
    "    pipeline : Pipeline-object\n",
    "        A scikit-learn Pipeline-object\n",
    "    n_splits : int\n",
    "        Number of splits to generate in the K-fold routine\n",
    "    arg_dict : dict\n",
    "        Dictionary with arguments used in data generation\n",
    "        (i.e. args fed to generate_data function)\n",
    "        \n",
    "    Returns\n",
    "    -------\n",
    "    results : pandas DataFrame\n",
    "        DataFrame with data parameters (from arg-dict) and fold-wise scores.\n",
    "    \"\"\"\n",
    "    \n",
    "    results = pd.concat([pd.DataFrame(arg_dict, index=[i]) for i in range(n_splits)])\n",
    "    results['method'] = ['ipw'] * n_splits\n",
    "    \n",
    "    y_ohe = OneHotEncoder(sparse=False).fit_transform(y[:, np.newaxis])\n",
    "    skf = StratifiedKFold(n_splits=n_splits)\n",
    "    lr = LogisticRegression(class_weight='balanced')\n",
    "    \n",
    "    if c.ndim == 1:\n",
    "        c = c[:, np.newaxis]\n",
    "    \n",
    "    tmp_scores = np.zeros(n_splits)\n",
    "    for i, (train_idx, test_idx) in enumerate(skf.split(X, y)):\n",
    "        lr.fit(c[train_idx], y[train_idx])\n",
    "        probas = lr.predict_proba(c[train_idx])\n",
    "        weights = 1 / (probas * y_ohe[train_idx]).sum(axis=1)\n",
    "        pipeline.fit(X[train_idx], y[train_idx], clf__sample_weight=weights)\n",
    "        preds = pipeline.predict(X[test_idx])\n",
    "        tmp_scores[i] = f1_score(y[test_idx], preds, average='macro')\n",
    "    \n",
    "    results['score'] = tmp_scores\n",
    "    \n",
    "    return results\n",
    "\n",
    "\n",
    "def run_with_counterbalancing(X, y, c, pipeline, n_splits, arg_dict, verbose=False,\n",
    "                              c_type='categorical', metric='corr', threshold=0.05, use_pval=True):\n",
    "    \"\"\" Run a classification analysis using without controlling for confounds.\n",
    "    Parameters\n",
    "    ----------\n",
    "    X : numpy array\n",
    "        Array of shape N (samples) x K (features) with floating point numbers\n",
    "    y : numpy array\n",
    "        Array of shape N (samples) x 1 with binary numbers {0, 1}\n",
    "    c : numpy array\n",
    "        Array of shape N (samples) x 1 with either binary {0, 1}\n",
    "        or continuous (from normal dist, 0 mean, 1 variance) values\n",
    "    pipeline : Pipeline-object\n",
    "        A scikit-learn Pipeline-object\n",
    "    n_splits : int\n",
    "        Number of splits to generate in the K-fold routine\n",
    "    arg_dict : dict\n",
    "        Dictionary with arguments used in data generation\n",
    "        (i.e. args fed to generate_data function)\n",
    "    \n",
    "    Returns\n",
    "    -------\n",
    "    results : pandas DataFrame\n",
    "        DataFrame with data parameters (from arg-dict) and fold-wise scores.\n",
    "    \"\"\"\n",
    "\n",
    "    results = pd.concat([pd.DataFrame(arg_dict, index=[i]) for i in range(n_splits)])\n",
    "    results['method'] = ['cb'] * n_splits\n",
    "\n",
    "    results_corr = pd.concat([pd.DataFrame(arg_dict, index=[i]) for i in range(arg_dict['k_feat']*2)])\n",
    "    results_corr['ki'] = np.tile(np.arange(arg_dict['k_feat']), reps=2)\n",
    "    results_corr['before_after'] = ['before'] * arg_dict['k_feat'] + ['after'] * arg_dict['k_feat']\n",
    "    \n",
    "    #corrs_xc_before = [pearsonr(c, X[:, i])[0] for i in range(X.shape[1])]\n",
    "    #corrs_xy_before = [pearsonr(y, X[:, i])[0] for i in range(X.shape[1])]\n",
    "    corrs_xc_before = vectorized_partial_corr(c, y, X)\n",
    "    corrs_xy_before = vectorized_partial_corr(y, c, X)\n",
    "    \n",
    "    skf = CounterbalancedStratifiedSplit(X, y, c, n_splits=n_splits, c_type=c_type, verbose=verbose)\n",
    "    try:\n",
    "        skf.check_counterbalance_and_subsample()\n",
    "    except ValueError as ve:\n",
    "        results['score'] = np.zeros(n_splits)\n",
    "        corrs_xc_after = np.zeros_like(corrs_xc_before)\n",
    "        corrs_xy_after = np.zeros_like(corrs_xy_before)\n",
    "        results_corr['cx'] = np.concatenate((corrs_xc_before, corrs_xc_after))\n",
    "        results_corr['xy'] = np.concatenate((corrs_xy_before, corrs_xy_after))\n",
    "        return results, results_corr\n",
    "\n",
    "    Xn, yn, cn = X[skf.subsample_idx], y[skf.subsample_idx], c[skf.subsample_idx]    \n",
    "    #corrs_xc_after = np.array([pearsonr(cn, Xn[:, i])[0] for i in range(Xn.shape[1])])\n",
    "    #corrs_xy_after = np.array([pearsonr(yn, Xn[:, i])[0] for i in range(Xn.shape[1])])\n",
    "    corrs_xc_after = vectorized_partial_corr(cn, yn, Xn)\n",
    "    corrs_xy_after = vectorized_partial_corr(yn, cn, Xn)\n",
    "    \n",
    "    results_corr['cx'] = np.concatenate((corrs_xc_before, corrs_xc_after))\n",
    "    results_corr['xy'] = np.concatenate((corrs_xy_before, corrs_xy_after))\n",
    "    results_corr['subsample_perc'] = [(Xn.shape[0] - X.shape[0]) / X.shape[0]] * X.shape[1] * 2\n",
    "    results['score'] = cross_val_score(estimator=pipeline, X=Xn, y=yn, cv=skf, scoring='f1_macro')\n",
    "    return results, results_corr\n",
    "\n",
    "\n",
    "def run_with_wholedataset_confound_regression(X, y, c, pipeline, n_splits, arg_dict):\n",
    "    \"\"\" Run a classification analysis using without controlling for confounds.\n",
    "    \n",
    "    Parameters\n",
    "    ----------\n",
    "    X : numpy array\n",
    "        Array of shape N (samples) x K (features) with floating point numbers\n",
    "    y : numpy array\n",
    "        Array of shape N (samples) x 1 with binary numbers {0, 1}\n",
    "    c : numpy array\n",
    "        Array of shape N (samples) x 1 with either binary {0, 1}\n",
    "        or continuous (from normal dist, 0 mean, 1 variance) values\n",
    "    pipeline : Pipeline-object\n",
    "        A scikit-learn Pipeline-object\n",
    "    n_splits : int\n",
    "        Number of splits to generate in the K-fold routine\n",
    "    arg_dict : dict\n",
    "        Dictionary with arguments used in data generation\n",
    "        (i.e. args fed to generate_data function)\n",
    "        \n",
    "    Returns\n",
    "    -------\n",
    "    results : pandas DataFrame\n",
    "        DataFrame with data parameters (from arg-dict) and fold-wise scores.\n",
    "    \"\"\"\n",
    "    \n",
    "    results = pd.concat([pd.DataFrame(arg_dict, index=[i]) for i in range(n_splits)])\n",
    "    results['method'] = ['wdcr'] * n_splits\n",
    "    \n",
    "    # Regress out c from X\n",
    "    cr = ConfoundRegressor(X=X, confound=c, cross_validate=True)\n",
    "    X_corr = cr.fit_transform(X)\n",
    "    \n",
    "    skf = StratifiedKFold(n_splits=n_splits)\n",
    "    results['score'] = cross_val_score(estimator=pipeline, X=X_corr, y=y, cv=skf, scoring='f1_macro')\n",
    "\n",
    "    return results\n",
    "\n",
    "\n",
    "def run_with_foldwise_confound_regression(X, y, c, pipeline, n_splits, arg_dict):\n",
    "    \"\"\" Run a classification analysis using without controlling for confounds.\n",
    "    \n",
    "    Parameters\n",
    "    ----------\n",
    "    X : numpy array\n",
    "        Array of shape N (samples) x K (features) with floating point numbers\n",
    "    y : numpy array\n",
    "        Array of shape N (samples) x 1 with binary numbers {0, 1}\n",
    "    c : nu1mpy array\n",
    "        Array of shape N (samples) x 1 with either binary {0, 1}\n",
    "        or continuous (from normal dist, 0 mean, 1 variance) values\n",
    "    pipeline : Pipeline-object\n",
    "        A scikit-learn Pipeline-object\n",
    "    n_splits : int\n",
    "        Number of splits to generate in the K-fold routine\n",
    "    arg_dict : dict\n",
    "        Dictionary with arguments used in data generation\n",
    "        (i.e. args fed to generate_data function)\n",
    "\n",
    "    Returns\n",
    "    -------\n",
    "    results : pandas DataFrame\n",
    "        DataFrame with data parameters (from arg-dict) and fold-wise scores.\n",
    "    \"\"\"\n",
    " \n",
    "    results = pd.concat([pd.DataFrame(arg_dict, index=[i]) for i in range(n_splits)])\n",
    "    results['method'] = ['fwcr'] * n_splits\n",
    "\n",
    "    skf = StratifiedKFold(n_splits=n_splits)\n",
    "    scores = np.zeros(n_splits)\n",
    "    \n",
    "    cfr = ConfoundRegressor(X=X, confound=c, cross_validate=True)\n",
    "    this_pipe = deepcopy(pipeline).steps\n",
    "    this_pipe.insert(0, ('regress', cfr))\n",
    "    this_pipe = Pipeline(this_pipe)\n",
    "    results['score'] = cross_val_score(estimator=this_pipe, X=X, y=y, cv=skf, scoring='f1_macro')\n",
    "    \n",
    "    return results"
   ]
  },
  {
   "cell_type": "markdown",
   "metadata": {},
   "source": [
    "### Fixed parameters / settings\n"
   ]
  },
  {
   "cell_type": "code",
   "execution_count": 491,
   "metadata": {},
   "outputs": [],
   "source": [
    "pipeline = Pipeline([\n",
    "\n",
    "    ('scaler', StandardScaler()),\n",
    "    ('clf', SVC(kernel='linear'))\n",
    "])\n",
    "\n",
    "n_splits = 10  # i.e. 10-fold cross-validation"
   ]
  },
  {
   "cell_type": "markdown",
   "metadata": {},
   "source": [
    "## Scenario 1: what happens when we vary *confound $R^2$* and *$\\rho(cy)$*?\n",
    "... or, in other words, what happens when we increase the amount of confounded \"signal\" in X (area *C* in the venn-diagram) and the initial correlation between the confound (c) and the target (y)?\n",
    "\n",
    "We evaluate the following values for the parameter $\\rho(cy)$:\n",
    "- $\\rho(cy) \\in \\{0.25, 0.3, 0.35..., 0.85\\}$\n",
    "\n",
    "We set the range of values (in steps of 0.05) for $confound\\ R^2$ dynamically, because the maximum value for $confound\\ R^2$ depends on the $\\rho(cy)$ parameter. For example, we cannot set $confound\\ R^2 = 0.5$ when $\\rho(cy) = 0.6$, because $\\sqrt{0.5} > 0.6$. Thus:\n",
    "\n",
    "- $confound\\ R^2 \\in \\{0.00, 0.05, ..., \\rho(cy)^2 - (\\rho(cy)^2\\ mod\\ 0.05)\\}$\n",
    "\n",
    "And we'll use the following fixed parameters:\n",
    "- $N = 240$\n",
    "- $K = 5$\n",
    "- $signal\\ R^2=0.1$\n",
    "\n",
    "Importantly, we also track the correlations $\\rho(xy)$ and $\\rho(xc)$ before and after counterbalancing, because there is something weird going on (as we'll explain later)."
   ]
  },
  {
   "cell_type": "markdown",
   "metadata": {},
   "source": [
    "### Confound = categorical\n",
    "Here, the confound is categorical with values {0, 1}"
   ]
  },
  {
   "cell_type": "markdown",
   "metadata": {},
   "source": [
    "Let's plot it! The plot consists of subplots organized in three columns and six rows. Each *row* contains the results from a different $\\rho(cy)$ setting. The first row shows results from data with $\\rho(cy) = 0.4$, the second from data with $\\rho(cy) = 0.5$, etc. \n",
    "\n",
    "In the first column, the mean accuracy across folds is plotted for a range of $confound\\ R^2$ values. Note that the *specific* range of $confound\\ R^2$ values depends on the $\\rho(cy)$ value, viz,. you cannot generate data with $confound\\ R^2 > \\rho(cy)^2$. These mean accuracies across $confound\\ R^2$ values is plotted for the three methods ('none', 'cb', and 'regress') as well as a (dashed orange) line indicating the performance if there would be no $confound\\ R^2$, only $signal\\ R^2$.\n",
    "\n",
    "The second and third rows provide some extra information about what is happening in the counterbalance method. \n",
    "The second column shows $\\rho(xc)$, i.e. the mean correlation between our features (from X) and the confound (c), both **before** subsampling (blue) and **after** subsampling (green). The third column shows $\\rho(xy)$, i.e. the mean correlation between our features (from X) and the target (y), again both **before** and **after** subsampling.\n",
    "\n",
    "Note that if the counterbalancing yields too few samples (i.e. has to undersample so much that it doesn't leave any samples), then score is set to 0 (also for the correlations $\\rho(cx)$ and $\\rho(xy)$)."
   ]
  },
  {
   "cell_type": "code",
   "execution_count": 492,
   "metadata": {},
   "outputs": [
    {
     "data": {
      "text/plain": [
       "array([0.   , 0.025, 0.05 , 0.075, 0.1  , 0.125, 0.15 , 0.175, 0.2  ,\n",
       "       0.225, 0.25 , 0.275, 0.3  , 0.325, 0.35 , 0.375])"
      ]
     },
     "execution_count": 492,
     "metadata": {},
     "output_type": "execute_result"
    }
   ],
   "source": [
    "np.arange(0, 0.65**2 - 0.025, 0.025)"
   ]
  },
  {
   "cell_type": "code",
   "execution_count": null,
   "metadata": {
    "scrolled": true
   },
   "outputs": [
    {
     "name": "stdout",
     "output_type": "stream",
     "text": [
      "Simulation: 1\n",
      "Signal r2: 0.003\n",
      "corr_cy: 0.650, confound_r2: [ 0.000 0.025 0.050 0.075 0.100 0.125 0.150 0.175 0.200 0.225 0.250 0.275 0.300 0.325 0.350 ]\n",
      "Signal r2: 0.100\n",
      "corr_cy: 0.650, confound_r2: [ 0.000 0.025 0.050 0.075 0.100 0.125 0.150 0.175 0.200 0.225 0.250 0.275 0.300 0.325 0.350 ]\n",
      "Simulation: 2\n",
      "Signal r2: 0.003\n",
      "corr_cy: 0.650, confound_r2: [ 0.000 0.025 0.050 0.075 0.100 0.125 0.150 0.175 0.200 0.225 0.250 0.275 0.300 0.325 0.350 ]\n",
      "Signal r2: 0.100\n",
      "corr_cy: 0.650, confound_r2: [ 0.000 0.025 0.050 0.075 0.100 0.125 0.150 0.175 0.200 0.225 0.250 0.275 0.300 0.325 0.350 ]\n",
      "Simulation: 3\n",
      "Signal r2: 0.003\n",
      "corr_cy: 0.650, confound_r2: [ 0.000 0.025 0.050 0.075 0.100 0.125 0.150 0.175 0.200 0.225 0.250 0.275 0.300 0.325 0.350 ]\n",
      "Signal r2: 0.100\n",
      "corr_cy: 0.650, confound_r2: [ 0.000 0.025 0.050 0.075 0.100 0.125 0.150 0.175 0.200 0.225 0.250 0.275 0.300 0.325 0.350 ]\n",
      "Simulation: 4\n",
      "Signal r2: 0.003\n",
      "corr_cy: 0.650, confound_r2: [ 0.000 0.025 0.050 0.075 0.100 0.125 0.150 0.175 0.200 0.225 0.250 0.275 0.300 0.325 0.350 ]\n",
      "Signal r2: 0.100\n",
      "corr_cy: 0.650, confound_r2: [ 0.000 0.025 0.050 0.075 0.100 0.125 0.150 0.175 0.200 0.225 0.250 0.275 0.300 0.325 0.350 ]\n",
      "Simulation: 5\n",
      "Signal r2: 0.003\n",
      "corr_cy: 0.650, confound_r2: [ 0.000 0.025 0.050 0.075 0.100 0.125 0.150 0.175 0.200 0.225 0.250 0.275 0.300 0.325 0.350 ]\n",
      "Signal r2: 0.100\n",
      "corr_cy: 0.650, confound_r2: [ 0.000 0.025 0.050 0.075 0.100 0.125 0.150 0.175 0.200 0.225 0.250 0.275 0.300 0.325 0.350 ]\n",
      "Simulation: 6\n",
      "Signal r2: 0.003\n",
      "corr_cy: 0.650, confound_r2: [ 0.000 0.025 0.050 0.075 0.100 0.125 0.150 0.175 0.200 0.225 0.250 0.275 0.300 0.325 0.350 ]\n",
      "Signal r2: 0.100\n",
      "corr_cy: 0.650, confound_r2: [ 0.000 0.025 0.050 0.075 0.100 0.125 0.150 0.175 0.200 0.225 0.250 0.275 0.300 0.325 0.350 ]\n",
      "Simulation: 7\n",
      "Signal r2: 0.003\n",
      "corr_cy: 0.650, confound_r2: [ 0.000 0.025 0.050 0.075 0.100 0.125 0.150 0.175 0.200 0.225 0.250 0.275 0.300 0.325 0.350 ]\n",
      "Signal r2: 0.100\n",
      "corr_cy: 0.650, confound_r2: [ 0.000 0.025 0.050 0.075 0.100 0.125 0.150 0.175 0.200 0.225 0.250 0.275 0.300 0.325 0.350 ]\n",
      "Simulation: 8\n",
      "Signal r2: 0.003\n",
      "corr_cy: 0.650, confound_r2: [ 0.000 "
     ]
    }
   ],
   "source": [
    "# We do it three times for robustness\n",
    "import warnings\n",
    "from sklearn.exceptions import UndefinedMetricWarning\n",
    "warnings.filterwarnings(\"ignore\", category=UndefinedMetricWarning)\n",
    "warnings.filterwarnings(\"ignore\", category=FutureWarning)\n",
    "\n",
    "simulations = 10\n",
    "\n",
    "# Specify arguments for data generations (we'll set corr_cy and confound_r2 later)\n",
    "data_args = dict(n_samp=240, k_feat=5, c_type='continuous', corr_cy=None,\n",
    "                 signal_r2=0.003, confound_r2=None, verbose=False, tolerance=0.003)\n",
    "\n",
    "# The values for corr_cy to loop over\n",
    "corr_cy_vec = [0.65]#[0.0001, 0.01, 0.05, 0.1, 0.15, 0.20, 0.25, 0.3, 0.35, 0.4, 0.45, 0.5, 0.55, 0.6,\n",
    "              # 0.65, 0.7]\n",
    "\n",
    "# The confound_r2 values to loop over\n",
    "confound_r2_vecs = [np.arange(0, 0.65**2 - 0.05, 0.025)]\n",
    "\n",
    "signal_r2_vec = [0.003, 0.1]#[0.003, 0.05, 0.1, 0.2]\n",
    "\n",
    "# The 'baseline scores' to keep track of (scores on data generated without\n",
    "# any influence of the confound)\n",
    "baseline_scores = np.zeros((simulations, len(signal_r2_vec)))\n",
    "\n",
    "results_sce1 = []\n",
    "results_corr_sce1 = []\n",
    "\n",
    "# Loop over simulations\n",
    "for sim in np.arange(simulations):\n",
    "\n",
    "    print(\"Simulation: %i\" % (sim + 1))\n",
    "    \n",
    "    # Loop over values for corr_cy\n",
    "    for iii, signal_r2 in enumerate(signal_r2_vec):\n",
    "        data_args.update(signal_r2=signal_r2)\n",
    "        data_args.update(confound_r2=None)\n",
    "        data_args.update(corr_cy=0)\n",
    "            \n",
    "        Xbase, ybase = generate_data(**data_args) \n",
    "        baseline_scores[sim, iii] = cross_val_score(pipeline, Xbase, ybase, cv=n_splits).mean()\n",
    "        \n",
    "        print(\"Signal r2: %.3f\" % signal_r2)\n",
    "        for i, corr_cy in enumerate(corr_cy_vec):\n",
    "            data_args.update(corr_cy=corr_cy)\n",
    "            data_args.update(confound_r2=None)\n",
    "            \n",
    "            confound_r2_vec = confound_r2_vecs[i]\n",
    "            print(\"corr_cy: %.3f, confound_r2: [ \" % corr_cy, end='')\n",
    "\n",
    "            # Loop over values for confound_r2\n",
    "            for ii, confound_r2 in enumerate(confound_r2_vec):\n",
    "                print('%.3f' % confound_r2 + ' ', end='')\n",
    "                data_args.update(confound_r2=confound_r2)\n",
    "                X, y, c = generate_data(**data_args)\n",
    "                results_sce1.append(run_without_confound_control(X, y, c, pipeline, n_splits, data_args))\n",
    "                results_sce1.append(run_with_wholedataset_confound_regression(X, y, c, pipeline, n_splits, data_args))\n",
    "                results_sce1.append(run_with_foldwise_confound_regression(X, y, c, pipeline, n_splits, data_args))    \n",
    "                results_sce1.append(run_with_ipw(X, y, c, pipeline, n_splits, data_args))    \n",
    "                \n",
    "                res, corrs = run_with_counterbalancing(X, y, c, pipeline, n_splits, c_type='continuous',\n",
    "                                                       arg_dict=data_args)\n",
    "                results_corr_sce1.append(corrs)\n",
    "                results_sce1.append(res)\n",
    "            print(']')"
   ]
  },
  {
   "cell_type": "code",
   "execution_count": 604,
   "metadata": {},
   "outputs": [],
   "source": [
    "color_baseline = sns.color_palette(\"Set2\", 10)[7]\n",
    "color_cb = sns.color_palette(\"Set2\")[2]\n",
    "color_wdcr = sns.color_palette(\"Set2\")[3]\n",
    "color_fwcr = sns.color_palette(\"Set2\")[4]\n",
    "palette = [color_baseline, color_wdcr, color_fwcr, color_cb]"
   ]
  },
  {
   "cell_type": "code",
   "execution_count": 606,
   "metadata": {},
   "outputs": [
    {
     "ename": "IndexError",
     "evalue": "index 1 is out of bounds for axis 0 with size 1",
     "output_type": "error",
     "traceback": [
      "\u001b[0;31m---------------------------------------------------------------------------\u001b[0m",
      "\u001b[0;31mIndexError\u001b[0m                                Traceback (most recent call last)",
      "\u001b[0;32m<ipython-input-606-70f4b8be9fe8>\u001b[0m in \u001b[0;36m<module>\u001b[0;34m()\u001b[0m\n\u001b[1;32m     18\u001b[0m                   data=this_df, palette=palette, aspect=2, size=5.5, legend=False)\n\u001b[1;32m     19\u001b[0m \u001b[0mg\u001b[0m\u001b[0;34m.\u001b[0m\u001b[0maxes\u001b[0m\u001b[0;34m[\u001b[0m\u001b[0;36m0\u001b[0m\u001b[0;34m]\u001b[0m\u001b[0;34m[\u001b[0m\u001b[0;36m0\u001b[0m\u001b[0;34m]\u001b[0m\u001b[0;34m.\u001b[0m\u001b[0mset_title\u001b[0m\u001b[0;34m(\u001b[0m\u001b[0;34mr\"$Signal\\ R^2: 0.003$\"\u001b[0m\u001b[0;34m)\u001b[0m\u001b[0;34m\u001b[0m\u001b[0m\n\u001b[0;32m---> 20\u001b[0;31m \u001b[0mg\u001b[0m\u001b[0;34m.\u001b[0m\u001b[0maxes\u001b[0m\u001b[0;34m[\u001b[0m\u001b[0;36m0\u001b[0m\u001b[0;34m]\u001b[0m\u001b[0;34m[\u001b[0m\u001b[0;36m1\u001b[0m\u001b[0;34m]\u001b[0m\u001b[0;34m.\u001b[0m\u001b[0mset_title\u001b[0m\u001b[0;34m(\u001b[0m\u001b[0;34mr\"$Signal\\ R^2: 0.1$\"\u001b[0m\u001b[0;34m)\u001b[0m\u001b[0;34m\u001b[0m\u001b[0m\n\u001b[0m\u001b[1;32m     21\u001b[0m \u001b[0;32mfor\u001b[0m \u001b[0mi\u001b[0m \u001b[0;32min\u001b[0m \u001b[0;34m[\u001b[0m\u001b[0;36m0\u001b[0m\u001b[0;34m,\u001b[0m \u001b[0;36m1\u001b[0m\u001b[0;34m]\u001b[0m\u001b[0;34m:\u001b[0m\u001b[0;34m\u001b[0m\u001b[0m\n\u001b[1;32m     22\u001b[0m     \u001b[0mg\u001b[0m\u001b[0;34m.\u001b[0m\u001b[0maxes\u001b[0m\u001b[0;34m[\u001b[0m\u001b[0;36m0\u001b[0m\u001b[0;34m]\u001b[0m\u001b[0;34m[\u001b[0m\u001b[0mi\u001b[0m\u001b[0;34m]\u001b[0m\u001b[0;34m.\u001b[0m\u001b[0maxhline\u001b[0m\u001b[0;34m(\u001b[0m\u001b[0;36m0.5\u001b[0m\u001b[0;34m,\u001b[0m \u001b[0mls\u001b[0m\u001b[0;34m=\u001b[0m\u001b[0;34m'--'\u001b[0m\u001b[0;34m,\u001b[0m \u001b[0mc\u001b[0m\u001b[0;34m=\u001b[0m\u001b[0;34m'black'\u001b[0m\u001b[0;34m,\u001b[0m \u001b[0mlw\u001b[0m\u001b[0;34m=\u001b[0m\u001b[0;36m1\u001b[0m\u001b[0;34m)\u001b[0m\u001b[0;34m\u001b[0m\u001b[0m\n",
      "\u001b[0;31mIndexError\u001b[0m: index 1 is out of bounds for axis 0 with size 1"
     ]
    },
    {
     "data": {
      "image/png": "[encoded data removed]",
      "text/plain": [
       "<matplotlib.figure.Figure at 0x7f9d3fa86668>"
      ]
     },
     "metadata": {},
     "output_type": "display_data"
    }
   ],
   "source": [
    "sns.set(style='dark', context='poster')\n",
    "\n",
    "remap = dict(none='None', wdcr='WDCR', fwcr='FwCR', cb='CB', ipw='IPW')\n",
    "#df_sce1['method'] = [remap[s] for s in df_sce1['method']]\n",
    "#df_sce1['Method'] = df_sce1['method']\n",
    "\n",
    "custom_legend_labels = ['None', 'CB', 'WDCR', 'FwCR', 'Chance level performance', 'Brain size only performance']\n",
    "custom_legend_handles = [plt.Line2D((0, 1), (0, 0), color=color_baseline, marker='o', lw=3),\n",
    "                         plt.Line2D((0, 1), (0, 0), color=color_cb, marker='o', lw=3),\n",
    "                         plt.Line2D((0, 1), (0, 0), color=color_wdcr, marker='o', lw=3),\n",
    "                         plt.Line2D((0, 1), (0, 0), color=color_fwcr, marker='o', lw=3),\n",
    "                         plt.Line2D((0, 1), (0, 0), color='k', ls='--', lw=3),\n",
    "                         plt.Line2D((0, 1), (0, 0), color='orange', ls='--', lw=3)]\n",
    "\n",
    "this_df = df_sce1[df_sce1.method != 'IPW']\n",
    "\n",
    "g = sns.factorplot(x='confound_r2', y='score', hue='Method', col='signal_r2',\n",
    "                  data=this_df, palette=palette, aspect=2, size=5.5, legend=False)\n",
    "g.axes[0][0].set_title(r\"$Signal\\ R^2: 0.003$\")\n",
    "g.axes[0][1].set_title(r\"$Signal\\ R^2: 0.1$\")\n",
    "for i in [0, 1]:\n",
    "    g.axes[0][i].axhline(0.5, ls='--', c='black', lw=1)\n",
    "    g.axes[0][i].axhline(baseline_scores.mean(axis=0)[i], ls='--', c='orange', lw=1)\n",
    "    g.axes[0][i].set_xticklabels(np.round(confound_r2_vec, 3), rotation=35)\n",
    "    g.axes[0][i].set_xlabel(r\"$Confound\\ R^2$\")\n",
    "g.axes[0][0].set_ylabel(\"Accuracy\")\n",
    "g.axes[0][0].legend(custom_legend_handles[:4], custom_legend_labels[:4], loc=2, borderaxespad=0.)\n",
    "g.axes[0][1].legend(custom_legend_handles[4:], custom_legend_labels[4:], loc=3, borderaxespad=0.)\n",
    "g.despine()\n",
    "fig = plt.gcf()\n",
    "fig.tight_layout()"
   ]
  },
  {
   "cell_type": "code",
   "execution_count": null,
   "metadata": {},
   "outputs": [],
   "source": [
    "# We do it three times for robustness\n",
    "import warnings\n",
    "from sklearn.exceptions import UndefinedMetricWarning\n",
    "warnings.filterwarnings(\"ignore\", category=UndefinedMetricWarning)\n",
    "warnings.filterwarnings(\"ignore\", category=FutureWarning)\n",
    "\n",
    "simulations = 10\n",
    "\n",
    "# Specify arguments for data generations (we'll set corr_cy and confound_r2 later)\n",
    "data_args = dict(n_samp=240, k_feat=5, c_type='continuous', corr_cy=None,\n",
    "                 signal_r2=0.003, confound_r2=None, verbose=False, tolerance=0.003)\n",
    "\n",
    "# The values for corr_cy to loop over\n",
    "corr_cy_vec = [0.00]#[0.0001, 0.01, 0.05, 0.1, 0.15, 0.20, 0.25, 0.3, 0.35, 0.4, 0.45, 0.5, 0.55, 0.6,\n",
    "              # 0.65, 0.7]\n",
    "\n",
    "# The confound_r2 values to loop over\n",
    "confound_r2_vecs = [np.arange(0, 0.65**2 - 0.05, 0.025)]\n",
    "\n",
    "signal_r2_vec = [0.003, 0.1]#[0.003, 0.05, 0.1, 0.2]\n",
    "\n",
    "# The 'baseline scores' to keep track of (scores on data generated without\n",
    "# any influence of the confound)\n",
    "baseline_scores = np.zeros((simulations, len(signal_r2_vec)))\n",
    "\n",
    "results_sce1 = []\n",
    "results_corr_sce1 = []\n",
    "\n",
    "# Loop over simulations\n",
    "for sim in np.arange(simulations):\n",
    "\n",
    "    print(\"Simulation: %i\" % (sim + 1))\n",
    "    \n",
    "    # Loop over values for corr_cy\n",
    "    for iii, signal_r2 in enumerate(signal_r2_vec):\n",
    "        data_args.update(signal_r2=signal_r2)\n",
    "        data_args.update(confound_r2=None)\n",
    "        data_args.update(corr_cy=0)\n",
    "            \n",
    "        Xbase, ybase = generate_data(**data_args) \n",
    "        baseline_scores[sim, iii] = cross_val_score(pipeline, Xbase, ybase, cv=n_splits).mean()\n",
    "        \n",
    "        print(\"Signal r2: %.3f\" % signal_r2)\n",
    "        for i, corr_cy in enumerate(corr_cy_vec):\n",
    "            data_args.update(corr_cy=corr_cy)\n",
    "            data_args.update(confound_r2=None)\n",
    "            \n",
    "            confound_r2_vec = confound_r2_vecs[i]\n",
    "            print(\"corr_cy: %.3f, confound_r2: [ \" % corr_cy, end='')\n",
    "\n",
    "            # Loop over values for confound_r2\n",
    "            for ii, confound_r2 in enumerate(confound_r2_vec):\n",
    "                print('%.3f' % confound_r2 + ' ', end='')\n",
    "                data_args.update(confound_r2=confound_r2)\n",
    "                X, y, c = generate_data(**data_args)\n",
    "                results_sce1.append(run_without_confound_control(X, y, c, pipeline, n_splits, data_args))\n",
    "                results_sce1.append(run_with_wholedataset_confound_regression(X, y, c, pipeline, n_splits, data_args))\n",
    "                results_sce1.append(run_with_foldwise_confound_regression(X, y, c, pipeline, n_splits, data_args))    \n",
    "                results_sce1.append(run_with_ipw(X, y, c, pipeline, n_splits, data_args))    \n",
    "                \n",
    "                res, corrs = run_with_counterbalancing(X, y, c, pipeline, n_splits, c_type='continuous',\n",
    "                                                       arg_dict=data_args)\n",
    "                results_corr_sce1.append(corrs)\n",
    "                results_sce1.append(res)\n",
    "            print(']')"
   ]
  },
  {
   "cell_type": "code",
   "execution_count": 466,
   "metadata": {},
   "outputs": [
    {
     "data": {
      "text/plain": [
       "(0.7179153361038493, 0.0025781086745685633)"
      ]
     },
     "execution_count": 466,
     "metadata": {},
     "output_type": "execute_result"
    },
    {
     "data": {
      "image/png": "[encoded data removed]",
      "text/plain": [
       "<matplotlib.figure.Figure at 0x7f9d4c494358>"
      ]
     },
     "metadata": {},
     "output_type": "display_data"
    }
   ],
   "source": [
    "thisdf = df_sce1[df_sce1.signal_r2 == 0.1]\n",
    "a = thisdf[thisdf.method == 'cb'].groupby('confound_r2').mean()['score'] - thisdf[thisdf.method == 'fwcr'].groupby('confound_r2').mean()['score']\n",
    "thisdf = df_corrs_sce1[df_corrs_sce1.signal_r2 == 0.1]\n",
    "b = thisdf[thisdf.before_after == 'before'].groupby('confound_r2').mean()['xy'] - thisdf[thisdf.before_after == 'before'].groupby('confound_r2').mean()['cx']\n",
    "\n",
    "plt.plot((a - a.mean()) / a.std())\n",
    "plt.plot((b - b.mean()) / b.std())\n",
    "plt.legend(['Overclassification (CB - FwCR)', 'partial(Xy) - partial(Xc)'])\n",
    "\n",
    "pearsonr(a - a.mean(), b - b.mean())"
   ]
  },
  {
   "cell_type": "code",
   "execution_count": 465,
   "metadata": {},
   "outputs": [
    {
     "data": {
      "text/plain": [
       "(0.9591824186052603, 1.664299615301721e-08)"
      ]
     },
     "execution_count": 465,
     "metadata": {},
     "output_type": "execute_result"
    },
    {
     "data": {
      "image/png": "[encoded data removed]",
      "text/plain": [
       "<matplotlib.figure.Figure at 0x7f9d360281d0>"
      ]
     },
     "metadata": {},
     "output_type": "display_data"
    }
   ],
   "source": [
    "thisdf = df_corrs_sce1[df_corrs_sce1.signal_r2 == 0.1]\n",
    "a = thisdf[thisdf.before_after == 'before'].groupby('confound_r2').mean()['xy'] - thisdf[thisdf.before_after == 'after'].groupby('confound_r2').mean()['xy']\n",
    "b = thisdf[thisdf.before_after == 'before'].groupby('confound_r2').mean()['xy'] - thisdf[thisdf.before_after == 'before'].groupby('confound_r2').mean()['cx']\n",
    "\n",
    "plt.plot((a - a.mean()) / a.std())\n",
    "plt.plot((b - b.mean()) / b.std())\n",
    "plt.legend(['cor(xy) before - cor(xy) after', 'partial(Xy) - partial(Xc)'])\n",
    "\n",
    "pearsonr(a - a.mean(), b - b.mean())"
   ]
  },
  {
   "cell_type": "code",
   "execution_count": 461,
   "metadata": {},
   "outputs": [
    {
     "name": "stdout",
     "output_type": "stream",
     "text": [
      "Simulation: 1\n",
      "Signal r2: 0.003\n",
      "corr_cy: 0.100, confound_r2: [ 0.000 "
     ]
    },
    {
     "ename": "KeyboardInterrupt",
     "evalue": "",
     "output_type": "error",
     "traceback": [
      "\u001b[0;31m---------------------------------------------------------------------------\u001b[0m",
      "\u001b[0;31mKeyboardInterrupt\u001b[0m                         Traceback (most recent call last)",
      "\u001b[0;32m<ipython-input-461-b25c83c1e3b6>\u001b[0m in \u001b[0;36m<module>\u001b[0;34m()\u001b[0m\n\u001b[1;32m     53\u001b[0m                 \u001b[0mprint\u001b[0m\u001b[0;34m(\u001b[0m\u001b[0;34m'%.3f'\u001b[0m \u001b[0;34m%\u001b[0m \u001b[0mconfound_r2\u001b[0m \u001b[0;34m+\u001b[0m \u001b[0;34m' '\u001b[0m\u001b[0;34m,\u001b[0m \u001b[0mend\u001b[0m\u001b[0;34m=\u001b[0m\u001b[0;34m''\u001b[0m\u001b[0;34m)\u001b[0m\u001b[0;34m\u001b[0m\u001b[0m\n\u001b[1;32m     54\u001b[0m                 \u001b[0mdata_args\u001b[0m\u001b[0;34m.\u001b[0m\u001b[0mupdate\u001b[0m\u001b[0;34m(\u001b[0m\u001b[0mconfound_r2\u001b[0m\u001b[0;34m=\u001b[0m\u001b[0mconfound_r2\u001b[0m\u001b[0;34m)\u001b[0m\u001b[0;34m\u001b[0m\u001b[0m\n\u001b[0;32m---> 55\u001b[0;31m                 \u001b[0mX\u001b[0m\u001b[0;34m,\u001b[0m \u001b[0my\u001b[0m\u001b[0;34m,\u001b[0m \u001b[0mc\u001b[0m \u001b[0;34m=\u001b[0m \u001b[0mgenerate_data\u001b[0m\u001b[0;34m(\u001b[0m\u001b[0;34m**\u001b[0m\u001b[0mdata_args\u001b[0m\u001b[0;34m)\u001b[0m\u001b[0;34m\u001b[0m\u001b[0m\n\u001b[0m\u001b[1;32m     56\u001b[0m                 \u001b[0mresults_sce1\u001b[0m\u001b[0;34m.\u001b[0m\u001b[0mappend\u001b[0m\u001b[0;34m(\u001b[0m\u001b[0mrun_without_confound_control\u001b[0m\u001b[0;34m(\u001b[0m\u001b[0mX\u001b[0m\u001b[0;34m,\u001b[0m \u001b[0my\u001b[0m\u001b[0;34m,\u001b[0m \u001b[0mc\u001b[0m\u001b[0;34m,\u001b[0m \u001b[0mpipeline\u001b[0m\u001b[0;34m,\u001b[0m \u001b[0mn_splits\u001b[0m\u001b[0;34m,\u001b[0m \u001b[0mdata_args\u001b[0m\u001b[0;34m)\u001b[0m\u001b[0;34m)\u001b[0m\u001b[0;34m\u001b[0m\u001b[0m\n\u001b[1;32m     57\u001b[0m                 \u001b[0mresults_sce1\u001b[0m\u001b[0;34m.\u001b[0m\u001b[0mappend\u001b[0m\u001b[0;34m(\u001b[0m\u001b[0mrun_with_wholedataset_confound_regression\u001b[0m\u001b[0;34m(\u001b[0m\u001b[0mX\u001b[0m\u001b[0;34m,\u001b[0m \u001b[0my\u001b[0m\u001b[0;34m,\u001b[0m \u001b[0mc\u001b[0m\u001b[0;34m,\u001b[0m \u001b[0mpipeline\u001b[0m\u001b[0;34m,\u001b[0m \u001b[0mn_splits\u001b[0m\u001b[0;34m,\u001b[0m \u001b[0mdata_args\u001b[0m\u001b[0;34m)\u001b[0m\u001b[0;34m)\u001b[0m\u001b[0;34m\u001b[0m\u001b[0m\n",
      "\u001b[0;32m<ipython-input-404-c332314f0d98>\u001b[0m in \u001b[0;36mgenerate_data\u001b[0;34m(n_samp, k_feat, c_type, corr_cy, signal_r2, confound_r2, tolerance, verbose)\u001b[0m\n\u001b[1;32m    148\u001b[0m \u001b[0;34m\u001b[0m\u001b[0m\n\u001b[1;32m    149\u001b[0m             \u001b[0;31m# Fit y = b1X\u001b[0m\u001b[0;34m\u001b[0m\u001b[0;34m\u001b[0m\u001b[0m\n\u001b[0;32m--> 150\u001b[0;31m             \u001b[0my_x_r2\u001b[0m \u001b[0;34m=\u001b[0m \u001b[0mget_r2\u001b[0m\u001b[0;34m(\u001b[0m\u001b[0miv\u001b[0m\u001b[0;34m=\u001b[0m\u001b[0mthis_X\u001b[0m\u001b[0;34m,\u001b[0m \u001b[0mdv\u001b[0m\u001b[0;34m=\u001b[0m\u001b[0my\u001b[0m\u001b[0;34m,\u001b[0m \u001b[0mstack_intercept\u001b[0m\u001b[0;34m=\u001b[0m\u001b[0;32mTrue\u001b[0m\u001b[0;34m)\u001b[0m  \u001b[0;31m# B + C\u001b[0m\u001b[0;34m\u001b[0m\u001b[0m\n\u001b[0m\u001b[1;32m    151\u001b[0m \u001b[0;34m\u001b[0m\u001b[0m\n\u001b[1;32m    152\u001b[0m             \u001b[0;31m# Increase/decrease noise if difference observed r(yx)**2 is too big/small,\u001b[0m\u001b[0;34m\u001b[0m\u001b[0;34m\u001b[0m\u001b[0m\n",
      "\u001b[0;32m<ipython-input-404-c332314f0d98>\u001b[0m in \u001b[0;36mget_r2\u001b[0;34m(iv, dv, stack_intercept)\u001b[0m\n\u001b[1;32m     26\u001b[0m         \u001b[0miv\u001b[0m \u001b[0;34m=\u001b[0m \u001b[0mnp\u001b[0m\u001b[0;34m.\u001b[0m\u001b[0mhstack\u001b[0m\u001b[0;34m(\u001b[0m\u001b[0;34m(\u001b[0m\u001b[0mnp\u001b[0m\u001b[0;34m.\u001b[0m\u001b[0mones\u001b[0m\u001b[0;34m(\u001b[0m\u001b[0;34m(\u001b[0m\u001b[0miv\u001b[0m\u001b[0;34m.\u001b[0m\u001b[0mshape\u001b[0m\u001b[0;34m[\u001b[0m\u001b[0;36m0\u001b[0m\u001b[0;34m]\u001b[0m\u001b[0;34m,\u001b[0m \u001b[0;36m1\u001b[0m\u001b[0;34m)\u001b[0m\u001b[0;34m)\u001b[0m\u001b[0;34m,\u001b[0m \u001b[0miv\u001b[0m\u001b[0;34m)\u001b[0m\u001b[0;34m)\u001b[0m\u001b[0;34m\u001b[0m\u001b[0m\n\u001b[1;32m     27\u001b[0m \u001b[0;34m\u001b[0m\u001b[0m\n\u001b[0;32m---> 28\u001b[0;31m     \u001b[0mbeta\u001b[0m \u001b[0;34m=\u001b[0m \u001b[0mnp\u001b[0m\u001b[0;34m.\u001b[0m\u001b[0mlinalg\u001b[0m\u001b[0;34m.\u001b[0m\u001b[0mlstsq\u001b[0m\u001b[0;34m(\u001b[0m\u001b[0miv\u001b[0m\u001b[0;34m,\u001b[0m \u001b[0mdv\u001b[0m\u001b[0;34m)\u001b[0m\u001b[0;34m[\u001b[0m\u001b[0;36m0\u001b[0m\u001b[0;34m]\u001b[0m\u001b[0;34m\u001b[0m\u001b[0m\n\u001b[0m\u001b[1;32m     29\u001b[0m     \u001b[0mdv_hat\u001b[0m \u001b[0;34m=\u001b[0m \u001b[0miv\u001b[0m\u001b[0;34m.\u001b[0m\u001b[0mdot\u001b[0m\u001b[0;34m(\u001b[0m\u001b[0mbeta\u001b[0m\u001b[0;34m)\u001b[0m\u001b[0;34m.\u001b[0m\u001b[0msqueeze\u001b[0m\u001b[0;34m(\u001b[0m\u001b[0;34m)\u001b[0m\u001b[0;34m\u001b[0m\u001b[0m\n\u001b[1;32m     30\u001b[0m     \u001b[0mr2\u001b[0m \u001b[0;34m=\u001b[0m \u001b[0mpearsonr\u001b[0m\u001b[0;34m(\u001b[0m\u001b[0mdv_hat\u001b[0m\u001b[0;34m,\u001b[0m \u001b[0mdv\u001b[0m\u001b[0;34m)\u001b[0m\u001b[0;34m[\u001b[0m\u001b[0;36m0\u001b[0m\u001b[0;34m]\u001b[0m \u001b[0;34m**\u001b[0m \u001b[0;36m2\u001b[0m\u001b[0;34m\u001b[0m\u001b[0m\n",
      "\u001b[0;32m/home/lukas/anaconda3/lib/python3.6/site-packages/numpy/linalg/linalg.py\u001b[0m in \u001b[0;36mlstsq\u001b[0;34m(a, b, rcond)\u001b[0m\n\u001b[1;32m   2004\u001b[0m     \u001b[0mbstar\u001b[0m \u001b[0;34m=\u001b[0m \u001b[0mzeros\u001b[0m\u001b[0;34m(\u001b[0m\u001b[0;34m(\u001b[0m\u001b[0mldb\u001b[0m\u001b[0;34m,\u001b[0m \u001b[0mn_rhs\u001b[0m\u001b[0;34m)\u001b[0m\u001b[0;34m,\u001b[0m \u001b[0mt\u001b[0m\u001b[0;34m)\u001b[0m\u001b[0;34m\u001b[0m\u001b[0m\n\u001b[1;32m   2005\u001b[0m     \u001b[0mbstar\u001b[0m\u001b[0;34m[\u001b[0m\u001b[0;34m:\u001b[0m\u001b[0mm\u001b[0m\u001b[0;34m,\u001b[0m \u001b[0;34m:\u001b[0m\u001b[0mn_rhs\u001b[0m\u001b[0;34m]\u001b[0m \u001b[0;34m=\u001b[0m \u001b[0mb\u001b[0m\u001b[0;34m\u001b[0m\u001b[0m\n\u001b[0;32m-> 2006\u001b[0;31m     \u001b[0ma\u001b[0m\u001b[0;34m,\u001b[0m \u001b[0mbstar\u001b[0m \u001b[0;34m=\u001b[0m \u001b[0m_fastCopyAndTranspose\u001b[0m\u001b[0;34m(\u001b[0m\u001b[0mt\u001b[0m\u001b[0;34m,\u001b[0m \u001b[0ma\u001b[0m\u001b[0;34m,\u001b[0m \u001b[0mbstar\u001b[0m\u001b[0;34m)\u001b[0m\u001b[0;34m\u001b[0m\u001b[0m\n\u001b[0m\u001b[1;32m   2007\u001b[0m     \u001b[0ma\u001b[0m\u001b[0;34m,\u001b[0m \u001b[0mbstar\u001b[0m \u001b[0;34m=\u001b[0m \u001b[0m_to_native_byte_order\u001b[0m\u001b[0;34m(\u001b[0m\u001b[0ma\u001b[0m\u001b[0;34m,\u001b[0m \u001b[0mbstar\u001b[0m\u001b[0;34m)\u001b[0m\u001b[0;34m\u001b[0m\u001b[0m\n\u001b[1;32m   2008\u001b[0m     \u001b[0ms\u001b[0m \u001b[0;34m=\u001b[0m \u001b[0mzeros\u001b[0m\u001b[0;34m(\u001b[0m\u001b[0;34m(\u001b[0m\u001b[0mmin\u001b[0m\u001b[0;34m(\u001b[0m\u001b[0mm\u001b[0m\u001b[0;34m,\u001b[0m \u001b[0mn\u001b[0m\u001b[0;34m)\u001b[0m\u001b[0;34m,\u001b[0m\u001b[0;34m)\u001b[0m\u001b[0;34m,\u001b[0m \u001b[0mreal_t\u001b[0m\u001b[0;34m)\u001b[0m\u001b[0;34m\u001b[0m\u001b[0m\n",
      "\u001b[0;32m/home/lukas/anaconda3/lib/python3.6/site-packages/numpy/linalg/linalg.py\u001b[0m in \u001b[0;36m_fastCopyAndTranspose\u001b[0;34m(type, *arrays)\u001b[0m\n\u001b[1;32m    181\u001b[0m     \u001b[0;32mfor\u001b[0m \u001b[0ma\u001b[0m \u001b[0;32min\u001b[0m \u001b[0marrays\u001b[0m\u001b[0;34m:\u001b[0m\u001b[0;34m\u001b[0m\u001b[0m\n\u001b[1;32m    182\u001b[0m         \u001b[0;32mif\u001b[0m \u001b[0ma\u001b[0m\u001b[0;34m.\u001b[0m\u001b[0mdtype\u001b[0m\u001b[0;34m.\u001b[0m\u001b[0mtype\u001b[0m \u001b[0;32mis\u001b[0m \u001b[0mtype\u001b[0m\u001b[0;34m:\u001b[0m\u001b[0;34m\u001b[0m\u001b[0m\n\u001b[0;32m--> 183\u001b[0;31m             \u001b[0mcast_arrays\u001b[0m \u001b[0;34m=\u001b[0m \u001b[0mcast_arrays\u001b[0m \u001b[0;34m+\u001b[0m \u001b[0;34m(\u001b[0m\u001b[0m_fastCT\u001b[0m\u001b[0;34m(\u001b[0m\u001b[0ma\u001b[0m\u001b[0;34m)\u001b[0m\u001b[0;34m,\u001b[0m\u001b[0;34m)\u001b[0m\u001b[0;34m\u001b[0m\u001b[0m\n\u001b[0m\u001b[1;32m    184\u001b[0m         \u001b[0;32melse\u001b[0m\u001b[0;34m:\u001b[0m\u001b[0;34m\u001b[0m\u001b[0m\n\u001b[1;32m    185\u001b[0m             \u001b[0mcast_arrays\u001b[0m \u001b[0;34m=\u001b[0m \u001b[0mcast_arrays\u001b[0m \u001b[0;34m+\u001b[0m \u001b[0;34m(\u001b[0m\u001b[0m_fastCT\u001b[0m\u001b[0;34m(\u001b[0m\u001b[0ma\u001b[0m\u001b[0;34m.\u001b[0m\u001b[0mastype\u001b[0m\u001b[0;34m(\u001b[0m\u001b[0mtype\u001b[0m\u001b[0;34m)\u001b[0m\u001b[0;34m)\u001b[0m\u001b[0;34m,\u001b[0m\u001b[0;34m)\u001b[0m\u001b[0;34m\u001b[0m\u001b[0m\n",
      "\u001b[0;31mKeyboardInterrupt\u001b[0m: "
     ]
    }
   ],
   "source": [
    "# We do it three times for robustness\n",
    "import warnings\n",
    "from sklearn.exceptions import UndefinedMetricWarning\n",
    "warnings.filterwarnings(\"ignore\", category=UndefinedMetricWarning)\n",
    "warnings.filterwarnings(\"ignore\", category=FutureWarning)\n",
    "\n",
    "simulations = 5\n",
    "\n",
    "# Specify arguments for data generations (we'll set corr_cy and confound_r2 later)\n",
    "data_args = dict(n_samp=240, k_feat=5, c_type='continuous', corr_cy=None,\n",
    "                 signal_r2=0.1, confound_r2=None, verbose=False, tolerance=0.003)\n",
    "\n",
    "# The values for corr_cy to loop over\n",
    "corr_cy_vec = [0.1]#[0.0001, 0.01, 0.05, 0.1, 0.15, 0.20, 0.25, 0.3, 0.35, 0.4, 0.45, 0.5, 0.55, 0.6,\n",
    "              # 0.65, 0.7]\n",
    "\n",
    "# The confound_r2 values to loop over\n",
    "confound_r2_vecs = [np.arange(0, corr_cy, 0.025) for corr_cy in corr_cy_vec]\n",
    "\n",
    "signal_r2_vec = [0.003, 0.1]#[0.003, 0.05, 0.1, 0.2]\n",
    "\n",
    "# The 'baseline scores' to keep track of (scores on data generated without\n",
    "# any influence of the confound)\n",
    "baseline_scores = np.zeros((simulations, len(signal_r2_vec)))\n",
    "\n",
    "results_sce1 = []\n",
    "results_corr_sce1 = []\n",
    "\n",
    "# Loop over simulations\n",
    "for sim in np.arange(simulations):\n",
    "\n",
    "    print(\"Simulation: %i\" % (sim + 1))\n",
    "    \n",
    "    # Loop over values for corr_cy\n",
    "    for iii, signal_r2 in enumerate(signal_r2_vec):\n",
    "        data_args.update(signal_r2=signal_r2)\n",
    "        data_args.update(confound_r2=None)\n",
    "        data_args.update(corr_cy=0)\n",
    "            \n",
    "        Xbase, ybase = generate_data(**data_args) \n",
    "        baseline_scores[sim, iii] = cross_val_score(pipeline, Xbase, ybase, cv=n_splits).mean()\n",
    "        \n",
    "        print(\"Signal r2: %.3f\" % signal_r2)\n",
    "        for i, corr_cy in enumerate(corr_cy_vec):\n",
    "            data_args.update(corr_cy=corr_cy)\n",
    "            data_args.update(confound_r2=None)\n",
    "            \n",
    "            confound_r2_vec = confound_r2_vecs[i]\n",
    "            print(\"corr_cy: %.3f, confound_r2: [ \" % corr_cy, end='')\n",
    "\n",
    "            # Loop over values for confound_r2\n",
    "            for ii, confound_r2 in enumerate(confound_r2_vec):\n",
    "                print('%.3f' % confound_r2 + ' ', end='')\n",
    "                data_args.update(confound_r2=confound_r2)\n",
    "                X, y, c = generate_data(**data_args)\n",
    "                results_sce1.append(run_without_confound_control(X, y, c, pipeline, n_splits, data_args))\n",
    "                results_sce1.append(run_with_wholedataset_confound_regression(X, y, c, pipeline, n_splits, data_args))\n",
    "                results_sce1.append(run_with_foldwise_confound_regression(X, y, c, pipeline, n_splits, data_args))    \n",
    "                res, corrs = run_with_counterbalancing(X, y, c, pipeline, n_splits, c_type='continuous',\n",
    "                                                       arg_dict=data_args)\n",
    "                results_corr_sce1.append(corrs)\n",
    "                results_sce1.append(res)\n",
    "            print(']')"
   ]
  },
  {
   "cell_type": "code",
   "execution_count": null,
   "metadata": {},
   "outputs": [],
   "source": [
    "sns.set(font_scale=1.25)\n",
    "df_sce2 = pd.concat(results_sce2)\n",
    "df_corrs_sce2 = pd.concat(results_corr_sce2)\n",
    "fig, axes = plt.subplots(len(corr_cy_vec), 3, figsize=(15, 35), gridspec_kw={'width_ratios': [1.5, 1, 1]},\n",
    "                         sharex=True, sharey=False)\n",
    "\n",
    "for i in range(len(axes)):\n",
    "    tmp = df_sce2[df_sce2.corr_cy == corr_cy_vec[i]]\n",
    "    axes[i][0].set_title(r\"$\\rho(cy) = %.2f$\" % corr_cy_vec[i])\n",
    "    g = sns.pointplot(x='confound_r2', y='score', hue='method',\n",
    "                   data=tmp, size=5, aspect=2,\n",
    "                   palette=\"muted\", ax=axes[i][0])\n",
    "    \n",
    "    if i != 0:\n",
    "        g.legend_.remove()\n",
    "    \n",
    "    if i != len(axes) - 1:\n",
    "        axes[i][0].set_xlabel('')\n",
    "    \n",
    "    g.set_ylim((-0.1, 1.1))\n",
    "    axes[i][0].axhline(y=0.5, c='black', ls='--')\n",
    "    axes[i][0].axhline(y=baseline_scores2[:, i].mean(), c='orange', ls='--')\n",
    "\n",
    "    tmp = df_corrs_sce2[df_corrs_sce2.corr_cy == corr_cy_vec[i]]\n",
    "    axes[i][1].set_title(r'$\\rho(xc)$')\n",
    "    g = sns.barplot(x=\"confound_r2\", y=\"cx\", hue=\"before_after\", data=tmp, ax=axes[i][1])\n",
    "    g.legend_.remove()\n",
    "    axes[i][1].legend(loc='best')\n",
    "    axes[i][2].set_title(r'$\\rho(xy)$')\n",
    "    g.set_ylim((-0.6, 1))\n",
    "    g = sns.barplot(x=\"confound_r2\", y=\"xy\", hue=\"before_after\", data=tmp, ax=axes[i][2])\n",
    "    g.legend_.remove()\n",
    "    g.set_ylim((-0.6, 1))\n",
    "    \n",
    "fig.tight_layout()"
   ]
  },
  {
   "cell_type": "markdown",
   "metadata": {},
   "source": [
    "As you can see, the blue line (confound not controlled for) increases when $confound\\ R^2$ increases, as you would expect. You also see that confound regression (green line) nicely follows the orange dashed line, which indicates the scanario in which confound plays no role. \n",
    "\n",
    "Lastly, we an interesting (disturbing?) thing happening with the counterbalancing method: when $\\rho(cy)$ increases, the counterbalancing method starts to show positive bias, i.e., scores higher than you should see when the confound is adequately dealt with. The third column of graphs shows the reason: subsampling seems to increase the correlation between the features (X) and y (i.e. $signal\\ R^2$ seems to increase)!\n",
    "\n",
    "This is shown below:"
   ]
  },
  {
   "cell_type": "code",
   "execution_count": null,
   "metadata": {},
   "outputs": [],
   "source": [
    "mappings = {'100': 'A', '110': 'D', '010': '',\n",
    "            '101': \"B\\n($signal\\ R^2$)\", '111': 'C\\n($confound\\ R^2$)', '011': 'E',\n",
    "            '001': ''}\n",
    "\n",
    "plt.figure(figsize=(20, 20))\n",
    "plt.subplot(1, 2, 1)\n",
    "v = venn3(subsets=(1, 1, 0.1, 1, 0.3, 0.1, 0.6), set_labels=('y', 'c', 'X'))\n",
    "\n",
    "for key, value in mappings.items():\n",
    "    v.get_label_by_id(key).set_text(value)\n",
    "    v.get_label_by_id(key).set_size(15)\n",
    "    \n",
    "for label in ['A', 'B', 'C']:\n",
    "    v.get_label_by_id(label).set_size(50)\n",
    "\n",
    "plt.subplot(1, 2, 2)    \n",
    "v = venn3(subsets=(1.5, 1.5, 0.0, 1, 1, 1, 0.0), set_labels=('y', 'c', 'X'))\n",
    "\n",
    "for key, value in mappings.items():\n",
    "    if key in ['111', '110']:\n",
    "        continue\n",
    "    v.get_label_by_id(key).set_text(value)\n",
    "    v.get_label_by_id(key).set_size(15)\n",
    "    \n",
    "for label in ['A', 'B', 'C']:\n",
    "    v.get_label_by_id(label).set_size(50)\n",
    "\n",
    "plt.show()"
   ]
  },
  {
   "cell_type": "markdown",
   "metadata": {},
   "source": [
    "So, what must happen is that component **B** (right diagram) must increase with increasing $\\rho(cy)$."
   ]
  },
  {
   "cell_type": "markdown",
   "metadata": {},
   "source": [
    "## Scenario 3: what happens when we vary $\\rho(y.X\\ |\\ c)$?\n",
    "... or, in other words, what happens in we increase the true (unconfounded) signal?"
   ]
  },
  {
   "cell_type": "markdown",
   "metadata": {},
   "source": [
    "### Confound = categorical"
   ]
  },
  {
   "cell_type": "code",
   "execution_count": null,
   "metadata": {},
   "outputs": [],
   "source": [
    "permutations = 1\n",
    "\n",
    "data_args = dict(n_samp=240, k_feat=5, c_type='categorical', corr_cy=0.65,\n",
    "                 signal_r2=None, confound_r2=None, verbose=False)\n",
    "    \n",
    "signal_r2_vec = [0.00, 0.05, 0.1, 0.15, 0.2, 0.25, 0.3]\n",
    "confound_r2_vec = [0.00, 0.05, 0.1, 0.15, 0.2, 0.25, 0.3, 0.35]\n",
    "baseline_scores = np.zeros((permutations, len(signal_r2_vec)))\n",
    "\n",
    "results = []\n",
    "results_corr = []\n",
    "for perm in np.arange(permutations):\n",
    "\n",
    "    print(\"Permutation: %i\" % (perm + 1))\n",
    "\n",
    "    for i, signal_r2 in enumerate(signal_r2_vec):\n",
    "        data_args.update(confound_r2=None)\n",
    "        data_args.update(signal_r2=signal_r2)\n",
    "        base_args = deepcopy(data_args)\n",
    "        Xbase, ybase = generate_data(**base_args) \n",
    "        baseline_scores[perm, i] = cross_val_score(pipeline, Xbase, ybase, cv=n_splits).mean()\n",
    "        \n",
    "        for ii, confound_r2 in enumerate(confound_r2_vec):\n",
    "            data_args.update(confound_r2=confound_r2)\n",
    "            X, y, c = generate_data(**data_args)\n",
    "            results.append(run_without_confound_control(X, y, c, pipeline, n_splits, data_args))\n",
    "            results.append(run_with_confound_regression(X, y, c, pipeline, n_splits, data_args))\n",
    "            res, corrs = run_with_counterbalancing(X, y, c, pipeline, n_splits, data_args, c_type='categorical',\n",
    "                                                   metric='corr', threshold=0.01)\n",
    "            results_corr.append(corrs)\n",
    "            results.append(res)"
   ]
  },
  {
   "cell_type": "code",
   "execution_count": null,
   "metadata": {},
   "outputs": [],
   "source": [
    "sns.set(font_scale=1.25)\n",
    "df = pd.concat(results)\n",
    "df_corrs = pd.concat(results_corr)\n",
    "fig, axes = plt.subplots(len(signal_r2_vec), 3, figsize=(15, 25), gridspec_kw={'width_ratios': [1.5, 1, 1]})\n",
    "\n",
    "for i in range(len(axes)):\n",
    "    tmp = df[df.signal_r2 == signal_r2_vec[i]]\n",
    "    axes[i][0].set_title(\"$Signal R^2 = %.3f$\" % signal_r2_vec[i])\n",
    "    g = sns.pointplot(x='confound_r2', y='score', hue='method',\n",
    "                      data=tmp, size=5, aspect=2,\n",
    "                      palette=\"muted\", ax=axes[i][0])\n",
    "    g.legend_.remove()\n",
    "    \n",
    "    if i != len(axes) - 1:\n",
    "        axes[i][0].set_xlabel('')\n",
    "    \n",
    "    g.set_ylim((-0.1, 1.1))\n",
    "    axes[i][0].axhline(y=0.5, c='black', ls='--')\n",
    "    axes[i][0].axhline(y=baseline_scores[:, i].mean(axis=0), c='orange', ls='--')\n",
    "\n",
    "    tmp = df_corrs[df_corrs.signal_r2 == signal_r2_vec[i]]\n",
    "    axes[i][1].set_title(r'$\\rho(xc)$')\n",
    "    g = sns.barplot(x=\"confound_r2\", y=\"cx\", hue=\"before_after\", data=tmp, ax=axes[i][1])\n",
    "    g.legend_.remove()\n",
    "    axes[i][1].legend(loc='best')\n",
    "    axes[i][2].set_title(r'$\\rho(xy)$')\n",
    "    g = sns.barplot(x=\"confound_r2\", y=\"xy\", hue=\"before_after\", data=tmp, ax=axes[i][2])\n",
    "    g.legend_.remove()\n",
    "\n",
    "fig.tight_layout()"
   ]
  },
  {
   "cell_type": "markdown",
   "metadata": {},
   "source": [
    "Same plot, but x-axis and factor (signal r2) reversed:"
   ]
  },
  {
   "cell_type": "code",
   "execution_count": null,
   "metadata": {},
   "outputs": [],
   "source": [
    "sns.set(font_scale=1.25)\n",
    "df = pd.concat(results)\n",
    "df_corrs = pd.concat(results_corr)\n",
    "fig, axes = plt.subplots(len(confound_r2_vec), 3, figsize=(15, 55), gridspec_kw={'width_ratios': [1.5, 1, 1]})\n",
    "\n",
    "for i in range(len(axes)):\n",
    "    tmp = df[df.confound_r2 == confound_r2_vec[i]]\n",
    "    axes[i][0].set_title(\"$Confound R^2 = %.3f$\" % confound_r2_vec[i])\n",
    "    g = sns.pointplot(x='signal_r2', y='score', hue='method',\n",
    "                      data=tmp, size=5, aspect=2,\n",
    "                      palette=\"muted\", ax=axes[i][0])\n",
    "    g.legend_.remove()\n",
    "      \n",
    "    axes[i][0].plot(np.arange(len(signal_r2_vec)), baseline_scores.mean(axis=0), color='orange', ls='--')\n",
    "    \n",
    "    if i != len(axes) - 1:\n",
    "        axes[i][0].set_xlabel('')\n",
    "    \n",
    "    g.set_ylim((-0.1, 1.1))\n",
    "    axes[i][0].axhline(y=0.5, c='black', ls='--')\n",
    "    # axes[i][0].plot(x=np.arange(6), y=baseline_scores.mean(axis=0), c='orange', ls='--')\n",
    "\n",
    "    tmp = df_corrs[df_corrs.confound_r2 == confound_r2_vec[i]]\n",
    "    axes[i][1].set_title(r'$\\rho(xc)$')\n",
    "    g = sns.barplot(x=\"signal_r2\", y=\"cx\", hue=\"before_after\", data=tmp, ax=axes[i][1])\n",
    "    g.legend_.remove()\n",
    "    axes[i][1].legend(loc='best')\n",
    "    axes[i][2].set_title(r'$\\rho(xy)$')\n",
    "    g = sns.barplot(x=\"signal_r2\", y=\"xy\", hue=\"before_after\", data=tmp, ax=axes[i][2])\n",
    "    g.legend_.remove()\n",
    "\n",
    "fig.tight_layout()"
   ]
  },
  {
   "cell_type": "markdown",
   "metadata": {},
   "source": [
    "### Confound = continuous"
   ]
  },
  {
   "cell_type": "markdown",
   "metadata": {},
   "source": [
    "### An old version of the data generation algorithm\n",
    "Didn't really work."
   ]
  },
  {
   "cell_type": "code",
   "execution_count": null,
   "metadata": {},
   "outputs": [],
   "source": [
    "def generate_data_from_dist(n_samp, k_feat, c_type, corr_cy, signal_r2, confound_r2=None, verbose=False, plot=False):\n",
    "    \"\"\" Similar to above, but draw generative parameters from distribution. \"\"\"\n",
    "    \n",
    "    if n_samp % 2 != 0:\n",
    "        raise ValueError(\"Please select an even number of samples \"\n",
    "                         \"(Makes things easier.)\")\n",
    "\n",
    "    if confound_r2 is not None:\n",
    "        if np.abs(corr_cy) < np.sqrt(confound_r2):\n",
    "            raise ValueError(\"The desired corr_cy value is less than the square \"\n",
    "                             \"root of the desired confound R-squared ... This is \"\n",
    "                             \"impossible to generate.\")\n",
    "        \n",
    "    # Generate y (balanced, 50% class 0, 50% class 1)\n",
    "    y = np.repeat([0, 1], repeats=n_samp / 2)\n",
    "    \n",
    "    # Generate c (confound), with given correlation corr_cy\n",
    "    if c_type == 'categorical':\n",
    "        # Simply shift (\"roll\") y to create correlation using the \"formula\":\n",
    "        # to-shift = N / 4 * (1 - corr_cy)\n",
    "        to_roll = int((n_samp / 4) * (1 - corr_cy))\n",
    "        c = np.roll(y, to_roll)\n",
    "    elif c_type == 'continuous':\n",
    "        # If c is continuous, just sample y + random noise\n",
    "        noise_factor = 100\n",
    "        c = y + np.random.randn(n_samp) * noise_factor\n",
    "        corr = pearsonr(c, y)[0]\n",
    "        \n",
    "        while np.abs(corr - corr_cy) > 0.01:\n",
    "            # Decrease noise if the difference is too big\n",
    "            noise_factor -= 0.01\n",
    "            c = y + np.random.randn(n_samp) * noise_factor\n",
    "            corr = pearsonr(c, y)[0]        \n",
    "    else:\n",
    "        raise ValueError(\"For c_type, please select from {'continuous', \"\n",
    "                         \"'categorical'}\")\n",
    "\n",
    "    noise_factor = 0.1\n",
    "\n",
    "    while True:\n",
    "        \n",
    "        gen_y_mean = np.random.normal(0, 1, size=1)\n",
    "        gen_c_mean = np.random.normal(0, 1, size=1)\n",
    "        gen_y_std = 0.5#np.abs(np.random.normal(0.0, 0.1, size=1))\n",
    "        gen_c_std = 0.5#np.abs(np.random.normal(0.0, 0.1, size=1))\n",
    "        \n",
    "        should_continue = False\n",
    "        gen_beta_y = np.random.normal(gen_y_mean, gen_y_std, size=(n_samp, k_feat))\n",
    "        gen_beta_c = np.random.normal(gen_c_mean, gen_c_std, size=(n_samp, k_feat))\n",
    "\n",
    "        X = (gen_beta_y * y[:, np.newaxis] + \n",
    "             gen_beta_c * c[:, np.newaxis] + \n",
    "             np.random.randn(n_samp, k_feat) * noise_factor)\n",
    "        \n",
    "        y_x_r2 = np.array([get_r2(iv=X[:, i, np.newaxis], dv=y) for i in range(k_feat)])  # B + C\n",
    "        \n",
    "        if confound_r2 is None:\n",
    "            # We don't care about confound_r2\n",
    "            unique_var_x = y_x_r2\n",
    "        else:\n",
    "            # Fit y = b1X + b2C\n",
    "            y_xc_r2 = np.array([get_r2(iv=np.hstack((X[:, i, np.newaxis], c[:, np.newaxis])), dv=y)\n",
    "                                for i in range(k_feat)])  # B + C + D\n",
    "            resid_y = 1 - y_xc_r2  # A = 1 - (B + C + D)\n",
    "\n",
    "            # Fit y = b1C\n",
    "            y_c_r2 = get_r2(iv=c, dv=y)  # C + D\n",
    "            unique_var_x = y_xc_r2 - y_c_r2  # B\n",
    "\n",
    "        # Increase/decrease generative param for y if difference \n",
    "        # r(yx.c) is too small/big ...\n",
    "        difference_obs_vs_desired = unique_var_x.mean() - signal_r2\n",
    "        if np.abs(difference_obs_vs_desired) > 0.01:\n",
    "            if difference_obs_vs_desired < 0:\n",
    "                gen_y_mean += 0.01\n",
    "            else:\n",
    "                gen_y_mean -= 0.01\n",
    "\n",
    "            if confound_r2 is None:\n",
    "                continue\n",
    "            else:\n",
    "                should_continue = True\n",
    "        else:\n",
    "            if confound_r2 is None:\n",
    "                break\n",
    "  \n",
    "        unique_var_c = y_xc_r2 - y_x_r2  # D\n",
    "        shared_var_xc = 1 - resid_y - unique_var_x - unique_var_c  # C\n",
    "\n",
    "        # Also check if shared variance of c and x (component C) is appropriate;\n",
    "        # if not, adjust generative parameter and CONTINUE\n",
    "        difference_obs_vs_desired = shared_var_xc.mean() - confound_r2\n",
    "        if np.abs(difference_obs_vs_desired) > 0.01:\n",
    "            if difference_obs_vs_desired < 0:\n",
    "                gen_c_mean += 0.05\n",
    "            else:\n",
    "                gen_c_mean -= 0.05\n",
    "            should_continue = True\n",
    "\n",
    "        if should_continue:\n",
    "            \n",
    "            if verbose:\n",
    "                print(\"Total r2: %.3f\" % y_x_r2.mean())\n",
    "                print(\"Confound r2: %.3f\" % shared_var_xc.mean())\n",
    "                print(\"Signal r2: %.3f\" % unique_var_x.mean())\n",
    "                print(\"gen_y_mean: %.2f\" % gen_y_mean)\n",
    "                print(\"gen_c_mean: %.2f\" % gen_c_mean, end='\\n\\n')\n",
    "            continue\n",
    "\n",
    "        # If we didn't encounter a \"break\" statement, we must have found\n",
    "        # data with the correct specifications ...\n",
    "        signal_r2_values = unique_var_x\n",
    "        if confound_r2 is not None:\n",
    "            confound_r2_values = shared_var_xc\n",
    "        break\n",
    "\n",
    "    if verbose:\n",
    "        print(\"Signal r2: %.3f\" % signal_r2_values.mean())\n",
    "        \n",
    "        if confound_r2 is not None:\n",
    "            print(\"Confound r2: %.3f\" % confound_r2_values.mean())\n",
    "        \n",
    "        print(\"Final gen_y_mean: %.3f\" % gen_y_mean)\n",
    "        print(\"Final gen_c_mean: %.3f\" % gen_c_mean)\n",
    "    \n",
    "    if plot:\n",
    "        kinds = ['signal_r2'] * k_feat + ['confound_r2'] * k_feat\n",
    "        df = dict(corrs=np.hstack((signal_r2_values, confound_r2_values)), kind=kinds)\n",
    "        g = sns.FacetGrid(pd.DataFrame(df), col=\"kind\", margin_titles=True)\n",
    "        g.map(plt.hist, \"corrs\", color=\"steelblue\")\n",
    "        \n",
    "    if confound_r2 is None:\n",
    "        return X, y\n",
    "    else:\n",
    "        return X, y, c"
   ]
  }
 ],
 "metadata": {
  "kernelspec": {
   "display_name": "Python 3",
   "language": "python",
   "name": "python3"
  },
  "language_info": {
   "codemirror_mode": {
    "name": "ipython",
    "version": 3
   },
   "file_extension": ".py",
   "mimetype": "text/x-python",
   "name": "python",
   "nbconvert_exporter": "python",
   "pygments_lexer": "ipython3",
   "version": "3.6.1"
  }
 },
 "nbformat": 4,
 "nbformat_minor": 2
}
