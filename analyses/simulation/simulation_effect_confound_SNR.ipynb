{
 "cells": [
  {
   "cell_type": "code",
   "execution_count": 50,
   "metadata": {},
   "outputs": [],
   "source": [
    "import numpy as np\n",
    "from sklearn.preprocessing import StandardScaler\n",
    "from sklearn.pipeline import Pipeline\n",
    "from sklearn.svm import SVC\n",
    "from sklearn.model_selection import StratifiedKFold\n",
    "import seaborn as sns\n",
    "import pandas as pd\n",
    "from scipy.stats import ttest_ind, pearsonr\n",
    "import statsmodels.api as sm\n",
    "import matplotlib.pyplot as plt\n",
    "%matplotlib inline"
   ]
  },
  {
   "cell_type": "code",
   "execution_count": 80,
   "metadata": {},
   "outputs": [
    {
     "name": "stdout",
     "output_type": "stream",
     "text": [
      "(-0.59999999999999998, 4.1202159309776657e-06)\n"
     ]
    }
   ],
   "source": [
    "X = np.random.randn(50, 5)\n",
    "y = np.repeat([0, 1], repeats=X.shape[0]/2)\n",
    "X[y == 1] += 0.5\n",
    "c = np.roll(y, 20)\n",
    "X[c == 1] += 0.5\n",
    "print(pearsonr(c, y))"
   ]
  },
  {
   "cell_type": "code",
   "execution_count": 81,
   "metadata": {},
   "outputs": [
    {
     "name": "stdout",
     "output_type": "stream",
     "text": [
      "[ 0.92523859  0.23257924  0.04401089]\n",
      "[ 0.1411764   0.96097113  0.51815233]\n",
      "[ 0.58194605  0.01980688  0.01009266]\n",
      "[ 0.37343209  0.48200282  0.38436122]\n",
      "[ 0.16177135  0.84086278  0.43929472]\n"
     ]
    }
   ],
   "source": [
    "# univar\n",
    "for i in range(X.shape[1]):\n",
    "    pred = sm.add_constant(y)\n",
    "    pred = np.hstack((pred, c[:, np.newaxis]))\n",
    "    this_data = X[:, i]\n",
    "    model = sm.OLS(this_data, pred)\n",
    "    results = model.fit()\n",
    "    print(results.pvalues)"
   ]
  },
  {
   "cell_type": "code",
   "execution_count": 39,
   "metadata": {},
   "outputs": [],
   "source": [
    "def do_classification(X, y, pipeline, n_splits, permute=False):\n",
    "    \n",
    "    skf = StratifiedKFold(n_splits=10)\n",
    "    scores = np.zeros(10)\n",
    "    for i, (train_idx, test_idx) in enumerate(skf.split(X, y)):\n",
    "        \n",
    "        X_train, y_train = X[train_idx], y[train_idx]\n",
    "        X_test, y_test = X[test_idx], y[test_idx]\n",
    "        \n",
    "        if permute:\n",
    "            np.random.shuffle(y_train)\n",
    "        \n",
    "        pipeline.fit(X_train, y_train)\n",
    "        scores[i] = pipeline.score(X_test, y_test)\n",
    "    return scores"
   ]
  },
  {
   "cell_type": "code",
   "execution_count": 40,
   "metadata": {},
   "outputs": [
    {
     "name": "stdout",
     "output_type": "stream",
     "text": [
      "0.616666666667\n"
     ]
    }
   ],
   "source": [
    "pipe = Pipeline([\n",
    "    ('scaler', StandardScaler()),\n",
    "    ('svm', SVC(kernel='linear', C=0.01))\n",
    "])\n",
    "\n",
    "observed_score = do_classification(X, y, pipe, n_splits=10, permute=False).mean()\n",
    "print(observed_score)\n",
    "\n",
    "perm_scores = [do_classification(X, y, pipe, n_splits=10, permute=True).mean() for i in range(1000)]"
   ]
  },
  {
   "cell_type": "code",
   "execution_count": 41,
   "metadata": {},
   "outputs": [
    {
     "data": {
      "text/plain": [
       "0.095200000000000007"
      ]
     },
     "execution_count": 41,
     "metadata": {},
     "output_type": "execute_result"
    }
   ],
   "source": [
    "(observed_score > perm_scores).sum() / 10000"
   ]
  }
 ],
 "metadata": {
  "kernelspec": {
   "display_name": "Python 3",
   "language": "python",
   "name": "python3"
  },
  "language_info": {
   "codemirror_mode": {
    "name": "ipython",
    "version": 3
   },
   "file_extension": ".py",
   "mimetype": "text/x-python",
   "name": "python",
   "nbconvert_exporter": "python",
   "pygments_lexer": "ipython3",
   "version": "3.6.1"
  }
 },
 "nbformat": 4,
 "nbformat_minor": 2
}
