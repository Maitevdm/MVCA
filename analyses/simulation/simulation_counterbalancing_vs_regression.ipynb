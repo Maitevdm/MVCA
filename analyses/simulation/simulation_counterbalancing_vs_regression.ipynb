{
 "cells": [
  {
   "cell_type": "markdown",
   "metadata": {},
   "source": [
    "# Simulation counterbalancing vs. regression\n",
    "To do:\n",
    "- create correlated data (perhaps in separate function?)\n",
    "- "
   ]
  },
  {
   "cell_type": "code",
   "execution_count": 255,
   "metadata": {
    "collapsed": true
   },
   "outputs": [],
   "source": [
    "import numpy as np\n",
    "from sklearn.preprocessing import StandardScaler\n",
    "from sklearn.pipeline import Pipeline\n",
    "from sklearn.svm import SVC\n",
    "from sklearn.model_selection import StratifiedKFold\n",
    "import seaborn as sns\n",
    "import pandas as pd\n",
    "import matplotlib.pyplot as plt\n",
    "from sklearn.feature_selection import f_classif\n",
    "from skbold.preproc import ConfoundRegressor, MajorityUndersampler\n",
    "%matplotlib inline"
   ]
  },
  {
   "cell_type": "code",
   "execution_count": 282,
   "metadata": {},
   "outputs": [
    {
     "name": "stdout",
     "output_type": "stream",
     "text": [
      "Iteration 0\n",
      "Iteration 1\n",
      "Iteration 2\n",
      "Iteration 3\n",
      "Iteration 4\n",
      "0.684\n"
     ]
    }
   ],
   "source": [
    "iters = 5\n",
    "n_samp = 100\n",
    "n_feat = 5\n",
    "n_fold = 10\n",
    "std = 1\n",
    "\n",
    "skf = StratifiedKFold(n_splits=n_fold)\n",
    "\n",
    "results = {'accuracy': np.zeros(iters)}\n",
    "\n",
    "confound_control = 'cb'\n",
    "acc = np.zeros((iters, n_fold))\n",
    "for i in range(iters):\n",
    "    \n",
    "    if i % int(iters / 5) == 0:\n",
    "        print(\"Iteration %i\" % i)\n",
    "\n",
    "    n_half = int(n_samp / 2)\n",
    "    y = np.repeat([0, 1], repeats=n_half)\n",
    "    c = np.roll(y, 10)\n",
    "    \n",
    "    data = np.random.randn(n_samp, n_feat)\n",
    "    #data[c == 1, :] += 1\n",
    "    data[y == 1, :] += 0.5\n",
    "    X = data\n",
    "    \n",
    "    for ii, (train_idx, test_idx) in enumerate(skf.split(X, y)):\n",
    "        \n",
    "        pipeline = [\n",
    "            ('confoundreg', ConfoundRegressor(confound=y, fit_idx=train_idx, cross_validate=False)),\n",
    "            ('scaler', StandardScaler()),\n",
    "            ('svm', SVC(kernel='linear'))\n",
    "        ]\n",
    "        \n",
    "        if confound_control != 'regress':\n",
    "            pipeline.pop(0)\n",
    "        \n",
    "        pipeline = Pipeline(pipeline)\n",
    "        \n",
    "        X_train, X_test = X[train_idx], X[test_idx]\n",
    "        y_train, y_test = y[train_idx], y[test_idx]\n",
    "        \n",
    "        if confound_control == 'cb':\n",
    "            idx = counterbalance(y_train, c[train_idx], verbose=False)\n",
    "            X_train, y_train = X_train[idx], y_train[idx]\n",
    "            \n",
    "        #print(f_classif(X_train, y_train)[0])\n",
    "        pipe.fit(X_train, y_train)\n",
    "        acc[i, ii] = pipe.score(X_test, y_test)\n",
    "    results['accuracy'][i] = acc[i, :].mean()\n",
    "print(np.mean(results['accuracy']))"
   ]
  },
  {
   "cell_type": "code",
   "execution_count": 118,
   "metadata": {
    "collapsed": true
   },
   "outputs": [],
   "source": [
    "def counterbalance(y, c, verbose=False):\n",
    "    \n",
    "    overall_minimum = np.min([np.min(np.bincount(c[y == lab])) for lab in np.unique(y)])\n",
    "    full_idx = np.arange(c.size)\n",
    "    idx = []\n",
    "\n",
    "    for ylab in np.unique(y):\n",
    "    \n",
    "        c_subset = c[y == ylab]\n",
    "        subset_idx = full_idx[y == ylab]\n",
    "    \n",
    "        for clab in np.unique(c_subset):\n",
    "        \n",
    "            clab_subset = subset_idx[c_subset == clab]\n",
    "            sample = np.random.choice(clab_subset, overall_minimum,\n",
    "                                      replace=False)\n",
    "            \n",
    "            idx.append(sample)\n",
    "\n",
    "    new_idx = np.sort(np.concatenate(idx))\n",
    "    if verbose:\n",
    "        print((full_idx.size - new_idx.size) / full_idx.size)\n",
    "    return new_idx"
   ]
  }
 ],
 "metadata": {
  "kernelspec": {
   "display_name": "Python 3",
   "language": "python",
   "name": "python3"
  },
  "language_info": {
   "codemirror_mode": {
    "name": "ipython",
    "version": 3
   },
   "file_extension": ".py",
   "mimetype": "text/x-python",
   "name": "python",
   "nbconvert_exporter": "python",
   "pygments_lexer": "ipython3",
   "version": "3.6.1"
  }
 },
 "nbformat": 4,
 "nbformat_minor": 2
}
